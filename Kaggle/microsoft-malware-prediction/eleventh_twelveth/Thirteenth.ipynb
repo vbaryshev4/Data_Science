{
 "cells": [
  {
   "cell_type": "code",
   "execution_count": 1,
   "metadata": {},
   "outputs": [
    {
     "name": "stderr",
     "output_type": "stream",
     "text": [
      "/anaconda3/lib/python3.6/importlib/_bootstrap.py:219: RuntimeWarning: numpy.dtype size changed, may indicate binary incompatibility. Expected 96, got 88\n",
      "  return f(*args, **kwds)\n"
     ]
    }
   ],
   "source": [
    "import pandas as pd\n",
    "import numpy as np\n",
    "import matplotlib.pyplot as plt\n",
    "import pickle\n",
    "import os.path"
   ]
  },
  {
   "cell_type": "code",
   "execution_count": 2,
   "metadata": {
    "collapsed": true
   },
   "outputs": [],
   "source": [
    "def unpack_pickle(obj_name):\n",
    "    file_path = \"{0}.pkl\".format(obj_name)\n",
    "    n_bytes = 2**31\n",
    "    max_bytes = 2**31 - 1\n",
    "    data = bytearray(n_bytes)\n",
    "    \n",
    "    ## read\n",
    "    bytes_in = bytearray(0)\n",
    "    input_size = os.path.getsize(file_path)\n",
    "    with open(file_path, 'rb') as f_in:\n",
    "        for _ in range(0, input_size, max_bytes):\n",
    "            bytes_in += f_in.read(max_bytes)\n",
    "    loaded_data = pickle.loads(bytes_in)\n",
    "    return loaded_data"
   ]
  },
  {
   "cell_type": "code",
   "execution_count": 3,
   "metadata": {
    "collapsed": true
   },
   "outputs": [],
   "source": [
    "X = unpack_pickle('X')"
   ]
  },
  {
   "cell_type": "code",
   "execution_count": 4,
   "metadata": {
    "collapsed": true
   },
   "outputs": [],
   "source": [
    "y = unpack_pickle('y')"
   ]
  },
  {
   "cell_type": "code",
   "execution_count": 5,
   "metadata": {},
   "outputs": [
    {
     "data": {
      "text/plain": [
       "((7730792, 73), (7730792,))"
      ]
     },
     "execution_count": 5,
     "metadata": {},
     "output_type": "execute_result"
    }
   ],
   "source": [
    "X.shape, y.shape"
   ]
  },
  {
   "cell_type": "code",
   "execution_count": 6,
   "metadata": {
    "collapsed": true
   },
   "outputs": [],
   "source": [
    "subm = pd.read_csv('../sample_submission.csv')"
   ]
  },
  {
   "cell_type": "code",
   "execution_count": 7,
   "metadata": {},
   "outputs": [
    {
     "data": {
      "text/html": [
       "<div>\n",
       "<style scoped>\n",
       "    .dataframe tbody tr th:only-of-type {\n",
       "        vertical-align: middle;\n",
       "    }\n",
       "\n",
       "    .dataframe tbody tr th {\n",
       "        vertical-align: top;\n",
       "    }\n",
       "\n",
       "    .dataframe thead th {\n",
       "        text-align: right;\n",
       "    }\n",
       "</style>\n",
       "<table border=\"1\" class=\"dataframe\">\n",
       "  <thead>\n",
       "    <tr style=\"text-align: right;\">\n",
       "      <th></th>\n",
       "      <th>MachineIdentifier</th>\n",
       "      <th>HasDetections</th>\n",
       "    </tr>\n",
       "  </thead>\n",
       "  <tbody>\n",
       "    <tr>\n",
       "      <th>0</th>\n",
       "      <td>0000010489e3af074adeac69c53e555e</td>\n",
       "      <td>0.5</td>\n",
       "    </tr>\n",
       "    <tr>\n",
       "      <th>1</th>\n",
       "      <td>00000176ac758d54827acd545b6315a5</td>\n",
       "      <td>0.5</td>\n",
       "    </tr>\n",
       "    <tr>\n",
       "      <th>2</th>\n",
       "      <td>0000019dcefc128c2d4387c1273dae1d</td>\n",
       "      <td>0.5</td>\n",
       "    </tr>\n",
       "    <tr>\n",
       "      <th>3</th>\n",
       "      <td>0000055553dc51b1295785415f1a224d</td>\n",
       "      <td>0.5</td>\n",
       "    </tr>\n",
       "    <tr>\n",
       "      <th>4</th>\n",
       "      <td>00000574cefffeca83ec8adf9285b2bf</td>\n",
       "      <td>0.5</td>\n",
       "    </tr>\n",
       "  </tbody>\n",
       "</table>\n",
       "</div>"
      ],
      "text/plain": [
       "                  MachineIdentifier  HasDetections\n",
       "0  0000010489e3af074adeac69c53e555e            0.5\n",
       "1  00000176ac758d54827acd545b6315a5            0.5\n",
       "2  0000019dcefc128c2d4387c1273dae1d            0.5\n",
       "3  0000055553dc51b1295785415f1a224d            0.5\n",
       "4  00000574cefffeca83ec8adf9285b2bf            0.5"
      ]
     },
     "execution_count": 7,
     "metadata": {},
     "output_type": "execute_result"
    }
   ],
   "source": [
    "subm.head()"
   ]
  },
  {
   "cell_type": "code",
   "execution_count": 8,
   "metadata": {
    "collapsed": true
   },
   "outputs": [],
   "source": [
    "test = unpack_pickle('../second_n_third/test')"
   ]
  },
  {
   "cell_type": "code",
   "execution_count": 9,
   "metadata": {},
   "outputs": [
    {
     "data": {
      "text/plain": [
       "((7853253, 73), (7853253, 2))"
      ]
     },
     "execution_count": 9,
     "metadata": {},
     "output_type": "execute_result"
    }
   ],
   "source": [
    "test.shape, subm.shape"
   ]
  },
  {
   "cell_type": "code",
   "execution_count": 10,
   "metadata": {},
   "outputs": [
    {
     "data": {
      "text/plain": [
       "True"
      ]
     },
     "execution_count": 10,
     "metadata": {},
     "output_type": "execute_result"
    }
   ],
   "source": [
    "X.columns.dtype == test.columns.dtype"
   ]
  },
  {
   "cell_type": "code",
   "execution_count": 11,
   "metadata": {},
   "outputs": [
    {
     "data": {
      "text/plain": [
       "['Processor',\n",
       " 'OsPlatformSubRelease',\n",
       " 'SkuEdition',\n",
       " 'Census_PrimaryDiskTypeName',\n",
       " 'Census_PowerPlatformRoleName',\n",
       " 'Census_OSArchitecture',\n",
       " 'Census_OSInstallTypeName',\n",
       " 'Census_OSWUAutoUpdateOptionsName',\n",
       " 'Census_GenuineStateName',\n",
       " 'Census_ActivationChannel',\n",
       " 'EngineVersion_1',\n",
       " 'EngineVersion_2',\n",
       " 'AppVersion_1',\n",
       " 'AppVersion_2',\n",
       " 'AvSigVersion_1',\n",
       " 'Census_OSVersion_1']"
      ]
     },
     "execution_count": 11,
     "metadata": {},
     "output_type": "execute_result"
    }
   ],
   "source": [
    "test.select_dtypes(include='category').columns.tolist()"
   ]
  },
  {
   "cell_type": "code",
   "execution_count": 12,
   "metadata": {
    "collapsed": true
   },
   "outputs": [],
   "source": [
    "dtypes = {}\n",
    "for i in X.columns:\n",
    "    dtypes[i] = str(X[i].dtype)"
   ]
  },
  {
   "cell_type": "code",
   "execution_count": 13,
   "metadata": {},
   "outputs": [
    {
     "data": {
      "text/plain": [
       "{'AVProductStatesIdentifier': 'float32',\n",
       " 'AVProductsInstalled': 'float16',\n",
       " 'AppVersion': 'float64',\n",
       " 'AppVersion_1': 'float64',\n",
       " 'AppVersion_2': 'float64',\n",
       " 'AppVersion_3': 'float64',\n",
       " 'AvSigVersion': 'float64',\n",
       " 'AvSigVersion_1': 'float64',\n",
       " 'AvSigVersion_2': 'float64',\n",
       " 'AvSigVersion_3': 'float64',\n",
       " 'Census_ActivationChannel': 'float64',\n",
       " 'Census_ChassisTypeName': 'float64',\n",
       " 'Census_FirmwareManufacturerIdentifier': 'float16',\n",
       " 'Census_FirmwareVersionIdentifier': 'float32',\n",
       " 'Census_FlightRing': 'float64',\n",
       " 'Census_GenuineStateName': 'float64',\n",
       " 'Census_HasOpticalDiskDrive': 'int8',\n",
       " 'Census_InternalBatteryNumberOfCharges': 'float32',\n",
       " 'Census_InternalBatteryType': 'float64',\n",
       " 'Census_InternalPrimaryDiagonalDisplaySizeInInches': 'float16',\n",
       " 'Census_InternalPrimaryDisplayResolutionHorizontal': 'float16',\n",
       " 'Census_InternalPrimaryDisplayResolutionVertical': 'float16',\n",
       " 'Census_IsAlwaysOnAlwaysConnectedCapable': 'float16',\n",
       " 'Census_IsSecureBootEnabled': 'int8',\n",
       " 'Census_IsTouchEnabled': 'int8',\n",
       " 'Census_MDC2FormFactor': 'float64',\n",
       " 'Census_OEMModelIdentifier': 'float32',\n",
       " 'Census_OEMNameIdentifier': 'float16',\n",
       " 'Census_OSArchitecture': 'float64',\n",
       " 'Census_OSBranch': 'float64',\n",
       " 'Census_OSBuildNumber': 'int16',\n",
       " 'Census_OSBuildRevision': 'int32',\n",
       " 'Census_OSEdition': 'float64',\n",
       " 'Census_OSInstallLanguageIdentifier': 'float16',\n",
       " 'Census_OSInstallTypeName': 'float64',\n",
       " 'Census_OSSkuName': 'float64',\n",
       " 'Census_OSUILocaleIdentifier': 'int16',\n",
       " 'Census_OSVersion': 'float64',\n",
       " 'Census_OSVersion_1': 'float64',\n",
       " 'Census_OSVersion_2': 'float64',\n",
       " 'Census_OSVersion_3': 'float64',\n",
       " 'Census_OSWUAutoUpdateOptionsName': 'float64',\n",
       " 'Census_PowerPlatformRoleName': 'float64',\n",
       " 'Census_PrimaryDiskTotalCapacity': 'float32',\n",
       " 'Census_PrimaryDiskTypeName': 'float64',\n",
       " 'Census_ProcessorCoreCount': 'float16',\n",
       " 'Census_ProcessorManufacturerIdentifier': 'float16',\n",
       " 'Census_ProcessorModelIdentifier': 'float16',\n",
       " 'Census_SystemVolumeTotalCapacity': 'float32',\n",
       " 'Census_TotalPhysicalRAM': 'float32',\n",
       " 'CityIdentifier': 'float32',\n",
       " 'CountryIdentifier': 'int16',\n",
       " 'EngineVersion': 'float64',\n",
       " 'EngineVersion_1': 'float64',\n",
       " 'EngineVersion_2': 'float64',\n",
       " 'EngineVersion_3': 'float64',\n",
       " 'GeoNameIdentifier': 'float16',\n",
       " 'IeVerIdentifier': 'float16',\n",
       " 'IsProtected': 'float16',\n",
       " 'LocaleEnglishNameIdentifier': 'int8',\n",
       " 'OrganizationIdentifier': 'float16',\n",
       " 'OsBuild': 'int16',\n",
       " 'OsBuildLab': 'float64',\n",
       " 'OsBuildLab_1': 'float64',\n",
       " 'OsBuildLab_2': 'float64',\n",
       " 'OsBuildLab_3': 'float64',\n",
       " 'OsPlatformSubRelease': 'float64',\n",
       " 'OsSuite': 'int16',\n",
       " 'Processor': 'float64',\n",
       " 'SkuEdition': 'float64',\n",
       " 'SmartScreen': 'float64',\n",
       " 'Wdft_IsGamer': 'float16',\n",
       " 'Wdft_RegionIdentifier': 'float16'}"
      ]
     },
     "execution_count": 13,
     "metadata": {},
     "output_type": "execute_result"
    }
   ],
   "source": [
    "dtypes"
   ]
  },
  {
   "cell_type": "code",
   "execution_count": 14,
   "metadata": {
    "collapsed": true
   },
   "outputs": [],
   "source": [
    "for i in dtypes:\n",
    "    test[i] = test[i].astype(dtypes[i])"
   ]
  },
  {
   "cell_type": "code",
   "execution_count": 15,
   "metadata": {},
   "outputs": [
    {
     "data": {
      "text/plain": [
       "[]"
      ]
     },
     "execution_count": 15,
     "metadata": {},
     "output_type": "execute_result"
    }
   ],
   "source": [
    "test.select_dtypes(include='category').columns.tolist()"
   ]
  },
  {
   "cell_type": "code",
   "execution_count": 16,
   "metadata": {},
   "outputs": [
    {
     "data": {
      "text/html": [
       "<div>\n",
       "<style scoped>\n",
       "    .dataframe tbody tr th:only-of-type {\n",
       "        vertical-align: middle;\n",
       "    }\n",
       "\n",
       "    .dataframe tbody tr th {\n",
       "        vertical-align: top;\n",
       "    }\n",
       "\n",
       "    .dataframe thead th {\n",
       "        text-align: right;\n",
       "    }\n",
       "</style>\n",
       "<table border=\"1\" class=\"dataframe\">\n",
       "  <thead>\n",
       "    <tr style=\"text-align: right;\">\n",
       "      <th></th>\n",
       "      <th>EngineVersion</th>\n",
       "      <th>AppVersion</th>\n",
       "      <th>AvSigVersion</th>\n",
       "      <th>AVProductStatesIdentifier</th>\n",
       "      <th>AVProductsInstalled</th>\n",
       "      <th>CountryIdentifier</th>\n",
       "      <th>CityIdentifier</th>\n",
       "      <th>OrganizationIdentifier</th>\n",
       "      <th>GeoNameIdentifier</th>\n",
       "      <th>LocaleEnglishNameIdentifier</th>\n",
       "      <th>...</th>\n",
       "      <th>AppVersion_3</th>\n",
       "      <th>AvSigVersion_1</th>\n",
       "      <th>AvSigVersion_2</th>\n",
       "      <th>AvSigVersion_3</th>\n",
       "      <th>OsBuildLab_1</th>\n",
       "      <th>OsBuildLab_2</th>\n",
       "      <th>OsBuildLab_3</th>\n",
       "      <th>Census_OSVersion_1</th>\n",
       "      <th>Census_OSVersion_2</th>\n",
       "      <th>Census_OSVersion_3</th>\n",
       "    </tr>\n",
       "  </thead>\n",
       "  <tbody>\n",
       "    <tr>\n",
       "      <th>0</th>\n",
       "      <td>0.556665</td>\n",
       "      <td>0.536882</td>\n",
       "      <td>0.595976</td>\n",
       "      <td>53447.0</td>\n",
       "      <td>1.0</td>\n",
       "      <td>29</td>\n",
       "      <td>128035.0</td>\n",
       "      <td>18.0</td>\n",
       "      <td>35.0</td>\n",
       "      <td>-85</td>\n",
       "      <td>...</td>\n",
       "      <td>0.536868</td>\n",
       "      <td>0.501162</td>\n",
       "      <td>0.556937</td>\n",
       "      <td>0.595976</td>\n",
       "      <td>0.525496</td>\n",
       "      <td>0.525496</td>\n",
       "      <td>0.534392</td>\n",
       "      <td>0.501158</td>\n",
       "      <td>0.501158</td>\n",
       "      <td>0.526698</td>\n",
       "    </tr>\n",
       "    <tr>\n",
       "      <th>1</th>\n",
       "      <td>0.400884</td>\n",
       "      <td>0.496730</td>\n",
       "      <td>0.409338</td>\n",
       "      <td>53447.0</td>\n",
       "      <td>1.0</td>\n",
       "      <td>93</td>\n",
       "      <td>1482.0</td>\n",
       "      <td>18.0</td>\n",
       "      <td>119.0</td>\n",
       "      <td>64</td>\n",
       "      <td>...</td>\n",
       "      <td>0.451809</td>\n",
       "      <td>0.501162</td>\n",
       "      <td>0.400011</td>\n",
       "      <td>0.409338</td>\n",
       "      <td>0.525496</td>\n",
       "      <td>0.525496</td>\n",
       "      <td>0.534392</td>\n",
       "      <td>0.501158</td>\n",
       "      <td>0.501158</td>\n",
       "      <td>0.526698</td>\n",
       "    </tr>\n",
       "    <tr>\n",
       "      <th>2</th>\n",
       "      <td>0.556665</td>\n",
       "      <td>0.536882</td>\n",
       "      <td>0.532939</td>\n",
       "      <td>53447.0</td>\n",
       "      <td>1.0</td>\n",
       "      <td>86</td>\n",
       "      <td>153579.0</td>\n",
       "      <td>18.0</td>\n",
       "      <td>64.0</td>\n",
       "      <td>49</td>\n",
       "      <td>...</td>\n",
       "      <td>0.536868</td>\n",
       "      <td>0.501162</td>\n",
       "      <td>0.556937</td>\n",
       "      <td>0.532939</td>\n",
       "      <td>0.525496</td>\n",
       "      <td>0.525496</td>\n",
       "      <td>0.534392</td>\n",
       "      <td>0.501158</td>\n",
       "      <td>0.501158</td>\n",
       "      <td>0.526698</td>\n",
       "    </tr>\n",
       "    <tr>\n",
       "      <th>3</th>\n",
       "      <td>0.556665</td>\n",
       "      <td>0.536882</td>\n",
       "      <td>0.701300</td>\n",
       "      <td>53447.0</td>\n",
       "      <td>1.0</td>\n",
       "      <td>88</td>\n",
       "      <td>20710.0</td>\n",
       "      <td>0.0</td>\n",
       "      <td>117.0</td>\n",
       "      <td>115</td>\n",
       "      <td>...</td>\n",
       "      <td>0.536868</td>\n",
       "      <td>0.501162</td>\n",
       "      <td>0.556937</td>\n",
       "      <td>0.701300</td>\n",
       "      <td>0.525496</td>\n",
       "      <td>0.525496</td>\n",
       "      <td>0.534392</td>\n",
       "      <td>0.501158</td>\n",
       "      <td>0.501158</td>\n",
       "      <td>0.526698</td>\n",
       "    </tr>\n",
       "    <tr>\n",
       "      <th>4</th>\n",
       "      <td>0.556665</td>\n",
       "      <td>0.536882</td>\n",
       "      <td>0.526942</td>\n",
       "      <td>53447.0</td>\n",
       "      <td>1.0</td>\n",
       "      <td>18</td>\n",
       "      <td>37376.0</td>\n",
       "      <td>0.0</td>\n",
       "      <td>277.0</td>\n",
       "      <td>75</td>\n",
       "      <td>...</td>\n",
       "      <td>0.536868</td>\n",
       "      <td>0.501162</td>\n",
       "      <td>0.556937</td>\n",
       "      <td>0.526942</td>\n",
       "      <td>0.525496</td>\n",
       "      <td>0.525496</td>\n",
       "      <td>0.534392</td>\n",
       "      <td>0.501158</td>\n",
       "      <td>0.501158</td>\n",
       "      <td>0.526698</td>\n",
       "    </tr>\n",
       "  </tbody>\n",
       "</table>\n",
       "<p>5 rows × 73 columns</p>\n",
       "</div>"
      ],
      "text/plain": [
       "   EngineVersion  AppVersion  AvSigVersion  AVProductStatesIdentifier  \\\n",
       "0       0.556665    0.536882      0.595976                    53447.0   \n",
       "1       0.400884    0.496730      0.409338                    53447.0   \n",
       "2       0.556665    0.536882      0.532939                    53447.0   \n",
       "3       0.556665    0.536882      0.701300                    53447.0   \n",
       "4       0.556665    0.536882      0.526942                    53447.0   \n",
       "\n",
       "   AVProductsInstalled  CountryIdentifier  CityIdentifier  \\\n",
       "0                  1.0                 29        128035.0   \n",
       "1                  1.0                 93          1482.0   \n",
       "2                  1.0                 86        153579.0   \n",
       "3                  1.0                 88         20710.0   \n",
       "4                  1.0                 18         37376.0   \n",
       "\n",
       "   OrganizationIdentifier  GeoNameIdentifier  LocaleEnglishNameIdentifier  \\\n",
       "0                    18.0               35.0                          -85   \n",
       "1                    18.0              119.0                           64   \n",
       "2                    18.0               64.0                           49   \n",
       "3                     0.0              117.0                          115   \n",
       "4                     0.0              277.0                           75   \n",
       "\n",
       "          ...          AppVersion_3  AvSigVersion_1  AvSigVersion_2  \\\n",
       "0         ...              0.536868        0.501162        0.556937   \n",
       "1         ...              0.451809        0.501162        0.400011   \n",
       "2         ...              0.536868        0.501162        0.556937   \n",
       "3         ...              0.536868        0.501162        0.556937   \n",
       "4         ...              0.536868        0.501162        0.556937   \n",
       "\n",
       "   AvSigVersion_3  OsBuildLab_1  OsBuildLab_2  OsBuildLab_3  \\\n",
       "0        0.595976      0.525496      0.525496      0.534392   \n",
       "1        0.409338      0.525496      0.525496      0.534392   \n",
       "2        0.532939      0.525496      0.525496      0.534392   \n",
       "3        0.701300      0.525496      0.525496      0.534392   \n",
       "4        0.526942      0.525496      0.525496      0.534392   \n",
       "\n",
       "   Census_OSVersion_1  Census_OSVersion_2  Census_OSVersion_3  \n",
       "0            0.501158            0.501158            0.526698  \n",
       "1            0.501158            0.501158            0.526698  \n",
       "2            0.501158            0.501158            0.526698  \n",
       "3            0.501158            0.501158            0.526698  \n",
       "4            0.501158            0.501158            0.526698  \n",
       "\n",
       "[5 rows x 73 columns]"
      ]
     },
     "execution_count": 16,
     "metadata": {},
     "output_type": "execute_result"
    }
   ],
   "source": [
    "X.head()"
   ]
  },
  {
   "cell_type": "code",
   "execution_count": 17,
   "metadata": {},
   "outputs": [
    {
     "data": {
      "text/html": [
       "<div>\n",
       "<style scoped>\n",
       "    .dataframe tbody tr th:only-of-type {\n",
       "        vertical-align: middle;\n",
       "    }\n",
       "\n",
       "    .dataframe tbody tr th {\n",
       "        vertical-align: top;\n",
       "    }\n",
       "\n",
       "    .dataframe thead th {\n",
       "        text-align: right;\n",
       "    }\n",
       "</style>\n",
       "<table border=\"1\" class=\"dataframe\">\n",
       "  <thead>\n",
       "    <tr style=\"text-align: right;\">\n",
       "      <th></th>\n",
       "      <th>EngineVersion</th>\n",
       "      <th>AppVersion</th>\n",
       "      <th>AvSigVersion</th>\n",
       "      <th>AVProductStatesIdentifier</th>\n",
       "      <th>AVProductsInstalled</th>\n",
       "      <th>CountryIdentifier</th>\n",
       "      <th>CityIdentifier</th>\n",
       "      <th>OrganizationIdentifier</th>\n",
       "      <th>GeoNameIdentifier</th>\n",
       "      <th>LocaleEnglishNameIdentifier</th>\n",
       "      <th>...</th>\n",
       "      <th>AppVersion_3</th>\n",
       "      <th>AvSigVersion_1</th>\n",
       "      <th>AvSigVersion_2</th>\n",
       "      <th>AvSigVersion_3</th>\n",
       "      <th>OsBuildLab_1</th>\n",
       "      <th>OsBuildLab_2</th>\n",
       "      <th>OsBuildLab_3</th>\n",
       "      <th>Census_OSVersion_1</th>\n",
       "      <th>Census_OSVersion_2</th>\n",
       "      <th>Census_OSVersion_3</th>\n",
       "    </tr>\n",
       "  </thead>\n",
       "  <tbody>\n",
       "    <tr>\n",
       "      <th>0</th>\n",
       "      <td>0.501159</td>\n",
       "      <td>0.501158</td>\n",
       "      <td>0.501165</td>\n",
       "      <td>53447.0</td>\n",
       "      <td>1.0</td>\n",
       "      <td>43</td>\n",
       "      <td>58552.0</td>\n",
       "      <td>18.0</td>\n",
       "      <td>53.0</td>\n",
       "      <td>42</td>\n",
       "      <td>...</td>\n",
       "      <td>0.501158</td>\n",
       "      <td>0.501162</td>\n",
       "      <td>0.501158</td>\n",
       "      <td>0.501165</td>\n",
       "      <td>0.476083</td>\n",
       "      <td>0.476083</td>\n",
       "      <td>0.485338</td>\n",
       "      <td>0.501158</td>\n",
       "      <td>0.501158</td>\n",
       "      <td>0.475981</td>\n",
       "    </tr>\n",
       "    <tr>\n",
       "      <th>1</th>\n",
       "      <td>0.501159</td>\n",
       "      <td>0.500489</td>\n",
       "      <td>0.501165</td>\n",
       "      <td>53447.0</td>\n",
       "      <td>1.0</td>\n",
       "      <td>68</td>\n",
       "      <td>71395.0</td>\n",
       "      <td>0.0</td>\n",
       "      <td>276.0</td>\n",
       "      <td>74</td>\n",
       "      <td>...</td>\n",
       "      <td>0.500489</td>\n",
       "      <td>0.501162</td>\n",
       "      <td>0.501158</td>\n",
       "      <td>0.501165</td>\n",
       "      <td>0.493552</td>\n",
       "      <td>0.520556</td>\n",
       "      <td>0.520578</td>\n",
       "      <td>0.501158</td>\n",
       "      <td>0.501158</td>\n",
       "      <td>0.491390</td>\n",
       "    </tr>\n",
       "    <tr>\n",
       "      <th>2</th>\n",
       "      <td>0.484000</td>\n",
       "      <td>0.500489</td>\n",
       "      <td>0.501165</td>\n",
       "      <td>49480.0</td>\n",
       "      <td>2.0</td>\n",
       "      <td>201</td>\n",
       "      <td>66202.0</td>\n",
       "      <td>0.0</td>\n",
       "      <td>267.0</td>\n",
       "      <td>-5</td>\n",
       "      <td>...</td>\n",
       "      <td>0.500489</td>\n",
       "      <td>0.501162</td>\n",
       "      <td>0.457361</td>\n",
       "      <td>0.501165</td>\n",
       "      <td>0.454793</td>\n",
       "      <td>0.484527</td>\n",
       "      <td>0.505175</td>\n",
       "      <td>0.501158</td>\n",
       "      <td>0.501158</td>\n",
       "      <td>0.455282</td>\n",
       "    </tr>\n",
       "    <tr>\n",
       "      <th>3</th>\n",
       "      <td>0.501159</td>\n",
       "      <td>0.501158</td>\n",
       "      <td>0.501165</td>\n",
       "      <td>42160.0</td>\n",
       "      <td>2.0</td>\n",
       "      <td>29</td>\n",
       "      <td>120917.0</td>\n",
       "      <td>0.0</td>\n",
       "      <td>35.0</td>\n",
       "      <td>-85</td>\n",
       "      <td>...</td>\n",
       "      <td>0.501158</td>\n",
       "      <td>0.501162</td>\n",
       "      <td>0.501158</td>\n",
       "      <td>0.501165</td>\n",
       "      <td>0.493552</td>\n",
       "      <td>0.463794</td>\n",
       "      <td>0.488165</td>\n",
       "      <td>0.501158</td>\n",
       "      <td>0.501158</td>\n",
       "      <td>0.491390</td>\n",
       "    </tr>\n",
       "    <tr>\n",
       "      <th>4</th>\n",
       "      <td>0.501159</td>\n",
       "      <td>0.500489</td>\n",
       "      <td>0.501165</td>\n",
       "      <td>53447.0</td>\n",
       "      <td>1.0</td>\n",
       "      <td>171</td>\n",
       "      <td>124736.0</td>\n",
       "      <td>18.0</td>\n",
       "      <td>211.0</td>\n",
       "      <td>-74</td>\n",
       "      <td>...</td>\n",
       "      <td>0.500489</td>\n",
       "      <td>0.501162</td>\n",
       "      <td>0.501158</td>\n",
       "      <td>0.501165</td>\n",
       "      <td>0.493552</td>\n",
       "      <td>0.463794</td>\n",
       "      <td>0.488165</td>\n",
       "      <td>0.501158</td>\n",
       "      <td>0.501158</td>\n",
       "      <td>0.491390</td>\n",
       "    </tr>\n",
       "  </tbody>\n",
       "</table>\n",
       "<p>5 rows × 73 columns</p>\n",
       "</div>"
      ],
      "text/plain": [
       "   EngineVersion  AppVersion  AvSigVersion  AVProductStatesIdentifier  \\\n",
       "0       0.501159    0.501158      0.501165                    53447.0   \n",
       "1       0.501159    0.500489      0.501165                    53447.0   \n",
       "2       0.484000    0.500489      0.501165                    49480.0   \n",
       "3       0.501159    0.501158      0.501165                    42160.0   \n",
       "4       0.501159    0.500489      0.501165                    53447.0   \n",
       "\n",
       "   AVProductsInstalled  CountryIdentifier  CityIdentifier  \\\n",
       "0                  1.0                 43         58552.0   \n",
       "1                  1.0                 68         71395.0   \n",
       "2                  2.0                201         66202.0   \n",
       "3                  2.0                 29        120917.0   \n",
       "4                  1.0                171        124736.0   \n",
       "\n",
       "   OrganizationIdentifier  GeoNameIdentifier  LocaleEnglishNameIdentifier  \\\n",
       "0                    18.0               53.0                           42   \n",
       "1                     0.0              276.0                           74   \n",
       "2                     0.0              267.0                           -5   \n",
       "3                     0.0               35.0                          -85   \n",
       "4                    18.0              211.0                          -74   \n",
       "\n",
       "          ...          AppVersion_3  AvSigVersion_1  AvSigVersion_2  \\\n",
       "0         ...              0.501158        0.501162        0.501158   \n",
       "1         ...              0.500489        0.501162        0.501158   \n",
       "2         ...              0.500489        0.501162        0.457361   \n",
       "3         ...              0.501158        0.501162        0.501158   \n",
       "4         ...              0.500489        0.501162        0.501158   \n",
       "\n",
       "   AvSigVersion_3  OsBuildLab_1  OsBuildLab_2  OsBuildLab_3  \\\n",
       "0        0.501165      0.476083      0.476083      0.485338   \n",
       "1        0.501165      0.493552      0.520556      0.520578   \n",
       "2        0.501165      0.454793      0.484527      0.505175   \n",
       "3        0.501165      0.493552      0.463794      0.488165   \n",
       "4        0.501165      0.493552      0.463794      0.488165   \n",
       "\n",
       "   Census_OSVersion_1  Census_OSVersion_2  Census_OSVersion_3  \n",
       "0            0.501158            0.501158            0.475981  \n",
       "1            0.501158            0.501158            0.491390  \n",
       "2            0.501158            0.501158            0.455282  \n",
       "3            0.501158            0.501158            0.491390  \n",
       "4            0.501158            0.501158            0.491390  \n",
       "\n",
       "[5 rows x 73 columns]"
      ]
     },
     "execution_count": 17,
     "metadata": {},
     "output_type": "execute_result"
    }
   ],
   "source": [
    "test.head()"
   ]
  },
  {
   "cell_type": "code",
   "execution_count": 18,
   "metadata": {
    "collapsed": true
   },
   "outputs": [],
   "source": [
    "cate_cols = ['CountryIdentifier',\n",
    "           'CityIdentifier',\n",
    "           'OrganizationIdentifier',\n",
    "           'GeoNameIdentifier',\n",
    "           'LocaleEnglishNameIdentifier',\n",
    "          ]"
   ]
  },
  {
   "cell_type": "code",
   "execution_count": 19,
   "metadata": {},
   "outputs": [
    {
     "data": {
      "text/plain": [
       "35"
      ]
     },
     "execution_count": 19,
     "metadata": {},
     "output_type": "execute_result"
    }
   ],
   "source": [
    "import category_encoders as ce\n",
    "import gc\n",
    "gc.enable()\n",
    "encoder = ce.TargetEncoder(cols=cate_cols)\n",
    "encoder.fit(X, y)\n",
    "X = encoder.transform(X)\n",
    "gc.collect()\n",
    "test = encoder.transform(test)\n",
    "gc.collect()"
   ]
  },
  {
   "cell_type": "code",
   "execution_count": 20,
   "metadata": {
    "collapsed": true
   },
   "outputs": [],
   "source": [
    "# #  счетчики со сглаживанием\n",
    "# def counts(column, target, constanta):\n",
    "#     c = constanta\n",
    "#     count = dict()\n",
    "#     for item in (np.unique(column)):\n",
    "#         count[item]=(((column == item) & (target == 1)).sum() + c)/((column == item).sum() + c)\n",
    "#     return count"
   ]
  },
  {
   "cell_type": "code",
   "execution_count": 21,
   "metadata": {
    "collapsed": true
   },
   "outputs": [],
   "source": [
    "# from sklearn.model_selection import StratifiedKFold\n",
    "# import gc\n",
    "# gc.enable()\n",
    "\n",
    "# skf = StratifiedKFold(n_splits=2)\n",
    "# skf.get_n_splits(X, y)\n",
    "\n",
    "# print(skf)  \n",
    "\n",
    "# for cat_col in all_cat:\n",
    "#     for train_index, test_index in skf.split(X, y):\n",
    "#         fold_X, fold_test = X.loc[train_index], X.loc[test_index]\n",
    "#         fold_y, fold_y_test = y.loc[train_index], y.loc[test_index]\n",
    "#         c = counts(fold_X[cat_col], fold_y, 0)\n",
    "#         X.loc[test_index, cat_col + '_counts'] = fold_test[cat_col].map(c).fillna(0)\n",
    "    \n",
    "#     train_c = counts(X[cat_col], y, 0)\n",
    "#     test[cat_col + '_counts'] = test[cat_col].map(train_c).fillna(0)\n",
    "    \n",
    "#     print(cat_col, '\\n')\n",
    "#     gc.collect()\n",
    "\n",
    "# X.drop(all_cat, axis=1, inplace=True)\n",
    "# test.drop(all_cat, axis=1, inplace=True)"
   ]
  },
  {
   "cell_type": "code",
   "execution_count": 22,
   "metadata": {
    "collapsed": true
   },
   "outputs": [],
   "source": [
    "import lightgbm as lgb\n",
    "from sklearn.model_selection import StratifiedKFold"
   ]
  },
  {
   "cell_type": "code",
   "execution_count": 23,
   "metadata": {
    "collapsed": true
   },
   "outputs": [],
   "source": [
    "params = {\n",
    "    'boosting_type': 'gbdt',\n",
    "    'objective': 'binary',\n",
    "    'n_estimators': 4000,\n",
    "    'colsample_bytree': 0.8, \n",
    "    'learning_rate': 0.6000000000000001, \n",
    "    'max_depth': 20,\n",
    "    'metric': 'auc',\n",
    "    'reg_alpha': 0.6000000000000001, \n",
    "    'reg_lambda': 0.5, \n",
    "    'subsample': 0.8\n",
    "}"
   ]
  },
  {
   "cell_type": "code",
   "execution_count": 24,
   "metadata": {
    "collapsed": true
   },
   "outputs": [],
   "source": [
    "sub=subm['MachineIdentifier'].to_frame()\n",
    "sub['HasDetections']=0"
   ]
  },
  {
   "cell_type": "code",
   "execution_count": 25,
   "metadata": {},
   "outputs": [
    {
     "data": {
      "text/html": [
       "<div>\n",
       "<style scoped>\n",
       "    .dataframe tbody tr th:only-of-type {\n",
       "        vertical-align: middle;\n",
       "    }\n",
       "\n",
       "    .dataframe tbody tr th {\n",
       "        vertical-align: top;\n",
       "    }\n",
       "\n",
       "    .dataframe thead th {\n",
       "        text-align: right;\n",
       "    }\n",
       "</style>\n",
       "<table border=\"1\" class=\"dataframe\">\n",
       "  <thead>\n",
       "    <tr style=\"text-align: right;\">\n",
       "      <th></th>\n",
       "      <th>MachineIdentifier</th>\n",
       "      <th>HasDetections</th>\n",
       "    </tr>\n",
       "  </thead>\n",
       "  <tbody>\n",
       "    <tr>\n",
       "      <th>0</th>\n",
       "      <td>0000010489e3af074adeac69c53e555e</td>\n",
       "      <td>0</td>\n",
       "    </tr>\n",
       "    <tr>\n",
       "      <th>1</th>\n",
       "      <td>00000176ac758d54827acd545b6315a5</td>\n",
       "      <td>0</td>\n",
       "    </tr>\n",
       "    <tr>\n",
       "      <th>2</th>\n",
       "      <td>0000019dcefc128c2d4387c1273dae1d</td>\n",
       "      <td>0</td>\n",
       "    </tr>\n",
       "    <tr>\n",
       "      <th>3</th>\n",
       "      <td>0000055553dc51b1295785415f1a224d</td>\n",
       "      <td>0</td>\n",
       "    </tr>\n",
       "    <tr>\n",
       "      <th>4</th>\n",
       "      <td>00000574cefffeca83ec8adf9285b2bf</td>\n",
       "      <td>0</td>\n",
       "    </tr>\n",
       "  </tbody>\n",
       "</table>\n",
       "</div>"
      ],
      "text/plain": [
       "                  MachineIdentifier  HasDetections\n",
       "0  0000010489e3af074adeac69c53e555e              0\n",
       "1  00000176ac758d54827acd545b6315a5              0\n",
       "2  0000019dcefc128c2d4387c1273dae1d              0\n",
       "3  0000055553dc51b1295785415f1a224d              0\n",
       "4  00000574cefffeca83ec8adf9285b2bf              0"
      ]
     },
     "execution_count": 25,
     "metadata": {},
     "output_type": "execute_result"
    }
   ],
   "source": [
    "sub.head()"
   ]
  },
  {
   "cell_type": "code",
   "execution_count": 26,
   "metadata": {
    "collapsed": true
   },
   "outputs": [],
   "source": [
    "kfold = 4"
   ]
  },
  {
   "cell_type": "code",
   "execution_count": 27,
   "metadata": {
    "collapsed": true
   },
   "outputs": [],
   "source": [
    "X = X.values\n",
    "y = y.values"
   ]
  },
  {
   "cell_type": "code",
   "execution_count": 28,
   "metadata": {
    "collapsed": true
   },
   "outputs": [],
   "source": [
    "test = test.values"
   ]
  },
  {
   "cell_type": "code",
   "execution_count": 29,
   "metadata": {},
   "outputs": [
    {
     "data": {
      "text/plain": [
       "28"
      ]
     },
     "execution_count": 29,
     "metadata": {},
     "output_type": "execute_result"
    }
   ],
   "source": [
    "gc.collect()"
   ]
  },
  {
   "cell_type": "code",
   "execution_count": 30,
   "metadata": {
    "scrolled": false
   },
   "outputs": [
    {
     "name": "stdout",
     "output_type": "stream",
     "text": [
      " lgb kfold: 1  of  4 : \n"
     ]
    },
    {
     "name": "stderr",
     "output_type": "stream",
     "text": [
      "/anaconda3/lib/python3.6/site-packages/lightgbm/engine.py:102: UserWarning: Found `n_estimators` in params. Will use it instead of argument\n",
      "  warnings.warn(\"Found `{}` in params. Will use it instead of argument\".format(alias))\n"
     ]
    },
    {
     "name": "stdout",
     "output_type": "stream",
     "text": [
      "Training until validation scores don't improve for 100 rounds.\n",
      "[100]\tvalid_0's auc: 0.733448\n",
      "[200]\tvalid_0's auc: 0.736397\n",
      "[300]\tvalid_0's auc: 0.737723\n",
      "[400]\tvalid_0's auc: 0.738061\n",
      "[500]\tvalid_0's auc: 0.738255\n",
      "[600]\tvalid_0's auc: 0.738282\n",
      "[700]\tvalid_0's auc: 0.738185\n",
      "Early stopping, best iteration is:\n",
      "[641]\tvalid_0's auc: 0.738371\n",
      " lgb kfold: 2  of  4 : \n",
      "Training until validation scores don't improve for 100 rounds.\n",
      "[100]\tvalid_0's auc: 0.733648\n",
      "[200]\tvalid_0's auc: 0.736534\n",
      "[300]\tvalid_0's auc: 0.737436\n",
      "[400]\tvalid_0's auc: 0.73775\n",
      "[500]\tvalid_0's auc: 0.737986\n",
      "Early stopping, best iteration is:\n",
      "[463]\tvalid_0's auc: 0.738094\n",
      " lgb kfold: 3  of  4 : \n",
      "Training until validation scores don't improve for 100 rounds.\n",
      "[100]\tvalid_0's auc: 0.733359\n",
      "[200]\tvalid_0's auc: 0.736245\n",
      "[300]\tvalid_0's auc: 0.737604\n",
      "[400]\tvalid_0's auc: 0.738142\n",
      "[500]\tvalid_0's auc: 0.73825\n",
      "[600]\tvalid_0's auc: 0.738258\n",
      "Early stopping, best iteration is:\n",
      "[538]\tvalid_0's auc: 0.738351\n",
      " lgb kfold: 4  of  4 : \n",
      "Training until validation scores don't improve for 100 rounds.\n",
      "[100]\tvalid_0's auc: 0.733485\n",
      "[200]\tvalid_0's auc: 0.736425\n",
      "[300]\tvalid_0's auc: 0.737861\n",
      "[400]\tvalid_0's auc: 0.738276\n",
      "[500]\tvalid_0's auc: 0.738324\n",
      "[600]\tvalid_0's auc: 0.738253\n",
      "Early stopping, best iteration is:\n",
      "[528]\tvalid_0's auc: 0.738391\n"
     ]
    },
    {
     "data": {
      "text/plain": [
       "87"
      ]
     },
     "execution_count": 30,
     "metadata": {},
     "output_type": "execute_result"
    }
   ],
   "source": [
    "skf = StratifiedKFold(n_splits=kfold, random_state=2200)\n",
    "for i, (train_index, test_index) in enumerate(skf.split(X, y)):\n",
    "    print(' lgb kfold: {}  of  {} : '.format(i+1, kfold))\n",
    "    X_train, X_eval = X[train_index], X[test_index]\n",
    "    y_train, y_eval = y[train_index], y[test_index]\n",
    "    dset = lgb.Dataset(X_train, label=y_train)\n",
    "    dset_eval = lgb.Dataset(X_eval, label=y_eval)\n",
    "    lgb_model = lgb.train(params, dset, 4000, dset_eval,\n",
    "                          verbose_eval=100, early_stopping_rounds=100)\n",
    "    sub['HasDetections'] += lgb_model.predict(test, \n",
    "                        num_iteration=lgb_model.best_iteration) / (kfold)\n",
    "     \n",
    "gc.collect()"
   ]
  },
  {
   "cell_type": "code",
   "execution_count": 31,
   "metadata": {
    "collapsed": true
   },
   "outputs": [],
   "source": [
    "public_subm_nffm = pd.read_csv('nffm_submission.csv')"
   ]
  },
  {
   "cell_type": "code",
   "execution_count": 32,
   "metadata": {
    "collapsed": true
   },
   "outputs": [],
   "source": [
    "from scipy.stats import rankdata"
   ]
  },
  {
   "cell_type": "code",
   "execution_count": 33,
   "metadata": {
    "collapsed": true
   },
   "outputs": [],
   "source": [
    "sub['HasDetections'] = (rankdata(sub['HasDetections'])/len(sub['HasDetections']) + rankdata(public_subm_nffm['HasDetections'])/len(public_subm_nffm['HasDetections'])) / 2"
   ]
  },
  {
   "cell_type": "code",
   "execution_count": 34,
   "metadata": {},
   "outputs": [
    {
     "data": {
      "text/html": [
       "<div>\n",
       "<style scoped>\n",
       "    .dataframe tbody tr th:only-of-type {\n",
       "        vertical-align: middle;\n",
       "    }\n",
       "\n",
       "    .dataframe tbody tr th {\n",
       "        vertical-align: top;\n",
       "    }\n",
       "\n",
       "    .dataframe thead th {\n",
       "        text-align: right;\n",
       "    }\n",
       "</style>\n",
       "<table border=\"1\" class=\"dataframe\">\n",
       "  <thead>\n",
       "    <tr style=\"text-align: right;\">\n",
       "      <th></th>\n",
       "      <th>MachineIdentifier</th>\n",
       "      <th>HasDetections</th>\n",
       "    </tr>\n",
       "  </thead>\n",
       "  <tbody>\n",
       "    <tr>\n",
       "      <th>0</th>\n",
       "      <td>0000010489e3af074adeac69c53e555e</td>\n",
       "      <td>0.633950</td>\n",
       "    </tr>\n",
       "    <tr>\n",
       "      <th>1</th>\n",
       "      <td>00000176ac758d54827acd545b6315a5</td>\n",
       "      <td>0.696380</td>\n",
       "    </tr>\n",
       "    <tr>\n",
       "      <th>2</th>\n",
       "      <td>0000019dcefc128c2d4387c1273dae1d</td>\n",
       "      <td>0.663582</td>\n",
       "    </tr>\n",
       "    <tr>\n",
       "      <th>3</th>\n",
       "      <td>0000055553dc51b1295785415f1a224d</td>\n",
       "      <td>0.311111</td>\n",
       "    </tr>\n",
       "    <tr>\n",
       "      <th>4</th>\n",
       "      <td>00000574cefffeca83ec8adf9285b2bf</td>\n",
       "      <td>0.573779</td>\n",
       "    </tr>\n",
       "  </tbody>\n",
       "</table>\n",
       "</div>"
      ],
      "text/plain": [
       "                  MachineIdentifier  HasDetections\n",
       "0  0000010489e3af074adeac69c53e555e       0.633950\n",
       "1  00000176ac758d54827acd545b6315a5       0.696380\n",
       "2  0000019dcefc128c2d4387c1273dae1d       0.663582\n",
       "3  0000055553dc51b1295785415f1a224d       0.311111\n",
       "4  00000574cefffeca83ec8adf9285b2bf       0.573779"
      ]
     },
     "execution_count": 34,
     "metadata": {},
     "output_type": "execute_result"
    }
   ],
   "source": [
    "sub.head()"
   ]
  },
  {
   "cell_type": "code",
   "execution_count": 35,
   "metadata": {
    "collapsed": true
   },
   "outputs": [],
   "source": [
    "sub.to_csv('Thirteenth_submit.csv', index=False, float_format='%.5f')"
   ]
  },
  {
   "cell_type": "markdown",
   "metadata": {},
   "source": [
    "Thirteenth submit. 1) MEAN OF (corrected): (CV after hyperopt new LGB params (on data with new columns that were multiplied) + with public NFFM 690 score predict), 2) TargetEncode: 'CountryIdentifier', 'CityIdentifier', 'OrganizationIdentifier', 'GeoNameIdentifier', 'LocaleEnglishNameIdentifier'"
   ]
  },
  {
   "cell_type": "code",
   "execution_count": null,
   "metadata": {
    "collapsed": true
   },
   "outputs": [],
   "source": []
  }
 ],
 "metadata": {
  "kernelspec": {
   "display_name": "Python 3",
   "language": "python",
   "name": "python3"
  },
  "language_info": {
   "codemirror_mode": {
    "name": "ipython",
    "version": 3
   },
   "file_extension": ".py",
   "mimetype": "text/x-python",
   "name": "python",
   "nbconvert_exporter": "python",
   "pygments_lexer": "ipython3",
   "version": "3.6.3"
  }
 },
 "nbformat": 4,
 "nbformat_minor": 2
}
