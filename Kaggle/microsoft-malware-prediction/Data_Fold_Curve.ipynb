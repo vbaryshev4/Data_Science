{
 "cells": [
  {
   "cell_type": "code",
   "execution_count": 1,
   "metadata": {},
   "outputs": [
    {
     "name": "stderr",
     "output_type": "stream",
     "text": [
      "/anaconda3/lib/python3.6/importlib/_bootstrap.py:219: RuntimeWarning: numpy.dtype size changed, may indicate binary incompatibility. Expected 96, got 88\n",
      "  return f(*args, **kwds)\n"
     ]
    }
   ],
   "source": [
    "import pandas as pd\n",
    "import numpy as np\n",
    "import matplotlib.pyplot as plt\n",
    "import pickle\n",
    "with open('train.pkl', 'rb') as l:\n",
    "    train = pickle.load(l)"
   ]
  },
  {
   "cell_type": "code",
   "execution_count": 2,
   "metadata": {},
   "outputs": [
    {
     "data": {
      "text/html": [
       "<div>\n",
       "<style scoped>\n",
       "    .dataframe tbody tr th:only-of-type {\n",
       "        vertical-align: middle;\n",
       "    }\n",
       "\n",
       "    .dataframe tbody tr th {\n",
       "        vertical-align: top;\n",
       "    }\n",
       "\n",
       "    .dataframe thead th {\n",
       "        text-align: right;\n",
       "    }\n",
       "</style>\n",
       "<table border=\"1\" class=\"dataframe\">\n",
       "  <thead>\n",
       "    <tr style=\"text-align: right;\">\n",
       "      <th></th>\n",
       "      <th>AppVersion</th>\n",
       "      <th>AvSigVersion</th>\n",
       "      <th>AVProductStatesIdentifier</th>\n",
       "      <th>AVProductsInstalled</th>\n",
       "      <th>CountryIdentifier</th>\n",
       "      <th>CityIdentifier</th>\n",
       "      <th>OrganizationIdentifier</th>\n",
       "      <th>GeoNameIdentifier</th>\n",
       "      <th>LocaleEnglishNameIdentifier</th>\n",
       "      <th>OsSuite</th>\n",
       "      <th>...</th>\n",
       "      <th>Census_ActivationChannel</th>\n",
       "      <th>Census_FlightRing</th>\n",
       "      <th>Census_FirmwareManufacturerIdentifier</th>\n",
       "      <th>Census_FirmwareVersionIdentifier</th>\n",
       "      <th>Census_IsSecureBootEnabled</th>\n",
       "      <th>Census_IsTouchEnabled</th>\n",
       "      <th>Census_IsAlwaysOnAlwaysConnectedCapable</th>\n",
       "      <th>Wdft_IsGamer</th>\n",
       "      <th>Wdft_RegionIdentifier</th>\n",
       "      <th>HasDetections</th>\n",
       "    </tr>\n",
       "  </thead>\n",
       "  <tbody>\n",
       "    <tr>\n",
       "      <th>0</th>\n",
       "      <td>59</td>\n",
       "      <td>7757</td>\n",
       "      <td>53447.0</td>\n",
       "      <td>1.0</td>\n",
       "      <td>29</td>\n",
       "      <td>128035.0</td>\n",
       "      <td>18.0</td>\n",
       "      <td>35.0</td>\n",
       "      <td>-85</td>\n",
       "      <td>256</td>\n",
       "      <td>...</td>\n",
       "      <td>2</td>\n",
       "      <td>5</td>\n",
       "      <td>628.0</td>\n",
       "      <td>36144.0</td>\n",
       "      <td>0</td>\n",
       "      <td>0</td>\n",
       "      <td>0.0</td>\n",
       "      <td>0.0</td>\n",
       "      <td>10.0</td>\n",
       "      <td>0</td>\n",
       "    </tr>\n",
       "    <tr>\n",
       "      <th>1</th>\n",
       "      <td>26</td>\n",
       "      <td>6260</td>\n",
       "      <td>53447.0</td>\n",
       "      <td>1.0</td>\n",
       "      <td>93</td>\n",
       "      <td>1482.0</td>\n",
       "      <td>18.0</td>\n",
       "      <td>119.0</td>\n",
       "      <td>64</td>\n",
       "      <td>256</td>\n",
       "      <td>...</td>\n",
       "      <td>2</td>\n",
       "      <td>2</td>\n",
       "      <td>628.0</td>\n",
       "      <td>57858.0</td>\n",
       "      <td>0</td>\n",
       "      <td>0</td>\n",
       "      <td>0.0</td>\n",
       "      <td>0.0</td>\n",
       "      <td>8.0</td>\n",
       "      <td>0</td>\n",
       "    </tr>\n",
       "    <tr>\n",
       "      <th>2</th>\n",
       "      <td>59</td>\n",
       "      <td>7628</td>\n",
       "      <td>53447.0</td>\n",
       "      <td>1.0</td>\n",
       "      <td>86</td>\n",
       "      <td>153579.0</td>\n",
       "      <td>18.0</td>\n",
       "      <td>64.0</td>\n",
       "      <td>49</td>\n",
       "      <td>768</td>\n",
       "      <td>...</td>\n",
       "      <td>1</td>\n",
       "      <td>5</td>\n",
       "      <td>142.0</td>\n",
       "      <td>52682.0</td>\n",
       "      <td>0</td>\n",
       "      <td>0</td>\n",
       "      <td>0.0</td>\n",
       "      <td>0.0</td>\n",
       "      <td>3.0</td>\n",
       "      <td>0</td>\n",
       "    </tr>\n",
       "    <tr>\n",
       "      <th>3</th>\n",
       "      <td>59</td>\n",
       "      <td>7679</td>\n",
       "      <td>53447.0</td>\n",
       "      <td>1.0</td>\n",
       "      <td>88</td>\n",
       "      <td>20710.0</td>\n",
       "      <td>0.0</td>\n",
       "      <td>117.0</td>\n",
       "      <td>115</td>\n",
       "      <td>256</td>\n",
       "      <td>...</td>\n",
       "      <td>1</td>\n",
       "      <td>5</td>\n",
       "      <td>355.0</td>\n",
       "      <td>20050.0</td>\n",
       "      <td>0</td>\n",
       "      <td>0</td>\n",
       "      <td>0.0</td>\n",
       "      <td>0.0</td>\n",
       "      <td>3.0</td>\n",
       "      <td>1</td>\n",
       "    </tr>\n",
       "    <tr>\n",
       "      <th>4</th>\n",
       "      <td>59</td>\n",
       "      <td>7638</td>\n",
       "      <td>53447.0</td>\n",
       "      <td>1.0</td>\n",
       "      <td>18</td>\n",
       "      <td>37376.0</td>\n",
       "      <td>0.0</td>\n",
       "      <td>277.0</td>\n",
       "      <td>75</td>\n",
       "      <td>768</td>\n",
       "      <td>...</td>\n",
       "      <td>2</td>\n",
       "      <td>5</td>\n",
       "      <td>355.0</td>\n",
       "      <td>19844.0</td>\n",
       "      <td>0</td>\n",
       "      <td>0</td>\n",
       "      <td>0.0</td>\n",
       "      <td>0.0</td>\n",
       "      <td>1.0</td>\n",
       "      <td>1</td>\n",
       "    </tr>\n",
       "  </tbody>\n",
       "</table>\n",
       "<p>5 rows × 49 columns</p>\n",
       "</div>"
      ],
      "text/plain": [
       "   AppVersion  AvSigVersion  AVProductStatesIdentifier  AVProductsInstalled  \\\n",
       "0          59          7757                    53447.0                  1.0   \n",
       "1          26          6260                    53447.0                  1.0   \n",
       "2          59          7628                    53447.0                  1.0   \n",
       "3          59          7679                    53447.0                  1.0   \n",
       "4          59          7638                    53447.0                  1.0   \n",
       "\n",
       "   CountryIdentifier  CityIdentifier  OrganizationIdentifier  \\\n",
       "0                 29        128035.0                    18.0   \n",
       "1                 93          1482.0                    18.0   \n",
       "2                 86        153579.0                    18.0   \n",
       "3                 88         20710.0                     0.0   \n",
       "4                 18         37376.0                     0.0   \n",
       "\n",
       "   GeoNameIdentifier  LocaleEnglishNameIdentifier  OsSuite      ...        \\\n",
       "0               35.0                          -85      256      ...         \n",
       "1              119.0                           64      256      ...         \n",
       "2               64.0                           49      768      ...         \n",
       "3              117.0                          115      256      ...         \n",
       "4              277.0                           75      768      ...         \n",
       "\n",
       "   Census_ActivationChannel  Census_FlightRing  \\\n",
       "0                         2                  5   \n",
       "1                         2                  2   \n",
       "2                         1                  5   \n",
       "3                         1                  5   \n",
       "4                         2                  5   \n",
       "\n",
       "   Census_FirmwareManufacturerIdentifier  Census_FirmwareVersionIdentifier  \\\n",
       "0                                  628.0                           36144.0   \n",
       "1                                  628.0                           57858.0   \n",
       "2                                  142.0                           52682.0   \n",
       "3                                  355.0                           20050.0   \n",
       "4                                  355.0                           19844.0   \n",
       "\n",
       "   Census_IsSecureBootEnabled  Census_IsTouchEnabled  \\\n",
       "0                           0                      0   \n",
       "1                           0                      0   \n",
       "2                           0                      0   \n",
       "3                           0                      0   \n",
       "4                           0                      0   \n",
       "\n",
       "   Census_IsAlwaysOnAlwaysConnectedCapable  Wdft_IsGamer  \\\n",
       "0                                      0.0           0.0   \n",
       "1                                      0.0           0.0   \n",
       "2                                      0.0           0.0   \n",
       "3                                      0.0           0.0   \n",
       "4                                      0.0           0.0   \n",
       "\n",
       "   Wdft_RegionIdentifier  HasDetections  \n",
       "0                   10.0              0  \n",
       "1                    8.0              0  \n",
       "2                    3.0              0  \n",
       "3                    3.0              1  \n",
       "4                    1.0              1  \n",
       "\n",
       "[5 rows x 49 columns]"
      ]
     },
     "execution_count": 2,
     "metadata": {},
     "output_type": "execute_result"
    }
   ],
   "source": [
    "train.head()"
   ]
  },
  {
   "cell_type": "code",
   "execution_count": 3,
   "metadata": {},
   "outputs": [
    {
     "data": {
      "text/plain": [
       "0.75"
      ]
     },
     "execution_count": 3,
     "metadata": {},
     "output_type": "execute_result"
    }
   ],
   "source": [
    "from sklearn.metrics import roc_auc_score\n",
    "y_true = np.array([0, 0, 1, 1])\n",
    "y_scores = np.array([0.1, 0.4, 0.35, 0.8])\n",
    "roc_auc_score(y_true, y_scores)"
   ]
  },
  {
   "cell_type": "code",
   "execution_count": 4,
   "metadata": {
    "collapsed": true
   },
   "outputs": [],
   "source": [
    "import lightgbm as lgb"
   ]
  },
  {
   "cell_type": "code",
   "execution_count": 5,
   "metadata": {
    "collapsed": true
   },
   "outputs": [],
   "source": [
    "from sklearn.utils import shuffle\n",
    "train = shuffle(train)"
   ]
  },
  {
   "cell_type": "code",
   "execution_count": 6,
   "metadata": {
    "collapsed": true
   },
   "outputs": [],
   "source": [
    "from sklearn.model_selection import train_test_split"
   ]
  },
  {
   "cell_type": "code",
   "execution_count": 7,
   "metadata": {
    "collapsed": true
   },
   "outputs": [],
   "source": [
    "def get_baseline(x_train, x_test, y_train, y_test):\n",
    "    gbm = lgb.LGBMClassifier(metric='binary_logloss', silent=True, n_jobs=4)\n",
    "    gbm.fit(x_train, y_train)\n",
    "    score = roc_auc_score(y_test.values, gbm.predict_proba(x_test)[:,1])\n",
    "    return score"
   ]
  },
  {
   "cell_type": "code",
   "execution_count": 8,
   "metadata": {
    "scrolled": true
   },
   "outputs": [
    {
     "data": {
      "application/vnd.jupyter.widget-view+json": {
       "model_id": "7ead3f3613614284b937d1b9c7264d9e",
       "version_major": 2,
       "version_minor": 0
      },
      "text/plain": [
       "A Jupyter Widget"
      ]
     },
     "metadata": {},
     "output_type": "display_data"
    },
    {
     "name": "stdout",
     "output_type": "stream",
     "text": [
      "1 0.7148479871343499 \n",
      "\n",
      "2 0.7158991070901644 \n",
      "\n",
      "3 0.7157535649260136 \n",
      "\n",
      "4 0.7157298159455907 \n",
      "\n",
      "5 0.7157617945063127 \n",
      "\n",
      "6 0.7155827056366297 \n",
      "\n",
      "7 0.7157993959986646 \n",
      "\n",
      "8 0.7157331198382777 \n",
      "\n",
      "9 0.7159258336318978 \n",
      "\n",
      "10 0.7158610188715997 \n",
      "\n",
      "\n"
     ]
    }
   ],
   "source": [
    "from tqdm import tqdm_notebook as tqdm\n",
    "results = []\n",
    "X, y = train.loc[:, train.columns != 'HasDetections'], train['HasDetections']\n",
    "X_test = X[:773079]\n",
    "y_test = y[:773079]\n",
    "X = X[773079:]\n",
    "y = y[773079:]\n",
    "for i in tqdm(range(1, 11)):\n",
    "    r = get_baseline(X[:i*695771], X_test, y[:i*695771], y_test)\n",
    "    print(i, r, '\\n')\n",
    "    results.append(r)"
   ]
  },
  {
   "cell_type": "code",
   "execution_count": 9,
   "metadata": {},
   "outputs": [
    {
     "data": {
      "image/png": "[encoded data removed]",
      "text/plain": [
       "<matplotlib.figure.Figure at 0x12f0b7c18>"
      ]
     },
     "metadata": {},
     "output_type": "display_data"
    }
   ],
   "source": [
    "import matplotlib\n",
    "import matplotlib.pyplot as plt\n",
    "import numpy as np\n",
    "\n",
    "\n",
    "fig, ax = plt.subplots()\n",
    "ax.plot(results)\n",
    "\n",
    "ax.set(xlabel='Data folds', ylabel='Score',\n",
    "       title='MS Malware')\n",
    "\n",
    "ax.grid()\n",
    "plt.show()"
   ]
  },
  {
   "cell_type": "code",
   "execution_count": null,
   "metadata": {
    "collapsed": true
   },
   "outputs": [],
   "source": []
  }
 ],
 "metadata": {
  "kernelspec": {
   "display_name": "Python 3",
   "language": "python",
   "name": "python3"
  },
  "language_info": {
   "codemirror_mode": {
    "name": "ipython",
    "version": 3
   },
   "file_extension": ".py",
   "mimetype": "text/x-python",
   "name": "python",
   "nbconvert_exporter": "python",
   "pygments_lexer": "ipython3",
   "version": "3.6.3"
  }
 },
 "nbformat": 4,
 "nbformat_minor": 2
}
