{
 "cells": [
  {
   "cell_type": "code",
   "execution_count": 1,
   "metadata": {},
   "outputs": [
    {
     "name": "stderr",
     "output_type": "stream",
     "text": [
      "/anaconda3/lib/python3.6/importlib/_bootstrap.py:219: RuntimeWarning: numpy.dtype size changed, may indicate binary incompatibility. Expected 96, got 88\n",
      "  return f(*args, **kwds)\n"
     ]
    }
   ],
   "source": [
    "import pandas as pd\n",
    "import numpy as np\n",
    "import matplotlib.pyplot as plt\n",
    "import pickle\n",
    "import os.path"
   ]
  },
  {
   "cell_type": "code",
   "execution_count": 2,
   "metadata": {
    "collapsed": true
   },
   "outputs": [],
   "source": [
    "def unpack_pickle(obj_name):\n",
    "    file_path = \"{0}.pkl\".format(obj_name)\n",
    "    n_bytes = 2**31\n",
    "    max_bytes = 2**31 - 1\n",
    "    data = bytearray(n_bytes)\n",
    "    \n",
    "    ## read\n",
    "    bytes_in = bytearray(0)\n",
    "    input_size = os.path.getsize(file_path)\n",
    "    with open(file_path, 'rb') as f_in:\n",
    "        for _ in range(0, input_size, max_bytes):\n",
    "            bytes_in += f_in.read(max_bytes)\n",
    "    loaded_data = pickle.loads(bytes_in)\n",
    "    return loaded_data"
   ]
  },
  {
   "cell_type": "code",
   "execution_count": 3,
   "metadata": {
    "collapsed": true
   },
   "outputs": [],
   "source": [
    "X = unpack_pickle('X')"
   ]
  },
  {
   "cell_type": "code",
   "execution_count": 4,
   "metadata": {
    "collapsed": true
   },
   "outputs": [],
   "source": [
    "y = unpack_pickle('y')"
   ]
  },
  {
   "cell_type": "code",
   "execution_count": 5,
   "metadata": {},
   "outputs": [
    {
     "data": {
      "text/plain": [
       "((7730792, 73), (7730792,))"
      ]
     },
     "execution_count": 5,
     "metadata": {},
     "output_type": "execute_result"
    }
   ],
   "source": [
    "X.shape, y.shape"
   ]
  },
  {
   "cell_type": "code",
   "execution_count": 6,
   "metadata": {
    "collapsed": true
   },
   "outputs": [],
   "source": [
    "subm = pd.read_csv('../sample_submission.csv')"
   ]
  },
  {
   "cell_type": "code",
   "execution_count": 7,
   "metadata": {},
   "outputs": [
    {
     "data": {
      "text/html": [
       "<div>\n",
       "<style scoped>\n",
       "    .dataframe tbody tr th:only-of-type {\n",
       "        vertical-align: middle;\n",
       "    }\n",
       "\n",
       "    .dataframe tbody tr th {\n",
       "        vertical-align: top;\n",
       "    }\n",
       "\n",
       "    .dataframe thead th {\n",
       "        text-align: right;\n",
       "    }\n",
       "</style>\n",
       "<table border=\"1\" class=\"dataframe\">\n",
       "  <thead>\n",
       "    <tr style=\"text-align: right;\">\n",
       "      <th></th>\n",
       "      <th>MachineIdentifier</th>\n",
       "      <th>HasDetections</th>\n",
       "    </tr>\n",
       "  </thead>\n",
       "  <tbody>\n",
       "    <tr>\n",
       "      <th>0</th>\n",
       "      <td>0000010489e3af074adeac69c53e555e</td>\n",
       "      <td>0.5</td>\n",
       "    </tr>\n",
       "    <tr>\n",
       "      <th>1</th>\n",
       "      <td>00000176ac758d54827acd545b6315a5</td>\n",
       "      <td>0.5</td>\n",
       "    </tr>\n",
       "    <tr>\n",
       "      <th>2</th>\n",
       "      <td>0000019dcefc128c2d4387c1273dae1d</td>\n",
       "      <td>0.5</td>\n",
       "    </tr>\n",
       "    <tr>\n",
       "      <th>3</th>\n",
       "      <td>0000055553dc51b1295785415f1a224d</td>\n",
       "      <td>0.5</td>\n",
       "    </tr>\n",
       "    <tr>\n",
       "      <th>4</th>\n",
       "      <td>00000574cefffeca83ec8adf9285b2bf</td>\n",
       "      <td>0.5</td>\n",
       "    </tr>\n",
       "  </tbody>\n",
       "</table>\n",
       "</div>"
      ],
      "text/plain": [
       "                  MachineIdentifier  HasDetections\n",
       "0  0000010489e3af074adeac69c53e555e            0.5\n",
       "1  00000176ac758d54827acd545b6315a5            0.5\n",
       "2  0000019dcefc128c2d4387c1273dae1d            0.5\n",
       "3  0000055553dc51b1295785415f1a224d            0.5\n",
       "4  00000574cefffeca83ec8adf9285b2bf            0.5"
      ]
     },
     "execution_count": 7,
     "metadata": {},
     "output_type": "execute_result"
    }
   ],
   "source": [
    "subm.head()"
   ]
  },
  {
   "cell_type": "code",
   "execution_count": 8,
   "metadata": {
    "collapsed": true
   },
   "outputs": [],
   "source": [
    "test = unpack_pickle('test')"
   ]
  },
  {
   "cell_type": "code",
   "execution_count": 9,
   "metadata": {},
   "outputs": [
    {
     "data": {
      "text/plain": [
       "((7853253, 73), (7853253, 2))"
      ]
     },
     "execution_count": 9,
     "metadata": {},
     "output_type": "execute_result"
    }
   ],
   "source": [
    "test.shape, subm.shape"
   ]
  },
  {
   "cell_type": "code",
   "execution_count": 10,
   "metadata": {},
   "outputs": [
    {
     "data": {
      "text/plain": [
       "True"
      ]
     },
     "execution_count": 10,
     "metadata": {},
     "output_type": "execute_result"
    }
   ],
   "source": [
    "X.columns.dtype == test.columns.dtype"
   ]
  },
  {
   "cell_type": "code",
   "execution_count": 11,
   "metadata": {},
   "outputs": [
    {
     "data": {
      "text/plain": [
       "['Processor',\n",
       " 'OsPlatformSubRelease',\n",
       " 'SkuEdition',\n",
       " 'Census_PrimaryDiskTypeName',\n",
       " 'Census_PowerPlatformRoleName',\n",
       " 'Census_OSArchitecture',\n",
       " 'Census_OSInstallTypeName',\n",
       " 'Census_OSWUAutoUpdateOptionsName',\n",
       " 'Census_GenuineStateName',\n",
       " 'Census_ActivationChannel',\n",
       " 'EngineVersion_1',\n",
       " 'EngineVersion_2',\n",
       " 'AppVersion_1',\n",
       " 'AppVersion_2',\n",
       " 'AvSigVersion_1',\n",
       " 'Census_OSVersion_1']"
      ]
     },
     "execution_count": 11,
     "metadata": {},
     "output_type": "execute_result"
    }
   ],
   "source": [
    "test.select_dtypes(include='category').columns.tolist()"
   ]
  },
  {
   "cell_type": "code",
   "execution_count": 12,
   "metadata": {
    "collapsed": true
   },
   "outputs": [],
   "source": [
    "dtypes = {}\n",
    "for i in X.columns:\n",
    "    dtypes[i] = str(X[i].dtype)"
   ]
  },
  {
   "cell_type": "code",
   "execution_count": 13,
   "metadata": {},
   "outputs": [
    {
     "data": {
      "text/plain": [
       "{'AVProductStatesIdentifier': 'float32',\n",
       " 'AVProductsInstalled': 'float16',\n",
       " 'AppVersion': 'float64',\n",
       " 'AppVersion_1': 'float64',\n",
       " 'AppVersion_2': 'float64',\n",
       " 'AppVersion_3': 'float64',\n",
       " 'AvSigVersion': 'float64',\n",
       " 'AvSigVersion_1': 'float64',\n",
       " 'AvSigVersion_2': 'float64',\n",
       " 'AvSigVersion_3': 'float64',\n",
       " 'Census_ActivationChannel': 'float64',\n",
       " 'Census_ChassisTypeName': 'float64',\n",
       " 'Census_FirmwareManufacturerIdentifier': 'float16',\n",
       " 'Census_FirmwareVersionIdentifier': 'float32',\n",
       " 'Census_FlightRing': 'float64',\n",
       " 'Census_GenuineStateName': 'float64',\n",
       " 'Census_HasOpticalDiskDrive': 'int8',\n",
       " 'Census_InternalBatteryNumberOfCharges': 'float32',\n",
       " 'Census_InternalBatteryType': 'float64',\n",
       " 'Census_InternalPrimaryDiagonalDisplaySizeInInches': 'float16',\n",
       " 'Census_InternalPrimaryDisplayResolutionHorizontal': 'float16',\n",
       " 'Census_InternalPrimaryDisplayResolutionVertical': 'float16',\n",
       " 'Census_IsAlwaysOnAlwaysConnectedCapable': 'float16',\n",
       " 'Census_IsSecureBootEnabled': 'int8',\n",
       " 'Census_IsTouchEnabled': 'int8',\n",
       " 'Census_MDC2FormFactor': 'float64',\n",
       " 'Census_OEMModelIdentifier': 'float32',\n",
       " 'Census_OEMNameIdentifier': 'float16',\n",
       " 'Census_OSArchitecture': 'float64',\n",
       " 'Census_OSBranch': 'float64',\n",
       " 'Census_OSBuildNumber': 'int16',\n",
       " 'Census_OSBuildRevision': 'int32',\n",
       " 'Census_OSEdition': 'float64',\n",
       " 'Census_OSInstallLanguageIdentifier': 'float16',\n",
       " 'Census_OSInstallTypeName': 'float64',\n",
       " 'Census_OSSkuName': 'float64',\n",
       " 'Census_OSUILocaleIdentifier': 'int16',\n",
       " 'Census_OSVersion': 'float64',\n",
       " 'Census_OSVersion_1': 'float64',\n",
       " 'Census_OSVersion_2': 'float64',\n",
       " 'Census_OSVersion_3': 'float64',\n",
       " 'Census_OSWUAutoUpdateOptionsName': 'float64',\n",
       " 'Census_PowerPlatformRoleName': 'float64',\n",
       " 'Census_PrimaryDiskTotalCapacity': 'float32',\n",
       " 'Census_PrimaryDiskTypeName': 'float64',\n",
       " 'Census_ProcessorCoreCount': 'float16',\n",
       " 'Census_ProcessorManufacturerIdentifier': 'float16',\n",
       " 'Census_ProcessorModelIdentifier': 'float16',\n",
       " 'Census_SystemVolumeTotalCapacity': 'float32',\n",
       " 'Census_TotalPhysicalRAM': 'float32',\n",
       " 'CityIdentifier': 'float32',\n",
       " 'CountryIdentifier': 'int16',\n",
       " 'EngineVersion': 'float64',\n",
       " 'EngineVersion_1': 'float64',\n",
       " 'EngineVersion_2': 'float64',\n",
       " 'EngineVersion_3': 'float64',\n",
       " 'GeoNameIdentifier': 'float16',\n",
       " 'IeVerIdentifier': 'float16',\n",
       " 'IsProtected': 'float16',\n",
       " 'LocaleEnglishNameIdentifier': 'int8',\n",
       " 'OrganizationIdentifier': 'float16',\n",
       " 'OsBuild': 'int16',\n",
       " 'OsBuildLab': 'float64',\n",
       " 'OsBuildLab_1': 'float64',\n",
       " 'OsBuildLab_2': 'float64',\n",
       " 'OsBuildLab_3': 'float64',\n",
       " 'OsPlatformSubRelease': 'float64',\n",
       " 'OsSuite': 'int16',\n",
       " 'Processor': 'float64',\n",
       " 'SkuEdition': 'float64',\n",
       " 'SmartScreen': 'float64',\n",
       " 'Wdft_IsGamer': 'float16',\n",
       " 'Wdft_RegionIdentifier': 'float16'}"
      ]
     },
     "execution_count": 13,
     "metadata": {},
     "output_type": "execute_result"
    }
   ],
   "source": [
    "dtypes"
   ]
  },
  {
   "cell_type": "code",
   "execution_count": 14,
   "metadata": {
    "collapsed": true
   },
   "outputs": [],
   "source": [
    "for i in dtypes:\n",
    "    test[i] = test[i].astype(dtypes[i])"
   ]
  },
  {
   "cell_type": "code",
   "execution_count": 15,
   "metadata": {},
   "outputs": [
    {
     "data": {
      "text/plain": [
       "[]"
      ]
     },
     "execution_count": 15,
     "metadata": {},
     "output_type": "execute_result"
    }
   ],
   "source": [
    "test.select_dtypes(include='category').columns.tolist()"
   ]
  },
  {
   "cell_type": "code",
   "execution_count": 16,
   "metadata": {
    "collapsed": true
   },
   "outputs": [],
   "source": [
    "import lightgbm as lgb\n",
    "from sklearn.model_selection import StratifiedKFold\n",
    "import gc\n",
    "gc.enable()"
   ]
  },
  {
   "cell_type": "code",
   "execution_count": 17,
   "metadata": {
    "collapsed": true
   },
   "outputs": [],
   "source": [
    "params = {\n",
    "    'boosting_type': 'gbdt',\n",
    "    'class_weight': None,\n",
    "    'colsample_bytree': 0.9,\n",
    "    'learning_rate': 0.1,\n",
    "    'max_depth': 40,\n",
    "    'metric': 'auc',\n",
    "    'min_child_samples': 20,\n",
    "    'min_child_weight': 0.001,\n",
    "    'min_split_gain': 0.0,\n",
    "    'n_estimators': 4000,\n",
    "    'n_jobs': 4,\n",
    "    'num_leaves': 31, \n",
    "    'objective': 'binary',\n",
    "    'random_state': None,\n",
    "    'reg_alpha': 0.1,\n",
    "    'reg_lambda': 5,\n",
    "    'silent': False,\n",
    "    'subsample': 0.7,\n",
    "    'subsample_for_bin': 200000,\n",
    "    'subsample_freq': 0\n",
    "}"
   ]
  },
  {
   "cell_type": "code",
   "execution_count": 18,
   "metadata": {
    "collapsed": true
   },
   "outputs": [],
   "source": [
    "sub=subm['MachineIdentifier'].to_frame()\n",
    "sub['HasDetections']=0"
   ]
  },
  {
   "cell_type": "code",
   "execution_count": 19,
   "metadata": {},
   "outputs": [
    {
     "data": {
      "text/html": [
       "<div>\n",
       "<style scoped>\n",
       "    .dataframe tbody tr th:only-of-type {\n",
       "        vertical-align: middle;\n",
       "    }\n",
       "\n",
       "    .dataframe tbody tr th {\n",
       "        vertical-align: top;\n",
       "    }\n",
       "\n",
       "    .dataframe thead th {\n",
       "        text-align: right;\n",
       "    }\n",
       "</style>\n",
       "<table border=\"1\" class=\"dataframe\">\n",
       "  <thead>\n",
       "    <tr style=\"text-align: right;\">\n",
       "      <th></th>\n",
       "      <th>MachineIdentifier</th>\n",
       "      <th>HasDetections</th>\n",
       "    </tr>\n",
       "  </thead>\n",
       "  <tbody>\n",
       "    <tr>\n",
       "      <th>0</th>\n",
       "      <td>0000010489e3af074adeac69c53e555e</td>\n",
       "      <td>0</td>\n",
       "    </tr>\n",
       "    <tr>\n",
       "      <th>1</th>\n",
       "      <td>00000176ac758d54827acd545b6315a5</td>\n",
       "      <td>0</td>\n",
       "    </tr>\n",
       "    <tr>\n",
       "      <th>2</th>\n",
       "      <td>0000019dcefc128c2d4387c1273dae1d</td>\n",
       "      <td>0</td>\n",
       "    </tr>\n",
       "    <tr>\n",
       "      <th>3</th>\n",
       "      <td>0000055553dc51b1295785415f1a224d</td>\n",
       "      <td>0</td>\n",
       "    </tr>\n",
       "    <tr>\n",
       "      <th>4</th>\n",
       "      <td>00000574cefffeca83ec8adf9285b2bf</td>\n",
       "      <td>0</td>\n",
       "    </tr>\n",
       "  </tbody>\n",
       "</table>\n",
       "</div>"
      ],
      "text/plain": [
       "                  MachineIdentifier  HasDetections\n",
       "0  0000010489e3af074adeac69c53e555e              0\n",
       "1  00000176ac758d54827acd545b6315a5              0\n",
       "2  0000019dcefc128c2d4387c1273dae1d              0\n",
       "3  0000055553dc51b1295785415f1a224d              0\n",
       "4  00000574cefffeca83ec8adf9285b2bf              0"
      ]
     },
     "execution_count": 19,
     "metadata": {},
     "output_type": "execute_result"
    }
   ],
   "source": [
    "sub.head()"
   ]
  },
  {
   "cell_type": "code",
   "execution_count": 20,
   "metadata": {
    "collapsed": true
   },
   "outputs": [],
   "source": [
    "kfold = 5"
   ]
  },
  {
   "cell_type": "code",
   "execution_count": 21,
   "metadata": {
    "collapsed": true
   },
   "outputs": [],
   "source": [
    "X = X.values\n",
    "y = y.values"
   ]
  },
  {
   "cell_type": "code",
   "execution_count": 22,
   "metadata": {
    "collapsed": true
   },
   "outputs": [],
   "source": [
    "test = test.values"
   ]
  },
  {
   "cell_type": "code",
   "execution_count": 23,
   "metadata": {},
   "outputs": [
    {
     "data": {
      "text/plain": [
       "21"
      ]
     },
     "execution_count": 23,
     "metadata": {},
     "output_type": "execute_result"
    }
   ],
   "source": [
    "gc.collect()"
   ]
  },
  {
   "cell_type": "code",
   "execution_count": 24,
   "metadata": {
    "scrolled": false
   },
   "outputs": [
    {
     "name": "stdout",
     "output_type": "stream",
     "text": [
      " lgb kfold: 1  of  5 : \n"
     ]
    },
    {
     "name": "stderr",
     "output_type": "stream",
     "text": [
      "/anaconda3/lib/python3.6/site-packages/lightgbm/engine.py:102: UserWarning: Found `n_estimators` in params. Will use it instead of argument\n",
      "  warnings.warn(\"Found `{}` in params. Will use it instead of argument\".format(alias))\n",
      "/anaconda3/lib/python3.6/site-packages/lightgbm/basic.py:661: UserWarning: silent keyword has been found in `params` and will be ignored. Please use silent argument of the Dataset constructor to pass this parameter.\n",
      "  'Please use {0} argument of the Dataset constructor to pass this parameter.'.format(key))\n"
     ]
    },
    {
     "name": "stdout",
     "output_type": "stream",
     "text": [
      "Training until validation scores don't improve for 100 rounds.\n",
      "[100]\tvalid_0's auc: 0.717049\n",
      "[200]\tvalid_0's auc: 0.722814\n",
      "[300]\tvalid_0's auc: 0.725699\n",
      "[400]\tvalid_0's auc: 0.727464\n",
      "[500]\tvalid_0's auc: 0.728853\n",
      "[600]\tvalid_0's auc: 0.729813\n",
      "[700]\tvalid_0's auc: 0.730646\n",
      "[800]\tvalid_0's auc: 0.731569\n",
      "[900]\tvalid_0's auc: 0.732149\n",
      "[1000]\tvalid_0's auc: 0.732718\n",
      "[1100]\tvalid_0's auc: 0.733237\n",
      "[1200]\tvalid_0's auc: 0.733759\n",
      "[1300]\tvalid_0's auc: 0.734165\n",
      "[1400]\tvalid_0's auc: 0.734485\n",
      "[1500]\tvalid_0's auc: 0.734767\n",
      "[1600]\tvalid_0's auc: 0.735117\n",
      "[1700]\tvalid_0's auc: 0.735329\n",
      "[1800]\tvalid_0's auc: 0.73555\n",
      "[1900]\tvalid_0's auc: 0.735844\n",
      "[2000]\tvalid_0's auc: 0.73612\n",
      "[2100]\tvalid_0's auc: 0.736233\n",
      "[2200]\tvalid_0's auc: 0.736379\n",
      "[2300]\tvalid_0's auc: 0.736536\n",
      "[2400]\tvalid_0's auc: 0.736677\n",
      "[2500]\tvalid_0's auc: 0.7368\n",
      "[2600]\tvalid_0's auc: 0.73689\n",
      "[2700]\tvalid_0's auc: 0.737019\n",
      "[2800]\tvalid_0's auc: 0.737152\n",
      "[2900]\tvalid_0's auc: 0.737261\n",
      "[3000]\tvalid_0's auc: 0.737338\n",
      "[3100]\tvalid_0's auc: 0.737416\n",
      "[3200]\tvalid_0's auc: 0.737489\n",
      "[3300]\tvalid_0's auc: 0.737587\n",
      "[3400]\tvalid_0's auc: 0.737676\n",
      "[3500]\tvalid_0's auc: 0.737728\n",
      "[3600]\tvalid_0's auc: 0.737788\n",
      "[3700]\tvalid_0's auc: 0.73786\n",
      "[3800]\tvalid_0's auc: 0.737935\n",
      "[3900]\tvalid_0's auc: 0.738034\n",
      "[4000]\tvalid_0's auc: 0.738118\n",
      "Did not meet early stopping. Best iteration is:\n",
      "[4000]\tvalid_0's auc: 0.738118\n",
      " lgb kfold: 2  of  5 : \n"
     ]
    },
    {
     "name": "stderr",
     "output_type": "stream",
     "text": [
      "/anaconda3/lib/python3.6/site-packages/lightgbm/basic.py:661: UserWarning: silent keyword has been found in `params` and will be ignored. Please use silent argument of the Dataset constructor to pass this parameter.\n",
      "  'Please use {0} argument of the Dataset constructor to pass this parameter.'.format(key))\n"
     ]
    },
    {
     "name": "stdout",
     "output_type": "stream",
     "text": [
      "Training until validation scores don't improve for 100 rounds.\n",
      "[100]\tvalid_0's auc: 0.716448\n",
      "[200]\tvalid_0's auc: 0.722314\n",
      "[300]\tvalid_0's auc: 0.725298\n",
      "[400]\tvalid_0's auc: 0.727172\n",
      "[500]\tvalid_0's auc: 0.728478\n",
      "[600]\tvalid_0's auc: 0.729645\n",
      "[700]\tvalid_0's auc: 0.730482\n",
      "[800]\tvalid_0's auc: 0.731288\n",
      "[900]\tvalid_0's auc: 0.73193\n",
      "[1000]\tvalid_0's auc: 0.7325\n",
      "Did not meet early stopping. Best iteration is:\n",
      "[1000]\tvalid_0's auc: 0.7325\n",
      " lgb kfold: 3  of  5 : \n",
      "Training until validation scores don't improve for 100 rounds.\n",
      "[100]\tvalid_0's auc: 0.716999\n",
      "[200]\tvalid_0's auc: 0.722953\n",
      "[300]\tvalid_0's auc: 0.725786\n",
      "[400]\tvalid_0's auc: 0.727729\n",
      "[500]\tvalid_0's auc: 0.729153\n",
      "[600]\tvalid_0's auc: 0.730217\n",
      "[700]\tvalid_0's auc: 0.731056\n",
      "[800]\tvalid_0's auc: 0.731875\n",
      "[900]\tvalid_0's auc: 0.732468\n",
      "[1000]\tvalid_0's auc: 0.733058\n",
      "Did not meet early stopping. Best iteration is:\n",
      "[1000]\tvalid_0's auc: 0.733058\n",
      " lgb kfold: 4  of  5 : \n",
      "Training until validation scores don't improve for 100 rounds.\n",
      "[100]\tvalid_0's auc: 0.71702\n",
      "[200]\tvalid_0's auc: 0.723004\n",
      "[300]\tvalid_0's auc: 0.72584\n",
      "[400]\tvalid_0's auc: 0.727667\n",
      "[500]\tvalid_0's auc: 0.729041\n",
      "[600]\tvalid_0's auc: 0.730171\n",
      "[700]\tvalid_0's auc: 0.731147\n",
      "[800]\tvalid_0's auc: 0.731808\n",
      "[900]\tvalid_0's auc: 0.732434\n",
      "[1000]\tvalid_0's auc: 0.73301\n",
      "Did not meet early stopping. Best iteration is:\n",
      "[1000]\tvalid_0's auc: 0.73301\n",
      " lgb kfold: 5  of  5 : \n",
      "Training until validation scores don't improve for 100 rounds.\n",
      "[100]\tvalid_0's auc: 0.716862\n",
      "[200]\tvalid_0's auc: 0.722747\n",
      "[300]\tvalid_0's auc: 0.725512\n",
      "[400]\tvalid_0's auc: 0.72724\n",
      "[500]\tvalid_0's auc: 0.728734\n",
      "[600]\tvalid_0's auc: 0.729579\n",
      "[700]\tvalid_0's auc: 0.730425\n",
      "[800]\tvalid_0's auc: 0.731337\n",
      "[900]\tvalid_0's auc: 0.731873\n",
      "[1000]\tvalid_0's auc: 0.732402\n",
      "Did not meet early stopping. Best iteration is:\n",
      "[1000]\tvalid_0's auc: 0.732402\n"
     ]
    },
    {
     "data": {
      "text/html": [
       "<div>\n",
       "<style scoped>\n",
       "    .dataframe tbody tr th:only-of-type {\n",
       "        vertical-align: middle;\n",
       "    }\n",
       "\n",
       "    .dataframe tbody tr th {\n",
       "        vertical-align: top;\n",
       "    }\n",
       "\n",
       "    .dataframe thead th {\n",
       "        text-align: right;\n",
       "    }\n",
       "</style>\n",
       "<table border=\"1\" class=\"dataframe\">\n",
       "  <thead>\n",
       "    <tr style=\"text-align: right;\">\n",
       "      <th></th>\n",
       "      <th>MachineIdentifier</th>\n",
       "      <th>HasDetections</th>\n",
       "    </tr>\n",
       "  </thead>\n",
       "  <tbody>\n",
       "    <tr>\n",
       "      <th>0</th>\n",
       "      <td>0000010489e3af074adeac69c53e555e</td>\n",
       "      <td>0.584937</td>\n",
       "    </tr>\n",
       "    <tr>\n",
       "      <th>1</th>\n",
       "      <td>00000176ac758d54827acd545b6315a5</td>\n",
       "      <td>0.693437</td>\n",
       "    </tr>\n",
       "    <tr>\n",
       "      <th>2</th>\n",
       "      <td>0000019dcefc128c2d4387c1273dae1d</td>\n",
       "      <td>0.585016</td>\n",
       "    </tr>\n",
       "    <tr>\n",
       "      <th>3</th>\n",
       "      <td>0000055553dc51b1295785415f1a224d</td>\n",
       "      <td>0.493170</td>\n",
       "    </tr>\n",
       "    <tr>\n",
       "      <th>4</th>\n",
       "      <td>00000574cefffeca83ec8adf9285b2bf</td>\n",
       "      <td>0.577813</td>\n",
       "    </tr>\n",
       "  </tbody>\n",
       "</table>\n",
       "</div>"
      ],
      "text/plain": [
       "                  MachineIdentifier  HasDetections\n",
       "0  0000010489e3af074adeac69c53e555e       0.584937\n",
       "1  00000176ac758d54827acd545b6315a5       0.693437\n",
       "2  0000019dcefc128c2d4387c1273dae1d       0.585016\n",
       "3  0000055553dc51b1295785415f1a224d       0.493170\n",
       "4  00000574cefffeca83ec8adf9285b2bf       0.577813"
      ]
     },
     "execution_count": 24,
     "metadata": {},
     "output_type": "execute_result"
    }
   ],
   "source": [
    "skf = StratifiedKFold(n_splits=kfold, random_state=2200)\n",
    "for i, (train_index, test_index) in enumerate(skf.split(X, y)):\n",
    "    print(' lgb kfold: {}  of  {} : '.format(i+1, kfold))\n",
    "    X_train, X_eval = X[train_index], X[test_index]\n",
    "    y_train, y_eval = y[train_index], y[test_index]\n",
    "    dset = lgb.Dataset(X_train, label=y_train)\n",
    "    dset_eval = lgb.Dataset(X_eval, label=y_eval)\n",
    "    lgb_model = lgb.train(params, dset, 1000, dset_eval,\n",
    "                          verbose_eval=100, early_stopping_rounds=100)\n",
    "    sub['HasDetections'] += lgb_model.predict(test, \n",
    "                        num_iteration=lgb_model.best_iteration) / (kfold)\n",
    "    \n",
    "sub.to_csv('third_submit.csv', index=False, float_format='%.5f') \n",
    "gc.collect()\n",
    "sub.head()"
   ]
  },
  {
   "cell_type": "code",
   "execution_count": null,
   "metadata": {
    "collapsed": true
   },
   "outputs": [],
   "source": []
  }
 ],
 "metadata": {
  "kernelspec": {
   "display_name": "Python 3",
   "language": "python",
   "name": "python3"
  },
  "language_info": {
   "codemirror_mode": {
    "name": "ipython",
    "version": 3
   },
   "file_extension": ".py",
   "mimetype": "text/x-python",
   "name": "python",
   "nbconvert_exporter": "python",
   "pygments_lexer": "ipython3",
   "version": "3.6.3"
  }
 },
 "nbformat": 4,
 "nbformat_minor": 2
}
