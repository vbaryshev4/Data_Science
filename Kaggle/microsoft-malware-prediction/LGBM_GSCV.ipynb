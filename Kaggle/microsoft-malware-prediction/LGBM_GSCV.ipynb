{
 "cells": [
  {
   "cell_type": "code",
   "execution_count": 1,
   "metadata": {},
   "outputs": [
    {
     "name": "stderr",
     "output_type": "stream",
     "text": [
      "/anaconda3/lib/python3.6/importlib/_bootstrap.py:219: RuntimeWarning: numpy.dtype size changed, may indicate binary incompatibility. Expected 96, got 88\n",
      "  return f(*args, **kwds)\n"
     ]
    }
   ],
   "source": [
    "import pandas as pd\n",
    "import numpy as np\n",
    "import matplotlib.pyplot as plt\n",
    "import pickle\n",
    "with open('train.pkl', 'rb') as l:\n",
    "    train = pickle.load(l)"
   ]
  },
  {
   "cell_type": "code",
   "execution_count": 2,
   "metadata": {
    "collapsed": true
   },
   "outputs": [],
   "source": [
    "import lightgbm as lgb\n",
    "from sklearn.model_selection import train_test_split"
   ]
  },
  {
   "cell_type": "code",
   "execution_count": 3,
   "metadata": {
    "collapsed": true
   },
   "outputs": [],
   "source": [
    "X, y = train.loc[:, train.columns != 'HasDetections'], train['HasDetections']\n",
    "X_train, X_test, y_train, y_test = train_test_split(X, y, test_size=0.31, random_state=40)"
   ]
  },
  {
   "cell_type": "code",
   "execution_count": null,
   "metadata": {},
   "outputs": [
    {
     "name": "stdout",
     "output_type": "stream",
     "text": [
      "Fitting 10 folds for each of 512000 candidates, totalling 5120000 fits\n",
      "[CV] boosting_type=gbdt, colsample_bytree=0.7, is_unbalance=True, learning_rate=0.01, max_depth=4, n_estimators=100, num_leaves=4, objective=binary, reg_alpha=0, reg_lambda=0, subsample=0.7 \n",
      "[CV]  boosting_type=gbdt, colsample_bytree=0.7, is_unbalance=True, learning_rate=0.01, max_depth=4, n_estimators=100, num_leaves=4, objective=binary, reg_alpha=0, reg_lambda=0, subsample=0.7, score=0.6775620852415157, total=  48.6s\n",
      "[CV] boosting_type=gbdt, colsample_bytree=0.7, is_unbalance=True, learning_rate=0.01, max_depth=4, n_estimators=100, num_leaves=4, objective=binary, reg_alpha=0, reg_lambda=0, subsample=0.7 \n"
     ]
    },
    {
     "name": "stderr",
     "output_type": "stream",
     "text": [
      "[Parallel(n_jobs=1)]: Done   1 out of   1 | elapsed:  1.1min remaining:    0.0s\n"
     ]
    },
    {
     "name": "stdout",
     "output_type": "stream",
     "text": [
      "[CV]  boosting_type=gbdt, colsample_bytree=0.7, is_unbalance=True, learning_rate=0.01, max_depth=4, n_estimators=100, num_leaves=4, objective=binary, reg_alpha=0, reg_lambda=0, subsample=0.7, score=0.6765939588051701, total=  43.4s\n",
      "[CV] boosting_type=gbdt, colsample_bytree=0.7, is_unbalance=True, learning_rate=0.01, max_depth=4, n_estimators=100, num_leaves=4, objective=binary, reg_alpha=0, reg_lambda=0, subsample=0.7 \n"
     ]
    },
    {
     "name": "stderr",
     "output_type": "stream",
     "text": [
      "[Parallel(n_jobs=1)]: Done   2 out of   2 | elapsed:  2.1min remaining:    0.0s\n"
     ]
    },
    {
     "name": "stdout",
     "output_type": "stream",
     "text": [
      "[CV]  boosting_type=gbdt, colsample_bytree=0.7, is_unbalance=True, learning_rate=0.01, max_depth=4, n_estimators=100, num_leaves=4, objective=binary, reg_alpha=0, reg_lambda=0, subsample=0.7, score=0.6777608172609715, total=  43.2s\n",
      "[CV] boosting_type=gbdt, colsample_bytree=0.7, is_unbalance=True, learning_rate=0.01, max_depth=4, n_estimators=100, num_leaves=4, objective=binary, reg_alpha=0, reg_lambda=0, subsample=0.7 \n"
     ]
    },
    {
     "name": "stderr",
     "output_type": "stream",
     "text": [
      "[Parallel(n_jobs=1)]: Done   3 out of   3 | elapsed:  3.1min remaining:    0.0s\n"
     ]
    },
    {
     "name": "stdout",
     "output_type": "stream",
     "text": [
      "[CV]  boosting_type=gbdt, colsample_bytree=0.7, is_unbalance=True, learning_rate=0.01, max_depth=4, n_estimators=100, num_leaves=4, objective=binary, reg_alpha=0, reg_lambda=0, subsample=0.7, score=0.6785408017482661, total=  42.5s\n",
      "[CV] boosting_type=gbdt, colsample_bytree=0.7, is_unbalance=True, learning_rate=0.01, max_depth=4, n_estimators=100, num_leaves=4, objective=binary, reg_alpha=0, reg_lambda=0, subsample=0.7 \n"
     ]
    },
    {
     "name": "stderr",
     "output_type": "stream",
     "text": [
      "[Parallel(n_jobs=1)]: Done   4 out of   4 | elapsed:  4.0min remaining:    0.0s\n"
     ]
    },
    {
     "name": "stdout",
     "output_type": "stream",
     "text": [
      "[CV]  boosting_type=gbdt, colsample_bytree=0.7, is_unbalance=True, learning_rate=0.01, max_depth=4, n_estimators=100, num_leaves=4, objective=binary, reg_alpha=0, reg_lambda=0, subsample=0.7, score=0.6772516813147869, total=  39.4s\n",
      "[CV] boosting_type=gbdt, colsample_bytree=0.7, is_unbalance=True, learning_rate=0.01, max_depth=4, n_estimators=100, num_leaves=4, objective=binary, reg_alpha=0, reg_lambda=0, subsample=0.7 \n"
     ]
    },
    {
     "name": "stderr",
     "output_type": "stream",
     "text": [
      "[Parallel(n_jobs=1)]: Done   5 out of   5 | elapsed:  4.9min remaining:    0.0s\n"
     ]
    },
    {
     "name": "stdout",
     "output_type": "stream",
     "text": [
      "[CV]  boosting_type=gbdt, colsample_bytree=0.7, is_unbalance=True, learning_rate=0.01, max_depth=4, n_estimators=100, num_leaves=4, objective=binary, reg_alpha=0, reg_lambda=0, subsample=0.7, score=0.678115356261742, total=  44.7s\n",
      "[CV] boosting_type=gbdt, colsample_bytree=0.7, is_unbalance=True, learning_rate=0.01, max_depth=4, n_estimators=100, num_leaves=4, objective=binary, reg_alpha=0, reg_lambda=0, subsample=0.7 \n"
     ]
    },
    {
     "name": "stderr",
     "output_type": "stream",
     "text": [
      "[Parallel(n_jobs=1)]: Done   6 out of   6 | elapsed:  5.9min remaining:    0.0s\n"
     ]
    },
    {
     "name": "stdout",
     "output_type": "stream",
     "text": [
      "[CV]  boosting_type=gbdt, colsample_bytree=0.7, is_unbalance=True, learning_rate=0.01, max_depth=4, n_estimators=100, num_leaves=4, objective=binary, reg_alpha=0, reg_lambda=0, subsample=0.7, score=0.676763827180128, total=  42.6s\n",
      "[CV] boosting_type=gbdt, colsample_bytree=0.7, is_unbalance=True, learning_rate=0.01, max_depth=4, n_estimators=100, num_leaves=4, objective=binary, reg_alpha=0, reg_lambda=0, subsample=0.7 \n"
     ]
    },
    {
     "name": "stderr",
     "output_type": "stream",
     "text": [
      "[Parallel(n_jobs=1)]: Done   7 out of   7 | elapsed:  6.9min remaining:    0.0s\n"
     ]
    }
   ],
   "source": [
    "from sklearn.model_selection import GridSearchCV\n",
    "parameters = {\n",
    "    'learning_rate': [0.01, 0.02, 0.03, 0.04, 0.05],\n",
    "    'n_estimators': [100, 300, 400, 500, 1000],\n",
    "    'num_leaves': [4, 10, 22, 40],\n",
    "    'max_depth': [4, 10, 22, 40, 100],\n",
    "    'boosting_type' : ['gbdt'],\n",
    "    'objective' : ['binary'],\n",
    "    'colsample_bytree' : [0.7, 0.8, 0.9, 1],\n",
    "    'subsample' : [0.7, 0.8, 0.9, 1],\n",
    "    'reg_alpha' : [0, 0.1, 0.5, 1],\n",
    "    'reg_lambda' : [0, 1, 2, 5, 6, 7, 9, 10],\n",
    "    'is_unbalance' : [True, False]\n",
    "}\n",
    "\n",
    "gbm = lgb.LGBMClassifier(metric='binary_logloss', silent=True, n_jobs=4)\n",
    "clf = GridSearchCV(gbm, parameters, cv=10, scoring='roc_auc', verbose=10)\n",
    "clf.fit(X_train, y_train)\n",
    "best = clf.best_estimator_\n",
    "print(best)"
   ]
  },
  {
   "cell_type": "code",
   "execution_count": null,
   "metadata": {
    "collapsed": true
   },
   "outputs": [],
   "source": []
  }
 ],
 "metadata": {
  "kernelspec": {
   "display_name": "Python 3",
   "language": "python",
   "name": "python3"
  },
  "language_info": {
   "codemirror_mode": {
    "name": "ipython",
    "version": 3
   },
   "file_extension": ".py",
   "mimetype": "text/x-python",
   "name": "python",
   "nbconvert_exporter": "python",
   "pygments_lexer": "ipython3",
   "version": "3.6.3"
  }
 },
 "nbformat": 4,
 "nbformat_minor": 2
}
