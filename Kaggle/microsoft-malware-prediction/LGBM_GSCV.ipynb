{
 "cells": [
  {
   "cell_type": "code",
   "execution_count": 1,
   "metadata": {},
   "outputs": [
    {
     "name": "stderr",
     "output_type": "stream",
     "text": [
      "/anaconda3/lib/python3.6/importlib/_bootstrap.py:219: RuntimeWarning: numpy.dtype size changed, may indicate binary incompatibility. Expected 96, got 88\n",
      "  return f(*args, **kwds)\n"
     ]
    }
   ],
   "source": [
    "import pandas as pd\n",
    "import numpy as np\n",
    "import matplotlib.pyplot as plt\n",
    "import pickle\n",
    "with open('train.pkl', 'rb') as l:\n",
    "    train = pickle.load(l)"
   ]
  },
  {
   "cell_type": "code",
   "execution_count": 2,
   "metadata": {
    "collapsed": true
   },
   "outputs": [],
   "source": [
    "import lightgbm as lgb\n",
    "from sklearn.model_selection import train_test_split"
   ]
  },
  {
   "cell_type": "code",
   "execution_count": 3,
   "metadata": {
    "collapsed": true
   },
   "outputs": [],
   "source": [
    "X, y = train.loc[:, train.columns != 'HasDetections'], train['HasDetections']\n",
    "X_train, X_test, y_train, y_test = train_test_split(X, y, test_size=0.31, random_state=40)"
   ]
  },
  {
   "cell_type": "code",
   "execution_count": 4,
   "metadata": {
    "scrolled": false
   },
   "outputs": [
    {
     "name": "stdout",
     "output_type": "stream",
     "text": [
      "Fitting 10 folds for each of 6 candidates, totalling 60 fits\n",
      "[CV] boosting_type=gbdt, colsample_bytree=0.9, learning_rate=0.1, max_depth=40, objective=binary, reg_alpha=0.1, reg_lambda=5, subsample=0.7 \n",
      "[CV]  boosting_type=gbdt, colsample_bytree=0.9, learning_rate=0.1, max_depth=40, objective=binary, reg_alpha=0.1, reg_lambda=5, subsample=0.7, score=0.715397485989263, total= 1.7min\n",
      "[CV] boosting_type=gbdt, colsample_bytree=0.9, learning_rate=0.1, max_depth=40, objective=binary, reg_alpha=0.1, reg_lambda=5, subsample=0.7 \n"
     ]
    },
    {
     "name": "stderr",
     "output_type": "stream",
     "text": [
      "[Parallel(n_jobs=1)]: Done   1 out of   1 | elapsed:  2.2min remaining:    0.0s\n"
     ]
    },
    {
     "name": "stdout",
     "output_type": "stream",
     "text": [
      "[CV]  boosting_type=gbdt, colsample_bytree=0.9, learning_rate=0.1, max_depth=40, objective=binary, reg_alpha=0.1, reg_lambda=5, subsample=0.7, score=0.7144437184178742, total= 1.6min\n",
      "[CV] boosting_type=gbdt, colsample_bytree=0.9, learning_rate=0.1, max_depth=40, objective=binary, reg_alpha=0.1, reg_lambda=5, subsample=0.7 \n"
     ]
    },
    {
     "name": "stderr",
     "output_type": "stream",
     "text": [
      "[Parallel(n_jobs=1)]: Done   2 out of   2 | elapsed:  4.2min remaining:    0.0s\n"
     ]
    },
    {
     "name": "stdout",
     "output_type": "stream",
     "text": [
      "[CV]  boosting_type=gbdt, colsample_bytree=0.9, learning_rate=0.1, max_depth=40, objective=binary, reg_alpha=0.1, reg_lambda=5, subsample=0.7, score=0.7158203373970099, total= 1.5min\n",
      "[CV] boosting_type=gbdt, colsample_bytree=0.9, learning_rate=0.1, max_depth=40, objective=binary, reg_alpha=0.1, reg_lambda=5, subsample=0.7 \n"
     ]
    },
    {
     "name": "stderr",
     "output_type": "stream",
     "text": [
      "[Parallel(n_jobs=1)]: Done   3 out of   3 | elapsed:  6.1min remaining:    0.0s\n"
     ]
    },
    {
     "name": "stdout",
     "output_type": "stream",
     "text": [
      "[CV]  boosting_type=gbdt, colsample_bytree=0.9, learning_rate=0.1, max_depth=40, objective=binary, reg_alpha=0.1, reg_lambda=5, subsample=0.7, score=0.7164721130094969, total= 1.5min\n",
      "[CV] boosting_type=gbdt, colsample_bytree=0.9, learning_rate=0.1, max_depth=40, objective=binary, reg_alpha=0.1, reg_lambda=5, subsample=0.7 \n",
      "[CV]  boosting_type=gbdt, colsample_bytree=0.9, learning_rate=0.1, max_depth=40, objective=binary, reg_alpha=0.1, reg_lambda=5, subsample=0.7, score=0.7150597399689552, total= 1.5min\n",
      "[CV] boosting_type=gbdt, colsample_bytree=0.9, learning_rate=0.1, max_depth=40, objective=binary, reg_alpha=0.1, reg_lambda=5, subsample=0.7 \n",
      "[CV]  boosting_type=gbdt, colsample_bytree=0.9, learning_rate=0.1, max_depth=40, objective=binary, reg_alpha=0.1, reg_lambda=5, subsample=0.7, score=0.715269206853762, total= 1.5min\n",
      "[CV] boosting_type=gbdt, colsample_bytree=0.9, learning_rate=0.1, max_depth=40, objective=binary, reg_alpha=0.1, reg_lambda=5, subsample=0.7 \n",
      "[CV]  boosting_type=gbdt, colsample_bytree=0.9, learning_rate=0.1, max_depth=40, objective=binary, reg_alpha=0.1, reg_lambda=5, subsample=0.7, score=0.7146868898989295, total= 1.5min\n",
      "[CV] boosting_type=gbdt, colsample_bytree=0.9, learning_rate=0.1, max_depth=40, objective=binary, reg_alpha=0.1, reg_lambda=5, subsample=0.7 \n",
      "[CV]  boosting_type=gbdt, colsample_bytree=0.9, learning_rate=0.1, max_depth=40, objective=binary, reg_alpha=0.1, reg_lambda=5, subsample=0.7, score=0.7150811633450793, total= 1.5min\n",
      "[CV] boosting_type=gbdt, colsample_bytree=0.9, learning_rate=0.1, max_depth=40, objective=binary, reg_alpha=0.1, reg_lambda=5, subsample=0.7 \n",
      "[CV]  boosting_type=gbdt, colsample_bytree=0.9, learning_rate=0.1, max_depth=40, objective=binary, reg_alpha=0.1, reg_lambda=5, subsample=0.7, score=0.715445998110803, total= 1.5min\n",
      "[CV] boosting_type=gbdt, colsample_bytree=0.9, learning_rate=0.1, max_depth=40, objective=binary, reg_alpha=0.1, reg_lambda=5, subsample=0.7 \n",
      "[CV]  boosting_type=gbdt, colsample_bytree=0.9, learning_rate=0.1, max_depth=40, objective=binary, reg_alpha=0.1, reg_lambda=5, subsample=0.7, score=0.7158019679483493, total= 1.5min\n",
      "[CV] boosting_type=gbdt, colsample_bytree=0.9, learning_rate=0.1, max_depth=40, objective=binary, reg_alpha=0.1, reg_lambda=5, subsample=0.9 \n",
      "[CV]  boosting_type=gbdt, colsample_bytree=0.9, learning_rate=0.1, max_depth=40, objective=binary, reg_alpha=0.1, reg_lambda=5, subsample=0.9, score=0.715397485989263, total= 1.4min\n",
      "[CV] boosting_type=gbdt, colsample_bytree=0.9, learning_rate=0.1, max_depth=40, objective=binary, reg_alpha=0.1, reg_lambda=5, subsample=0.9 \n",
      "[CV]  boosting_type=gbdt, colsample_bytree=0.9, learning_rate=0.1, max_depth=40, objective=binary, reg_alpha=0.1, reg_lambda=5, subsample=0.9, score=0.7144437184178742, total= 1.4min\n",
      "[CV] boosting_type=gbdt, colsample_bytree=0.9, learning_rate=0.1, max_depth=40, objective=binary, reg_alpha=0.1, reg_lambda=5, subsample=0.9 \n",
      "[CV]  boosting_type=gbdt, colsample_bytree=0.9, learning_rate=0.1, max_depth=40, objective=binary, reg_alpha=0.1, reg_lambda=5, subsample=0.9, score=0.7158203373970099, total= 1.5min\n",
      "[CV] boosting_type=gbdt, colsample_bytree=0.9, learning_rate=0.1, max_depth=40, objective=binary, reg_alpha=0.1, reg_lambda=5, subsample=0.9 \n",
      "[CV]  boosting_type=gbdt, colsample_bytree=0.9, learning_rate=0.1, max_depth=40, objective=binary, reg_alpha=0.1, reg_lambda=5, subsample=0.9, score=0.7164721130094969, total= 1.4min\n",
      "[CV] boosting_type=gbdt, colsample_bytree=0.9, learning_rate=0.1, max_depth=40, objective=binary, reg_alpha=0.1, reg_lambda=5, subsample=0.9 \n",
      "[CV]  boosting_type=gbdt, colsample_bytree=0.9, learning_rate=0.1, max_depth=40, objective=binary, reg_alpha=0.1, reg_lambda=5, subsample=0.9, score=0.7150597399689552, total= 1.5min\n",
      "[CV] boosting_type=gbdt, colsample_bytree=0.9, learning_rate=0.1, max_depth=40, objective=binary, reg_alpha=0.1, reg_lambda=5, subsample=0.9 \n",
      "[CV]  boosting_type=gbdt, colsample_bytree=0.9, learning_rate=0.1, max_depth=40, objective=binary, reg_alpha=0.1, reg_lambda=5, subsample=0.9, score=0.715269206853762, total= 1.4min\n",
      "[CV] boosting_type=gbdt, colsample_bytree=0.9, learning_rate=0.1, max_depth=40, objective=binary, reg_alpha=0.1, reg_lambda=5, subsample=0.9 \n",
      "[CV]  boosting_type=gbdt, colsample_bytree=0.9, learning_rate=0.1, max_depth=40, objective=binary, reg_alpha=0.1, reg_lambda=5, subsample=0.9, score=0.7146868898989295, total= 1.5min\n",
      "[CV] boosting_type=gbdt, colsample_bytree=0.9, learning_rate=0.1, max_depth=40, objective=binary, reg_alpha=0.1, reg_lambda=5, subsample=0.9 \n",
      "[CV]  boosting_type=gbdt, colsample_bytree=0.9, learning_rate=0.1, max_depth=40, objective=binary, reg_alpha=0.1, reg_lambda=5, subsample=0.9, score=0.7150811633450793, total= 1.4min\n",
      "[CV] boosting_type=gbdt, colsample_bytree=0.9, learning_rate=0.1, max_depth=40, objective=binary, reg_alpha=0.1, reg_lambda=5, subsample=0.9 \n",
      "[CV]  boosting_type=gbdt, colsample_bytree=0.9, learning_rate=0.1, max_depth=40, objective=binary, reg_alpha=0.1, reg_lambda=5, subsample=0.9, score=0.715445998110803, total= 1.4min\n",
      "[CV] boosting_type=gbdt, colsample_bytree=0.9, learning_rate=0.1, max_depth=40, objective=binary, reg_alpha=0.1, reg_lambda=5, subsample=0.9 \n",
      "[CV]  boosting_type=gbdt, colsample_bytree=0.9, learning_rate=0.1, max_depth=40, objective=binary, reg_alpha=0.1, reg_lambda=5, subsample=0.9, score=0.7158019679483493, total= 1.4min\n",
      "[CV] boosting_type=gbdt, colsample_bytree=0.9, learning_rate=0.1, max_depth=40, objective=binary, reg_alpha=0.1, reg_lambda=5, subsample=1 \n",
      "[CV]  boosting_type=gbdt, colsample_bytree=0.9, learning_rate=0.1, max_depth=40, objective=binary, reg_alpha=0.1, reg_lambda=5, subsample=1, score=0.715397485989263, total= 1.4min\n",
      "[CV] boosting_type=gbdt, colsample_bytree=0.9, learning_rate=0.1, max_depth=40, objective=binary, reg_alpha=0.1, reg_lambda=5, subsample=1 \n",
      "[CV]  boosting_type=gbdt, colsample_bytree=0.9, learning_rate=0.1, max_depth=40, objective=binary, reg_alpha=0.1, reg_lambda=5, subsample=1, score=0.7144437184178742, total= 1.4min\n",
      "[CV] boosting_type=gbdt, colsample_bytree=0.9, learning_rate=0.1, max_depth=40, objective=binary, reg_alpha=0.1, reg_lambda=5, subsample=1 \n",
      "[CV]  boosting_type=gbdt, colsample_bytree=0.9, learning_rate=0.1, max_depth=40, objective=binary, reg_alpha=0.1, reg_lambda=5, subsample=1, score=0.7158203373970099, total= 1.4min\n",
      "[CV] boosting_type=gbdt, colsample_bytree=0.9, learning_rate=0.1, max_depth=40, objective=binary, reg_alpha=0.1, reg_lambda=5, subsample=1 \n",
      "[CV]  boosting_type=gbdt, colsample_bytree=0.9, learning_rate=0.1, max_depth=40, objective=binary, reg_alpha=0.1, reg_lambda=5, subsample=1, score=0.7164721130094969, total= 1.5min\n",
      "[CV] boosting_type=gbdt, colsample_bytree=0.9, learning_rate=0.1, max_depth=40, objective=binary, reg_alpha=0.1, reg_lambda=5, subsample=1 \n",
      "[CV]  boosting_type=gbdt, colsample_bytree=0.9, learning_rate=0.1, max_depth=40, objective=binary, reg_alpha=0.1, reg_lambda=5, subsample=1, score=0.7150597399689552, total= 1.5min\n",
      "[CV] boosting_type=gbdt, colsample_bytree=0.9, learning_rate=0.1, max_depth=40, objective=binary, reg_alpha=0.1, reg_lambda=5, subsample=1 \n",
      "[CV]  boosting_type=gbdt, colsample_bytree=0.9, learning_rate=0.1, max_depth=40, objective=binary, reg_alpha=0.1, reg_lambda=5, subsample=1, score=0.715269206853762, total= 1.5min\n",
      "[CV] boosting_type=gbdt, colsample_bytree=0.9, learning_rate=0.1, max_depth=40, objective=binary, reg_alpha=0.1, reg_lambda=5, subsample=1 \n",
      "[CV]  boosting_type=gbdt, colsample_bytree=0.9, learning_rate=0.1, max_depth=40, objective=binary, reg_alpha=0.1, reg_lambda=5, subsample=1, score=0.7146868898989295, total= 1.5min\n",
      "[CV] boosting_type=gbdt, colsample_bytree=0.9, learning_rate=0.1, max_depth=40, objective=binary, reg_alpha=0.1, reg_lambda=5, subsample=1 \n",
      "[CV]  boosting_type=gbdt, colsample_bytree=0.9, learning_rate=0.1, max_depth=40, objective=binary, reg_alpha=0.1, reg_lambda=5, subsample=1, score=0.7150811633450793, total= 1.4min\n",
      "[CV] boosting_type=gbdt, colsample_bytree=0.9, learning_rate=0.1, max_depth=40, objective=binary, reg_alpha=0.1, reg_lambda=5, subsample=1 \n",
      "[CV]  boosting_type=gbdt, colsample_bytree=0.9, learning_rate=0.1, max_depth=40, objective=binary, reg_alpha=0.1, reg_lambda=5, subsample=1, score=0.715445998110803, total= 1.4min\n",
      "[CV] boosting_type=gbdt, colsample_bytree=0.9, learning_rate=0.1, max_depth=40, objective=binary, reg_alpha=0.1, reg_lambda=5, subsample=1 \n"
     ]
    },
    {
     "name": "stdout",
     "output_type": "stream",
     "text": [
      "[CV]  boosting_type=gbdt, colsample_bytree=0.9, learning_rate=0.1, max_depth=40, objective=binary, reg_alpha=0.1, reg_lambda=5, subsample=1, score=0.7158019679483493, total= 1.4min\n",
      "[CV] boosting_type=gbdt, colsample_bytree=0.9, learning_rate=0.1, max_depth=40, objective=binary, reg_alpha=0.5, reg_lambda=5, subsample=0.7 \n",
      "[CV]  boosting_type=gbdt, colsample_bytree=0.9, learning_rate=0.1, max_depth=40, objective=binary, reg_alpha=0.5, reg_lambda=5, subsample=0.7, score=0.7154996375796275, total= 1.5min\n",
      "[CV] boosting_type=gbdt, colsample_bytree=0.9, learning_rate=0.1, max_depth=40, objective=binary, reg_alpha=0.5, reg_lambda=5, subsample=0.7 \n",
      "[CV]  boosting_type=gbdt, colsample_bytree=0.9, learning_rate=0.1, max_depth=40, objective=binary, reg_alpha=0.5, reg_lambda=5, subsample=0.7, score=0.7142480842441172, total= 1.5min\n",
      "[CV] boosting_type=gbdt, colsample_bytree=0.9, learning_rate=0.1, max_depth=40, objective=binary, reg_alpha=0.5, reg_lambda=5, subsample=0.7 \n",
      "[CV]  boosting_type=gbdt, colsample_bytree=0.9, learning_rate=0.1, max_depth=40, objective=binary, reg_alpha=0.5, reg_lambda=5, subsample=0.7, score=0.7158654469550968, total= 1.5min\n",
      "[CV] boosting_type=gbdt, colsample_bytree=0.9, learning_rate=0.1, max_depth=40, objective=binary, reg_alpha=0.5, reg_lambda=5, subsample=0.7 \n",
      "[CV]  boosting_type=gbdt, colsample_bytree=0.9, learning_rate=0.1, max_depth=40, objective=binary, reg_alpha=0.5, reg_lambda=5, subsample=0.7, score=0.7163144668793268, total= 1.4min\n",
      "[CV] boosting_type=gbdt, colsample_bytree=0.9, learning_rate=0.1, max_depth=40, objective=binary, reg_alpha=0.5, reg_lambda=5, subsample=0.7 \n",
      "[CV]  boosting_type=gbdt, colsample_bytree=0.9, learning_rate=0.1, max_depth=40, objective=binary, reg_alpha=0.5, reg_lambda=5, subsample=0.7, score=0.7149883089037641, total= 1.5min\n",
      "[CV] boosting_type=gbdt, colsample_bytree=0.9, learning_rate=0.1, max_depth=40, objective=binary, reg_alpha=0.5, reg_lambda=5, subsample=0.7 \n",
      "[CV]  boosting_type=gbdt, colsample_bytree=0.9, learning_rate=0.1, max_depth=40, objective=binary, reg_alpha=0.5, reg_lambda=5, subsample=0.7, score=0.7152545088101585, total= 1.5min\n",
      "[CV] boosting_type=gbdt, colsample_bytree=0.9, learning_rate=0.1, max_depth=40, objective=binary, reg_alpha=0.5, reg_lambda=5, subsample=0.7 \n",
      "[CV]  boosting_type=gbdt, colsample_bytree=0.9, learning_rate=0.1, max_depth=40, objective=binary, reg_alpha=0.5, reg_lambda=5, subsample=0.7, score=0.7147148144824339, total= 1.5min\n",
      "[CV] boosting_type=gbdt, colsample_bytree=0.9, learning_rate=0.1, max_depth=40, objective=binary, reg_alpha=0.5, reg_lambda=5, subsample=0.7 \n",
      "[CV]  boosting_type=gbdt, colsample_bytree=0.9, learning_rate=0.1, max_depth=40, objective=binary, reg_alpha=0.5, reg_lambda=5, subsample=0.7, score=0.7149850353621683, total= 1.4min\n",
      "[CV] boosting_type=gbdt, colsample_bytree=0.9, learning_rate=0.1, max_depth=40, objective=binary, reg_alpha=0.5, reg_lambda=5, subsample=0.7 \n",
      "[CV]  boosting_type=gbdt, colsample_bytree=0.9, learning_rate=0.1, max_depth=40, objective=binary, reg_alpha=0.5, reg_lambda=5, subsample=0.7, score=0.7152879409490386, total= 1.5min\n",
      "[CV] boosting_type=gbdt, colsample_bytree=0.9, learning_rate=0.1, max_depth=40, objective=binary, reg_alpha=0.5, reg_lambda=5, subsample=0.7 \n",
      "[CV]  boosting_type=gbdt, colsample_bytree=0.9, learning_rate=0.1, max_depth=40, objective=binary, reg_alpha=0.5, reg_lambda=5, subsample=0.7, score=0.7159535962535996, total= 1.5min\n",
      "[CV] boosting_type=gbdt, colsample_bytree=0.9, learning_rate=0.1, max_depth=40, objective=binary, reg_alpha=0.5, reg_lambda=5, subsample=0.9 \n",
      "[CV]  boosting_type=gbdt, colsample_bytree=0.9, learning_rate=0.1, max_depth=40, objective=binary, reg_alpha=0.5, reg_lambda=5, subsample=0.9, score=0.7154996375796275, total= 1.4min\n",
      "[CV] boosting_type=gbdt, colsample_bytree=0.9, learning_rate=0.1, max_depth=40, objective=binary, reg_alpha=0.5, reg_lambda=5, subsample=0.9 \n",
      "[CV]  boosting_type=gbdt, colsample_bytree=0.9, learning_rate=0.1, max_depth=40, objective=binary, reg_alpha=0.5, reg_lambda=5, subsample=0.9, score=0.7142480842441172, total= 1.4min\n",
      "[CV] boosting_type=gbdt, colsample_bytree=0.9, learning_rate=0.1, max_depth=40, objective=binary, reg_alpha=0.5, reg_lambda=5, subsample=0.9 \n",
      "[CV]  boosting_type=gbdt, colsample_bytree=0.9, learning_rate=0.1, max_depth=40, objective=binary, reg_alpha=0.5, reg_lambda=5, subsample=0.9, score=0.7158654469550968, total= 1.4min\n",
      "[CV] boosting_type=gbdt, colsample_bytree=0.9, learning_rate=0.1, max_depth=40, objective=binary, reg_alpha=0.5, reg_lambda=5, subsample=0.9 \n",
      "[CV]  boosting_type=gbdt, colsample_bytree=0.9, learning_rate=0.1, max_depth=40, objective=binary, reg_alpha=0.5, reg_lambda=5, subsample=0.9, score=0.7163144668793268, total= 1.5min\n",
      "[CV] boosting_type=gbdt, colsample_bytree=0.9, learning_rate=0.1, max_depth=40, objective=binary, reg_alpha=0.5, reg_lambda=5, subsample=0.9 \n",
      "[CV]  boosting_type=gbdt, colsample_bytree=0.9, learning_rate=0.1, max_depth=40, objective=binary, reg_alpha=0.5, reg_lambda=5, subsample=0.9, score=0.7149883089037641, total= 1.5min\n",
      "[CV] boosting_type=gbdt, colsample_bytree=0.9, learning_rate=0.1, max_depth=40, objective=binary, reg_alpha=0.5, reg_lambda=5, subsample=0.9 \n",
      "[CV]  boosting_type=gbdt, colsample_bytree=0.9, learning_rate=0.1, max_depth=40, objective=binary, reg_alpha=0.5, reg_lambda=5, subsample=0.9, score=0.7152545088101585, total= 1.5min\n",
      "[CV] boosting_type=gbdt, colsample_bytree=0.9, learning_rate=0.1, max_depth=40, objective=binary, reg_alpha=0.5, reg_lambda=5, subsample=0.9 \n",
      "[CV]  boosting_type=gbdt, colsample_bytree=0.9, learning_rate=0.1, max_depth=40, objective=binary, reg_alpha=0.5, reg_lambda=5, subsample=0.9, score=0.7147148144824339, total= 1.5min\n",
      "[CV] boosting_type=gbdt, colsample_bytree=0.9, learning_rate=0.1, max_depth=40, objective=binary, reg_alpha=0.5, reg_lambda=5, subsample=0.9 \n",
      "[CV]  boosting_type=gbdt, colsample_bytree=0.9, learning_rate=0.1, max_depth=40, objective=binary, reg_alpha=0.5, reg_lambda=5, subsample=0.9, score=0.7149850353621683, total= 1.5min\n",
      "[CV] boosting_type=gbdt, colsample_bytree=0.9, learning_rate=0.1, max_depth=40, objective=binary, reg_alpha=0.5, reg_lambda=5, subsample=0.9 \n",
      "[CV]  boosting_type=gbdt, colsample_bytree=0.9, learning_rate=0.1, max_depth=40, objective=binary, reg_alpha=0.5, reg_lambda=5, subsample=0.9, score=0.7152879409490386, total= 1.5min\n",
      "[CV] boosting_type=gbdt, colsample_bytree=0.9, learning_rate=0.1, max_depth=40, objective=binary, reg_alpha=0.5, reg_lambda=5, subsample=0.9 \n",
      "[CV]  boosting_type=gbdt, colsample_bytree=0.9, learning_rate=0.1, max_depth=40, objective=binary, reg_alpha=0.5, reg_lambda=5, subsample=0.9, score=0.7159535962535996, total= 1.5min\n",
      "[CV] boosting_type=gbdt, colsample_bytree=0.9, learning_rate=0.1, max_depth=40, objective=binary, reg_alpha=0.5, reg_lambda=5, subsample=1 \n",
      "[CV]  boosting_type=gbdt, colsample_bytree=0.9, learning_rate=0.1, max_depth=40, objective=binary, reg_alpha=0.5, reg_lambda=5, subsample=1, score=0.7154996375796275, total= 1.4min\n",
      "[CV] boosting_type=gbdt, colsample_bytree=0.9, learning_rate=0.1, max_depth=40, objective=binary, reg_alpha=0.5, reg_lambda=5, subsample=1 \n",
      "[CV]  boosting_type=gbdt, colsample_bytree=0.9, learning_rate=0.1, max_depth=40, objective=binary, reg_alpha=0.5, reg_lambda=5, subsample=1, score=0.7142480842441172, total= 1.4min\n",
      "[CV] boosting_type=gbdt, colsample_bytree=0.9, learning_rate=0.1, max_depth=40, objective=binary, reg_alpha=0.5, reg_lambda=5, subsample=1 \n",
      "[CV]  boosting_type=gbdt, colsample_bytree=0.9, learning_rate=0.1, max_depth=40, objective=binary, reg_alpha=0.5, reg_lambda=5, subsample=1, score=0.7158654469550968, total= 1.5min\n",
      "[CV] boosting_type=gbdt, colsample_bytree=0.9, learning_rate=0.1, max_depth=40, objective=binary, reg_alpha=0.5, reg_lambda=5, subsample=1 \n",
      "[CV]  boosting_type=gbdt, colsample_bytree=0.9, learning_rate=0.1, max_depth=40, objective=binary, reg_alpha=0.5, reg_lambda=5, subsample=1, score=0.7163144668793268, total= 1.5min\n",
      "[CV] boosting_type=gbdt, colsample_bytree=0.9, learning_rate=0.1, max_depth=40, objective=binary, reg_alpha=0.5, reg_lambda=5, subsample=1 \n",
      "[CV]  boosting_type=gbdt, colsample_bytree=0.9, learning_rate=0.1, max_depth=40, objective=binary, reg_alpha=0.5, reg_lambda=5, subsample=1, score=0.7149883089037641, total= 1.5min\n",
      "[CV] boosting_type=gbdt, colsample_bytree=0.9, learning_rate=0.1, max_depth=40, objective=binary, reg_alpha=0.5, reg_lambda=5, subsample=1 \n"
     ]
    },
    {
     "name": "stdout",
     "output_type": "stream",
     "text": [
      "[CV]  boosting_type=gbdt, colsample_bytree=0.9, learning_rate=0.1, max_depth=40, objective=binary, reg_alpha=0.5, reg_lambda=5, subsample=1, score=0.7152545088101585, total= 1.5min\n",
      "[CV] boosting_type=gbdt, colsample_bytree=0.9, learning_rate=0.1, max_depth=40, objective=binary, reg_alpha=0.5, reg_lambda=5, subsample=1 \n",
      "[CV]  boosting_type=gbdt, colsample_bytree=0.9, learning_rate=0.1, max_depth=40, objective=binary, reg_alpha=0.5, reg_lambda=5, subsample=1, score=0.7147148144824339, total= 1.5min\n",
      "[CV] boosting_type=gbdt, colsample_bytree=0.9, learning_rate=0.1, max_depth=40, objective=binary, reg_alpha=0.5, reg_lambda=5, subsample=1 \n",
      "[CV]  boosting_type=gbdt, colsample_bytree=0.9, learning_rate=0.1, max_depth=40, objective=binary, reg_alpha=0.5, reg_lambda=5, subsample=1, score=0.7149850353621683, total= 1.5min\n",
      "[CV] boosting_type=gbdt, colsample_bytree=0.9, learning_rate=0.1, max_depth=40, objective=binary, reg_alpha=0.5, reg_lambda=5, subsample=1 \n",
      "[CV]  boosting_type=gbdt, colsample_bytree=0.9, learning_rate=0.1, max_depth=40, objective=binary, reg_alpha=0.5, reg_lambda=5, subsample=1, score=0.7152879409490386, total= 1.5min\n",
      "[CV] boosting_type=gbdt, colsample_bytree=0.9, learning_rate=0.1, max_depth=40, objective=binary, reg_alpha=0.5, reg_lambda=5, subsample=1 \n",
      "[CV]  boosting_type=gbdt, colsample_bytree=0.9, learning_rate=0.1, max_depth=40, objective=binary, reg_alpha=0.5, reg_lambda=5, subsample=1, score=0.7159535962535996, total= 1.5min\n"
     ]
    },
    {
     "name": "stderr",
     "output_type": "stream",
     "text": [
      "[Parallel(n_jobs=1)]: Done  60 out of  60 | elapsed: 111.0min finished\n"
     ]
    },
    {
     "name": "stdout",
     "output_type": "stream",
     "text": [
      "LGBMClassifier(boosting_type='gbdt', class_weight=None, colsample_bytree=0.9,\n",
      "        learning_rate=0.1, max_depth=40, metric='binary_logloss',\n",
      "        min_child_samples=20, min_child_weight=0.001, min_split_gain=0.0,\n",
      "        n_estimators=100, n_jobs=4, num_leaves=31, objective='binary',\n",
      "        random_state=None, reg_alpha=0.1, reg_lambda=5, silent=True,\n",
      "        subsample=0.7, subsample_for_bin=200000, subsample_freq=0)\n"
     ]
    }
   ],
   "source": [
    "from sklearn.model_selection import GridSearchCV\n",
    "parameters = {\n",
    "    'learning_rate': [0.1],\n",
    "    'max_depth': [40],\n",
    "    'boosting_type' : ['gbdt'],\n",
    "    'objective' : ['binary'],\n",
    "    'colsample_bytree' : [0.9],\n",
    "    'subsample' : [0.7, 0.9, 1],\n",
    "    'reg_alpha' : [0.1, 0.5],\n",
    "    'reg_lambda' : [5]\n",
    "}\n",
    "\n",
    "gbm = lgb.LGBMClassifier(metric='binary_logloss', silent=True, n_jobs=4)\n",
    "clf = GridSearchCV(gbm, parameters, cv=10, scoring='roc_auc', verbose=4)\n",
    "clf.fit(X_train, y_train)\n",
    "best = clf.best_estimator_\n",
    "print(best)"
   ]
  },
  {
   "cell_type": "code",
   "execution_count": null,
   "metadata": {
    "collapsed": true
   },
   "outputs": [],
   "source": []
  }
 ],
 "metadata": {
  "kernelspec": {
   "display_name": "Python 3",
   "language": "python",
   "name": "python3"
  },
  "language_info": {
   "codemirror_mode": {
    "name": "ipython",
    "version": 3
   },
   "file_extension": ".py",
   "mimetype": "text/x-python",
   "name": "python",
   "nbconvert_exporter": "python",
   "pygments_lexer": "ipython3",
   "version": "3.6.3"
  }
 },
 "nbformat": 4,
 "nbformat_minor": 2
}
