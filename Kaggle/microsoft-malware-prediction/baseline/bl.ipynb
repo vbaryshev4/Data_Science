{
 "cells": [
  {
   "cell_type": "code",
   "execution_count": 1,
   "metadata": {},
   "outputs": [
    {
     "name": "stderr",
     "output_type": "stream",
     "text": [
      "/anaconda3/lib/python3.6/importlib/_bootstrap.py:219: RuntimeWarning: numpy.dtype size changed, may indicate binary incompatibility. Expected 96, got 88\n",
      "  return f(*args, **kwds)\n"
     ]
    }
   ],
   "source": [
    "import pandas as pd\n",
    "import numpy as np\n",
    "import matplotlib.pyplot as plt\n",
    "import pickle\n",
    "import os.path"
   ]
  },
  {
   "cell_type": "code",
   "execution_count": 2,
   "metadata": {
    "collapsed": true
   },
   "outputs": [],
   "source": [
    "def unpack_pickle(obj_name):\n",
    "    file_path = \"{0}.pkl\".format(obj_name)\n",
    "    n_bytes = 2**31\n",
    "    max_bytes = 2**31 - 1\n",
    "    data = bytearray(n_bytes)\n",
    "    \n",
    "    ## read\n",
    "    bytes_in = bytearray(0)\n",
    "    input_size = os.path.getsize(file_path)\n",
    "    with open(file_path, 'rb') as f_in:\n",
    "        for _ in range(0, input_size, max_bytes):\n",
    "            bytes_in += f_in.read(max_bytes)\n",
    "    loaded_data = pickle.loads(bytes_in)\n",
    "    return loaded_data"
   ]
  },
  {
   "cell_type": "code",
   "execution_count": 3,
   "metadata": {
    "collapsed": true
   },
   "outputs": [],
   "source": [
    "X = unpack_pickle('X')"
   ]
  },
  {
   "cell_type": "code",
   "execution_count": 4,
   "metadata": {
    "collapsed": true
   },
   "outputs": [],
   "source": [
    "y = unpack_pickle('y')"
   ]
  },
  {
   "cell_type": "code",
   "execution_count": 5,
   "metadata": {},
   "outputs": [
    {
     "data": {
      "text/plain": [
       "((7730792, 73), (7730792,))"
      ]
     },
     "execution_count": 5,
     "metadata": {},
     "output_type": "execute_result"
    }
   ],
   "source": [
    "X.shape, y.shape"
   ]
  },
  {
   "cell_type": "code",
   "execution_count": 6,
   "metadata": {
    "collapsed": true
   },
   "outputs": [],
   "source": [
    "import lightgbm as lgb\n",
    "model = lgb.LGBMClassifier(boosting_type='gbdt', class_weight=None, colsample_bytree=0.9,\n",
    "        learning_rate=0.1, max_depth=40, metric='binary_logloss',\n",
    "        min_child_samples=20, min_child_weight=0.001, min_split_gain=0.0,\n",
    "        n_estimators=100, n_jobs=4, num_leaves=31, objective='binary',\n",
    "        random_state=None, reg_alpha=0.1, reg_lambda=5, silent=False,\n",
    "        subsample=0.7, subsample_for_bin=200000, subsample_freq=0)"
   ]
  },
  {
   "cell_type": "code",
   "execution_count": 7,
   "metadata": {},
   "outputs": [
    {
     "data": {
      "text/plain": [
       "LGBMClassifier(boosting_type='gbdt', class_weight=None, colsample_bytree=0.9,\n",
       "        learning_rate=0.1, max_depth=40, metric='binary_logloss',\n",
       "        min_child_samples=20, min_child_weight=0.001, min_split_gain=0.0,\n",
       "        n_estimators=100, n_jobs=4, num_leaves=31, objective='binary',\n",
       "        random_state=None, reg_alpha=0.1, reg_lambda=5, silent=False,\n",
       "        subsample=0.7, subsample_for_bin=200000, subsample_freq=0)"
      ]
     },
     "execution_count": 7,
     "metadata": {},
     "output_type": "execute_result"
    }
   ],
   "source": [
    "model.fit(X, y)"
   ]
  },
  {
   "cell_type": "code",
   "execution_count": 8,
   "metadata": {
    "collapsed": true
   },
   "outputs": [],
   "source": [
    "subm = pd.read_csv('../sample_submission.csv')"
   ]
  },
  {
   "cell_type": "code",
   "execution_count": 9,
   "metadata": {},
   "outputs": [
    {
     "data": {
      "text/html": [
       "<div>\n",
       "<style scoped>\n",
       "    .dataframe tbody tr th:only-of-type {\n",
       "        vertical-align: middle;\n",
       "    }\n",
       "\n",
       "    .dataframe tbody tr th {\n",
       "        vertical-align: top;\n",
       "    }\n",
       "\n",
       "    .dataframe thead th {\n",
       "        text-align: right;\n",
       "    }\n",
       "</style>\n",
       "<table border=\"1\" class=\"dataframe\">\n",
       "  <thead>\n",
       "    <tr style=\"text-align: right;\">\n",
       "      <th></th>\n",
       "      <th>MachineIdentifier</th>\n",
       "      <th>HasDetections</th>\n",
       "    </tr>\n",
       "  </thead>\n",
       "  <tbody>\n",
       "    <tr>\n",
       "      <th>0</th>\n",
       "      <td>0000010489e3af074adeac69c53e555e</td>\n",
       "      <td>0.5</td>\n",
       "    </tr>\n",
       "    <tr>\n",
       "      <th>1</th>\n",
       "      <td>00000176ac758d54827acd545b6315a5</td>\n",
       "      <td>0.5</td>\n",
       "    </tr>\n",
       "    <tr>\n",
       "      <th>2</th>\n",
       "      <td>0000019dcefc128c2d4387c1273dae1d</td>\n",
       "      <td>0.5</td>\n",
       "    </tr>\n",
       "    <tr>\n",
       "      <th>3</th>\n",
       "      <td>0000055553dc51b1295785415f1a224d</td>\n",
       "      <td>0.5</td>\n",
       "    </tr>\n",
       "    <tr>\n",
       "      <th>4</th>\n",
       "      <td>00000574cefffeca83ec8adf9285b2bf</td>\n",
       "      <td>0.5</td>\n",
       "    </tr>\n",
       "  </tbody>\n",
       "</table>\n",
       "</div>"
      ],
      "text/plain": [
       "                  MachineIdentifier  HasDetections\n",
       "0  0000010489e3af074adeac69c53e555e            0.5\n",
       "1  00000176ac758d54827acd545b6315a5            0.5\n",
       "2  0000019dcefc128c2d4387c1273dae1d            0.5\n",
       "3  0000055553dc51b1295785415f1a224d            0.5\n",
       "4  00000574cefffeca83ec8adf9285b2bf            0.5"
      ]
     },
     "execution_count": 9,
     "metadata": {},
     "output_type": "execute_result"
    }
   ],
   "source": [
    "subm.head()"
   ]
  },
  {
   "cell_type": "code",
   "execution_count": 10,
   "metadata": {
    "collapsed": true
   },
   "outputs": [],
   "source": [
    "test = unpack_pickle('test')"
   ]
  },
  {
   "cell_type": "code",
   "execution_count": 11,
   "metadata": {},
   "outputs": [
    {
     "data": {
      "text/plain": [
       "((7853253, 73), (7853253, 2))"
      ]
     },
     "execution_count": 11,
     "metadata": {},
     "output_type": "execute_result"
    }
   ],
   "source": [
    "test.shape, subm.shape"
   ]
  },
  {
   "cell_type": "code",
   "execution_count": 12,
   "metadata": {},
   "outputs": [
    {
     "data": {
      "text/plain": [
       "True"
      ]
     },
     "execution_count": 12,
     "metadata": {},
     "output_type": "execute_result"
    }
   ],
   "source": [
    "X.columns.dtype == test.columns.dtype"
   ]
  },
  {
   "cell_type": "code",
   "execution_count": 13,
   "metadata": {},
   "outputs": [
    {
     "data": {
      "text/plain": [
       "['Processor',\n",
       " 'OsPlatformSubRelease',\n",
       " 'SkuEdition',\n",
       " 'Census_PrimaryDiskTypeName',\n",
       " 'Census_PowerPlatformRoleName',\n",
       " 'Census_OSArchitecture',\n",
       " 'Census_OSInstallTypeName',\n",
       " 'Census_OSWUAutoUpdateOptionsName',\n",
       " 'Census_GenuineStateName',\n",
       " 'Census_ActivationChannel',\n",
       " 'EngineVersion_1',\n",
       " 'EngineVersion_2',\n",
       " 'AppVersion_1',\n",
       " 'AppVersion_2',\n",
       " 'AvSigVersion_1',\n",
       " 'Census_OSVersion_1']"
      ]
     },
     "execution_count": 13,
     "metadata": {},
     "output_type": "execute_result"
    }
   ],
   "source": [
    "test.select_dtypes(include='category').columns.tolist()"
   ]
  },
  {
   "cell_type": "code",
   "execution_count": 14,
   "metadata": {
    "collapsed": true
   },
   "outputs": [],
   "source": [
    "dtypes = {}\n",
    "for i in X.columns:\n",
    "    dtypes[i] = str(X[i].dtype)"
   ]
  },
  {
   "cell_type": "code",
   "execution_count": 15,
   "metadata": {},
   "outputs": [
    {
     "data": {
      "text/plain": [
       "{'AVProductStatesIdentifier': 'float32',\n",
       " 'AVProductsInstalled': 'float16',\n",
       " 'AppVersion': 'float64',\n",
       " 'AppVersion_1': 'float64',\n",
       " 'AppVersion_2': 'float64',\n",
       " 'AppVersion_3': 'float64',\n",
       " 'AvSigVersion': 'float64',\n",
       " 'AvSigVersion_1': 'float64',\n",
       " 'AvSigVersion_2': 'float64',\n",
       " 'AvSigVersion_3': 'float64',\n",
       " 'Census_ActivationChannel': 'float64',\n",
       " 'Census_ChassisTypeName': 'float64',\n",
       " 'Census_FirmwareManufacturerIdentifier': 'float16',\n",
       " 'Census_FirmwareVersionIdentifier': 'float32',\n",
       " 'Census_FlightRing': 'float64',\n",
       " 'Census_GenuineStateName': 'float64',\n",
       " 'Census_HasOpticalDiskDrive': 'int8',\n",
       " 'Census_InternalBatteryNumberOfCharges': 'float32',\n",
       " 'Census_InternalBatteryType': 'float64',\n",
       " 'Census_InternalPrimaryDiagonalDisplaySizeInInches': 'float16',\n",
       " 'Census_InternalPrimaryDisplayResolutionHorizontal': 'float16',\n",
       " 'Census_InternalPrimaryDisplayResolutionVertical': 'float16',\n",
       " 'Census_IsAlwaysOnAlwaysConnectedCapable': 'float16',\n",
       " 'Census_IsSecureBootEnabled': 'int8',\n",
       " 'Census_IsTouchEnabled': 'int8',\n",
       " 'Census_MDC2FormFactor': 'float64',\n",
       " 'Census_OEMModelIdentifier': 'float32',\n",
       " 'Census_OEMNameIdentifier': 'float16',\n",
       " 'Census_OSArchitecture': 'float64',\n",
       " 'Census_OSBranch': 'float64',\n",
       " 'Census_OSBuildNumber': 'int16',\n",
       " 'Census_OSBuildRevision': 'int32',\n",
       " 'Census_OSEdition': 'float64',\n",
       " 'Census_OSInstallLanguageIdentifier': 'float16',\n",
       " 'Census_OSInstallTypeName': 'float64',\n",
       " 'Census_OSSkuName': 'float64',\n",
       " 'Census_OSUILocaleIdentifier': 'int16',\n",
       " 'Census_OSVersion': 'float64',\n",
       " 'Census_OSVersion_1': 'float64',\n",
       " 'Census_OSVersion_2': 'float64',\n",
       " 'Census_OSVersion_3': 'float64',\n",
       " 'Census_OSWUAutoUpdateOptionsName': 'float64',\n",
       " 'Census_PowerPlatformRoleName': 'float64',\n",
       " 'Census_PrimaryDiskTotalCapacity': 'float32',\n",
       " 'Census_PrimaryDiskTypeName': 'float64',\n",
       " 'Census_ProcessorCoreCount': 'float16',\n",
       " 'Census_ProcessorManufacturerIdentifier': 'float16',\n",
       " 'Census_ProcessorModelIdentifier': 'float16',\n",
       " 'Census_SystemVolumeTotalCapacity': 'float32',\n",
       " 'Census_TotalPhysicalRAM': 'float32',\n",
       " 'CityIdentifier': 'float32',\n",
       " 'CountryIdentifier': 'int16',\n",
       " 'EngineVersion': 'float64',\n",
       " 'EngineVersion_1': 'float64',\n",
       " 'EngineVersion_2': 'float64',\n",
       " 'EngineVersion_3': 'float64',\n",
       " 'GeoNameIdentifier': 'float16',\n",
       " 'IeVerIdentifier': 'float16',\n",
       " 'IsProtected': 'float16',\n",
       " 'LocaleEnglishNameIdentifier': 'int8',\n",
       " 'OrganizationIdentifier': 'float16',\n",
       " 'OsBuild': 'int16',\n",
       " 'OsBuildLab': 'float64',\n",
       " 'OsBuildLab_1': 'float64',\n",
       " 'OsBuildLab_2': 'float64',\n",
       " 'OsBuildLab_3': 'float64',\n",
       " 'OsPlatformSubRelease': 'float64',\n",
       " 'OsSuite': 'int16',\n",
       " 'Processor': 'float64',\n",
       " 'SkuEdition': 'float64',\n",
       " 'SmartScreen': 'float64',\n",
       " 'Wdft_IsGamer': 'float16',\n",
       " 'Wdft_RegionIdentifier': 'float16'}"
      ]
     },
     "execution_count": 15,
     "metadata": {},
     "output_type": "execute_result"
    }
   ],
   "source": [
    "dtypes"
   ]
  },
  {
   "cell_type": "code",
   "execution_count": 16,
   "metadata": {
    "collapsed": true
   },
   "outputs": [],
   "source": [
    "for i in dtypes:\n",
    "    test[i] = test[i].astype(dtypes[i])"
   ]
  },
  {
   "cell_type": "code",
   "execution_count": 17,
   "metadata": {},
   "outputs": [
    {
     "data": {
      "text/plain": [
       "[]"
      ]
     },
     "execution_count": 17,
     "metadata": {},
     "output_type": "execute_result"
    }
   ],
   "source": [
    "test.select_dtypes(include='category').columns.tolist()"
   ]
  },
  {
   "cell_type": "code",
   "execution_count": 18,
   "metadata": {
    "collapsed": true
   },
   "outputs": [],
   "source": [
    "preds = model.predict_proba(test)"
   ]
  },
  {
   "cell_type": "code",
   "execution_count": 19,
   "metadata": {},
   "outputs": [],
   "source": [
    "subm['HasDetections'] = preds[:, 1]"
   ]
  },
  {
   "cell_type": "code",
   "execution_count": 21,
   "metadata": {},
   "outputs": [],
   "source": [
    "subm.to_csv('sample_submission_1.csv', encoding='utf-8', index=False)"
   ]
  },
  {
   "cell_type": "code",
   "execution_count": 22,
   "metadata": {},
   "outputs": [
    {
     "data": {
      "text/html": [
       "<div>\n",
       "<style scoped>\n",
       "    .dataframe tbody tr th:only-of-type {\n",
       "        vertical-align: middle;\n",
       "    }\n",
       "\n",
       "    .dataframe tbody tr th {\n",
       "        vertical-align: top;\n",
       "    }\n",
       "\n",
       "    .dataframe thead th {\n",
       "        text-align: right;\n",
       "    }\n",
       "</style>\n",
       "<table border=\"1\" class=\"dataframe\">\n",
       "  <thead>\n",
       "    <tr style=\"text-align: right;\">\n",
       "      <th></th>\n",
       "      <th>MachineIdentifier</th>\n",
       "      <th>HasDetections</th>\n",
       "    </tr>\n",
       "  </thead>\n",
       "  <tbody>\n",
       "    <tr>\n",
       "      <th>0</th>\n",
       "      <td>0000010489e3af074adeac69c53e555e</td>\n",
       "      <td>0.606825</td>\n",
       "    </tr>\n",
       "    <tr>\n",
       "      <th>1</th>\n",
       "      <td>00000176ac758d54827acd545b6315a5</td>\n",
       "      <td>0.671235</td>\n",
       "    </tr>\n",
       "    <tr>\n",
       "      <th>2</th>\n",
       "      <td>0000019dcefc128c2d4387c1273dae1d</td>\n",
       "      <td>0.490718</td>\n",
       "    </tr>\n",
       "    <tr>\n",
       "      <th>3</th>\n",
       "      <td>0000055553dc51b1295785415f1a224d</td>\n",
       "      <td>0.382810</td>\n",
       "    </tr>\n",
       "    <tr>\n",
       "      <th>4</th>\n",
       "      <td>00000574cefffeca83ec8adf9285b2bf</td>\n",
       "      <td>0.568768</td>\n",
       "    </tr>\n",
       "  </tbody>\n",
       "</table>\n",
       "</div>"
      ],
      "text/plain": [
       "                  MachineIdentifier  HasDetections\n",
       "0  0000010489e3af074adeac69c53e555e       0.606825\n",
       "1  00000176ac758d54827acd545b6315a5       0.671235\n",
       "2  0000019dcefc128c2d4387c1273dae1d       0.490718\n",
       "3  0000055553dc51b1295785415f1a224d       0.382810\n",
       "4  00000574cefffeca83ec8adf9285b2bf       0.568768"
      ]
     },
     "execution_count": 22,
     "metadata": {},
     "output_type": "execute_result"
    }
   ],
   "source": [
    "subm.head()"
   ]
  },
  {
   "cell_type": "code",
   "execution_count": null,
   "metadata": {
    "collapsed": true
   },
   "outputs": [],
   "source": []
  }
 ],
 "metadata": {
  "kernelspec": {
   "display_name": "Python 3",
   "language": "python",
   "name": "python3"
  },
  "language_info": {
   "codemirror_mode": {
    "name": "ipython",
    "version": 3
   },
   "file_extension": ".py",
   "mimetype": "text/x-python",
   "name": "python",
   "nbconvert_exporter": "python",
   "pygments_lexer": "ipython3",
   "version": "3.6.3"
  }
 },
 "nbformat": 4,
 "nbformat_minor": 2
}
