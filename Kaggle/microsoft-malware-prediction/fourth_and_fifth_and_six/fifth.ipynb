{
 "cells": [
  {
   "cell_type": "code",
   "execution_count": 1,
   "metadata": {},
   "outputs": [
    {
     "name": "stderr",
     "output_type": "stream",
     "text": [
      "/anaconda3/lib/python3.6/importlib/_bootstrap.py:219: RuntimeWarning: numpy.dtype size changed, may indicate binary incompatibility. Expected 96, got 88\n",
      "  return f(*args, **kwds)\n"
     ]
    }
   ],
   "source": [
    "import pandas as pd\n",
    "import numpy as np\n",
    "import matplotlib.pyplot as plt\n",
    "import pickle\n",
    "import os.path"
   ]
  },
  {
   "cell_type": "code",
   "execution_count": 2,
   "metadata": {
    "collapsed": true
   },
   "outputs": [],
   "source": [
    "def unpack_pickle(obj_name):\n",
    "    file_path = \"{0}.pkl\".format(obj_name)\n",
    "    n_bytes = 2**31\n",
    "    max_bytes = 2**31 - 1\n",
    "    data = bytearray(n_bytes)\n",
    "    \n",
    "    ## read\n",
    "    bytes_in = bytearray(0)\n",
    "    input_size = os.path.getsize(file_path)\n",
    "    with open(file_path, 'rb') as f_in:\n",
    "        for _ in range(0, input_size, max_bytes):\n",
    "            bytes_in += f_in.read(max_bytes)\n",
    "    loaded_data = pickle.loads(bytes_in)\n",
    "    return loaded_data"
   ]
  },
  {
   "cell_type": "code",
   "execution_count": 3,
   "metadata": {
    "collapsed": true
   },
   "outputs": [],
   "source": [
    "X = unpack_pickle('X')"
   ]
  },
  {
   "cell_type": "code",
   "execution_count": 4,
   "metadata": {
    "collapsed": true
   },
   "outputs": [],
   "source": [
    "y = unpack_pickle('y')"
   ]
  },
  {
   "cell_type": "code",
   "execution_count": 5,
   "metadata": {},
   "outputs": [
    {
     "data": {
      "text/plain": [
       "((7730792, 73), (7730792,))"
      ]
     },
     "execution_count": 5,
     "metadata": {},
     "output_type": "execute_result"
    }
   ],
   "source": [
    "X.shape, y.shape"
   ]
  },
  {
   "cell_type": "code",
   "execution_count": 6,
   "metadata": {
    "collapsed": true
   },
   "outputs": [],
   "source": [
    "subm = pd.read_csv('../sample_submission.csv')"
   ]
  },
  {
   "cell_type": "code",
   "execution_count": 7,
   "metadata": {},
   "outputs": [
    {
     "data": {
      "text/html": [
       "<div>\n",
       "<style scoped>\n",
       "    .dataframe tbody tr th:only-of-type {\n",
       "        vertical-align: middle;\n",
       "    }\n",
       "\n",
       "    .dataframe tbody tr th {\n",
       "        vertical-align: top;\n",
       "    }\n",
       "\n",
       "    .dataframe thead th {\n",
       "        text-align: right;\n",
       "    }\n",
       "</style>\n",
       "<table border=\"1\" class=\"dataframe\">\n",
       "  <thead>\n",
       "    <tr style=\"text-align: right;\">\n",
       "      <th></th>\n",
       "      <th>MachineIdentifier</th>\n",
       "      <th>HasDetections</th>\n",
       "    </tr>\n",
       "  </thead>\n",
       "  <tbody>\n",
       "    <tr>\n",
       "      <th>0</th>\n",
       "      <td>0000010489e3af074adeac69c53e555e</td>\n",
       "      <td>0.5</td>\n",
       "    </tr>\n",
       "    <tr>\n",
       "      <th>1</th>\n",
       "      <td>00000176ac758d54827acd545b6315a5</td>\n",
       "      <td>0.5</td>\n",
       "    </tr>\n",
       "    <tr>\n",
       "      <th>2</th>\n",
       "      <td>0000019dcefc128c2d4387c1273dae1d</td>\n",
       "      <td>0.5</td>\n",
       "    </tr>\n",
       "    <tr>\n",
       "      <th>3</th>\n",
       "      <td>0000055553dc51b1295785415f1a224d</td>\n",
       "      <td>0.5</td>\n",
       "    </tr>\n",
       "    <tr>\n",
       "      <th>4</th>\n",
       "      <td>00000574cefffeca83ec8adf9285b2bf</td>\n",
       "      <td>0.5</td>\n",
       "    </tr>\n",
       "  </tbody>\n",
       "</table>\n",
       "</div>"
      ],
      "text/plain": [
       "                  MachineIdentifier  HasDetections\n",
       "0  0000010489e3af074adeac69c53e555e            0.5\n",
       "1  00000176ac758d54827acd545b6315a5            0.5\n",
       "2  0000019dcefc128c2d4387c1273dae1d            0.5\n",
       "3  0000055553dc51b1295785415f1a224d            0.5\n",
       "4  00000574cefffeca83ec8adf9285b2bf            0.5"
      ]
     },
     "execution_count": 7,
     "metadata": {},
     "output_type": "execute_result"
    }
   ],
   "source": [
    "subm.head()"
   ]
  },
  {
   "cell_type": "code",
   "execution_count": 10,
   "metadata": {},
   "outputs": [],
   "source": [
    "test = unpack_pickle('../second_n_third/test')"
   ]
  },
  {
   "cell_type": "code",
   "execution_count": 11,
   "metadata": {},
   "outputs": [
    {
     "data": {
      "text/plain": [
       "((7853253, 73), (7853253, 2))"
      ]
     },
     "execution_count": 11,
     "metadata": {},
     "output_type": "execute_result"
    }
   ],
   "source": [
    "test.shape, subm.shape"
   ]
  },
  {
   "cell_type": "code",
   "execution_count": 12,
   "metadata": {},
   "outputs": [
    {
     "data": {
      "text/plain": [
       "True"
      ]
     },
     "execution_count": 12,
     "metadata": {},
     "output_type": "execute_result"
    }
   ],
   "source": [
    "X.columns.dtype == test.columns.dtype"
   ]
  },
  {
   "cell_type": "code",
   "execution_count": 13,
   "metadata": {},
   "outputs": [
    {
     "data": {
      "text/plain": [
       "['Processor',\n",
       " 'OsPlatformSubRelease',\n",
       " 'SkuEdition',\n",
       " 'Census_PrimaryDiskTypeName',\n",
       " 'Census_PowerPlatformRoleName',\n",
       " 'Census_OSArchitecture',\n",
       " 'Census_OSInstallTypeName',\n",
       " 'Census_OSWUAutoUpdateOptionsName',\n",
       " 'Census_GenuineStateName',\n",
       " 'Census_ActivationChannel',\n",
       " 'EngineVersion_1',\n",
       " 'EngineVersion_2',\n",
       " 'AppVersion_1',\n",
       " 'AppVersion_2',\n",
       " 'AvSigVersion_1',\n",
       " 'Census_OSVersion_1']"
      ]
     },
     "execution_count": 13,
     "metadata": {},
     "output_type": "execute_result"
    }
   ],
   "source": [
    "test.select_dtypes(include='category').columns.tolist()"
   ]
  },
  {
   "cell_type": "code",
   "execution_count": 14,
   "metadata": {
    "collapsed": true
   },
   "outputs": [],
   "source": [
    "dtypes = {}\n",
    "for i in X.columns:\n",
    "    dtypes[i] = str(X[i].dtype)"
   ]
  },
  {
   "cell_type": "code",
   "execution_count": 15,
   "metadata": {},
   "outputs": [
    {
     "data": {
      "text/plain": [
       "{'AVProductStatesIdentifier': 'float32',\n",
       " 'AVProductsInstalled': 'float16',\n",
       " 'AppVersion': 'float64',\n",
       " 'AppVersion_1': 'float64',\n",
       " 'AppVersion_2': 'float64',\n",
       " 'AppVersion_3': 'float64',\n",
       " 'AvSigVersion': 'float64',\n",
       " 'AvSigVersion_1': 'float64',\n",
       " 'AvSigVersion_2': 'float64',\n",
       " 'AvSigVersion_3': 'float64',\n",
       " 'Census_ActivationChannel': 'float64',\n",
       " 'Census_ChassisTypeName': 'float64',\n",
       " 'Census_FirmwareManufacturerIdentifier': 'float16',\n",
       " 'Census_FirmwareVersionIdentifier': 'float32',\n",
       " 'Census_FlightRing': 'float64',\n",
       " 'Census_GenuineStateName': 'float64',\n",
       " 'Census_HasOpticalDiskDrive': 'int8',\n",
       " 'Census_InternalBatteryNumberOfCharges': 'float32',\n",
       " 'Census_InternalBatteryType': 'float64',\n",
       " 'Census_InternalPrimaryDiagonalDisplaySizeInInches': 'float16',\n",
       " 'Census_InternalPrimaryDisplayResolutionHorizontal': 'float16',\n",
       " 'Census_InternalPrimaryDisplayResolutionVertical': 'float16',\n",
       " 'Census_IsAlwaysOnAlwaysConnectedCapable': 'float16',\n",
       " 'Census_IsSecureBootEnabled': 'int8',\n",
       " 'Census_IsTouchEnabled': 'int8',\n",
       " 'Census_MDC2FormFactor': 'float64',\n",
       " 'Census_OEMModelIdentifier': 'float32',\n",
       " 'Census_OEMNameIdentifier': 'float16',\n",
       " 'Census_OSArchitecture': 'float64',\n",
       " 'Census_OSBranch': 'float64',\n",
       " 'Census_OSBuildNumber': 'int16',\n",
       " 'Census_OSBuildRevision': 'int32',\n",
       " 'Census_OSEdition': 'float64',\n",
       " 'Census_OSInstallLanguageIdentifier': 'float16',\n",
       " 'Census_OSInstallTypeName': 'float64',\n",
       " 'Census_OSSkuName': 'float64',\n",
       " 'Census_OSUILocaleIdentifier': 'int16',\n",
       " 'Census_OSVersion': 'float64',\n",
       " 'Census_OSVersion_1': 'float64',\n",
       " 'Census_OSVersion_2': 'float64',\n",
       " 'Census_OSVersion_3': 'float64',\n",
       " 'Census_OSWUAutoUpdateOptionsName': 'float64',\n",
       " 'Census_PowerPlatformRoleName': 'float64',\n",
       " 'Census_PrimaryDiskTotalCapacity': 'float32',\n",
       " 'Census_PrimaryDiskTypeName': 'float64',\n",
       " 'Census_ProcessorCoreCount': 'float16',\n",
       " 'Census_ProcessorManufacturerIdentifier': 'float16',\n",
       " 'Census_ProcessorModelIdentifier': 'float16',\n",
       " 'Census_SystemVolumeTotalCapacity': 'float32',\n",
       " 'Census_TotalPhysicalRAM': 'float32',\n",
       " 'CityIdentifier': 'float32',\n",
       " 'CountryIdentifier': 'int16',\n",
       " 'EngineVersion': 'float64',\n",
       " 'EngineVersion_1': 'float64',\n",
       " 'EngineVersion_2': 'float64',\n",
       " 'EngineVersion_3': 'float64',\n",
       " 'GeoNameIdentifier': 'float16',\n",
       " 'IeVerIdentifier': 'float16',\n",
       " 'IsProtected': 'float16',\n",
       " 'LocaleEnglishNameIdentifier': 'int8',\n",
       " 'OrganizationIdentifier': 'float16',\n",
       " 'OsBuild': 'int16',\n",
       " 'OsBuildLab': 'float64',\n",
       " 'OsBuildLab_1': 'float64',\n",
       " 'OsBuildLab_2': 'float64',\n",
       " 'OsBuildLab_3': 'float64',\n",
       " 'OsPlatformSubRelease': 'float64',\n",
       " 'OsSuite': 'int16',\n",
       " 'Processor': 'float64',\n",
       " 'SkuEdition': 'float64',\n",
       " 'SmartScreen': 'float64',\n",
       " 'Wdft_IsGamer': 'float16',\n",
       " 'Wdft_RegionIdentifier': 'float16'}"
      ]
     },
     "execution_count": 15,
     "metadata": {},
     "output_type": "execute_result"
    }
   ],
   "source": [
    "dtypes"
   ]
  },
  {
   "cell_type": "code",
   "execution_count": 16,
   "metadata": {
    "collapsed": true
   },
   "outputs": [],
   "source": [
    "for i in dtypes:\n",
    "    test[i] = test[i].astype(dtypes[i])"
   ]
  },
  {
   "cell_type": "code",
   "execution_count": 17,
   "metadata": {},
   "outputs": [
    {
     "data": {
      "text/plain": [
       "[]"
      ]
     },
     "execution_count": 17,
     "metadata": {},
     "output_type": "execute_result"
    }
   ],
   "source": [
    "test.select_dtypes(include='category').columns.tolist()"
   ]
  },
  {
   "cell_type": "code",
   "execution_count": 35,
   "metadata": {
    "collapsed": true
   },
   "outputs": [],
   "source": [
    "import lightgbm as lgb\n",
    "from sklearn.model_selection import StratifiedKFold\n",
    "import gc\n",
    "gc.enable()"
   ]
  },
  {
   "cell_type": "code",
   "execution_count": 36,
   "metadata": {
    "collapsed": true
   },
   "outputs": [],
   "source": [
    "params = {\n",
    "    'boosting_type': 'gbdt',\n",
    "    'objective': 'binary',\n",
    "    'n_estimators': 4000,\n",
    "    'colsample_bytree': 0.8, \n",
    "    'learning_rate': 0.6000000000000001, \n",
    "    'max_depth': 20,\n",
    "    'metric': 'auc',\n",
    "    'reg_alpha': 0.6000000000000001, \n",
    "    'reg_lambda': 0.5, \n",
    "    'subsample': 0.8\n",
    "}"
   ]
  },
  {
   "cell_type": "code",
   "execution_count": 31,
   "metadata": {
    "collapsed": true
   },
   "outputs": [],
   "source": [
    "sub=subm['MachineIdentifier'].to_frame()\n",
    "sub['HasDetections']=0\n",
    "sub['1']=0"
   ]
  },
  {
   "cell_type": "code",
   "execution_count": 32,
   "metadata": {},
   "outputs": [
    {
     "data": {
      "text/html": [
       "<div>\n",
       "<style scoped>\n",
       "    .dataframe tbody tr th:only-of-type {\n",
       "        vertical-align: middle;\n",
       "    }\n",
       "\n",
       "    .dataframe tbody tr th {\n",
       "        vertical-align: top;\n",
       "    }\n",
       "\n",
       "    .dataframe thead th {\n",
       "        text-align: right;\n",
       "    }\n",
       "</style>\n",
       "<table border=\"1\" class=\"dataframe\">\n",
       "  <thead>\n",
       "    <tr style=\"text-align: right;\">\n",
       "      <th></th>\n",
       "      <th>MachineIdentifier</th>\n",
       "      <th>HasDetections</th>\n",
       "      <th>1</th>\n",
       "    </tr>\n",
       "  </thead>\n",
       "  <tbody>\n",
       "    <tr>\n",
       "      <th>0</th>\n",
       "      <td>0000010489e3af074adeac69c53e555e</td>\n",
       "      <td>0</td>\n",
       "      <td>0</td>\n",
       "    </tr>\n",
       "    <tr>\n",
       "      <th>1</th>\n",
       "      <td>00000176ac758d54827acd545b6315a5</td>\n",
       "      <td>0</td>\n",
       "      <td>0</td>\n",
       "    </tr>\n",
       "    <tr>\n",
       "      <th>2</th>\n",
       "      <td>0000019dcefc128c2d4387c1273dae1d</td>\n",
       "      <td>0</td>\n",
       "      <td>0</td>\n",
       "    </tr>\n",
       "    <tr>\n",
       "      <th>3</th>\n",
       "      <td>0000055553dc51b1295785415f1a224d</td>\n",
       "      <td>0</td>\n",
       "      <td>0</td>\n",
       "    </tr>\n",
       "    <tr>\n",
       "      <th>4</th>\n",
       "      <td>00000574cefffeca83ec8adf9285b2bf</td>\n",
       "      <td>0</td>\n",
       "      <td>0</td>\n",
       "    </tr>\n",
       "  </tbody>\n",
       "</table>\n",
       "</div>"
      ],
      "text/plain": [
       "                  MachineIdentifier  HasDetections  1\n",
       "0  0000010489e3af074adeac69c53e555e              0  0\n",
       "1  00000176ac758d54827acd545b6315a5              0  0\n",
       "2  0000019dcefc128c2d4387c1273dae1d              0  0\n",
       "3  0000055553dc51b1295785415f1a224d              0  0\n",
       "4  00000574cefffeca83ec8adf9285b2bf              0  0"
      ]
     },
     "execution_count": 32,
     "metadata": {},
     "output_type": "execute_result"
    }
   ],
   "source": [
    "sub.head()"
   ]
  },
  {
   "cell_type": "code",
   "execution_count": 22,
   "metadata": {
    "collapsed": true
   },
   "outputs": [],
   "source": [
    "kfold = 4"
   ]
  },
  {
   "cell_type": "code",
   "execution_count": 23,
   "metadata": {
    "collapsed": true
   },
   "outputs": [],
   "source": [
    "X = X.values\n",
    "y = y.values"
   ]
  },
  {
   "cell_type": "code",
   "execution_count": 24,
   "metadata": {
    "collapsed": true
   },
   "outputs": [],
   "source": [
    "test = test.values"
   ]
  },
  {
   "cell_type": "code",
   "execution_count": 25,
   "metadata": {},
   "outputs": [
    {
     "data": {
      "text/plain": [
       "21"
      ]
     },
     "execution_count": 25,
     "metadata": {},
     "output_type": "execute_result"
    }
   ],
   "source": [
    "gc.collect()"
   ]
  },
  {
   "cell_type": "code",
   "execution_count": 37,
   "metadata": {
    "scrolled": false
   },
   "outputs": [
    {
     "name": "stdout",
     "output_type": "stream",
     "text": [
      " lgb kfold: 1  of  4 : \n"
     ]
    },
    {
     "name": "stderr",
     "output_type": "stream",
     "text": [
      "/anaconda3/lib/python3.6/site-packages/lightgbm/engine.py:102: UserWarning: Found `n_estimators` in params. Will use it instead of argument\n",
      "  warnings.warn(\"Found `{}` in params. Will use it instead of argument\".format(alias))\n"
     ]
    },
    {
     "name": "stdout",
     "output_type": "stream",
     "text": [
      "Training until validation scores don't improve for 100 rounds.\n",
      "[100]\tvalid_0's auc: 0.726769\n",
      "[200]\tvalid_0's auc: 0.730133\n",
      "[300]\tvalid_0's auc: 0.731216\n",
      "[400]\tvalid_0's auc: 0.731755\n",
      "[500]\tvalid_0's auc: 0.731917\n",
      "[600]\tvalid_0's auc: 0.731936\n",
      "[700]\tvalid_0's auc: 0.731936\n",
      "Early stopping, best iteration is:\n",
      "[670]\tvalid_0's auc: 0.73202\n",
      " lgb kfold: 2  of  4 : \n",
      "Training until validation scores don't improve for 100 rounds.\n",
      "[100]\tvalid_0's auc: 0.726473\n",
      "[200]\tvalid_0's auc: 0.729655\n",
      "[300]\tvalid_0's auc: 0.730931\n",
      "[400]\tvalid_0's auc: 0.731441\n",
      "[500]\tvalid_0's auc: 0.731788\n",
      "Early stopping, best iteration is:\n",
      "[490]\tvalid_0's auc: 0.731815\n",
      " lgb kfold: 3  of  4 : \n",
      "Training until validation scores don't improve for 100 rounds.\n",
      "[100]\tvalid_0's auc: 0.726931\n",
      "[200]\tvalid_0's auc: 0.730065\n",
      "[300]\tvalid_0's auc: 0.731592\n",
      "[400]\tvalid_0's auc: 0.73204\n",
      "[500]\tvalid_0's auc: 0.732259\n",
      "[600]\tvalid_0's auc: 0.732111\n",
      "Early stopping, best iteration is:\n",
      "[504]\tvalid_0's auc: 0.732308\n",
      " lgb kfold: 4  of  4 : \n",
      "Training until validation scores don't improve for 100 rounds.\n",
      "[100]\tvalid_0's auc: 0.727113\n",
      "[200]\tvalid_0's auc: 0.730501\n",
      "[300]\tvalid_0's auc: 0.731574\n",
      "[400]\tvalid_0's auc: 0.732096\n",
      "[500]\tvalid_0's auc: 0.732359\n",
      "[600]\tvalid_0's auc: 0.732259\n",
      "Early stopping, best iteration is:\n",
      "[503]\tvalid_0's auc: 0.732425\n"
     ]
    },
    {
     "data": {
      "text/plain": [
       "830"
      ]
     },
     "execution_count": 37,
     "metadata": {},
     "output_type": "execute_result"
    }
   ],
   "source": [
    "skf = StratifiedKFold(n_splits=kfold, random_state=2200)\n",
    "for i, (train_index, test_index) in enumerate(skf.split(X, y)):\n",
    "    print(' lgb kfold: {}  of  {} : '.format(i+1, kfold))\n",
    "    X_train, X_eval = X[train_index], X[test_index]\n",
    "    y_train, y_eval = y[train_index], y[test_index]\n",
    "    dset = lgb.Dataset(X_train, label=y_train)\n",
    "    dset_eval = lgb.Dataset(X_eval, label=y_eval)\n",
    "    lgb_model = lgb.train(params, dset, 4000, dset_eval,\n",
    "                          verbose_eval=100, early_stopping_rounds=100)\n",
    "    sub['1'] += lgb_model.predict(test, \n",
    "                        num_iteration=lgb_model.best_iteration) / (kfold)\n",
    "     \n",
    "gc.collect()"
   ]
  },
  {
   "cell_type": "code",
   "execution_count": 38,
   "metadata": {
    "collapsed": true
   },
   "outputs": [],
   "source": [
    "public_nffm_subm = pd.read_csv('nffm_submission.csv')"
   ]
  },
  {
   "cell_type": "code",
   "execution_count": 39,
   "metadata": {
    "collapsed": true
   },
   "outputs": [],
   "source": [
    "sub['2'] = public_nffm_subm['HasDetections']"
   ]
  },
  {
   "cell_type": "code",
   "execution_count": 40,
   "metadata": {
    "collapsed": true
   },
   "outputs": [],
   "source": [
    "sub['HasDetections'] = (sub['1'] + sub['2']) / 2"
   ]
  },
  {
   "cell_type": "code",
   "execution_count": 42,
   "metadata": {},
   "outputs": [
    {
     "data": {
      "text/html": [
       "<div>\n",
       "<style scoped>\n",
       "    .dataframe tbody tr th:only-of-type {\n",
       "        vertical-align: middle;\n",
       "    }\n",
       "\n",
       "    .dataframe tbody tr th {\n",
       "        vertical-align: top;\n",
       "    }\n",
       "\n",
       "    .dataframe thead th {\n",
       "        text-align: right;\n",
       "    }\n",
       "</style>\n",
       "<table border=\"1\" class=\"dataframe\">\n",
       "  <thead>\n",
       "    <tr style=\"text-align: right;\">\n",
       "      <th></th>\n",
       "      <th>MachineIdentifier</th>\n",
       "      <th>HasDetections</th>\n",
       "      <th>1</th>\n",
       "      <th>2</th>\n",
       "    </tr>\n",
       "  </thead>\n",
       "  <tbody>\n",
       "    <tr>\n",
       "      <th>0</th>\n",
       "      <td>0000010489e3af074adeac69c53e555e</td>\n",
       "      <td>0.579821</td>\n",
       "      <td>0.631393</td>\n",
       "      <td>0.528249</td>\n",
       "    </tr>\n",
       "    <tr>\n",
       "      <th>1</th>\n",
       "      <td>00000176ac758d54827acd545b6315a5</td>\n",
       "      <td>0.699366</td>\n",
       "      <td>0.884686</td>\n",
       "      <td>0.514046</td>\n",
       "    </tr>\n",
       "    <tr>\n",
       "      <th>2</th>\n",
       "      <td>0000019dcefc128c2d4387c1273dae1d</td>\n",
       "      <td>0.692680</td>\n",
       "      <td>0.835116</td>\n",
       "      <td>0.550244</td>\n",
       "    </tr>\n",
       "    <tr>\n",
       "      <th>3</th>\n",
       "      <td>0000055553dc51b1295785415f1a224d</td>\n",
       "      <td>0.492575</td>\n",
       "      <td>0.624165</td>\n",
       "      <td>0.360985</td>\n",
       "    </tr>\n",
       "    <tr>\n",
       "      <th>4</th>\n",
       "      <td>00000574cefffeca83ec8adf9285b2bf</td>\n",
       "      <td>0.617335</td>\n",
       "      <td>0.747860</td>\n",
       "      <td>0.486810</td>\n",
       "    </tr>\n",
       "  </tbody>\n",
       "</table>\n",
       "</div>"
      ],
      "text/plain": [
       "                  MachineIdentifier  HasDetections         1         2\n",
       "0  0000010489e3af074adeac69c53e555e       0.579821  0.631393  0.528249\n",
       "1  00000176ac758d54827acd545b6315a5       0.699366  0.884686  0.514046\n",
       "2  0000019dcefc128c2d4387c1273dae1d       0.692680  0.835116  0.550244\n",
       "3  0000055553dc51b1295785415f1a224d       0.492575  0.624165  0.360985\n",
       "4  00000574cefffeca83ec8adf9285b2bf       0.617335  0.747860  0.486810"
      ]
     },
     "execution_count": 42,
     "metadata": {},
     "output_type": "execute_result"
    }
   ],
   "source": [
    "sub.head()"
   ]
  },
  {
   "cell_type": "code",
   "execution_count": 43,
   "metadata": {
    "collapsed": true
   },
   "outputs": [],
   "source": [
    "sub = sub.drop(columns=['1', '2'])"
   ]
  },
  {
   "cell_type": "code",
   "execution_count": 44,
   "metadata": {},
   "outputs": [
    {
     "data": {
      "text/html": [
       "<div>\n",
       "<style scoped>\n",
       "    .dataframe tbody tr th:only-of-type {\n",
       "        vertical-align: middle;\n",
       "    }\n",
       "\n",
       "    .dataframe tbody tr th {\n",
       "        vertical-align: top;\n",
       "    }\n",
       "\n",
       "    .dataframe thead th {\n",
       "        text-align: right;\n",
       "    }\n",
       "</style>\n",
       "<table border=\"1\" class=\"dataframe\">\n",
       "  <thead>\n",
       "    <tr style=\"text-align: right;\">\n",
       "      <th></th>\n",
       "      <th>MachineIdentifier</th>\n",
       "      <th>HasDetections</th>\n",
       "    </tr>\n",
       "  </thead>\n",
       "  <tbody>\n",
       "    <tr>\n",
       "      <th>0</th>\n",
       "      <td>0000010489e3af074adeac69c53e555e</td>\n",
       "      <td>0.579821</td>\n",
       "    </tr>\n",
       "    <tr>\n",
       "      <th>1</th>\n",
       "      <td>00000176ac758d54827acd545b6315a5</td>\n",
       "      <td>0.699366</td>\n",
       "    </tr>\n",
       "    <tr>\n",
       "      <th>2</th>\n",
       "      <td>0000019dcefc128c2d4387c1273dae1d</td>\n",
       "      <td>0.692680</td>\n",
       "    </tr>\n",
       "    <tr>\n",
       "      <th>3</th>\n",
       "      <td>0000055553dc51b1295785415f1a224d</td>\n",
       "      <td>0.492575</td>\n",
       "    </tr>\n",
       "    <tr>\n",
       "      <th>4</th>\n",
       "      <td>00000574cefffeca83ec8adf9285b2bf</td>\n",
       "      <td>0.617335</td>\n",
       "    </tr>\n",
       "  </tbody>\n",
       "</table>\n",
       "</div>"
      ],
      "text/plain": [
       "                  MachineIdentifier  HasDetections\n",
       "0  0000010489e3af074adeac69c53e555e       0.579821\n",
       "1  00000176ac758d54827acd545b6315a5       0.699366\n",
       "2  0000019dcefc128c2d4387c1273dae1d       0.692680\n",
       "3  0000055553dc51b1295785415f1a224d       0.492575\n",
       "4  00000574cefffeca83ec8adf9285b2bf       0.617335"
      ]
     },
     "execution_count": 44,
     "metadata": {},
     "output_type": "execute_result"
    }
   ],
   "source": [
    "sub.head()"
   ]
  },
  {
   "cell_type": "code",
   "execution_count": 45,
   "metadata": {
    "collapsed": true
   },
   "outputs": [],
   "source": [
    "sub.to_csv('fifth_submit.csv', index=False, float_format='%.5f')"
   ]
  },
  {
   "cell_type": "markdown",
   "metadata": {},
   "source": [
    "Fifth submit. mean(CV after hyperopt new LGB params + with public NFFM 890 score predict)"
   ]
  },
  {
   "cell_type": "code",
   "execution_count": null,
   "metadata": {
    "collapsed": true
   },
   "outputs": [],
   "source": []
  }
 ],
 "metadata": {
  "kernelspec": {
   "display_name": "Python 3",
   "language": "python",
   "name": "python3"
  },
  "language_info": {
   "codemirror_mode": {
    "name": "ipython",
    "version": 3
   },
   "file_extension": ".py",
   "mimetype": "text/x-python",
   "name": "python",
   "nbconvert_exporter": "python",
   "pygments_lexer": "ipython3",
   "version": "3.6.3"
  }
 },
 "nbformat": 4,
 "nbformat_minor": 2
}
