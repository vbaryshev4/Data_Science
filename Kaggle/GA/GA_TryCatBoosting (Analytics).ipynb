{
 "cells": [
  {
   "cell_type": "code",
   "execution_count": 1,
   "metadata": {},
   "outputs": [
    {
     "name": "stderr",
     "output_type": "stream",
     "text": [
      "/anaconda3/lib/python3.6/importlib/_bootstrap.py:219: RuntimeWarning: numpy.dtype size changed, may indicate binary incompatibility. Expected 96, got 88\n",
      "  return f(*args, **kwds)\n",
      "/anaconda3/lib/python3.6/importlib/_bootstrap.py:219: RuntimeWarning: numpy.dtype size changed, may indicate binary incompatibility. Expected 96, got 88\n",
      "  return f(*args, **kwds)\n"
     ]
    }
   ],
   "source": [
    "import os\n",
    "import json\n",
    "import pickle\n",
    "import numpy as np\n",
    "import pandas as pd\n",
    "from tqdm import tqdm_notebook\n",
    "import matplotlib.pyplot as plt\n",
    "from catboost import CatBoostRegressor\n",
    "\n",
    "# Displaying pd Dataframe options\n",
    "pd.set_option('display.max_columns', 500)\n",
    "pd.set_option('display.width', 1000)\n",
    "pd.set_option('display.max_colwidth', 1000)"
   ]
  },
  {
   "cell_type": "code",
   "execution_count": 2,
   "metadata": {},
   "outputs": [
    {
     "name": "stdout",
     "output_type": "stream",
     "text": [
      "CPU times: user 2.91 s, sys: 811 ms, total: 3.72 s\n",
      "Wall time: 3.78 s\n"
     ]
    }
   ],
   "source": [
    "%%time\n",
    "# Get datas from pickle\n",
    "train_df = pd.read_pickle('train_df.pickle')\n",
    "train_df['date'] = pd.to_datetime(train_df['date'], format='%Y%m%d')\n",
    "train_df['weekday'] = train_df['date'].dt.weekday_name\n",
    "train_df['day_off'] = (train_df['date'].dt.dayofweek > 4).astype(int)\n"
   ]
  },
  {
   "cell_type": "code",
   "execution_count": 3,
   "metadata": {},
   "outputs": [
    {
     "name": "stdout",
     "output_type": "stream",
     "text": [
      "CPU times: user 2.68 s, sys: 917 ms, total: 3.6 s\n",
      "Wall time: 3.72 s\n"
     ]
    }
   ],
   "source": [
    "%%time\n",
    "test_df = pd.read_pickle('test_df.pickle')\n",
    "test_df['date'] = pd.to_datetime(test_df['date'], format='%Y%m%d')\n",
    "test_df['weekday'] = test_df['date'].dt.weekday_name\n",
    "test_df['day_off'] = (test_df['date'].dt.dayofweek > 4).astype(int)"
   ]
  },
  {
   "cell_type": "code",
   "execution_count": 4,
   "metadata": {
    "collapsed": true
   },
   "outputs": [],
   "source": [
    "def check_diff_in_dfs():\n",
    "    print('train_df \\ test_df', set(train_df.columns).difference(set(test_df.columns)))\n",
    "    print('test_df \\ train_df', set(test_df.columns).difference(set(train_df.columns)))"
   ]
  },
  {
   "cell_type": "code",
   "execution_count": 5,
   "metadata": {},
   "outputs": [
    {
     "name": "stdout",
     "output_type": "stream",
     "text": [
      "train_df \\ test_df {'transactionRevenue'}\n",
      "test_df \\ train_df set()\n"
     ]
    }
   ],
   "source": [
    "# Data revision\n",
    "check_diff_in_dfs()"
   ]
  },
  {
   "cell_type": "markdown",
   "metadata": {},
   "source": [
    "#### на пример adContent, где очень мало заполнено данных создать рядом новую фичу 'заполнена ли adContent'. Может быть сам adContent дропуть, поскольку она не несет информацию. Отступаем от обучения, работаем с данными."
   ]
  },
  {
   "cell_type": "code",
   "execution_count": 108,
   "metadata": {},
   "outputs": [
    {
     "data": {
      "text/plain": [
       "Index(['channelGrouping', 'date', 'fullVisitorId', 'sessionId', 'visitId', 'visitNumber', 'visitStartTime', 'operatingSystem', 'isMobile', 'deviceCategory', 'browser', 'subContinent', 'country', 'continent', 'region', 'networkDomain', 'city', 'metro', 'bounces', 'transactionRevenue', 'hits', 'pageviews', 'newVisits', 'medium', 'campaign', 'referralPath', 'isTrueDirect', 'keyword', 'adContent', 'source', 'slot', 'adNetworkType', 'gclId', 'page', 'targetingCriteria', 'isVideoAd', 'weekday', 'day_off'], dtype='object')"
      ]
     },
     "execution_count": 108,
     "metadata": {},
     "output_type": "execute_result"
    }
   ],
   "source": [
    "train_df.columns"
   ]
  },
  {
   "cell_type": "code",
   "execution_count": 6,
   "metadata": {},
   "outputs": [
    {
     "data": {
      "text/plain": [
       "'channelGrouping'"
      ]
     },
     "execution_count": 6,
     "metadata": {},
     "output_type": "execute_result"
    }
   ],
   "source": [
    "'channelGrouping'"
   ]
  },
  {
   "cell_type": "code",
   "execution_count": 7,
   "metadata": {},
   "outputs": [
    {
     "data": {
      "text/plain": [
       "Organic Search    381561\n",
       "Social            226117\n",
       "Direct            143026\n",
       "Referral          104838\n",
       "Paid Search        25326\n",
       "Affiliates         16403\n",
       "Display             6262\n",
       "(Other)              120\n",
       "Name: channelGrouping, dtype: int64"
      ]
     },
     "execution_count": 7,
     "metadata": {},
     "output_type": "execute_result"
    }
   ],
   "source": [
    "train_df['channelGrouping'].value_counts()"
   ]
  },
  {
   "cell_type": "code",
   "execution_count": 110,
   "metadata": {},
   "outputs": [
    {
     "data": {
      "text/plain": [
       "<matplotlib.axes._subplots.AxesSubplot at 0x1ad800710>"
      ]
     },
     "execution_count": 110,
     "metadata": {},
     "output_type": "execute_result"
    },
    {
     "data": {
      "image/png": "[encoded data removed]",
      "text/plain": [
       "<matplotlib.figure.Figure at 0x1ad814cf8>"
      ]
     },
     "metadata": {},
     "output_type": "display_data"
    }
   ],
   "source": [
    "%matplotlib inline\n",
    "train_df.channelGrouping.hist(bins=100, figsize=(10,10))"
   ]
  },
  {
   "cell_type": "code",
   "execution_count": 9,
   "metadata": {},
   "outputs": [
    {
     "data": {
      "text/plain": [
       "'date'"
      ]
     },
     "execution_count": 9,
     "metadata": {},
     "output_type": "execute_result"
    }
   ],
   "source": [
    "'date'"
   ]
  },
  {
   "cell_type": "code",
   "execution_count": 10,
   "metadata": {},
   "outputs": [
    {
     "data": {
      "text/plain": [
       "2016-11-28    4807\n",
       "2016-11-15    4685\n",
       "2016-11-14    4466\n",
       "2016-11-30    4435\n",
       "2016-10-26    4375\n",
       "2016-11-29    4337\n",
       "2016-11-16    4334\n",
       "2016-10-04    4322\n",
       "2016-12-05    4265\n",
       "2017-04-26    4224\n",
       "2016-12-01    4200\n",
       "2016-10-27    4162\n",
       "2016-11-21    4143\n",
       "2016-11-17    4074\n",
       "2016-10-24    4063\n",
       "2016-11-10    4055\n",
       "2016-11-03    4014\n",
       "2016-11-02    3960\n",
       "2016-11-22    3942\n",
       "2016-11-08    3899\n",
       "2016-10-25    3842\n",
       "2016-11-07    3832\n",
       "2016-10-31    3827\n",
       "2016-11-23    3805\n",
       "2016-10-28    3791\n",
       "2016-10-05    3770\n",
       "2016-11-24    3770\n",
       "2016-11-25    3759\n",
       "2016-10-20    3755\n",
       "2016-11-09    3752\n",
       "              ... \n",
       "2016-08-13    1596\n",
       "2017-04-30    1594\n",
       "2016-10-01    1589\n",
       "2016-12-26    1586\n",
       "2017-01-15    1576\n",
       "2017-04-29    1566\n",
       "2017-06-11    1555\n",
       "2017-02-04    1549\n",
       "2017-04-23    1548\n",
       "2017-06-10    1545\n",
       "2017-06-04    1534\n",
       "2017-01-14    1526\n",
       "2017-02-05    1522\n",
       "2017-06-24    1510\n",
       "2017-04-16    1507\n",
       "2017-04-15    1506\n",
       "2017-05-27    1502\n",
       "2017-05-28    1463\n",
       "2017-06-18    1432\n",
       "2017-05-07    1400\n",
       "2017-06-03    1399\n",
       "2017-06-17    1391\n",
       "2016-12-25    1386\n",
       "2017-05-06    1383\n",
       "2017-01-01    1364\n",
       "2017-05-14    1290\n",
       "2017-05-13    1251\n",
       "2016-12-30    1232\n",
       "2016-12-24    1231\n",
       "2016-12-31    1211\n",
       "Name: date, Length: 366, dtype: int64"
      ]
     },
     "execution_count": 10,
     "metadata": {},
     "output_type": "execute_result"
    }
   ],
   "source": [
    "train_df['date'].value_counts()"
   ]
  },
  {
   "cell_type": "code",
   "execution_count": 112,
   "metadata": {},
   "outputs": [
    {
     "data": {
      "text/plain": [
       "<matplotlib.axes._subplots.AxesSubplot at 0x178367278>"
      ]
     },
     "execution_count": 112,
     "metadata": {},
     "output_type": "execute_result"
    },
    {
     "data": {
      "image/png": "[encoded data removed]",
      "text/plain": [
       "<matplotlib.figure.Figure at 0x14f324048>"
      ]
     },
     "metadata": {},
     "output_type": "display_data"
    }
   ],
   "source": [
    "%matplotlib inline\n",
    "train_df.date.hist(bins=100, figsize=(10,10))\n",
    "test_df.date.hist(bins=100, figsize=(10,10))\n"
   ]
  },
  {
   "cell_type": "code",
   "execution_count": 12,
   "metadata": {},
   "outputs": [
    {
     "data": {
      "text/plain": [
       "'fullVisitorId'"
      ]
     },
     "execution_count": 12,
     "metadata": {},
     "output_type": "execute_result"
    }
   ],
   "source": [
    "'fullVisitorId' # ???"
   ]
  },
  {
   "cell_type": "code",
   "execution_count": 116,
   "metadata": {
    "scrolled": false
   },
   "outputs": [],
   "source": [
    "visits_counts = dict(train_df['fullVisitorId'].value_counts())\n",
    "train_df['VisitsCount'] = train_df['fullVisitorId'].map(visits_counts)"
   ]
  },
  {
   "cell_type": "code",
   "execution_count": 122,
   "metadata": {},
   "outputs": [
    {
     "name": "stdout",
     "output_type": "stream",
     "text": [
      "3232\n",
      "620790\n",
      "8283\n",
      "271348\n"
     ]
    }
   ],
   "source": [
    "print(sum((train_df['VisitsCount'] < 2) & (train_df['transactionRevenue'] != 0)))\n",
    "print(sum((train_df['VisitsCount'] < 2) & (train_df['transactionRevenue'] == 0)))\n",
    "print(sum((train_df['VisitsCount'] >= 2) & (train_df['transactionRevenue'] != 0)))\n",
    "print(sum((train_df['VisitsCount'] >= 2) & (train_df['transactionRevenue'] == 0)))"
   ]
  },
  {
   "cell_type": "code",
   "execution_count": 125,
   "metadata": {},
   "outputs": [],
   "source": [
    "full_df = pd.concat([train_df, test_df], axis=0)\n",
    "test_df['transactionRevenue'] = np.nan"
   ]
  },
  {
   "cell_type": "code",
   "execution_count": 133,
   "metadata": {
    "collapsed": true
   },
   "outputs": [],
   "source": [
    "count_user_by_visits = {}\n",
    "full_df = pd.concat([train_df, test_df], axis=0)"
   ]
  },
  {
   "cell_type": "code",
   "execution_count": 135,
   "metadata": {
    "collapsed": true
   },
   "outputs": [],
   "source": [
    "def check_count_by_visits(Id):\n",
    "    if Id in count_user_by_visits:\n",
    "        count_user_by_visits[Id]+= 1\n",
    "    else:\n",
    "        count_user_by_visits[Id]= 1\n",
    "    \n",
    "    return count_user_by_visits[Id]"
   ]
  },
  {
   "cell_type": "code",
   "execution_count": 138,
   "metadata": {},
   "outputs": [],
   "source": [
    "full_df['visit_index'] = [check_count_by_visits(user) for user in full_df['fullVisitorId']]"
   ]
  },
  {
   "cell_type": "code",
   "execution_count": 139,
   "metadata": {
    "collapsed": true
   },
   "outputs": [
    {
     "data": {
      "text/html": [
       "<div>\n",
       "<style>\n",
       "    .dataframe thead tr:only-child th {\n",
       "        text-align: right;\n",
       "    }\n",
       "\n",
       "    .dataframe thead th {\n",
       "        text-align: left;\n",
       "    }\n",
       "\n",
       "    .dataframe tbody tr th {\n",
       "        vertical-align: top;\n",
       "    }\n",
       "</style>\n",
       "<table border=\"1\" class=\"dataframe\">\n",
       "  <thead>\n",
       "    <tr style=\"text-align: right;\">\n",
       "      <th></th>\n",
       "      <th>VisitsCount</th>\n",
       "      <th>adContent</th>\n",
       "      <th>adNetworkType</th>\n",
       "      <th>bounces</th>\n",
       "      <th>browser</th>\n",
       "      <th>campaign</th>\n",
       "      <th>channelGrouping</th>\n",
       "      <th>city</th>\n",
       "      <th>continent</th>\n",
       "      <th>country</th>\n",
       "      <th>date</th>\n",
       "      <th>day_off</th>\n",
       "      <th>deviceCategory</th>\n",
       "      <th>fullVisitorId</th>\n",
       "      <th>gclId</th>\n",
       "      <th>hits</th>\n",
       "      <th>isMobile</th>\n",
       "      <th>isTrueDirect</th>\n",
       "      <th>isVideoAd</th>\n",
       "      <th>keyword</th>\n",
       "      <th>medium</th>\n",
       "      <th>metro</th>\n",
       "      <th>networkDomain</th>\n",
       "      <th>newVisits</th>\n",
       "      <th>operatingSystem</th>\n",
       "      <th>page</th>\n",
       "      <th>pageviews</th>\n",
       "      <th>referralPath</th>\n",
       "      <th>region</th>\n",
       "      <th>sessionId</th>\n",
       "      <th>slot</th>\n",
       "      <th>source</th>\n",
       "      <th>subContinent</th>\n",
       "      <th>targetingCriteria</th>\n",
       "      <th>transactionRevenue</th>\n",
       "      <th>visitId</th>\n",
       "      <th>visitNumber</th>\n",
       "      <th>visitStartTime</th>\n",
       "      <th>weekday</th>\n",
       "      <th>visit_index</th>\n",
       "    </tr>\n",
       "  </thead>\n",
       "  <tbody>\n",
       "    <tr>\n",
       "      <th>538675</th>\n",
       "      <td>1.0</td>\n",
       "      <td>no_key</td>\n",
       "      <td>no_key</td>\n",
       "      <td>1</td>\n",
       "      <td>Safari</td>\n",
       "      <td>(not set)</td>\n",
       "      <td>Direct</td>\n",
       "      <td>not available in demo dataset</td>\n",
       "      <td>Americas</td>\n",
       "      <td>United States</td>\n",
       "      <td>2016-08-01</td>\n",
       "      <td>0</td>\n",
       "      <td>mobile</td>\n",
       "      <td>423043652415339154</td>\n",
       "      <td>no_key</td>\n",
       "      <td>1</td>\n",
       "      <td>True</td>\n",
       "      <td>True</td>\n",
       "      <td>no_key</td>\n",
       "      <td>no_key</td>\n",
       "      <td>(none)</td>\n",
       "      <td>not available in demo dataset</td>\n",
       "      <td>(not set)</td>\n",
       "      <td>no_key</td>\n",
       "      <td>iOS</td>\n",
       "      <td>no_key</td>\n",
       "      <td>1</td>\n",
       "      <td>no_key</td>\n",
       "      <td>not available in demo dataset</td>\n",
       "      <td>0423043652415339154_1470034812</td>\n",
       "      <td>no_key</td>\n",
       "      <td>(direct)</td>\n",
       "      <td>Northern America</td>\n",
       "      <td>no_key</td>\n",
       "      <td>0.0</td>\n",
       "      <td>1470034812</td>\n",
       "      <td>3</td>\n",
       "      <td>1470034812</td>\n",
       "      <td>Monday</td>\n",
       "      <td>1</td>\n",
       "    </tr>\n",
       "    <tr>\n",
       "      <th>538232</th>\n",
       "      <td>1.0</td>\n",
       "      <td>no_key</td>\n",
       "      <td>no_key</td>\n",
       "      <td>1</td>\n",
       "      <td>Chrome</td>\n",
       "      <td>(not set)</td>\n",
       "      <td>Social</td>\n",
       "      <td>not available in demo dataset</td>\n",
       "      <td>Asia</td>\n",
       "      <td>Thailand</td>\n",
       "      <td>2016-08-01</td>\n",
       "      <td>0</td>\n",
       "      <td>desktop</td>\n",
       "      <td>8294721032567046680</td>\n",
       "      <td>no_key</td>\n",
       "      <td>1</td>\n",
       "      <td>False</td>\n",
       "      <td>no_key</td>\n",
       "      <td>no_key</td>\n",
       "      <td>no_key</td>\n",
       "      <td>referral</td>\n",
       "      <td>not available in demo dataset</td>\n",
       "      <td>unknown.unknown</td>\n",
       "      <td>1</td>\n",
       "      <td>Windows</td>\n",
       "      <td>no_key</td>\n",
       "      <td>1</td>\n",
       "      <td>/yt/about/</td>\n",
       "      <td>not available in demo dataset</td>\n",
       "      <td>8294721032567046680_1470035066</td>\n",
       "      <td>no_key</td>\n",
       "      <td>youtube.com</td>\n",
       "      <td>Southeast Asia</td>\n",
       "      <td>no_key</td>\n",
       "      <td>0.0</td>\n",
       "      <td>1470035066</td>\n",
       "      <td>1</td>\n",
       "      <td>1470035066</td>\n",
       "      <td>Monday</td>\n",
       "      <td>1</td>\n",
       "    </tr>\n",
       "    <tr>\n",
       "      <th>539087</th>\n",
       "      <td>1.0</td>\n",
       "      <td>no_key</td>\n",
       "      <td>no_key</td>\n",
       "      <td>no_key</td>\n",
       "      <td>Amazon Silk</td>\n",
       "      <td>(not set)</td>\n",
       "      <td>Organic Search</td>\n",
       "      <td>not available in demo dataset</td>\n",
       "      <td>Americas</td>\n",
       "      <td>United States</td>\n",
       "      <td>2016-08-01</td>\n",
       "      <td>0</td>\n",
       "      <td>tablet</td>\n",
       "      <td>7718623669497357235</td>\n",
       "      <td>no_key</td>\n",
       "      <td>5</td>\n",
       "      <td>True</td>\n",
       "      <td>no_key</td>\n",
       "      <td>no_key</td>\n",
       "      <td>(not provided)</td>\n",
       "      <td>organic</td>\n",
       "      <td>not available in demo dataset</td>\n",
       "      <td>(not set)</td>\n",
       "      <td>1</td>\n",
       "      <td>Android</td>\n",
       "      <td>no_key</td>\n",
       "      <td>5</td>\n",
       "      <td>no_key</td>\n",
       "      <td>not available in demo dataset</td>\n",
       "      <td>7718623669497357235_1470035081</td>\n",
       "      <td>no_key</td>\n",
       "      <td>google</td>\n",
       "      <td>Northern America</td>\n",
       "      <td>no_key</td>\n",
       "      <td>0.0</td>\n",
       "      <td>1470035081</td>\n",
       "      <td>1</td>\n",
       "      <td>1470035081</td>\n",
       "      <td>Monday</td>\n",
       "      <td>1</td>\n",
       "    </tr>\n",
       "    <tr>\n",
       "      <th>539300</th>\n",
       "      <td>1.0</td>\n",
       "      <td>no_key</td>\n",
       "      <td>no_key</td>\n",
       "      <td>no_key</td>\n",
       "      <td>Chrome</td>\n",
       "      <td>(not set)</td>\n",
       "      <td>Organic Search</td>\n",
       "      <td>not available in demo dataset</td>\n",
       "      <td>Americas</td>\n",
       "      <td>Canada</td>\n",
       "      <td>2016-08-01</td>\n",
       "      <td>0</td>\n",
       "      <td>desktop</td>\n",
       "      <td>4798058133221713505</td>\n",
       "      <td>no_key</td>\n",
       "      <td>9</td>\n",
       "      <td>False</td>\n",
       "      <td>no_key</td>\n",
       "      <td>no_key</td>\n",
       "      <td>(not provided)</td>\n",
       "      <td>organic</td>\n",
       "      <td>not available in demo dataset</td>\n",
       "      <td>bell.ca</td>\n",
       "      <td>1</td>\n",
       "      <td>Windows</td>\n",
       "      <td>no_key</td>\n",
       "      <td>7</td>\n",
       "      <td>no_key</td>\n",
       "      <td>not available in demo dataset</td>\n",
       "      <td>4798058133221713505_1470035161</td>\n",
       "      <td>no_key</td>\n",
       "      <td>google</td>\n",
       "      <td>Northern America</td>\n",
       "      <td>no_key</td>\n",
       "      <td>0.0</td>\n",
       "      <td>1470035161</td>\n",
       "      <td>1</td>\n",
       "      <td>1470035161</td>\n",
       "      <td>Monday</td>\n",
       "      <td>1</td>\n",
       "    </tr>\n",
       "    <tr>\n",
       "      <th>538453</th>\n",
       "      <td>1.0</td>\n",
       "      <td>no_key</td>\n",
       "      <td>no_key</td>\n",
       "      <td>1</td>\n",
       "      <td>Chrome</td>\n",
       "      <td>(not set)</td>\n",
       "      <td>Direct</td>\n",
       "      <td>Quezon City</td>\n",
       "      <td>Asia</td>\n",
       "      <td>Philippines</td>\n",
       "      <td>2016-08-01</td>\n",
       "      <td>0</td>\n",
       "      <td>desktop</td>\n",
       "      <td>5076747981380011349</td>\n",
       "      <td>no_key</td>\n",
       "      <td>1</td>\n",
       "      <td>False</td>\n",
       "      <td>True</td>\n",
       "      <td>no_key</td>\n",
       "      <td>no_key</td>\n",
       "      <td>(none)</td>\n",
       "      <td>(not set)</td>\n",
       "      <td>pldt.net</td>\n",
       "      <td>1</td>\n",
       "      <td>Windows</td>\n",
       "      <td>no_key</td>\n",
       "      <td>1</td>\n",
       "      <td>no_key</td>\n",
       "      <td>Metro Manila</td>\n",
       "      <td>5076747981380011349_1470035170</td>\n",
       "      <td>no_key</td>\n",
       "      <td>(direct)</td>\n",
       "      <td>Southeast Asia</td>\n",
       "      <td>no_key</td>\n",
       "      <td>0.0</td>\n",
       "      <td>1470035170</td>\n",
       "      <td>1</td>\n",
       "      <td>1470035170</td>\n",
       "      <td>Monday</td>\n",
       "      <td>1</td>\n",
       "    </tr>\n",
       "    <tr>\n",
       "      <th>538454</th>\n",
       "      <td>7.0</td>\n",
       "      <td>no_key</td>\n",
       "      <td>no_key</td>\n",
       "      <td>1</td>\n",
       "      <td>Safari</td>\n",
       "      <td>(not set)</td>\n",
       "      <td>Direct</td>\n",
       "      <td>San Francisco</td>\n",
       "      <td>Americas</td>\n",
       "      <td>United States</td>\n",
       "      <td>2016-08-01</td>\n",
       "      <td>0</td>\n",
       "      <td>mobile</td>\n",
       "      <td>143953260196124648</td>\n",
       "      <td>no_key</td>\n",
       "      <td>1</td>\n",
       "      <td>True</td>\n",
       "      <td>True</td>\n",
       "      <td>no_key</td>\n",
       "      <td>no_key</td>\n",
       "      <td>(none)</td>\n",
       "      <td>San Francisco-Oakland-San Jose CA</td>\n",
       "      <td>(not set)</td>\n",
       "      <td>no_key</td>\n",
       "      <td>iOS</td>\n",
       "      <td>no_key</td>\n",
       "      <td>1</td>\n",
       "      <td>no_key</td>\n",
       "      <td>California</td>\n",
       "      <td>143953260196124648_1470035292</td>\n",
       "      <td>no_key</td>\n",
       "      <td>(direct)</td>\n",
       "      <td>Northern America</td>\n",
       "      <td>no_key</td>\n",
       "      <td>0.0</td>\n",
       "      <td>1470035292</td>\n",
       "      <td>5</td>\n",
       "      <td>1470035292</td>\n",
       "      <td>Monday</td>\n",
       "      <td>1</td>\n",
       "    </tr>\n",
       "    <tr>\n",
       "      <th>538274</th>\n",
       "      <td>2.0</td>\n",
       "      <td>no_key</td>\n",
       "      <td>no_key</td>\n",
       "      <td>1</td>\n",
       "      <td>Safari</td>\n",
       "      <td>(not set)</td>\n",
       "      <td>Direct</td>\n",
       "      <td>San Francisco</td>\n",
       "      <td>Americas</td>\n",
       "      <td>United States</td>\n",
       "      <td>2016-08-01</td>\n",
       "      <td>0</td>\n",
       "      <td>tablet</td>\n",
       "      <td>9234156111722725905</td>\n",
       "      <td>no_key</td>\n",
       "      <td>1</td>\n",
       "      <td>True</td>\n",
       "      <td>True</td>\n",
       "      <td>no_key</td>\n",
       "      <td>no_key</td>\n",
       "      <td>(none)</td>\n",
       "      <td>San Francisco-Oakland-San Jose CA</td>\n",
       "      <td>(not set)</td>\n",
       "      <td>no_key</td>\n",
       "      <td>iOS</td>\n",
       "      <td>no_key</td>\n",
       "      <td>1</td>\n",
       "      <td>no_key</td>\n",
       "      <td>California</td>\n",
       "      <td>9234156111722725905_1470035429</td>\n",
       "      <td>no_key</td>\n",
       "      <td>(direct)</td>\n",
       "      <td>Northern America</td>\n",
       "      <td>no_key</td>\n",
       "      <td>0.0</td>\n",
       "      <td>1470035429</td>\n",
       "      <td>2</td>\n",
       "      <td>1470035429</td>\n",
       "      <td>Monday</td>\n",
       "      <td>1</td>\n",
       "    </tr>\n",
       "    <tr>\n",
       "      <th>539202</th>\n",
       "      <td>2.0</td>\n",
       "      <td>no_key</td>\n",
       "      <td>no_key</td>\n",
       "      <td>no_key</td>\n",
       "      <td>Chrome</td>\n",
       "      <td>(not set)</td>\n",
       "      <td>Organic Search</td>\n",
       "      <td>Santa Clara</td>\n",
       "      <td>Americas</td>\n",
       "      <td>United States</td>\n",
       "      <td>2016-08-01</td>\n",
       "      <td>0</td>\n",
       "      <td>mobile</td>\n",
       "      <td>1757409464136963580</td>\n",
       "      <td>no_key</td>\n",
       "      <td>7</td>\n",
       "      <td>True</td>\n",
       "      <td>no_key</td>\n",
       "      <td>no_key</td>\n",
       "      <td>(not provided)</td>\n",
       "      <td>organic</td>\n",
       "      <td>San Francisco-Oakland-San Jose CA</td>\n",
       "      <td>comcast.net</td>\n",
       "      <td>no_key</td>\n",
       "      <td>Android</td>\n",
       "      <td>no_key</td>\n",
       "      <td>5</td>\n",
       "      <td>no_key</td>\n",
       "      <td>California</td>\n",
       "      <td>1757409464136963580_1470035457</td>\n",
       "      <td>no_key</td>\n",
       "      <td>google</td>\n",
       "      <td>Northern America</td>\n",
       "      <td>no_key</td>\n",
       "      <td>0.0</td>\n",
       "      <td>1470035457</td>\n",
       "      <td>3</td>\n",
       "      <td>1470035457</td>\n",
       "      <td>Monday</td>\n",
       "      <td>1</td>\n",
       "    </tr>\n",
       "    <tr>\n",
       "      <th>538027</th>\n",
       "      <td>1.0</td>\n",
       "      <td>no_key</td>\n",
       "      <td>no_key</td>\n",
       "      <td>1</td>\n",
       "      <td>Chrome</td>\n",
       "      <td>(not set)</td>\n",
       "      <td>Social</td>\n",
       "      <td>not available in demo dataset</td>\n",
       "      <td>Americas</td>\n",
       "      <td>United States</td>\n",
       "      <td>2016-08-01</td>\n",
       "      <td>0</td>\n",
       "      <td>desktop</td>\n",
       "      <td>3471645573420610711</td>\n",
       "      <td>no_key</td>\n",
       "      <td>1</td>\n",
       "      <td>False</td>\n",
       "      <td>no_key</td>\n",
       "      <td>no_key</td>\n",
       "      <td>no_key</td>\n",
       "      <td>referral</td>\n",
       "      <td>not available in demo dataset</td>\n",
       "      <td>verizon.net</td>\n",
       "      <td>1</td>\n",
       "      <td>Windows</td>\n",
       "      <td>no_key</td>\n",
       "      <td>1</td>\n",
       "      <td>/yt/about/</td>\n",
       "      <td>not available in demo dataset</td>\n",
       "      <td>3471645573420610711_1470035501</td>\n",
       "      <td>no_key</td>\n",
       "      <td>youtube.com</td>\n",
       "      <td>Northern America</td>\n",
       "      <td>no_key</td>\n",
       "      <td>0.0</td>\n",
       "      <td>1470035501</td>\n",
       "      <td>1</td>\n",
       "      <td>1470035501</td>\n",
       "      <td>Monday</td>\n",
       "      <td>1</td>\n",
       "    </tr>\n",
       "    <tr>\n",
       "      <th>537930</th>\n",
       "      <td>4.0</td>\n",
       "      <td>no_key</td>\n",
       "      <td>no_key</td>\n",
       "      <td>no_key</td>\n",
       "      <td>Safari</td>\n",
       "      <td>(not set)</td>\n",
       "      <td>Direct</td>\n",
       "      <td>not available in demo dataset</td>\n",
       "      <td>Europe</td>\n",
       "      <td>United Kingdom</td>\n",
       "      <td>2016-08-01</td>\n",
       "      <td>0</td>\n",
       "      <td>mobile</td>\n",
       "      <td>4283942788674999975</td>\n",
       "      <td>no_key</td>\n",
       "      <td>53</td>\n",
       "      <td>True</td>\n",
       "      <td>True</td>\n",
       "      <td>no_key</td>\n",
       "      <td>no_key</td>\n",
       "      <td>(none)</td>\n",
       "      <td>not available in demo dataset</td>\n",
       "      <td>btcentralplus.com</td>\n",
       "      <td>1</td>\n",
       "      <td>iOS</td>\n",
       "      <td>no_key</td>\n",
       "      <td>36</td>\n",
       "      <td>no_key</td>\n",
       "      <td>not available in demo dataset</td>\n",
       "      <td>4283942788674999975_1470035521</td>\n",
       "      <td>no_key</td>\n",
       "      <td>(direct)</td>\n",
       "      <td>Northern Europe</td>\n",
       "      <td>no_key</td>\n",
       "      <td>0.0</td>\n",
       "      <td>1470035521</td>\n",
       "      <td>1</td>\n",
       "      <td>1470035521</td>\n",
       "      <td>Monday</td>\n",
       "      <td>1</td>\n",
       "    </tr>\n",
       "    <tr>\n",
       "      <th>538015</th>\n",
       "      <td>1.0</td>\n",
       "      <td>no_key</td>\n",
       "      <td>no_key</td>\n",
       "      <td>1</td>\n",
       "      <td>Safari</td>\n",
       "      <td>(not set)</td>\n",
       "      <td>Social</td>\n",
       "      <td>not available in demo dataset</td>\n",
       "      <td>Americas</td>\n",
       "      <td>United States</td>\n",
       "      <td>2016-08-01</td>\n",
       "      <td>0</td>\n",
       "      <td>desktop</td>\n",
       "      <td>1080407219030471072</td>\n",
       "      <td>no_key</td>\n",
       "      <td>1</td>\n",
       "      <td>False</td>\n",
       "      <td>no_key</td>\n",
       "      <td>no_key</td>\n",
       "      <td>no_key</td>\n",
       "      <td>referral</td>\n",
       "      <td>not available in demo dataset</td>\n",
       "      <td>(not set)</td>\n",
       "      <td>1</td>\n",
       "      <td>Macintosh</td>\n",
       "      <td>no_key</td>\n",
       "      <td>1</td>\n",
       "      <td>/yt/about/</td>\n",
       "      <td>not available in demo dataset</td>\n",
       "      <td>1080407219030471072_1470035660</td>\n",
       "      <td>no_key</td>\n",
       "      <td>youtube.com</td>\n",
       "      <td>Northern America</td>\n",
       "      <td>no_key</td>\n",
       "      <td>0.0</td>\n",
       "      <td>1470035660</td>\n",
       "      <td>1</td>\n",
       "      <td>1470035660</td>\n",
       "      <td>Monday</td>\n",
       "      <td>1</td>\n",
       "    </tr>\n",
       "    <tr>\n",
       "      <th>538316</th>\n",
       "      <td>1.0</td>\n",
       "      <td>no_key</td>\n",
       "      <td>no_key</td>\n",
       "      <td>1</td>\n",
       "      <td>Chrome</td>\n",
       "      <td>(not set)</td>\n",
       "      <td>Referral</td>\n",
       "      <td>not available in demo dataset</td>\n",
       "      <td>Asia</td>\n",
       "      <td>Japan</td>\n",
       "      <td>2016-08-01</td>\n",
       "      <td>0</td>\n",
       "      <td>desktop</td>\n",
       "      <td>8265862694719602421</td>\n",
       "      <td>no_key</td>\n",
       "      <td>1</td>\n",
       "      <td>False</td>\n",
       "      <td>no_key</td>\n",
       "      <td>no_key</td>\n",
       "      <td>no_key</td>\n",
       "      <td>referral</td>\n",
       "      <td>not available in demo dataset</td>\n",
       "      <td>h2o-retailing.co.jp</td>\n",
       "      <td>1</td>\n",
       "      <td>Windows</td>\n",
       "      <td>no_key</td>\n",
       "      <td>1</td>\n",
       "      <td>/permissions/using-the-logo.html</td>\n",
       "      <td>not available in demo dataset</td>\n",
       "      <td>8265862694719602421_1470035742</td>\n",
       "      <td>no_key</td>\n",
       "      <td>google.co.jp</td>\n",
       "      <td>Eastern Asia</td>\n",
       "      <td>no_key</td>\n",
       "      <td>0.0</td>\n",
       "      <td>1470035742</td>\n",
       "      <td>1</td>\n",
       "      <td>1470035742</td>\n",
       "      <td>Monday</td>\n",
       "      <td>1</td>\n",
       "    </tr>\n",
       "    <tr>\n",
       "      <th>538826</th>\n",
       "      <td>1.0</td>\n",
       "      <td>no_key</td>\n",
       "      <td>no_key</td>\n",
       "      <td>no_key</td>\n",
       "      <td>Safari</td>\n",
       "      <td>(not set)</td>\n",
       "      <td>Direct</td>\n",
       "      <td>not available in demo dataset</td>\n",
       "      <td>Americas</td>\n",
       "      <td>United States</td>\n",
       "      <td>2016-08-01</td>\n",
       "      <td>0</td>\n",
       "      <td>mobile</td>\n",
       "      <td>429222405901537951</td>\n",
       "      <td>no_key</td>\n",
       "      <td>2</td>\n",
       "      <td>True</td>\n",
       "      <td>True</td>\n",
       "      <td>no_key</td>\n",
       "      <td>no_key</td>\n",
       "      <td>(none)</td>\n",
       "      <td>not available in demo dataset</td>\n",
       "      <td>comcast.net</td>\n",
       "      <td>1</td>\n",
       "      <td>iOS</td>\n",
       "      <td>no_key</td>\n",
       "      <td>2</td>\n",
       "      <td>no_key</td>\n",
       "      <td>not available in demo dataset</td>\n",
       "      <td>0429222405901537951_1470035832</td>\n",
       "      <td>no_key</td>\n",
       "      <td>(direct)</td>\n",
       "      <td>Northern America</td>\n",
       "      <td>no_key</td>\n",
       "      <td>0.0</td>\n",
       "      <td>1470035832</td>\n",
       "      <td>1</td>\n",
       "      <td>1470035832</td>\n",
       "      <td>Monday</td>\n",
       "      <td>1</td>\n",
       "    </tr>\n",
       "    <tr>\n",
       "      <th>538613</th>\n",
       "      <td>1.0</td>\n",
       "      <td>no_key</td>\n",
       "      <td>no_key</td>\n",
       "      <td>1</td>\n",
       "      <td>Safari</td>\n",
       "      <td>(not set)</td>\n",
       "      <td>Organic Search</td>\n",
       "      <td>San Francisco</td>\n",
       "      <td>Americas</td>\n",
       "      <td>United States</td>\n",
       "      <td>2016-08-01</td>\n",
       "      <td>0</td>\n",
       "      <td>mobile</td>\n",
       "      <td>9023992206371203986</td>\n",
       "      <td>no_key</td>\n",
       "      <td>1</td>\n",
       "      <td>True</td>\n",
       "      <td>no_key</td>\n",
       "      <td>no_key</td>\n",
       "      <td>(not provided)</td>\n",
       "      <td>organic</td>\n",
       "      <td>San Francisco-Oakland-San Jose CA</td>\n",
       "      <td>mycingular.net</td>\n",
       "      <td>1</td>\n",
       "      <td>iOS</td>\n",
       "      <td>no_key</td>\n",
       "      <td>1</td>\n",
       "      <td>no_key</td>\n",
       "      <td>California</td>\n",
       "      <td>9023992206371203986_1470035833</td>\n",
       "      <td>no_key</td>\n",
       "      <td>google</td>\n",
       "      <td>Northern America</td>\n",
       "      <td>no_key</td>\n",
       "      <td>0.0</td>\n",
       "      <td>1470035833</td>\n",
       "      <td>1</td>\n",
       "      <td>1470035833</td>\n",
       "      <td>Monday</td>\n",
       "      <td>1</td>\n",
       "    </tr>\n",
       "    <tr>\n",
       "      <th>539268</th>\n",
       "      <td>1.0</td>\n",
       "      <td>no_key</td>\n",
       "      <td>no_key</td>\n",
       "      <td>no_key</td>\n",
       "      <td>Safari</td>\n",
       "      <td>(not set)</td>\n",
       "      <td>Organic Search</td>\n",
       "      <td>Ho Chi Minh City</td>\n",
       "      <td>Asia</td>\n",
       "      <td>Vietnam</td>\n",
       "      <td>2016-08-01</td>\n",
       "      <td>0</td>\n",
       "      <td>desktop</td>\n",
       "      <td>6295937732413829157</td>\n",
       "      <td>no_key</td>\n",
       "      <td>8</td>\n",
       "      <td>False</td>\n",
       "      <td>no_key</td>\n",
       "      <td>no_key</td>\n",
       "      <td>(not provided)</td>\n",
       "      <td>organic</td>\n",
       "      <td>(not set)</td>\n",
       "      <td>sboe.com.vn</td>\n",
       "      <td>1</td>\n",
       "      <td>Macintosh</td>\n",
       "      <td>no_key</td>\n",
       "      <td>6</td>\n",
       "      <td>no_key</td>\n",
       "      <td>Ho Chi Minh</td>\n",
       "      <td>6295937732413829157_1470035892</td>\n",
       "      <td>no_key</td>\n",
       "      <td>google</td>\n",
       "      <td>Southeast Asia</td>\n",
       "      <td>no_key</td>\n",
       "      <td>0.0</td>\n",
       "      <td>1470035892</td>\n",
       "      <td>1</td>\n",
       "      <td>1470035892</td>\n",
       "      <td>Monday</td>\n",
       "      <td>1</td>\n",
       "    </tr>\n",
       "    <tr>\n",
       "      <th>537899</th>\n",
       "      <td>1.0</td>\n",
       "      <td>no_key</td>\n",
       "      <td>no_key</td>\n",
       "      <td>no_key</td>\n",
       "      <td>Chrome</td>\n",
       "      <td>(not set)</td>\n",
       "      <td>Organic Search</td>\n",
       "      <td>Los Angeles</td>\n",
       "      <td>Americas</td>\n",
       "      <td>United States</td>\n",
       "      <td>2016-08-01</td>\n",
       "      <td>0</td>\n",
       "      <td>desktop</td>\n",
       "      <td>2740683783555632191</td>\n",
       "      <td>no_key</td>\n",
       "      <td>33</td>\n",
       "      <td>False</td>\n",
       "      <td>True</td>\n",
       "      <td>no_key</td>\n",
       "      <td>(not provided)</td>\n",
       "      <td>organic</td>\n",
       "      <td>Los Angeles CA</td>\n",
       "      <td>tmodns.net</td>\n",
       "      <td>no_key</td>\n",
       "      <td>Macintosh</td>\n",
       "      <td>no_key</td>\n",
       "      <td>20</td>\n",
       "      <td>no_key</td>\n",
       "      <td>California</td>\n",
       "      <td>2740683783555632191_1470036291</td>\n",
       "      <td>no_key</td>\n",
       "      <td>google</td>\n",
       "      <td>Northern America</td>\n",
       "      <td>no_key</td>\n",
       "      <td>0.0</td>\n",
       "      <td>1470036291</td>\n",
       "      <td>7</td>\n",
       "      <td>1470036291</td>\n",
       "      <td>Monday</td>\n",
       "      <td>1</td>\n",
       "    </tr>\n",
       "    <tr>\n",
       "      <th>539390</th>\n",
       "      <td>11.0</td>\n",
       "      <td>no_key</td>\n",
       "      <td>no_key</td>\n",
       "      <td>no_key</td>\n",
       "      <td>Chrome</td>\n",
       "      <td>(not set)</td>\n",
       "      <td>Direct</td>\n",
       "      <td>not available in demo dataset</td>\n",
       "      <td>Americas</td>\n",
       "      <td>United States</td>\n",
       "      <td>2016-08-01</td>\n",
       "      <td>0</td>\n",
       "      <td>desktop</td>\n",
       "      <td>350616841177147864</td>\n",
       "      <td>no_key</td>\n",
       "      <td>12</td>\n",
       "      <td>False</td>\n",
       "      <td>True</td>\n",
       "      <td>no_key</td>\n",
       "      <td>no_key</td>\n",
       "      <td>(none)</td>\n",
       "      <td>not available in demo dataset</td>\n",
       "      <td>suddenlink.net</td>\n",
       "      <td>1</td>\n",
       "      <td>Windows</td>\n",
       "      <td>no_key</td>\n",
       "      <td>8</td>\n",
       "      <td>no_key</td>\n",
       "      <td>not available in demo dataset</td>\n",
       "      <td>350616841177147864_1470036371</td>\n",
       "      <td>no_key</td>\n",
       "      <td>(direct)</td>\n",
       "      <td>Northern America</td>\n",
       "      <td>no_key</td>\n",
       "      <td>0.0</td>\n",
       "      <td>1470036371</td>\n",
       "      <td>1</td>\n",
       "      <td>1470036371</td>\n",
       "      <td>Monday</td>\n",
       "      <td>1</td>\n",
       "    </tr>\n",
       "    <tr>\n",
       "      <th>538488</th>\n",
       "      <td>1.0</td>\n",
       "      <td>no_key</td>\n",
       "      <td>no_key</td>\n",
       "      <td>1</td>\n",
       "      <td>Safari</td>\n",
       "      <td>(not set)</td>\n",
       "      <td>Direct</td>\n",
       "      <td>not available in demo dataset</td>\n",
       "      <td>Africa</td>\n",
       "      <td>Nigeria</td>\n",
       "      <td>2016-08-01</td>\n",
       "      <td>0</td>\n",
       "      <td>desktop</td>\n",
       "      <td>7195966922741455630</td>\n",
       "      <td>no_key</td>\n",
       "      <td>1</td>\n",
       "      <td>False</td>\n",
       "      <td>True</td>\n",
       "      <td>no_key</td>\n",
       "      <td>no_key</td>\n",
       "      <td>(none)</td>\n",
       "      <td>not available in demo dataset</td>\n",
       "      <td>mainone.net</td>\n",
       "      <td>1</td>\n",
       "      <td>Macintosh</td>\n",
       "      <td>no_key</td>\n",
       "      <td>1</td>\n",
       "      <td>no_key</td>\n",
       "      <td>not available in demo dataset</td>\n",
       "      <td>7195966922741455630_1470036498</td>\n",
       "      <td>no_key</td>\n",
       "      <td>(direct)</td>\n",
       "      <td>Western Africa</td>\n",
       "      <td>no_key</td>\n",
       "      <td>0.0</td>\n",
       "      <td>1470036498</td>\n",
       "      <td>1</td>\n",
       "      <td>1470036498</td>\n",
       "      <td>Monday</td>\n",
       "      <td>1</td>\n",
       "    </tr>\n",
       "    <tr>\n",
       "      <th>538411</th>\n",
       "      <td>1.0</td>\n",
       "      <td>no_key</td>\n",
       "      <td>no_key</td>\n",
       "      <td>1</td>\n",
       "      <td>Chrome</td>\n",
       "      <td>(not set)</td>\n",
       "      <td>Direct</td>\n",
       "      <td>not available in demo dataset</td>\n",
       "      <td>Americas</td>\n",
       "      <td>Costa Rica</td>\n",
       "      <td>2016-08-01</td>\n",
       "      <td>0</td>\n",
       "      <td>desktop</td>\n",
       "      <td>5055318098307741379</td>\n",
       "      <td>no_key</td>\n",
       "      <td>1</td>\n",
       "      <td>False</td>\n",
       "      <td>True</td>\n",
       "      <td>no_key</td>\n",
       "      <td>no_key</td>\n",
       "      <td>(none)</td>\n",
       "      <td>not available in demo dataset</td>\n",
       "      <td>unknown.unknown</td>\n",
       "      <td>1</td>\n",
       "      <td>Windows</td>\n",
       "      <td>no_key</td>\n",
       "      <td>1</td>\n",
       "      <td>no_key</td>\n",
       "      <td>not available in demo dataset</td>\n",
       "      <td>5055318098307741379_1470036672</td>\n",
       "      <td>no_key</td>\n",
       "      <td>(direct)</td>\n",
       "      <td>Central America</td>\n",
       "      <td>no_key</td>\n",
       "      <td>0.0</td>\n",
       "      <td>1470036672</td>\n",
       "      <td>1</td>\n",
       "      <td>1470036672</td>\n",
       "      <td>Monday</td>\n",
       "      <td>1</td>\n",
       "    </tr>\n",
       "    <tr>\n",
       "      <th>538882</th>\n",
       "      <td>1.0</td>\n",
       "      <td>no_key</td>\n",
       "      <td>no_key</td>\n",
       "      <td>no_key</td>\n",
       "      <td>Chrome</td>\n",
       "      <td>(not set)</td>\n",
       "      <td>Referral</td>\n",
       "      <td>not available in demo dataset</td>\n",
       "      <td>Europe</td>\n",
       "      <td>Estonia</td>\n",
       "      <td>2016-08-01</td>\n",
       "      <td>0</td>\n",
       "      <td>desktop</td>\n",
       "      <td>4689779080679225130</td>\n",
       "      <td>no_key</td>\n",
       "      <td>3</td>\n",
       "      <td>False</td>\n",
       "      <td>no_key</td>\n",
       "      <td>no_key</td>\n",
       "      <td>no_key</td>\n",
       "      <td>referral</td>\n",
       "      <td>not available in demo dataset</td>\n",
       "      <td>estpak.ee</td>\n",
       "      <td>1</td>\n",
       "      <td>Macintosh</td>\n",
       "      <td>no_key</td>\n",
       "      <td>3</td>\n",
       "      <td>/prizes/</td>\n",
       "      <td>not available in demo dataset</td>\n",
       "      <td>4689779080679225130_1470036782</td>\n",
       "      <td>no_key</td>\n",
       "      <td>gophergala.com</td>\n",
       "      <td>Northern Europe</td>\n",
       "      <td>no_key</td>\n",
       "      <td>0.0</td>\n",
       "      <td>1470036782</td>\n",
       "      <td>1</td>\n",
       "      <td>1470036782</td>\n",
       "      <td>Monday</td>\n",
       "      <td>1</td>\n",
       "    </tr>\n",
       "    <tr>\n",
       "      <th>538924</th>\n",
       "      <td>1.0</td>\n",
       "      <td>no_key</td>\n",
       "      <td>no_key</td>\n",
       "      <td>no_key</td>\n",
       "      <td>Chrome</td>\n",
       "      <td>(not set)</td>\n",
       "      <td>Direct</td>\n",
       "      <td>San Francisco</td>\n",
       "      <td>Americas</td>\n",
       "      <td>United States</td>\n",
       "      <td>2016-08-01</td>\n",
       "      <td>0</td>\n",
       "      <td>desktop</td>\n",
       "      <td>9849723138964482903</td>\n",
       "      <td>no_key</td>\n",
       "      <td>3</td>\n",
       "      <td>False</td>\n",
       "      <td>True</td>\n",
       "      <td>no_key</td>\n",
       "      <td>no_key</td>\n",
       "      <td>(none)</td>\n",
       "      <td>San Francisco-Oakland-San Jose CA</td>\n",
       "      <td>cwak.us</td>\n",
       "      <td>1</td>\n",
       "      <td>Windows</td>\n",
       "      <td>no_key</td>\n",
       "      <td>3</td>\n",
       "      <td>no_key</td>\n",
       "      <td>California</td>\n",
       "      <td>9849723138964482903_1470036877</td>\n",
       "      <td>no_key</td>\n",
       "      <td>(direct)</td>\n",
       "      <td>Northern America</td>\n",
       "      <td>no_key</td>\n",
       "      <td>0.0</td>\n",
       "      <td>1470036877</td>\n",
       "      <td>1</td>\n",
       "      <td>1470036877</td>\n",
       "      <td>Monday</td>\n",
       "      <td>1</td>\n",
       "    </tr>\n",
       "    <tr>\n",
       "      <th>538846</th>\n",
       "      <td>1.0</td>\n",
       "      <td>no_key</td>\n",
       "      <td>no_key</td>\n",
       "      <td>no_key</td>\n",
       "      <td>Chrome</td>\n",
       "      <td>(not set)</td>\n",
       "      <td>Organic Search</td>\n",
       "      <td>Jakarta</td>\n",
       "      <td>Asia</td>\n",
       "      <td>Indonesia</td>\n",
       "      <td>2016-08-01</td>\n",
       "      <td>0</td>\n",
       "      <td>desktop</td>\n",
       "      <td>6202551162320501793</td>\n",
       "      <td>no_key</td>\n",
       "      <td>2</td>\n",
       "      <td>False</td>\n",
       "      <td>no_key</td>\n",
       "      <td>no_key</td>\n",
       "      <td>(not provided)</td>\n",
       "      <td>organic</td>\n",
       "      <td>(not set)</td>\n",
       "      <td>unknown.unknown</td>\n",
       "      <td>1</td>\n",
       "      <td>Windows</td>\n",
       "      <td>no_key</td>\n",
       "      <td>2</td>\n",
       "      <td>no_key</td>\n",
       "      <td>Jakarta</td>\n",
       "      <td>6202551162320501793_1470036980</td>\n",
       "      <td>no_key</td>\n",
       "      <td>google</td>\n",
       "      <td>Southeast Asia</td>\n",
       "      <td>no_key</td>\n",
       "      <td>0.0</td>\n",
       "      <td>1470036980</td>\n",
       "      <td>1</td>\n",
       "      <td>1470036980</td>\n",
       "      <td>Monday</td>\n",
       "      <td>1</td>\n",
       "    </tr>\n",
       "    <tr>\n",
       "      <th>537989</th>\n",
       "      <td>1.0</td>\n",
       "      <td>no_key</td>\n",
       "      <td>no_key</td>\n",
       "      <td>1</td>\n",
       "      <td>Safari</td>\n",
       "      <td>(not set)</td>\n",
       "      <td>Social</td>\n",
       "      <td>Quezon City</td>\n",
       "      <td>Asia</td>\n",
       "      <td>Philippines</td>\n",
       "      <td>2016-08-01</td>\n",
       "      <td>0</td>\n",
       "      <td>desktop</td>\n",
       "      <td>8799198809794781341</td>\n",
       "      <td>no_key</td>\n",
       "      <td>1</td>\n",
       "      <td>False</td>\n",
       "      <td>no_key</td>\n",
       "      <td>no_key</td>\n",
       "      <td>no_key</td>\n",
       "      <td>referral</td>\n",
       "      <td>(not set)</td>\n",
       "      <td>pldt.net</td>\n",
       "      <td>1</td>\n",
       "      <td>Macintosh</td>\n",
       "      <td>no_key</td>\n",
       "      <td>1</td>\n",
       "      <td>/yt/about/</td>\n",
       "      <td>Metro Manila</td>\n",
       "      <td>8799198809794781341_1470037053</td>\n",
       "      <td>no_key</td>\n",
       "      <td>youtube.com</td>\n",
       "      <td>Southeast Asia</td>\n",
       "      <td>no_key</td>\n",
       "      <td>0.0</td>\n",
       "      <td>1470037053</td>\n",
       "      <td>1</td>\n",
       "      <td>1470037053</td>\n",
       "      <td>Monday</td>\n",
       "      <td>1</td>\n",
       "    </tr>\n",
       "    <tr>\n",
       "      <th>538040</th>\n",
       "      <td>1.0</td>\n",
       "      <td>no_key</td>\n",
       "      <td>no_key</td>\n",
       "      <td>1</td>\n",
       "      <td>Chrome</td>\n",
       "      <td>(not set)</td>\n",
       "      <td>Social</td>\n",
       "      <td>not available in demo dataset</td>\n",
       "      <td>Asia</td>\n",
       "      <td>Thailand</td>\n",
       "      <td>2016-08-01</td>\n",
       "      <td>0</td>\n",
       "      <td>desktop</td>\n",
       "      <td>5108196650822287097</td>\n",
       "      <td>no_key</td>\n",
       "      <td>1</td>\n",
       "      <td>False</td>\n",
       "      <td>no_key</td>\n",
       "      <td>no_key</td>\n",
       "      <td>no_key</td>\n",
       "      <td>referral</td>\n",
       "      <td>not available in demo dataset</td>\n",
       "      <td>3bb.co.th</td>\n",
       "      <td>1</td>\n",
       "      <td>Windows</td>\n",
       "      <td>no_key</td>\n",
       "      <td>1</td>\n",
       "      <td>/yt/about/</td>\n",
       "      <td>not available in demo dataset</td>\n",
       "      <td>5108196650822287097_1470037191</td>\n",
       "      <td>no_key</td>\n",
       "      <td>youtube.com</td>\n",
       "      <td>Southeast Asia</td>\n",
       "      <td>no_key</td>\n",
       "      <td>0.0</td>\n",
       "      <td>1470037191</td>\n",
       "      <td>1</td>\n",
       "      <td>1470037191</td>\n",
       "      <td>Monday</td>\n",
       "      <td>1</td>\n",
       "    </tr>\n",
       "    <tr>\n",
       "      <th>539504</th>\n",
       "      <td>1.0</td>\n",
       "      <td>no_key</td>\n",
       "      <td>no_key</td>\n",
       "      <td>no_key</td>\n",
       "      <td>Chrome</td>\n",
       "      <td>(not set)</td>\n",
       "      <td>Organic Search</td>\n",
       "      <td>not available in demo dataset</td>\n",
       "      <td>Americas</td>\n",
       "      <td>Costa Rica</td>\n",
       "      <td>2016-08-01</td>\n",
       "      <td>0</td>\n",
       "      <td>mobile</td>\n",
       "      <td>7803172593096160119</td>\n",
       "      <td>no_key</td>\n",
       "      <td>19</td>\n",
       "      <td>True</td>\n",
       "      <td>no_key</td>\n",
       "      <td>no_key</td>\n",
       "      <td>(not provided)</td>\n",
       "      <td>organic</td>\n",
       "      <td>not available in demo dataset</td>\n",
       "      <td>ekonocr.com</td>\n",
       "      <td>1</td>\n",
       "      <td>Android</td>\n",
       "      <td>no_key</td>\n",
       "      <td>14</td>\n",
       "      <td>no_key</td>\n",
       "      <td>not available in demo dataset</td>\n",
       "      <td>7803172593096160119_1470037277</td>\n",
       "      <td>no_key</td>\n",
       "      <td>google</td>\n",
       "      <td>Central America</td>\n",
       "      <td>no_key</td>\n",
       "      <td>0.0</td>\n",
       "      <td>1470037277</td>\n",
       "      <td>1</td>\n",
       "      <td>1470037277</td>\n",
       "      <td>Monday</td>\n",
       "      <td>1</td>\n",
       "    </tr>\n",
       "    <tr>\n",
       "      <th>538169</th>\n",
       "      <td>1.0</td>\n",
       "      <td>no_key</td>\n",
       "      <td>no_key</td>\n",
       "      <td>1</td>\n",
       "      <td>Safari</td>\n",
       "      <td>(not set)</td>\n",
       "      <td>Social</td>\n",
       "      <td>not available in demo dataset</td>\n",
       "      <td>Asia</td>\n",
       "      <td>Philippines</td>\n",
       "      <td>2016-08-01</td>\n",
       "      <td>0</td>\n",
       "      <td>desktop</td>\n",
       "      <td>14659935183303341</td>\n",
       "      <td>no_key</td>\n",
       "      <td>1</td>\n",
       "      <td>False</td>\n",
       "      <td>no_key</td>\n",
       "      <td>no_key</td>\n",
       "      <td>no_key</td>\n",
       "      <td>referral</td>\n",
       "      <td>not available in demo dataset</td>\n",
       "      <td>pldt.net</td>\n",
       "      <td>1</td>\n",
       "      <td>Macintosh</td>\n",
       "      <td>no_key</td>\n",
       "      <td>1</td>\n",
       "      <td>/yt/about/</td>\n",
       "      <td>not available in demo dataset</td>\n",
       "      <td>0014659935183303341_1470037282</td>\n",
       "      <td>no_key</td>\n",
       "      <td>youtube.com</td>\n",
       "      <td>Southeast Asia</td>\n",
       "      <td>no_key</td>\n",
       "      <td>0.0</td>\n",
       "      <td>1470037282</td>\n",
       "      <td>1</td>\n",
       "      <td>1470037282</td>\n",
       "      <td>Monday</td>\n",
       "      <td>1</td>\n",
       "    </tr>\n",
       "    <tr>\n",
       "      <th>538884</th>\n",
       "      <td>1.0</td>\n",
       "      <td>no_key</td>\n",
       "      <td>no_key</td>\n",
       "      <td>no_key</td>\n",
       "      <td>Chrome</td>\n",
       "      <td>(not set)</td>\n",
       "      <td>Direct</td>\n",
       "      <td>Istanbul</td>\n",
       "      <td>Asia</td>\n",
       "      <td>Turkey</td>\n",
       "      <td>2016-08-01</td>\n",
       "      <td>0</td>\n",
       "      <td>desktop</td>\n",
       "      <td>7251030907573266334</td>\n",
       "      <td>no_key</td>\n",
       "      <td>3</td>\n",
       "      <td>False</td>\n",
       "      <td>True</td>\n",
       "      <td>no_key</td>\n",
       "      <td>no_key</td>\n",
       "      <td>(none)</td>\n",
       "      <td>(not set)</td>\n",
       "      <td>ttnet.com.tr</td>\n",
       "      <td>1</td>\n",
       "      <td>Windows</td>\n",
       "      <td>no_key</td>\n",
       "      <td>3</td>\n",
       "      <td>no_key</td>\n",
       "      <td>Istanbul</td>\n",
       "      <td>7251030907573266334_1470037296</td>\n",
       "      <td>no_key</td>\n",
       "      <td>(direct)</td>\n",
       "      <td>Western Asia</td>\n",
       "      <td>no_key</td>\n",
       "      <td>0.0</td>\n",
       "      <td>1470037296</td>\n",
       "      <td>1</td>\n",
       "      <td>1470037296</td>\n",
       "      <td>Monday</td>\n",
       "      <td>1</td>\n",
       "    </tr>\n",
       "    <tr>\n",
       "      <th>538859</th>\n",
       "      <td>2.0</td>\n",
       "      <td>no_key</td>\n",
       "      <td>no_key</td>\n",
       "      <td>no_key</td>\n",
       "      <td>Chrome</td>\n",
       "      <td>(not set)</td>\n",
       "      <td>Organic Search</td>\n",
       "      <td>not available in demo dataset</td>\n",
       "      <td>Oceania</td>\n",
       "      <td>Australia</td>\n",
       "      <td>2016-08-01</td>\n",
       "      <td>0</td>\n",
       "      <td>tablet</td>\n",
       "      <td>5882258963347216049</td>\n",
       "      <td>no_key</td>\n",
       "      <td>2</td>\n",
       "      <td>True</td>\n",
       "      <td>no_key</td>\n",
       "      <td>no_key</td>\n",
       "      <td>(not provided)</td>\n",
       "      <td>organic</td>\n",
       "      <td>not available in demo dataset</td>\n",
       "      <td>qut.edu.au</td>\n",
       "      <td>1</td>\n",
       "      <td>Android</td>\n",
       "      <td>no_key</td>\n",
       "      <td>2</td>\n",
       "      <td>no_key</td>\n",
       "      <td>not available in demo dataset</td>\n",
       "      <td>5882258963347216049_1470037302</td>\n",
       "      <td>no_key</td>\n",
       "      <td>google</td>\n",
       "      <td>Australasia</td>\n",
       "      <td>no_key</td>\n",
       "      <td>0.0</td>\n",
       "      <td>1470037302</td>\n",
       "      <td>1</td>\n",
       "      <td>1470037302</td>\n",
       "      <td>Monday</td>\n",
       "      <td>1</td>\n",
       "    </tr>\n",
       "    <tr>\n",
       "      <th>538999</th>\n",
       "      <td>2.0</td>\n",
       "      <td>no_key</td>\n",
       "      <td>no_key</td>\n",
       "      <td>no_key</td>\n",
       "      <td>Chrome</td>\n",
       "      <td>(not set)</td>\n",
       "      <td>Direct</td>\n",
       "      <td>Sunnyvale</td>\n",
       "      <td>Americas</td>\n",
       "      <td>United States</td>\n",
       "      <td>2016-08-01</td>\n",
       "      <td>0</td>\n",
       "      <td>mobile</td>\n",
       "      <td>5079847790435547812</td>\n",
       "      <td>no_key</td>\n",
       "      <td>4</td>\n",
       "      <td>True</td>\n",
       "      <td>True</td>\n",
       "      <td>no_key</td>\n",
       "      <td>no_key</td>\n",
       "      <td>(none)</td>\n",
       "      <td>San Francisco-Oakland-San Jose CA</td>\n",
       "      <td>comcast.net</td>\n",
       "      <td>no_key</td>\n",
       "      <td>iOS</td>\n",
       "      <td>no_key</td>\n",
       "      <td>3</td>\n",
       "      <td>no_key</td>\n",
       "      <td>California</td>\n",
       "      <td>5079847790435547812_1470037326</td>\n",
       "      <td>no_key</td>\n",
       "      <td>(direct)</td>\n",
       "      <td>Northern America</td>\n",
       "      <td>no_key</td>\n",
       "      <td>0.0</td>\n",
       "      <td>1470037326</td>\n",
       "      <td>2</td>\n",
       "      <td>1470037326</td>\n",
       "      <td>Monday</td>\n",
       "      <td>1</td>\n",
       "    </tr>\n",
       "    <tr>\n",
       "      <th>538413</th>\n",
       "      <td>1.0</td>\n",
       "      <td>no_key</td>\n",
       "      <td>no_key</td>\n",
       "      <td>1</td>\n",
       "      <td>Chrome</td>\n",
       "      <td>(not set)</td>\n",
       "      <td>Direct</td>\n",
       "      <td>not available in demo dataset</td>\n",
       "      <td>Asia</td>\n",
       "      <td>Saudi Arabia</td>\n",
       "      <td>2016-08-01</td>\n",
       "      <td>0</td>\n",
       "      <td>mobile</td>\n",
       "      <td>7180771470273032233</td>\n",
       "      <td>no_key</td>\n",
       "      <td>1</td>\n",
       "      <td>True</td>\n",
       "      <td>True</td>\n",
       "      <td>no_key</td>\n",
       "      <td>no_key</td>\n",
       "      <td>(none)</td>\n",
       "      <td>not available in demo dataset</td>\n",
       "      <td>unknown.unknown</td>\n",
       "      <td>1</td>\n",
       "      <td>Android</td>\n",
       "      <td>no_key</td>\n",
       "      <td>1</td>\n",
       "      <td>no_key</td>\n",
       "      <td>not available in demo dataset</td>\n",
       "      <td>7180771470273032233_1470037369</td>\n",
       "      <td>no_key</td>\n",
       "      <td>(direct)</td>\n",
       "      <td>Western Asia</td>\n",
       "      <td>no_key</td>\n",
       "      <td>0.0</td>\n",
       "      <td>1470037369</td>\n",
       "      <td>1</td>\n",
       "      <td>1470037369</td>\n",
       "      <td>Monday</td>\n",
       "      <td>1</td>\n",
       "    </tr>\n",
       "    <tr>\n",
       "      <th>...</th>\n",
       "      <td>...</td>\n",
       "      <td>...</td>\n",
       "      <td>...</td>\n",
       "      <td>...</td>\n",
       "      <td>...</td>\n",
       "      <td>...</td>\n",
       "      <td>...</td>\n",
       "      <td>...</td>\n",
       "      <td>...</td>\n",
       "      <td>...</td>\n",
       "      <td>...</td>\n",
       "      <td>...</td>\n",
       "      <td>...</td>\n",
       "      <td>...</td>\n",
       "      <td>...</td>\n",
       "      <td>...</td>\n",
       "      <td>...</td>\n",
       "      <td>...</td>\n",
       "      <td>...</td>\n",
       "      <td>...</td>\n",
       "      <td>...</td>\n",
       "      <td>...</td>\n",
       "      <td>...</td>\n",
       "      <td>...</td>\n",
       "      <td>...</td>\n",
       "      <td>...</td>\n",
       "      <td>...</td>\n",
       "      <td>...</td>\n",
       "      <td>...</td>\n",
       "      <td>...</td>\n",
       "      <td>...</td>\n",
       "      <td>...</td>\n",
       "      <td>...</td>\n",
       "      <td>...</td>\n",
       "      <td>...</td>\n",
       "      <td>...</td>\n",
       "      <td>...</td>\n",
       "      <td>...</td>\n",
       "      <td>...</td>\n",
       "      <td>...</td>\n",
       "    </tr>\n",
       "    <tr>\n",
       "      <th>804654</th>\n",
       "      <td>NaN</td>\n",
       "      <td>no_key</td>\n",
       "      <td>no_key</td>\n",
       "      <td>no_key</td>\n",
       "      <td>Chrome</td>\n",
       "      <td>(not set)</td>\n",
       "      <td>Social</td>\n",
       "      <td>not available in demo dataset</td>\n",
       "      <td>Asia</td>\n",
       "      <td>Azerbaijan</td>\n",
       "      <td>2018-04-21</td>\n",
       "      <td>1</td>\n",
       "      <td>desktop</td>\n",
       "      <td>6630224419290516980</td>\n",
       "      <td>no_key</td>\n",
       "      <td>9</td>\n",
       "      <td>False</td>\n",
       "      <td>True</td>\n",
       "      <td>no_key</td>\n",
       "      <td>no_key</td>\n",
       "      <td>referral</td>\n",
       "      <td>not available in demo dataset</td>\n",
       "      <td>unknown.unknown</td>\n",
       "      <td>no_key</td>\n",
       "      <td>Windows</td>\n",
       "      <td>no_key</td>\n",
       "      <td>4</td>\n",
       "      <td>/yt/dev/tr/</td>\n",
       "      <td>not available in demo dataset</td>\n",
       "      <td>6630224419290516980_1524346037</td>\n",
       "      <td>no_key</td>\n",
       "      <td>youtube.com</td>\n",
       "      <td>Western Asia</td>\n",
       "      <td>no_key</td>\n",
       "      <td>NaN</td>\n",
       "      <td>1524346037</td>\n",
       "      <td>3</td>\n",
       "      <td>1524346037</td>\n",
       "      <td>Saturday</td>\n",
       "      <td>3</td>\n",
       "    </tr>\n",
       "    <tr>\n",
       "      <th>804655</th>\n",
       "      <td>NaN</td>\n",
       "      <td>no_key</td>\n",
       "      <td>no_key</td>\n",
       "      <td>no_key</td>\n",
       "      <td>Chrome</td>\n",
       "      <td>(not set)</td>\n",
       "      <td>Social</td>\n",
       "      <td>not available in demo dataset</td>\n",
       "      <td>Americas</td>\n",
       "      <td>United States</td>\n",
       "      <td>2018-04-21</td>\n",
       "      <td>1</td>\n",
       "      <td>desktop</td>\n",
       "      <td>3292253645461581386</td>\n",
       "      <td>no_key</td>\n",
       "      <td>9</td>\n",
       "      <td>False</td>\n",
       "      <td>no_key</td>\n",
       "      <td>no_key</td>\n",
       "      <td>no_key</td>\n",
       "      <td>referral</td>\n",
       "      <td>not available in demo dataset</td>\n",
       "      <td>(not set)</td>\n",
       "      <td>1</td>\n",
       "      <td>Chrome OS</td>\n",
       "      <td>no_key</td>\n",
       "      <td>6</td>\n",
       "      <td>/yt/kids/</td>\n",
       "      <td>not available in demo dataset</td>\n",
       "      <td>3292253645461581386_1524316604</td>\n",
       "      <td>no_key</td>\n",
       "      <td>youtube.com</td>\n",
       "      <td>Northern America</td>\n",
       "      <td>no_key</td>\n",
       "      <td>NaN</td>\n",
       "      <td>1524316604</td>\n",
       "      <td>1</td>\n",
       "      <td>1524316604</td>\n",
       "      <td>Saturday</td>\n",
       "      <td>1</td>\n",
       "    </tr>\n",
       "    <tr>\n",
       "      <th>804656</th>\n",
       "      <td>NaN</td>\n",
       "      <td>no_key</td>\n",
       "      <td>no_key</td>\n",
       "      <td>no_key</td>\n",
       "      <td>Chrome</td>\n",
       "      <td>(not set)</td>\n",
       "      <td>Social</td>\n",
       "      <td>not available in demo dataset</td>\n",
       "      <td>Asia</td>\n",
       "      <td>India</td>\n",
       "      <td>2018-04-21</td>\n",
       "      <td>1</td>\n",
       "      <td>mobile</td>\n",
       "      <td>9136343604886805148</td>\n",
       "      <td>no_key</td>\n",
       "      <td>9</td>\n",
       "      <td>True</td>\n",
       "      <td>no_key</td>\n",
       "      <td>no_key</td>\n",
       "      <td>no_key</td>\n",
       "      <td>referral</td>\n",
       "      <td>not available in demo dataset</td>\n",
       "      <td>(not set)</td>\n",
       "      <td>1</td>\n",
       "      <td>Android</td>\n",
       "      <td>no_key</td>\n",
       "      <td>5</td>\n",
       "      <td>/</td>\n",
       "      <td>not available in demo dataset</td>\n",
       "      <td>9136343604886805148_1524321413</td>\n",
       "      <td>no_key</td>\n",
       "      <td>youtube.com</td>\n",
       "      <td>Southern Asia</td>\n",
       "      <td>no_key</td>\n",
       "      <td>NaN</td>\n",
       "      <td>1524321413</td>\n",
       "      <td>1</td>\n",
       "      <td>1524321413</td>\n",
       "      <td>Saturday</td>\n",
       "      <td>2</td>\n",
       "    </tr>\n",
       "    <tr>\n",
       "      <th>804657</th>\n",
       "      <td>NaN</td>\n",
       "      <td>no_key</td>\n",
       "      <td>no_key</td>\n",
       "      <td>no_key</td>\n",
       "      <td>Chrome</td>\n",
       "      <td>(not set)</td>\n",
       "      <td>Social</td>\n",
       "      <td>not available in demo dataset</td>\n",
       "      <td>Americas</td>\n",
       "      <td>Colombia</td>\n",
       "      <td>2018-04-21</td>\n",
       "      <td>1</td>\n",
       "      <td>desktop</td>\n",
       "      <td>3889687518028456197</td>\n",
       "      <td>no_key</td>\n",
       "      <td>9</td>\n",
       "      <td>False</td>\n",
       "      <td>no_key</td>\n",
       "      <td>no_key</td>\n",
       "      <td>no_key</td>\n",
       "      <td>referral</td>\n",
       "      <td>not available in demo dataset</td>\n",
       "      <td>unknown.unknown</td>\n",
       "      <td>1</td>\n",
       "      <td>Windows</td>\n",
       "      <td>no_key</td>\n",
       "      <td>7</td>\n",
       "      <td>/intl/es/yt/about/</td>\n",
       "      <td>not available in demo dataset</td>\n",
       "      <td>3889687518028456197_1524345080</td>\n",
       "      <td>no_key</td>\n",
       "      <td>youtube.com</td>\n",
       "      <td>South America</td>\n",
       "      <td>no_key</td>\n",
       "      <td>NaN</td>\n",
       "      <td>1524345080</td>\n",
       "      <td>1</td>\n",
       "      <td>1524345080</td>\n",
       "      <td>Saturday</td>\n",
       "      <td>1</td>\n",
       "    </tr>\n",
       "    <tr>\n",
       "      <th>804658</th>\n",
       "      <td>NaN</td>\n",
       "      <td>no_key</td>\n",
       "      <td>no_key</td>\n",
       "      <td>no_key</td>\n",
       "      <td>Chrome</td>\n",
       "      <td>(not set)</td>\n",
       "      <td>Social</td>\n",
       "      <td>not available in demo dataset</td>\n",
       "      <td>Asia</td>\n",
       "      <td>India</td>\n",
       "      <td>2018-04-21</td>\n",
       "      <td>1</td>\n",
       "      <td>desktop</td>\n",
       "      <td>5993023423103207014</td>\n",
       "      <td>no_key</td>\n",
       "      <td>10</td>\n",
       "      <td>False</td>\n",
       "      <td>no_key</td>\n",
       "      <td>no_key</td>\n",
       "      <td>no_key</td>\n",
       "      <td>referral</td>\n",
       "      <td>not available in demo dataset</td>\n",
       "      <td>unknown.unknown</td>\n",
       "      <td>1</td>\n",
       "      <td>Windows</td>\n",
       "      <td>no_key</td>\n",
       "      <td>8</td>\n",
       "      <td>/</td>\n",
       "      <td>not available in demo dataset</td>\n",
       "      <td>5993023423103207014_1524370592</td>\n",
       "      <td>no_key</td>\n",
       "      <td>youtube.com</td>\n",
       "      <td>Southern Asia</td>\n",
       "      <td>no_key</td>\n",
       "      <td>NaN</td>\n",
       "      <td>1524370592</td>\n",
       "      <td>1</td>\n",
       "      <td>1524370592</td>\n",
       "      <td>Saturday</td>\n",
       "      <td>1</td>\n",
       "    </tr>\n",
       "    <tr>\n",
       "      <th>804659</th>\n",
       "      <td>NaN</td>\n",
       "      <td>no_key</td>\n",
       "      <td>no_key</td>\n",
       "      <td>no_key</td>\n",
       "      <td>Chrome</td>\n",
       "      <td>(not set)</td>\n",
       "      <td>Social</td>\n",
       "      <td>not available in demo dataset</td>\n",
       "      <td>Americas</td>\n",
       "      <td>United States</td>\n",
       "      <td>2018-04-21</td>\n",
       "      <td>1</td>\n",
       "      <td>desktop</td>\n",
       "      <td>7428804439579052435</td>\n",
       "      <td>no_key</td>\n",
       "      <td>10</td>\n",
       "      <td>False</td>\n",
       "      <td>no_key</td>\n",
       "      <td>no_key</td>\n",
       "      <td>no_key</td>\n",
       "      <td>referral</td>\n",
       "      <td>not available in demo dataset</td>\n",
       "      <td>harvard.edu</td>\n",
       "      <td>1</td>\n",
       "      <td>Macintosh</td>\n",
       "      <td>no_key</td>\n",
       "      <td>10</td>\n",
       "      <td>/yt/about/</td>\n",
       "      <td>not available in demo dataset</td>\n",
       "      <td>7428804439579052435_1524354249</td>\n",
       "      <td>no_key</td>\n",
       "      <td>youtube.com</td>\n",
       "      <td>Northern America</td>\n",
       "      <td>no_key</td>\n",
       "      <td>NaN</td>\n",
       "      <td>1524354249</td>\n",
       "      <td>1</td>\n",
       "      <td>1524354249</td>\n",
       "      <td>Saturday</td>\n",
       "      <td>1</td>\n",
       "    </tr>\n",
       "    <tr>\n",
       "      <th>804660</th>\n",
       "      <td>NaN</td>\n",
       "      <td>no_key</td>\n",
       "      <td>no_key</td>\n",
       "      <td>no_key</td>\n",
       "      <td>Chrome</td>\n",
       "      <td>(not set)</td>\n",
       "      <td>Social</td>\n",
       "      <td>not available in demo dataset</td>\n",
       "      <td>Europe</td>\n",
       "      <td>Greece</td>\n",
       "      <td>2018-04-21</td>\n",
       "      <td>1</td>\n",
       "      <td>desktop</td>\n",
       "      <td>5752955605237169639</td>\n",
       "      <td>no_key</td>\n",
       "      <td>10</td>\n",
       "      <td>False</td>\n",
       "      <td>no_key</td>\n",
       "      <td>no_key</td>\n",
       "      <td>no_key</td>\n",
       "      <td>referral</td>\n",
       "      <td>not available in demo dataset</td>\n",
       "      <td>unknown.unknown</td>\n",
       "      <td>1</td>\n",
       "      <td>Windows</td>\n",
       "      <td>no_key</td>\n",
       "      <td>6</td>\n",
       "      <td>/intl/el/yt/about/copyright/</td>\n",
       "      <td>not available in demo dataset</td>\n",
       "      <td>5752955605237169639_1524339585</td>\n",
       "      <td>no_key</td>\n",
       "      <td>youtube.com</td>\n",
       "      <td>Southern Europe</td>\n",
       "      <td>no_key</td>\n",
       "      <td>NaN</td>\n",
       "      <td>1524339585</td>\n",
       "      <td>1</td>\n",
       "      <td>1524339585</td>\n",
       "      <td>Saturday</td>\n",
       "      <td>1</td>\n",
       "    </tr>\n",
       "    <tr>\n",
       "      <th>804661</th>\n",
       "      <td>NaN</td>\n",
       "      <td>no_key</td>\n",
       "      <td>no_key</td>\n",
       "      <td>no_key</td>\n",
       "      <td>Chrome</td>\n",
       "      <td>(not set)</td>\n",
       "      <td>Social</td>\n",
       "      <td>not available in demo dataset</td>\n",
       "      <td>Americas</td>\n",
       "      <td>Brazil</td>\n",
       "      <td>2018-04-21</td>\n",
       "      <td>1</td>\n",
       "      <td>mobile</td>\n",
       "      <td>7909814785732762623</td>\n",
       "      <td>no_key</td>\n",
       "      <td>10</td>\n",
       "      <td>True</td>\n",
       "      <td>no_key</td>\n",
       "      <td>no_key</td>\n",
       "      <td>no_key</td>\n",
       "      <td>referral</td>\n",
       "      <td>not available in demo dataset</td>\n",
       "      <td>gvt.net.br</td>\n",
       "      <td>1</td>\n",
       "      <td>Android</td>\n",
       "      <td>no_key</td>\n",
       "      <td>6</td>\n",
       "      <td>/intl/pt-BR/yt/about/policies/</td>\n",
       "      <td>not available in demo dataset</td>\n",
       "      <td>7909814785732762623_1524325494</td>\n",
       "      <td>no_key</td>\n",
       "      <td>youtube.com</td>\n",
       "      <td>South America</td>\n",
       "      <td>no_key</td>\n",
       "      <td>NaN</td>\n",
       "      <td>1524325494</td>\n",
       "      <td>1</td>\n",
       "      <td>1524325494</td>\n",
       "      <td>Saturday</td>\n",
       "      <td>3</td>\n",
       "    </tr>\n",
       "    <tr>\n",
       "      <th>804662</th>\n",
       "      <td>NaN</td>\n",
       "      <td>no_key</td>\n",
       "      <td>no_key</td>\n",
       "      <td>no_key</td>\n",
       "      <td>Chrome</td>\n",
       "      <td>(not set)</td>\n",
       "      <td>Social</td>\n",
       "      <td>not available in demo dataset</td>\n",
       "      <td>Americas</td>\n",
       "      <td>United States</td>\n",
       "      <td>2018-04-21</td>\n",
       "      <td>1</td>\n",
       "      <td>desktop</td>\n",
       "      <td>9863987706611943279</td>\n",
       "      <td>no_key</td>\n",
       "      <td>10</td>\n",
       "      <td>False</td>\n",
       "      <td>no_key</td>\n",
       "      <td>no_key</td>\n",
       "      <td>no_key</td>\n",
       "      <td>referral</td>\n",
       "      <td>not available in demo dataset</td>\n",
       "      <td>comcast.net</td>\n",
       "      <td>1</td>\n",
       "      <td>Linux</td>\n",
       "      <td>no_key</td>\n",
       "      <td>6</td>\n",
       "      <td>/yt/creators/learn-and-connect/</td>\n",
       "      <td>not available in demo dataset</td>\n",
       "      <td>9863987706611943279_1524320079</td>\n",
       "      <td>no_key</td>\n",
       "      <td>youtube.com</td>\n",
       "      <td>Northern America</td>\n",
       "      <td>no_key</td>\n",
       "      <td>NaN</td>\n",
       "      <td>1524320079</td>\n",
       "      <td>1</td>\n",
       "      <td>1524320079</td>\n",
       "      <td>Saturday</td>\n",
       "      <td>1</td>\n",
       "    </tr>\n",
       "    <tr>\n",
       "      <th>804663</th>\n",
       "      <td>NaN</td>\n",
       "      <td>no_key</td>\n",
       "      <td>no_key</td>\n",
       "      <td>no_key</td>\n",
       "      <td>Chrome</td>\n",
       "      <td>(not set)</td>\n",
       "      <td>Social</td>\n",
       "      <td>not available in demo dataset</td>\n",
       "      <td>Europe</td>\n",
       "      <td>Norway</td>\n",
       "      <td>2018-04-21</td>\n",
       "      <td>1</td>\n",
       "      <td>desktop</td>\n",
       "      <td>4659464472366757440</td>\n",
       "      <td>no_key</td>\n",
       "      <td>11</td>\n",
       "      <td>False</td>\n",
       "      <td>no_key</td>\n",
       "      <td>no_key</td>\n",
       "      <td>no_key</td>\n",
       "      <td>referral</td>\n",
       "      <td>not available in demo dataset</td>\n",
       "      <td>(not set)</td>\n",
       "      <td>1</td>\n",
       "      <td>Windows</td>\n",
       "      <td>no_key</td>\n",
       "      <td>4</td>\n",
       "      <td>/yt/music/index.html</td>\n",
       "      <td>not available in demo dataset</td>\n",
       "      <td>4659464472366757440_1524295275</td>\n",
       "      <td>no_key</td>\n",
       "      <td>youtube.com</td>\n",
       "      <td>Northern Europe</td>\n",
       "      <td>no_key</td>\n",
       "      <td>NaN</td>\n",
       "      <td>1524295275</td>\n",
       "      <td>1</td>\n",
       "      <td>1524295275</td>\n",
       "      <td>Saturday</td>\n",
       "      <td>1</td>\n",
       "    </tr>\n",
       "    <tr>\n",
       "      <th>804664</th>\n",
       "      <td>NaN</td>\n",
       "      <td>no_key</td>\n",
       "      <td>no_key</td>\n",
       "      <td>no_key</td>\n",
       "      <td>Chrome</td>\n",
       "      <td>(not set)</td>\n",
       "      <td>Social</td>\n",
       "      <td>not available in demo dataset</td>\n",
       "      <td>Asia</td>\n",
       "      <td>South Korea</td>\n",
       "      <td>2018-04-21</td>\n",
       "      <td>1</td>\n",
       "      <td>desktop</td>\n",
       "      <td>5658681988240696606</td>\n",
       "      <td>no_key</td>\n",
       "      <td>12</td>\n",
       "      <td>False</td>\n",
       "      <td>no_key</td>\n",
       "      <td>no_key</td>\n",
       "      <td>no_key</td>\n",
       "      <td>referral</td>\n",
       "      <td>not available in demo dataset</td>\n",
       "      <td>unknown.unknown</td>\n",
       "      <td>1</td>\n",
       "      <td>Windows</td>\n",
       "      <td>no_key</td>\n",
       "      <td>8</td>\n",
       "      <td>/yt/creators/benefits/</td>\n",
       "      <td>not available in demo dataset</td>\n",
       "      <td>5658681988240696606_1524369942</td>\n",
       "      <td>no_key</td>\n",
       "      <td>youtube.com</td>\n",
       "      <td>Eastern Asia</td>\n",
       "      <td>no_key</td>\n",
       "      <td>NaN</td>\n",
       "      <td>1524369942</td>\n",
       "      <td>1</td>\n",
       "      <td>1524369942</td>\n",
       "      <td>Saturday</td>\n",
       "      <td>2</td>\n",
       "    </tr>\n",
       "    <tr>\n",
       "      <th>804665</th>\n",
       "      <td>NaN</td>\n",
       "      <td>no_key</td>\n",
       "      <td>no_key</td>\n",
       "      <td>no_key</td>\n",
       "      <td>Safari</td>\n",
       "      <td>(not set)</td>\n",
       "      <td>Social</td>\n",
       "      <td>not available in demo dataset</td>\n",
       "      <td>Europe</td>\n",
       "      <td>Germany</td>\n",
       "      <td>2018-04-21</td>\n",
       "      <td>1</td>\n",
       "      <td>tablet</td>\n",
       "      <td>4536290936744880454</td>\n",
       "      <td>no_key</td>\n",
       "      <td>12</td>\n",
       "      <td>True</td>\n",
       "      <td>no_key</td>\n",
       "      <td>no_key</td>\n",
       "      <td>no_key</td>\n",
       "      <td>referral</td>\n",
       "      <td>not available in demo dataset</td>\n",
       "      <td>vodafone-ip.de</td>\n",
       "      <td>1</td>\n",
       "      <td>iOS</td>\n",
       "      <td>no_key</td>\n",
       "      <td>9</td>\n",
       "      <td>/intl/de/yt/creators/</td>\n",
       "      <td>not available in demo dataset</td>\n",
       "      <td>4536290936744880454_1524355296</td>\n",
       "      <td>no_key</td>\n",
       "      <td>youtube.com</td>\n",
       "      <td>Western Europe</td>\n",
       "      <td>no_key</td>\n",
       "      <td>NaN</td>\n",
       "      <td>1524355296</td>\n",
       "      <td>1</td>\n",
       "      <td>1524355296</td>\n",
       "      <td>Saturday</td>\n",
       "      <td>2</td>\n",
       "    </tr>\n",
       "    <tr>\n",
       "      <th>804666</th>\n",
       "      <td>NaN</td>\n",
       "      <td>no_key</td>\n",
       "      <td>no_key</td>\n",
       "      <td>no_key</td>\n",
       "      <td>Chrome</td>\n",
       "      <td>(not set)</td>\n",
       "      <td>Social</td>\n",
       "      <td>not available in demo dataset</td>\n",
       "      <td>Asia</td>\n",
       "      <td>Nepal</td>\n",
       "      <td>2018-04-21</td>\n",
       "      <td>1</td>\n",
       "      <td>mobile</td>\n",
       "      <td>7758724635793798710</td>\n",
       "      <td>no_key</td>\n",
       "      <td>13</td>\n",
       "      <td>True</td>\n",
       "      <td>no_key</td>\n",
       "      <td>no_key</td>\n",
       "      <td>no_key</td>\n",
       "      <td>referral</td>\n",
       "      <td>not available in demo dataset</td>\n",
       "      <td>unknown.unknown</td>\n",
       "      <td>1</td>\n",
       "      <td>Android</td>\n",
       "      <td>no_key</td>\n",
       "      <td>11</td>\n",
       "      <td>/yt/about/policies/</td>\n",
       "      <td>not available in demo dataset</td>\n",
       "      <td>7758724635793798710_1524333334</td>\n",
       "      <td>no_key</td>\n",
       "      <td>youtube.com</td>\n",
       "      <td>Southern Asia</td>\n",
       "      <td>no_key</td>\n",
       "      <td>NaN</td>\n",
       "      <td>1524333334</td>\n",
       "      <td>1</td>\n",
       "      <td>1524333334</td>\n",
       "      <td>Saturday</td>\n",
       "      <td>1</td>\n",
       "    </tr>\n",
       "    <tr>\n",
       "      <th>804667</th>\n",
       "      <td>NaN</td>\n",
       "      <td>no_key</td>\n",
       "      <td>no_key</td>\n",
       "      <td>no_key</td>\n",
       "      <td>Chrome</td>\n",
       "      <td>(not set)</td>\n",
       "      <td>Social</td>\n",
       "      <td>not available in demo dataset</td>\n",
       "      <td>Americas</td>\n",
       "      <td>Canada</td>\n",
       "      <td>2018-04-21</td>\n",
       "      <td>1</td>\n",
       "      <td>desktop</td>\n",
       "      <td>5793803277034804127</td>\n",
       "      <td>no_key</td>\n",
       "      <td>13</td>\n",
       "      <td>False</td>\n",
       "      <td>no_key</td>\n",
       "      <td>no_key</td>\n",
       "      <td>no_key</td>\n",
       "      <td>referral</td>\n",
       "      <td>not available in demo dataset</td>\n",
       "      <td>videotron.ca</td>\n",
       "      <td>1</td>\n",
       "      <td>Windows</td>\n",
       "      <td>no_key</td>\n",
       "      <td>10</td>\n",
       "      <td>/yt/music/fr-CA/index.html</td>\n",
       "      <td>not available in demo dataset</td>\n",
       "      <td>5793803277034804127_1524355178</td>\n",
       "      <td>no_key</td>\n",
       "      <td>youtube.com</td>\n",
       "      <td>Northern America</td>\n",
       "      <td>no_key</td>\n",
       "      <td>NaN</td>\n",
       "      <td>1524355178</td>\n",
       "      <td>1</td>\n",
       "      <td>1524355178</td>\n",
       "      <td>Saturday</td>\n",
       "      <td>1</td>\n",
       "    </tr>\n",
       "    <tr>\n",
       "      <th>804668</th>\n",
       "      <td>NaN</td>\n",
       "      <td>no_key</td>\n",
       "      <td>no_key</td>\n",
       "      <td>no_key</td>\n",
       "      <td>Chrome</td>\n",
       "      <td>(not set)</td>\n",
       "      <td>Social</td>\n",
       "      <td>Los Angeles</td>\n",
       "      <td>Americas</td>\n",
       "      <td>United States</td>\n",
       "      <td>2018-04-21</td>\n",
       "      <td>1</td>\n",
       "      <td>mobile</td>\n",
       "      <td>56471404986091477</td>\n",
       "      <td>no_key</td>\n",
       "      <td>13</td>\n",
       "      <td>True</td>\n",
       "      <td>no_key</td>\n",
       "      <td>no_key</td>\n",
       "      <td>no_key</td>\n",
       "      <td>referral</td>\n",
       "      <td>Los Angeles CA</td>\n",
       "      <td>spcsdns.net</td>\n",
       "      <td>1</td>\n",
       "      <td>Android</td>\n",
       "      <td>no_key</td>\n",
       "      <td>10</td>\n",
       "      <td>/yt/about/copyright/</td>\n",
       "      <td>California</td>\n",
       "      <td>56471404986091477_1524352295</td>\n",
       "      <td>no_key</td>\n",
       "      <td>youtube.com</td>\n",
       "      <td>Northern America</td>\n",
       "      <td>no_key</td>\n",
       "      <td>NaN</td>\n",
       "      <td>1524352295</td>\n",
       "      <td>1</td>\n",
       "      <td>1524352295</td>\n",
       "      <td>Saturday</td>\n",
       "      <td>1</td>\n",
       "    </tr>\n",
       "    <tr>\n",
       "      <th>804669</th>\n",
       "      <td>NaN</td>\n",
       "      <td>no_key</td>\n",
       "      <td>no_key</td>\n",
       "      <td>no_key</td>\n",
       "      <td>Edge</td>\n",
       "      <td>(not set)</td>\n",
       "      <td>Social</td>\n",
       "      <td>Chicago</td>\n",
       "      <td>Americas</td>\n",
       "      <td>United States</td>\n",
       "      <td>2018-04-21</td>\n",
       "      <td>1</td>\n",
       "      <td>desktop</td>\n",
       "      <td>9084225574121020383</td>\n",
       "      <td>no_key</td>\n",
       "      <td>13</td>\n",
       "      <td>False</td>\n",
       "      <td>no_key</td>\n",
       "      <td>no_key</td>\n",
       "      <td>no_key</td>\n",
       "      <td>referral</td>\n",
       "      <td>Chicago IL</td>\n",
       "      <td>(not set)</td>\n",
       "      <td>1</td>\n",
       "      <td>Windows</td>\n",
       "      <td>no_key</td>\n",
       "      <td>12</td>\n",
       "      <td>/intl/en/yt/about/copyright/</td>\n",
       "      <td>Illinois</td>\n",
       "      <td>9084225574121020383_1524351026</td>\n",
       "      <td>no_key</td>\n",
       "      <td>youtube.com</td>\n",
       "      <td>Northern America</td>\n",
       "      <td>no_key</td>\n",
       "      <td>NaN</td>\n",
       "      <td>1524351026</td>\n",
       "      <td>1</td>\n",
       "      <td>1524351026</td>\n",
       "      <td>Saturday</td>\n",
       "      <td>3</td>\n",
       "    </tr>\n",
       "    <tr>\n",
       "      <th>804670</th>\n",
       "      <td>NaN</td>\n",
       "      <td>no_key</td>\n",
       "      <td>no_key</td>\n",
       "      <td>no_key</td>\n",
       "      <td>Chrome</td>\n",
       "      <td>(not set)</td>\n",
       "      <td>Social</td>\n",
       "      <td>not available in demo dataset</td>\n",
       "      <td>Asia</td>\n",
       "      <td>Taiwan</td>\n",
       "      <td>2018-04-21</td>\n",
       "      <td>1</td>\n",
       "      <td>desktop</td>\n",
       "      <td>638017669166337450</td>\n",
       "      <td>no_key</td>\n",
       "      <td>13</td>\n",
       "      <td>False</td>\n",
       "      <td>no_key</td>\n",
       "      <td>no_key</td>\n",
       "      <td>no_key</td>\n",
       "      <td>referral</td>\n",
       "      <td>not available in demo dataset</td>\n",
       "      <td>hinet.net</td>\n",
       "      <td>1</td>\n",
       "      <td>Windows</td>\n",
       "      <td>no_key</td>\n",
       "      <td>9</td>\n",
       "      <td>/intl/zh-TW/yt/creators/</td>\n",
       "      <td>not available in demo dataset</td>\n",
       "      <td>638017669166337450_1524323555</td>\n",
       "      <td>no_key</td>\n",
       "      <td>youtube.com</td>\n",
       "      <td>Eastern Asia</td>\n",
       "      <td>no_key</td>\n",
       "      <td>NaN</td>\n",
       "      <td>1524323555</td>\n",
       "      <td>1</td>\n",
       "      <td>1524323555</td>\n",
       "      <td>Saturday</td>\n",
       "      <td>1</td>\n",
       "    </tr>\n",
       "    <tr>\n",
       "      <th>804671</th>\n",
       "      <td>NaN</td>\n",
       "      <td>no_key</td>\n",
       "      <td>no_key</td>\n",
       "      <td>no_key</td>\n",
       "      <td>Chrome</td>\n",
       "      <td>(not set)</td>\n",
       "      <td>Social</td>\n",
       "      <td>not available in demo dataset</td>\n",
       "      <td>Asia</td>\n",
       "      <td>Iraq</td>\n",
       "      <td>2018-04-21</td>\n",
       "      <td>1</td>\n",
       "      <td>mobile</td>\n",
       "      <td>5744172173658921055</td>\n",
       "      <td>no_key</td>\n",
       "      <td>14</td>\n",
       "      <td>True</td>\n",
       "      <td>no_key</td>\n",
       "      <td>no_key</td>\n",
       "      <td>no_key</td>\n",
       "      <td>referral</td>\n",
       "      <td>not available in demo dataset</td>\n",
       "      <td>unknown.unknown</td>\n",
       "      <td>1</td>\n",
       "      <td>Android</td>\n",
       "      <td>no_key</td>\n",
       "      <td>7</td>\n",
       "      <td>/intl/ar/yt/advertise/</td>\n",
       "      <td>not available in demo dataset</td>\n",
       "      <td>5744172173658921055_1524330782</td>\n",
       "      <td>no_key</td>\n",
       "      <td>youtube.com</td>\n",
       "      <td>Western Asia</td>\n",
       "      <td>no_key</td>\n",
       "      <td>NaN</td>\n",
       "      <td>1524330782</td>\n",
       "      <td>1</td>\n",
       "      <td>1524330782</td>\n",
       "      <td>Saturday</td>\n",
       "      <td>1</td>\n",
       "    </tr>\n",
       "    <tr>\n",
       "      <th>804672</th>\n",
       "      <td>NaN</td>\n",
       "      <td>no_key</td>\n",
       "      <td>no_key</td>\n",
       "      <td>no_key</td>\n",
       "      <td>Edge</td>\n",
       "      <td>(not set)</td>\n",
       "      <td>Social</td>\n",
       "      <td>Chicago</td>\n",
       "      <td>Americas</td>\n",
       "      <td>United States</td>\n",
       "      <td>2018-04-21</td>\n",
       "      <td>1</td>\n",
       "      <td>desktop</td>\n",
       "      <td>9084225574121020383</td>\n",
       "      <td>no_key</td>\n",
       "      <td>15</td>\n",
       "      <td>False</td>\n",
       "      <td>no_key</td>\n",
       "      <td>no_key</td>\n",
       "      <td>no_key</td>\n",
       "      <td>referral</td>\n",
       "      <td>Chicago IL</td>\n",
       "      <td>(not set)</td>\n",
       "      <td>no_key</td>\n",
       "      <td>Windows</td>\n",
       "      <td>no_key</td>\n",
       "      <td>15</td>\n",
       "      <td>/yt/about/press/</td>\n",
       "      <td>Illinois</td>\n",
       "      <td>9084225574121020383_1524366826</td>\n",
       "      <td>no_key</td>\n",
       "      <td>youtube.com</td>\n",
       "      <td>Northern America</td>\n",
       "      <td>no_key</td>\n",
       "      <td>NaN</td>\n",
       "      <td>1524366826</td>\n",
       "      <td>3</td>\n",
       "      <td>1524366826</td>\n",
       "      <td>Saturday</td>\n",
       "      <td>4</td>\n",
       "    </tr>\n",
       "    <tr>\n",
       "      <th>804673</th>\n",
       "      <td>NaN</td>\n",
       "      <td>no_key</td>\n",
       "      <td>no_key</td>\n",
       "      <td>no_key</td>\n",
       "      <td>Chrome</td>\n",
       "      <td>(not set)</td>\n",
       "      <td>Social</td>\n",
       "      <td>Chennai</td>\n",
       "      <td>Asia</td>\n",
       "      <td>India</td>\n",
       "      <td>2018-04-21</td>\n",
       "      <td>1</td>\n",
       "      <td>desktop</td>\n",
       "      <td>7951714705396524331</td>\n",
       "      <td>no_key</td>\n",
       "      <td>16</td>\n",
       "      <td>False</td>\n",
       "      <td>no_key</td>\n",
       "      <td>no_key</td>\n",
       "      <td>no_key</td>\n",
       "      <td>referral</td>\n",
       "      <td>(not set)</td>\n",
       "      <td>(not set)</td>\n",
       "      <td>1</td>\n",
       "      <td>Windows</td>\n",
       "      <td>no_key</td>\n",
       "      <td>8</td>\n",
       "      <td>/</td>\n",
       "      <td>Tamil Nadu</td>\n",
       "      <td>7951714705396524331_1524331304</td>\n",
       "      <td>no_key</td>\n",
       "      <td>youtube.com</td>\n",
       "      <td>Southern Asia</td>\n",
       "      <td>no_key</td>\n",
       "      <td>NaN</td>\n",
       "      <td>1524331304</td>\n",
       "      <td>1</td>\n",
       "      <td>1524331304</td>\n",
       "      <td>Saturday</td>\n",
       "      <td>1</td>\n",
       "    </tr>\n",
       "    <tr>\n",
       "      <th>804674</th>\n",
       "      <td>NaN</td>\n",
       "      <td>no_key</td>\n",
       "      <td>no_key</td>\n",
       "      <td>no_key</td>\n",
       "      <td>Chrome</td>\n",
       "      <td>(not set)</td>\n",
       "      <td>Social</td>\n",
       "      <td>not available in demo dataset</td>\n",
       "      <td>Europe</td>\n",
       "      <td>United Kingdom</td>\n",
       "      <td>2018-04-21</td>\n",
       "      <td>1</td>\n",
       "      <td>desktop</td>\n",
       "      <td>4405127263201432739</td>\n",
       "      <td>no_key</td>\n",
       "      <td>16</td>\n",
       "      <td>False</td>\n",
       "      <td>no_key</td>\n",
       "      <td>no_key</td>\n",
       "      <td>no_key</td>\n",
       "      <td>referral</td>\n",
       "      <td>not available in demo dataset</td>\n",
       "      <td>virginm.net</td>\n",
       "      <td>no_key</td>\n",
       "      <td>Windows</td>\n",
       "      <td>no_key</td>\n",
       "      <td>13</td>\n",
       "      <td>/intl/pl/yt/about/press/</td>\n",
       "      <td>not available in demo dataset</td>\n",
       "      <td>4405127263201432739_1524304408</td>\n",
       "      <td>no_key</td>\n",
       "      <td>youtube.com</td>\n",
       "      <td>Northern Europe</td>\n",
       "      <td>no_key</td>\n",
       "      <td>NaN</td>\n",
       "      <td>1524304408</td>\n",
       "      <td>2</td>\n",
       "      <td>1524304408</td>\n",
       "      <td>Saturday</td>\n",
       "      <td>2</td>\n",
       "    </tr>\n",
       "    <tr>\n",
       "      <th>804675</th>\n",
       "      <td>NaN</td>\n",
       "      <td>no_key</td>\n",
       "      <td>no_key</td>\n",
       "      <td>no_key</td>\n",
       "      <td>Opera</td>\n",
       "      <td>(not set)</td>\n",
       "      <td>Social</td>\n",
       "      <td>Kyiv</td>\n",
       "      <td>Europe</td>\n",
       "      <td>Ukraine</td>\n",
       "      <td>2018-04-21</td>\n",
       "      <td>1</td>\n",
       "      <td>desktop</td>\n",
       "      <td>7274226662839541799</td>\n",
       "      <td>no_key</td>\n",
       "      <td>16</td>\n",
       "      <td>False</td>\n",
       "      <td>no_key</td>\n",
       "      <td>no_key</td>\n",
       "      <td>no_key</td>\n",
       "      <td>referral</td>\n",
       "      <td>(not set)</td>\n",
       "      <td>unknown.unknown</td>\n",
       "      <td>1</td>\n",
       "      <td>Windows</td>\n",
       "      <td>no_key</td>\n",
       "      <td>10</td>\n",
       "      <td>/yt/creators/</td>\n",
       "      <td>Kyiv city</td>\n",
       "      <td>7274226662839541799_1524320546</td>\n",
       "      <td>no_key</td>\n",
       "      <td>youtube.com</td>\n",
       "      <td>Eastern Europe</td>\n",
       "      <td>no_key</td>\n",
       "      <td>NaN</td>\n",
       "      <td>1524320546</td>\n",
       "      <td>1</td>\n",
       "      <td>1524320546</td>\n",
       "      <td>Saturday</td>\n",
       "      <td>1</td>\n",
       "    </tr>\n",
       "    <tr>\n",
       "      <th>804676</th>\n",
       "      <td>NaN</td>\n",
       "      <td>no_key</td>\n",
       "      <td>no_key</td>\n",
       "      <td>no_key</td>\n",
       "      <td>Opera Mini</td>\n",
       "      <td>(not set)</td>\n",
       "      <td>Social</td>\n",
       "      <td>not available in demo dataset</td>\n",
       "      <td>Asia</td>\n",
       "      <td>Kazakhstan</td>\n",
       "      <td>2018-04-21</td>\n",
       "      <td>1</td>\n",
       "      <td>mobile</td>\n",
       "      <td>6040634167099043205</td>\n",
       "      <td>no_key</td>\n",
       "      <td>18</td>\n",
       "      <td>True</td>\n",
       "      <td>no_key</td>\n",
       "      <td>no_key</td>\n",
       "      <td>no_key</td>\n",
       "      <td>referral</td>\n",
       "      <td>not available in demo dataset</td>\n",
       "      <td>kcell.kz</td>\n",
       "      <td>1</td>\n",
       "      <td>(not set)</td>\n",
       "      <td>no_key</td>\n",
       "      <td>17</td>\n",
       "      <td>/yt/lineups/ru/france.html</td>\n",
       "      <td>not available in demo dataset</td>\n",
       "      <td>6040634167099043205_1524335516</td>\n",
       "      <td>no_key</td>\n",
       "      <td>youtube.com</td>\n",
       "      <td>Central Asia</td>\n",
       "      <td>no_key</td>\n",
       "      <td>NaN</td>\n",
       "      <td>1524335516</td>\n",
       "      <td>1</td>\n",
       "      <td>1524335516</td>\n",
       "      <td>Saturday</td>\n",
       "      <td>1</td>\n",
       "    </tr>\n",
       "    <tr>\n",
       "      <th>804677</th>\n",
       "      <td>NaN</td>\n",
       "      <td>no_key</td>\n",
       "      <td>no_key</td>\n",
       "      <td>no_key</td>\n",
       "      <td>Chrome</td>\n",
       "      <td>(not set)</td>\n",
       "      <td>Social</td>\n",
       "      <td>not available in demo dataset</td>\n",
       "      <td>Asia</td>\n",
       "      <td>Saudi Arabia</td>\n",
       "      <td>2018-04-21</td>\n",
       "      <td>1</td>\n",
       "      <td>tablet</td>\n",
       "      <td>1759939701397302061</td>\n",
       "      <td>no_key</td>\n",
       "      <td>20</td>\n",
       "      <td>True</td>\n",
       "      <td>no_key</td>\n",
       "      <td>no_key</td>\n",
       "      <td>no_key</td>\n",
       "      <td>referral</td>\n",
       "      <td>not available in demo dataset</td>\n",
       "      <td>unknown.unknown</td>\n",
       "      <td>1</td>\n",
       "      <td>Android</td>\n",
       "      <td>no_key</td>\n",
       "      <td>13</td>\n",
       "      <td>/intl/ar/yt/about/</td>\n",
       "      <td>not available in demo dataset</td>\n",
       "      <td>1759939701397302061_1524378806</td>\n",
       "      <td>no_key</td>\n",
       "      <td>youtube.com</td>\n",
       "      <td>Western Asia</td>\n",
       "      <td>no_key</td>\n",
       "      <td>NaN</td>\n",
       "      <td>1524378806</td>\n",
       "      <td>1</td>\n",
       "      <td>1524378806</td>\n",
       "      <td>Saturday</td>\n",
       "      <td>1</td>\n",
       "    </tr>\n",
       "    <tr>\n",
       "      <th>804678</th>\n",
       "      <td>NaN</td>\n",
       "      <td>no_key</td>\n",
       "      <td>no_key</td>\n",
       "      <td>no_key</td>\n",
       "      <td>Chrome</td>\n",
       "      <td>(not set)</td>\n",
       "      <td>Social</td>\n",
       "      <td>Chicago</td>\n",
       "      <td>Americas</td>\n",
       "      <td>United States</td>\n",
       "      <td>2018-04-21</td>\n",
       "      <td>1</td>\n",
       "      <td>mobile</td>\n",
       "      <td>3103057346467377129</td>\n",
       "      <td>no_key</td>\n",
       "      <td>29</td>\n",
       "      <td>True</td>\n",
       "      <td>no_key</td>\n",
       "      <td>no_key</td>\n",
       "      <td>no_key</td>\n",
       "      <td>referral</td>\n",
       "      <td>Chicago IL</td>\n",
       "      <td>(not set)</td>\n",
       "      <td>1</td>\n",
       "      <td>Android</td>\n",
       "      <td>no_key</td>\n",
       "      <td>24</td>\n",
       "      <td>/yt/about/policies/</td>\n",
       "      <td>Illinois</td>\n",
       "      <td>3103057346467377129_1524355070</td>\n",
       "      <td>no_key</td>\n",
       "      <td>youtube.com</td>\n",
       "      <td>Northern America</td>\n",
       "      <td>no_key</td>\n",
       "      <td>NaN</td>\n",
       "      <td>1524355070</td>\n",
       "      <td>1</td>\n",
       "      <td>1524355070</td>\n",
       "      <td>Saturday</td>\n",
       "      <td>1</td>\n",
       "    </tr>\n",
       "    <tr>\n",
       "      <th>804679</th>\n",
       "      <td>NaN</td>\n",
       "      <td>no_key</td>\n",
       "      <td>no_key</td>\n",
       "      <td>no_key</td>\n",
       "      <td>Edge</td>\n",
       "      <td>(not set)</td>\n",
       "      <td>Social</td>\n",
       "      <td>Chicago</td>\n",
       "      <td>Americas</td>\n",
       "      <td>United States</td>\n",
       "      <td>2018-04-21</td>\n",
       "      <td>1</td>\n",
       "      <td>desktop</td>\n",
       "      <td>9084225574121020383</td>\n",
       "      <td>no_key</td>\n",
       "      <td>33</td>\n",
       "      <td>False</td>\n",
       "      <td>no_key</td>\n",
       "      <td>no_key</td>\n",
       "      <td>no_key</td>\n",
       "      <td>referral</td>\n",
       "      <td>Chicago IL</td>\n",
       "      <td>(not set)</td>\n",
       "      <td>no_key</td>\n",
       "      <td>Windows</td>\n",
       "      <td>no_key</td>\n",
       "      <td>26</td>\n",
       "      <td>/intl/en/yt/about/</td>\n",
       "      <td>Illinois</td>\n",
       "      <td>9084225574121020383_1524358436</td>\n",
       "      <td>no_key</td>\n",
       "      <td>youtube.com</td>\n",
       "      <td>Northern America</td>\n",
       "      <td>no_key</td>\n",
       "      <td>NaN</td>\n",
       "      <td>1524358436</td>\n",
       "      <td>2</td>\n",
       "      <td>1524358436</td>\n",
       "      <td>Saturday</td>\n",
       "      <td>5</td>\n",
       "    </tr>\n",
       "    <tr>\n",
       "      <th>804680</th>\n",
       "      <td>NaN</td>\n",
       "      <td>no_key</td>\n",
       "      <td>no_key</td>\n",
       "      <td>no_key</td>\n",
       "      <td>Chrome</td>\n",
       "      <td>(not set)</td>\n",
       "      <td>Social</td>\n",
       "      <td>not available in demo dataset</td>\n",
       "      <td>Americas</td>\n",
       "      <td>Uruguay</td>\n",
       "      <td>2018-04-21</td>\n",
       "      <td>1</td>\n",
       "      <td>mobile</td>\n",
       "      <td>6146210385566305056</td>\n",
       "      <td>no_key</td>\n",
       "      <td>36</td>\n",
       "      <td>True</td>\n",
       "      <td>no_key</td>\n",
       "      <td>no_key</td>\n",
       "      <td>no_key</td>\n",
       "      <td>referral</td>\n",
       "      <td>not available in demo dataset</td>\n",
       "      <td>claro.com.uy</td>\n",
       "      <td>1</td>\n",
       "      <td>Android</td>\n",
       "      <td>no_key</td>\n",
       "      <td>34</td>\n",
       "      <td>/yt/lineups/es/index.html</td>\n",
       "      <td>not available in demo dataset</td>\n",
       "      <td>6146210385566305056_1524317728</td>\n",
       "      <td>no_key</td>\n",
       "      <td>youtube.com</td>\n",
       "      <td>South America</td>\n",
       "      <td>no_key</td>\n",
       "      <td>NaN</td>\n",
       "      <td>1524317728</td>\n",
       "      <td>1</td>\n",
       "      <td>1524317728</td>\n",
       "      <td>Saturday</td>\n",
       "      <td>1</td>\n",
       "    </tr>\n",
       "    <tr>\n",
       "      <th>804681</th>\n",
       "      <td>NaN</td>\n",
       "      <td>no_key</td>\n",
       "      <td>no_key</td>\n",
       "      <td>no_key</td>\n",
       "      <td>Safari (in-app)</td>\n",
       "      <td>(not set)</td>\n",
       "      <td>Social</td>\n",
       "      <td>not available in demo dataset</td>\n",
       "      <td>Americas</td>\n",
       "      <td>Canada</td>\n",
       "      <td>2018-04-21</td>\n",
       "      <td>1</td>\n",
       "      <td>mobile</td>\n",
       "      <td>7484543584006767361</td>\n",
       "      <td>no_key</td>\n",
       "      <td>53</td>\n",
       "      <td>True</td>\n",
       "      <td>no_key</td>\n",
       "      <td>no_key</td>\n",
       "      <td>no_key</td>\n",
       "      <td>referral</td>\n",
       "      <td>not available in demo dataset</td>\n",
       "      <td>shawcable.net</td>\n",
       "      <td>1</td>\n",
       "      <td>iOS</td>\n",
       "      <td>no_key</td>\n",
       "      <td>35</td>\n",
       "      <td>/</td>\n",
       "      <td>not available in demo dataset</td>\n",
       "      <td>7484543584006767361_1524364725</td>\n",
       "      <td>no_key</td>\n",
       "      <td>m.facebook.com</td>\n",
       "      <td>Northern America</td>\n",
       "      <td>no_key</td>\n",
       "      <td>NaN</td>\n",
       "      <td>1524364725</td>\n",
       "      <td>1</td>\n",
       "      <td>1524364725</td>\n",
       "      <td>Saturday</td>\n",
       "      <td>1</td>\n",
       "    </tr>\n",
       "    <tr>\n",
       "      <th>804682</th>\n",
       "      <td>NaN</td>\n",
       "      <td>no_key</td>\n",
       "      <td>no_key</td>\n",
       "      <td>no_key</td>\n",
       "      <td>Samsung Internet</td>\n",
       "      <td>(not set)</td>\n",
       "      <td>Social</td>\n",
       "      <td>Dublin</td>\n",
       "      <td>Europe</td>\n",
       "      <td>Ireland</td>\n",
       "      <td>2018-04-21</td>\n",
       "      <td>1</td>\n",
       "      <td>mobile</td>\n",
       "      <td>2915966035609674201</td>\n",
       "      <td>no_key</td>\n",
       "      <td>58</td>\n",
       "      <td>True</td>\n",
       "      <td>no_key</td>\n",
       "      <td>no_key</td>\n",
       "      <td>no_key</td>\n",
       "      <td>referral</td>\n",
       "      <td>(not set)</td>\n",
       "      <td>meteor.ie</td>\n",
       "      <td>1</td>\n",
       "      <td>Android</td>\n",
       "      <td>no_key</td>\n",
       "      <td>34</td>\n",
       "      <td>/yt/about/policies/</td>\n",
       "      <td>County Dublin</td>\n",
       "      <td>2915966035609674201_1524330416</td>\n",
       "      <td>no_key</td>\n",
       "      <td>youtube.com</td>\n",
       "      <td>Northern Europe</td>\n",
       "      <td>no_key</td>\n",
       "      <td>NaN</td>\n",
       "      <td>1524330416</td>\n",
       "      <td>1</td>\n",
       "      <td>1524330416</td>\n",
       "      <td>Saturday</td>\n",
       "      <td>1</td>\n",
       "    </tr>\n",
       "    <tr>\n",
       "      <th>804683</th>\n",
       "      <td>NaN</td>\n",
       "      <td>no_key</td>\n",
       "      <td>no_key</td>\n",
       "      <td>no_key</td>\n",
       "      <td>MRCHROME</td>\n",
       "      <td>(not set)</td>\n",
       "      <td>Social</td>\n",
       "      <td>not available in demo dataset</td>\n",
       "      <td>Europe</td>\n",
       "      <td>Russia</td>\n",
       "      <td>2018-04-21</td>\n",
       "      <td>1</td>\n",
       "      <td>desktop</td>\n",
       "      <td>5334918847827785763</td>\n",
       "      <td>no_key</td>\n",
       "      <td>71</td>\n",
       "      <td>False</td>\n",
       "      <td>no_key</td>\n",
       "      <td>no_key</td>\n",
       "      <td>no_key</td>\n",
       "      <td>referral</td>\n",
       "      <td>not available in demo dataset</td>\n",
       "      <td>yota.ru</td>\n",
       "      <td>1</td>\n",
       "      <td>Windows</td>\n",
       "      <td>no_key</td>\n",
       "      <td>38</td>\n",
       "      <td>/yt/music/ru/index.html</td>\n",
       "      <td>not available in demo dataset</td>\n",
       "      <td>5334918847827785763_1524301572</td>\n",
       "      <td>no_key</td>\n",
       "      <td>youtube.com</td>\n",
       "      <td>Eastern Europe</td>\n",
       "      <td>no_key</td>\n",
       "      <td>NaN</td>\n",
       "      <td>1524301572</td>\n",
       "      <td>1</td>\n",
       "      <td>1524301572</td>\n",
       "      <td>Saturday</td>\n",
       "      <td>1</td>\n",
       "    </tr>\n",
       "  </tbody>\n",
       "</table>\n",
       "<p>1708337 rows × 40 columns</p>\n",
       "</div>"
      ],
      "text/plain": [
       "        VisitsCount adContent adNetworkType bounces           browser   campaign channelGrouping                           city continent         country       date  day_off deviceCategory        fullVisitorId   gclId hits  isMobile isTrueDirect isVideoAd         keyword    medium                              metro        networkDomain newVisits operatingSystem    page pageviews                      referralPath                         region                       sessionId    slot          source      subContinent targetingCriteria  transactionRevenue     visitId  visitNumber  visitStartTime   weekday  visit_index\n",
       "538675          1.0    no_key        no_key       1            Safari  (not set)          Direct  not available in demo dataset  Americas   United States 2016-08-01        0         mobile   423043652415339154  no_key    1      True         True    no_key          no_key    (none)      not available in demo dataset            (not set)    no_key             iOS  no_key         1                            no_key  not available in demo dataset  0423043652415339154_1470034812  no_key        (direct)  Northern America            no_key                 0.0  1470034812            3      1470034812    Monday            1\n",
       "538232          1.0    no_key        no_key       1            Chrome  (not set)          Social  not available in demo dataset      Asia        Thailand 2016-08-01        0        desktop  8294721032567046680  no_key    1     False       no_key    no_key          no_key  referral      not available in demo dataset      unknown.unknown         1         Windows  no_key         1                        /yt/about/  not available in demo dataset  8294721032567046680_1470035066  no_key     youtube.com    Southeast Asia            no_key                 0.0  1470035066            1      1470035066    Monday            1\n",
       "539087          1.0    no_key        no_key  no_key       Amazon Silk  (not set)  Organic Search  not available in demo dataset  Americas   United States 2016-08-01        0         tablet  7718623669497357235  no_key    5      True       no_key    no_key  (not provided)   organic      not available in demo dataset            (not set)         1         Android  no_key         5                            no_key  not available in demo dataset  7718623669497357235_1470035081  no_key          google  Northern America            no_key                 0.0  1470035081            1      1470035081    Monday            1\n",
       "539300          1.0    no_key        no_key  no_key            Chrome  (not set)  Organic Search  not available in demo dataset  Americas          Canada 2016-08-01        0        desktop  4798058133221713505  no_key    9     False       no_key    no_key  (not provided)   organic      not available in demo dataset              bell.ca         1         Windows  no_key         7                            no_key  not available in demo dataset  4798058133221713505_1470035161  no_key          google  Northern America            no_key                 0.0  1470035161            1      1470035161    Monday            1\n",
       "538453          1.0    no_key        no_key       1            Chrome  (not set)          Direct                    Quezon City      Asia     Philippines 2016-08-01        0        desktop  5076747981380011349  no_key    1     False         True    no_key          no_key    (none)                          (not set)             pldt.net         1         Windows  no_key         1                            no_key                   Metro Manila  5076747981380011349_1470035170  no_key        (direct)    Southeast Asia            no_key                 0.0  1470035170            1      1470035170    Monday            1\n",
       "538454          7.0    no_key        no_key       1            Safari  (not set)          Direct                  San Francisco  Americas   United States 2016-08-01        0         mobile   143953260196124648  no_key    1      True         True    no_key          no_key    (none)  San Francisco-Oakland-San Jose CA            (not set)    no_key             iOS  no_key         1                            no_key                     California   143953260196124648_1470035292  no_key        (direct)  Northern America            no_key                 0.0  1470035292            5      1470035292    Monday            1\n",
       "538274          2.0    no_key        no_key       1            Safari  (not set)          Direct                  San Francisco  Americas   United States 2016-08-01        0         tablet  9234156111722725905  no_key    1      True         True    no_key          no_key    (none)  San Francisco-Oakland-San Jose CA            (not set)    no_key             iOS  no_key         1                            no_key                     California  9234156111722725905_1470035429  no_key        (direct)  Northern America            no_key                 0.0  1470035429            2      1470035429    Monday            1\n",
       "539202          2.0    no_key        no_key  no_key            Chrome  (not set)  Organic Search                    Santa Clara  Americas   United States 2016-08-01        0         mobile  1757409464136963580  no_key    7      True       no_key    no_key  (not provided)   organic  San Francisco-Oakland-San Jose CA          comcast.net    no_key         Android  no_key         5                            no_key                     California  1757409464136963580_1470035457  no_key          google  Northern America            no_key                 0.0  1470035457            3      1470035457    Monday            1\n",
       "538027          1.0    no_key        no_key       1            Chrome  (not set)          Social  not available in demo dataset  Americas   United States 2016-08-01        0        desktop  3471645573420610711  no_key    1     False       no_key    no_key          no_key  referral      not available in demo dataset          verizon.net         1         Windows  no_key         1                        /yt/about/  not available in demo dataset  3471645573420610711_1470035501  no_key     youtube.com  Northern America            no_key                 0.0  1470035501            1      1470035501    Monday            1\n",
       "537930          4.0    no_key        no_key  no_key            Safari  (not set)          Direct  not available in demo dataset    Europe  United Kingdom 2016-08-01        0         mobile  4283942788674999975  no_key   53      True         True    no_key          no_key    (none)      not available in demo dataset    btcentralplus.com         1             iOS  no_key        36                            no_key  not available in demo dataset  4283942788674999975_1470035521  no_key        (direct)   Northern Europe            no_key                 0.0  1470035521            1      1470035521    Monday            1\n",
       "538015          1.0    no_key        no_key       1            Safari  (not set)          Social  not available in demo dataset  Americas   United States 2016-08-01        0        desktop  1080407219030471072  no_key    1     False       no_key    no_key          no_key  referral      not available in demo dataset            (not set)         1       Macintosh  no_key         1                        /yt/about/  not available in demo dataset  1080407219030471072_1470035660  no_key     youtube.com  Northern America            no_key                 0.0  1470035660            1      1470035660    Monday            1\n",
       "538316          1.0    no_key        no_key       1            Chrome  (not set)        Referral  not available in demo dataset      Asia           Japan 2016-08-01        0        desktop  8265862694719602421  no_key    1     False       no_key    no_key          no_key  referral      not available in demo dataset  h2o-retailing.co.jp         1         Windows  no_key         1  /permissions/using-the-logo.html  not available in demo dataset  8265862694719602421_1470035742  no_key    google.co.jp      Eastern Asia            no_key                 0.0  1470035742            1      1470035742    Monday            1\n",
       "538826          1.0    no_key        no_key  no_key            Safari  (not set)          Direct  not available in demo dataset  Americas   United States 2016-08-01        0         mobile   429222405901537951  no_key    2      True         True    no_key          no_key    (none)      not available in demo dataset          comcast.net         1             iOS  no_key         2                            no_key  not available in demo dataset  0429222405901537951_1470035832  no_key        (direct)  Northern America            no_key                 0.0  1470035832            1      1470035832    Monday            1\n",
       "538613          1.0    no_key        no_key       1            Safari  (not set)  Organic Search                  San Francisco  Americas   United States 2016-08-01        0         mobile  9023992206371203986  no_key    1      True       no_key    no_key  (not provided)   organic  San Francisco-Oakland-San Jose CA       mycingular.net         1             iOS  no_key         1                            no_key                     California  9023992206371203986_1470035833  no_key          google  Northern America            no_key                 0.0  1470035833            1      1470035833    Monday            1\n",
       "539268          1.0    no_key        no_key  no_key            Safari  (not set)  Organic Search               Ho Chi Minh City      Asia         Vietnam 2016-08-01        0        desktop  6295937732413829157  no_key    8     False       no_key    no_key  (not provided)   organic                          (not set)          sboe.com.vn         1       Macintosh  no_key         6                            no_key                    Ho Chi Minh  6295937732413829157_1470035892  no_key          google    Southeast Asia            no_key                 0.0  1470035892            1      1470035892    Monday            1\n",
       "537899          1.0    no_key        no_key  no_key            Chrome  (not set)  Organic Search                    Los Angeles  Americas   United States 2016-08-01        0        desktop  2740683783555632191  no_key   33     False         True    no_key  (not provided)   organic                     Los Angeles CA           tmodns.net    no_key       Macintosh  no_key        20                            no_key                     California  2740683783555632191_1470036291  no_key          google  Northern America            no_key                 0.0  1470036291            7      1470036291    Monday            1\n",
       "539390         11.0    no_key        no_key  no_key            Chrome  (not set)          Direct  not available in demo dataset  Americas   United States 2016-08-01        0        desktop   350616841177147864  no_key   12     False         True    no_key          no_key    (none)      not available in demo dataset       suddenlink.net         1         Windows  no_key         8                            no_key  not available in demo dataset   350616841177147864_1470036371  no_key        (direct)  Northern America            no_key                 0.0  1470036371            1      1470036371    Monday            1\n",
       "538488          1.0    no_key        no_key       1            Safari  (not set)          Direct  not available in demo dataset    Africa         Nigeria 2016-08-01        0        desktop  7195966922741455630  no_key    1     False         True    no_key          no_key    (none)      not available in demo dataset          mainone.net         1       Macintosh  no_key         1                            no_key  not available in demo dataset  7195966922741455630_1470036498  no_key        (direct)    Western Africa            no_key                 0.0  1470036498            1      1470036498    Monday            1\n",
       "538411          1.0    no_key        no_key       1            Chrome  (not set)          Direct  not available in demo dataset  Americas      Costa Rica 2016-08-01        0        desktop  5055318098307741379  no_key    1     False         True    no_key          no_key    (none)      not available in demo dataset      unknown.unknown         1         Windows  no_key         1                            no_key  not available in demo dataset  5055318098307741379_1470036672  no_key        (direct)   Central America            no_key                 0.0  1470036672            1      1470036672    Monday            1\n",
       "538882          1.0    no_key        no_key  no_key            Chrome  (not set)        Referral  not available in demo dataset    Europe         Estonia 2016-08-01        0        desktop  4689779080679225130  no_key    3     False       no_key    no_key          no_key  referral      not available in demo dataset            estpak.ee         1       Macintosh  no_key         3                          /prizes/  not available in demo dataset  4689779080679225130_1470036782  no_key  gophergala.com   Northern Europe            no_key                 0.0  1470036782            1      1470036782    Monday            1\n",
       "538924          1.0    no_key        no_key  no_key            Chrome  (not set)          Direct                  San Francisco  Americas   United States 2016-08-01        0        desktop  9849723138964482903  no_key    3     False         True    no_key          no_key    (none)  San Francisco-Oakland-San Jose CA              cwak.us         1         Windows  no_key         3                            no_key                     California  9849723138964482903_1470036877  no_key        (direct)  Northern America            no_key                 0.0  1470036877            1      1470036877    Monday            1\n",
       "538846          1.0    no_key        no_key  no_key            Chrome  (not set)  Organic Search                        Jakarta      Asia       Indonesia 2016-08-01        0        desktop  6202551162320501793  no_key    2     False       no_key    no_key  (not provided)   organic                          (not set)      unknown.unknown         1         Windows  no_key         2                            no_key                        Jakarta  6202551162320501793_1470036980  no_key          google    Southeast Asia            no_key                 0.0  1470036980            1      1470036980    Monday            1\n",
       "537989          1.0    no_key        no_key       1            Safari  (not set)          Social                    Quezon City      Asia     Philippines 2016-08-01        0        desktop  8799198809794781341  no_key    1     False       no_key    no_key          no_key  referral                          (not set)             pldt.net         1       Macintosh  no_key         1                        /yt/about/                   Metro Manila  8799198809794781341_1470037053  no_key     youtube.com    Southeast Asia            no_key                 0.0  1470037053            1      1470037053    Monday            1\n",
       "538040          1.0    no_key        no_key       1            Chrome  (not set)          Social  not available in demo dataset      Asia        Thailand 2016-08-01        0        desktop  5108196650822287097  no_key    1     False       no_key    no_key          no_key  referral      not available in demo dataset            3bb.co.th         1         Windows  no_key         1                        /yt/about/  not available in demo dataset  5108196650822287097_1470037191  no_key     youtube.com    Southeast Asia            no_key                 0.0  1470037191            1      1470037191    Monday            1\n",
       "539504          1.0    no_key        no_key  no_key            Chrome  (not set)  Organic Search  not available in demo dataset  Americas      Costa Rica 2016-08-01        0         mobile  7803172593096160119  no_key   19      True       no_key    no_key  (not provided)   organic      not available in demo dataset          ekonocr.com         1         Android  no_key        14                            no_key  not available in demo dataset  7803172593096160119_1470037277  no_key          google   Central America            no_key                 0.0  1470037277            1      1470037277    Monday            1\n",
       "538169          1.0    no_key        no_key       1            Safari  (not set)          Social  not available in demo dataset      Asia     Philippines 2016-08-01        0        desktop    14659935183303341  no_key    1     False       no_key    no_key          no_key  referral      not available in demo dataset             pldt.net         1       Macintosh  no_key         1                        /yt/about/  not available in demo dataset  0014659935183303341_1470037282  no_key     youtube.com    Southeast Asia            no_key                 0.0  1470037282            1      1470037282    Monday            1\n",
       "538884          1.0    no_key        no_key  no_key            Chrome  (not set)          Direct                       Istanbul      Asia          Turkey 2016-08-01        0        desktop  7251030907573266334  no_key    3     False         True    no_key          no_key    (none)                          (not set)         ttnet.com.tr         1         Windows  no_key         3                            no_key                       Istanbul  7251030907573266334_1470037296  no_key        (direct)      Western Asia            no_key                 0.0  1470037296            1      1470037296    Monday            1\n",
       "538859          2.0    no_key        no_key  no_key            Chrome  (not set)  Organic Search  not available in demo dataset   Oceania       Australia 2016-08-01        0         tablet  5882258963347216049  no_key    2      True       no_key    no_key  (not provided)   organic      not available in demo dataset           qut.edu.au         1         Android  no_key         2                            no_key  not available in demo dataset  5882258963347216049_1470037302  no_key          google       Australasia            no_key                 0.0  1470037302            1      1470037302    Monday            1\n",
       "538999          2.0    no_key        no_key  no_key            Chrome  (not set)          Direct                      Sunnyvale  Americas   United States 2016-08-01        0         mobile  5079847790435547812  no_key    4      True         True    no_key          no_key    (none)  San Francisco-Oakland-San Jose CA          comcast.net    no_key             iOS  no_key         3                            no_key                     California  5079847790435547812_1470037326  no_key        (direct)  Northern America            no_key                 0.0  1470037326            2      1470037326    Monday            1\n",
       "538413          1.0    no_key        no_key       1            Chrome  (not set)          Direct  not available in demo dataset      Asia    Saudi Arabia 2016-08-01        0         mobile  7180771470273032233  no_key    1      True         True    no_key          no_key    (none)      not available in demo dataset      unknown.unknown         1         Android  no_key         1                            no_key  not available in demo dataset  7180771470273032233_1470037369  no_key        (direct)      Western Asia            no_key                 0.0  1470037369            1      1470037369    Monday            1\n",
       "...             ...       ...           ...     ...               ...        ...             ...                            ...       ...             ...        ...      ...            ...                  ...     ...  ...       ...          ...       ...             ...       ...                                ...                  ...       ...             ...     ...       ...                               ...                            ...                             ...     ...             ...               ...               ...                 ...         ...          ...             ...       ...          ...\n",
       "804654          NaN    no_key        no_key  no_key            Chrome  (not set)          Social  not available in demo dataset      Asia      Azerbaijan 2018-04-21        1        desktop  6630224419290516980  no_key    9     False         True    no_key          no_key  referral      not available in demo dataset      unknown.unknown    no_key         Windows  no_key         4                       /yt/dev/tr/  not available in demo dataset  6630224419290516980_1524346037  no_key     youtube.com      Western Asia            no_key                 NaN  1524346037            3      1524346037  Saturday            3\n",
       "804655          NaN    no_key        no_key  no_key            Chrome  (not set)          Social  not available in demo dataset  Americas   United States 2018-04-21        1        desktop  3292253645461581386  no_key    9     False       no_key    no_key          no_key  referral      not available in demo dataset            (not set)         1       Chrome OS  no_key         6                         /yt/kids/  not available in demo dataset  3292253645461581386_1524316604  no_key     youtube.com  Northern America            no_key                 NaN  1524316604            1      1524316604  Saturday            1\n",
       "804656          NaN    no_key        no_key  no_key            Chrome  (not set)          Social  not available in demo dataset      Asia           India 2018-04-21        1         mobile  9136343604886805148  no_key    9      True       no_key    no_key          no_key  referral      not available in demo dataset            (not set)         1         Android  no_key         5                                 /  not available in demo dataset  9136343604886805148_1524321413  no_key     youtube.com     Southern Asia            no_key                 NaN  1524321413            1      1524321413  Saturday            2\n",
       "804657          NaN    no_key        no_key  no_key            Chrome  (not set)          Social  not available in demo dataset  Americas        Colombia 2018-04-21        1        desktop  3889687518028456197  no_key    9     False       no_key    no_key          no_key  referral      not available in demo dataset      unknown.unknown         1         Windows  no_key         7                /intl/es/yt/about/  not available in demo dataset  3889687518028456197_1524345080  no_key     youtube.com     South America            no_key                 NaN  1524345080            1      1524345080  Saturday            1\n",
       "804658          NaN    no_key        no_key  no_key            Chrome  (not set)          Social  not available in demo dataset      Asia           India 2018-04-21        1        desktop  5993023423103207014  no_key   10     False       no_key    no_key          no_key  referral      not available in demo dataset      unknown.unknown         1         Windows  no_key         8                                 /  not available in demo dataset  5993023423103207014_1524370592  no_key     youtube.com     Southern Asia            no_key                 NaN  1524370592            1      1524370592  Saturday            1\n",
       "804659          NaN    no_key        no_key  no_key            Chrome  (not set)          Social  not available in demo dataset  Americas   United States 2018-04-21        1        desktop  7428804439579052435  no_key   10     False       no_key    no_key          no_key  referral      not available in demo dataset          harvard.edu         1       Macintosh  no_key        10                        /yt/about/  not available in demo dataset  7428804439579052435_1524354249  no_key     youtube.com  Northern America            no_key                 NaN  1524354249            1      1524354249  Saturday            1\n",
       "804660          NaN    no_key        no_key  no_key            Chrome  (not set)          Social  not available in demo dataset    Europe          Greece 2018-04-21        1        desktop  5752955605237169639  no_key   10     False       no_key    no_key          no_key  referral      not available in demo dataset      unknown.unknown         1         Windows  no_key         6      /intl/el/yt/about/copyright/  not available in demo dataset  5752955605237169639_1524339585  no_key     youtube.com   Southern Europe            no_key                 NaN  1524339585            1      1524339585  Saturday            1\n",
       "804661          NaN    no_key        no_key  no_key            Chrome  (not set)          Social  not available in demo dataset  Americas          Brazil 2018-04-21        1         mobile  7909814785732762623  no_key   10      True       no_key    no_key          no_key  referral      not available in demo dataset           gvt.net.br         1         Android  no_key         6    /intl/pt-BR/yt/about/policies/  not available in demo dataset  7909814785732762623_1524325494  no_key     youtube.com     South America            no_key                 NaN  1524325494            1      1524325494  Saturday            3\n",
       "804662          NaN    no_key        no_key  no_key            Chrome  (not set)          Social  not available in demo dataset  Americas   United States 2018-04-21        1        desktop  9863987706611943279  no_key   10     False       no_key    no_key          no_key  referral      not available in demo dataset          comcast.net         1           Linux  no_key         6   /yt/creators/learn-and-connect/  not available in demo dataset  9863987706611943279_1524320079  no_key     youtube.com  Northern America            no_key                 NaN  1524320079            1      1524320079  Saturday            1\n",
       "804663          NaN    no_key        no_key  no_key            Chrome  (not set)          Social  not available in demo dataset    Europe          Norway 2018-04-21        1        desktop  4659464472366757440  no_key   11     False       no_key    no_key          no_key  referral      not available in demo dataset            (not set)         1         Windows  no_key         4              /yt/music/index.html  not available in demo dataset  4659464472366757440_1524295275  no_key     youtube.com   Northern Europe            no_key                 NaN  1524295275            1      1524295275  Saturday            1\n",
       "804664          NaN    no_key        no_key  no_key            Chrome  (not set)          Social  not available in demo dataset      Asia     South Korea 2018-04-21        1        desktop  5658681988240696606  no_key   12     False       no_key    no_key          no_key  referral      not available in demo dataset      unknown.unknown         1         Windows  no_key         8            /yt/creators/benefits/  not available in demo dataset  5658681988240696606_1524369942  no_key     youtube.com      Eastern Asia            no_key                 NaN  1524369942            1      1524369942  Saturday            2\n",
       "804665          NaN    no_key        no_key  no_key            Safari  (not set)          Social  not available in demo dataset    Europe         Germany 2018-04-21        1         tablet  4536290936744880454  no_key   12      True       no_key    no_key          no_key  referral      not available in demo dataset       vodafone-ip.de         1             iOS  no_key         9             /intl/de/yt/creators/  not available in demo dataset  4536290936744880454_1524355296  no_key     youtube.com    Western Europe            no_key                 NaN  1524355296            1      1524355296  Saturday            2\n",
       "804666          NaN    no_key        no_key  no_key            Chrome  (not set)          Social  not available in demo dataset      Asia           Nepal 2018-04-21        1         mobile  7758724635793798710  no_key   13      True       no_key    no_key          no_key  referral      not available in demo dataset      unknown.unknown         1         Android  no_key        11               /yt/about/policies/  not available in demo dataset  7758724635793798710_1524333334  no_key     youtube.com     Southern Asia            no_key                 NaN  1524333334            1      1524333334  Saturday            1\n",
       "804667          NaN    no_key        no_key  no_key            Chrome  (not set)          Social  not available in demo dataset  Americas          Canada 2018-04-21        1        desktop  5793803277034804127  no_key   13     False       no_key    no_key          no_key  referral      not available in demo dataset         videotron.ca         1         Windows  no_key        10        /yt/music/fr-CA/index.html  not available in demo dataset  5793803277034804127_1524355178  no_key     youtube.com  Northern America            no_key                 NaN  1524355178            1      1524355178  Saturday            1\n",
       "804668          NaN    no_key        no_key  no_key            Chrome  (not set)          Social                    Los Angeles  Americas   United States 2018-04-21        1         mobile    56471404986091477  no_key   13      True       no_key    no_key          no_key  referral                     Los Angeles CA          spcsdns.net         1         Android  no_key        10              /yt/about/copyright/                     California    56471404986091477_1524352295  no_key     youtube.com  Northern America            no_key                 NaN  1524352295            1      1524352295  Saturday            1\n",
       "804669          NaN    no_key        no_key  no_key              Edge  (not set)          Social                        Chicago  Americas   United States 2018-04-21        1        desktop  9084225574121020383  no_key   13     False       no_key    no_key          no_key  referral                         Chicago IL            (not set)         1         Windows  no_key        12      /intl/en/yt/about/copyright/                       Illinois  9084225574121020383_1524351026  no_key     youtube.com  Northern America            no_key                 NaN  1524351026            1      1524351026  Saturday            3\n",
       "804670          NaN    no_key        no_key  no_key            Chrome  (not set)          Social  not available in demo dataset      Asia          Taiwan 2018-04-21        1        desktop   638017669166337450  no_key   13     False       no_key    no_key          no_key  referral      not available in demo dataset            hinet.net         1         Windows  no_key         9          /intl/zh-TW/yt/creators/  not available in demo dataset   638017669166337450_1524323555  no_key     youtube.com      Eastern Asia            no_key                 NaN  1524323555            1      1524323555  Saturday            1\n",
       "804671          NaN    no_key        no_key  no_key            Chrome  (not set)          Social  not available in demo dataset      Asia            Iraq 2018-04-21        1         mobile  5744172173658921055  no_key   14      True       no_key    no_key          no_key  referral      not available in demo dataset      unknown.unknown         1         Android  no_key         7            /intl/ar/yt/advertise/  not available in demo dataset  5744172173658921055_1524330782  no_key     youtube.com      Western Asia            no_key                 NaN  1524330782            1      1524330782  Saturday            1\n",
       "804672          NaN    no_key        no_key  no_key              Edge  (not set)          Social                        Chicago  Americas   United States 2018-04-21        1        desktop  9084225574121020383  no_key   15     False       no_key    no_key          no_key  referral                         Chicago IL            (not set)    no_key         Windows  no_key        15                  /yt/about/press/                       Illinois  9084225574121020383_1524366826  no_key     youtube.com  Northern America            no_key                 NaN  1524366826            3      1524366826  Saturday            4\n",
       "804673          NaN    no_key        no_key  no_key            Chrome  (not set)          Social                        Chennai      Asia           India 2018-04-21        1        desktop  7951714705396524331  no_key   16     False       no_key    no_key          no_key  referral                          (not set)            (not set)         1         Windows  no_key         8                                 /                     Tamil Nadu  7951714705396524331_1524331304  no_key     youtube.com     Southern Asia            no_key                 NaN  1524331304            1      1524331304  Saturday            1\n",
       "804674          NaN    no_key        no_key  no_key            Chrome  (not set)          Social  not available in demo dataset    Europe  United Kingdom 2018-04-21        1        desktop  4405127263201432739  no_key   16     False       no_key    no_key          no_key  referral      not available in demo dataset          virginm.net    no_key         Windows  no_key        13          /intl/pl/yt/about/press/  not available in demo dataset  4405127263201432739_1524304408  no_key     youtube.com   Northern Europe            no_key                 NaN  1524304408            2      1524304408  Saturday            2\n",
       "804675          NaN    no_key        no_key  no_key             Opera  (not set)          Social                           Kyiv    Europe         Ukraine 2018-04-21        1        desktop  7274226662839541799  no_key   16     False       no_key    no_key          no_key  referral                          (not set)      unknown.unknown         1         Windows  no_key        10                     /yt/creators/                      Kyiv city  7274226662839541799_1524320546  no_key     youtube.com    Eastern Europe            no_key                 NaN  1524320546            1      1524320546  Saturday            1\n",
       "804676          NaN    no_key        no_key  no_key        Opera Mini  (not set)          Social  not available in demo dataset      Asia      Kazakhstan 2018-04-21        1         mobile  6040634167099043205  no_key   18      True       no_key    no_key          no_key  referral      not available in demo dataset             kcell.kz         1       (not set)  no_key        17        /yt/lineups/ru/france.html  not available in demo dataset  6040634167099043205_1524335516  no_key     youtube.com      Central Asia            no_key                 NaN  1524335516            1      1524335516  Saturday            1\n",
       "804677          NaN    no_key        no_key  no_key            Chrome  (not set)          Social  not available in demo dataset      Asia    Saudi Arabia 2018-04-21        1         tablet  1759939701397302061  no_key   20      True       no_key    no_key          no_key  referral      not available in demo dataset      unknown.unknown         1         Android  no_key        13                /intl/ar/yt/about/  not available in demo dataset  1759939701397302061_1524378806  no_key     youtube.com      Western Asia            no_key                 NaN  1524378806            1      1524378806  Saturday            1\n",
       "804678          NaN    no_key        no_key  no_key            Chrome  (not set)          Social                        Chicago  Americas   United States 2018-04-21        1         mobile  3103057346467377129  no_key   29      True       no_key    no_key          no_key  referral                         Chicago IL            (not set)         1         Android  no_key        24               /yt/about/policies/                       Illinois  3103057346467377129_1524355070  no_key     youtube.com  Northern America            no_key                 NaN  1524355070            1      1524355070  Saturday            1\n",
       "804679          NaN    no_key        no_key  no_key              Edge  (not set)          Social                        Chicago  Americas   United States 2018-04-21        1        desktop  9084225574121020383  no_key   33     False       no_key    no_key          no_key  referral                         Chicago IL            (not set)    no_key         Windows  no_key        26                /intl/en/yt/about/                       Illinois  9084225574121020383_1524358436  no_key     youtube.com  Northern America            no_key                 NaN  1524358436            2      1524358436  Saturday            5\n",
       "804680          NaN    no_key        no_key  no_key            Chrome  (not set)          Social  not available in demo dataset  Americas         Uruguay 2018-04-21        1         mobile  6146210385566305056  no_key   36      True       no_key    no_key          no_key  referral      not available in demo dataset         claro.com.uy         1         Android  no_key        34         /yt/lineups/es/index.html  not available in demo dataset  6146210385566305056_1524317728  no_key     youtube.com     South America            no_key                 NaN  1524317728            1      1524317728  Saturday            1\n",
       "804681          NaN    no_key        no_key  no_key   Safari (in-app)  (not set)          Social  not available in demo dataset  Americas          Canada 2018-04-21        1         mobile  7484543584006767361  no_key   53      True       no_key    no_key          no_key  referral      not available in demo dataset        shawcable.net         1             iOS  no_key        35                                 /  not available in demo dataset  7484543584006767361_1524364725  no_key  m.facebook.com  Northern America            no_key                 NaN  1524364725            1      1524364725  Saturday            1\n",
       "804682          NaN    no_key        no_key  no_key  Samsung Internet  (not set)          Social                         Dublin    Europe         Ireland 2018-04-21        1         mobile  2915966035609674201  no_key   58      True       no_key    no_key          no_key  referral                          (not set)            meteor.ie         1         Android  no_key        34               /yt/about/policies/                  County Dublin  2915966035609674201_1524330416  no_key     youtube.com   Northern Europe            no_key                 NaN  1524330416            1      1524330416  Saturday            1\n",
       "804683          NaN    no_key        no_key  no_key          MRCHROME  (not set)          Social  not available in demo dataset    Europe          Russia 2018-04-21        1        desktop  5334918847827785763  no_key   71     False       no_key    no_key          no_key  referral      not available in demo dataset              yota.ru         1         Windows  no_key        38           /yt/music/ru/index.html  not available in demo dataset  5334918847827785763_1524301572  no_key     youtube.com    Eastern Europe            no_key                 NaN  1524301572            1      1524301572  Saturday            1\n",
       "\n",
       "[1708337 rows x 40 columns]"
      ]
     },
     "execution_count": 139,
     "metadata": {},
     "output_type": "execute_result"
    }
   ],
   "source": [
    "full_df"
   ]
  },
  {
   "cell_type": "code",
   "execution_count": 142,
   "metadata": {},
   "outputs": [
    {
     "data": {
      "text/plain": [
       "(array([7518., 2219.,  768.,  371.,  101.,  152.,   84.,   55.,   45.,\n",
       "          31.]),\n",
       " array([ 1. ,  2.8,  4.6,  6.4,  8.2, 10. , 11.8, 13.6, 15.4, 17.2, 19. ]),\n",
       " <a list of 10 Patch objects>)"
      ]
     },
     "execution_count": 142,
     "metadata": {},
     "output_type": "execute_result"
    },
    {
     "data": {
      "image/png": "[encoded data removed]",
      "text/plain": [
       "<matplotlib.figure.Figure at 0x17ea5aa20>"
      ]
     },
     "metadata": {},
     "output_type": "display_data"
    }
   ],
   "source": [
    "plt.hist(full_df[(full_df['transactionRevenue']>0) & (full_df['visit_index'] < 20)]['visit_index'])"
   ]
  },
  {
   "cell_type": "code",
   "execution_count": 13,
   "metadata": {},
   "outputs": [
    {
     "data": {
      "text/plain": [
       "1957458976293878100    278\n",
       "824839726118485274     205\n",
       "3608475193341679870    201\n",
       "1856749147915772585    199\n",
       "3269834865385146569    155\n",
       "7634897085866546110    148\n",
       "4038076683036146727    138\n",
       "3694234028523165868    129\n",
       "720311197761340948     121\n",
       "6254908847172458133    117\n",
       "3525537916960843419    115\n",
       "3148617623907142276    112\n",
       "6018775317735347795    111\n",
       "9801276214964695322    110\n",
       "2194592743396253647    107\n",
       "232377434237234751     105\n",
       "7498695963354635199    104\n",
       "9609104828919391966     99\n",
       "3937673380007666721     94\n",
       "949718915643445721      91\n",
       "4913801338365738862     90\n",
       "2082625651279391786     89\n",
       "7813149961404844386     86\n",
       "7445235885559107095     83\n",
       "4578640586284138624     81\n",
       "6588500311054802771     76\n",
       "3041133261614133977     74\n",
       "5208937953046059083     72\n",
       "9292327473106748702     71\n",
       "9534537897118577344     71\n",
       "                      ... \n",
       "288758528135294381       1\n",
       "4304352391539390587      1\n",
       "5987950369393355730      1\n",
       "6330888661601136276      1\n",
       "7739964096955449177      1\n",
       "2721379727257611896      1\n",
       "4974062766489410965      1\n",
       "6241140676006183984      1\n",
       "872195080734521371       1\n",
       "8013653981532139881      1\n",
       "4755972815746018861      1\n",
       "4976439570998254398      1\n",
       "719907763577913381       1\n",
       "201701180774148174       1\n",
       "3528212897856344277      1\n",
       "7204488053947382246      1\n",
       "1580935325095202225      1\n",
       "1678217983824485874      1\n",
       "8792842052510386736      1\n",
       "9445202698347603294      1\n",
       "8082630573121127406      1\n",
       "5485490223433631381      1\n",
       "456344791608458027       1\n",
       "5177505747210148871      1\n",
       "9578669669162298422      1\n",
       "2414901189737764419      1\n",
       "8732428996003345706      1\n",
       "8953658936478001991      1\n",
       "1112225154664961546      1\n",
       "3470805531138180032      1\n",
       "Name: fullVisitorId, Length: 716924, dtype: int64"
      ]
     },
     "execution_count": 13,
     "metadata": {},
     "output_type": "execute_result"
    }
   ],
   "source": [
    "train_df['fullVisitorId'].value_counts()"
   ]
  },
  {
   "cell_type": "code",
   "execution_count": null,
   "metadata": {
    "collapsed": true
   },
   "outputs": [],
   "source": []
  },
  {
   "cell_type": "code",
   "execution_count": 14,
   "metadata": {
    "collapsed": true
   },
   "outputs": [],
   "source": [
    "%matplotlib inline\n",
    "#????"
   ]
  },
  {
   "cell_type": "code",
   "execution_count": 15,
   "metadata": {},
   "outputs": [
    {
     "data": {
      "text/plain": [
       "'sessionId'"
      ]
     },
     "execution_count": 15,
     "metadata": {},
     "output_type": "execute_result"
    }
   ],
   "source": [
    "'sessionId'"
   ]
  },
  {
   "cell_type": "code",
   "execution_count": 16,
   "metadata": {},
   "outputs": [
    {
     "data": {
      "text/plain": [
       "949114864807798827_1488873279     2\n",
       "6744852027946569144_1486367981    2\n",
       "0368176022600320212_1477983528    2\n",
       "4992819126088253676_1476945917    2\n",
       "7337116917105358996_1486626864    2\n",
       "4253966064261570867_1488527777    2\n",
       "7549529166163705177_1473403649    2\n",
       "5961536486573634219_1476080711    2\n",
       "8290718395224810170_1470292507    2\n",
       "8568578268232181901_1475131580    2\n",
       "7253963382944474113_1491893936    2\n",
       "9431459255925855651_1476427368    2\n",
       "4968177382277050337_1480578835    2\n",
       "7483600664917507409_1476512865    2\n",
       "6344542374277652593_1495522728    2\n",
       "1760800370259647003_1475823522    2\n",
       "4853581114722495742_1476685840    2\n",
       "8144221263768378141_1474958076    2\n",
       "6238226081716604469_1479196770    2\n",
       "4326430085858395868_1478591748    2\n",
       "1468326551501903507_1480492763    2\n",
       "2038050375681301021_1476514780    2\n",
       "7211158502445215770_1499841487    2\n",
       "1536917606431322139_1495349517    2\n",
       "8198604450577095435_1480233504    2\n",
       "36464293718895597_1483689578      2\n",
       "6032038653782689840_1492498505    2\n",
       "3976409111211002852_1481961563    2\n",
       "6666722766093597517_1471934775    2\n",
       "7488910470686381237_1484035077    2\n",
       "                                 ..\n",
       "3732593572001436219_1487710697    1\n",
       "0916151879988534396_1480646017    1\n",
       "0841152376176286392_1470357891    1\n",
       "3384815342682138021_1471628760    1\n",
       "3201857300315667644_1480041074    1\n",
       "2678010918988864409_1482084914    1\n",
       "5507631536310498340_1476828541    1\n",
       "2170131123620835530_1471952516    1\n",
       "0412570525686815561_1482275147    1\n",
       "0611497326399211805_1489461761    1\n",
       "3266128103188519915_1486535317    1\n",
       "0596887074931866421_1477356941    1\n",
       "5064825155231903398_1500424534    1\n",
       "7962817169064863222_1477617703    1\n",
       "2158050557526885144_1476545764    1\n",
       "5912573351669927957_1471544296    1\n",
       "0002068201793683828_1490327699    1\n",
       "585679819087085132_1475788782     1\n",
       "9142822714300285242_1475785667    1\n",
       "1880404741618789649_1499247374    1\n",
       "6401008365211773939_1491976829    1\n",
       "9306643805331042943_1471724324    1\n",
       "2332064453992087091_1492925627    1\n",
       "388419501936642920_1477555428     1\n",
       "7106830402279655925_1482158005    1\n",
       "5771245361422230781_1483545468    1\n",
       "026350791101931426_1480150953     1\n",
       "2518573623505180971_1482252799    1\n",
       "0824839726118485274_1489583469    1\n",
       "8019955756662846448_1487893341    1\n",
       "Name: sessionId, Length: 902755, dtype: int64"
      ]
     },
     "execution_count": 16,
     "metadata": {},
     "output_type": "execute_result"
    }
   ],
   "source": [
    "train_df['sessionId'].value_counts()"
   ]
  },
  {
   "cell_type": "code",
   "execution_count": 17,
   "metadata": {
    "collapsed": true
   },
   "outputs": [],
   "source": [
    "%matplotlib inline\n",
    "#????"
   ]
  },
  {
   "cell_type": "code",
   "execution_count": 18,
   "metadata": {},
   "outputs": [
    {
     "data": {
      "text/plain": [
       "'visitId'"
      ]
     },
     "execution_count": 18,
     "metadata": {},
     "output_type": "execute_result"
    }
   ],
   "source": [
    "'visitId'"
   ]
  },
  {
   "cell_type": "code",
   "execution_count": 19,
   "metadata": {},
   "outputs": [
    {
     "data": {
      "text/plain": [
       "1493146175    8\n",
       "1478345904    6\n",
       "1481369525    6\n",
       "1484649802    6\n",
       "1500856602    5\n",
       "1495031359    5\n",
       "1494374199    5\n",
       "1473406997    4\n",
       "1478942540    4\n",
       "1490264449    4\n",
       "1499778118    4\n",
       "1489390306    4\n",
       "1473406994    4\n",
       "1490255839    4\n",
       "1485823856    4\n",
       "1490899032    4\n",
       "1481365730    4\n",
       "1478243627    4\n",
       "1500856594    4\n",
       "1500856591    4\n",
       "1490274628    4\n",
       "1475719086    4\n",
       "1490384962    4\n",
       "1484649800    4\n",
       "1474613955    4\n",
       "1489390296    4\n",
       "1493406494    4\n",
       "1479668456    4\n",
       "1481874207    4\n",
       "1500880897    4\n",
       "             ..\n",
       "1500254858    1\n",
       "1482755722    1\n",
       "1476466313    1\n",
       "1474518720    1\n",
       "1478710977    1\n",
       "1472415427    1\n",
       "1470258912    1\n",
       "1474465530    1\n",
       "1474490102    1\n",
       "1476577011    1\n",
       "1500606546    1\n",
       "1491209962    1\n",
       "1480728296    1\n",
       "1474455271    1\n",
       "1478651622    1\n",
       "1470265061    1\n",
       "1491347172    1\n",
       "1495500507    1\n",
       "1487107781    1\n",
       "1490718365    1\n",
       "1470361302    1\n",
       "1476654805    1\n",
       "1485035217    1\n",
       "1478698703    1\n",
       "1497432928    1\n",
       "1478704844    1\n",
       "1487085256    1\n",
       "1500456028    1\n",
       "1480814278    1\n",
       "1497372675    1\n",
       "Name: visitId, Length: 886303, dtype: int64"
      ]
     },
     "execution_count": 19,
     "metadata": {},
     "output_type": "execute_result"
    }
   ],
   "source": [
    "train_df['visitId'].value_counts()"
   ]
  },
  {
   "cell_type": "code",
   "execution_count": 20,
   "metadata": {
    "collapsed": true
   },
   "outputs": [],
   "source": [
    "%matplotlib inline\n",
    "#????"
   ]
  },
  {
   "cell_type": "code",
   "execution_count": 21,
   "metadata": {},
   "outputs": [
    {
     "data": {
      "text/plain": [
       "'visitNumber'"
      ]
     },
     "execution_count": 21,
     "metadata": {},
     "output_type": "execute_result"
    }
   ],
   "source": [
    "'visitNumber'"
   ]
  },
  {
   "cell_type": "code",
   "execution_count": 22,
   "metadata": {},
   "outputs": [
    {
     "data": {
      "text/plain": [
       "1      703060\n",
       "2       92548\n",
       "3       35843\n",
       "4       19157\n",
       "5       11615\n",
       "6        7677\n",
       "7        5413\n",
       "8        4031\n",
       "9        3084\n",
       "10       2415\n",
       "11       1936\n",
       "12       1573\n",
       "13       1292\n",
       "14       1092\n",
       "15        928\n",
       "16        809\n",
       "17        699\n",
       "18        611\n",
       "19        541\n",
       "20        497\n",
       "21        446\n",
       "22        399\n",
       "23        355\n",
       "24        340\n",
       "25        304\n",
       "26        272\n",
       "27        245\n",
       "28        223\n",
       "29        203\n",
       "30        188\n",
       "        ...  \n",
       "310         1\n",
       "304         1\n",
       "313         1\n",
       "314         1\n",
       "316         1\n",
       "290         1\n",
       "394         1\n",
       "327         1\n",
       "328         1\n",
       "329         1\n",
       "333         1\n",
       "334         1\n",
       "335         1\n",
       "337         1\n",
       "352         1\n",
       "338         1\n",
       "339         1\n",
       "340         1\n",
       "341         1\n",
       "342         1\n",
       "343         1\n",
       "344         1\n",
       "345         1\n",
       "346         1\n",
       "347         1\n",
       "306         1\n",
       "349         1\n",
       "350         1\n",
       "351         1\n",
       "395         1\n",
       "Name: visitNumber, Length: 384, dtype: int64"
      ]
     },
     "execution_count": 22,
     "metadata": {},
     "output_type": "execute_result"
    }
   ],
   "source": [
    "train_df['visitNumber'].value_counts()"
   ]
  },
  {
   "cell_type": "code",
   "execution_count": 23,
   "metadata": {},
   "outputs": [
    {
     "data": {
      "text/plain": [
       "<matplotlib.axes._subplots.AxesSubplot at 0x1231c7f98>"
      ]
     },
     "execution_count": 23,
     "metadata": {},
     "output_type": "execute_result"
    },
    {
     "data": {
      "image/png": "[encoded data removed]",
      "text/plain": [
       "<matplotlib.figure.Figure at 0x11a97fac8>"
      ]
     },
     "metadata": {},
     "output_type": "display_data"
    }
   ],
   "source": [
    "%matplotlib inline\n",
    "train_df.visitNumber.hist(bins=40, figsize=(4,4))"
   ]
  },
  {
   "cell_type": "code",
   "execution_count": 24,
   "metadata": {},
   "outputs": [
    {
     "data": {
      "text/plain": [
       "'visitStartTime'"
      ]
     },
     "execution_count": 24,
     "metadata": {},
     "output_type": "execute_result"
    }
   ],
   "source": [
    "'visitStartTime'"
   ]
  },
  {
   "cell_type": "code",
   "execution_count": 25,
   "metadata": {},
   "outputs": [
    {
     "data": {
      "text/plain": [
       "1493146175    8\n",
       "1481369525    6\n",
       "1478345904    6\n",
       "1484649802    6\n",
       "1500856602    5\n",
       "1495031359    5\n",
       "1494374199    5\n",
       "1475719086    4\n",
       "1485823856    4\n",
       "1499778118    4\n",
       "1478243627    4\n",
       "1477470782    4\n",
       "1490384962    4\n",
       "1500856594    4\n",
       "1478942540    4\n",
       "1489390296    4\n",
       "1484649800    4\n",
       "1498823774    4\n",
       "1490264767    4\n",
       "1500856591    4\n",
       "1500856605    4\n",
       "1479300875    4\n",
       "1473406994    4\n",
       "1481365730    4\n",
       "1473406997    4\n",
       "1488904421    4\n",
       "1479668456    4\n",
       "1481874207    4\n",
       "1500880897    4\n",
       "1490255839    4\n",
       "             ..\n",
       "1473763415    1\n",
       "1482147925    1\n",
       "1496825940    1\n",
       "1500600455    1\n",
       "1496391816    1\n",
       "1475422345    1\n",
       "1487937704    1\n",
       "1498642627    1\n",
       "1481859264    1\n",
       "1485875385    1\n",
       "1500567735    1\n",
       "1496371382    1\n",
       "1485891761    1\n",
       "1475352751    1\n",
       "1471156398    1\n",
       "1481652395    1\n",
       "1481650346    1\n",
       "1481658534    1\n",
       "1494290574    1\n",
       "1477462181    1\n",
       "1500528804    1\n",
       "1485863075    1\n",
       "1479567521    1\n",
       "1490131103    1\n",
       "1488027804    1\n",
       "1475457178    1\n",
       "1481756822    1\n",
       "1496445074    1\n",
       "1498540177    1\n",
       "1497372675    1\n",
       "Name: visitStartTime, Length: 887159, dtype: int64"
      ]
     },
     "execution_count": 25,
     "metadata": {},
     "output_type": "execute_result"
    }
   ],
   "source": [
    "train_df['visitStartTime'].value_counts()"
   ]
  },
  {
   "cell_type": "code",
   "execution_count": 26,
   "metadata": {
    "collapsed": true
   },
   "outputs": [],
   "source": [
    "%matplotlib inline\n",
    "#????"
   ]
  },
  {
   "cell_type": "code",
   "execution_count": 27,
   "metadata": {},
   "outputs": [
    {
     "data": {
      "text/plain": [
       "'operatingSystem'"
      ]
     },
     "execution_count": 27,
     "metadata": {},
     "output_type": "execute_result"
    }
   ],
   "source": [
    "'operatingSystem'"
   ]
  },
  {
   "cell_type": "code",
   "execution_count": 28,
   "metadata": {},
   "outputs": [
    {
     "data": {
      "text/plain": [
       "Windows          350072\n",
       "Macintosh        253938\n",
       "Android          123892\n",
       "iOS              107665\n",
       "Linux             35034\n",
       "Chrome OS         26337\n",
       "(not set)          4695\n",
       "Windows Phone      1216\n",
       "Samsung             280\n",
       "BlackBerry          218\n",
       "Nintendo Wii        100\n",
       "Firefox OS           89\n",
       "Xbox                 66\n",
       "Nintendo WiiU        35\n",
       "FreeBSD               9\n",
       "OpenBSD               2\n",
       "Nokia                 2\n",
       "NTT DoCoMo            1\n",
       "SunOS                 1\n",
       "Nintendo 3DS          1\n",
       "Name: operatingSystem, dtype: int64"
      ]
     },
     "execution_count": 28,
     "metadata": {},
     "output_type": "execute_result"
    }
   ],
   "source": [
    "train_df['operatingSystem'].value_counts()"
   ]
  },
  {
   "cell_type": "code",
   "execution_count": 29,
   "metadata": {},
   "outputs": [
    {
     "data": {
      "text/plain": [
       "<matplotlib.axes._subplots.AxesSubplot at 0x1192baf28>"
      ]
     },
     "execution_count": 29,
     "metadata": {},
     "output_type": "execute_result"
    },
    {
     "data": {
      "image/png": "[encoded data removed]",
      "text/plain": [
       "<matplotlib.figure.Figure at 0x1192cdf28>"
      ]
     },
     "metadata": {},
     "output_type": "display_data"
    }
   ],
   "source": [
    "%matplotlib inline\n",
    "train_df.operatingSystem.hist(bins=40, figsize=(85,10))"
   ]
  },
  {
   "cell_type": "code",
   "execution_count": 30,
   "metadata": {},
   "outputs": [
    {
     "data": {
      "text/plain": [
       "'isMobile'"
      ]
     },
     "execution_count": 30,
     "metadata": {},
     "output_type": "execute_result"
    }
   ],
   "source": [
    "'isMobile'"
   ]
  },
  {
   "cell_type": "code",
   "execution_count": 31,
   "metadata": {},
   "outputs": [
    {
     "data": {
      "text/plain": [
       "False    664530\n",
       "True     239123\n",
       "Name: isMobile, dtype: int64"
      ]
     },
     "execution_count": 31,
     "metadata": {},
     "output_type": "execute_result"
    }
   ],
   "source": [
    "train_df['isMobile'].value_counts()"
   ]
  },
  {
   "cell_type": "code",
   "execution_count": 32,
   "metadata": {
    "collapsed": true
   },
   "outputs": [],
   "source": [
    "%matplotlib inline\n",
    "#????"
   ]
  },
  {
   "cell_type": "code",
   "execution_count": 33,
   "metadata": {},
   "outputs": [
    {
     "data": {
      "text/plain": [
       "'deviceCategory'"
      ]
     },
     "execution_count": 33,
     "metadata": {},
     "output_type": "execute_result"
    }
   ],
   "source": [
    "'deviceCategory'"
   ]
  },
  {
   "cell_type": "code",
   "execution_count": 34,
   "metadata": {},
   "outputs": [
    {
     "data": {
      "text/plain": [
       "desktop    664479\n",
       "mobile     208725\n",
       "tablet      30449\n",
       "Name: deviceCategory, dtype: int64"
      ]
     },
     "execution_count": 34,
     "metadata": {},
     "output_type": "execute_result"
    }
   ],
   "source": [
    "train_df['deviceCategory'].value_counts()"
   ]
  },
  {
   "cell_type": "code",
   "execution_count": 35,
   "metadata": {},
   "outputs": [
    {
     "data": {
      "text/plain": [
       "<matplotlib.axes._subplots.AxesSubplot at 0x1b2c46e80>"
      ]
     },
     "execution_count": 35,
     "metadata": {},
     "output_type": "execute_result"
    },
    {
     "data": {
      "image/png": "[encoded data removed]",
      "text/plain": [
       "<matplotlib.figure.Figure at 0x1231dc198>"
      ]
     },
     "metadata": {},
     "output_type": "display_data"
    }
   ],
   "source": [
    "%matplotlib inline\n",
    "train_df.deviceCategory.hist(bins=100, figsize=(10,10))"
   ]
  },
  {
   "cell_type": "code",
   "execution_count": 36,
   "metadata": {},
   "outputs": [
    {
     "data": {
      "text/plain": [
       "'browser'"
      ]
     },
     "execution_count": 36,
     "metadata": {},
     "output_type": "execute_result"
    }
   ],
   "source": [
    "'browser'"
   ]
  },
  {
   "cell_type": "code",
   "execution_count": 37,
   "metadata": {},
   "outputs": [
    {
     "data": {
      "text/plain": [
       "Chrome                                         620364\n",
       "Safari                                         182245\n",
       "Firefox                                         37069\n",
       "Internet Explorer                               19375\n",
       "Edge                                            10205\n",
       "Android Webview                                  7865\n",
       "Safari (in-app)                                  6850\n",
       "Opera Mini                                       6139\n",
       "Opera                                            5643\n",
       "UC Browser                                       2427\n",
       "YaBrowser                                        2096\n",
       "Coc Coc                                           727\n",
       "Amazon Silk                                       561\n",
       "Android Browser                                   553\n",
       "Mozilla Compatible Agent                          374\n",
       "MRCHROME                                          263\n",
       "Maxthon                                           246\n",
       "BlackBerry                                        184\n",
       "Nintendo Browser                                  140\n",
       "Puffin                                             93\n",
       "Nokia Browser                                      67\n",
       "Iron                                               33\n",
       "LYF_LS_4002_12                                     21\n",
       "SeaMonkey                                          15\n",
       "Seznam                                             11\n",
       "Mozilla                                            11\n",
       "Apple-iPhone7C2                                     9\n",
       "(not set)                                           8\n",
       "0                                                   7\n",
       "Nichrome                                            7\n",
       "Lunascape                                           5\n",
       "osee2unifiedRelease                                 5\n",
       "DASH_JR_3G                                          4\n",
       "ThumbSniper                                         3\n",
       "no-ua                                               3\n",
       "LYF_LS_4002_11                                      3\n",
       "Android Runtime                                     2\n",
       "YE                                                  2\n",
       "NokiaE52-1                                          2\n",
       "MQQBrowser                                          2\n",
       "DoCoMo                                              1\n",
       "CSM Click                                           1\n",
       "User Agent                                          1\n",
       "Reddit                                              1\n",
       "M5                                                  1\n",
       "subjectAgent: NoticiasBoom                          1\n",
       "HTC802t_TD                                          1\n",
       "Hisense M20-M_LTE                                   1\n",
       "[Use default User-agent string] LIVRENPOCHE         1\n",
       "ADM                                                 1\n",
       "IE with Chrome Frame                                1\n",
       "TCL P500M                                           1\n",
       "Changa 99695759                                     1\n",
       "Konqueror                                           1\n",
       "Name: browser, dtype: int64"
      ]
     },
     "execution_count": 37,
     "metadata": {},
     "output_type": "execute_result"
    }
   ],
   "source": [
    "train_df['browser'].value_counts()"
   ]
  },
  {
   "cell_type": "code",
   "execution_count": 38,
   "metadata": {
    "collapsed": true
   },
   "outputs": [],
   "source": [
    "%matplotlib inline\n",
    "#?"
   ]
  },
  {
   "cell_type": "code",
   "execution_count": 39,
   "metadata": {},
   "outputs": [
    {
     "data": {
      "text/plain": [
       "'subContinent'"
      ]
     },
     "execution_count": 39,
     "metadata": {},
     "output_type": "execute_result"
    }
   ],
   "source": [
    "'subContinent'"
   ]
  },
  {
   "cell_type": "code",
   "execution_count": 40,
   "metadata": {},
   "outputs": [
    {
     "data": {
      "text/plain": [
       "Northern America      390657\n",
       "Southeast Asia         77800\n",
       "Southern Asia          59321\n",
       "Western Europe         59114\n",
       "Northern Europe        58168\n",
       "Eastern Asia           46919\n",
       "Eastern Europe         45249\n",
       "South America          41731\n",
       "Western Asia           38443\n",
       "Southern Europe        35780\n",
       "Central America        15583\n",
       "Australasia            14893\n",
       "Northern Africa         7683\n",
       "Western Africa          2573\n",
       "Caribbean               2406\n",
       "Southern Africa         2169\n",
       "Eastern Africa          1927\n",
       "(not set)               1468\n",
       "Central Asia            1215\n",
       "Middle Africa            393\n",
       "Melanesia                 81\n",
       "Micronesian Region        55\n",
       "Polynesia                 25\n",
       "Name: subContinent, dtype: int64"
      ]
     },
     "execution_count": 40,
     "metadata": {},
     "output_type": "execute_result"
    }
   ],
   "source": [
    "train_df['subContinent'].value_counts()"
   ]
  },
  {
   "cell_type": "code",
   "execution_count": 41,
   "metadata": {},
   "outputs": [
    {
     "data": {
      "text/plain": [
       "<matplotlib.axes._subplots.AxesSubplot at 0x123485a20>"
      ]
     },
     "execution_count": 41,
     "metadata": {},
     "output_type": "execute_result"
    },
    {
     "data": {
      "image/png": "[encoded data removed]",
      "text/plain": [
       "<matplotlib.figure.Figure at 0x1b2ca68d0>"
      ]
     },
     "metadata": {},
     "output_type": "display_data"
    }
   ],
   "source": [
    "%matplotlib inline\n",
    "train_df.subContinent.hist(bins=100, figsize=(100,10))"
   ]
  },
  {
   "cell_type": "code",
   "execution_count": 42,
   "metadata": {},
   "outputs": [
    {
     "data": {
      "text/plain": [
       "'country'"
      ]
     },
     "execution_count": 42,
     "metadata": {},
     "output_type": "execute_result"
    }
   ],
   "source": [
    "'country'"
   ]
  },
  {
   "cell_type": "code",
   "execution_count": 43,
   "metadata": {},
   "outputs": [
    {
     "data": {
      "text/plain": [
       "United States               364744\n",
       "India                        51140\n",
       "United Kingdom               37393\n",
       "Canada                       25869\n",
       "Vietnam                      24598\n",
       "Turkey                       20522\n",
       "Thailand                     20123\n",
       "Germany                      19980\n",
       "Brazil                       19783\n",
       "Japan                        19731\n",
       "France                       15832\n",
       "Mexico                       13225\n",
       "Taiwan                       12996\n",
       "Australia                    12698\n",
       "Russia                       11662\n",
       "Spain                        11658\n",
       "Netherlands                  11453\n",
       "Italy                        11332\n",
       "Poland                        9693\n",
       "Indonesia                     9273\n",
       "Philippines                   9244\n",
       "Singapore                     7172\n",
       "Ireland                       6493\n",
       "Malaysia                      6439\n",
       "Romania                       6428\n",
       "Ukraine                       5577\n",
       "Israel                        5563\n",
       "Peru                          5546\n",
       "Sweden                        5315\n",
       "South Korea                   5237\n",
       "                             ...  \n",
       "Timor-Leste                      7\n",
       "Liechtenstein                    7\n",
       "Lesotho                          6\n",
       "British Virgin Islands           5\n",
       "Greenland                        5\n",
       "Turkmenistan                     5\n",
       "Antigua & Barbuda                5\n",
       "San Marino                       4\n",
       "Equatorial Guinea                4\n",
       "Central African Republic         4\n",
       "Guinea-Bissau                    4\n",
       "Caribbean Netherlands            4\n",
       "Vanuatu                          3\n",
       "Isle of Man                      3\n",
       "Seychelles                       3\n",
       "Cook Islands                     3\n",
       "Congo - Brazzaville              3\n",
       "Dominica                         3\n",
       "Marshall Islands                 2\n",
       "Comoros                          2\n",
       "Eritrea                          1\n",
       "St. Martin                       1\n",
       "Åland Islands                    1\n",
       "Samoa                            1\n",
       "São Tomé & Príncipe              1\n",
       "St. Pierre & Miquelon            1\n",
       "Norfolk Island                   1\n",
       "Anguilla                         1\n",
       "American Samoa                   1\n",
       "St. Barthélemy                   1\n",
       "Name: country, Length: 222, dtype: int64"
      ]
     },
     "execution_count": 43,
     "metadata": {},
     "output_type": "execute_result"
    }
   ],
   "source": [
    "train_df['country'].value_counts()"
   ]
  },
  {
   "cell_type": "code",
   "execution_count": 44,
   "metadata": {
    "collapsed": true
   },
   "outputs": [],
   "source": [
    "%matplotlib inline\n",
    "#????"
   ]
  },
  {
   "cell_type": "code",
   "execution_count": 45,
   "metadata": {},
   "outputs": [
    {
     "data": {
      "text/plain": [
       "'continent'"
      ]
     },
     "execution_count": 45,
     "metadata": {},
     "output_type": "execute_result"
    }
   ],
   "source": [
    "'continent'"
   ]
  },
  {
   "cell_type": "code",
   "execution_count": 46,
   "metadata": {},
   "outputs": [
    {
     "data": {
      "text/plain": [
       "Americas     450377\n",
       "Asia         223698\n",
       "Europe       198311\n",
       "Oceania       15054\n",
       "Africa        14745\n",
       "(not set)      1468\n",
       "Name: continent, dtype: int64"
      ]
     },
     "execution_count": 46,
     "metadata": {},
     "output_type": "execute_result"
    }
   ],
   "source": [
    "train_df['continent'].value_counts()"
   ]
  },
  {
   "cell_type": "code",
   "execution_count": 47,
   "metadata": {},
   "outputs": [
    {
     "data": {
      "text/plain": [
       "<matplotlib.axes._subplots.AxesSubplot at 0x1a2aa4668>"
      ]
     },
     "execution_count": 47,
     "metadata": {},
     "output_type": "execute_result"
    },
    {
     "data": {
      "image/png": "[encoded data removed]",
      "text/plain": [
       "<matplotlib.figure.Figure at 0x1a31f09e8>"
      ]
     },
     "metadata": {},
     "output_type": "display_data"
    }
   ],
   "source": [
    "%matplotlib inline\n",
    "train_df.continent.hist(bins=100, figsize=(10,10))"
   ]
  },
  {
   "cell_type": "code",
   "execution_count": 48,
   "metadata": {},
   "outputs": [
    {
     "data": {
      "text/plain": [
       "'region'"
      ]
     },
     "execution_count": 48,
     "metadata": {},
     "output_type": "execute_result"
    }
   ],
   "source": [
    "'region'"
   ]
  },
  {
   "cell_type": "code",
   "execution_count": 49,
   "metadata": {},
   "outputs": [
    {
     "data": {
      "text/plain": [
       "not available in demo dataset    508229\n",
       "California                       107495\n",
       "(not set)                         27827\n",
       "New York                          26433\n",
       "England                           13198\n",
       "Texas                              8749\n",
       "Bangkok                            7709\n",
       "Washington                         7642\n",
       "Illinois                           7585\n",
       "Ho Chi Minh                        7250\n",
       "Istanbul                           6330\n",
       "Maharashtra                        6184\n",
       "Ontario                            5997\n",
       "Taipei City                        5789\n",
       "Karnataka                          5476\n",
       "Delhi                              5278\n",
       "Hanoi                              5141\n",
       "New South Wales                    4932\n",
       "Tamil Nadu                         4632\n",
       "Ile-de-France                      4338\n",
       "State of Sao Paulo                 4189\n",
       "Telangana                          3955\n",
       "County Dublin                      3650\n",
       "Tel Aviv District                  3633\n",
       "Tokyo                              3341\n",
       "Jakarta                            3338\n",
       "Masovian Voivodeship               3288\n",
       "Virginia                           3101\n",
       "Community of Madrid                2937\n",
       "Victoria                           2741\n",
       "                                  ...  \n",
       "Aydin Province                        6\n",
       "Islamabad Capital Territory           6\n",
       "State of Espirito Santo               6\n",
       "Baja California                       6\n",
       "Guanajuato                            6\n",
       "Phu Tho Province                      6\n",
       "Hradec Kralove Region                 6\n",
       "Okinawa Prefecture                    6\n",
       "Gelderland                            6\n",
       "Maha Sarakham                         6\n",
       "Oklahoma                              6\n",
       "Lopburi                               6\n",
       "Lviv Oblast                           6\n",
       "Abruzzo                               6\n",
       "Binh Phuoc                            6\n",
       "Puebla                                6\n",
       "Nord-Pas-de-Calais                    6\n",
       "Oran Province                         6\n",
       "Ha Tinh Province                      6\n",
       "Bremen                                6\n",
       "Eskisehir Province                    6\n",
       "Queretaro                             6\n",
       "Assam                                 6\n",
       "Sonora                                6\n",
       "Beirut Governorate                    6\n",
       "Rhone-Alpes                           6\n",
       "Leiria District                       6\n",
       "San Salvador Department               5\n",
       "Kumamoto Prefecture                   5\n",
       "Montana                               3\n",
       "Name: region, Length: 376, dtype: int64"
      ]
     },
     "execution_count": 49,
     "metadata": {},
     "output_type": "execute_result"
    }
   ],
   "source": [
    "train_df['region'].value_counts()"
   ]
  },
  {
   "cell_type": "code",
   "execution_count": 50,
   "metadata": {
    "collapsed": true
   },
   "outputs": [],
   "source": [
    "%matplotlib inline\n",
    "#?"
   ]
  },
  {
   "cell_type": "code",
   "execution_count": 51,
   "metadata": {},
   "outputs": [
    {
     "data": {
      "text/plain": [
       "'networkDomain'"
      ]
     },
     "execution_count": 51,
     "metadata": {},
     "output_type": "execute_result"
    }
   ],
   "source": [
    "'networkDomain'"
   ]
  },
  {
   "cell_type": "code",
   "execution_count": 52,
   "metadata": {},
   "outputs": [
    {
     "data": {
      "text/plain": [
       "(not set)                 244881\n",
       "unknown.unknown           146034\n",
       "comcast.net                28743\n",
       "rr.com                     14827\n",
       "verizon.net                13637\n",
       "ttnet.com.tr               13228\n",
       "comcastbusiness.net         9985\n",
       "hinet.net                   7919\n",
       "virginm.net                 6414\n",
       "3bb.co.th                   6046\n",
       "prod-infinitum.com.mx       5960\n",
       "cox.net                     5812\n",
       "sbcglobal.net               5388\n",
       "btcentralplus.com           5304\n",
       "att.net                     5230\n",
       "google.com                  5035\n",
       "optonline.net               4972\n",
       "totbb.net                   4895\n",
       "vnpt.vn                     4508\n",
       "asianet.co.th               4374\n",
       "pldt.net                    4008\n",
       "rima-tde.net                3963\n",
       "amazonaws.com               3769\n",
       "t-ipconnect.de              3656\n",
       "telecomitalia.it            3571\n",
       "qwest.net                   3534\n",
       "airtelbroadband.in          3389\n",
       "virtua.com.br               3318\n",
       "bell.ca                     2904\n",
       "ztomy.com                   2845\n",
       "                           ...  \n",
       "cus.pl                         1\n",
       "ng-telecom.com                 1\n",
       "it-arge.de                     1\n",
       "oakh.com                       1\n",
       "averilltax.com                 1\n",
       "comfeel.cz                     1\n",
       "unite.net                      1\n",
       "metacarta.com                  1\n",
       "ehawaii.gov                    1\n",
       "ferrum.edu                     1\n",
       "rutil.net                      1\n",
       "worldoftravel.at               1\n",
       "urprajuk.com                   1\n",
       "volstate.net                   1\n",
       "eninnet.ru                     1\n",
       "opconventioncenter.com         1\n",
       "trendmgt.com                   1\n",
       "sitbv.nl                       1\n",
       "trendway-transport.com         1\n",
       "server24.net                   1\n",
       "np1.net                        1\n",
       "synovate.co.kr                 1\n",
       "atharvana.in                   1\n",
       "fhsteel.com.vn                 1\n",
       "ewinsurance.co.uk              1\n",
       "humanservices.gov.au           1\n",
       "assarent.co.id                 1\n",
       "mylan.com                      1\n",
       "stillen.com                    1\n",
       "synmedic.ua                    1\n",
       "Name: networkDomain, Length: 28064, dtype: int64"
      ]
     },
     "execution_count": 52,
     "metadata": {},
     "output_type": "execute_result"
    }
   ],
   "source": [
    "train_df['networkDomain'].value_counts()"
   ]
  },
  {
   "cell_type": "code",
   "execution_count": null,
   "metadata": {
    "collapsed": true
   },
   "outputs": [],
   "source": []
  },
  {
   "cell_type": "code",
   "execution_count": 53,
   "metadata": {},
   "outputs": [
    {
     "data": {
      "text/plain": [
       "'city'"
      ]
     },
     "execution_count": 53,
     "metadata": {},
     "output_type": "execute_result"
    }
   ],
   "source": [
    "'city'"
   ]
  },
  {
   "cell_type": "code",
   "execution_count": 54,
   "metadata": {},
   "outputs": [
    {
     "data": {
      "text/plain": [
       "not available in demo dataset    508229\n",
       "Mountain View                     40884\n",
       "(not set)                         34262\n",
       "New York                          26371\n",
       "San Francisco                     20329\n",
       "Sunnyvale                         13086\n",
       "London                            12607\n",
       "San Jose                          10295\n",
       "Los Angeles                        8670\n",
       "Bangkok                            7709\n",
       "Chicago                            7444\n",
       "Ho Chi Minh City                   7342\n",
       "Istanbul                           6330\n",
       "Bengaluru                          5468\n",
       "Toronto                            5223\n",
       "Hanoi                              5032\n",
       "Seattle                            5025\n",
       "Sydney                             4926\n",
       "Dublin                             4877\n",
       "Sao Paulo                          4106\n",
       "Mumbai                             4099\n",
       "Chennai                            4090\n",
       "Paris                              4013\n",
       "Hyderabad                          3934\n",
       "Austin                             3790\n",
       "Tel Aviv-Yafo                      3542\n",
       "Hong Kong                          3508\n",
       "Jakarta                            3338\n",
       "Singapore                          3299\n",
       "Warsaw                             3288\n",
       "                                  ...  \n",
       "Carrollton                            6\n",
       "Ha Tinh                               6\n",
       "Villanova                             6\n",
       "New Westminster                       6\n",
       "Aydin                                 6\n",
       "Sandton                               6\n",
       "Vadodara                              6\n",
       "Coventry                              6\n",
       "Kuwait City                           6\n",
       "Mueang Phitsanulok District           6\n",
       "Hradec Kralove                        6\n",
       "Bristol                               6\n",
       "Amherst                               6\n",
       "Winnipeg                              6\n",
       "Sandy Springs                         6\n",
       "Guwahati                              6\n",
       "Chisinau                              6\n",
       "Thane                                 6\n",
       "Annecy-le-Vieux                       6\n",
       "Arnhem                                6\n",
       "Marlboro                              6\n",
       "Tallahassee                           6\n",
       "Kumamoto                              5\n",
       "Douglasville                          5\n",
       "Campbell                              5\n",
       "Deep River                            5\n",
       "San Salvador                          5\n",
       "Daly City                             4\n",
       "Boise                                 3\n",
       "Bozeman                               3\n",
       "Name: city, Length: 649, dtype: int64"
      ]
     },
     "execution_count": 54,
     "metadata": {},
     "output_type": "execute_result"
    }
   ],
   "source": [
    "train_df['city'].value_counts()"
   ]
  },
  {
   "cell_type": "code",
   "execution_count": null,
   "metadata": {
    "collapsed": true
   },
   "outputs": [],
   "source": []
  },
  {
   "cell_type": "code",
   "execution_count": 55,
   "metadata": {},
   "outputs": [
    {
     "data": {
      "text/plain": [
       "'metro'"
      ]
     },
     "execution_count": 55,
     "metadata": {},
     "output_type": "execute_result"
    }
   ],
   "source": [
    "'metro'"
   ]
  },
  {
   "cell_type": "code",
   "execution_count": 56,
   "metadata": {},
   "outputs": [
    {
     "data": {
      "text/plain": [
       "not available in demo dataset                508229\n",
       "(not set)                                    201766\n",
       "San Francisco-Oakland-San Jose CA             95913\n",
       "New York NY                                   26917\n",
       "London                                        12571\n",
       "Los Angeles CA                                 9995\n",
       "Seattle-Tacoma WA                              7642\n",
       "Chicago IL                                     7585\n",
       "Austin TX                                      3790\n",
       "Washington DC (Hagerstown MD)                  3380\n",
       "Boston MA-Manchester NH                        2628\n",
       "Houston TX                                     2475\n",
       "Atlanta GA                                     2463\n",
       "Detroit MI                                     2403\n",
       "Roanoke-Lynchburg VA                           2227\n",
       "Dallas-Ft. Worth TX                            2012\n",
       "San Diego CA                                   1364\n",
       "Portland OR                                    1319\n",
       "Pittsburgh PA                                  1076\n",
       "Denver CO                                       877\n",
       "Philadelphia PA                                 800\n",
       "Phoenix AZ                                      537\n",
       "Charlotte NC                                    525\n",
       "Columbus OH                                     517\n",
       "La Crosse-Eau Claire WI                         396\n",
       "San Antonio TX                                  393\n",
       "Orlando-Daytona Beach-Melbourne FL              360\n",
       "JP_KANTO                                        279\n",
       "North West                                      271\n",
       "Minneapolis-St. Paul MN                         197\n",
       "                                              ...  \n",
       "Utica NY                                         23\n",
       "North Scotland                                   21\n",
       "Honolulu HI                                      21\n",
       "HTV Wales                                        20\n",
       "Albany-Schenectady-Troy NY                       19\n",
       "Madison WI                                       17\n",
       "Colorado Springs-Pueblo CO                       16\n",
       "Greenville-Spartanburg-Asheville-Anderson        16\n",
       "Wheeling WV-Steubenville OH                      14\n",
       "Charlottesville VA                               13\n",
       "HTV West                                         13\n",
       "JP_OTHER                                         12\n",
       "Memphis TN                                       10\n",
       "Abilene-Sweetwater TX                            10\n",
       "Mankato MN                                        9\n",
       "Springfield MO                                    8\n",
       "Panama City FL                                    8\n",
       "Lexington KY                                      8\n",
       "Tri-Cities TN-VA                                  8\n",
       "Syracuse NY                                       7\n",
       "New Orleans LA                                    7\n",
       "Tucson (Sierra Vista) AZ                          7\n",
       "Augusta GA                                        7\n",
       "Springfield-Holyoke MA                            6\n",
       "Providence-New Bedford,MA                         6\n",
       "Tallahassee FL-Thomasville GA                     6\n",
       "Rochester-Mason City-Austin,IA                    6\n",
       "Chattanooga TN                                    6\n",
       "Butte-Bozeman MT                                  3\n",
       "Boise ID                                          3\n",
       "Name: metro, Length: 94, dtype: int64"
      ]
     },
     "execution_count": 56,
     "metadata": {},
     "output_type": "execute_result"
    }
   ],
   "source": [
    "train_df['metro'].value_counts()"
   ]
  },
  {
   "cell_type": "code",
   "execution_count": null,
   "metadata": {
    "collapsed": true
   },
   "outputs": [],
   "source": []
  },
  {
   "cell_type": "code",
   "execution_count": 57,
   "metadata": {},
   "outputs": [
    {
     "data": {
      "text/plain": [
       "'bounces'"
      ]
     },
     "execution_count": 57,
     "metadata": {},
     "output_type": "execute_result"
    }
   ],
   "source": [
    "'bounces'"
   ]
  },
  {
   "cell_type": "code",
   "execution_count": 58,
   "metadata": {},
   "outputs": [
    {
     "data": {
      "text/plain": [
       "no_key    453023\n",
       "1         450630\n",
       "Name: bounces, dtype: int64"
      ]
     },
     "execution_count": 58,
     "metadata": {},
     "output_type": "execute_result"
    }
   ],
   "source": [
    "train_df['bounces'].value_counts()"
   ]
  },
  {
   "cell_type": "code",
   "execution_count": 59,
   "metadata": {},
   "outputs": [
    {
     "data": {
      "text/plain": [
       "<matplotlib.axes._subplots.AxesSubplot at 0x1cf93cf98>"
      ]
     },
     "execution_count": 59,
     "metadata": {},
     "output_type": "execute_result"
    },
    {
     "data": {
      "image/png": "[encoded data removed]",
      "text/plain": [
       "<matplotlib.figure.Figure at 0x1cf9ebc18>"
      ]
     },
     "metadata": {},
     "output_type": "display_data"
    }
   ],
   "source": [
    "%matplotlib inline\n",
    "train_df.bounces.hist(bins=3, figsize=(4,4))"
   ]
  },
  {
   "cell_type": "code",
   "execution_count": 60,
   "metadata": {},
   "outputs": [
    {
     "data": {
      "text/plain": [
       "'transactionRevenue'"
      ]
     },
     "execution_count": 60,
     "metadata": {},
     "output_type": "execute_result"
    }
   ],
   "source": [
    "'transactionRevenue'"
   ]
  },
  {
   "cell_type": "code",
   "execution_count": 61,
   "metadata": {},
   "outputs": [
    {
     "data": {
      "text/plain": [
       "0.000000     892138\n",
       "16.648135       256\n",
       "16.759423       189\n",
       "17.329739       187\n",
       "17.617495       170\n",
       "16.424845       135\n",
       "17.840684       122\n",
       "16.810743       116\n",
       "16.587474        98\n",
       "16.536148        93\n",
       "16.769900        92\n",
       "16.212496        84\n",
       "17.909688        81\n",
       "17.033986        77\n",
       "18.197412        65\n",
       "17.118360        64\n",
       "17.117992        62\n",
       "17.341283        54\n",
       "17.504140        51\n",
       "18.022886        46\n",
       "14.503645        44\n",
       "16.906098        40\n",
       "17.175191        40\n",
       "17.398474        39\n",
       "17.229624        39\n",
       "16.682841        38\n",
       "17.229295        37\n",
       "17.147001        37\n",
       "16.379690        37\n",
       "17.280934        37\n",
       "              ...  \n",
       "16.886350         1\n",
       "19.134415         1\n",
       "21.799500         1\n",
       "19.408063         1\n",
       "18.221986         1\n",
       "17.337745         1\n",
       "17.756510         1\n",
       "20.937611         1\n",
       "17.130060         1\n",
       "19.109368         1\n",
       "18.827611         1\n",
       "18.270207         1\n",
       "17.577408         1\n",
       "16.922337         1\n",
       "19.833130         1\n",
       "16.959663         1\n",
       "19.327729         1\n",
       "19.941069         1\n",
       "17.902831         1\n",
       "17.777656         1\n",
       "16.921442         1\n",
       "19.790973         1\n",
       "18.336429         1\n",
       "19.536445         1\n",
       "17.932432         1\n",
       "19.028597         1\n",
       "17.194121         1\n",
       "18.112524         1\n",
       "20.434650         1\n",
       "19.926157         1\n",
       "Name: transactionRevenue, Length: 5333, dtype: int64"
      ]
     },
     "execution_count": 61,
     "metadata": {},
     "output_type": "execute_result"
    }
   ],
   "source": [
    "train_df['transactionRevenue'].value_counts()"
   ]
  },
  {
   "cell_type": "code",
   "execution_count": null,
   "metadata": {
    "collapsed": true
   },
   "outputs": [],
   "source": []
  },
  {
   "cell_type": "code",
   "execution_count": 62,
   "metadata": {},
   "outputs": [
    {
     "data": {
      "text/plain": [
       "'hits'"
      ]
     },
     "execution_count": 62,
     "metadata": {},
     "output_type": "execute_result"
    }
   ],
   "source": [
    "'hits'"
   ]
  },
  {
   "cell_type": "code",
   "execution_count": 63,
   "metadata": {},
   "outputs": [
    {
     "data": {
      "text/plain": [
       "1      446754\n",
       "2      137952\n",
       "3       70402\n",
       "4       42444\n",
       "5       30939\n",
       "6       23918\n",
       "7       19518\n",
       "8       15484\n",
       "9       12959\n",
       "10      10640\n",
       "11       9264\n",
       "12       7879\n",
       "13       6881\n",
       "14       6194\n",
       "15       5384\n",
       "16       4716\n",
       "17       4130\n",
       "18       3755\n",
       "19       3291\n",
       "20       3064\n",
       "21       2798\n",
       "22       2477\n",
       "23       2190\n",
       "24       2126\n",
       "25       1925\n",
       "26       1718\n",
       "27       1504\n",
       "28       1406\n",
       "29       1291\n",
       "30       1289\n",
       "        ...  \n",
       "224         1\n",
       "292         1\n",
       "347         1\n",
       "204         1\n",
       "471         1\n",
       "331         1\n",
       "203         1\n",
       "483         1\n",
       "246         1\n",
       "406         1\n",
       "291         1\n",
       "386         1\n",
       "180         1\n",
       "195         1\n",
       "247         1\n",
       "273         1\n",
       "178         1\n",
       "307         1\n",
       "251         1\n",
       "303         1\n",
       "361         1\n",
       "210         1\n",
       "259         1\n",
       "353         1\n",
       "387         1\n",
       "217         1\n",
       "282         1\n",
       "333         1\n",
       "382         1\n",
       "340         1\n",
       "Name: hits, Length: 274, dtype: int64"
      ]
     },
     "execution_count": 63,
     "metadata": {},
     "output_type": "execute_result"
    }
   ],
   "source": [
    "train_df['hits'].value_counts()"
   ]
  },
  {
   "cell_type": "code",
   "execution_count": null,
   "metadata": {
    "collapsed": true
   },
   "outputs": [],
   "source": []
  },
  {
   "cell_type": "code",
   "execution_count": 64,
   "metadata": {},
   "outputs": [
    {
     "data": {
      "text/plain": [
       "'pageviews'"
      ]
     },
     "execution_count": 64,
     "metadata": {},
     "output_type": "execute_result"
    }
   ],
   "source": [
    "'pageviews'"
   ]
  },
  {
   "cell_type": "code",
   "execution_count": 65,
   "metadata": {},
   "outputs": [
    {
     "data": {
      "text/plain": [
       "1      452522\n",
       "2      143770\n",
       "3       73835\n",
       "4       45192\n",
       "5       33411\n",
       "6       24688\n",
       "7       19476\n",
       "8       15272\n",
       "9       12585\n",
       "10      10104\n",
       "11       8671\n",
       "12       7097\n",
       "13       6197\n",
       "14       5291\n",
       "15       4720\n",
       "16       4010\n",
       "17       3511\n",
       "18       3150\n",
       "19       2682\n",
       "20       2409\n",
       "21       2211\n",
       "22       1949\n",
       "23       1722\n",
       "24       1567\n",
       "25       1413\n",
       "26       1318\n",
       "27       1143\n",
       "28       1091\n",
       "29        875\n",
       "30        873\n",
       "        ...  \n",
       "164         1\n",
       "162         1\n",
       "196         1\n",
       "223         1\n",
       "343         1\n",
       "155         1\n",
       "151         1\n",
       "232         1\n",
       "197         1\n",
       "309         1\n",
       "431         1\n",
       "220         1\n",
       "358         1\n",
       "429         1\n",
       "136         1\n",
       "154         1\n",
       "174         1\n",
       "327         1\n",
       "215         1\n",
       "210         1\n",
       "190         1\n",
       "191         1\n",
       "233         1\n",
       "469         1\n",
       "466         1\n",
       "270         1\n",
       "142         1\n",
       "275         1\n",
       "333         1\n",
       "340         1\n",
       "Name: pageviews, Length: 214, dtype: int64"
      ]
     },
     "execution_count": 65,
     "metadata": {},
     "output_type": "execute_result"
    }
   ],
   "source": [
    "train_df['pageviews'].value_counts()"
   ]
  },
  {
   "cell_type": "code",
   "execution_count": null,
   "metadata": {
    "collapsed": true
   },
   "outputs": [],
   "source": []
  },
  {
   "cell_type": "code",
   "execution_count": 66,
   "metadata": {},
   "outputs": [
    {
     "data": {
      "text/plain": [
       "'newVisits'"
      ]
     },
     "execution_count": 66,
     "metadata": {},
     "output_type": "execute_result"
    }
   ],
   "source": [
    "'newVisits'"
   ]
  },
  {
   "cell_type": "code",
   "execution_count": 67,
   "metadata": {},
   "outputs": [
    {
     "data": {
      "text/plain": [
       "1         703060\n",
       "no_key    200593\n",
       "Name: newVisits, dtype: int64"
      ]
     },
     "execution_count": 67,
     "metadata": {},
     "output_type": "execute_result"
    }
   ],
   "source": [
    "train_df['newVisits'].value_counts()"
   ]
  },
  {
   "cell_type": "code",
   "execution_count": 68,
   "metadata": {},
   "outputs": [
    {
     "data": {
      "text/plain": [
       "<matplotlib.axes._subplots.AxesSubplot at 0x1a6869e80>"
      ]
     },
     "execution_count": 68,
     "metadata": {},
     "output_type": "execute_result"
    },
    {
     "data": {
      "image/png": "[encoded data removed]",
      "text/plain": [
       "<matplotlib.figure.Figure at 0x1cfa90160>"
      ]
     },
     "metadata": {},
     "output_type": "display_data"
    }
   ],
   "source": [
    "%matplotlib inline\n",
    "train_df.newVisits.hist(bins=3, figsize=(4,4))"
   ]
  },
  {
   "cell_type": "code",
   "execution_count": 69,
   "metadata": {},
   "outputs": [
    {
     "data": {
      "text/plain": [
       "'medium'"
      ]
     },
     "execution_count": 69,
     "metadata": {},
     "output_type": "execute_result"
    }
   ],
   "source": [
    "'medium'"
   ]
  },
  {
   "cell_type": "code",
   "execution_count": 70,
   "metadata": {},
   "outputs": [
    {
     "data": {
      "text/plain": [
       "organic      381561\n",
       "referral     330955\n",
       "(none)       143026\n",
       "cpc           25326\n",
       "affiliate     16403\n",
       "cpm            6262\n",
       "(not set)       120\n",
       "Name: medium, dtype: int64"
      ]
     },
     "execution_count": 70,
     "metadata": {},
     "output_type": "execute_result"
    }
   ],
   "source": [
    "train_df['medium'].value_counts()"
   ]
  },
  {
   "cell_type": "code",
   "execution_count": 71,
   "metadata": {},
   "outputs": [
    {
     "data": {
      "text/plain": [
       "<matplotlib.axes._subplots.AxesSubplot at 0x1a688b710>"
      ]
     },
     "execution_count": 71,
     "metadata": {},
     "output_type": "execute_result"
    },
    {
     "data": {
      "image/png": "[encoded data removed]",
      "text/plain": [
       "<matplotlib.figure.Figure at 0x1a688f780>"
      ]
     },
     "metadata": {},
     "output_type": "display_data"
    }
   ],
   "source": [
    "%matplotlib inline\n",
    "train_df.medium.hist(bins=40, figsize=(10,4))"
   ]
  },
  {
   "cell_type": "code",
   "execution_count": 72,
   "metadata": {},
   "outputs": [
    {
     "data": {
      "text/plain": [
       "'campaign'"
      ]
     },
     "execution_count": 72,
     "metadata": {},
     "output_type": "execute_result"
    }
   ],
   "source": [
    "'campaign'"
   ]
  },
  {
   "cell_type": "code",
   "execution_count": 73,
   "metadata": {},
   "outputs": [
    {
     "data": {
      "text/plain": [
       "(not set)                                          865347\n",
       "Data Share Promo                                    16403\n",
       "AW - Dynamic Search Ads Whole Site                  14244\n",
       "AW - Accessories                                     7070\n",
       "test-liyuhz                                           392\n",
       "AW - Electronics                                       96\n",
       "Retail (DO NOT EDIT owners nophakun and tianyu)        50\n",
       "AW - Apparel                                           46\n",
       "All Products                                            4\n",
       "Data Share                                              1\n",
       "Name: campaign, dtype: int64"
      ]
     },
     "execution_count": 73,
     "metadata": {},
     "output_type": "execute_result"
    }
   ],
   "source": [
    "train_df['campaign'].value_counts()"
   ]
  },
  {
   "cell_type": "code",
   "execution_count": 74,
   "metadata": {},
   "outputs": [
    {
     "data": {
      "text/plain": [
       "<matplotlib.axes._subplots.AxesSubplot at 0x1b1312198>"
      ]
     },
     "execution_count": 74,
     "metadata": {},
     "output_type": "execute_result"
    },
    {
     "data": {
      "image/png": "[encoded data removed]",
      "text/plain": [
       "<matplotlib.figure.Figure at 0x1a6ac2320>"
      ]
     },
     "metadata": {},
     "output_type": "display_data"
    }
   ],
   "source": [
    "%matplotlib inline\n",
    "train_df.campaign.hist(bins=20, figsize=(40,1))"
   ]
  },
  {
   "cell_type": "code",
   "execution_count": 75,
   "metadata": {},
   "outputs": [
    {
     "data": {
      "text/plain": [
       "'referralPath'"
      ]
     },
     "execution_count": 75,
     "metadata": {},
     "output_type": "execute_result"
    }
   ],
   "source": [
    "'referralPath'"
   ]
  },
  {
   "cell_type": "code",
   "execution_count": 76,
   "metadata": {},
   "outputs": [
    {
     "data": {
      "text/plain": [
       "no_key                                                                                                                                                                          572712\n",
       "/                                                                                                                                                                                75523\n",
       "/yt/about/                                                                                                                                                                       71036\n",
       "/analytics/web/                                                                                                                                                                  14620\n",
       "/yt/about/tr/                                                                                                                                                                    14599\n",
       "/yt/about/vi/                                                                                                                                                                    13753\n",
       "/yt/about/es-419/                                                                                                                                                                12735\n",
       "/yt/about/pt-BR/                                                                                                                                                                 12003\n",
       "/yt/about/th/                                                                                                                                                                    11430\n",
       "/yt/about/ru/                                                                                                                                                                    11193\n",
       "/yt/about/es/                                                                                                                                                                     7092\n",
       "/yt/about/en-GB/                                                                                                                                                                  6576\n",
       "/yt/about/fr/                                                                                                                                                                     5704\n",
       "/yt/about/ja/                                                                                                                                                                     4679\n",
       "/permissions/using-the-logo.html                                                                                                                                                  4365\n",
       "/yt/about/ar/                                                                                                                                                                     4280\n",
       "/yt/about/pl/                                                                                                                                                                     3617\n",
       "/yt/about/de/                                                                                                                                                                     2860\n",
       "/yt/about/zh-TW/                                                                                                                                                                  2799\n",
       "/yt/about/ro/                                                                                                                                                                     2139\n",
       "/od/Things-To-Do-in-Silicon-Valley/fl/How-To-Visit-the-Googleplex-the-Google-Head-Office-in-Mountain-View.htm                                                                     2056\n",
       "/yt/about/ko/                                                                                                                                                                     2036\n",
       "/yt/about/it/                                                                                                                                                                     2012\n",
       "/yt/about/id/                                                                                                                                                                     1888\n",
       "/YKEI_mrn/items/c10b14f9a69ff71b1b7a                                                                                                                                              1784\n",
       "/analytics/web/inpage_launch                                                                                                                                                      1638\n",
       "/a/google.com/googletopia/discounts-deals-and-free-stuff/alphabet-google-discounts                                                                                                1118\n",
       "/offer/2145                                                                                                                                                                       1064\n",
       "/yt/about/iw/                                                                                                                                                                     1053\n",
       "/mail/u/0/                                                                                                                                                                        1034\n",
       "                                                                                                                                                                                 ...  \n",
       "/i/subscription/feed/http://www.analyticsforfun.com/feeds/posts/default                                                                                                              1\n",
       "/mail/mu/mp/207/                                                                                                                                                                     1\n",
       "/r/HomeImprovement/comments/5acczs/how_to_temporarily_screen_an_apartment_balcony_to/.compact                                                                                        1\n",
       "/mail/mu/mp/509/                                                                                                                                                                     1\n",
       "/How-do-I-get-a-Google-I-O-t-shirt/answer/Udit-Sharma-67                                                                                                                             1\n",
       "/ads/richmedia/studio/pv2/47510600/20170214164523408/index.html                                                                                                                      1\n",
       "/mail/mu/mp/54/                                                                                                                                                                      1\n",
       "/ads/richmedia/studio/pv2/45678672/dirty/index.html                                                                                                                                  1\n",
       "/mail/mu/mp/733/                                                                                                                                                                     1\n",
       "/7KS863JwBM                                                                                                                                                                          1\n",
       "/mail/mu/mp/594/                                                                                                                                                                     1\n",
       "/webmasters/tools/external-links-domain-and-page                                                                                                                                     1\n",
       "/d81jE8S5r2                                                                                                                                                                          1\n",
       "/intl/pt-PT/permissions/using-the-logo.html                                                                                                                                          1\n",
       "/GavxdC1ggY                                                                                                                                                                          1\n",
       "/hangouts/_/google.com/tccmofficehours                                                                                                                                               1\n",
       "/from=844b/bd_page_type=1/ssid=0/uid=0/pu=usm%402%2Csz%40320_1001%2Cta%40iphone_2_7.1_3_537/baiduid=0908938C3222AB283E0340CF8FE8ACB1/w=0_10_/t=iphone/l=3/tc                         1\n",
       "/intl/ro/yt/about/policies/                                                                                                                                                          1\n",
       "/intl/sl/yt/about/press/                                                                                                                                                             1\n",
       "/debug/snapchat-beach-towel/                                                                                                                                                         1\n",
       "/pt-BR/golangbr/events/226482468/                                                                                                                                                    1\n",
       "/ads/richmedia/studio/pv2/45534587/dirty/index.html                                                                                                                                  1\n",
       "/_/scs/mail-static/_/js/k=gmail.main.en.sXDiEpUnPe0.O/m=m_i,t/am=nhGvDGD-3_uDcQ3DgK701brz33--fyo7ernH_ycCROlVoP_N_h_A_4H8tI0C/rt=h/d=1/rs=AHGWq9C6XBb3nGaWWdKKp6-fnmm8jhLQIg         1\n",
       "/intl/bg/yt/about/policies/                                                                                                                                                          1\n",
       "/hangouts/_/shopify.com/norm-macdonald                                                                                                                                               1\n",
       "/hangouts/_/vf7lnbfgsffyvlhzcw7f4lrthue                                                                                                                                              1\n",
       "/ads/richmedia/studio/pv2/45759691/20160930132305425/index.html                                                                                                                      1\n",
       "/mail/mu/mp/336/                                                                                                                                                                     1\n",
       "/i/entry/J8RgRC2V32tUb0LLykaIdq+bSFhis8T3xqVO9X3fAr0=_156519871fb:a3bad7:944ed58e                                                                                                    1\n",
       "/from=1086k/bd_page_type=1/ssid=0/uid=0/pu=usm%403%2Csz%401320_1002%2Cta%40iphone_2_4.4_2_7.1/baiduid=CB4F7AAB0B33F4F7CFB962AFB3A3D6A6/w=0_10_/t=iphone/l=3/tc                       1\n",
       "Name: referralPath, Length: 1476, dtype: int64"
      ]
     },
     "execution_count": 76,
     "metadata": {},
     "output_type": "execute_result"
    }
   ],
   "source": [
    "train_df['referralPath'].value_counts()"
   ]
  },
  {
   "cell_type": "code",
   "execution_count": 77,
   "metadata": {},
   "outputs": [
    {
     "data": {
      "text/plain": [
       "'isTrueDirect'"
      ]
     },
     "execution_count": 77,
     "metadata": {},
     "output_type": "execute_result"
    }
   ],
   "source": [
    "'isTrueDirect'"
   ]
  },
  {
   "cell_type": "code",
   "execution_count": 78,
   "metadata": {},
   "outputs": [
    {
     "data": {
      "text/plain": [
       "no_key    629648\n",
       "True      274005\n",
       "Name: isTrueDirect, dtype: int64"
      ]
     },
     "execution_count": 78,
     "metadata": {},
     "output_type": "execute_result"
    }
   ],
   "source": [
    "train_df['isTrueDirect'].value_counts()"
   ]
  },
  {
   "cell_type": "code",
   "execution_count": 79,
   "metadata": {},
   "outputs": [
    {
     "data": {
      "text/plain": [
       "<matplotlib.axes._subplots.AxesSubplot at 0x1c4e1ce80>"
      ]
     },
     "execution_count": 79,
     "metadata": {},
     "output_type": "execute_result"
    },
    {
     "data": {
      "image/png": "[encoded data removed]",
      "text/plain": [
       "<matplotlib.figure.Figure at 0x1cfa90e48>"
      ]
     },
     "metadata": {},
     "output_type": "display_data"
    }
   ],
   "source": [
    "%matplotlib inline\n",
    "train_df.isTrueDirect.hist(bins=3, figsize=(4,4))"
   ]
  },
  {
   "cell_type": "code",
   "execution_count": 80,
   "metadata": {},
   "outputs": [
    {
     "data": {
      "text/plain": [
       "'keyword'"
      ]
     },
     "execution_count": 80,
     "metadata": {},
     "output_type": "execute_result"
    }
   ],
   "source": [
    "'keyword'"
   ]
  },
  {
   "cell_type": "code",
   "execution_count": 81,
   "metadata": {},
   "outputs": [
    {
     "data": {
      "text/plain": [
       "no_key                                       502929\n",
       "(not provided)                               366363\n",
       "6qEhsCssdK0z36ri                              11503\n",
       "(Remarketing/Content targeting)                2298\n",
       "1hZbAqLCbjwfgOH7                               2264\n",
       "google merchandise store                       2209\n",
       "Google Merchandise                             1648\n",
       "google store                                   1277\n",
       "youtube                                         568\n",
       "(User vertical targeting)                       489\n",
       "1X4Me6ZKNV0zg-jV                                467\n",
       "(automatic matching)                            427\n",
       "+google +store                                  377\n",
       "+Google +Merchandise                            352\n",
       "(content targeting)                             299\n",
       "+google +merchandise +store                     258\n",
       "YouTube Merchandise                             254\n",
       "youtube merch                                   247\n",
       "google merchandise                              238\n",
       "google merch                                    210\n",
       "Youtube                                         166\n",
       "+Google +Products                               148\n",
       "https://www.googlemerchandisestore.com/         135\n",
       "google shop                                     135\n",
       "Arts & Entertainment                            126\n",
       "google online store                             111\n",
       "youtube t shirt                                 107\n",
       "+YouTube +Merchandise                           102\n",
       "+youtube +merch                                 102\n",
       "google t shirt                                  101\n",
       "                                              ...  \n",
       "YouTube brand t shirt                             1\n",
       "www.co.uk google store                            1\n",
       "google developer t shirts                         1\n",
       "youtube logo water bottle                         1\n",
       "red google mug                                    1\n",
       "GOOGLE T-SHRT                                     1\n",
       "google printed t shirts india                     1\n",
       "womens vintage t shirts                           1\n",
       "googke t shirt                                    1\n",
       "Nokia305 store.com YouTube                        1\n",
       "okay google youtube                               1\n",
       "google play bag                                   1\n",
       "urban peak caps headwear 24                       1\n",
       "googleonlinestore                                 1\n",
       "google pet                                        1\n",
       "google usa website                                1\n",
       "YORUB                                             1\n",
       "google shopping bag                               1\n",
       "yutobbe                                           1\n",
       "buy t shirt written google                        1\n",
       "precious cargo sticker for cars                   1\n",
       "totes                                             1\n",
       "yuotuybe                                          1\n",
       "poori vah de tesart                               1\n",
       "red t shirt woman                                 1\n",
       "google speaker accessories                        1\n",
       "Lotto t shirt সামনে পেন্ট আর পেছনে ইসটাইপ         1\n",
       "online merchandise stores                         1\n",
       "ww.w.google                                       1\n",
       "t shirts for men                                  1\n",
       "Name: keyword, Length: 3660, dtype: int64"
      ]
     },
     "execution_count": 81,
     "metadata": {},
     "output_type": "execute_result"
    }
   ],
   "source": [
    "train_df['keyword'].value_counts()"
   ]
  },
  {
   "cell_type": "code",
   "execution_count": 82,
   "metadata": {},
   "outputs": [
    {
     "data": {
      "text/plain": [
       "'adContent'"
      ]
     },
     "execution_count": 82,
     "metadata": {},
     "output_type": "execute_result"
    }
   ],
   "source": [
    "'adContent'"
   ]
  },
  {
   "cell_type": "code",
   "execution_count": 83,
   "metadata": {},
   "outputs": [
    {
     "data": {
      "text/plain": [
       "no_key                                         892707\n",
       "Google Merchandise Collection                    5122\n",
       "Google Online Store                              1245\n",
       "Display Ad created 3/11/14                        967\n",
       "Full auto ad IMAGE ONLY                           822\n",
       "Ad from 12/13/16                                  610\n",
       "Ad from 11/3/16                                   489\n",
       "Display Ad created 3/11/15                        392\n",
       "{KeyWord:Google Brand Items}                      251\n",
       "{KeyWord:Google Merchandise}                      155\n",
       "Ad from 11/7/16                                   123\n",
       "Google Merchandise                                 87\n",
       "First Full Auto Template Test Ad                   87\n",
       "20% discount                                       75\n",
       "{KeyWord:Google Branded Gear}                      67\n",
       "{KeyWord:Looking for Google Bags?}                 65\n",
       "Swag with Google Logos                             64\n",
       "Display Ad created 11/17/14                        50\n",
       "{KeyWord:Want Google Stickers?}                    42\n",
       "JD_5a_v1                                           41\n",
       "{KeyWord:Google Drinkware}                         32\n",
       "{KeyWord:Google Men's T-Shirts}                    30\n",
       "LeEco_1a                                           25\n",
       "{KeyWord:Google Branded Kit}                       16\n",
       "Full auto ad TEXT ONLY                             16\n",
       "{KeyWord:Google Branded Apparel}                   10\n",
       "Want Google Sunglasses                              8\n",
       "Google Paraphernalia                                7\n",
       "Full auto ad TEXT/NATIVE                            7\n",
       "{KeyWord:Google Branded Outerwear}                  5\n",
       "Google Store                                        4\n",
       "Official Google Merchandise - Fast Shipping         4\n",
       "{KeyWord:Want Google Pet Toys?}                     4\n",
       "Full auto ad with Primary Color                     3\n",
       "Full auto ad NATIVE ONLY                            3\n",
       "url_builder                                         3\n",
       "free shipping                                       3\n",
       "Ad from 2/17/17                                     3\n",
       "Free Shipping!                                      2\n",
       "Google store                                        2\n",
       "Swag w/ Google Logos                                1\n",
       "visit us again                                      1\n",
       "google store                                        1\n",
       "GA Help Center                                      1\n",
       "Men's-Outerwear Google Apparel                      1\n",
       "Name: adContent, dtype: int64"
      ]
     },
     "execution_count": 83,
     "metadata": {},
     "output_type": "execute_result"
    }
   ],
   "source": [
    "train_df['adContent'].value_counts()"
   ]
  },
  {
   "cell_type": "code",
   "execution_count": null,
   "metadata": {
    "collapsed": true
   },
   "outputs": [],
   "source": []
  },
  {
   "cell_type": "code",
   "execution_count": 84,
   "metadata": {},
   "outputs": [
    {
     "data": {
      "text/plain": [
       "'source'"
      ]
     },
     "execution_count": 84,
     "metadata": {},
     "output_type": "execute_result"
    }
   ],
   "source": [
    "'source'"
   ]
  },
  {
   "cell_type": "code",
   "execution_count": 85,
   "metadata": {},
   "outputs": [
    {
     "data": {
      "text/plain": [
       "google                                               400788\n",
       "youtube.com                                          212602\n",
       "(direct)                                             143028\n",
       "mall.googleplex.com                                   66416\n",
       "Partners                                              16411\n",
       "analytics.google.com                                  16172\n",
       "dfa                                                    5686\n",
       "google.com                                             4669\n",
       "m.facebook.com                                         3365\n",
       "baidu                                                  3356\n",
       "sites.google.com                                       2983\n",
       "facebook.com                                           2296\n",
       "siliconvalley.about.com                                2097\n",
       "reddit.com                                             2022\n",
       "qiita.com                                              1813\n",
       "quora.com                                              1546\n",
       "bing                                                   1530\n",
       "t.co                                                   1529\n",
       "yahoo                                                  1480\n",
       "mail.google.com                                        1457\n",
       "gdeals.googleplex.com                                  1063\n",
       "groups.google.com                                      1025\n",
       "l.facebook.com                                          795\n",
       "blog.golang.org                                         742\n",
       "dealspotr.com                                           528\n",
       "plus.google.com                                         524\n",
       "moma.corp.google.com                                    419\n",
       "docs.google.com                                         388\n",
       "productforums.google.com                                364\n",
       "google.co.jp                                            356\n",
       "                                                      ...  \n",
       "pinpoint.corp.google.com                                  1\n",
       "nl.yhs4.search.yahoo.com                                  1\n",
       "gsuite.google.com                                         1\n",
       "fr.yhs4.search.yahoo.com                                  1\n",
       "web.whatsapp.com                                          1\n",
       "0.shared.bow.cat2.ads-bow.lf.borg.google.com:9879         1\n",
       "newsstand.google.com                                      1\n",
       "0.shared.bow.cat2.ads-bow.qk.borg.google.com:9831         1\n",
       "invincible.mtv.corp.google.com:8080                       1\n",
       "google.com.sa                                             1\n",
       "0.shared.bow.cat2.ads-bow.qk.borg.google.com:9899         1\n",
       "0.shared.bow.cat2.ads-bow.yw.borg.google.com:9859         1\n",
       "0.shared.bow.cat2.ads-bow.yw.borg.google.com:9847         1\n",
       "benkraft.mtv.corp.google.com:9000                         1\n",
       "espanol.search.yahoo.com                                  1\n",
       "cases2.corp.google.com                                    1\n",
       "mx.search.yahoo.com                                       1\n",
       "images.google.co.in                                       1\n",
       "0.shared.bow.cat2.ads-bow.qk.borg.google.com:9885         1\n",
       "0.shared.bow.cat2.ads-bow.tl.borg.google.com:9847         1\n",
       "images.google.pt                                          1\n",
       "cse.google.com                                            1\n",
       "s7-eu4.ixquick.com                                        1\n",
       "plusapp-autopush.corp.google.com                          1\n",
       "blackboard.neu.edu                                        1\n",
       "hk.search.yahoo.com                                       1\n",
       "meetup.com                                                1\n",
       "yahoo.com                                                 1\n",
       "earth.google.com                                          1\n",
       "news.ycombinator.com                                      1\n",
       "Name: source, Length: 380, dtype: int64"
      ]
     },
     "execution_count": 85,
     "metadata": {},
     "output_type": "execute_result"
    }
   ],
   "source": [
    "train_df['source'].value_counts()"
   ]
  },
  {
   "cell_type": "code",
   "execution_count": 86,
   "metadata": {},
   "outputs": [
    {
     "data": {
      "text/plain": [
       "'slot'"
      ]
     },
     "execution_count": 86,
     "metadata": {},
     "output_type": "execute_result"
    }
   ],
   "source": [
    "'slot'"
   ]
  },
  {
   "cell_type": "code",
   "execution_count": 87,
   "metadata": {},
   "outputs": [
    {
     "data": {
      "text/plain": [
       "no_key    882193\n",
       "Top        20956\n",
       "RHS          504\n",
       "Name: slot, dtype: int64"
      ]
     },
     "execution_count": 87,
     "metadata": {},
     "output_type": "execute_result"
    }
   ],
   "source": [
    "train_df['slot'].value_counts()"
   ]
  },
  {
   "cell_type": "code",
   "execution_count": 88,
   "metadata": {},
   "outputs": [
    {
     "data": {
      "text/plain": [
       "<matplotlib.axes._subplots.AxesSubplot at 0x1c4e2c198>"
      ]
     },
     "execution_count": 88,
     "metadata": {},
     "output_type": "execute_result"
    },
    {
     "data": {
      "image/png": "[encoded data removed]",
      "text/plain": [
       "<matplotlib.figure.Figure at 0x1c4e2f0f0>"
      ]
     },
     "metadata": {},
     "output_type": "display_data"
    }
   ],
   "source": [
    "%matplotlib inline\n",
    "train_df.slot.hist(bins=10, figsize=(10,4))"
   ]
  },
  {
   "cell_type": "code",
   "execution_count": 89,
   "metadata": {},
   "outputs": [
    {
     "data": {
      "text/plain": [
       "'adNetworkType'"
      ]
     },
     "execution_count": 89,
     "metadata": {},
     "output_type": "execute_result"
    }
   ],
   "source": [
    "'adNetworkType'"
   ]
  },
  {
   "cell_type": "code",
   "execution_count": 90,
   "metadata": {},
   "outputs": [
    {
     "data": {
      "text/plain": [
       "no_key             882193\n",
       "Google Search       21453\n",
       "Search partners         7\n",
       "Name: adNetworkType, dtype: int64"
      ]
     },
     "execution_count": 90,
     "metadata": {},
     "output_type": "execute_result"
    }
   ],
   "source": [
    "train_df['adNetworkType'].value_counts()"
   ]
  },
  {
   "cell_type": "code",
   "execution_count": 91,
   "metadata": {},
   "outputs": [
    {
     "data": {
      "text/plain": [
       "<matplotlib.axes._subplots.AxesSubplot at 0x1c4f73d68>"
      ]
     },
     "execution_count": 91,
     "metadata": {},
     "output_type": "execute_result"
    },
    {
     "data": {
      "image/png": "[encoded data removed]",
      "text/plain": [
       "<matplotlib.figure.Figure at 0x1c4d766a0>"
      ]
     },
     "metadata": {},
     "output_type": "display_data"
    }
   ],
   "source": [
    "%matplotlib inline\n",
    "train_df.adNetworkType.hist(bins=10, figsize=(10,4))"
   ]
  },
  {
   "cell_type": "code",
   "execution_count": 92,
   "metadata": {},
   "outputs": [
    {
     "data": {
      "text/plain": [
       "'gclId'"
      ]
     },
     "execution_count": 92,
     "metadata": {},
     "output_type": "execute_result"
    }
   ],
   "source": [
    "'gclId'"
   ]
  },
  {
   "cell_type": "code",
   "execution_count": 145,
   "metadata": {},
   "outputs": [
    {
     "data": {
      "text/plain": [
       "no_key                                                                                          11059\n",
       "CjwKEAiAj7TCBRCp2Z22ue-zrj4SJACG7SBExAsUjtkXuYAawLBg74jzCi7nH6wWoAshJH2ZmSvBABoCiALw_wcB            3\n",
       "Cj0KEQjw-73GBRCC7KODl9zToJMBEiQAj1Jgf4L-TvGf-14G-liUxzP7_Q4OI1bRc9np2-EnmI0-InsaAq108P8HAQ          3\n",
       "CjwKCAjwuOHHBRBmEiwAlEMW0B4j09Ol1dHOsKhSIJYpaA6fO2uZCAwUd6PriyuM10PHNpP90JfRrRoCcxwQAvD_BwE         3\n",
       "Cj0KEQjw4fy_BRCX7b6rq_WZgI0BEiQAl78ndxq9PGCMhcb72UXFt_ZDi6330mAni4I_mqPZiQK_urIaAh6D8P8HAQ          2\n",
       "Cj0KEQjwyJi_BRDLusby7_S7z-IBEiQAwCVvn3sj5cAWZcs1LF7NgsIauUQiwnL4CKF1boMcu0W8YrEaAhdj8P8HAQ          2\n",
       "CjwKEAiAqJjDBRCG5KK6hq_juDwSJABRm03hn2fl7S-eRJYB48F0hYGU1g6DcZ4FZMH3Gl_rHkrdtBoCMKTw_wcB            2\n",
       "CjwKEAjwse7JBRCJ576SqoD7lCkSJABF-bKu8D8PN52p1AIcZjQ4I8I_saTnfpL5ilhIk8uNP50X_xoCle7w_wcB            2\n",
       "CI2Tw4qu0tQCFQOMaQodjx8P2g                                                                          2\n",
       "CP3V2f3ty9ACFc1XDQoduy8AAQ                                                                          2\n",
       "CjwKEAjwwOvABRC08aedoZ_lnTMSJACs_cbuvO-lkchDMCCv8ny7UpX5q5pI_iZK1F4LP393wdlEDxoCQcfw_wcB            2\n",
       "CjwKEAiA1ITCBRDO-oLA-q_n8xYSJADjBQfGU_dmB736N6xbPcU0cfTB9aN3OaTNaLUe4mdTYkUJxBoCnpnw_wcB            2\n",
       "Cj0KCQjw9_jJBRCXARIsAG2GTTuMwSwE_STLaxJzs9C98XeNZjoXQYG7NwEJGc26Dd7z8D2H7M85yKgaAumWEALw_wcB        2\n",
       "Cj0KEQjw7dfKBRCdkKrvmfKtyeoBEiQAch0egevYIdXxhHoAm5HZE1KNbC0Bj-QO8dvn1kWY24doU18aAmql8P8HAQ          2\n",
       "CjwKEAiAg5_CBRDo4o6e4o3NtG0SJAB-IatYsmLvjIBeT-LNpt5k-c0ihlF64Sqyu8XlljPSWNGZExoCvZTw_wcB            1\n",
       "CjwKEAiAgavBBRCA7ZbggrLSkUcSJACWDexAihwoWv1OOk1kquri5fZ4x2pe01VvnmH4gYjDF51fPxoCZo_w_wcB            1\n",
       "CjwKEAiAvZTCBRDvnoOaoa2j3xISJABxPjN9uSVWkTPWOk_SPfQDuaVWOTCyX5KV43DFOKjTG-VKdxoC_5jw_wcB            1\n",
       "CJSZ98_Ugc8CFUZgfgodtGwC1w                                                                          1\n",
       "CKigkI7gqNACFQlWDQod3ZgCMA                                                                          1\n",
       "CjwKEAjwtNbABRCsqO7J0_uJxWYSJAAiVo5LN7oolxWFz7RCvsnbynEOuRCCaElwnlnBLAqaE54HbxoCcWrw_wcB            1\n",
       "Cj0KCQjwnubLBRC_ARIsAASsNNlM1MsXma0g9lNXAnQcrCfm7R-ItFTG1tZ-HfhAjCEm4u5Qp2rduIoaArxIEALw_wcB        1\n",
       "CjwKEAjwuo--BRDDws3x65LL7h8SJABEDuFRp5XPVRzU4pM_-QO79i7KOFdpyaGZCgb1aMsbVeuz3hoCDivw_wcB            1\n",
       "CjwKEAjwrvq9BRD5gLyrufTqg0YSJACcuF81CuPBoB4siMjpYmrYUeb1jzlT_b1AJ-D0gs0r1YeLVhoCu6Pw_wcB            1\n",
       "CO7ksc-CxdQCFQK4wAodUJ4EKA                                                                          1\n",
       "Cj0KEQiAsrnCBRCTs7nqwrm6pcYBEiQAcQSznK6yrlbmMXy9PEj60-Z8V4I0F9gkwDLL7lktkPrIl50aAqjW8P8HAQ          1\n",
       "EAIaIQobChMI-anb0KHW1AIVDmp-Ch15OAe1EAAYASAAEgKSh_D_BwE                                             1\n",
       "CNuNy4Dq2dQCFc26wAodGrIOMA                                                                          1\n",
       "CjwKEAiAjIbBBRCitNvJ1o257WESJADpoUt0nZIe-m-BWnN0h3UT_XVeoRTFEJtY9hIGULKMn9y6ZhoCwEjw_wcB            1\n",
       "Cj0KCQjw78vLBRCZARIsACr4cxwn7K7-Am6DWX-7Hi8ZZlbJtxrC4clPkqIOOs73JPk1xxZAq6ATjMMaAoQxEALw_wcB        1\n",
       "CjwKEAjwydK_BRDK34GenvLB61YSJACZ8da3PSF5gZHs1kwn1Dgip1kmr2KCBK-SC0GCvTY4rI1KkhoCq-Dw_wcB            1\n",
       "                                                                                                ...  \n",
       "Cj0KEQjw6am-BRCTk4WZhLfd4-oBEiQA3ydA3saxe9n7sv9tA-h5ZD25Nw1Va4ugcmg3smdjc4V0chkaAgKx8P8HAQ          1\n",
       "Cj0KEQiAyuPCBRCimuayhb3qqvwBEiQAgz62kSSxif77TTYjaAbCkKccivrEkOkd4CTDR2hkj9IHCk4aAj8F8P8HAQ          1\n",
       "EAIaIQobChMIlKyoocis1QIVhGt-Ch23UwC5EAAYASAAEgLjZvD_BwE                                             1\n",
       "CjwKEAiA2OzDBRCdqIyIqYaaqQoSJABeJZditnDlwRQKGvYpP5N3A5yO1cKcCWKR8UOaLdb0yqSY0xoC-ozw_wcB            1\n",
       "CjwKEAiAm8nCBRD7xLj-2aWFyz8SJAAQNalaE28OoB5SoeCWu66ranXu92DzUW3ZZ3zoq0tWI0DyrxoCs97w_wcB            1\n",
       "CjwKEAiA4dPCBRCM4dqhlv2R1R8SJABom9pHe3HDl2YHdhhZfAHzWN-7WnS7uwJYFA1bpMXGwW-5hBoClnHw_wcB            1\n",
       "CjwKEAjwutXIBRDV7-SDvdiNsUoSJACIlTql7Xgi1VBodephfDjlAdEO3kXDPxLK1_m9BHUn4CD-8hoCPtrw_wcB            1\n",
       "EAIaIQobChMI34rAoPrc1AIVAihpCh0klw1nEAAYAiAAEgKGsvD_BwE                                             1\n",
       "CjwKCAjw0v_IBRAEEiwA3--1NqIfPRvNwBgaTH7_pPUUpCjx5dhrmqPAlx7GpXPqpnqK3cb5zMX8ghoCcr4QAvD_BwE         1\n",
       "Cj0KEQjwg8i_BRCT9dHt5ZSGi90BEiQAItdjpKPhuF8YKJ6-i3Drb3Nz-KESQ-6g9ZlwQXvcQlSyI4MaAnkj8P8HAQ          1\n",
       "CPSX4MuHt88CFUMmhgod1X0LvA                                                                          1\n",
       "CL_W7fnRxs8CFcJZhgodS3cFNw                                                                          1\n",
       "CjwKEAjw34i_BRDH9fbylbDJw1gSJAAvIFqUAeIhvyHwGD8gZVPO2A84hOyLv2Ees0nrPMgB_1_MdRoCATPw_wcB            1\n",
       "Cj0KEQjw-73GBRCC7KODl9zToJMBEiQAj1JgfwcxarsCRb2KfG3dw7Mw0c71mDAUZzuDhUCy4OJOy78aAs0O8P8HAQ          1\n",
       "CLyW9ce2vM4CFQtqfgodw5gC7w                                                                          1\n",
       "CjwKEAiAjvrBBRDxm_nRusW3q1QSJAAzRI1t58NR4Tx40yiNaCxSnfB21px_RdnCHF805rFQrYsD1hoCnxvw_wcB            1\n",
       "CjwKEAiAjvrBBRDxm_nRusW3q1QSJAAzRI1tlnWiLaE5ZFW6sQ-NGVGkZ_zuzXqKgP6L1oa8mnqAyBoCDBHw_wcB            1\n",
       "Cj0KCQjwgtTJBRDRARIsADsXL6GrgYNJt71vGGy2daR8bHFfK2Bxr5uaswqLsdl8NTAcOcm2ej_aJQYaAk32EALw_wcB        1\n",
       "Cj0KCQjwnPLKBRC-ARIsAL_JTCzpk5YxgTdoydadfeWuSjWilLt52dOE93PKeR4kFi2oYMRSE1fCyMkaAvcBEALw_wcB        1\n",
       "CjwKCAjw6e_IBRBvEiwALor_WDi2LLG2eO35SSM8tXJUhqIA1bD9SFvJC3VlIvltcn1_2Ld2WpL0DBoCsH0QAvD_BwE         1\n",
       "CLWRkJfj_c8CFVJahgodBMsNQA                                                                          1\n",
       "CjwKEAjw34i_BRDH9fbylbDJw1gSJAAvIFqUoI3CyMHk1B-I1DhHGE8Whpv2xIa1GNSc0ARldzNugRoChQTw_wcB            1\n",
       "CjwKEAjw85DIBRCy2aT0hPmS1jkSJAC1m9UveASwA2U7CthBBPXTtwRv08Mk1TGrU3POwbsn8VZAvxoCvtDw_wcB            1\n",
       "CjwKEAjwlpbIBRCx4eT8l9W26igSJAAuQ_HG560CMoi79VbfQd4jz_35-n4-XYReTUKzlVmjouSHNxoCkzHw_wcB            1\n",
       "CjwKEAjw3KDIBRCz0KvZlJ7k4TgSJABDqOK7gqhfk7u_zkHJDa5tfIajWER6Xj_LK9QnIPYQ_rgpPhoCjdHw_wcB            1\n",
       "COuk1vWvx9ACFYKSfgodHmQOzA                                                                          1\n",
       "CjwKEAjw19vABRCY2YmkpO2OzTsSJAAzEt8sOEdoXySEuPRu87w6XC7k_8mmn4yHYxhQ5qHRZtW1whoCi27w_wcB            1\n",
       "Cj0KEQjw9IS-BRC4qZXagbLs6uMBEiQAYHBh-1H3ZSlKWsDoGXu7kve9zS0L1068qPXiFyXtmwyjrxoaAlD78P8HAQ          1\n",
       "CjwKCAjw-LLKBRAdEiwADkQzOgXMG9oQCPoN-R-irZYlz61-JaZbDt5uKA6OzLZ5zTJFlOEBC0CDLBoCrfUQAvD_BwE         1\n",
       "Cj0KCQjwhrzLBRC3ARIsAPmhsnVb3Q5nmiBPZTdUEg4DEmE0pZn950Uwcc4r9McjNPVjB4KtIEb3U-IaAlV4EALw_wcB        1\n",
       "Name: gclId, Length: 441, dtype: int64"
      ]
     },
     "execution_count": 145,
     "metadata": {},
     "output_type": "execute_result"
    }
   ],
   "source": [
    "train_df[train_df['transactionRevenue']>0]['gclId'].value_counts()"
   ]
  },
  {
   "cell_type": "code",
   "execution_count": null,
   "metadata": {
    "collapsed": true
   },
   "outputs": [],
   "source": []
  },
  {
   "cell_type": "code",
   "execution_count": 94,
   "metadata": {},
   "outputs": [
    {
     "data": {
      "text/plain": [
       "'page'"
      ]
     },
     "execution_count": 94,
     "metadata": {},
     "output_type": "execute_result"
    }
   ],
   "source": [
    "'page'"
   ]
  },
  {
   "cell_type": "code",
   "execution_count": 95,
   "metadata": {},
   "outputs": [
    {
     "data": {
      "text/plain": [
       "no_key    882193\n",
       "1          21362\n",
       "2             73\n",
       "3             10\n",
       "5              7\n",
       "7              3\n",
       "4              2\n",
       "9              2\n",
       "14             1\n",
       "Name: page, dtype: int64"
      ]
     },
     "execution_count": 95,
     "metadata": {},
     "output_type": "execute_result"
    }
   ],
   "source": [
    "train_df['page'].value_counts()"
   ]
  },
  {
   "cell_type": "code",
   "execution_count": null,
   "metadata": {
    "collapsed": true
   },
   "outputs": [],
   "source": []
  },
  {
   "cell_type": "code",
   "execution_count": 96,
   "metadata": {},
   "outputs": [
    {
     "data": {
      "text/plain": [
       "'targetingCriteria'"
      ]
     },
     "execution_count": 96,
     "metadata": {},
     "output_type": "execute_result"
    }
   ],
   "source": [
    "'targetingCriteria'"
   ]
  },
  {
   "cell_type": "code",
   "execution_count": 97,
   "metadata": {},
   "outputs": [
    {
     "data": {
      "text/plain": [
       "no_key        902193\n",
       "empty_dict      1460\n",
       "Name: targetingCriteria, dtype: int64"
      ]
     },
     "execution_count": 97,
     "metadata": {},
     "output_type": "execute_result"
    }
   ],
   "source": [
    "train_df['targetingCriteria'].value_counts()"
   ]
  },
  {
   "cell_type": "code",
   "execution_count": 98,
   "metadata": {
    "collapsed": true
   },
   "outputs": [],
   "source": [
    "#!!!!"
   ]
  },
  {
   "cell_type": "code",
   "execution_count": 99,
   "metadata": {},
   "outputs": [
    {
     "data": {
      "text/plain": [
       "'isVideoAd'"
      ]
     },
     "execution_count": 99,
     "metadata": {},
     "output_type": "execute_result"
    }
   ],
   "source": [
    "'isVideoAd'"
   ]
  },
  {
   "cell_type": "code",
   "execution_count": 100,
   "metadata": {},
   "outputs": [
    {
     "data": {
      "text/plain": [
       "no_key    882193\n",
       "False      21460\n",
       "Name: isVideoAd, dtype: int64"
      ]
     },
     "execution_count": 100,
     "metadata": {},
     "output_type": "execute_result"
    }
   ],
   "source": [
    "train_df['isVideoAd'].value_counts()"
   ]
  },
  {
   "cell_type": "code",
   "execution_count": 101,
   "metadata": {
    "collapsed": true
   },
   "outputs": [],
   "source": [
    "#!!!!"
   ]
  },
  {
   "cell_type": "code",
   "execution_count": 102,
   "metadata": {},
   "outputs": [
    {
     "data": {
      "text/plain": [
       "'weekday'"
      ]
     },
     "execution_count": 102,
     "metadata": {},
     "output_type": "execute_result"
    }
   ],
   "source": [
    "'weekday'"
   ]
  },
  {
   "cell_type": "code",
   "execution_count": 103,
   "metadata": {},
   "outputs": [
    {
     "data": {
      "text/plain": [
       "Tuesday      147279\n",
       "Wednesday    146733\n",
       "Thursday     142399\n",
       "Monday       140905\n",
       "Friday       128331\n",
       "Sunday       100360\n",
       "Saturday      97646\n",
       "Name: weekday, dtype: int64"
      ]
     },
     "execution_count": 103,
     "metadata": {},
     "output_type": "execute_result"
    }
   ],
   "source": [
    "train_df['weekday'].value_counts()"
   ]
  },
  {
   "cell_type": "code",
   "execution_count": 104,
   "metadata": {},
   "outputs": [
    {
     "data": {
      "text/plain": [
       "<matplotlib.axes._subplots.AxesSubplot at 0x1c539e208>"
      ]
     },
     "execution_count": 104,
     "metadata": {},
     "output_type": "execute_result"
    },
    {
     "data": {
      "image/png": "[encoded data removed]",
      "text/plain": [
       "<matplotlib.figure.Figure at 0x1c506f9b0>"
      ]
     },
     "metadata": {},
     "output_type": "display_data"
    }
   ],
   "source": [
    "%matplotlib inline\n",
    "train_df.weekday.hist(bins=19, figsize=(13,4))"
   ]
  },
  {
   "cell_type": "code",
   "execution_count": 105,
   "metadata": {},
   "outputs": [
    {
     "data": {
      "text/plain": [
       "'day_off'"
      ]
     },
     "execution_count": 105,
     "metadata": {},
     "output_type": "execute_result"
    }
   ],
   "source": [
    "'day_off'"
   ]
  },
  {
   "cell_type": "code",
   "execution_count": 106,
   "metadata": {},
   "outputs": [
    {
     "data": {
      "text/plain": [
       "0    705647\n",
       "1    198006\n",
       "Name: day_off, dtype: int64"
      ]
     },
     "execution_count": 106,
     "metadata": {},
     "output_type": "execute_result"
    }
   ],
   "source": [
    "train_df['day_off'].value_counts()"
   ]
  },
  {
   "cell_type": "code",
   "execution_count": 107,
   "metadata": {},
   "outputs": [
    {
     "data": {
      "text/plain": [
       "<matplotlib.axes._subplots.AxesSubplot at 0x1acd184e0>"
      ]
     },
     "execution_count": 107,
     "metadata": {},
     "output_type": "execute_result"
    },
    {
     "data": {
      "image/png": "[encoded data removed]",
      "text/plain": [
       "<matplotlib.figure.Figure at 0x1c53c5fd0>"
      ]
     },
     "metadata": {},
     "output_type": "display_data"
    }
   ],
   "source": [
    "%matplotlib inline\n",
    "train_df.day_off.hist(bins=4, figsize=(2,4))"
   ]
  },
  {
   "cell_type": "code",
   "execution_count": null,
   "metadata": {
    "collapsed": true
   },
   "outputs": [],
   "source": []
  },
  {
   "cell_type": "code",
   "execution_count": null,
   "metadata": {
    "collapsed": true
   },
   "outputs": [],
   "source": []
  }
 ],
 "metadata": {
  "kernelspec": {
   "display_name": "Python 3",
   "language": "python",
   "name": "python3"
  },
  "language_info": {
   "codemirror_mode": {
    "name": "ipython",
    "version": 3
   },
   "file_extension": ".py",
   "mimetype": "text/x-python",
   "name": "python",
   "nbconvert_exporter": "python",
   "pygments_lexer": "ipython3",
   "version": "3.6.3"
  }
 },
 "nbformat": 4,
 "nbformat_minor": 2
}
