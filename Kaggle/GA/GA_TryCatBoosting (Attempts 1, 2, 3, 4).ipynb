{
 "cells": [
  {
   "cell_type": "code",
   "execution_count": 20,
   "metadata": {
    "collapsed": true
   },
   "outputs": [],
   "source": [
    "import os\n",
    "import json\n",
    "import pickle\n",
    "import numpy as np\n",
    "import pandas as pd\n",
    "from tqdm import tqdm_notebook\n",
    "from catboost import CatBoostRegressor\n",
    "\n",
    "# Displaying pd Dataframe options\n",
    "pd.set_option('display.max_columns', 500)\n",
    "pd.set_option('display.width', 1000)\n",
    "pd.set_option('display.max_colwidth', 1000)"
   ]
  },
  {
   "cell_type": "markdown",
   "metadata": {},
   "source": [
    "# Get datas from pickle"
   ]
  },
  {
   "cell_type": "code",
   "execution_count": 21,
   "metadata": {},
   "outputs": [
    {
     "name": "stdout",
     "output_type": "stream",
     "text": [
      "CPU times: user 3.05 s, sys: 1.02 s, total: 4.07 s\n",
      "Wall time: 4.13 s\n"
     ]
    }
   ],
   "source": [
    "%%time\n",
    "train_df = pd.read_pickle('train_df.pickle')\n",
    "train_df['date'] = pd.to_datetime(train_df['date'], format='%Y%m%d')\n",
    "train_df['weekday'] = train_df['date'].dt.weekday_name\n",
    "train_df['day_off'] = (train_df['date'].dt.dayofweek > 4).astype(int)"
   ]
  },
  {
   "cell_type": "code",
   "execution_count": 22,
   "metadata": {},
   "outputs": [
    {
     "name": "stdout",
     "output_type": "stream",
     "text": [
      "CPU times: user 2.88 s, sys: 1.94 s, total: 4.82 s\n",
      "Wall time: 5.61 s\n"
     ]
    }
   ],
   "source": [
    "%%time\n",
    "test_df = pd.read_pickle('test_df.pickle')\n",
    "test_df['date'] = pd.to_datetime(test_df['date'], format='%Y%m%d')\n",
    "test_df['weekday'] = test_df['date'].dt.weekday_name\n",
    "test_df['day_off'] = (test_df['date'].dt.dayofweek > 4).astype(int)"
   ]
  },
  {
   "cell_type": "code",
   "execution_count": 23,
   "metadata": {
    "collapsed": true
   },
   "outputs": [],
   "source": [
    "def check_diff_in_dfs():\n",
    "    print('train_df \\ test_df', set(train_df.columns).difference(set(test_df.columns)))\n",
    "    print('test_df \\ train_df', set(test_df.columns).difference(set(train_df.columns)))"
   ]
  },
  {
   "cell_type": "code",
   "execution_count": 24,
   "metadata": {},
   "outputs": [
    {
     "name": "stdout",
     "output_type": "stream",
     "text": [
      "train_df \\ test_df {'transactionRevenue'}\n",
      "test_df \\ train_df set()\n"
     ]
    }
   ],
   "source": [
    "# Data revision\n",
    "check_diff_in_dfs()"
   ]
  },
  {
   "cell_type": "code",
   "execution_count": 25,
   "metadata": {
    "collapsed": true
   },
   "outputs": [],
   "source": [
    "cat_features = ['channelGrouping','isMobile','browser','deviceCategory','operatingSystem',\n",
    "               'country','region','subContinent','networkDomain','continent','newVisits',\n",
    "               'medium', 'isTrueDirect', 'source', 'isVideoAd', 'slot','page', 'day_off', \n",
    "                'weekday']\n",
    "num_features = ['visitNumber','pageviews','hits']"
   ]
  },
  {
   "cell_type": "code",
   "execution_count": 26,
   "metadata": {
    "collapsed": true
   },
   "outputs": [],
   "source": [
    "shape = train_df.shape[0]\n",
    "X_train, X_test = train_df.iloc[:int(shape*0.7),:], train_df.iloc[int(shape*0.7):,:]\n",
    "y_train, y_test = X_train['transactionRevenue'], X_test['transactionRevenue']\n",
    "\n",
    "X_train, X_test = X_train[cat_features+num_features], X_test[cat_features+num_features]\n",
    "\n",
    "X_train[num_features] = X_train[num_features].replace('no_key', 0)\n",
    "X_test[num_features] = X_test[num_features].replace('no_key', 0)"
   ]
  },
  {
   "cell_type": "code",
   "execution_count": 27,
   "metadata": {
    "collapsed": true
   },
   "outputs": [],
   "source": [
    "# зачем мы нумеруем categorical_features?\n",
    "# катбусту надо передавать индексы катфичей\n",
    "categorical_features=[i for i, x in enumerate(X_train.columns) if x in cat_features]"
   ]
  },
  {
   "cell_type": "code",
   "execution_count": 28,
   "metadata": {
    "collapsed": true
   },
   "outputs": [],
   "source": [
    "test_df = test_df[['fullVisitorId'] + cat_features + num_features]\n",
    "test_df[num_features] = test_df[num_features].replace('no_key',0).fillna(0)\n",
    "test_df[cat_features] = test_df[cat_features].fillna('other')"
   ]
  },
  {
   "cell_type": "code",
   "execution_count": 29,
   "metadata": {
    "collapsed": true
   },
   "outputs": [],
   "source": [
    "model_Cat = CatBoostRegressor(iterations=100, thread_count=4, learning_rate=0.4,\n",
    "                             depth=10, border_count=100, has_time=True,\n",
    "                             counter_calc_method='SkipTest')\n",
    "model_Cat.fit(X_train, y_train, cat_features=categorical_features)"
   ]
  },
  {
   "cell_type": "code",
   "execution_count": 30,
   "metadata": {},
   "outputs": [
    {
     "name": "stdout",
     "output_type": "stream",
     "text": [
      "0:\tlearn: 1.7550766\ttotal: 2.42s\tremaining: 3m 59s\n",
      "1:\tlearn: 1.6758252\ttotal: 5.51s\tremaining: 4m 29s\n",
      "2:\tlearn: 1.6390744\ttotal: 8.46s\tremaining: 4m 33s\n",
      "3:\tlearn: 1.6178052\ttotal: 11.1s\tremaining: 4m 26s\n",
      "4:\tlearn: 1.6068442\ttotal: 13.5s\tremaining: 4m 16s\n",
      "5:\tlearn: 1.5987508\ttotal: 16.1s\tremaining: 4m 12s\n",
      "6:\tlearn: 1.5885581\ttotal: 18.7s\tremaining: 4m 7s\n",
      "7:\tlearn: 1.5842453\ttotal: 21.7s\tremaining: 4m 9s\n",
      "8:\tlearn: 1.5794651\ttotal: 23.8s\tremaining: 4m 1s\n",
      "9:\tlearn: 1.5750630\ttotal: 26.1s\tremaining: 3m 55s\n",
      "10:\tlearn: 1.5717692\ttotal: 28.6s\tremaining: 3m 51s\n",
      "11:\tlearn: 1.5672126\ttotal: 31.4s\tremaining: 3m 50s\n",
      "12:\tlearn: 1.5637648\ttotal: 34.2s\tremaining: 3m 48s\n",
      "13:\tlearn: 1.5591357\ttotal: 36.6s\tremaining: 3m 44s\n",
      "14:\tlearn: 1.5566387\ttotal: 38.8s\tremaining: 3m 39s\n",
      "15:\tlearn: 1.5545410\ttotal: 41.4s\tremaining: 3m 37s\n",
      "16:\tlearn: 1.5523081\ttotal: 43.9s\tremaining: 3m 34s\n",
      "17:\tlearn: 1.5481094\ttotal: 46.5s\tremaining: 3m 32s\n",
      "18:\tlearn: 1.5468068\ttotal: 48.8s\tremaining: 3m 28s\n",
      "19:\tlearn: 1.5437951\ttotal: 51.6s\tremaining: 3m 26s\n",
      "20:\tlearn: 1.5388700\ttotal: 54.4s\tremaining: 3m 24s\n",
      "21:\tlearn: 1.5358269\ttotal: 56.9s\tremaining: 3m 21s\n",
      "22:\tlearn: 1.5353263\ttotal: 1m 1s\tremaining: 3m 26s\n",
      "23:\tlearn: 1.5305192\ttotal: 1m 5s\tremaining: 3m 26s\n",
      "24:\tlearn: 1.5291987\ttotal: 1m 7s\tremaining: 3m 22s\n",
      "25:\tlearn: 1.5270408\ttotal: 1m 10s\tremaining: 3m 20s\n",
      "26:\tlearn: 1.5227621\ttotal: 1m 13s\tremaining: 3m 19s\n",
      "27:\tlearn: 1.5212088\ttotal: 1m 16s\tremaining: 3m 17s\n",
      "28:\tlearn: 1.5189483\ttotal: 1m 19s\tremaining: 3m 15s\n",
      "29:\tlearn: 1.5165729\ttotal: 1m 23s\tremaining: 3m 14s\n",
      "30:\tlearn: 1.5140309\ttotal: 1m 26s\tremaining: 3m 13s\n",
      "31:\tlearn: 1.5117732\ttotal: 1m 29s\tremaining: 3m 10s\n",
      "32:\tlearn: 1.5086657\ttotal: 1m 32s\tremaining: 3m 7s\n",
      "33:\tlearn: 1.5045250\ttotal: 1m 35s\tremaining: 3m 4s\n",
      "34:\tlearn: 1.5008290\ttotal: 1m 37s\tremaining: 3m\n",
      "35:\tlearn: 1.4982859\ttotal: 1m 39s\tremaining: 2m 56s\n",
      "36:\tlearn: 1.4947963\ttotal: 1m 42s\tremaining: 2m 53s\n",
      "37:\tlearn: 1.4923335\ttotal: 1m 44s\tremaining: 2m 50s\n",
      "38:\tlearn: 1.4893158\ttotal: 1m 46s\tremaining: 2m 47s\n",
      "39:\tlearn: 1.4861852\ttotal: 1m 49s\tremaining: 2m 43s\n",
      "40:\tlearn: 1.4845299\ttotal: 1m 51s\tremaining: 2m 40s\n",
      "41:\tlearn: 1.4810852\ttotal: 1m 54s\tremaining: 2m 38s\n",
      "42:\tlearn: 1.4791409\ttotal: 1m 56s\tremaining: 2m 34s\n",
      "43:\tlearn: 1.4764147\ttotal: 1m 59s\tremaining: 2m 31s\n",
      "44:\tlearn: 1.4721119\ttotal: 2m 1s\tremaining: 2m 28s\n",
      "45:\tlearn: 1.4687731\ttotal: 2m 4s\tremaining: 2m 26s\n",
      "46:\tlearn: 1.4667095\ttotal: 2m 8s\tremaining: 2m 24s\n",
      "47:\tlearn: 1.4640037\ttotal: 2m 11s\tremaining: 2m 22s\n",
      "48:\tlearn: 1.4632701\ttotal: 2m 14s\tremaining: 2m 19s\n",
      "49:\tlearn: 1.4615593\ttotal: 2m 16s\tremaining: 2m 16s\n",
      "50:\tlearn: 1.4596955\ttotal: 2m 19s\tremaining: 2m 13s\n",
      "51:\tlearn: 1.4591367\ttotal: 2m 21s\tremaining: 2m 11s\n",
      "52:\tlearn: 1.4562334\ttotal: 2m 24s\tremaining: 2m 8s\n",
      "53:\tlearn: 1.4545417\ttotal: 2m 26s\tremaining: 2m 5s\n",
      "54:\tlearn: 1.4527581\ttotal: 2m 29s\tremaining: 2m 2s\n",
      "55:\tlearn: 1.4493484\ttotal: 2m 32s\tremaining: 1m 59s\n",
      "56:\tlearn: 1.4474983\ttotal: 2m 35s\tremaining: 1m 56s\n",
      "57:\tlearn: 1.4459131\ttotal: 2m 37s\tremaining: 1m 53s\n",
      "58:\tlearn: 1.4447766\ttotal: 2m 39s\tremaining: 1m 51s\n",
      "59:\tlearn: 1.4441207\ttotal: 2m 42s\tremaining: 1m 48s\n",
      "60:\tlearn: 1.4436084\ttotal: 2m 44s\tremaining: 1m 45s\n",
      "61:\tlearn: 1.4412095\ttotal: 2m 46s\tremaining: 1m 42s\n",
      "62:\tlearn: 1.4389510\ttotal: 2m 49s\tremaining: 1m 39s\n",
      "63:\tlearn: 1.4370281\ttotal: 2m 51s\tremaining: 1m 36s\n",
      "64:\tlearn: 1.4346821\ttotal: 2m 53s\tremaining: 1m 33s\n",
      "65:\tlearn: 1.4339890\ttotal: 2m 56s\tremaining: 1m 30s\n",
      "66:\tlearn: 1.4326100\ttotal: 2m 58s\tremaining: 1m 27s\n",
      "67:\tlearn: 1.4308114\ttotal: 3m\tremaining: 1m 24s\n",
      "68:\tlearn: 1.4289323\ttotal: 3m 2s\tremaining: 1m 22s\n",
      "69:\tlearn: 1.4269628\ttotal: 3m 4s\tremaining: 1m 19s\n",
      "70:\tlearn: 1.4234661\ttotal: 3m 7s\tremaining: 1m 16s\n",
      "71:\tlearn: 1.4223417\ttotal: 3m 9s\tremaining: 1m 13s\n",
      "72:\tlearn: 1.4217955\ttotal: 3m 12s\tremaining: 1m 11s\n",
      "73:\tlearn: 1.4204305\ttotal: 3m 14s\tremaining: 1m 8s\n",
      "74:\tlearn: 1.4191288\ttotal: 3m 16s\tremaining: 1m 5s\n",
      "75:\tlearn: 1.4185420\ttotal: 3m 19s\tremaining: 1m 2s\n",
      "76:\tlearn: 1.4175326\ttotal: 3m 22s\tremaining: 1m\n",
      "77:\tlearn: 1.4150705\ttotal: 3m 25s\tremaining: 57.9s\n",
      "78:\tlearn: 1.4140918\ttotal: 3m 27s\tremaining: 55.1s\n",
      "79:\tlearn: 1.4129882\ttotal: 3m 29s\tremaining: 52.5s\n",
      "80:\tlearn: 1.4112105\ttotal: 3m 32s\tremaining: 49.8s\n",
      "81:\tlearn: 1.4105657\ttotal: 3m 34s\tremaining: 47s\n",
      "82:\tlearn: 1.4100330\ttotal: 3m 36s\tremaining: 44.3s\n",
      "83:\tlearn: 1.4071620\ttotal: 3m 39s\tremaining: 41.7s\n",
      "84:\tlearn: 1.4038590\ttotal: 3m 41s\tremaining: 39.1s\n",
      "85:\tlearn: 1.4020158\ttotal: 3m 43s\tremaining: 36.4s\n",
      "86:\tlearn: 1.4011393\ttotal: 3m 45s\tremaining: 33.7s\n",
      "87:\tlearn: 1.3993050\ttotal: 3m 48s\tremaining: 31.1s\n",
      "88:\tlearn: 1.3984658\ttotal: 3m 50s\tremaining: 28.5s\n",
      "89:\tlearn: 1.3975638\ttotal: 3m 52s\tremaining: 25.9s\n",
      "90:\tlearn: 1.3966394\ttotal: 3m 55s\tremaining: 23.3s\n",
      "91:\tlearn: 1.3938616\ttotal: 3m 57s\tremaining: 20.6s\n",
      "92:\tlearn: 1.3924523\ttotal: 3m 59s\tremaining: 18s\n",
      "93:\tlearn: 1.3910794\ttotal: 4m 2s\tremaining: 15.5s\n",
      "94:\tlearn: 1.3898816\ttotal: 4m 4s\tremaining: 12.9s\n",
      "95:\tlearn: 1.3892128\ttotal: 4m 6s\tremaining: 10.3s\n",
      "96:\tlearn: 1.3870890\ttotal: 4m 9s\tremaining: 7.7s\n",
      "97:\tlearn: 1.3851265\ttotal: 4m 11s\tremaining: 5.13s\n",
      "98:\tlearn: 1.3838504\ttotal: 4m 13s\tremaining: 2.56s\n",
      "99:\tlearn: 1.3833417\ttotal: 4m 15s\tremaining: 0us\n"
     ]
    },
    {
     "data": {
      "text/plain": [
       "<catboost.core.CatBoostRegressor at 0x220b3ffd0>"
      ]
     },
     "execution_count": 30,
     "metadata": {},
     "output_type": "execute_result"
    }
   ],
   "source": [
    "model_Cat.fit(X_train, y_train, cat_features=categorical_features)"
   ]
  },
  {
   "cell_type": "code",
   "execution_count": 31,
   "metadata": {
    "collapsed": true
   },
   "outputs": [],
   "source": [
    "test_df['prediction'] = model_Cat.predict(test_df.iloc[:,1:])\n",
    "test_df['prediction'] = test_df['prediction']*(test_df['prediction'] >= 0)\n",
    "test_df['prediction'] = np.exp(test_df['prediction']) - 1\n",
    "pred_dict = dict(test_df.groupby('fullVisitorId')['prediction'].sum())"
   ]
  },
  {
   "cell_type": "code",
   "execution_count": 32,
   "metadata": {
    "collapsed": true
   },
   "outputs": [],
   "source": [
    "subm = pd.read_csv('sample_submission.csv')\n",
    "subm['PredictedLogRevenue'] = subm['fullVisitorId'].map(pred_dict).fillna(0)\n",
    "subm['PredictedLogRevenue'] = np.log(subm['PredictedLogRevenue']+1)\n",
    "subm.to_csv('fourth_subm.csv', sep=',', index=None)"
   ]
  },
  {
   "cell_type": "code",
   "execution_count": 33,
   "metadata": {},
   "outputs": [
    {
     "name": "stdout",
     "output_type": "stream",
     "text": [
      "2.1863840348256285 b'channelGrouping'\n",
      "0.11044686275041643 b'isMobile'\n",
      "0.7877889046499208 b'browser'\n",
      "1.4167833286179237 b'deviceCategory'\n",
      "4.958714505768322 b'operatingSystem'\n",
      "5.591826169950613 b'country'\n",
      "6.697803184218588 b'region'\n",
      "1.3031546579175248 b'subContinent'\n",
      "0.13718291842470923 b'networkDomain'\n",
      "0.6490001278806667 b'continent'\n",
      "1.800898556705775 b'newVisits'\n",
      "1.1379134157147657 b'medium'\n",
      "3.2548968293983327 b'isTrueDirect'\n",
      "6.061298698767857 b'source'\n",
      "0.2135298218706007 b'isVideoAd'\n",
      "0.3059332830865738 b'slot'\n",
      "0.0783520551638093 b'page'\n",
      "0.6199501674109053 b'day_off'\n",
      "5.07492212475394 b'weekday'\n",
      "8.783459345592847 b'visitNumber'\n",
      "27.65681841756791 b'pageviews'\n",
      "21.172942588962368 b'hits'\n"
     ]
    }
   ],
   "source": [
    "# Checking features importances\n",
    "for val, name in zip(model_Cat.feature_importances_, model_Cat.feature_names_):\n",
    "    print(val, name)"
   ]
  }
 ],
 "metadata": {
  "kernelspec": {
   "display_name": "Python 3",
   "language": "python",
   "name": "python3"
  },
  "language_info": {
   "codemirror_mode": {
    "name": "ipython",
    "version": 3
   },
   "file_extension": ".py",
   "mimetype": "text/x-python",
   "name": "python",
   "nbconvert_exporter": "python",
   "pygments_lexer": "ipython3",
   "version": "3.6.3"
  }
 },
 "nbformat": 4,
 "nbformat_minor": 2
}
