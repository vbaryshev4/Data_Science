{
 "cells": [
  {
   "cell_type": "code",
   "execution_count": 7,
   "metadata": {},
   "outputs": [
    {
     "name": "stderr",
     "output_type": "stream",
     "text": [
      "/anaconda3/lib/python3.6/importlib/_bootstrap.py:219: RuntimeWarning: numpy.dtype size changed, may indicate binary incompatibility. Expected 96, got 88\n",
      "  return f(*args, **kwds)\n",
      "/anaconda3/lib/python3.6/importlib/_bootstrap.py:219: RuntimeWarning: numpy.dtype size changed, may indicate binary incompatibility. Expected 96, got 88\n",
      "  return f(*args, **kwds)\n"
     ]
    }
   ],
   "source": [
    "import os\n",
    "import json\n",
    "import pickle\n",
    "import numpy as np\n",
    "import pandas as pd\n",
    "from tqdm import tqdm_notebook\n",
    "import matplotlib.pyplot as plt\n",
    "from catboost import CatBoostRegressor\n",
    "\n",
    "# Displaying pd Dataframe options\n",
    "pd.set_option('display.max_columns', 500)\n",
    "pd.set_option('display.width', 1000)\n",
    "pd.set_option('display.max_colwidth', 1000)"
   ]
  },
  {
   "cell_type": "code",
   "execution_count": 8,
   "metadata": {},
   "outputs": [
    {
     "name": "stdout",
     "output_type": "stream",
     "text": [
      "CPU times: user 2.96 s, sys: 855 ms, total: 3.81 s\n",
      "Wall time: 3.86 s\n"
     ]
    }
   ],
   "source": [
    "%%time\n",
    "# Get datas from pickle\n",
    "train_df = pd.read_pickle('train_df.pickle')\n",
    "train_df['date'] = pd.to_datetime(train_df['date'], format='%Y%m%d')\n",
    "train_df['weekday'] = train_df['date'].dt.weekday_name\n",
    "train_df['day_off'] = (train_df['date'].dt.dayofweek > 4).astype(int)\n"
   ]
  },
  {
   "cell_type": "code",
   "execution_count": 9,
   "metadata": {},
   "outputs": [
    {
     "name": "stdout",
     "output_type": "stream",
     "text": [
      "CPU times: user 2.54 s, sys: 792 ms, total: 3.33 s\n",
      "Wall time: 3.38 s\n"
     ]
    }
   ],
   "source": [
    "%%time\n",
    "test_df = pd.read_pickle('test_df.pickle')\n",
    "test_df['date'] = pd.to_datetime(test_df['date'], format='%Y%m%d')\n",
    "test_df['weekday'] = test_df['date'].dt.weekday_name\n",
    "test_df['day_off'] = (test_df['date'].dt.dayofweek > 4).astype(int)"
   ]
  },
  {
   "cell_type": "code",
   "execution_count": 10,
   "metadata": {
    "collapsed": true
   },
   "outputs": [],
   "source": [
    "def check_diff_in_dfs():\n",
    "    print('train_df \\ test_df', set(train_df.columns).difference(set(test_df.columns)))\n",
    "    print('test_df \\ train_df', set(test_df.columns).difference(set(train_df.columns)))"
   ]
  },
  {
   "cell_type": "code",
   "execution_count": 11,
   "metadata": {},
   "outputs": [
    {
     "name": "stdout",
     "output_type": "stream",
     "text": [
      "train_df \\ test_df {'transactionRevenue'}\n",
      "test_df \\ train_df set()\n"
     ]
    }
   ],
   "source": [
    "# Data revision\n",
    "check_diff_in_dfs()"
   ]
  },
  {
   "cell_type": "markdown",
   "metadata": {},
   "source": [
    "#### на пример adContent, где очень мало заполнено данных создать рядом новую фичу 'заполнена ли adContent'. Может быть сам adContent дропуть, поскольку она не несет информацию. Отступаем от обучения, работаем с данными."
   ]
  },
  {
   "cell_type": "code",
   "execution_count": 12,
   "metadata": {},
   "outputs": [
    {
     "data": {
      "text/plain": [
       "'channelGrouping'"
      ]
     },
     "execution_count": 12,
     "metadata": {},
     "output_type": "execute_result"
    }
   ],
   "source": [
    "'channelGrouping'"
   ]
  },
  {
   "cell_type": "code",
   "execution_count": 13,
   "metadata": {},
   "outputs": [
    {
     "data": {
      "text/plain": [
       "Organic Search    381561\n",
       "Social            226117\n",
       "Direct            143026\n",
       "Referral          104838\n",
       "Paid Search        25326\n",
       "Affiliates         16403\n",
       "Display             6262\n",
       "(Other)              120\n",
       "Name: channelGrouping, dtype: int64"
      ]
     },
     "execution_count": 13,
     "metadata": {},
     "output_type": "execute_result"
    }
   ],
   "source": [
    "train_df['channelGrouping'].value_counts()"
   ]
  },
  {
   "cell_type": "code",
   "execution_count": 14,
   "metadata": {},
   "outputs": [
    {
     "data": {
      "text/plain": [
       "<matplotlib.axes._subplots.AxesSubplot at 0x1158702e8>"
      ]
     },
     "execution_count": 14,
     "metadata": {},
     "output_type": "execute_result"
    },
    {
     "data": {
      "image/png": "[encoded data removed]",
      "text/plain": [
       "<matplotlib.figure.Figure at 0x117070278>"
      ]
     },
     "metadata": {},
     "output_type": "display_data"
    }
   ],
   "source": [
    "%matplotlib inline\n",
    "train_df.channelGrouping.hist(bins=100, figsize=(10,10))"
   ]
  },
  {
   "cell_type": "code",
   "execution_count": null,
   "metadata": {
    "collapsed": true
   },
   "outputs": [],
   "source": [
    "'date'"
   ]
  },
  {
   "cell_type": "code",
   "execution_count": 15,
   "metadata": {},
   "outputs": [
    {
     "data": {
      "text/plain": [
       "2016-11-28    4807\n",
       "2016-11-15    4685\n",
       "2016-11-14    4466\n",
       "2016-11-30    4435\n",
       "2016-10-26    4375\n",
       "2016-11-29    4337\n",
       "2016-11-16    4334\n",
       "2016-10-04    4322\n",
       "2016-12-05    4265\n",
       "2017-04-26    4224\n",
       "2016-12-01    4200\n",
       "2016-10-27    4162\n",
       "2016-11-21    4143\n",
       "2016-11-17    4074\n",
       "2016-10-24    4063\n",
       "2016-11-10    4055\n",
       "2016-11-03    4014\n",
       "2016-11-02    3960\n",
       "2016-11-22    3942\n",
       "2016-11-08    3899\n",
       "2016-10-25    3842\n",
       "2016-11-07    3832\n",
       "2016-10-31    3827\n",
       "2016-11-23    3805\n",
       "2016-10-28    3791\n",
       "2016-10-05    3770\n",
       "2016-11-24    3770\n",
       "2016-11-25    3759\n",
       "2016-10-20    3755\n",
       "2016-11-09    3752\n",
       "              ... \n",
       "2016-08-13    1596\n",
       "2017-04-30    1594\n",
       "2016-10-01    1589\n",
       "2016-12-26    1586\n",
       "2017-01-15    1576\n",
       "2017-04-29    1566\n",
       "2017-06-11    1555\n",
       "2017-02-04    1549\n",
       "2017-04-23    1548\n",
       "2017-06-10    1545\n",
       "2017-06-04    1534\n",
       "2017-01-14    1526\n",
       "2017-02-05    1522\n",
       "2017-06-24    1510\n",
       "2017-04-16    1507\n",
       "2017-04-15    1506\n",
       "2017-05-27    1502\n",
       "2017-05-28    1463\n",
       "2017-06-18    1432\n",
       "2017-05-07    1400\n",
       "2017-06-03    1399\n",
       "2017-06-17    1391\n",
       "2016-12-25    1386\n",
       "2017-05-06    1383\n",
       "2017-01-01    1364\n",
       "2017-05-14    1290\n",
       "2017-05-13    1251\n",
       "2016-12-30    1232\n",
       "2016-12-24    1231\n",
       "2016-12-31    1211\n",
       "Name: date, Length: 366, dtype: int64"
      ]
     },
     "execution_count": 15,
     "metadata": {},
     "output_type": "execute_result"
    }
   ],
   "source": [
    "train_df['date'].value_counts()"
   ]
  },
  {
   "cell_type": "code",
   "execution_count": 16,
   "metadata": {},
   "outputs": [
    {
     "data": {
      "text/plain": [
       "<matplotlib.axes._subplots.AxesSubplot at 0x19520f978>"
      ]
     },
     "execution_count": 16,
     "metadata": {},
     "output_type": "execute_result"
    },
    {
     "data": {
      "image/png": "[encoded data removed]",
      "text/plain": [
       "<matplotlib.figure.Figure at 0x1951dfb38>"
      ]
     },
     "metadata": {},
     "output_type": "display_data"
    }
   ],
   "source": [
    "%matplotlib inline\n",
    "train_df.date.hist(bins=100, figsize=(10,10))"
   ]
  },
  {
   "cell_type": "code",
   "execution_count": 3,
   "metadata": {},
   "outputs": [
    {
     "data": {
      "text/plain": [
       "'fullVisitorId'"
      ]
     },
     "execution_count": 3,
     "metadata": {},
     "output_type": "execute_result"
    }
   ],
   "source": [
    "'fullVisitorId' # ???"
   ]
  },
  {
   "cell_type": "code",
   "execution_count": 17,
   "metadata": {},
   "outputs": [
    {
     "data": {
      "text/plain": [
       "1957458976293878100    278\n",
       "824839726118485274     205\n",
       "3608475193341679870    201\n",
       "1856749147915772585    199\n",
       "3269834865385146569    155\n",
       "7634897085866546110    148\n",
       "4038076683036146727    138\n",
       "3694234028523165868    129\n",
       "720311197761340948     121\n",
       "6254908847172458133    117\n",
       "3525537916960843419    115\n",
       "3148617623907142276    112\n",
       "6018775317735347795    111\n",
       "9801276214964695322    110\n",
       "2194592743396253647    107\n",
       "232377434237234751     105\n",
       "7498695963354635199    104\n",
       "9609104828919391966     99\n",
       "3937673380007666721     94\n",
       "949718915643445721      91\n",
       "4913801338365738862     90\n",
       "2082625651279391786     89\n",
       "7813149961404844386     86\n",
       "7445235885559107095     83\n",
       "4578640586284138624     81\n",
       "6588500311054802771     76\n",
       "3041133261614133977     74\n",
       "5208937953046059083     72\n",
       "9292327473106748702     71\n",
       "9534537897118577344     71\n",
       "                      ... \n",
       "84628143632300127        1\n",
       "5260117902407993152      1\n",
       "6574240968048973826      1\n",
       "9756885146234423606      1\n",
       "0035338492120820250      1\n",
       "873475769283421870       1\n",
       "2582631781060890714      1\n",
       "6409334789258306643      1\n",
       "278370119809134195       1\n",
       "13112254498225448        1\n",
       "755478055824777498       1\n",
       "3870411131466688891      1\n",
       "1981255727278868759      1\n",
       "6352068296250840290      1\n",
       "1374669736121576302      1\n",
       "567693922642677756       1\n",
       "6335270223693537138      1\n",
       "0999162464548654721      1\n",
       "594164222613551627       1\n",
       "7761147609779274483      1\n",
       "5063485259887289626      1\n",
       "9064845677734789328      1\n",
       "8533784760176859006      1\n",
       "2762862025874979842      1\n",
       "1371773997701402132      1\n",
       "8416529278258295030      1\n",
       "7928189135460156192      1\n",
       "5993502009410362381      1\n",
       "4965853732342736067      1\n",
       "8241106111400388501      1\n",
       "Name: fullVisitorId, Length: 716924, dtype: int64"
      ]
     },
     "execution_count": 17,
     "metadata": {},
     "output_type": "execute_result"
    }
   ],
   "source": [
    "train_df['fullVisitorId'].value_counts()"
   ]
  },
  {
   "cell_type": "code",
   "execution_count": 18,
   "metadata": {},
   "outputs": [],
   "source": [
    "%matplotlib inline\n",
    "#????"
   ]
  },
  {
   "cell_type": "code",
   "execution_count": null,
   "metadata": {
    "collapsed": true
   },
   "outputs": [],
   "source": [
    "'sessionId'"
   ]
  },
  {
   "cell_type": "code",
   "execution_count": 19,
   "metadata": {},
   "outputs": [
    {
     "data": {
      "text/plain": [
       "4686096939646334160_1482911798    2\n",
       "2656385077897383189_1473403798    2\n",
       "5580260050052139637_1470380267    2\n",
       "4483741101095290795_1471157564    2\n",
       "2788824330199765490_1489560554    2\n",
       "9926456995105457200_1472626397    2\n",
       "5135775780419153299_1477205290    2\n",
       "4163776473564568453_1496299236    2\n",
       "9847307838447511234_1472713116    2\n",
       "5961536486573634219_1476080711    2\n",
       "0064585292262671874_1493620320    2\n",
       "8596239481909424450_1487318035    2\n",
       "684380858040966297_1477465101     2\n",
       "7849236513149694148_1491461947    2\n",
       "7047642838587768548_1497163538    2\n",
       "419524103074603391_1471589669     2\n",
       "1876136855853663327_1493881074    2\n",
       "6563911580191009917_1471589823    2\n",
       "9096282942669500075_1472106044    2\n",
       "1505413932671276932_1495090533    2\n",
       "6187281368753177854_1471935527    2\n",
       "932491977900282496_1478156313     2\n",
       "0821104645538474369_1478764781    2\n",
       "357023552915423846_1500964877     2\n",
       "5980617790873815212_1493276349    2\n",
       "4682115121818915623_1473058728    2\n",
       "5539996708481290888_1482306425    2\n",
       "1468326551501903507_1480492763    2\n",
       "8795944303443767835_1481011145    2\n",
       "8721068465074288178_1473404368    2\n",
       "                                 ..\n",
       "8927187548900118849_1480345214    1\n",
       "4889512885884147913_1492614517    1\n",
       "7428846393390011907_1486953393    1\n",
       "5907666072487495293_1472781396    1\n",
       "9480230640899140010_1499613170    1\n",
       "7022531201626857911_1475641353    1\n",
       "1702969702621864203_1473636520    1\n",
       "3784785895707507381_1494794421    1\n",
       "253454431071066526_1492065322     1\n",
       "5389062134224524315_1490875830    1\n",
       "0070407945682650508_1493042107    1\n",
       "220177451040378591_1476392328     1\n",
       "1424355572088327868_1501013364    1\n",
       "5711582711607566547_1501062354    1\n",
       "114917623082779326_1487345064     1\n",
       "213003977022600203_1470361175     1\n",
       "2190889485144456356_1485306203    1\n",
       "9949171640993720841_1490132642    1\n",
       "795680616053742502_1486987859     1\n",
       "3234319072209247431_1480424068    1\n",
       "0874035486462890331_1497909899    1\n",
       "0354112508038877105_1499502404    1\n",
       "5719161159863692412_1493672881    1\n",
       "0420156595432368551_1496921060    1\n",
       "0136570880626144528_1501317315    1\n",
       "9393123630317318368_1481116366    1\n",
       "3645563003369778834_1497856006    1\n",
       "4240165280056468872_1498273524    1\n",
       "6792687366845509283_1499642527    1\n",
       "754524501110741865_1496166469     1\n",
       "Name: sessionId, Length: 902755, dtype: int64"
      ]
     },
     "execution_count": 19,
     "metadata": {},
     "output_type": "execute_result"
    }
   ],
   "source": [
    "train_df['sessionId'].value_counts()"
   ]
  },
  {
   "cell_type": "code",
   "execution_count": 20,
   "metadata": {
    "collapsed": true
   },
   "outputs": [],
   "source": [
    "%matplotlib inline\n",
    "#????"
   ]
  },
  {
   "cell_type": "code",
   "execution_count": null,
   "metadata": {
    "collapsed": true
   },
   "outputs": [],
   "source": [
    "'visitId'"
   ]
  },
  {
   "cell_type": "code",
   "execution_count": 21,
   "metadata": {},
   "outputs": [
    {
     "data": {
      "text/plain": [
       "1493146175    8\n",
       "1478345904    6\n",
       "1481369525    6\n",
       "1484649802    6\n",
       "1500856602    5\n",
       "1495031359    5\n",
       "1494374199    5\n",
       "1473406997    4\n",
       "1478942540    4\n",
       "1490264449    4\n",
       "1499778118    4\n",
       "1489390306    4\n",
       "1473406994    4\n",
       "1490255839    4\n",
       "1485823856    4\n",
       "1490899032    4\n",
       "1481365730    4\n",
       "1478243627    4\n",
       "1500856594    4\n",
       "1500856591    4\n",
       "1490274628    4\n",
       "1475719086    4\n",
       "1490384962    4\n",
       "1484649800    4\n",
       "1474613955    4\n",
       "1489390296    4\n",
       "1493406494    4\n",
       "1479668456    4\n",
       "1481874207    4\n",
       "1500880897    4\n",
       "             ..\n",
       "1500254858    1\n",
       "1482755722    1\n",
       "1476466313    1\n",
       "1474518720    1\n",
       "1478710977    1\n",
       "1472415427    1\n",
       "1470258912    1\n",
       "1474465530    1\n",
       "1474490102    1\n",
       "1476577011    1\n",
       "1500606546    1\n",
       "1491209962    1\n",
       "1480728296    1\n",
       "1474455271    1\n",
       "1478651622    1\n",
       "1470265061    1\n",
       "1491347172    1\n",
       "1495500507    1\n",
       "1487107781    1\n",
       "1490718365    1\n",
       "1470361302    1\n",
       "1476654805    1\n",
       "1485035217    1\n",
       "1478698703    1\n",
       "1497432928    1\n",
       "1478704844    1\n",
       "1487085256    1\n",
       "1500456028    1\n",
       "1480814278    1\n",
       "1497372675    1\n",
       "Name: visitId, Length: 886303, dtype: int64"
      ]
     },
     "execution_count": 21,
     "metadata": {},
     "output_type": "execute_result"
    }
   ],
   "source": [
    "train_df['visitId'].value_counts()"
   ]
  },
  {
   "cell_type": "code",
   "execution_count": 22,
   "metadata": {
    "collapsed": true
   },
   "outputs": [],
   "source": [
    "%matplotlib inline\n",
    "#????"
   ]
  },
  {
   "cell_type": "code",
   "execution_count": 23,
   "metadata": {},
   "outputs": [
    {
     "data": {
      "text/plain": [
       "'visitNumber'"
      ]
     },
     "execution_count": 23,
     "metadata": {},
     "output_type": "execute_result"
    }
   ],
   "source": [
    "'visitNumber'"
   ]
  },
  {
   "cell_type": "code",
   "execution_count": 24,
   "metadata": {},
   "outputs": [
    {
     "data": {
      "text/plain": [
       "1      703060\n",
       "2       92548\n",
       "3       35843\n",
       "4       19157\n",
       "5       11615\n",
       "6        7677\n",
       "7        5413\n",
       "8        4031\n",
       "9        3084\n",
       "10       2415\n",
       "11       1936\n",
       "12       1573\n",
       "13       1292\n",
       "14       1092\n",
       "15        928\n",
       "16        809\n",
       "17        699\n",
       "18        611\n",
       "19        541\n",
       "20        497\n",
       "21        446\n",
       "22        399\n",
       "23        355\n",
       "24        340\n",
       "25        304\n",
       "26        272\n",
       "27        245\n",
       "28        223\n",
       "29        203\n",
       "30        188\n",
       "        ...  \n",
       "310         1\n",
       "304         1\n",
       "313         1\n",
       "314         1\n",
       "316         1\n",
       "290         1\n",
       "394         1\n",
       "327         1\n",
       "328         1\n",
       "329         1\n",
       "333         1\n",
       "334         1\n",
       "335         1\n",
       "337         1\n",
       "352         1\n",
       "338         1\n",
       "339         1\n",
       "340         1\n",
       "341         1\n",
       "342         1\n",
       "343         1\n",
       "344         1\n",
       "345         1\n",
       "346         1\n",
       "347         1\n",
       "306         1\n",
       "349         1\n",
       "350         1\n",
       "351         1\n",
       "395         1\n",
       "Name: visitNumber, Length: 384, dtype: int64"
      ]
     },
     "execution_count": 24,
     "metadata": {},
     "output_type": "execute_result"
    }
   ],
   "source": [
    "train_df['visitNumber'].value_counts()"
   ]
  },
  {
   "cell_type": "code",
   "execution_count": 32,
   "metadata": {},
   "outputs": [
    {
     "data": {
      "text/plain": [
       "<matplotlib.axes._subplots.AxesSubplot at 0x147ee9358>"
      ]
     },
     "execution_count": 32,
     "metadata": {},
     "output_type": "execute_result"
    },
    {
     "data": {
      "image/png": "[encoded data removed]",
      "text/plain": [
       "<matplotlib.figure.Figure at 0x1812ba128>"
      ]
     },
     "metadata": {},
     "output_type": "display_data"
    }
   ],
   "source": [
    "%matplotlib inline\n",
    "train_df.visitNumber.hist(bins=40, figsize=(4,4))"
   ]
  },
  {
   "cell_type": "code",
   "execution_count": null,
   "metadata": {
    "collapsed": true
   },
   "outputs": [],
   "source": [
    "'visitStartTime'"
   ]
  },
  {
   "cell_type": "code",
   "execution_count": 33,
   "metadata": {},
   "outputs": [
    {
     "data": {
      "text/plain": [
       "1493146175    8\n",
       "1481369525    6\n",
       "1478345904    6\n",
       "1484649802    6\n",
       "1500856602    5\n",
       "1495031359    5\n",
       "1494374199    5\n",
       "1475719086    4\n",
       "1485823856    4\n",
       "1499778118    4\n",
       "1478243627    4\n",
       "1477470782    4\n",
       "1490384962    4\n",
       "1500856594    4\n",
       "1478942540    4\n",
       "1489390296    4\n",
       "1484649800    4\n",
       "1498823774    4\n",
       "1490264767    4\n",
       "1500856591    4\n",
       "1500856605    4\n",
       "1479300875    4\n",
       "1473406994    4\n",
       "1481365730    4\n",
       "1473406997    4\n",
       "1488904421    4\n",
       "1479668456    4\n",
       "1481874207    4\n",
       "1500880897    4\n",
       "1490255839    4\n",
       "             ..\n",
       "1473763415    1\n",
       "1482147925    1\n",
       "1496825940    1\n",
       "1500600455    1\n",
       "1496391816    1\n",
       "1475422345    1\n",
       "1487937704    1\n",
       "1498642627    1\n",
       "1481859264    1\n",
       "1485875385    1\n",
       "1500567735    1\n",
       "1496371382    1\n",
       "1485891761    1\n",
       "1475352751    1\n",
       "1471156398    1\n",
       "1481652395    1\n",
       "1481650346    1\n",
       "1481658534    1\n",
       "1494290574    1\n",
       "1477462181    1\n",
       "1500528804    1\n",
       "1485863075    1\n",
       "1479567521    1\n",
       "1490131103    1\n",
       "1488027804    1\n",
       "1475457178    1\n",
       "1481756822    1\n",
       "1496445074    1\n",
       "1498540177    1\n",
       "1497372675    1\n",
       "Name: visitStartTime, Length: 887159, dtype: int64"
      ]
     },
     "execution_count": 33,
     "metadata": {},
     "output_type": "execute_result"
    }
   ],
   "source": [
    "train_df['visitStartTime'].value_counts()"
   ]
  },
  {
   "cell_type": "code",
   "execution_count": 34,
   "metadata": {
    "collapsed": true
   },
   "outputs": [],
   "source": [
    "%matplotlib inline\n",
    "#????"
   ]
  },
  {
   "cell_type": "code",
   "execution_count": null,
   "metadata": {
    "collapsed": true
   },
   "outputs": [],
   "source": [
    "'operatingSystem'"
   ]
  },
  {
   "cell_type": "code",
   "execution_count": 35,
   "metadata": {},
   "outputs": [
    {
     "data": {
      "text/plain": [
       "Windows          350072\n",
       "Macintosh        253938\n",
       "Android          123892\n",
       "iOS              107665\n",
       "Linux             35034\n",
       "Chrome OS         26337\n",
       "(not set)          4695\n",
       "Windows Phone      1216\n",
       "Samsung             280\n",
       "BlackBerry          218\n",
       "Nintendo Wii        100\n",
       "Firefox OS           89\n",
       "Xbox                 66\n",
       "Nintendo WiiU        35\n",
       "FreeBSD               9\n",
       "Nokia                 2\n",
       "OpenBSD               2\n",
       "Nintendo 3DS          1\n",
       "NTT DoCoMo            1\n",
       "SunOS                 1\n",
       "Name: operatingSystem, dtype: int64"
      ]
     },
     "execution_count": 35,
     "metadata": {},
     "output_type": "execute_result"
    }
   ],
   "source": [
    "train_df['operatingSystem'].value_counts()"
   ]
  },
  {
   "cell_type": "code",
   "execution_count": 53,
   "metadata": {},
   "outputs": [
    {
     "data": {
      "text/plain": [
       "<matplotlib.axes._subplots.AxesSubplot at 0x1b28522b0>"
      ]
     },
     "execution_count": 53,
     "metadata": {},
     "output_type": "execute_result"
    },
    {
     "data": {
      "image/png": "[encoded data removed]",
      "text/plain": [
       "<matplotlib.figure.Figure at 0x1b288a518>"
      ]
     },
     "metadata": {},
     "output_type": "display_data"
    }
   ],
   "source": [
    "%matplotlib inline\n",
    "train_df.operatingSystem.hist(bins=40, figsize=(85,10))"
   ]
  },
  {
   "cell_type": "code",
   "execution_count": null,
   "metadata": {
    "collapsed": true
   },
   "outputs": [],
   "source": [
    "'isMobile'"
   ]
  },
  {
   "cell_type": "code",
   "execution_count": 54,
   "metadata": {},
   "outputs": [
    {
     "data": {
      "text/plain": [
       "False    664530\n",
       "True     239123\n",
       "Name: isMobile, dtype: int64"
      ]
     },
     "execution_count": 54,
     "metadata": {},
     "output_type": "execute_result"
    }
   ],
   "source": [
    "train_df['isMobile'].value_counts()"
   ]
  },
  {
   "cell_type": "code",
   "execution_count": 57,
   "metadata": {},
   "outputs": [],
   "source": [
    "%matplotlib inline\n",
    "#????"
   ]
  },
  {
   "cell_type": "code",
   "execution_count": null,
   "metadata": {
    "collapsed": true
   },
   "outputs": [],
   "source": [
    "'deviceCategory'"
   ]
  },
  {
   "cell_type": "code",
   "execution_count": 58,
   "metadata": {},
   "outputs": [
    {
     "data": {
      "text/plain": [
       "desktop    664479\n",
       "mobile     208725\n",
       "tablet      30449\n",
       "Name: deviceCategory, dtype: int64"
      ]
     },
     "execution_count": 58,
     "metadata": {},
     "output_type": "execute_result"
    }
   ],
   "source": [
    "train_df['deviceCategory'].value_counts()"
   ]
  },
  {
   "cell_type": "code",
   "execution_count": 59,
   "metadata": {},
   "outputs": [
    {
     "data": {
      "text/plain": [
       "<matplotlib.axes._subplots.AxesSubplot at 0x1cbfc8400>"
      ]
     },
     "execution_count": 59,
     "metadata": {},
     "output_type": "execute_result"
    },
    {
     "data": {
      "image/png": "[encoded data removed]",
      "text/plain": [
       "<matplotlib.figure.Figure at 0x1d8fe39b0>"
      ]
     },
     "metadata": {},
     "output_type": "display_data"
    }
   ],
   "source": [
    "%matplotlib inline\n",
    "train_df.deviceCategory.hist(bins=100, figsize=(10,10))"
   ]
  },
  {
   "cell_type": "code",
   "execution_count": null,
   "metadata": {
    "collapsed": true
   },
   "outputs": [],
   "source": [
    "'browser'"
   ]
  },
  {
   "cell_type": "code",
   "execution_count": 60,
   "metadata": {},
   "outputs": [
    {
     "data": {
      "text/plain": [
       "Chrome                                         620364\n",
       "Safari                                         182245\n",
       "Firefox                                         37069\n",
       "Internet Explorer                               19375\n",
       "Edge                                            10205\n",
       "Android Webview                                  7865\n",
       "Safari (in-app)                                  6850\n",
       "Opera Mini                                       6139\n",
       "Opera                                            5643\n",
       "UC Browser                                       2427\n",
       "YaBrowser                                        2096\n",
       "Coc Coc                                           727\n",
       "Amazon Silk                                       561\n",
       "Android Browser                                   553\n",
       "Mozilla Compatible Agent                          374\n",
       "MRCHROME                                          263\n",
       "Maxthon                                           246\n",
       "BlackBerry                                        184\n",
       "Nintendo Browser                                  140\n",
       "Puffin                                             93\n",
       "Nokia Browser                                      67\n",
       "Iron                                               33\n",
       "LYF_LS_4002_12                                     21\n",
       "SeaMonkey                                          15\n",
       "Seznam                                             11\n",
       "Mozilla                                            11\n",
       "Apple-iPhone7C2                                     9\n",
       "(not set)                                           8\n",
       "Nichrome                                            7\n",
       "0                                                   7\n",
       "Lunascape                                           5\n",
       "osee2unifiedRelease                                 5\n",
       "DASH_JR_3G                                          4\n",
       "LYF_LS_4002_11                                      3\n",
       "ThumbSniper                                         3\n",
       "no-ua                                               3\n",
       "NokiaE52-1                                          2\n",
       "YE                                                  2\n",
       "MQQBrowser                                          2\n",
       "Android Runtime                                     2\n",
       "Konqueror                                           1\n",
       "HTC802t_TD                                          1\n",
       "TCL P500M                                           1\n",
       "ADM                                                 1\n",
       "Changa 99695759                                     1\n",
       "M5                                                  1\n",
       "CSM Click                                           1\n",
       "User Agent                                          1\n",
       "subjectAgent: NoticiasBoom                          1\n",
       "Reddit                                              1\n",
       "Hisense M20-M_LTE                                   1\n",
       "DoCoMo                                              1\n",
       "IE with Chrome Frame                                1\n",
       "[Use default User-agent string] LIVRENPOCHE         1\n",
       "Name: browser, dtype: int64"
      ]
     },
     "execution_count": 60,
     "metadata": {},
     "output_type": "execute_result"
    }
   ],
   "source": [
    "train_df['browser'].value_counts()"
   ]
  },
  {
   "cell_type": "code",
   "execution_count": 61,
   "metadata": {
    "collapsed": true
   },
   "outputs": [],
   "source": [
    "%matplotlib inline\n",
    "#?"
   ]
  },
  {
   "cell_type": "code",
   "execution_count": null,
   "metadata": {
    "collapsed": true
   },
   "outputs": [],
   "source": [
    "'subContinent'"
   ]
  },
  {
   "cell_type": "code",
   "execution_count": 62,
   "metadata": {},
   "outputs": [
    {
     "data": {
      "text/plain": [
       "Northern America      390657\n",
       "Southeast Asia         77800\n",
       "Southern Asia          59321\n",
       "Western Europe         59114\n",
       "Northern Europe        58168\n",
       "Eastern Asia           46919\n",
       "Eastern Europe         45249\n",
       "South America          41731\n",
       "Western Asia           38443\n",
       "Southern Europe        35780\n",
       "Central America        15583\n",
       "Australasia            14893\n",
       "Northern Africa         7683\n",
       "Western Africa          2573\n",
       "Caribbean               2406\n",
       "Southern Africa         2169\n",
       "Eastern Africa          1927\n",
       "(not set)               1468\n",
       "Central Asia            1215\n",
       "Middle Africa            393\n",
       "Melanesia                 81\n",
       "Micronesian Region        55\n",
       "Polynesia                 25\n",
       "Name: subContinent, dtype: int64"
      ]
     },
     "execution_count": 62,
     "metadata": {},
     "output_type": "execute_result"
    }
   ],
   "source": [
    "train_df['subContinent'].value_counts()"
   ]
  },
  {
   "cell_type": "code",
   "execution_count": 64,
   "metadata": {},
   "outputs": [
    {
     "data": {
      "text/plain": [
       "<matplotlib.axes._subplots.AxesSubplot at 0x1e4174b70>"
      ]
     },
     "execution_count": 64,
     "metadata": {},
     "output_type": "execute_result"
    },
    {
     "data": {
      "image/png": "[encoded data removed]",
      "text/plain": [
       "<matplotlib.figure.Figure at 0x1dc822c50>"
      ]
     },
     "metadata": {},
     "output_type": "display_data"
    }
   ],
   "source": [
    "%matplotlib inline\n",
    "train_df.subContinent.hist(bins=100, figsize=(100,10))"
   ]
  },
  {
   "cell_type": "code",
   "execution_count": null,
   "metadata": {
    "collapsed": true
   },
   "outputs": [],
   "source": [
    "'country'"
   ]
  },
  {
   "cell_type": "code",
   "execution_count": 65,
   "metadata": {},
   "outputs": [
    {
     "data": {
      "text/plain": [
       "United States               364744\n",
       "India                        51140\n",
       "United Kingdom               37393\n",
       "Canada                       25869\n",
       "Vietnam                      24598\n",
       "Turkey                       20522\n",
       "Thailand                     20123\n",
       "Germany                      19980\n",
       "Brazil                       19783\n",
       "Japan                        19731\n",
       "France                       15832\n",
       "Mexico                       13225\n",
       "Taiwan                       12996\n",
       "Australia                    12698\n",
       "Russia                       11662\n",
       "Spain                        11658\n",
       "Netherlands                  11453\n",
       "Italy                        11332\n",
       "Poland                        9693\n",
       "Indonesia                     9273\n",
       "Philippines                   9244\n",
       "Singapore                     7172\n",
       "Ireland                       6493\n",
       "Malaysia                      6439\n",
       "Romania                       6428\n",
       "Ukraine                       5577\n",
       "Israel                        5563\n",
       "Peru                          5546\n",
       "Sweden                        5315\n",
       "South Korea                   5237\n",
       "                             ...  \n",
       "Timor-Leste                      7\n",
       "Liechtenstein                    7\n",
       "Lesotho                          6\n",
       "Turkmenistan                     5\n",
       "Antigua & Barbuda                5\n",
       "Greenland                        5\n",
       "British Virgin Islands           5\n",
       "Caribbean Netherlands            4\n",
       "Guinea-Bissau                    4\n",
       "Equatorial Guinea                4\n",
       "Central African Republic         4\n",
       "San Marino                       4\n",
       "Vanuatu                          3\n",
       "Isle of Man                      3\n",
       "Seychelles                       3\n",
       "Dominica                         3\n",
       "Congo - Brazzaville              3\n",
       "Cook Islands                     3\n",
       "Marshall Islands                 2\n",
       "Comoros                          2\n",
       "St. Barthélemy                   1\n",
       "St. Pierre & Miquelon            1\n",
       "São Tomé & Príncipe              1\n",
       "American Samoa                   1\n",
       "Norfolk Island                   1\n",
       "St. Martin                       1\n",
       "Åland Islands                    1\n",
       "Samoa                            1\n",
       "Eritrea                          1\n",
       "Anguilla                         1\n",
       "Name: country, Length: 222, dtype: int64"
      ]
     },
     "execution_count": 65,
     "metadata": {},
     "output_type": "execute_result"
    }
   ],
   "source": [
    "train_df['country'].value_counts()"
   ]
  },
  {
   "cell_type": "code",
   "execution_count": 66,
   "metadata": {
    "collapsed": true
   },
   "outputs": [],
   "source": [
    "%matplotlib inline\n",
    "#????"
   ]
  },
  {
   "cell_type": "code",
   "execution_count": null,
   "metadata": {
    "collapsed": true
   },
   "outputs": [],
   "source": [
    "'continent'"
   ]
  },
  {
   "cell_type": "code",
   "execution_count": 67,
   "metadata": {},
   "outputs": [
    {
     "data": {
      "text/plain": [
       "Americas     450377\n",
       "Asia         223698\n",
       "Europe       198311\n",
       "Oceania       15054\n",
       "Africa        14745\n",
       "(not set)      1468\n",
       "Name: continent, dtype: int64"
      ]
     },
     "execution_count": 67,
     "metadata": {},
     "output_type": "execute_result"
    }
   ],
   "source": [
    "train_df['continent'].value_counts()"
   ]
  },
  {
   "cell_type": "code",
   "execution_count": 68,
   "metadata": {},
   "outputs": [
    {
     "data": {
      "text/plain": [
       "<matplotlib.axes._subplots.AxesSubplot at 0x1e44f3b70>"
      ]
     },
     "execution_count": 68,
     "metadata": {},
     "output_type": "execute_result"
    },
    {
     "data": {
      "image/png": "[encoded data removed]",
      "text/plain": [
       "<matplotlib.figure.Figure at 0x1e44b5ef0>"
      ]
     },
     "metadata": {},
     "output_type": "display_data"
    }
   ],
   "source": [
    "%matplotlib inline\n",
    "train_df.continent.hist(bins=100, figsize=(10,10))"
   ]
  },
  {
   "cell_type": "code",
   "execution_count": null,
   "metadata": {
    "collapsed": true
   },
   "outputs": [],
   "source": [
    "'region'"
   ]
  },
  {
   "cell_type": "code",
   "execution_count": 69,
   "metadata": {},
   "outputs": [
    {
     "data": {
      "text/plain": [
       "not available in demo dataset    508229\n",
       "California                       107495\n",
       "(not set)                         27827\n",
       "New York                          26433\n",
       "England                           13198\n",
       "Texas                              8749\n",
       "Bangkok                            7709\n",
       "Washington                         7642\n",
       "Illinois                           7585\n",
       "Ho Chi Minh                        7250\n",
       "Istanbul                           6330\n",
       "Maharashtra                        6184\n",
       "Ontario                            5997\n",
       "Taipei City                        5789\n",
       "Karnataka                          5476\n",
       "Delhi                              5278\n",
       "Hanoi                              5141\n",
       "New South Wales                    4932\n",
       "Tamil Nadu                         4632\n",
       "Ile-de-France                      4338\n",
       "State of Sao Paulo                 4189\n",
       "Telangana                          3955\n",
       "County Dublin                      3650\n",
       "Tel Aviv District                  3633\n",
       "Tokyo                              3341\n",
       "Jakarta                            3338\n",
       "Masovian Voivodeship               3288\n",
       "Virginia                           3101\n",
       "Community of Madrid                2937\n",
       "Victoria                           2741\n",
       "                                  ...  \n",
       "Baja California                       6\n",
       "Puebla                                6\n",
       "Erzurum                               6\n",
       "Central Java                          6\n",
       "Manitoba                              6\n",
       "Phu Tho Province                      6\n",
       "Beirut Governorate                    6\n",
       "Bremen                                6\n",
       "Ha Tinh Province                      6\n",
       "Oran Province                         6\n",
       "State of Espirito Santo               6\n",
       "Aydin Province                        6\n",
       "Oklahoma                              6\n",
       "Lopburi                               6\n",
       "Leiria District                       6\n",
       "Abruzzo                               6\n",
       "Maha Sarakham                         6\n",
       "Okinawa Prefecture                    6\n",
       "Sonora                                6\n",
       "Assam                                 6\n",
       "Queretaro                             6\n",
       "Binh Phuoc                            6\n",
       "Islamabad Capital Territory           6\n",
       "Nord-Pas-de-Calais                    6\n",
       "Overijssel                            6\n",
       "Guanajuato                            6\n",
       "Hradec Kralove Region                 6\n",
       "San Salvador Department               5\n",
       "Kumamoto Prefecture                   5\n",
       "Montana                               3\n",
       "Name: region, Length: 376, dtype: int64"
      ]
     },
     "execution_count": 69,
     "metadata": {},
     "output_type": "execute_result"
    }
   ],
   "source": [
    "train_df['region'].value_counts()"
   ]
  },
  {
   "cell_type": "code",
   "execution_count": 71,
   "metadata": {
    "collapsed": true
   },
   "outputs": [],
   "source": [
    "%matplotlib inline\n",
    "#?"
   ]
  },
  {
   "cell_type": "code",
   "execution_count": null,
   "metadata": {
    "collapsed": true
   },
   "outputs": [],
   "source": [
    "'networkDomain'"
   ]
  },
  {
   "cell_type": "code",
   "execution_count": 72,
   "metadata": {},
   "outputs": [
    {
     "data": {
      "text/plain": [
       "(not set)                  244881\n",
       "unknown.unknown            146034\n",
       "comcast.net                 28743\n",
       "rr.com                      14827\n",
       "verizon.net                 13637\n",
       "ttnet.com.tr                13228\n",
       "comcastbusiness.net          9985\n",
       "hinet.net                    7919\n",
       "virginm.net                  6414\n",
       "3bb.co.th                    6046\n",
       "prod-infinitum.com.mx        5960\n",
       "cox.net                      5812\n",
       "sbcglobal.net                5388\n",
       "btcentralplus.com            5304\n",
       "att.net                      5230\n",
       "google.com                   5035\n",
       "optonline.net                4972\n",
       "totbb.net                    4895\n",
       "vnpt.vn                      4508\n",
       "asianet.co.th                4374\n",
       "pldt.net                     4008\n",
       "rima-tde.net                 3963\n",
       "amazonaws.com                3769\n",
       "t-ipconnect.de               3656\n",
       "telecomitalia.it             3571\n",
       "qwest.net                    3534\n",
       "airtelbroadband.in           3389\n",
       "virtua.com.br                3318\n",
       "bell.ca                      2904\n",
       "ztomy.com                    2845\n",
       "                            ...  \n",
       "costcom.ru                      1\n",
       "orbuscompany.com                1\n",
       "dupre-groenprojecten.nl         1\n",
       "nielsengpms.com                 1\n",
       "vianovatelecom.com.br           1\n",
       "feinewerkzeuge.de               1\n",
       "hastwood.net                    1\n",
       "alandick.ro                     1\n",
       "rusneftekhim.ru                 1\n",
       "hi-p.com                        1\n",
       "serverspace.co.uk               1\n",
       "centuryshpg.com.hk              1\n",
       "uol.com.sg                      1\n",
       "thebiltmore.net                 1\n",
       "infowest.net                    1\n",
       "hs-rm.de                        1\n",
       "shamrockelectric.com            1\n",
       "sertao.net                      1\n",
       "dcs.co.zm                       1\n",
       "dsbrown.com.sg                  1\n",
       "stlghana.com                    1\n",
       "ksnetworkbd.net                 1\n",
       "beingmate.com                   1\n",
       "tamdistrict.org                 1\n",
       "state.mi.us                     1\n",
       "getronics.com                   1\n",
       "tecnicscorp.com                 1\n",
       "icm.edu.pl                      1\n",
       "hatteland.com                   1\n",
       "novotrucks.ro                   1\n",
       "Name: networkDomain, Length: 28064, dtype: int64"
      ]
     },
     "execution_count": 72,
     "metadata": {},
     "output_type": "execute_result"
    }
   ],
   "source": [
    "train_df['networkDomain'].value_counts()"
   ]
  },
  {
   "cell_type": "code",
   "execution_count": null,
   "metadata": {
    "collapsed": true
   },
   "outputs": [],
   "source": []
  },
  {
   "cell_type": "code",
   "execution_count": null,
   "metadata": {
    "collapsed": true
   },
   "outputs": [],
   "source": [
    "'city'"
   ]
  },
  {
   "cell_type": "code",
   "execution_count": 73,
   "metadata": {},
   "outputs": [
    {
     "data": {
      "text/plain": [
       "not available in demo dataset    508229\n",
       "Mountain View                     40884\n",
       "(not set)                         34262\n",
       "New York                          26371\n",
       "San Francisco                     20329\n",
       "Sunnyvale                         13086\n",
       "London                            12607\n",
       "San Jose                          10295\n",
       "Los Angeles                        8670\n",
       "Bangkok                            7709\n",
       "Chicago                            7444\n",
       "Ho Chi Minh City                   7342\n",
       "Istanbul                           6330\n",
       "Bengaluru                          5468\n",
       "Toronto                            5223\n",
       "Hanoi                              5032\n",
       "Seattle                            5025\n",
       "Sydney                             4926\n",
       "Dublin                             4877\n",
       "Sao Paulo                          4106\n",
       "Mumbai                             4099\n",
       "Chennai                            4090\n",
       "Paris                              4013\n",
       "Hyderabad                          3934\n",
       "Austin                             3790\n",
       "Tel Aviv-Yafo                      3542\n",
       "Hong Kong                          3508\n",
       "Jakarta                            3338\n",
       "Singapore                          3299\n",
       "Warsaw                             3288\n",
       "                                  ...  \n",
       "Netanya                               6\n",
       "Thane                                 6\n",
       "Beirut                                6\n",
       "Islamabad                             6\n",
       "Wollongong                            6\n",
       "Annecy-le-Vieux                       6\n",
       "Talence                               6\n",
       "Sandy                                 6\n",
       "Newark                                6\n",
       "Vadodara                              6\n",
       "Surat                                 6\n",
       "Hradec Kralove                        6\n",
       "Orem                                  6\n",
       "Marlboro                              6\n",
       "Amherst                               6\n",
       "Vila Velha                            6\n",
       "Kuwait City                           6\n",
       "Tallahassee                           6\n",
       "New Westminster                       6\n",
       "Winnipeg                              6\n",
       "Muntinlupa                            6\n",
       "Clermont-Ferrand                      6\n",
       "San Salvador                          5\n",
       "Campbell                              5\n",
       "Kumamoto                              5\n",
       "Douglasville                          5\n",
       "Deep River                            5\n",
       "Daly City                             4\n",
       "Bozeman                               3\n",
       "Boise                                 3\n",
       "Name: city, Length: 649, dtype: int64"
      ]
     },
     "execution_count": 73,
     "metadata": {},
     "output_type": "execute_result"
    }
   ],
   "source": [
    "train_df['city'].value_counts()"
   ]
  },
  {
   "cell_type": "code",
   "execution_count": null,
   "metadata": {
    "collapsed": true
   },
   "outputs": [],
   "source": []
  },
  {
   "cell_type": "code",
   "execution_count": null,
   "metadata": {
    "collapsed": true
   },
   "outputs": [],
   "source": [
    "'metro'"
   ]
  },
  {
   "cell_type": "code",
   "execution_count": 74,
   "metadata": {},
   "outputs": [
    {
     "data": {
      "text/plain": [
       "not available in demo dataset                508229\n",
       "(not set)                                    201766\n",
       "San Francisco-Oakland-San Jose CA             95913\n",
       "New York NY                                   26917\n",
       "London                                        12571\n",
       "Los Angeles CA                                 9995\n",
       "Seattle-Tacoma WA                              7642\n",
       "Chicago IL                                     7585\n",
       "Austin TX                                      3790\n",
       "Washington DC (Hagerstown MD)                  3380\n",
       "Boston MA-Manchester NH                        2628\n",
       "Houston TX                                     2475\n",
       "Atlanta GA                                     2463\n",
       "Detroit MI                                     2403\n",
       "Roanoke-Lynchburg VA                           2227\n",
       "Dallas-Ft. Worth TX                            2012\n",
       "San Diego CA                                   1364\n",
       "Portland OR                                    1319\n",
       "Pittsburgh PA                                  1076\n",
       "Denver CO                                       877\n",
       "Philadelphia PA                                 800\n",
       "Phoenix AZ                                      537\n",
       "Charlotte NC                                    525\n",
       "Columbus OH                                     517\n",
       "La Crosse-Eau Claire WI                         396\n",
       "San Antonio TX                                  393\n",
       "Orlando-Daytona Beach-Melbourne FL              360\n",
       "JP_KANTO                                        279\n",
       "North West                                      271\n",
       "Minneapolis-St. Paul MN                         197\n",
       "                                              ...  \n",
       "Utica NY                                         23\n",
       "North Scotland                                   21\n",
       "Honolulu HI                                      21\n",
       "HTV Wales                                        20\n",
       "Albany-Schenectady-Troy NY                       19\n",
       "Madison WI                                       17\n",
       "Colorado Springs-Pueblo CO                       16\n",
       "Greenville-Spartanburg-Asheville-Anderson        16\n",
       "Wheeling WV-Steubenville OH                      14\n",
       "HTV West                                         13\n",
       "Charlottesville VA                               13\n",
       "JP_OTHER                                         12\n",
       "Abilene-Sweetwater TX                            10\n",
       "Memphis TN                                       10\n",
       "Mankato MN                                        9\n",
       "Panama City FL                                    8\n",
       "Tri-Cities TN-VA                                  8\n",
       "Springfield MO                                    8\n",
       "Lexington KY                                      8\n",
       "Tucson (Sierra Vista) AZ                          7\n",
       "New Orleans LA                                    7\n",
       "Syracuse NY                                       7\n",
       "Augusta GA                                        7\n",
       "Springfield-Holyoke MA                            6\n",
       "Tallahassee FL-Thomasville GA                     6\n",
       "Rochester-Mason City-Austin,IA                    6\n",
       "Chattanooga TN                                    6\n",
       "Providence-New Bedford,MA                         6\n",
       "Boise ID                                          3\n",
       "Butte-Bozeman MT                                  3\n",
       "Name: metro, Length: 94, dtype: int64"
      ]
     },
     "execution_count": 74,
     "metadata": {},
     "output_type": "execute_result"
    }
   ],
   "source": [
    "train_df['metro'].value_counts()"
   ]
  },
  {
   "cell_type": "code",
   "execution_count": null,
   "metadata": {
    "collapsed": true
   },
   "outputs": [],
   "source": []
  },
  {
   "cell_type": "code",
   "execution_count": null,
   "metadata": {
    "collapsed": true
   },
   "outputs": [],
   "source": [
    "'bounces'"
   ]
  },
  {
   "cell_type": "code",
   "execution_count": 75,
   "metadata": {},
   "outputs": [
    {
     "data": {
      "text/plain": [
       "no_key    453023\n",
       "1         450630\n",
       "Name: bounces, dtype: int64"
      ]
     },
     "execution_count": 75,
     "metadata": {},
     "output_type": "execute_result"
    }
   ],
   "source": [
    "train_df['bounces'].value_counts()"
   ]
  },
  {
   "cell_type": "code",
   "execution_count": 84,
   "metadata": {},
   "outputs": [
    {
     "data": {
      "text/plain": [
       "<matplotlib.axes._subplots.AxesSubplot at 0x1ae701908>"
      ]
     },
     "execution_count": 84,
     "metadata": {},
     "output_type": "execute_result"
    },
    {
     "data": {
      "image/png": "[encoded data removed]",
      "text/plain": [
       "<matplotlib.figure.Figure at 0x147f49f28>"
      ]
     },
     "metadata": {},
     "output_type": "display_data"
    }
   ],
   "source": [
    "%matplotlib inline\n",
    "train_df.bounces.hist(bins=3, figsize=(4,4))"
   ]
  },
  {
   "cell_type": "code",
   "execution_count": null,
   "metadata": {
    "collapsed": true
   },
   "outputs": [],
   "source": [
    "'transactionRevenue'"
   ]
  },
  {
   "cell_type": "code",
   "execution_count": 85,
   "metadata": {},
   "outputs": [
    {
     "data": {
      "text/plain": [
       "0.000000     892138\n",
       "16.648135       256\n",
       "16.759423       189\n",
       "17.329739       187\n",
       "17.617495       170\n",
       "16.424845       135\n",
       "17.840684       122\n",
       "16.810743       116\n",
       "16.587474        98\n",
       "16.536148        93\n",
       "16.769900        92\n",
       "16.212496        84\n",
       "17.909688        81\n",
       "17.033986        77\n",
       "18.197412        65\n",
       "17.118360        64\n",
       "17.117992        62\n",
       "17.341283        54\n",
       "17.504140        51\n",
       "18.022886        46\n",
       "14.503645        44\n",
       "16.906098        40\n",
       "17.175191        40\n",
       "17.398474        39\n",
       "17.229624        39\n",
       "16.682841        38\n",
       "17.229295        37\n",
       "17.147001        37\n",
       "16.379690        37\n",
       "17.280934        37\n",
       "              ...  \n",
       "16.886350         1\n",
       "19.134415         1\n",
       "21.799500         1\n",
       "19.408063         1\n",
       "18.221986         1\n",
       "17.337745         1\n",
       "17.756510         1\n",
       "20.937611         1\n",
       "17.130060         1\n",
       "19.109368         1\n",
       "18.827611         1\n",
       "18.270207         1\n",
       "17.577408         1\n",
       "16.922337         1\n",
       "19.833130         1\n",
       "16.959663         1\n",
       "19.327729         1\n",
       "19.941069         1\n",
       "17.902831         1\n",
       "17.777656         1\n",
       "16.921442         1\n",
       "19.790973         1\n",
       "18.336429         1\n",
       "19.536445         1\n",
       "17.932432         1\n",
       "19.028597         1\n",
       "17.194121         1\n",
       "18.112524         1\n",
       "20.434650         1\n",
       "19.926157         1\n",
       "Name: transactionRevenue, Length: 5333, dtype: int64"
      ]
     },
     "execution_count": 85,
     "metadata": {},
     "output_type": "execute_result"
    }
   ],
   "source": [
    "train_df['transactionRevenue'].value_counts()"
   ]
  },
  {
   "cell_type": "code",
   "execution_count": null,
   "metadata": {
    "collapsed": true
   },
   "outputs": [],
   "source": []
  },
  {
   "cell_type": "code",
   "execution_count": null,
   "metadata": {
    "collapsed": true
   },
   "outputs": [],
   "source": [
    "'hits'"
   ]
  },
  {
   "cell_type": "code",
   "execution_count": 86,
   "metadata": {},
   "outputs": [
    {
     "data": {
      "text/plain": [
       "1      446754\n",
       "2      137952\n",
       "3       70402\n",
       "4       42444\n",
       "5       30939\n",
       "6       23918\n",
       "7       19518\n",
       "8       15484\n",
       "9       12959\n",
       "10      10640\n",
       "11       9264\n",
       "12       7879\n",
       "13       6881\n",
       "14       6194\n",
       "15       5384\n",
       "16       4716\n",
       "17       4130\n",
       "18       3755\n",
       "19       3291\n",
       "20       3064\n",
       "21       2798\n",
       "22       2477\n",
       "23       2190\n",
       "24       2126\n",
       "25       1925\n",
       "26       1718\n",
       "27       1504\n",
       "28       1406\n",
       "29       1291\n",
       "30       1289\n",
       "        ...  \n",
       "361         1\n",
       "386         1\n",
       "205         1\n",
       "483         1\n",
       "237         1\n",
       "204         1\n",
       "251         1\n",
       "216         1\n",
       "291         1\n",
       "273         1\n",
       "224         1\n",
       "307         1\n",
       "259         1\n",
       "195         1\n",
       "181         1\n",
       "178         1\n",
       "437         1\n",
       "203         1\n",
       "247         1\n",
       "199         1\n",
       "292         1\n",
       "347         1\n",
       "246         1\n",
       "283         1\n",
       "239         1\n",
       "328         1\n",
       "262         1\n",
       "180         1\n",
       "278         1\n",
       "353         1\n",
       "Name: hits, Length: 274, dtype: int64"
      ]
     },
     "execution_count": 86,
     "metadata": {},
     "output_type": "execute_result"
    }
   ],
   "source": [
    "train_df['hits'].value_counts()"
   ]
  },
  {
   "cell_type": "code",
   "execution_count": null,
   "metadata": {
    "collapsed": true
   },
   "outputs": [],
   "source": []
  },
  {
   "cell_type": "code",
   "execution_count": null,
   "metadata": {
    "collapsed": true
   },
   "outputs": [],
   "source": [
    "'pageviews'"
   ]
  },
  {
   "cell_type": "code",
   "execution_count": 87,
   "metadata": {},
   "outputs": [
    {
     "data": {
      "text/plain": [
       "1      452522\n",
       "2      143770\n",
       "3       73835\n",
       "4       45192\n",
       "5       33411\n",
       "6       24688\n",
       "7       19476\n",
       "8       15272\n",
       "9       12585\n",
       "10      10104\n",
       "11       8671\n",
       "12       7097\n",
       "13       6197\n",
       "14       5291\n",
       "15       4720\n",
       "16       4010\n",
       "17       3511\n",
       "18       3150\n",
       "19       2682\n",
       "20       2409\n",
       "21       2211\n",
       "22       1949\n",
       "23       1722\n",
       "24       1567\n",
       "25       1413\n",
       "26       1318\n",
       "27       1143\n",
       "28       1091\n",
       "29        875\n",
       "30        873\n",
       "        ...  \n",
       "358         1\n",
       "431         1\n",
       "162         1\n",
       "136         1\n",
       "466         1\n",
       "340         1\n",
       "249         1\n",
       "155         1\n",
       "164         1\n",
       "174         1\n",
       "323         1\n",
       "469         1\n",
       "333         1\n",
       "208         1\n",
       "197         1\n",
       "429         1\n",
       "309         1\n",
       "144         1\n",
       "154         1\n",
       "400         1\n",
       "190         1\n",
       "195         1\n",
       "182         1\n",
       "151         1\n",
       "275         1\n",
       "351         1\n",
       "220         1\n",
       "186         1\n",
       "141         1\n",
       "305         1\n",
       "Name: pageviews, Length: 214, dtype: int64"
      ]
     },
     "execution_count": 87,
     "metadata": {},
     "output_type": "execute_result"
    }
   ],
   "source": [
    "train_df['pageviews'].value_counts()"
   ]
  },
  {
   "cell_type": "code",
   "execution_count": null,
   "metadata": {
    "collapsed": true
   },
   "outputs": [],
   "source": []
  },
  {
   "cell_type": "code",
   "execution_count": null,
   "metadata": {
    "collapsed": true
   },
   "outputs": [],
   "source": [
    "'newVisits'"
   ]
  },
  {
   "cell_type": "code",
   "execution_count": 88,
   "metadata": {},
   "outputs": [
    {
     "data": {
      "text/plain": [
       "1         703060\n",
       "no_key    200593\n",
       "Name: newVisits, dtype: int64"
      ]
     },
     "execution_count": 88,
     "metadata": {},
     "output_type": "execute_result"
    }
   ],
   "source": [
    "train_df['newVisits'].value_counts()"
   ]
  },
  {
   "cell_type": "code",
   "execution_count": 89,
   "metadata": {},
   "outputs": [
    {
     "data": {
      "text/plain": [
       "<matplotlib.axes._subplots.AxesSubplot at 0x1ae84aa90>"
      ]
     },
     "execution_count": 89,
     "metadata": {},
     "output_type": "execute_result"
    },
    {
     "data": {
      "image/png": "[encoded data removed]",
      "text/plain": [
       "<matplotlib.figure.Figure at 0x1184d5f60>"
      ]
     },
     "metadata": {},
     "output_type": "display_data"
    }
   ],
   "source": [
    "%matplotlib inline\n",
    "train_df.newVisits.hist(bins=3, figsize=(4,4))"
   ]
  },
  {
   "cell_type": "code",
   "execution_count": null,
   "metadata": {
    "collapsed": true
   },
   "outputs": [],
   "source": [
    "'medium'"
   ]
  },
  {
   "cell_type": "code",
   "execution_count": 90,
   "metadata": {},
   "outputs": [
    {
     "data": {
      "text/plain": [
       "organic      381561\n",
       "referral     330955\n",
       "(none)       143026\n",
       "cpc           25326\n",
       "affiliate     16403\n",
       "cpm            6262\n",
       "(not set)       120\n",
       "Name: medium, dtype: int64"
      ]
     },
     "execution_count": 90,
     "metadata": {},
     "output_type": "execute_result"
    }
   ],
   "source": [
    "train_df['medium'].value_counts()"
   ]
  },
  {
   "cell_type": "code",
   "execution_count": 95,
   "metadata": {},
   "outputs": [
    {
     "data": {
      "text/plain": [
       "<matplotlib.axes._subplots.AxesSubplot at 0x147163ba8>"
      ]
     },
     "execution_count": 95,
     "metadata": {},
     "output_type": "execute_result"
    },
    {
     "data": {
      "image/png": "[encoded data removed]",
      "text/plain": [
       "<matplotlib.figure.Figure at 0x1471ce518>"
      ]
     },
     "metadata": {},
     "output_type": "display_data"
    }
   ],
   "source": [
    "%matplotlib inline\n",
    "train_df.medium.hist(bins=40, figsize=(10,4))"
   ]
  },
  {
   "cell_type": "code",
   "execution_count": null,
   "metadata": {
    "collapsed": true
   },
   "outputs": [],
   "source": [
    "'campaign'"
   ]
  },
  {
   "cell_type": "code",
   "execution_count": 96,
   "metadata": {},
   "outputs": [
    {
     "data": {
      "text/plain": [
       "(not set)                                          865347\n",
       "Data Share Promo                                    16403\n",
       "AW - Dynamic Search Ads Whole Site                  14244\n",
       "AW - Accessories                                     7070\n",
       "test-liyuhz                                           392\n",
       "AW - Electronics                                       96\n",
       "Retail (DO NOT EDIT owners nophakun and tianyu)        50\n",
       "AW - Apparel                                           46\n",
       "All Products                                            4\n",
       "Data Share                                              1\n",
       "Name: campaign, dtype: int64"
      ]
     },
     "execution_count": 96,
     "metadata": {},
     "output_type": "execute_result"
    }
   ],
   "source": [
    "train_df['campaign'].value_counts()"
   ]
  },
  {
   "cell_type": "code",
   "execution_count": 102,
   "metadata": {},
   "outputs": [
    {
     "data": {
      "text/plain": [
       "<matplotlib.axes._subplots.AxesSubplot at 0x1d9064128>"
      ]
     },
     "execution_count": 102,
     "metadata": {},
     "output_type": "execute_result"
    },
    {
     "data": {
      "image/png": "[encoded data removed]",
      "text/plain": [
       "<matplotlib.figure.Figure at 0x1d90755c0>"
      ]
     },
     "metadata": {},
     "output_type": "display_data"
    }
   ],
   "source": [
    "%matplotlib inline\n",
    "train_df.campaign.hist(bins=20, figsize=(40,1))"
   ]
  },
  {
   "cell_type": "code",
   "execution_count": null,
   "metadata": {
    "collapsed": true
   },
   "outputs": [],
   "source": [
    "'referralPath'"
   ]
  },
  {
   "cell_type": "code",
   "execution_count": 103,
   "metadata": {},
   "outputs": [
    {
     "data": {
      "text/plain": [
       "no_key                                                                                                                                                                                                572712\n",
       "/                                                                                                                                                                                                      75523\n",
       "/yt/about/                                                                                                                                                                                             71036\n",
       "/analytics/web/                                                                                                                                                                                        14620\n",
       "/yt/about/tr/                                                                                                                                                                                          14599\n",
       "/yt/about/vi/                                                                                                                                                                                          13753\n",
       "/yt/about/es-419/                                                                                                                                                                                      12735\n",
       "/yt/about/pt-BR/                                                                                                                                                                                       12003\n",
       "/yt/about/th/                                                                                                                                                                                          11430\n",
       "/yt/about/ru/                                                                                                                                                                                          11193\n",
       "/yt/about/es/                                                                                                                                                                                           7092\n",
       "/yt/about/en-GB/                                                                                                                                                                                        6576\n",
       "/yt/about/fr/                                                                                                                                                                                           5704\n",
       "/yt/about/ja/                                                                                                                                                                                           4679\n",
       "/permissions/using-the-logo.html                                                                                                                                                                        4365\n",
       "/yt/about/ar/                                                                                                                                                                                           4280\n",
       "/yt/about/pl/                                                                                                                                                                                           3617\n",
       "/yt/about/de/                                                                                                                                                                                           2860\n",
       "/yt/about/zh-TW/                                                                                                                                                                                        2799\n",
       "/yt/about/ro/                                                                                                                                                                                           2139\n",
       "/od/Things-To-Do-in-Silicon-Valley/fl/How-To-Visit-the-Googleplex-the-Google-Head-Office-in-Mountain-View.htm                                                                                           2056\n",
       "/yt/about/ko/                                                                                                                                                                                           2036\n",
       "/yt/about/it/                                                                                                                                                                                           2012\n",
       "/yt/about/id/                                                                                                                                                                                           1888\n",
       "/YKEI_mrn/items/c10b14f9a69ff71b1b7a                                                                                                                                                                    1784\n",
       "/analytics/web/inpage_launch                                                                                                                                                                            1638\n",
       "/a/google.com/googletopia/discounts-deals-and-free-stuff/alphabet-google-discounts                                                                                                                      1118\n",
       "/offer/2145                                                                                                                                                                                             1064\n",
       "/yt/about/iw/                                                                                                                                                                                           1053\n",
       "/mail/u/0/                                                                                                                                                                                              1034\n",
       "                                                                                                                                                                                                       ...  \n",
       "/spreadsheets/d/1SeXdlyJYrRzr_NwV7FSpyKOyvYefdFuswhsYEAXTNbo/edit                                                                                                                                          1\n",
       "/pin/426082814733567791/                                                                                                                                                                                   1\n",
       "/bookmarks/lookup                                                                                                                                                                                          1\n",
       "/a/read/1806040074                                                                                                                                                                                         1\n",
       "/npy6HgRsVv                                                                                                                                                                                                1\n",
       "/intl/hr/yt/about/policies/                                                                                                                                                                                1\n",
       "/ads/richmedia/studio/pv2/47540409/20170301113924991/index.html                                                                                                                                            1\n",
       "/from=1015097g/bd_page_type=1/ssid=0/uid=0/pu=usm%402%2Csz%40320_1001%2Cta%40iphone_2_6.0_3_537/baiduid=22B8C71DB793B95520E54A2F225A92F8/w=0_10_/t=iphone/l=3/tc                                           1\n",
       "/ads/richmedia/studio/pv2/60166003/20170421133738364/index.html                                                                                                                                            1\n",
       "/from=1086k/bd_page_type=1/ssid=0/uid=0/pu=usm%400%2Csz%401321_1002%2Cta%40utouch_1__2_6.9/baiduid=4A25164F1F2BE77BAF28ED8D47943664/w=0_10_google%E5%95%86%E5%BA%97%E5%AE%98%E7%BD%91/t=wap/l=3/tc         1\n",
       "/presentation/d/1aaKFgSzAoOoJnD7bjw98G61XBiX_9OPRdWWEJUR5gSg/present                                                                                                                                       1\n",
       "/GavxdC1ggY                                                                                                                                                                                                1\n",
       "/ads/richmedia/studio/pv2/60179135/20170427123941317/index.html                                                                                                                                            1\n",
       "/ads/preferences/whythisad/en-US/Gbc2IQqM9Vt5LmmF/                                                                                                                                                         1\n",
       "/UQ9b09Uens                                                                                                                                                                                                1\n",
       "/ads/richmedia/studio/pv2/45529016/20160920115542450/index.html                                                                                                                                            1\n",
       "/webapps/blackboard/execute/content/file                                                                                                                                                                   1\n",
       "/a/google.com/nestlabs/development/nest-mentor-programs/mentee                                                                                                                                             1\n",
       "/a/google.com/nto-market-management-site/market-documetation/austin-tx/gee-wiz-links                                                                                                                       1\n",
       "/from=844b/bd_page_type=1/ssid=0/uid=0/pu=usm%400%2Csz%40320_1001%2Cta%40iphone_2_7.1_3_537/baiduid=1EB492F05355A756C548463E6E3FF060/w=0_10_/t=iphone/l=3/tc                                               1\n",
       "/ads/richmedia/studio/pv2/45759691/dirty/index.html                                                                                                                                                        1\n",
       "/ads/richmedia/studio/pv2/45761565/dirty/index.html                                                                                                                                                        1\n",
       "/intl/iw/yt/about/brand-resources/                                                                                                                                                                         1\n",
       "/mail/mu/mp/469/                                                                                                                                                                                           1\n",
       "/ads/richmedia/studio/pv2/47369756/20170126162720541/index.html                                                                                                                                            1\n",
       "/mail/mu/mp/766/                                                                                                                                                                                           1\n",
       "/a/google.com/nestlabs/the-nest-pulse                                                                                                                                                                      1\n",
       "/from=1019023b/bd_page_type=1/ssid=0/uid=0/pu=usm%403%2Csz%401320_1001%2Cta%40iphone_2_6.0_3_537/baiduid=81B5E0170C3376788049DE4747F04F78/w=0_10_google+app+store/t=iphone/l=3/tc                          1\n",
       "/from=844b/bd_page_type=1/ssid=0/uid=0/pu=usm%400%2Csz%40320_1001%2Cta%40iphone_2_6.0_3_537/baiduid=FC6AC1F20A63A3F54B1225A33FC9B60F/w=0_10_/t=iphone/l=3/tc                                               1\n",
       "/from=1017188c/bd_page_type=1/ssid=0/uid=0/pu=usm%400%2Csz%40320_1001%2Cta%40iphone_2_5.1_3_537/baiduid=E0CA0A7FD6C9064042D282172A4F3883/w=0_10_/t=iphone/l=3/tc                                           1\n",
       "Name: referralPath, Length: 1476, dtype: int64"
      ]
     },
     "execution_count": 103,
     "metadata": {},
     "output_type": "execute_result"
    }
   ],
   "source": [
    "train_df['referralPath'].value_counts()"
   ]
  },
  {
   "cell_type": "code",
   "execution_count": null,
   "metadata": {
    "collapsed": true
   },
   "outputs": [],
   "source": [
    "'isTrueDirect'"
   ]
  },
  {
   "cell_type": "code",
   "execution_count": 104,
   "metadata": {},
   "outputs": [
    {
     "data": {
      "text/plain": [
       "no_key    629648\n",
       "True      274005\n",
       "Name: isTrueDirect, dtype: int64"
      ]
     },
     "execution_count": 104,
     "metadata": {},
     "output_type": "execute_result"
    }
   ],
   "source": [
    "train_df['isTrueDirect'].value_counts()"
   ]
  },
  {
   "cell_type": "code",
   "execution_count": 105,
   "metadata": {},
   "outputs": [
    {
     "data": {
      "text/plain": [
       "<matplotlib.axes._subplots.AxesSubplot at 0x1e26ec710>"
      ]
     },
     "execution_count": 105,
     "metadata": {},
     "output_type": "execute_result"
    },
    {
     "data": {
      "image/png": "[encoded data removed]",
      "text/plain": [
       "<matplotlib.figure.Figure at 0x1e299a6d8>"
      ]
     },
     "metadata": {},
     "output_type": "display_data"
    }
   ],
   "source": [
    "%matplotlib inline\n",
    "train_df.isTrueDirect.hist(bins=3, figsize=(4,4))"
   ]
  },
  {
   "cell_type": "code",
   "execution_count": null,
   "metadata": {
    "collapsed": true
   },
   "outputs": [],
   "source": [
    "'keyword'"
   ]
  },
  {
   "cell_type": "code",
   "execution_count": 106,
   "metadata": {},
   "outputs": [
    {
     "data": {
      "text/plain": [
       "no_key                                                                                                 502929\n",
       "(not provided)                                                                                         366363\n",
       "6qEhsCssdK0z36ri                                                                                        11503\n",
       "(Remarketing/Content targeting)                                                                          2298\n",
       "1hZbAqLCbjwfgOH7                                                                                         2264\n",
       "google merchandise store                                                                                 2209\n",
       "Google Merchandise                                                                                       1648\n",
       "google store                                                                                             1277\n",
       "youtube                                                                                                   568\n",
       "(User vertical targeting)                                                                                 489\n",
       "1X4Me6ZKNV0zg-jV                                                                                          467\n",
       "(automatic matching)                                                                                      427\n",
       "+google +store                                                                                            377\n",
       "+Google +Merchandise                                                                                      352\n",
       "(content targeting)                                                                                       299\n",
       "+google +merchandise +store                                                                               258\n",
       "YouTube Merchandise                                                                                       254\n",
       "youtube merch                                                                                             247\n",
       "google merchandise                                                                                        238\n",
       "google merch                                                                                              210\n",
       "Youtube                                                                                                   166\n",
       "+Google +Products                                                                                         148\n",
       "https://www.googlemerchandisestore.com/                                                                   135\n",
       "google shop                                                                                               135\n",
       "Arts & Entertainment                                                                                      126\n",
       "google online store                                                                                       111\n",
       "youtube t shirt                                                                                           107\n",
       "+YouTube +Merchandise                                                                                     102\n",
       "+youtube +merch                                                                                           102\n",
       "google t shirt                                                                                            101\n",
       "                                                                                                        ...  \n",
       "https://www.googlemerchandisestore.com/Google+Redesign/Accessories/Drinkware/Chrome+Snuggle+Mug.axd         1\n",
       "toutobe                                                                                                     1\n",
       "shorter google                                                                                              1\n",
       "YouTube T-shirt online shopping                                                                             1\n",
       "slender slim                                                                                                1\n",
       "googler merchandise                                                                                         1\n",
       "youtude store                                                                                               1\n",
       "googl                                                                                                       1\n",
       "google onlanie                                                                                              1\n",
       "tshirt logo nanaya food & fruits store                                                                      1\n",
       "youtube hoody                                                                                               1\n",
       "youtube conm                                                                                                1\n",
       "google germany                                                                                              1\n",
       "vanadio t-shirt v23                                                                                         1\n",
       "YouTube T shirt                                                                                             1\n",
       "Sexc store you tube                                                                                         1\n",
       "cotton t shirts                                                                                             1\n",
       "14 oz                                                                                                       1\n",
       "google developer t shirts                                                                                   1\n",
       "Kick ball merch                                                                                             1\n",
       "YouTube t shart                                                                                             1\n",
       "youtube notebook buy online                                                                                 1\n",
       "google chrome shirt                                                                                         1\n",
       "Merchandise store                                                                                           1\n",
       "lava floor lamp                                                                                             1\n",
       "sports t shirts for kids                                                                                    1\n",
       "google pens                                                                                                 1\n",
       "www.google.com mens tshirt                                                                                  1\n",
       "Mechandise                                                                                                  1\n",
       "how to get youtube 5shirt                                                                                   1\n",
       "Name: keyword, Length: 3660, dtype: int64"
      ]
     },
     "execution_count": 106,
     "metadata": {},
     "output_type": "execute_result"
    }
   ],
   "source": [
    "train_df['keyword'].value_counts()"
   ]
  },
  {
   "cell_type": "code",
   "execution_count": null,
   "metadata": {
    "collapsed": true
   },
   "outputs": [],
   "source": [
    "'adContent'"
   ]
  },
  {
   "cell_type": "code",
   "execution_count": 107,
   "metadata": {},
   "outputs": [
    {
     "data": {
      "text/plain": [
       "no_key                                         892707\n",
       "Google Merchandise Collection                    5122\n",
       "Google Online Store                              1245\n",
       "Display Ad created 3/11/14                        967\n",
       "Full auto ad IMAGE ONLY                           822\n",
       "Ad from 12/13/16                                  610\n",
       "Ad from 11/3/16                                   489\n",
       "Display Ad created 3/11/15                        392\n",
       "{KeyWord:Google Brand Items}                      251\n",
       "{KeyWord:Google Merchandise}                      155\n",
       "Ad from 11/7/16                                   123\n",
       "First Full Auto Template Test Ad                   87\n",
       "Google Merchandise                                 87\n",
       "20% discount                                       75\n",
       "{KeyWord:Google Branded Gear}                      67\n",
       "{KeyWord:Looking for Google Bags?}                 65\n",
       "Swag with Google Logos                             64\n",
       "Display Ad created 11/17/14                        50\n",
       "{KeyWord:Want Google Stickers?}                    42\n",
       "JD_5a_v1                                           41\n",
       "{KeyWord:Google Drinkware}                         32\n",
       "{KeyWord:Google Men's T-Shirts}                    30\n",
       "LeEco_1a                                           25\n",
       "{KeyWord:Google Branded Kit}                       16\n",
       "Full auto ad TEXT ONLY                             16\n",
       "{KeyWord:Google Branded Apparel}                   10\n",
       "Want Google Sunglasses                              8\n",
       "Full auto ad TEXT/NATIVE                            7\n",
       "Google Paraphernalia                                7\n",
       "{KeyWord:Google Branded Outerwear}                  5\n",
       "{KeyWord:Want Google Pet Toys?}                     4\n",
       "Google Store                                        4\n",
       "Official Google Merchandise - Fast Shipping         4\n",
       "free shipping                                       3\n",
       "Full auto ad with Primary Color                     3\n",
       "url_builder                                         3\n",
       "Ad from 2/17/17                                     3\n",
       "Full auto ad NATIVE ONLY                            3\n",
       "Google store                                        2\n",
       "Free Shipping!                                      2\n",
       "google store                                        1\n",
       "visit us again                                      1\n",
       "Swag w/ Google Logos                                1\n",
       "Men's-Outerwear Google Apparel                      1\n",
       "GA Help Center                                      1\n",
       "Name: adContent, dtype: int64"
      ]
     },
     "execution_count": 107,
     "metadata": {},
     "output_type": "execute_result"
    }
   ],
   "source": [
    "train_df['adContent'].value_counts()"
   ]
  },
  {
   "cell_type": "code",
   "execution_count": null,
   "metadata": {
    "collapsed": true
   },
   "outputs": [],
   "source": []
  },
  {
   "cell_type": "code",
   "execution_count": null,
   "metadata": {
    "collapsed": true
   },
   "outputs": [],
   "source": [
    "'source'"
   ]
  },
  {
   "cell_type": "code",
   "execution_count": 108,
   "metadata": {},
   "outputs": [
    {
     "data": {
      "text/plain": [
       "google                                               400788\n",
       "youtube.com                                          212602\n",
       "(direct)                                             143028\n",
       "mall.googleplex.com                                   66416\n",
       "Partners                                              16411\n",
       "analytics.google.com                                  16172\n",
       "dfa                                                    5686\n",
       "google.com                                             4669\n",
       "m.facebook.com                                         3365\n",
       "baidu                                                  3356\n",
       "sites.google.com                                       2983\n",
       "facebook.com                                           2296\n",
       "siliconvalley.about.com                                2097\n",
       "reddit.com                                             2022\n",
       "qiita.com                                              1813\n",
       "quora.com                                              1546\n",
       "bing                                                   1530\n",
       "t.co                                                   1529\n",
       "yahoo                                                  1480\n",
       "mail.google.com                                        1457\n",
       "gdeals.googleplex.com                                  1063\n",
       "groups.google.com                                      1025\n",
       "l.facebook.com                                          795\n",
       "blog.golang.org                                         742\n",
       "dealspotr.com                                           528\n",
       "plus.google.com                                         524\n",
       "moma.corp.google.com                                    419\n",
       "docs.google.com                                         388\n",
       "productforums.google.com                                364\n",
       "google.co.jp                                            356\n",
       "                                                      ...  \n",
       "0.shared.bow.cat2.ads-bow.yw.borg.google.com:9895         1\n",
       "0.shared.bow.cat2.ads-bow.lf.borg.google.com:9860         1\n",
       "x20web.corp.google.com                                    1\n",
       "fr.yhs4.search.yahoo.com                                  1\n",
       "search.snapdo.com                                         1\n",
       "lmgtfy.com                                                1\n",
       "0.shared.bow.cat2.ads-bow.yw.borg.google.com:9898         1\n",
       "adwords-prod-west.qa.adz.google.com                       1\n",
       "google.com.ar                                             1\n",
       "web.whatsapp.com                                          1\n",
       "biztools.corp.google.com                                  1\n",
       "hosted.verticalresponse.com                               1\n",
       "gsuite.google.com                                         1\n",
       "good.barkpost.com                                         1\n",
       "0.shared.bow.cat2.ads-bow.lf.borg.google.com:9817         1\n",
       "s7-eu4.ixquick.com                                        1\n",
       "allo.corp.google.com                                      1\n",
       "meetup.com                                                1\n",
       "google.se                                                 1\n",
       "hk.search.yahoo.com                                       1\n",
       "google.sk                                                 1\n",
       "0.shared.bow.cat2.ads-bow.qk.borg.google.com:9831         1\n",
       "google.lk                                                 1\n",
       "0.shared.bow.cat2.ads-bow.vw.borg.google.com:9891         1\n",
       "collaborate.northwestern.edu                              1\n",
       "us.wow.com                                                1\n",
       "google.bg                                                 1\n",
       "0.shared.bow.cat2.ads-bow.lf.borg.google.com:9879         1\n",
       "gdeals-stg.googleplex.com                                 1\n",
       "0.shared.bow.cat2.ads-bow.yw.borg.google.com:9839         1\n",
       "Name: source, Length: 380, dtype: int64"
      ]
     },
     "execution_count": 108,
     "metadata": {},
     "output_type": "execute_result"
    }
   ],
   "source": [
    "train_df['source'].value_counts()"
   ]
  },
  {
   "cell_type": "code",
   "execution_count": null,
   "metadata": {
    "collapsed": true
   },
   "outputs": [],
   "source": [
    "'slot'"
   ]
  },
  {
   "cell_type": "code",
   "execution_count": 109,
   "metadata": {},
   "outputs": [
    {
     "data": {
      "text/plain": [
       "no_key    882193\n",
       "Top        20956\n",
       "RHS          504\n",
       "Name: slot, dtype: int64"
      ]
     },
     "execution_count": 109,
     "metadata": {},
     "output_type": "execute_result"
    }
   ],
   "source": [
    "train_df['slot'].value_counts()"
   ]
  },
  {
   "cell_type": "code",
   "execution_count": 113,
   "metadata": {},
   "outputs": [
    {
     "data": {
      "text/plain": [
       "<matplotlib.axes._subplots.AxesSubplot at 0x1e2da1860>"
      ]
     },
     "execution_count": 113,
     "metadata": {},
     "output_type": "execute_result"
    },
    {
     "data": {
      "image/png": "[encoded data removed]",
      "text/plain": [
       "<matplotlib.figure.Figure at 0x1d90756a0>"
      ]
     },
     "metadata": {},
     "output_type": "display_data"
    }
   ],
   "source": [
    "%matplotlib inline\n",
    "train_df.slot.hist(bins=10, figsize=(10,4))"
   ]
  },
  {
   "cell_type": "code",
   "execution_count": null,
   "metadata": {
    "collapsed": true
   },
   "outputs": [],
   "source": [
    "'adNetworkType'"
   ]
  },
  {
   "cell_type": "code",
   "execution_count": 114,
   "metadata": {},
   "outputs": [
    {
     "data": {
      "text/plain": [
       "no_key             882193\n",
       "Google Search       21453\n",
       "Search partners         7\n",
       "Name: adNetworkType, dtype: int64"
      ]
     },
     "execution_count": 114,
     "metadata": {},
     "output_type": "execute_result"
    }
   ],
   "source": [
    "train_df['adNetworkType'].value_counts()"
   ]
  },
  {
   "cell_type": "code",
   "execution_count": 115,
   "metadata": {},
   "outputs": [
    {
     "data": {
      "text/plain": [
       "<matplotlib.axes._subplots.AxesSubplot at 0x1e2f946d8>"
      ]
     },
     "execution_count": 115,
     "metadata": {},
     "output_type": "execute_result"
    },
    {
     "data": {
      "image/png": "[encoded data removed]",
      "text/plain": [
       "<matplotlib.figure.Figure at 0x1471d20f0>"
      ]
     },
     "metadata": {},
     "output_type": "display_data"
    }
   ],
   "source": [
    "%matplotlib inline\n",
    "train_df.adNetworkType.hist(bins=10, figsize=(10,4))"
   ]
  },
  {
   "cell_type": "code",
   "execution_count": null,
   "metadata": {
    "collapsed": true
   },
   "outputs": [],
   "source": [
    "'gclId'"
   ]
  },
  {
   "cell_type": "code",
   "execution_count": 116,
   "metadata": {},
   "outputs": [
    {
     "data": {
      "text/plain": [
       "no_key                                                                                          882092\n",
       "Cj0KEQjwmIrJBRCRmJ_x7KDo-9oBEiQAuUPKMufMpuG3ZdwYO8GTsjiBFd5MPHStZa9y_9NCrI8X97oaAglc8P8HAQ          70\n",
       "Cj0KEQjw1ee_BRD3hK6x993YzeoBEiQA5RH_BEA562M9tvl_mtnAFvtDnDqOQRp1RvxMMgwjcX1LAfwaAj4o8P8HAQ          41\n",
       "CJH1vbf94M8CFUElgQodyakHgQ                                                                          29\n",
       "Cj0KEQiAw_DEBRChnYiQ_562gsEBEiQA4LcssmB_RWgvpPnltzlzj5rGwqx5lk87wC5CjfcqzneNZewaAiAp8P8HAQ          27\n",
       "CjwKEAiAj7TCBRCp2Z22ue-zrj4SJACG7SBEJui6ggr6ocA-eDC2-lX7W1m5IA1c_qNbzwZVTqUanxoCb5rw_wcB            24\n",
       "CN_u9PaVhdACFcNahgodTCQAjw                                                                          22\n",
       "CjwKEAiAxKrFBRDm25f60OegtwwSJABgEC-Z0_DLPcXHm1ZTqlR1YWeWXU875yaqwupt7pGMgFEZThoCeEzw_wcB            21\n",
       "CNHp7Nf2ytMCFVlWDQod_IoL5A                                                                          20\n",
       "CjwKEAiAvs7CBRC24rao6bGCoiASJABaCt5DtalFxcoSsvr2E2adUhx6z6OE0KAuVtqKzl-BcVN1-hoCNlrw_wcB            20\n",
       "CJ6xtee6j9ACFQqDfgod8TkDNw                                                                          18\n",
       "CjwKEAjw387JBRDPtJePvOej8kASJADkV9TLLYm88mDQieFBbZeS2hrQ7p-uHNZo45H2pUP3uPLDvRoCG2Hw_wcB            18\n",
       "Cj0KEQiAtqHEBRCNrdC6rYq9_oYBEiQAejvRlydKqhjz1oz3BhBTfMjjueAO4Cx4no5mJL6u3XbzFHAaAlL-8P8HAQ          17\n",
       "Cj0KEQiAuonGBRCaotXoycysvIMBEiQAcxV0nH04PTH5N1jmKl9nOggKBEHrtNlXRm6BaKGsO9Gl46QaAsLx8P8HAQ          14\n",
       "Cj0KEQiA6_TBBRDInaPjhcelt5oBEiQApPeTFwpkek9qjhpRwTa19k00tY0xRkHNiQRA3IOmKXsa9zQaAogR8P8HAQ          14\n",
       "Cj0KEQjwuZvIBRD-8Z6B2M2Sy68BEiQAtjYS3LI8d1dPIlfea2ufVpIl8XqQYsKmi09Rdqak4YDMrU4aAiz88P8HAQ          14\n",
       "Cj0KEQjwo-XIBRCOycL7hsuI_NoBEiQAuS6HtHOpolLDj1NmtFB8mNSxnWlOn2o79AL0iQ6yZUgark0aAqXK8P8HAQ          14\n",
       "CjwKEAjwzN27BRDFn9aAwLmH2yISJABWuEXch7u7TBTE6PpSp7vD-m41OH79HJKFBwknlCdljiI0qRoC0Xrw_wcB            13\n",
       "Cj0KEQiA5IHEBRCLr_PZvq2_6qcBEiQAL4cQ011rzjEGMvYlv9sKjCWtjAETnmRX32HaNGTDbySFbKIaAj4X8P8HAQ          13\n",
       "CLHAuey57M0CFcUmhgod5KoAtg                                                                          13\n",
       "CjwKEAjw5_vHBRCBtt2NqqCDjiESJABD5rCJ5tpiaut2Yg5RataAlIq3m3M4uKGqws0Hg0URrfFB_BoCIEHw_wcB            12\n",
       "Cj0KCQjwktHLBRDsARIsAFBSb6x3yDhaJwwJNzgCb4oakNpi7L8nkxjmuNVYtZFhYtTYdBKPaWFHpXgaAmXPEALw_wcB        12\n",
       "Cj0KEQjw57W9BRDM9_a-2vWJ68EBEiQAwPNFKyoNXka0H6qcqGOryxbofLW4y9plErdx22ZK43oZUE8aApJg8P8HAQ          11\n",
       "Cj0KEQiAot_FBRCqt8jVsoDKoZABEiQAqFL76LHSlBk--Nef3azG5vFpZSg_QP6OzQ9IPEE22l6zFC8aAtg28P8HAQ          11\n",
       "CJqomdrD6c8CFQkPaQodftgGhg                                                                          11\n",
       "CjwKEAiAg5_CBRDo4o6e4o3NtG0SJAB-IatYXBAYgFg8NK3p_WIV0IY2ps5BVqPgm7G2eW4TQQWxthoCuI_w_wcB            10\n",
       "Cj0KEQiA0L_FBRDMmaCTw5nxm-ABEiQABn-VqYPBjHllWA_2v3yH9ygg977T-iJQptfHa4lhzyd60bkaAqAS8P8HAQ          10\n",
       "CKvj8PjynNACFQ-DaQodGm4N-Q                                                                          10\n",
       "CjwKEAjwtJzLBRC7z43vr63nr3wSJABjJDgJS6U-a8yZzN8aXHzKhWbsr66K23jUJSI8Jw494AlszRoCVHbw_wcB            10\n",
       "CjwKEAiA6rrBBRDsrLGM4uTPkWASJADnWZQ48mvLDyfiClyJYj9XwKGHe9K4ZDjLnVU9PZNtYI3uahoCaVPw_wcB            10\n",
       "                                                                                                 ...  \n",
       "CPa8tJjU2s4CFQupaQodIR8C9Q                                                                           1\n",
       "CIzZ8ffo1dQCFUtNfgodW8wOfg                                                                           1\n",
       "CJja8oT179QCFYKKswodLIUGYA                                                                           1\n",
       "EAIaIQobChMI3Lrv9Ibi1AIViQJpCh0GmQf4EAAYAyAAEgKvOfD_BwE                                              1\n",
       "COie--TzrdACFZZMDQodW18E9w                                                                           1\n",
       "CjwKEAjw3KDIBRCz0KvZlJ7k4TgSJABDqOK7UpletbWCJnc_7b_PEgKAiA2OnnfxGgOkoUUEDR2sChoCXrHw_wcB             1\n",
       "Cj0KCQjwwevLBRCGARIsAKnAJvcgdlsBSYOjjQGMnLdD77Nk7C0Svyv4BzuXflpQuALp_xjQkZReHyAaArVoEALw_wcB         1\n",
       "Cj0KEQjw1ufKBRDYrqLzrY3dy88BEiQAPI_r4cAU7UUV4ZRW_ew1x_0FmDuWw3rbMGCtPHYBeIEuoHQaAm0w8P8HAQ           1\n",
       "CJDm5JTv1tQCFQoLaQodns4IMg                                                                           1\n",
       "Cj0KCQjwpdnJBRC4ARIsAHC6k2LPOrCUbnRxYJSgTxJXOo3vysVjjQ-F0ZjvOnQo9dNpbsWgwvT3LmQaAhIPEALw_wcB         1\n",
       "CjwKEAiA_9nFBRCsurz7y_Px8xoSJAAUqvKCHAfqI-Rfmdzw8xGoGRDWUCQyNN1p7dHsLGtTG2E2nhoCIcLw_wcB             1\n",
       "CjwKCAjwqIfLBRAkEiwAhtfH63qEcnPVTurtq0QSSG4r1KNcq86oGy06BNv35BEsS3K8m3UDEHNdORoCb0EQAvD_BwE          1\n",
       "CJjItMrTm9ECFQt_fgodJpgM6w                                                                           1\n",
       "EAIaIQobChMIwarr5PTh1AIVz7bACh3TEgXgEAAYASAAEgKT0PD_BwE                                              1\n",
       "CL6-7rabxNACFYEVgQodQa4K9g                                                                           1\n",
       "CjwKEAjwoLfHBRD_jLW93remyAQSJABIygGpL0o8ujACMO_8DtJyWuvnj-mFEZDJdL0dG0j9NY7RxxoC3Bzw_wcB             1\n",
       "CJHl_c_9iNECFUo9gQod9doLKg                                                                           1\n",
       "Cj0KEQjw_9-9BRCqpZeZhLeOg68BEiQAOviWAgo5ufeoUwXlTTiTT1hryF4tjc-5Gky09iPKZODMKKgaAgov8P8HAQ           1\n",
       "Cj0KEQiAkO7CBRDeqJ_ahuiPrtEBEiQAbYupJX1gU3VVQVhX7O1Hw5ONP0WppOESCTFbj6x6euvP5GgaAhND8P8HAQ           1\n",
       "Cj0KEQjwyJi_BRDLusby7_S7z-IBEiQAwCVvn3dKgYE24s3C15u7NMqRdHaUdRos3jbas8QRThcZlogaArj98P8HAQ           1\n",
       "CjwKCAjwzMbLBRBzEiwAfFz4gZKUfhmAo3wmL66EjqQ1UM5gkBZ8l4Q_juaHlBvCOMCbMIGeW6GxohoCeJ4QAvD_BwE          1\n",
       "Cj0KCQjwkN3KBRCuARIsADT_flq0QKwopsitZuJ1SHPy6wuaZL7hps7UOjQHVsUDVVVbUlQfg0lDd3EaAqe7EALw_wcB         1\n",
       "Cj0KEQiAw_DEBRChnYiQ_562gsEBEiQA4Lcssj9sLIjirTAntwVrpRzSxbdr7aCTR_y73752PKLWH-4aAh7B8P8HAQ           1\n",
       "Cj0KEQjwhvbABRDOp4rahNjh-tMBEiQA0QgTGrdLMKrTd-qtzoYUVrk1QBRDx0isMFeDDX71DQZrs-saAhNH8P8HAQ           1\n",
       "Cj0KEQjwi7vIBRDpo9W8y7Ct6ZcBEiQA1CwV2DcCoIPXs2BZ6aXzQPXT_4rGigiriw47vNbnlnABYrYaAmgj8P8HAQ           1\n",
       "CJ3cl63lh88CFQymaQodhugMNQ                                                                           1\n",
       "Cj0KEQjwuJu9BRDP_-HN9eXs1_UBEiQAlfW39t_8AjDrZ-zJkQCSxFKd-C1LKDhmSFgHAvu9UpAM-WUaAmVF8P8HAQ           1\n",
       "CLvY96zfwdACFQcaaQodL24OgQ                                                                           1\n",
       "Cj0KEQiAzZHEBRD0ivi9_pDzgYMBEiQAtvxt-Mo09pAbXiVRuOKB4s5rMePthPOKybWSG7MulnH4UdIaAoYw8P8HAQ           1\n",
       "CjwKEAiArvTFBRCLq5-7-MSJ0jMSJABHBvp0Mtu6Fj-ybm1Mv6qnKjlZL9XxxUZn5_nRfJrp7JYFFRoCwBfw_wcB             1\n",
       "Name: gclId, Length: 17775, dtype: int64"
      ]
     },
     "execution_count": 116,
     "metadata": {},
     "output_type": "execute_result"
    }
   ],
   "source": [
    "train_df['gclId'].value_counts()"
   ]
  },
  {
   "cell_type": "code",
   "execution_count": null,
   "metadata": {
    "collapsed": true
   },
   "outputs": [],
   "source": []
  },
  {
   "cell_type": "code",
   "execution_count": null,
   "metadata": {
    "collapsed": true
   },
   "outputs": [],
   "source": [
    "'page'"
   ]
  },
  {
   "cell_type": "code",
   "execution_count": 117,
   "metadata": {},
   "outputs": [
    {
     "data": {
      "text/plain": [
       "no_key    882193\n",
       "1          21362\n",
       "2             73\n",
       "3             10\n",
       "5              7\n",
       "7              3\n",
       "4              2\n",
       "9              2\n",
       "14             1\n",
       "Name: page, dtype: int64"
      ]
     },
     "execution_count": 117,
     "metadata": {},
     "output_type": "execute_result"
    }
   ],
   "source": [
    "train_df['page'].value_counts()"
   ]
  },
  {
   "cell_type": "code",
   "execution_count": null,
   "metadata": {
    "collapsed": true
   },
   "outputs": [],
   "source": []
  },
  {
   "cell_type": "code",
   "execution_count": null,
   "metadata": {
    "collapsed": true
   },
   "outputs": [],
   "source": [
    "'targetingCriteria'"
   ]
  },
  {
   "cell_type": "code",
   "execution_count": 118,
   "metadata": {},
   "outputs": [
    {
     "data": {
      "text/plain": [
       "no_key        902193\n",
       "empty_dict      1460\n",
       "Name: targetingCriteria, dtype: int64"
      ]
     },
     "execution_count": 118,
     "metadata": {},
     "output_type": "execute_result"
    }
   ],
   "source": [
    "train_df['targetingCriteria'].value_counts()"
   ]
  },
  {
   "cell_type": "code",
   "execution_count": 119,
   "metadata": {
    "collapsed": true
   },
   "outputs": [],
   "source": [
    "#!!!!"
   ]
  },
  {
   "cell_type": "code",
   "execution_count": null,
   "metadata": {
    "collapsed": true
   },
   "outputs": [],
   "source": [
    "'isVideoAd'"
   ]
  },
  {
   "cell_type": "code",
   "execution_count": 121,
   "metadata": {},
   "outputs": [
    {
     "data": {
      "text/plain": [
       "no_key    882193\n",
       "False      21460\n",
       "Name: isVideoAd, dtype: int64"
      ]
     },
     "execution_count": 121,
     "metadata": {},
     "output_type": "execute_result"
    }
   ],
   "source": [
    "train_df['isVideoAd'].value_counts()"
   ]
  },
  {
   "cell_type": "code",
   "execution_count": null,
   "metadata": {
    "collapsed": true
   },
   "outputs": [],
   "source": [
    "#!!!!"
   ]
  },
  {
   "cell_type": "code",
   "execution_count": null,
   "metadata": {
    "collapsed": true
   },
   "outputs": [],
   "source": [
    "'weekday'"
   ]
  },
  {
   "cell_type": "code",
   "execution_count": 122,
   "metadata": {},
   "outputs": [
    {
     "data": {
      "text/plain": [
       "Tuesday      147279\n",
       "Wednesday    146733\n",
       "Thursday     142399\n",
       "Monday       140905\n",
       "Friday       128331\n",
       "Sunday       100360\n",
       "Saturday      97646\n",
       "Name: weekday, dtype: int64"
      ]
     },
     "execution_count": 122,
     "metadata": {},
     "output_type": "execute_result"
    }
   ],
   "source": [
    "train_df['weekday'].value_counts()"
   ]
  },
  {
   "cell_type": "code",
   "execution_count": 126,
   "metadata": {},
   "outputs": [
    {
     "data": {
      "text/plain": [
       "<matplotlib.axes._subplots.AxesSubplot at 0x1aee7af28>"
      ]
     },
     "execution_count": 126,
     "metadata": {},
     "output_type": "execute_result"
    },
    {
     "data": {
      "image/png": "[encoded data removed]",
      "text/plain": [
       "<matplotlib.figure.Figure at 0x1aef59748>"
      ]
     },
     "metadata": {},
     "output_type": "display_data"
    }
   ],
   "source": [
    "%matplotlib inline\n",
    "train_df.weekday.hist(bins=19, figsize=(13,4))"
   ]
  },
  {
   "cell_type": "code",
   "execution_count": null,
   "metadata": {
    "collapsed": true
   },
   "outputs": [],
   "source": [
    "'day_off'"
   ]
  },
  {
   "cell_type": "code",
   "execution_count": 127,
   "metadata": {},
   "outputs": [
    {
     "data": {
      "text/plain": [
       "0    705647\n",
       "1    198006\n",
       "Name: day_off, dtype: int64"
      ]
     },
     "execution_count": 127,
     "metadata": {},
     "output_type": "execute_result"
    }
   ],
   "source": [
    "train_df['day_off'].value_counts()"
   ]
  },
  {
   "cell_type": "code",
   "execution_count": 132,
   "metadata": {},
   "outputs": [
    {
     "data": {
      "text/plain": [
       "<matplotlib.axes._subplots.AxesSubplot at 0x1b045acf8>"
      ]
     },
     "execution_count": 132,
     "metadata": {},
     "output_type": "execute_result"
    },
    {
     "data": {
      "image/png": "[encoded data removed]",
      "text/plain": [
       "<matplotlib.figure.Figure at 0x1b0526550>"
      ]
     },
     "metadata": {},
     "output_type": "display_data"
    }
   ],
   "source": [
    "%matplotlib inline\n",
    "train_df.day_off.hist(bins=4, figsize=(2,4))"
   ]
  },
  {
   "cell_type": "code",
   "execution_count": null,
   "metadata": {
    "collapsed": true
   },
   "outputs": [],
   "source": []
  }
 ],
 "metadata": {
  "kernelspec": {
   "display_name": "Python 3",
   "language": "python",
   "name": "python3"
  },
  "language_info": {
   "codemirror_mode": {
    "name": "ipython",
    "version": 3
   },
   "file_extension": ".py",
   "mimetype": "text/x-python",
   "name": "python",
   "nbconvert_exporter": "python",
   "pygments_lexer": "ipython3",
   "version": "3.6.3"
  }
 },
 "nbformat": 4,
 "nbformat_minor": 2
}
