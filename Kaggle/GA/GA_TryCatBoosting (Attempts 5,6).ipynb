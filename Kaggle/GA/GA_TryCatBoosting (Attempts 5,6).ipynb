{
 "cells": [
  {
   "cell_type": "code",
   "execution_count": 16,
   "metadata": {},
   "outputs": [],
   "source": [
    "import os\n",
    "import json\n",
    "import pickle\n",
    "import numpy as np\n",
    "import pandas as pd\n",
    "from tqdm import tqdm_notebook\n",
    "from catboost import CatBoostRegressor\n",
    "\n",
    "# Displaying pd Dataframe options\n",
    "pd.set_option('display.max_columns', 500)\n",
    "pd.set_option('display.width', 1000)\n",
    "pd.set_option('display.max_colwidth', 1000)\n",
    "\n",
    "%matplotlib inline"
   ]
  },
  {
   "cell_type": "code",
   "execution_count": 2,
   "metadata": {},
   "outputs": [
    {
     "name": "stdout",
     "output_type": "stream",
     "text": [
      "CPU times: user 6.78 s, sys: 3.1 s, total: 9.88 s\n",
      "Wall time: 10.3 s\n"
     ]
    }
   ],
   "source": [
    "%%time\n",
    "# Get datas from pickle\n",
    "train_df = pd.read_pickle('train_df.pickle')\n",
    "test_df = pd.read_pickle('test_df.pickle')\n",
    "test_df['transactionRevenue'] = np.nan\n",
    "\n",
    "full_df = pd.concat([train_df, test_df], axis=0)\n",
    "\n",
    "full_df['date'] = pd.to_datetime(full_df['date'], format='%Y%m%d')\n",
    "full_df['weekday'] = full_df['date'].dt.weekday_name\n",
    "full_df['day_off'] = (full_df['date'].dt.dayofweek > 4).astype(int)\n",
    "\n"
   ]
  },
  {
   "cell_type": "code",
   "execution_count": 3,
   "metadata": {
    "collapsed": true
   },
   "outputs": [],
   "source": [
    "count_user_by_visits = {}\n",
    "def check_count_by_visits(Id):\n",
    "    if Id in count_user_by_visits:\n",
    "        count_user_by_visits[Id]+= 1\n",
    "    else:\n",
    "        count_user_by_visits[Id]= 1\n",
    "    \n",
    "    return count_user_by_visits[Id]\n",
    "\n",
    "full_df['visit_index'] = [check_count_by_visits(user) for user in full_df['fullVisitorId']]"
   ]
  },
  {
   "cell_type": "code",
   "execution_count": 4,
   "metadata": {
    "collapsed": true
   },
   "outputs": [],
   "source": [
    "cat_features = ['channelGrouping','isMobile','browser','deviceCategory','operatingSystem',\n",
    "               'country','region','subContinent','networkDomain','continent','newVisits',\n",
    "               'medium', 'isTrueDirect', 'source', 'isVideoAd', 'slot','page', 'day_off', \n",
    "                'weekday']\n",
    "num_features = ['visitNumber','pageviews','hits', 'visit_index']"
   ]
  },
  {
   "cell_type": "code",
   "execution_count": 5,
   "metadata": {
    "collapsed": true
   },
   "outputs": [],
   "source": [
    "full_df[num_features] = full_df[num_features].replace('no_key', 0).fillna(0)\n",
    "full_df[cat_features] = full_df[cat_features].fillna('other')"
   ]
  },
  {
   "cell_type": "code",
   "execution_count": 6,
   "metadata": {
    "collapsed": true
   },
   "outputs": [],
   "source": [
    "X_train, X_test = full_df[full_df['transactionRevenue'] >= 0], full_df[~(full_df['transactionRevenue'] >= 0)]\n",
    "y_train = X_train['transactionRevenue']\n",
    "\n",
    "X_train, X_test = X_train[cat_features+num_features], X_test[['fullVisitorId']+cat_features+num_features]"
   ]
  },
  {
   "cell_type": "code",
   "execution_count": 7,
   "metadata": {
    "collapsed": true
   },
   "outputs": [],
   "source": [
    "categorical_features=[i for i, x in enumerate(X_train.columns) if x in cat_features]"
   ]
  },
  {
   "cell_type": "code",
   "execution_count": 24,
   "metadata": {
    "collapsed": true
   },
   "outputs": [],
   "source": [
    "# 13) Интегрировать код в блок с обучением катбуста. Для снижения снижения лернрейта\n",
    "def down_iter(size):\n",
    "    if size == 1:\n",
    "        return [1]\n",
    "    if size == 2:\n",
    "        return [0.5,0.5]\n",
    "    \n",
    "    prev_arr = down_iter(size-1)[:-1]\n",
    "    next_value = (1 - sum(prev_arr)) / 2\n",
    "    return prev_arr + [next_value] * 2\n",
    "\n",
    "def train_catboost(model, X, y, cat_features, lr_down_rate=2):\n",
    "    iterations = model.get_params()['iterations']\n",
    "    learning_rate = model.get_params()['learning_rate']\n",
    "    bounds = np.array(down_iter(lr_down_rate))\n",
    "    lr_arr = [learning_rate / (1.9 ** i) for i in range(lr_down_rate)]\n",
    "    iter_arr = (bounds * iterations).astype(int) \n",
    "    n_trees_count = 0\n",
    "    for n_trees, lr in zip(iter_arr, lr_arr):\n",
    "        n_trees_count += n_trees\n",
    "        print(n_trees, lr)\n",
    "        model.set_params(iterations=n_trees_count, learning_rate=lr)\n",
    "        model.fit(X, y, cat_features=cat_features)\n",
    "    return model"
   ]
  },
  {
   "cell_type": "markdown",
   "metadata": {},
   "source": [
    "#### Модель регрессии"
   ]
  },
  {
   "cell_type": "code",
   "execution_count": 49,
   "metadata": {
    "scrolled": true
   },
   "outputs": [
    {
     "name": "stdout",
     "output_type": "stream",
     "text": [
      "150 0.1\n",
      "Can't load progress from file: catboost_info/experiment.cbsnapshot exception: (TCatboostException) catboost/libs/algo/learn_context.cpp:205: Saved model's Params are different from current model's params\n",
      "0:\tlearn: 1.9608909\ttotal: 2.43s\tremaining: 6m 2s\n",
      "1:\tlearn: 1.9145542\ttotal: 4.83s\tremaining: 5m 57s\n",
      "2:\tlearn: 1.8759639\ttotal: 7.4s\tremaining: 6m 2s\n",
      "3:\tlearn: 1.8434812\ttotal: 9.58s\tremaining: 5m 49s\n",
      "4:\tlearn: 1.8159648\ttotal: 11.4s\tremaining: 5m 31s\n",
      "5:\tlearn: 1.7936021\ttotal: 13.8s\tremaining: 5m 31s\n",
      "6:\tlearn: 1.7742357\ttotal: 15.9s\tremaining: 5m 24s\n",
      "7:\tlearn: 1.7579557\ttotal: 18.2s\tremaining: 5m 22s\n",
      "8:\tlearn: 1.7441967\ttotal: 20.2s\tremaining: 5m 16s\n",
      "9:\tlearn: 1.7330787\ttotal: 22.3s\tremaining: 5m 12s\n",
      "10:\tlearn: 1.7231927\ttotal: 24.1s\tremaining: 5m 4s\n",
      "11:\tlearn: 1.7149309\ttotal: 26.2s\tremaining: 5m\n",
      "12:\tlearn: 1.7071812\ttotal: 28.2s\tremaining: 4m 56s\n",
      "13:\tlearn: 1.7004830\ttotal: 30.2s\tremaining: 4m 53s\n",
      "14:\tlearn: 1.6943586\ttotal: 32.1s\tremaining: 4m 48s\n",
      "15:\tlearn: 1.6894524\ttotal: 36s\tremaining: 5m 1s\n",
      "16:\tlearn: 1.6848792\ttotal: 37.8s\tremaining: 4m 56s\n",
      "17:\tlearn: 1.6809793\ttotal: 39.8s\tremaining: 4m 51s\n",
      "18:\tlearn: 1.6775940\ttotal: 42s\tremaining: 4m 49s\n",
      "19:\tlearn: 1.6745305\ttotal: 43.9s\tremaining: 4m 45s\n",
      "20:\tlearn: 1.6721117\ttotal: 45.7s\tremaining: 4m 40s\n",
      "21:\tlearn: 1.6702111\ttotal: 47.5s\tremaining: 4m 36s\n",
      "22:\tlearn: 1.6676904\ttotal: 49.4s\tremaining: 4m 32s\n",
      "23:\tlearn: 1.6656969\ttotal: 52.1s\tremaining: 4m 33s\n",
      "24:\tlearn: 1.6640961\ttotal: 54.1s\tremaining: 4m 30s\n",
      "25:\tlearn: 1.6626073\ttotal: 56.5s\tremaining: 4m 29s\n",
      "26:\tlearn: 1.6609293\ttotal: 58.6s\tremaining: 4m 26s\n",
      "27:\tlearn: 1.6597069\ttotal: 1m\tremaining: 4m 23s\n",
      "28:\tlearn: 1.6578341\ttotal: 1m 3s\tremaining: 4m 23s\n",
      "29:\tlearn: 1.6571455\ttotal: 1m 4s\tremaining: 4m 19s\n",
      "30:\tlearn: 1.6562746\ttotal: 1m 6s\tremaining: 4m 16s\n",
      "31:\tlearn: 1.6550294\ttotal: 1m 9s\tremaining: 4m 14s\n",
      "32:\tlearn: 1.6534632\ttotal: 1m 11s\tremaining: 4m 13s\n",
      "33:\tlearn: 1.6525543\ttotal: 1m 13s\tremaining: 4m 9s\n",
      "34:\tlearn: 1.6514468\ttotal: 1m 16s\tremaining: 4m 10s\n",
      "35:\tlearn: 1.6509661\ttotal: 1m 18s\tremaining: 4m 8s\n",
      "36:\tlearn: 1.6503606\ttotal: 1m 20s\tremaining: 4m 5s\n",
      "37:\tlearn: 1.6497987\ttotal: 1m 21s\tremaining: 4m 1s\n",
      "38:\tlearn: 1.6494762\ttotal: 1m 23s\tremaining: 3m 57s\n",
      "39:\tlearn: 1.6489626\ttotal: 1m 25s\tremaining: 3m 54s\n",
      "40:\tlearn: 1.6479693\ttotal: 1m 27s\tremaining: 3m 51s\n",
      "41:\tlearn: 1.6470032\ttotal: 1m 28s\tremaining: 3m 48s\n",
      "42:\tlearn: 1.6465987\ttotal: 1m 32s\tremaining: 3m 50s\n",
      "43:\tlearn: 1.6463700\ttotal: 1m 35s\tremaining: 3m 50s\n",
      "44:\tlearn: 1.6458465\ttotal: 1m 37s\tremaining: 3m 48s\n",
      "45:\tlearn: 1.6447308\ttotal: 1m 40s\tremaining: 3m 46s\n",
      "46:\tlearn: 1.6438369\ttotal: 1m 42s\tremaining: 3m 44s\n",
      "47:\tlearn: 1.6433664\ttotal: 1m 44s\tremaining: 3m 41s\n",
      "48:\tlearn: 1.6430121\ttotal: 1m 45s\tremaining: 3m 38s\n",
      "49:\tlearn: 1.6422554\ttotal: 1m 47s\tremaining: 3m 35s\n",
      "50:\tlearn: 1.6415481\ttotal: 1m 49s\tremaining: 3m 32s\n",
      "51:\tlearn: 1.6411431\ttotal: 1m 50s\tremaining: 3m 28s\n",
      "52:\tlearn: 1.6407692\ttotal: 1m 52s\tremaining: 3m 25s\n",
      "53:\tlearn: 1.6399389\ttotal: 1m 53s\tremaining: 3m 22s\n",
      "54:\tlearn: 1.6394412\ttotal: 1m 55s\tremaining: 3m 19s\n",
      "55:\tlearn: 1.6388088\ttotal: 1m 57s\tremaining: 3m 17s\n",
      "56:\tlearn: 1.6384184\ttotal: 1m 59s\tremaining: 3m 14s\n",
      "57:\tlearn: 1.6375318\ttotal: 2m 1s\tremaining: 3m 13s\n",
      "58:\tlearn: 1.6373370\ttotal: 2m 4s\tremaining: 3m 11s\n",
      "59:\tlearn: 1.6366355\ttotal: 2m 6s\tremaining: 3m 9s\n",
      "60:\tlearn: 1.6361033\ttotal: 2m 9s\tremaining: 3m 8s\n",
      "61:\tlearn: 1.6355641\ttotal: 2m 11s\tremaining: 3m 6s\n",
      "62:\tlearn: 1.6352513\ttotal: 2m 13s\tremaining: 3m 3s\n",
      "63:\tlearn: 1.6345684\ttotal: 2m 15s\tremaining: 3m 1s\n",
      "64:\tlearn: 1.6342721\ttotal: 2m 17s\tremaining: 2m 59s\n",
      "65:\tlearn: 1.6340601\ttotal: 2m 19s\tremaining: 2m 57s\n",
      "66:\tlearn: 1.6339682\ttotal: 2m 22s\tremaining: 2m 56s\n",
      "67:\tlearn: 1.6333367\ttotal: 2m 24s\tremaining: 2m 53s\n",
      "68:\tlearn: 1.6330068\ttotal: 2m 26s\tremaining: 2m 51s\n",
      "69:\tlearn: 1.6328416\ttotal: 2m 29s\tremaining: 2m 50s\n",
      "70:\tlearn: 1.6326148\ttotal: 2m 31s\tremaining: 2m 48s\n",
      "71:\tlearn: 1.6318468\ttotal: 2m 33s\tremaining: 2m 46s\n",
      "72:\tlearn: 1.6311732\ttotal: 2m 35s\tremaining: 2m 43s\n",
      "73:\tlearn: 1.6310285\ttotal: 2m 37s\tremaining: 2m 42s\n",
      "74:\tlearn: 1.6303184\ttotal: 2m 39s\tremaining: 2m 39s\n",
      "75:\tlearn: 1.6300703\ttotal: 2m 41s\tremaining: 2m 37s\n",
      "76:\tlearn: 1.6296888\ttotal: 2m 43s\tremaining: 2m 34s\n",
      "77:\tlearn: 1.6292096\ttotal: 2m 44s\tremaining: 2m 32s\n",
      "78:\tlearn: 1.6288667\ttotal: 2m 46s\tremaining: 2m 29s\n",
      "79:\tlearn: 1.6285308\ttotal: 2m 48s\tremaining: 2m 27s\n",
      "80:\tlearn: 1.6280237\ttotal: 2m 49s\tremaining: 2m 24s\n",
      "81:\tlearn: 1.6276268\ttotal: 2m 51s\tremaining: 2m 22s\n",
      "82:\tlearn: 1.6274297\ttotal: 2m 53s\tremaining: 2m 19s\n",
      "83:\tlearn: 1.6271525\ttotal: 2m 54s\tremaining: 2m 17s\n",
      "84:\tlearn: 1.6269147\ttotal: 2m 56s\tremaining: 2m 14s\n",
      "85:\tlearn: 1.6266451\ttotal: 2m 57s\tremaining: 2m 12s\n",
      "86:\tlearn: 1.6264315\ttotal: 2m 59s\tremaining: 2m 10s\n",
      "87:\tlearn: 1.6262744\ttotal: 3m 1s\tremaining: 2m 7s\n",
      "88:\tlearn: 1.6260732\ttotal: 3m 3s\tremaining: 2m 5s\n",
      "89:\tlearn: 1.6259322\ttotal: 3m 5s\tremaining: 2m 3s\n",
      "90:\tlearn: 1.6256323\ttotal: 3m 6s\tremaining: 2m\n",
      "91:\tlearn: 1.6251597\ttotal: 3m 8s\tremaining: 1m 58s\n",
      "92:\tlearn: 1.6248083\ttotal: 3m 9s\tremaining: 1m 56s\n",
      "93:\tlearn: 1.6246232\ttotal: 3m 11s\tremaining: 1m 54s\n",
      "94:\tlearn: 1.6245090\ttotal: 3m 13s\tremaining: 1m 51s\n",
      "95:\tlearn: 1.6242128\ttotal: 3m 14s\tremaining: 1m 49s\n",
      "96:\tlearn: 1.6239546\ttotal: 3m 16s\tremaining: 1m 47s\n",
      "97:\tlearn: 1.6237099\ttotal: 3m 18s\tremaining: 1m 45s\n",
      "98:\tlearn: 1.6235461\ttotal: 3m 20s\tremaining: 1m 43s\n",
      "99:\tlearn: 1.6229181\ttotal: 3m 21s\tremaining: 1m 40s\n",
      "100:\tlearn: 1.6228023\ttotal: 3m 23s\tremaining: 1m 38s\n",
      "101:\tlearn: 1.6226721\ttotal: 3m 25s\tremaining: 1m 36s\n",
      "102:\tlearn: 1.6225340\ttotal: 3m 27s\tremaining: 1m 34s\n",
      "103:\tlearn: 1.6223633\ttotal: 3m 28s\tremaining: 1m 32s\n",
      "104:\tlearn: 1.6221080\ttotal: 3m 30s\tremaining: 1m 30s\n",
      "105:\tlearn: 1.6218520\ttotal: 3m 32s\tremaining: 1m 28s\n",
      "106:\tlearn: 1.6215661\ttotal: 3m 33s\tremaining: 1m 25s\n",
      "107:\tlearn: 1.6211159\ttotal: 3m 35s\tremaining: 1m 23s\n",
      "108:\tlearn: 1.6209093\ttotal: 3m 37s\tremaining: 1m 21s\n",
      "109:\tlearn: 1.6206547\ttotal: 3m 38s\tremaining: 1m 19s\n",
      "110:\tlearn: 1.6205143\ttotal: 3m 40s\tremaining: 1m 17s\n",
      "111:\tlearn: 1.6202088\ttotal: 3m 42s\tremaining: 1m 15s\n",
      "112:\tlearn: 1.6200371\ttotal: 3m 43s\tremaining: 1m 13s\n",
      "113:\tlearn: 1.6198733\ttotal: 3m 45s\tremaining: 1m 11s\n",
      "114:\tlearn: 1.6196487\ttotal: 3m 47s\tremaining: 1m 9s\n",
      "115:\tlearn: 1.6193666\ttotal: 3m 48s\tremaining: 1m 7s\n",
      "116:\tlearn: 1.6192820\ttotal: 3m 50s\tremaining: 1m 5s\n",
      "117:\tlearn: 1.6191669\ttotal: 3m 52s\tremaining: 1m 3s\n",
      "118:\tlearn: 1.6182926\ttotal: 3m 54s\tremaining: 1m 1s\n",
      "119:\tlearn: 1.6181219\ttotal: 3m 56s\tremaining: 59s\n",
      "120:\tlearn: 1.6178802\ttotal: 3m 57s\tremaining: 57s\n",
      "121:\tlearn: 1.6175836\ttotal: 3m 59s\tremaining: 55s\n",
      "122:\tlearn: 1.6172422\ttotal: 4m 1s\tremaining: 52.9s\n",
      "123:\tlearn: 1.6170711\ttotal: 4m 3s\tremaining: 51s\n",
      "124:\tlearn: 1.6169488\ttotal: 4m 4s\tremaining: 49s\n",
      "125:\tlearn: 1.6166334\ttotal: 4m 6s\tremaining: 47s\n",
      "126:\tlearn: 1.6164202\ttotal: 4m 8s\tremaining: 45s\n",
      "127:\tlearn: 1.6163122\ttotal: 4m 10s\tremaining: 43.1s\n",
      "128:\tlearn: 1.6160708\ttotal: 4m 12s\tremaining: 41.2s\n",
      "129:\tlearn: 1.6157003\ttotal: 4m 14s\tremaining: 39.2s\n",
      "130:\tlearn: 1.6153660\ttotal: 4m 16s\tremaining: 37.2s\n",
      "131:\tlearn: 1.6152946\ttotal: 4m 18s\tremaining: 35.3s\n",
      "132:\tlearn: 1.6149135\ttotal: 4m 20s\tremaining: 33.3s\n",
      "133:\tlearn: 1.6145317\ttotal: 4m 21s\tremaining: 31.3s\n",
      "134:\tlearn: 1.6143542\ttotal: 4m 23s\tremaining: 29.3s\n",
      "135:\tlearn: 1.6142000\ttotal: 4m 25s\tremaining: 27.3s\n",
      "136:\tlearn: 1.6138802\ttotal: 4m 27s\tremaining: 25.4s\n",
      "137:\tlearn: 1.6132694\ttotal: 4m 29s\tremaining: 23.5s\n",
      "138:\tlearn: 1.6130949\ttotal: 4m 31s\tremaining: 21.5s\n",
      "139:\tlearn: 1.6129292\ttotal: 4m 33s\tremaining: 19.5s\n",
      "140:\tlearn: 1.6128120\ttotal: 4m 35s\tremaining: 17.6s\n",
      "141:\tlearn: 1.6125827\ttotal: 4m 37s\tremaining: 15.6s\n",
      "142:\tlearn: 1.6124360\ttotal: 4m 39s\tremaining: 13.7s\n",
      "143:\tlearn: 1.6120223\ttotal: 4m 41s\tremaining: 11.7s\n",
      "144:\tlearn: 1.6117343\ttotal: 4m 43s\tremaining: 9.79s\n",
      "145:\tlearn: 1.6115797\ttotal: 4m 45s\tremaining: 7.83s\n",
      "146:\tlearn: 1.6113798\ttotal: 4m 47s\tremaining: 5.87s\n",
      "147:\tlearn: 1.6112124\ttotal: 4m 49s\tremaining: 3.91s\n",
      "148:\tlearn: 1.6110185\ttotal: 4m 51s\tremaining: 1.95s\n",
      "149:\tlearn: 1.6108112\ttotal: 4m 52s\tremaining: 0us\n"
     ]
    }
   ],
   "source": [
    "model_Cat = CatBoostRegressor(iterations=150, thread_count=4, learning_rate=0.1,\n",
    "                             depth=6, border_count=100, has_time=True,\n",
    "                             counter_calc_method='Full', save_snapshot=True)\n",
    "\n",
    "model_Cat = train_catboost(model_Cat, X_train, y_train, cat_features=categorical_features, lr_down_rate=1) "
   ]
  },
  {
   "cell_type": "markdown",
   "metadata": {},
   "source": [
    "#### Модель бинарной классификации"
   ]
  },
  {
   "cell_type": "code",
   "execution_count": 57,
   "metadata": {
    "scrolled": true
   },
   "outputs": [
    {
     "name": "stdout",
     "output_type": "stream",
     "text": [
      "100 0.03\n",
      "Can't load progress from file: catboost_info/experiment.cbsnapshot exception: (TCatboostException) catboost/libs/algo/learn_context.cpp:205: Saved model's Params are different from current model's params\n",
      "0:\tlearn: 0.6226639\ttotal: 2.36s\tremaining: 3m 53s\n",
      "1:\tlearn: 0.5589935\ttotal: 4.47s\tremaining: 3m 39s\n",
      "2:\tlearn: 0.5064931\ttotal: 6.38s\tremaining: 3m 26s\n",
      "3:\tlearn: 0.4606892\ttotal: 8.43s\tremaining: 3m 22s\n",
      "4:\tlearn: 0.4214333\ttotal: 10.7s\tremaining: 3m 22s\n",
      "5:\tlearn: 0.3881492\ttotal: 12.6s\tremaining: 3m 16s\n",
      "6:\tlearn: 0.3597156\ttotal: 14.4s\tremaining: 3m 11s\n",
      "7:\tlearn: 0.3352063\ttotal: 16.4s\tremaining: 3m 8s\n",
      "8:\tlearn: 0.3136934\ttotal: 18.6s\tremaining: 3m 7s\n",
      "9:\tlearn: 0.2953869\ttotal: 21.1s\tremaining: 3m 10s\n",
      "10:\tlearn: 0.2789797\ttotal: 23.2s\tremaining: 3m 7s\n",
      "11:\tlearn: 0.2642297\ttotal: 25.2s\tremaining: 3m 4s\n",
      "12:\tlearn: 0.2517777\ttotal: 27s\tremaining: 3m\n",
      "13:\tlearn: 0.2395987\ttotal: 29.1s\tremaining: 2m 58s\n",
      "14:\tlearn: 0.2289870\ttotal: 31s\tremaining: 2m 55s\n",
      "15:\tlearn: 0.2202477\ttotal: 32.9s\tremaining: 2m 52s\n",
      "16:\tlearn: 0.2122532\ttotal: 34.9s\tremaining: 2m 50s\n",
      "17:\tlearn: 0.2046212\ttotal: 37s\tremaining: 2m 48s\n",
      "18:\tlearn: 0.1975262\ttotal: 38.9s\tremaining: 2m 45s\n",
      "19:\tlearn: 0.1913996\ttotal: 40.8s\tremaining: 2m 43s\n",
      "20:\tlearn: 0.1861779\ttotal: 42.7s\tremaining: 2m 40s\n",
      "21:\tlearn: 0.1813664\ttotal: 44.7s\tremaining: 2m 38s\n",
      "22:\tlearn: 0.1768774\ttotal: 46.6s\tremaining: 2m 36s\n",
      "23:\tlearn: 0.1729492\ttotal: 48.7s\tremaining: 2m 34s\n",
      "24:\tlearn: 0.1684174\ttotal: 50.7s\tremaining: 2m 32s\n",
      "25:\tlearn: 0.1648644\ttotal: 52.7s\tremaining: 2m 29s\n",
      "26:\tlearn: 0.1618497\ttotal: 54.7s\tremaining: 2m 27s\n",
      "27:\tlearn: 0.1589906\ttotal: 56.8s\tremaining: 2m 26s\n",
      "28:\tlearn: 0.1565029\ttotal: 58.8s\tremaining: 2m 23s\n",
      "29:\tlearn: 0.1541716\ttotal: 1m\tremaining: 2m 21s\n",
      "30:\tlearn: 0.1519953\ttotal: 1m 3s\tremaining: 2m 20s\n",
      "31:\tlearn: 0.1500256\ttotal: 1m 5s\tremaining: 2m 18s\n",
      "32:\tlearn: 0.1478037\ttotal: 1m 7s\tremaining: 2m 16s\n",
      "33:\tlearn: 0.1458474\ttotal: 1m 9s\tremaining: 2m 14s\n",
      "34:\tlearn: 0.1440997\ttotal: 1m 11s\tremaining: 2m 12s\n",
      "35:\tlearn: 0.1423433\ttotal: 1m 13s\tremaining: 2m 10s\n",
      "36:\tlearn: 0.1407366\ttotal: 1m 15s\tremaining: 2m 8s\n",
      "37:\tlearn: 0.1395038\ttotal: 1m 17s\tremaining: 2m 6s\n",
      "38:\tlearn: 0.1381920\ttotal: 1m 19s\tremaining: 2m 4s\n",
      "39:\tlearn: 0.1369499\ttotal: 1m 21s\tremaining: 2m 2s\n",
      "40:\tlearn: 0.1359871\ttotal: 1m 23s\tremaining: 2m\n",
      "41:\tlearn: 0.1348716\ttotal: 1m 26s\tremaining: 1m 58s\n",
      "42:\tlearn: 0.1340178\ttotal: 1m 28s\tremaining: 1m 57s\n",
      "43:\tlearn: 0.1330312\ttotal: 1m 31s\tremaining: 1m 56s\n",
      "44:\tlearn: 0.1320907\ttotal: 1m 33s\tremaining: 1m 54s\n",
      "45:\tlearn: 0.1312674\ttotal: 1m 36s\tremaining: 1m 53s\n",
      "46:\tlearn: 0.1304910\ttotal: 1m 39s\tremaining: 1m 51s\n",
      "47:\tlearn: 0.1296457\ttotal: 1m 41s\tremaining: 1m 50s\n",
      "48:\tlearn: 0.1289789\ttotal: 1m 44s\tremaining: 1m 48s\n",
      "49:\tlearn: 0.1283620\ttotal: 1m 46s\tremaining: 1m 46s\n",
      "50:\tlearn: 0.1278425\ttotal: 1m 48s\tremaining: 1m 44s\n",
      "51:\tlearn: 0.1272437\ttotal: 1m 50s\tremaining: 1m 41s\n",
      "52:\tlearn: 0.1266705\ttotal: 1m 52s\tremaining: 1m 39s\n",
      "53:\tlearn: 0.1259040\ttotal: 1m 54s\tremaining: 1m 37s\n",
      "54:\tlearn: 0.1253397\ttotal: 1m 56s\tremaining: 1m 35s\n",
      "55:\tlearn: 0.1249000\ttotal: 1m 58s\tremaining: 1m 33s\n",
      "56:\tlearn: 0.1244895\ttotal: 2m\tremaining: 1m 31s\n",
      "57:\tlearn: 0.1238420\ttotal: 2m 2s\tremaining: 1m 29s\n",
      "58:\tlearn: 0.1234058\ttotal: 2m 4s\tremaining: 1m 26s\n",
      "59:\tlearn: 0.1229507\ttotal: 2m 7s\tremaining: 1m 24s\n",
      "60:\tlearn: 0.1224527\ttotal: 2m 9s\tremaining: 1m 22s\n",
      "61:\tlearn: 0.1221403\ttotal: 2m 11s\tremaining: 1m 20s\n",
      "62:\tlearn: 0.1217097\ttotal: 2m 13s\tremaining: 1m 18s\n",
      "63:\tlearn: 0.1212460\ttotal: 2m 15s\tremaining: 1m 16s\n",
      "64:\tlearn: 0.1208520\ttotal: 2m 17s\tremaining: 1m 13s\n",
      "65:\tlearn: 0.1205649\ttotal: 2m 19s\tremaining: 1m 11s\n",
      "66:\tlearn: 0.1203060\ttotal: 2m 21s\tremaining: 1m 9s\n",
      "67:\tlearn: 0.1199138\ttotal: 2m 23s\tremaining: 1m 7s\n",
      "68:\tlearn: 0.1195079\ttotal: 2m 25s\tremaining: 1m 5s\n",
      "69:\tlearn: 0.1191841\ttotal: 2m 28s\tremaining: 1m 3s\n",
      "70:\tlearn: 0.1189818\ttotal: 2m 29s\tremaining: 1m 1s\n",
      "71:\tlearn: 0.1187598\ttotal: 2m 31s\tremaining: 59.1s\n",
      "72:\tlearn: 0.1185548\ttotal: 2m 33s\tremaining: 56.9s\n",
      "73:\tlearn: 0.1182427\ttotal: 2m 36s\tremaining: 54.8s\n",
      "74:\tlearn: 0.1179340\ttotal: 2m 38s\tremaining: 52.8s\n",
      "75:\tlearn: 0.1176908\ttotal: 2m 40s\tremaining: 50.7s\n",
      "76:\tlearn: 0.1175088\ttotal: 2m 42s\tremaining: 48.6s\n",
      "77:\tlearn: 0.1173332\ttotal: 2m 44s\tremaining: 46.4s\n",
      "78:\tlearn: 0.1171001\ttotal: 2m 46s\tremaining: 44.3s\n",
      "79:\tlearn: 0.1169061\ttotal: 2m 48s\tremaining: 42.2s\n",
      "80:\tlearn: 0.1167066\ttotal: 2m 50s\tremaining: 40.1s\n",
      "81:\tlearn: 0.1165517\ttotal: 2m 52s\tremaining: 37.9s\n",
      "82:\tlearn: 0.1163194\ttotal: 2m 54s\tremaining: 35.8s\n",
      "83:\tlearn: 0.1161262\ttotal: 2m 56s\tremaining: 33.7s\n",
      "84:\tlearn: 0.1159754\ttotal: 2m 58s\tremaining: 31.5s\n",
      "85:\tlearn: 0.1157831\ttotal: 3m\tremaining: 29.4s\n",
      "86:\tlearn: 0.1156123\ttotal: 3m 3s\tremaining: 27.4s\n",
      "87:\tlearn: 0.1154498\ttotal: 3m 5s\tremaining: 25.4s\n",
      "88:\tlearn: 0.1153177\ttotal: 3m 8s\tremaining: 23.3s\n",
      "89:\tlearn: 0.1151781\ttotal: 3m 11s\tremaining: 21.3s\n",
      "90:\tlearn: 0.1150534\ttotal: 3m 14s\tremaining: 19.2s\n",
      "91:\tlearn: 0.1149252\ttotal: 3m 16s\tremaining: 17.1s\n",
      "92:\tlearn: 0.1147468\ttotal: 3m 18s\tremaining: 15s\n",
      "93:\tlearn: 0.1146222\ttotal: 3m 21s\tremaining: 12.8s\n",
      "94:\tlearn: 0.1144387\ttotal: 3m 23s\tremaining: 10.7s\n",
      "95:\tlearn: 0.1143373\ttotal: 3m 25s\tremaining: 8.57s\n",
      "96:\tlearn: 0.1142272\ttotal: 3m 27s\tremaining: 6.43s\n",
      "97:\tlearn: 0.1140900\ttotal: 3m 30s\tremaining: 4.29s\n",
      "98:\tlearn: 0.1139716\ttotal: 3m 32s\tremaining: 2.15s\n",
      "99:\tlearn: 0.1138610\ttotal: 3m 35s\tremaining: 0us\n"
     ]
    }
   ],
   "source": [
    "from catboost import CatBoostClassifier\n",
    "\n",
    "y_train_bin = (y_train > 0).astype(int)\n",
    "model_Cat_bin = CatBoostClassifier(iterations=100, thread_count=4, learning_rate=0.03,\n",
    "                             depth=7, border_count=100, has_time=True,\n",
    "                             counter_calc_method='SkipTest', save_snapshot=True, class_weights=(sum(y_train_bin)/len(y_train_bin), 1-sum(y_train_bin)/len(y_train_bin)))\n",
    "\n",
    "model_Cat_bin = train_catboost(model_Cat_bin, X_train, y_train_bin, cat_features=categorical_features, lr_down_rate=1) "
   ]
  },
  {
   "cell_type": "code",
   "execution_count": 58,
   "metadata": {
    "collapsed": true
   },
   "outputs": [],
   "source": [
    "y_train_pred = model_Cat_bin.predict_proba(X_train)[:,1]\n",
    "y_train_true = (y_train > 0).astype(int)"
   ]
  },
  {
   "cell_type": "markdown",
   "metadata": {},
   "source": [
    "#### Строим графики, подбираем пороги"
   ]
  },
  {
   "cell_type": "code",
   "execution_count": 59,
   "metadata": {},
   "outputs": [
    {
     "name": "stdout",
     "output_type": "stream",
     "text": [
      "Average precision-recall score: 0.43\n"
     ]
    },
    {
     "data": {
      "text/plain": [
       "Text(0.5,1,'2-class Precision-Recall curve: AP=0.43')"
      ]
     },
     "execution_count": 59,
     "metadata": {},
     "output_type": "execute_result"
    },
    {
     "data": {
      "image/png": "[encoded data removed]",
      "text/plain": [
       "<matplotlib.figure.Figure at 0x1a6c12630>"
      ]
     },
     "metadata": {},
     "output_type": "display_data"
    }
   ],
   "source": [
    "from sklearn.metrics import average_precision_score\n",
    "average_precision = average_precision_score(y_train_true, y_train_pred)\n",
    "\n",
    "print('Average precision-recall score: {0:0.2f}'.format(\n",
    "      average_precision))\n",
    "\n",
    "from sklearn.metrics import precision_recall_curve\n",
    "import matplotlib.pyplot as plt\n",
    "from sklearn.utils.fixes import signature\n",
    "\n",
    "precision, recall, _ = precision_recall_curve(y_train_true, y_train_pred)\n",
    "\n",
    "# In matplotlib < 1.5, plt.fill_between does not have a 'step' argument\n",
    "step_kwargs = ({'step': 'post'}\n",
    "               if 'step' in signature(plt.fill_between).parameters\n",
    "               else {})\n",
    "plt.step(recall, precision, color='b', alpha=0.2,\n",
    "         where='post')\n",
    "plt.fill_between(recall, precision, alpha=0.2, color='b', **step_kwargs)\n",
    "\n",
    "plt.xlabel('Recall')\n",
    "plt.ylabel('Precision')\n",
    "plt.ylim([0.0, 1.05])\n",
    "plt.xlim([0.0, 1.0])\n",
    "plt.title('2-class Precision-Recall curve: AP={0:0.2f}'.format(\n",
    "          average_precision))"
   ]
  },
  {
   "cell_type": "code",
   "execution_count": 60,
   "metadata": {},
   "outputs": [],
   "source": [
    "y_bin_pred = model_Cat_bin.predict_proba(X_test.iloc[:,1:])[:,1]\n",
    "\n",
    "X_test['prediction'] = model_Cat.predict(X_test.iloc[:,1:])\n",
    "X_test['prediction'] = X_test['prediction']*(X_test['prediction'] >= 0)\n",
    "X_test['prediction'] = (np.exp(X_test['prediction']) - 1)*y_bin_pred\n",
    "pred_dict = dict(X_test.groupby('fullVisitorId')['prediction'].sum())"
   ]
  },
  {
   "cell_type": "code",
   "execution_count": 47,
   "metadata": {
    "collapsed": true
   },
   "outputs": [],
   "source": [
    "subm = pd.read_csv('sample_submission.csv')\n",
    "subm['PredictedLogRevenue'] = subm['fullVisitorId'].map(pred_dict).fillna(0)\n",
    "subm['PredictedLogRevenue'] = np.log(subm['PredictedLogRevenue']+1)\n",
    "subm.to_csv('sixth_subm.csv', sep=',', index=None)"
   ]
  },
  {
   "cell_type": "code",
   "execution_count": 48,
   "metadata": {},
   "outputs": [
    {
     "data": {
      "text/plain": [
       "array([[<matplotlib.axes._subplots.AxesSubplot object at 0x1a6cc3390>]],\n",
       "      dtype=object)"
      ]
     },
     "execution_count": 48,
     "metadata": {},
     "output_type": "execute_result"
    },
    {
     "data": {
      "image/png": "[encoded data removed]",
      "text/plain": [
       "<matplotlib.figure.Figure at 0x1a4599390>"
      ]
     },
     "metadata": {},
     "output_type": "display_data"
    }
   ],
   "source": [
    "%matplotlib inline\n",
    "subm[subm['PredictedLogRevenue'] >= 0.1].hist(bins=100)"
   ]
  },
  {
   "cell_type": "code",
   "execution_count": 78,
   "metadata": {},
   "outputs": [
    {
     "data": {
      "text/plain": [
       "<matplotlib.axes._subplots.AxesSubplot at 0x118b4f5f8>"
      ]
     },
     "execution_count": 78,
     "metadata": {},
     "output_type": "execute_result"
    },
    {
     "data": {
      "image/png": "[encoded data removed]",
      "text/plain": [
       "<matplotlib.figure.Figure at 0x1196d82b0>"
      ]
     },
     "metadata": {},
     "output_type": "display_data"
    }
   ],
   "source": [
    "%matplotlib inline\n",
    "full_df.fillna(0)[full_df['transactionRevenue'].fillna(0) >= 0.1]['transactionRevenue'].hist(bins=100)"
   ]
  },
  {
   "cell_type": "code",
   "execution_count": null,
   "metadata": {
    "collapsed": true
   },
   "outputs": [],
   "source": []
  }
 ],
 "metadata": {
  "kernelspec": {
   "display_name": "Python 3",
   "language": "python",
   "name": "python3"
  },
  "language_info": {
   "codemirror_mode": {
    "name": "ipython",
    "version": 3
   },
   "file_extension": ".py",
   "mimetype": "text/x-python",
   "name": "python",
   "nbconvert_exporter": "python",
   "pygments_lexer": "ipython3",
   "version": "3.6.3"
  }
 },
 "nbformat": 4,
 "nbformat_minor": 2
}
