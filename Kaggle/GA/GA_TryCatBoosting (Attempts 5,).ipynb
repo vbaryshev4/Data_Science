{
 "cells": [
  {
   "cell_type": "code",
   "execution_count": 2,
   "metadata": {},
   "outputs": [
    {
     "name": "stderr",
     "output_type": "stream",
     "text": [
      "/anaconda3/lib/python3.6/importlib/_bootstrap.py:219: RuntimeWarning: numpy.dtype size changed, may indicate binary incompatibility. Expected 96, got 88\n",
      "  return f(*args, **kwds)\n",
      "/anaconda3/lib/python3.6/importlib/_bootstrap.py:219: RuntimeWarning: numpy.dtype size changed, may indicate binary incompatibility. Expected 96, got 88\n",
      "  return f(*args, **kwds)\n"
     ]
    }
   ],
   "source": [
    "import os\n",
    "import json\n",
    "import pickle\n",
    "import numpy as np\n",
    "import pandas as pd\n",
    "from tqdm import tqdm_notebook\n",
    "from catboost import CatBoostRegressor\n",
    "\n",
    "# Displaying pd Dataframe options\n",
    "pd.set_option('display.max_columns', 500)\n",
    "pd.set_option('display.width', 1000)\n",
    "pd.set_option('display.max_colwidth', 1000)"
   ]
  },
  {
   "cell_type": "code",
   "execution_count": 3,
   "metadata": {},
   "outputs": [
    {
     "name": "stdout",
     "output_type": "stream",
     "text": [
      "CPU times: user 7.41 s, sys: 4.42 s, total: 11.8 s\n",
      "Wall time: 13.1 s\n"
     ]
    }
   ],
   "source": [
    "%%time\n",
    "# Get datas from pickle\n",
    "train_df = pd.read_pickle('train_df.pickle')\n",
    "test_df = pd.read_pickle('test_df.pickle')\n",
    "test_df['transactionRevenue'] = np.nan\n",
    "\n",
    "full_df = pd.concat([train_df, test_df], axis=0)\n",
    "\n",
    "full_df['date'] = pd.to_datetime(full_df['date'], format='%Y%m%d')\n",
    "full_df['weekday'] = full_df['date'].dt.weekday_name\n",
    "full_df['day_off'] = (full_df['date'].dt.dayofweek > 4).astype(int)\n",
    "\n"
   ]
  },
  {
   "cell_type": "code",
   "execution_count": 4,
   "metadata": {
    "collapsed": true
   },
   "outputs": [],
   "source": [
    "count_user_by_visits = {}\n",
    "def check_count_by_visits(Id):\n",
    "    if Id in count_user_by_visits:\n",
    "        count_user_by_visits[Id]+= 1\n",
    "    else:\n",
    "        count_user_by_visits[Id]= 1\n",
    "    \n",
    "    return count_user_by_visits[Id]\n",
    "full_df['visit_index'] = [check_count_by_visits(user) for user in full_df['fullVisitorId']]"
   ]
  },
  {
   "cell_type": "code",
   "execution_count": null,
   "metadata": {
    "collapsed": true
   },
   "outputs": [],
   "source": [
    "cat_features = ['channelGrouping','isMobile','browser','deviceCategory','operatingSystem',\n",
    "               'country','region','subContinent','networkDomain','continent','newVisits',\n",
    "               'medium', 'isTrueDirect', 'source', 'isVideoAd', 'slot','page', 'day_off', \n",
    "                'weekday']\n",
    "num_features = ['visitNumber','pageviews','hits', 'visit_index']\n",
    "\n",
    "categorical_features=[i for i, x in enumerate(X_train.columns) if x in cat_features]"
   ]
  },
  {
   "cell_type": "code",
   "execution_count": null,
   "metadata": {
    "collapsed": true
   },
   "outputs": [],
   "source": [
    "full_df[num_features] = test_df[num_features].replace('no_key',0).fillna(0)\n",
    "full_df[cat_features] = test_df[cat_features].fillna('other')"
   ]
  },
  {
   "cell_type": "code",
   "execution_count": null,
   "metadata": {
    "collapsed": true
   },
   "outputs": [],
   "source": [
    "X_train, X_test = full_df[full_df['transactionRevenue'] >= 0], full_df[~(full_df['transactionRevenue'] >= 0)]\n",
    "y_train = X_train['transactionRevenue']\n",
    "\n",
    "X_train, X_test = X_train[cat_features+num_features], X_test[['fullVisitorId']+cat_features+num_features]"
   ]
  },
  {
   "cell_type": "code",
   "execution_count": null,
   "metadata": {
    "collapsed": true
   },
   "outputs": [],
   "source": [
    "# 13) Интегрировать код в блок с обучением катбуста. Для снижения снижения лернрейта"
   ]
  },
  {
   "cell_type": "code",
   "execution_count": null,
   "metadata": {
    "collapsed": true
   },
   "outputs": [],
   "source": [
    "model_Cat = CatBoostRegressor(iterations=100, thread_count=4, learning_rate=0.4,\n",
    "                             depth=10, border_count=100, has_time=True,\n",
    "                             counter_calc_method='SkipTest')\n",
    "model_Cat.fit(X_train, y_train, cat_features=categorical_features)"
   ]
  },
  {
   "cell_type": "code",
   "execution_count": null,
   "metadata": {
    "collapsed": true
   },
   "outputs": [],
   "source": [
    "X_test['prediction'] = model_Cat.predict(X_test.iloc[:,1:])\n",
    "X_test['prediction'] = X_test['prediction']*(X_test['prediction'] >= 0)\n",
    "X_test['prediction'] = np.exp(X_test['prediction']) - 1\n",
    "pred_dict = dict(X_test.groupby('fullVisitorId')['prediction'].sum())"
   ]
  },
  {
   "cell_type": "code",
   "execution_count": null,
   "metadata": {
    "collapsed": true
   },
   "outputs": [],
   "source": [
    "subm = pd.read_csv('sample_submission.csv')\n",
    "subm['PredictedLogRevenue'] = subm['fullVisitorId'].map(pred_dict).fillna(0)\n",
    "subm['PredictedLogRevenue'] = np.log(subm['PredictedLogRevenue']+1)\n",
    "subm.to_csv('fifth_subm.csv', sep=',', index=None)"
   ]
  }
 ],
 "metadata": {
  "kernelspec": {
   "display_name": "Python 3",
   "language": "python",
   "name": "python3"
  },
  "language_info": {
   "codemirror_mode": {
    "name": "ipython",
    "version": 3
   },
   "file_extension": ".py",
   "mimetype": "text/x-python",
   "name": "python",
   "nbconvert_exporter": "python",
   "pygments_lexer": "ipython3",
   "version": "3.6.3"
  }
 },
 "nbformat": 4,
 "nbformat_minor": 2
}
