{
 "cells": [
  {
   "cell_type": "markdown",
   "metadata": {},
   "source": [
    "# Домашнее задание 5. Кластеризация и поиск аномалий\n",
    "\n",
    "**Задача**: Требуется разбить на кластеры заголовки статей.\n",
    "\n",
    "* Проверьте данные на наличие аномалий\n",
    "* Попробуйте различные алгоритмы кластеризации. Выберите наилучший на Ваш взгляд. Соответствуют ли бОльшие значения метрик бОльшему визуальному качеству?\n",
    "* Попробуйте добавить в пайплайн PCA. Улучшилось ли качество кластеризации?\n",
    "* Есть ли аномальные кластеры среди заголовков?\n",
    "\n",
    "**Данные**: https://www.kaggle.com/snapcrack/all-the-news\n",
    "\n",
    "**Дедлайн: 23:59 13.12.2018**"
   ]
  },
  {
   "cell_type": "code",
   "execution_count": null,
   "metadata": {},
   "outputs": [],
   "source": []
  }
 ],
 "metadata": {
  "kernelspec": {
   "display_name": "Python 3",
   "language": "python",
   "name": "python3"
  },
  "language_info": {
   "codemirror_mode": {
    "name": "ipython",
    "version": 3
   },
   "file_extension": ".py",
   "mimetype": "text/x-python",
   "name": "python",
   "nbconvert_exporter": "python",
   "pygments_lexer": "ipython3",
   "version": "3.6.6"
  }
 },
 "nbformat": 4,
 "nbformat_minor": 2
}
