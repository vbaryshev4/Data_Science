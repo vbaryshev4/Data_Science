{
 "cells": [
  {
   "cell_type": "markdown",
   "metadata": {},
   "source": [
    "# Зависимость дисперсии среднего от числа примеров в эксперименте"
   ]
  },
  {
   "cell_type": "code",
   "execution_count": 1,
   "metadata": {},
   "outputs": [],
   "source": [
    "%matplotlib inline\n",
    "from matplotlib import pyplot as plt\n",
    "import numpy as np"
   ]
  },
  {
   "cell_type": "code",
   "execution_count": 2,
   "metadata": {},
   "outputs": [],
   "source": [
    "# Функция генерации экспериментов\n",
    "def gen_expiremnts(mean=0, \n",
    "                   scale=10,\n",
    "                   n_samples=10,\n",
    "                   n_experiements=500):\n",
    "    \n",
    "    return np.random.normal(loc=mean,\n",
    "                            scale=scale,\n",
    "                            size=(n_experiements, n_samples))"
   ]
  },
  {
   "cell_type": "code",
   "execution_count": 26,
   "metadata": {},
   "outputs": [
    {
     "data": {
      "text/plain": [
       "array([[ -4.38447871,   0.49651154,   0.35908024, -19.44370006,\n",
       "         11.88984339,  -0.66126825,  -5.12691534, -12.04453961,\n",
       "        -12.60927406,   2.58976499],\n",
       "       [ 11.60428786,  -1.87769831, -23.03582787,   7.89540497,\n",
       "         12.994679  , -17.92428765,   1.68140947,   6.98585424,\n",
       "          5.3557321 ,  -2.96968957]])"
      ]
     },
     "execution_count": 26,
     "metadata": {},
     "output_type": "execute_result"
    }
   ],
   "source": [
    "data[:2, :]"
   ]
  },
  {
   "cell_type": "code",
   "execution_count": 3,
   "metadata": {},
   "outputs": [],
   "source": [
    "data = gen_expiremnts(n_samples=10)\n",
    "data_100 = gen_expiremnts(n_samples=100)"
   ]
  },
  {
   "cell_type": "code",
   "execution_count": 4,
   "metadata": {},
   "outputs": [],
   "source": [
    "means = np.mean(data, axis=1)\n",
    "means_100 = np.mean(data_100, axis=1)"
   ]
  },
  {
   "cell_type": "code",
   "execution_count": 5,
   "metadata": {},
   "outputs": [
    {
     "data": {
      "image/png": "[encoded data removed]",
      "text/plain": [
       "<Figure size 432x288 with 1 Axes>"
      ]
     },
     "metadata": {
      "needs_background": "light"
     },
     "output_type": "display_data"
    }
   ],
   "source": [
    "plt.hist([means, means_100])\n",
    "plt.legend(['len=10', 'len=100']);"
   ]
  },
  {
   "cell_type": "code",
   "execution_count": 6,
   "metadata": {},
   "outputs": [],
   "source": [
    "std = []\n",
    "for n_samples in range(10, 110, 10):\n",
    "    data = gen_expiremnts(n_samples=n_samples)\n",
    "    means = np.mean(data, axis=1)\n",
    "    std.append(np.std(means))"
   ]
  },
  {
   "cell_type": "code",
   "execution_count": 7,
   "metadata": {},
   "outputs": [
    {
     "data": {
      "text/plain": [
       "Text(0, 0.5, 'std')"
      ]
     },
     "execution_count": 7,
     "metadata": {},
     "output_type": "execute_result"
    },
    {
     "data": {
      "image/png": "[encoded data removed]",
      "text/plain": [
       "<Figure size 432x288 with 1 Axes>"
      ]
     },
     "metadata": {
      "needs_background": "light"
     },
     "output_type": "display_data"
    }
   ],
   "source": [
    "plt.plot(range(10, 110, 10), std, '-o')\n",
    "plt.xlabel('n_samples')\n",
    "plt.ylabel('std')"
   ]
  },
  {
   "cell_type": "code",
   "execution_count": 8,
   "metadata": {},
   "outputs": [],
   "source": [
    "# TODO: оценить зависимость дисперсии \n",
    "#       от числа примеров в эксперименте\n",
    "#       (построить график)"
   ]
  },
  {
   "cell_type": "markdown",
   "metadata": {},
   "source": [
    "## Доверительный интервал для среднего"
   ]
  },
  {
   "cell_type": "code",
   "execution_count": 23,
   "metadata": {},
   "outputs": [],
   "source": [
    "from scipy import stats as st\n",
    "# TODO: построить доверительный интервал для n_samles=10\n",
    "#       при уровне значимости 0.95 (95%)\n",
    "\n",
    "n_samples = 10\n",
    "data = gen_expiremnts(n_samples=n_samples)\n",
    "means = np.mean(data, axis=1)\n",
    "std = np.std(means)\n",
    "    \n",
    "confidence = 0.975\n",
    "z = st.norm.ppf(confidence)\n",
    "margin = z * std"
   ]
  },
  {
   "cell_type": "code",
   "execution_count": 24,
   "metadata": {},
   "outputs": [
    {
     "data": {
      "text/plain": [
       "6.453163404254806"
      ]
     },
     "execution_count": 24,
     "metadata": {},
     "output_type": "execute_result"
    }
   ],
   "source": [
    "margin"
   ]
  },
  {
   "cell_type": "code",
   "execution_count": 18,
   "metadata": {},
   "outputs": [],
   "source": [
    "data = gen_expiremnts(n_samples=n_samples)\n",
    "means = np.mean(data, axis=1)"
   ]
  },
  {
   "cell_type": "code",
   "execution_count": 25,
   "metadata": {},
   "outputs": [
    {
     "data": {
      "text/plain": [
       "0.054"
      ]
     },
     "execution_count": 25,
     "metadata": {},
     "output_type": "execute_result"
    }
   ],
   "source": [
    "np.sum(np.abs(means) > margin) / means.shape[0]"
   ]
  },
  {
   "cell_type": "code",
   "execution_count": null,
   "metadata": {},
   "outputs": [],
   "source": [
    "# TODO: провести эксперимент и показать корректность полученного интервала"
   ]
  }
 ],
 "metadata": {
  "kernelspec": {
   "display_name": "Python 3",
   "language": "python",
   "name": "python3"
  },
  "language_info": {
   "codemirror_mode": {
    "name": "ipython",
    "version": 3
   },
   "file_extension": ".py",
   "mimetype": "text/x-python",
   "name": "python",
   "nbconvert_exporter": "python",
   "pygments_lexer": "ipython3",
   "version": "3.7.2"
  }
 },
 "nbformat": 4,
 "nbformat_minor": 2
}
