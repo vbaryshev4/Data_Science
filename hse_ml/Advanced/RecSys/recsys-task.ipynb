{
 "cells": [
  {
   "cell_type": "markdown",
   "metadata": {},
   "source": [
    "# ДПО ВШЭ\n",
    "\n",
    "## Современный анализ данных, глубокое обучение и приложения\n",
    "\n",
    "## Задание на тему: \"Рекомендательные системы\""
   ]
  },
  {
   "cell_type": "markdown",
   "metadata": {},
   "source": [
    "В этом задании будем практиковаться в реализации рекомендательных систем.\n",
    "\n",
    "Воспользуемся небольшим датасетом с Kaggle: [Articles Sharing and Reading from CI&T Deskdrop](https://www.kaggle.com/gspmoreira/articles-sharing-reading-from-cit-deskdrop)."
   ]
  },
  {
   "cell_type": "code",
   "execution_count": 1,
   "metadata": {
    "_cell_guid": "719f3966-e6fd-49c8-9f60-7bd741542450",
    "_uuid": "b61cd3125a7f8f991fc1bda85ae3cd26f74090ae"
   },
   "outputs": [
    {
     "name": "stderr",
     "output_type": "stream",
     "text": [
      "/anaconda3/lib/python3.6/importlib/_bootstrap.py:219: RuntimeWarning: numpy.dtype size changed, may indicate binary incompatibility. Expected 96, got 88\n",
      "  return f(*args, **kwds)\n"
     ]
    }
   ],
   "source": [
    "import numpy as np\n",
    "import scipy\n",
    "import pandas as pd\n",
    "import math\n",
    "\n",
    "%matplotlib inline\n",
    "import matplotlib.pyplot as plt\n",
    "\n",
    "from tqdm import tqdm_notebook"
   ]
  },
  {
   "cell_type": "markdown",
   "metadata": {
    "_cell_guid": "5f5c826d-f3d5-42d3-a7e6-0343a44cdc9f",
    "_uuid": "26f1f70fd978957b26f8884fc5f82bfe9475c666"
   },
   "source": [
    "## Часть 0. Загрузка данных"
   ]
  },
  {
   "cell_type": "markdown",
   "metadata": {
    "_cell_guid": "3c48b62c-ad3b-4218-8fb2-2f0e86a16edc",
    "_uuid": "650c279eddc846a48274346e045cfb6e1f8895d5"
   },
   "source": [
    "Загрузим [Deskdrop dataset](https://www.kaggle.com/gspmoreira/articles-sharing-reading-from-cit-deskdrop), включающийся в себе логи за 1 год платформы, где пользователи читают статьи.\n",
    "\n",
    "Данные включают в себя 2 файла:  \n",
    "- **shared_articles.csv**\n",
    "- **users_interactions.csv**\n",
    "\n",
    "Как можно догадаться, в одном описания самих статей (нам понадобятся в контентных моделях), а в другом логи пользователей."
   ]
  },
  {
   "cell_type": "markdown",
   "metadata": {
    "_cell_guid": "c9ee29ff-1fee-4dc9-a3cb-e5301c17fded",
    "_uuid": "1e66e976d34d4e28f5a92241b0ea82a2a66363ea"
   },
   "source": [
    "#### shared_articles.csv"
   ]
  },
  {
   "cell_type": "markdown",
   "metadata": {
    "_cell_guid": "f09d2247-a40c-4aaf-90ce-15a8721a3036",
    "_uuid": "e64f4fa8a4751274bd2d37a0f45d2d3d664d6c3e"
   },
   "source": [
    "Так как в файле перечислены даже удалённые статьи, то мы их сразу удалим (на самом деле они могли бы быть нам полезны для подсчёта различных величин, хоть мы и не можем их рекомендовать)."
   ]
  },
  {
   "cell_type": "code",
   "execution_count": 2,
   "metadata": {
    "_cell_guid": "e601f966-d03f-4edc-886f-ca3d511a8045",
    "_uuid": "569c301bd128f66f29b4d97c34171e4d1712015a"
   },
   "outputs": [
    {
     "data": {
      "text/html": [
       "<div>\n",
       "<style scoped>\n",
       "    .dataframe tbody tr th:only-of-type {\n",
       "        vertical-align: middle;\n",
       "    }\n",
       "\n",
       "    .dataframe tbody tr th {\n",
       "        vertical-align: top;\n",
       "    }\n",
       "\n",
       "    .dataframe thead th {\n",
       "        text-align: right;\n",
       "    }\n",
       "</style>\n",
       "<table border=\"1\" class=\"dataframe\">\n",
       "  <thead>\n",
       "    <tr style=\"text-align: right;\">\n",
       "      <th></th>\n",
       "      <th>timestamp</th>\n",
       "      <th>eventType</th>\n",
       "      <th>contentId</th>\n",
       "      <th>authorPersonId</th>\n",
       "      <th>authorSessionId</th>\n",
       "      <th>authorUserAgent</th>\n",
       "      <th>authorRegion</th>\n",
       "      <th>authorCountry</th>\n",
       "      <th>contentType</th>\n",
       "      <th>url</th>\n",
       "      <th>title</th>\n",
       "      <th>text</th>\n",
       "      <th>lang</th>\n",
       "    </tr>\n",
       "  </thead>\n",
       "  <tbody>\n",
       "    <tr>\n",
       "      <th>1</th>\n",
       "      <td>1459193988</td>\n",
       "      <td>CONTENT SHARED</td>\n",
       "      <td>-4110354420726924665</td>\n",
       "      <td>4340306774493623681</td>\n",
       "      <td>8940341205206233829</td>\n",
       "      <td>NaN</td>\n",
       "      <td>NaN</td>\n",
       "      <td>NaN</td>\n",
       "      <td>HTML</td>\n",
       "      <td>http://www.nytimes.com/2016/03/28/business/dea...</td>\n",
       "      <td>Ethereum, a Virtual Currency, Enables Transact...</td>\n",
       "      <td>All of this work is still very early. The firs...</td>\n",
       "      <td>en</td>\n",
       "    </tr>\n",
       "    <tr>\n",
       "      <th>2</th>\n",
       "      <td>1459194146</td>\n",
       "      <td>CONTENT SHARED</td>\n",
       "      <td>-7292285110016212249</td>\n",
       "      <td>4340306774493623681</td>\n",
       "      <td>8940341205206233829</td>\n",
       "      <td>NaN</td>\n",
       "      <td>NaN</td>\n",
       "      <td>NaN</td>\n",
       "      <td>HTML</td>\n",
       "      <td>http://cointelegraph.com/news/bitcoin-future-w...</td>\n",
       "      <td>Bitcoin Future: When GBPcoin of Branson Wins O...</td>\n",
       "      <td>The alarm clock wakes me at 8:00 with stream o...</td>\n",
       "      <td>en</td>\n",
       "    </tr>\n",
       "    <tr>\n",
       "      <th>3</th>\n",
       "      <td>1459194474</td>\n",
       "      <td>CONTENT SHARED</td>\n",
       "      <td>-6151852268067518688</td>\n",
       "      <td>3891637997717104548</td>\n",
       "      <td>-1457532940883382585</td>\n",
       "      <td>NaN</td>\n",
       "      <td>NaN</td>\n",
       "      <td>NaN</td>\n",
       "      <td>HTML</td>\n",
       "      <td>https://cloudplatform.googleblog.com/2016/03/G...</td>\n",
       "      <td>Google Data Center 360° Tour</td>\n",
       "      <td>We're excited to share the Google Data Center ...</td>\n",
       "      <td>en</td>\n",
       "    </tr>\n",
       "    <tr>\n",
       "      <th>4</th>\n",
       "      <td>1459194497</td>\n",
       "      <td>CONTENT SHARED</td>\n",
       "      <td>2448026894306402386</td>\n",
       "      <td>4340306774493623681</td>\n",
       "      <td>8940341205206233829</td>\n",
       "      <td>NaN</td>\n",
       "      <td>NaN</td>\n",
       "      <td>NaN</td>\n",
       "      <td>HTML</td>\n",
       "      <td>https://bitcoinmagazine.com/articles/ibm-wants...</td>\n",
       "      <td>IBM Wants to \"Evolve the Internet\" With Blockc...</td>\n",
       "      <td>The Aite Group projects the blockchain market ...</td>\n",
       "      <td>en</td>\n",
       "    </tr>\n",
       "    <tr>\n",
       "      <th>5</th>\n",
       "      <td>1459194522</td>\n",
       "      <td>CONTENT SHARED</td>\n",
       "      <td>-2826566343807132236</td>\n",
       "      <td>4340306774493623681</td>\n",
       "      <td>8940341205206233829</td>\n",
       "      <td>NaN</td>\n",
       "      <td>NaN</td>\n",
       "      <td>NaN</td>\n",
       "      <td>HTML</td>\n",
       "      <td>http://www.coindesk.com/ieee-blockchain-oxford...</td>\n",
       "      <td>IEEE to Talk Blockchain at Cloud Computing Oxf...</td>\n",
       "      <td>One of the largest and oldest organizations fo...</td>\n",
       "      <td>en</td>\n",
       "    </tr>\n",
       "  </tbody>\n",
       "</table>\n",
       "</div>"
      ],
      "text/plain": [
       "    timestamp       eventType            contentId       authorPersonId  \\\n",
       "1  1459193988  CONTENT SHARED -4110354420726924665  4340306774493623681   \n",
       "2  1459194146  CONTENT SHARED -7292285110016212249  4340306774493623681   \n",
       "3  1459194474  CONTENT SHARED -6151852268067518688  3891637997717104548   \n",
       "4  1459194497  CONTENT SHARED  2448026894306402386  4340306774493623681   \n",
       "5  1459194522  CONTENT SHARED -2826566343807132236  4340306774493623681   \n",
       "\n",
       "       authorSessionId authorUserAgent authorRegion authorCountry contentType  \\\n",
       "1  8940341205206233829             NaN          NaN           NaN        HTML   \n",
       "2  8940341205206233829             NaN          NaN           NaN        HTML   \n",
       "3 -1457532940883382585             NaN          NaN           NaN        HTML   \n",
       "4  8940341205206233829             NaN          NaN           NaN        HTML   \n",
       "5  8940341205206233829             NaN          NaN           NaN        HTML   \n",
       "\n",
       "                                                 url  \\\n",
       "1  http://www.nytimes.com/2016/03/28/business/dea...   \n",
       "2  http://cointelegraph.com/news/bitcoin-future-w...   \n",
       "3  https://cloudplatform.googleblog.com/2016/03/G...   \n",
       "4  https://bitcoinmagazine.com/articles/ibm-wants...   \n",
       "5  http://www.coindesk.com/ieee-blockchain-oxford...   \n",
       "\n",
       "                                               title  \\\n",
       "1  Ethereum, a Virtual Currency, Enables Transact...   \n",
       "2  Bitcoin Future: When GBPcoin of Branson Wins O...   \n",
       "3                       Google Data Center 360° Tour   \n",
       "4  IBM Wants to \"Evolve the Internet\" With Blockc...   \n",
       "5  IEEE to Talk Blockchain at Cloud Computing Oxf...   \n",
       "\n",
       "                                                text lang  \n",
       "1  All of this work is still very early. The firs...   en  \n",
       "2  The alarm clock wakes me at 8:00 with stream o...   en  \n",
       "3  We're excited to share the Google Data Center ...   en  \n",
       "4  The Aite Group projects the blockchain market ...   en  \n",
       "5  One of the largest and oldest organizations fo...   en  "
      ]
     },
     "execution_count": 2,
     "metadata": {},
     "output_type": "execute_result"
    }
   ],
   "source": [
    "articles_df = pd.read_csv('shared_articles.csv')\n",
    "articles_df = articles_df[articles_df['eventType'] == 'CONTENT SHARED']\n",
    "articles_df.head(5)"
   ]
  },
  {
   "cell_type": "markdown",
   "metadata": {
    "_cell_guid": "487936d5-d7b3-487d-9ef1-e3ba1e4bc421",
    "_uuid": "3f96f2d88fa86814e2fa1273d80f26d2559823fd"
   },
   "source": [
    "#### users_interactions.csv"
   ]
  },
  {
   "cell_type": "markdown",
   "metadata": {
    "_cell_guid": "325b8db8-ef44-4b59-8138-2a59bd02d66e",
    "_uuid": "86694f1b80b04b8f9b961148fb265f355f202b26"
   },
   "source": [
    "В колонке eventType описаны действия, которые могли совершать пользователи над статьёй:  \n",
    "- VIEW\n",
    "- LIKE\n",
    "- COMMENT CREATED\n",
    "- FOLLOW\n",
    "- BOOKMARK"
   ]
  },
  {
   "cell_type": "code",
   "execution_count": 3,
   "metadata": {
    "_cell_guid": "445d39ec-f6b0-4155-9f92-0a2540918bd1",
    "_uuid": "9829842326037e364de457f832deceae074d6164"
   },
   "outputs": [
    {
     "data": {
      "text/html": [
       "<div>\n",
       "<style scoped>\n",
       "    .dataframe tbody tr th:only-of-type {\n",
       "        vertical-align: middle;\n",
       "    }\n",
       "\n",
       "    .dataframe tbody tr th {\n",
       "        vertical-align: top;\n",
       "    }\n",
       "\n",
       "    .dataframe thead th {\n",
       "        text-align: right;\n",
       "    }\n",
       "</style>\n",
       "<table border=\"1\" class=\"dataframe\">\n",
       "  <thead>\n",
       "    <tr style=\"text-align: right;\">\n",
       "      <th></th>\n",
       "      <th>timestamp</th>\n",
       "      <th>eventType</th>\n",
       "      <th>contentId</th>\n",
       "      <th>personId</th>\n",
       "      <th>sessionId</th>\n",
       "      <th>userAgent</th>\n",
       "      <th>userRegion</th>\n",
       "      <th>userCountry</th>\n",
       "    </tr>\n",
       "  </thead>\n",
       "  <tbody>\n",
       "    <tr>\n",
       "      <th>0</th>\n",
       "      <td>1465413032</td>\n",
       "      <td>VIEW</td>\n",
       "      <td>-3499919498720038879</td>\n",
       "      <td>-8845298781299428018</td>\n",
       "      <td>1264196770339959068</td>\n",
       "      <td>NaN</td>\n",
       "      <td>NaN</td>\n",
       "      <td>NaN</td>\n",
       "    </tr>\n",
       "    <tr>\n",
       "      <th>1</th>\n",
       "      <td>1465412560</td>\n",
       "      <td>VIEW</td>\n",
       "      <td>8890720798209849691</td>\n",
       "      <td>-1032019229384696495</td>\n",
       "      <td>3621737643587579081</td>\n",
       "      <td>Mozilla/5.0 (Macintosh; Intel Mac OS X 10_11_2...</td>\n",
       "      <td>NY</td>\n",
       "      <td>US</td>\n",
       "    </tr>\n",
       "    <tr>\n",
       "      <th>2</th>\n",
       "      <td>1465416190</td>\n",
       "      <td>VIEW</td>\n",
       "      <td>310515487419366995</td>\n",
       "      <td>-1130272294246983140</td>\n",
       "      <td>2631864456530402479</td>\n",
       "      <td>NaN</td>\n",
       "      <td>NaN</td>\n",
       "      <td>NaN</td>\n",
       "    </tr>\n",
       "    <tr>\n",
       "      <th>3</th>\n",
       "      <td>1465413895</td>\n",
       "      <td>FOLLOW</td>\n",
       "      <td>310515487419366995</td>\n",
       "      <td>344280948527967603</td>\n",
       "      <td>-3167637573980064150</td>\n",
       "      <td>NaN</td>\n",
       "      <td>NaN</td>\n",
       "      <td>NaN</td>\n",
       "    </tr>\n",
       "    <tr>\n",
       "      <th>4</th>\n",
       "      <td>1465412290</td>\n",
       "      <td>VIEW</td>\n",
       "      <td>-7820640624231356730</td>\n",
       "      <td>-445337111692715325</td>\n",
       "      <td>5611481178424124714</td>\n",
       "      <td>NaN</td>\n",
       "      <td>NaN</td>\n",
       "      <td>NaN</td>\n",
       "    </tr>\n",
       "    <tr>\n",
       "      <th>5</th>\n",
       "      <td>1465413742</td>\n",
       "      <td>VIEW</td>\n",
       "      <td>310515487419366995</td>\n",
       "      <td>-8763398617720485024</td>\n",
       "      <td>1395789369402380392</td>\n",
       "      <td>Mozilla/5.0 (Windows NT 10.0; WOW64) AppleWebK...</td>\n",
       "      <td>MG</td>\n",
       "      <td>BR</td>\n",
       "    </tr>\n",
       "    <tr>\n",
       "      <th>6</th>\n",
       "      <td>1465415950</td>\n",
       "      <td>VIEW</td>\n",
       "      <td>-8864073373672512525</td>\n",
       "      <td>3609194402293569455</td>\n",
       "      <td>1143207167886864524</td>\n",
       "      <td>NaN</td>\n",
       "      <td>NaN</td>\n",
       "      <td>NaN</td>\n",
       "    </tr>\n",
       "    <tr>\n",
       "      <th>7</th>\n",
       "      <td>1465415066</td>\n",
       "      <td>VIEW</td>\n",
       "      <td>-1492913151930215984</td>\n",
       "      <td>4254153380739593270</td>\n",
       "      <td>8743229464706506141</td>\n",
       "      <td>Mozilla/5.0 (X11; Linux x86_64) AppleWebKit/53...</td>\n",
       "      <td>SP</td>\n",
       "      <td>BR</td>\n",
       "    </tr>\n",
       "    <tr>\n",
       "      <th>8</th>\n",
       "      <td>1465413762</td>\n",
       "      <td>VIEW</td>\n",
       "      <td>310515487419366995</td>\n",
       "      <td>344280948527967603</td>\n",
       "      <td>-3167637573980064150</td>\n",
       "      <td>NaN</td>\n",
       "      <td>NaN</td>\n",
       "      <td>NaN</td>\n",
       "    </tr>\n",
       "    <tr>\n",
       "      <th>9</th>\n",
       "      <td>1465413771</td>\n",
       "      <td>VIEW</td>\n",
       "      <td>3064370296170038610</td>\n",
       "      <td>3609194402293569455</td>\n",
       "      <td>1143207167886864524</td>\n",
       "      <td>NaN</td>\n",
       "      <td>NaN</td>\n",
       "      <td>NaN</td>\n",
       "    </tr>\n",
       "  </tbody>\n",
       "</table>\n",
       "</div>"
      ],
      "text/plain": [
       "    timestamp eventType            contentId             personId  \\\n",
       "0  1465413032      VIEW -3499919498720038879 -8845298781299428018   \n",
       "1  1465412560      VIEW  8890720798209849691 -1032019229384696495   \n",
       "2  1465416190      VIEW   310515487419366995 -1130272294246983140   \n",
       "3  1465413895    FOLLOW   310515487419366995   344280948527967603   \n",
       "4  1465412290      VIEW -7820640624231356730  -445337111692715325   \n",
       "5  1465413742      VIEW   310515487419366995 -8763398617720485024   \n",
       "6  1465415950      VIEW -8864073373672512525  3609194402293569455   \n",
       "7  1465415066      VIEW -1492913151930215984  4254153380739593270   \n",
       "8  1465413762      VIEW   310515487419366995   344280948527967603   \n",
       "9  1465413771      VIEW  3064370296170038610  3609194402293569455   \n",
       "\n",
       "             sessionId                                          userAgent  \\\n",
       "0  1264196770339959068                                                NaN   \n",
       "1  3621737643587579081  Mozilla/5.0 (Macintosh; Intel Mac OS X 10_11_2...   \n",
       "2  2631864456530402479                                                NaN   \n",
       "3 -3167637573980064150                                                NaN   \n",
       "4  5611481178424124714                                                NaN   \n",
       "5  1395789369402380392  Mozilla/5.0 (Windows NT 10.0; WOW64) AppleWebK...   \n",
       "6  1143207167886864524                                                NaN   \n",
       "7  8743229464706506141  Mozilla/5.0 (X11; Linux x86_64) AppleWebKit/53...   \n",
       "8 -3167637573980064150                                                NaN   \n",
       "9  1143207167886864524                                                NaN   \n",
       "\n",
       "  userRegion userCountry  \n",
       "0        NaN         NaN  \n",
       "1         NY          US  \n",
       "2        NaN         NaN  \n",
       "3        NaN         NaN  \n",
       "4        NaN         NaN  \n",
       "5         MG          BR  \n",
       "6        NaN         NaN  \n",
       "7         SP          BR  \n",
       "8        NaN         NaN  \n",
       "9        NaN         NaN  "
      ]
     },
     "execution_count": 3,
     "metadata": {},
     "output_type": "execute_result"
    }
   ],
   "source": [
    "interactions_df = pd.read_csv('users_interactions.csv')\n",
    "interactions_df.head(10)"
   ]
  },
  {
   "cell_type": "code",
   "execution_count": 4,
   "metadata": {
    "collapsed": true
   },
   "outputs": [],
   "source": [
    "interactions_df.personId = interactions_df.personId.astype(str)\n",
    "interactions_df.contentId = interactions_df.contentId.astype(str)\n",
    "articles_df.contentId = articles_df.contentId.astype(str)"
   ]
  },
  {
   "cell_type": "markdown",
   "metadata": {
    "_cell_guid": "585f81a5-c6ff-4399-bbec-901c41fc7285",
    "_uuid": "6abb0af8474eabb50be7a9e6496bfa75ec1b2bd9"
   },
   "source": [
    "### Предобработка данных"
   ]
  },
  {
   "cell_type": "markdown",
   "metadata": {
    "_cell_guid": "bad1a6c9-0258-4b89-85f9-bec89a523662",
    "_uuid": "84c2e91561d5de6afa7c45c173022193664c770e"
   },
   "source": [
    "В логах встречаются различные действия пользователей. Однако мы хотим работать лишь с одной величиной, характеризующей всё взаимодействие пользователя со статьёй. Предлагается задать действиям следующие веса:"
   ]
  },
  {
   "cell_type": "code",
   "execution_count": 5,
   "metadata": {
    "_cell_guid": "3239c376-05b8-4a58-9afc-f6f57f67405f",
    "_uuid": "b06f8c0b082f0ad07bf773a5ad2fae33c1f7acc2",
    "collapsed": true
   },
   "outputs": [],
   "source": [
    "def get_rating(value):\n",
    "    event_type_strength = {\n",
    "       'VIEW': 1.0,\n",
    "       'LIKE': 2.0, \n",
    "       'BOOKMARK': 2.5, \n",
    "       'FOLLOW': 3.0,\n",
    "       'COMMENT CREATED': 4.0,  \n",
    "    }\n",
    "    return event_type_strength[value]"
   ]
  },
  {
   "cell_type": "markdown",
   "metadata": {},
   "source": [
    "Посчитайте числовую величину \"оценки\" пользователем статьи с указанными выше весами."
   ]
  },
  {
   "cell_type": "code",
   "execution_count": 6,
   "metadata": {
    "collapsed": true
   },
   "outputs": [],
   "source": [
    "interactions_df['eventStrength'] = interactions_df['eventType'].apply(lambda i: get_rating(i))"
   ]
  },
  {
   "cell_type": "code",
   "execution_count": 7,
   "metadata": {},
   "outputs": [
    {
     "data": {
      "text/html": [
       "<div>\n",
       "<style scoped>\n",
       "    .dataframe tbody tr th:only-of-type {\n",
       "        vertical-align: middle;\n",
       "    }\n",
       "\n",
       "    .dataframe tbody tr th {\n",
       "        vertical-align: top;\n",
       "    }\n",
       "\n",
       "    .dataframe thead th {\n",
       "        text-align: right;\n",
       "    }\n",
       "</style>\n",
       "<table border=\"1\" class=\"dataframe\">\n",
       "  <thead>\n",
       "    <tr style=\"text-align: right;\">\n",
       "      <th></th>\n",
       "      <th>timestamp</th>\n",
       "      <th>eventType</th>\n",
       "      <th>contentId</th>\n",
       "      <th>personId</th>\n",
       "      <th>sessionId</th>\n",
       "      <th>userAgent</th>\n",
       "      <th>userRegion</th>\n",
       "      <th>userCountry</th>\n",
       "      <th>eventStrength</th>\n",
       "    </tr>\n",
       "  </thead>\n",
       "  <tbody>\n",
       "    <tr>\n",
       "      <th>0</th>\n",
       "      <td>1465413032</td>\n",
       "      <td>VIEW</td>\n",
       "      <td>-3499919498720038879</td>\n",
       "      <td>-8845298781299428018</td>\n",
       "      <td>1264196770339959068</td>\n",
       "      <td>NaN</td>\n",
       "      <td>NaN</td>\n",
       "      <td>NaN</td>\n",
       "      <td>1.0</td>\n",
       "    </tr>\n",
       "    <tr>\n",
       "      <th>1</th>\n",
       "      <td>1465412560</td>\n",
       "      <td>VIEW</td>\n",
       "      <td>8890720798209849691</td>\n",
       "      <td>-1032019229384696495</td>\n",
       "      <td>3621737643587579081</td>\n",
       "      <td>Mozilla/5.0 (Macintosh; Intel Mac OS X 10_11_2...</td>\n",
       "      <td>NY</td>\n",
       "      <td>US</td>\n",
       "      <td>1.0</td>\n",
       "    </tr>\n",
       "    <tr>\n",
       "      <th>2</th>\n",
       "      <td>1465416190</td>\n",
       "      <td>VIEW</td>\n",
       "      <td>310515487419366995</td>\n",
       "      <td>-1130272294246983140</td>\n",
       "      <td>2631864456530402479</td>\n",
       "      <td>NaN</td>\n",
       "      <td>NaN</td>\n",
       "      <td>NaN</td>\n",
       "      <td>1.0</td>\n",
       "    </tr>\n",
       "    <tr>\n",
       "      <th>3</th>\n",
       "      <td>1465413895</td>\n",
       "      <td>FOLLOW</td>\n",
       "      <td>310515487419366995</td>\n",
       "      <td>344280948527967603</td>\n",
       "      <td>-3167637573980064150</td>\n",
       "      <td>NaN</td>\n",
       "      <td>NaN</td>\n",
       "      <td>NaN</td>\n",
       "      <td>3.0</td>\n",
       "    </tr>\n",
       "    <tr>\n",
       "      <th>4</th>\n",
       "      <td>1465412290</td>\n",
       "      <td>VIEW</td>\n",
       "      <td>-7820640624231356730</td>\n",
       "      <td>-445337111692715325</td>\n",
       "      <td>5611481178424124714</td>\n",
       "      <td>NaN</td>\n",
       "      <td>NaN</td>\n",
       "      <td>NaN</td>\n",
       "      <td>1.0</td>\n",
       "    </tr>\n",
       "  </tbody>\n",
       "</table>\n",
       "</div>"
      ],
      "text/plain": [
       "    timestamp eventType             contentId              personId  \\\n",
       "0  1465413032      VIEW  -3499919498720038879  -8845298781299428018   \n",
       "1  1465412560      VIEW   8890720798209849691  -1032019229384696495   \n",
       "2  1465416190      VIEW    310515487419366995  -1130272294246983140   \n",
       "3  1465413895    FOLLOW    310515487419366995    344280948527967603   \n",
       "4  1465412290      VIEW  -7820640624231356730   -445337111692715325   \n",
       "\n",
       "             sessionId                                          userAgent  \\\n",
       "0  1264196770339959068                                                NaN   \n",
       "1  3621737643587579081  Mozilla/5.0 (Macintosh; Intel Mac OS X 10_11_2...   \n",
       "2  2631864456530402479                                                NaN   \n",
       "3 -3167637573980064150                                                NaN   \n",
       "4  5611481178424124714                                                NaN   \n",
       "\n",
       "  userRegion userCountry  eventStrength  \n",
       "0        NaN         NaN            1.0  \n",
       "1         NY          US            1.0  \n",
       "2        NaN         NaN            1.0  \n",
       "3        NaN         NaN            3.0  \n",
       "4        NaN         NaN            1.0  "
      ]
     },
     "execution_count": 7,
     "metadata": {},
     "output_type": "execute_result"
    }
   ],
   "source": [
    "interactions_df.head()"
   ]
  },
  {
   "cell_type": "markdown",
   "metadata": {
    "_cell_guid": "5c92aa80-2926-44db-b358-c4c32de806c4",
    "_uuid": "91100a395fdf4fb20df02c8d248072457c980b5d"
   },
   "source": [
    "Ремендательные системы подвержены проблеме холодного старта. В рамках данного задания предлагается работать только с теми пользователями, которые взаимодействовали хотя бы с 5 материалом.\n",
    "\n",
    "Оставьте только таких пользователей. Их должно остаться 1140."
   ]
  },
  {
   "cell_type": "code",
   "execution_count": 8,
   "metadata": {
    "_cell_guid": "bad1d8ea-9b67-4a47-80c5-87a5e55c4f38",
    "_uuid": "1698c88340183baa7f3ebb8c3b60eaa8e6ca708f"
   },
   "outputs": [
    {
     "name": "stdout",
     "output_type": "stream",
     "text": [
      "# users: 1895\n",
      "# users with at least 5 interactions: 1140\n"
     ]
    }
   ],
   "source": [
    "users_interactions_count_df = (\n",
    "    interactions_df\n",
    "    .groupby(['personId', 'contentId'])\n",
    "    .first()\n",
    "    .reset_index()\n",
    "    .groupby('personId').size())\n",
    "print('# users:', len(users_interactions_count_df))\n",
    "\n",
    "users_with_enough_interactions_df = \\\n",
    "    users_interactions_count_df[users_interactions_count_df >= 5].reset_index()[['personId']]\n",
    "print('# users with at least 5 interactions:',len(users_with_enough_interactions_df))"
   ]
  },
  {
   "cell_type": "code",
   "execution_count": 9,
   "metadata": {},
   "outputs": [
    {
     "data": {
      "text/html": [
       "<div>\n",
       "<style scoped>\n",
       "    .dataframe tbody tr th:only-of-type {\n",
       "        vertical-align: middle;\n",
       "    }\n",
       "\n",
       "    .dataframe tbody tr th {\n",
       "        vertical-align: top;\n",
       "    }\n",
       "\n",
       "    .dataframe thead th {\n",
       "        text-align: right;\n",
       "    }\n",
       "</style>\n",
       "<table border=\"1\" class=\"dataframe\">\n",
       "  <thead>\n",
       "    <tr style=\"text-align: right;\">\n",
       "      <th></th>\n",
       "      <th>personId</th>\n",
       "    </tr>\n",
       "  </thead>\n",
       "  <tbody>\n",
       "    <tr>\n",
       "      <th>0</th>\n",
       "      <td>-1007001694607905623</td>\n",
       "    </tr>\n",
       "    <tr>\n",
       "      <th>1</th>\n",
       "      <td>-1032019229384696495</td>\n",
       "    </tr>\n",
       "    <tr>\n",
       "      <th>2</th>\n",
       "      <td>-108842214936804958</td>\n",
       "    </tr>\n",
       "    <tr>\n",
       "      <th>3</th>\n",
       "      <td>-1119397949556155765</td>\n",
       "    </tr>\n",
       "    <tr>\n",
       "      <th>4</th>\n",
       "      <td>-1130272294246983140</td>\n",
       "    </tr>\n",
       "  </tbody>\n",
       "</table>\n",
       "</div>"
      ],
      "text/plain": [
       "               personId\n",
       "0  -1007001694607905623\n",
       "1  -1032019229384696495\n",
       "2   -108842214936804958\n",
       "3  -1119397949556155765\n",
       "4  -1130272294246983140"
      ]
     },
     "execution_count": 9,
     "metadata": {},
     "output_type": "execute_result"
    }
   ],
   "source": [
    "users_with_enough_interactions_df.head()"
   ]
  },
  {
   "cell_type": "markdown",
   "metadata": {},
   "source": [
    "Оставьте только те взаимодействия, которые касаются только отфильтрованных пользователей."
   ]
  },
  {
   "cell_type": "code",
   "execution_count": 10,
   "metadata": {
    "_cell_guid": "4e79a418-a9d6-4e01-9f38-9b290a645626",
    "_uuid": "0f428a4c6e76f95de7ea328dc33c6539389ae5f0",
    "collapsed": true
   },
   "outputs": [],
   "source": [
    "interactions_from_selected_users_df = interactions_df.loc[interactions_df['personId'].isin(users_with_enough_interactions_df['personId'])]"
   ]
  },
  {
   "cell_type": "code",
   "execution_count": 11,
   "metadata": {},
   "outputs": [
    {
     "name": "stdout",
     "output_type": "stream",
     "text": [
      "# interactions before: (72312, 9)\n",
      "# interactions after: (69868, 9)\n"
     ]
    }
   ],
   "source": [
    "print('# interactions before:', interactions_df.shape)\n",
    "print('# interactions after:', interactions_from_selected_users_df.shape)"
   ]
  },
  {
   "cell_type": "markdown",
   "metadata": {},
   "source": [
    "В данной постановке каждый пользователей мог взаимодействовать с каждой статьёй более 1 раза (как минимум совершая различные действия). Предлагается \"схлопнуть\" все действия в одно взаимодействие с весом, равным сумме весов. \n",
    "\n",
    "Однако полученное число будет в том числе тем больше, чем больше действий произвёл человек. Чтобы уменьшить разброс предлагается взять логарифм от полученного числа (можно придумыват другие веса действиям и по-другому обрабатывать значения).\n",
    "\n",
    "Также сохраним последнее значение времени взаимодействия для разделениея выборки на обучение и контроль."
   ]
  },
  {
   "cell_type": "code",
   "execution_count": 12,
   "metadata": {
    "_cell_guid": "54c82dd1-1102-4f11-ac6a-7993f8e5e842",
    "_uuid": "dcd64b20b47cf2c365341303ff410626a801f7a6"
   },
   "outputs": [
    {
     "data": {
      "text/html": [
       "<div>\n",
       "<style scoped>\n",
       "    .dataframe tbody tr th:only-of-type {\n",
       "        vertical-align: middle;\n",
       "    }\n",
       "\n",
       "    .dataframe tbody tr th {\n",
       "        vertical-align: top;\n",
       "    }\n",
       "\n",
       "    .dataframe thead th {\n",
       "        text-align: right;\n",
       "    }\n",
       "</style>\n",
       "<table border=\"1\" class=\"dataframe\">\n",
       "  <thead>\n",
       "    <tr style=\"text-align: right;\">\n",
       "      <th></th>\n",
       "      <th>personId</th>\n",
       "      <th>contentId</th>\n",
       "      <th>eventStrength</th>\n",
       "      <th>last_timestamp</th>\n",
       "    </tr>\n",
       "  </thead>\n",
       "  <tbody>\n",
       "    <tr>\n",
       "      <th>0</th>\n",
       "      <td>-1007001694607905623</td>\n",
       "      <td>-5065077552540450930</td>\n",
       "      <td>1.000000</td>\n",
       "      <td>1470395911</td>\n",
       "    </tr>\n",
       "    <tr>\n",
       "      <th>1</th>\n",
       "      <td>-1007001694607905623</td>\n",
       "      <td>-6623581327558800021</td>\n",
       "      <td>1.000000</td>\n",
       "      <td>1487240080</td>\n",
       "    </tr>\n",
       "    <tr>\n",
       "      <th>2</th>\n",
       "      <td>-1007001694607905623</td>\n",
       "      <td>-793729620925729327</td>\n",
       "      <td>1.000000</td>\n",
       "      <td>1472834892</td>\n",
       "    </tr>\n",
       "    <tr>\n",
       "      <th>3</th>\n",
       "      <td>-1007001694607905623</td>\n",
       "      <td>1469580151036142903</td>\n",
       "      <td>1.000000</td>\n",
       "      <td>1487240062</td>\n",
       "    </tr>\n",
       "    <tr>\n",
       "      <th>4</th>\n",
       "      <td>-1007001694607905623</td>\n",
       "      <td>7270966256391553686</td>\n",
       "      <td>1.584963</td>\n",
       "      <td>1485994324</td>\n",
       "    </tr>\n",
       "    <tr>\n",
       "      <th>5</th>\n",
       "      <td>-1007001694607905623</td>\n",
       "      <td>8729086959762650511</td>\n",
       "      <td>1.000000</td>\n",
       "      <td>1487240086</td>\n",
       "    </tr>\n",
       "    <tr>\n",
       "      <th>6</th>\n",
       "      <td>-1032019229384696495</td>\n",
       "      <td>-1006791494035379303</td>\n",
       "      <td>1.000000</td>\n",
       "      <td>1469129122</td>\n",
       "    </tr>\n",
       "    <tr>\n",
       "      <th>7</th>\n",
       "      <td>-1032019229384696495</td>\n",
       "      <td>-1039912738963181810</td>\n",
       "      <td>1.000000</td>\n",
       "      <td>1459376415</td>\n",
       "    </tr>\n",
       "    <tr>\n",
       "      <th>8</th>\n",
       "      <td>-1032019229384696495</td>\n",
       "      <td>-1081723567492738167</td>\n",
       "      <td>2.000000</td>\n",
       "      <td>1464054093</td>\n",
       "    </tr>\n",
       "    <tr>\n",
       "      <th>9</th>\n",
       "      <td>-1032019229384696495</td>\n",
       "      <td>-1111518890369033396</td>\n",
       "      <td>1.000000</td>\n",
       "      <td>1470109122</td>\n",
       "    </tr>\n",
       "  </tbody>\n",
       "</table>\n",
       "</div>"
      ],
      "text/plain": [
       "               personId             contentId  eventStrength  last_timestamp\n",
       "0  -1007001694607905623  -5065077552540450930       1.000000      1470395911\n",
       "1  -1007001694607905623  -6623581327558800021       1.000000      1487240080\n",
       "2  -1007001694607905623   -793729620925729327       1.000000      1472834892\n",
       "3  -1007001694607905623   1469580151036142903       1.000000      1487240062\n",
       "4  -1007001694607905623   7270966256391553686       1.584963      1485994324\n",
       "5  -1007001694607905623   8729086959762650511       1.000000      1487240086\n",
       "6  -1032019229384696495  -1006791494035379303       1.000000      1469129122\n",
       "7  -1032019229384696495  -1039912738963181810       1.000000      1459376415\n",
       "8  -1032019229384696495  -1081723567492738167       2.000000      1464054093\n",
       "9  -1032019229384696495  -1111518890369033396       1.000000      1470109122"
      ]
     },
     "execution_count": 12,
     "metadata": {},
     "output_type": "execute_result"
    }
   ],
   "source": [
    "def smooth_user_preference(x):\n",
    "    return math.log(1+x, 2)\n",
    "    \n",
    "interactions_full_df = (\n",
    "    interactions_from_selected_users_df\n",
    "    .groupby(['personId', 'contentId']).eventStrength.sum()\n",
    "    .apply(smooth_user_preference)\n",
    "    .reset_index().set_index(['personId', 'contentId'])\n",
    ")\n",
    "interactions_full_df['last_timestamp'] = (\n",
    "    interactions_from_selected_users_df\n",
    "    .groupby(['personId', 'contentId'])['timestamp'].last()\n",
    ")\n",
    "        \n",
    "interactions_full_df = interactions_full_df.reset_index()\n",
    "interactions_full_df.head(10)"
   ]
  },
  {
   "cell_type": "markdown",
   "metadata": {},
   "source": [
    "Разобьём выборку на обучение и контроль по времени."
   ]
  },
  {
   "cell_type": "code",
   "execution_count": 13,
   "metadata": {
    "_cell_guid": "e594a5ef-255a-4d30-9ab2-7cebe12fe798",
    "_uuid": "babda61be5306281b34422dbded67675a0aab17d"
   },
   "outputs": [
    {
     "name": "stdout",
     "output_type": "stream",
     "text": [
      "# interactions on Train set: 29329\n",
      "# interactions on Test set: 9777\n"
     ]
    }
   ],
   "source": [
    "split_ts = 1475519530\n",
    "interactions_train_df = interactions_full_df.loc[interactions_full_df.last_timestamp < split_ts].copy()\n",
    "interactions_test_df = interactions_full_df.loc[interactions_full_df.last_timestamp >= split_ts].copy()\n",
    "\n",
    "print('# interactions on Train set: %d' % len(interactions_train_df))\n",
    "print('# interactions on Test set: %d' % len(interactions_test_df))"
   ]
  },
  {
   "cell_type": "markdown",
   "metadata": {},
   "source": [
    "Для удобства подсчёта качества запишем данные в формате, где строка соответствует пользователю, а столбцы будут истинными метками и предсказанями в виде списков."
   ]
  },
  {
   "cell_type": "code",
   "execution_count": 14,
   "metadata": {},
   "outputs": [
    {
     "data": {
      "text/html": [
       "<div>\n",
       "<style scoped>\n",
       "    .dataframe tbody tr th:only-of-type {\n",
       "        vertical-align: middle;\n",
       "    }\n",
       "\n",
       "    .dataframe tbody tr th {\n",
       "        vertical-align: top;\n",
       "    }\n",
       "\n",
       "    .dataframe thead th {\n",
       "        text-align: right;\n",
       "    }\n",
       "</style>\n",
       "<table border=\"1\" class=\"dataframe\">\n",
       "  <thead>\n",
       "    <tr style=\"text-align: right;\">\n",
       "      <th></th>\n",
       "      <th>true_train</th>\n",
       "      <th>true_test</th>\n",
       "    </tr>\n",
       "    <tr>\n",
       "      <th>personId</th>\n",
       "      <th></th>\n",
       "      <th></th>\n",
       "    </tr>\n",
       "  </thead>\n",
       "  <tbody>\n",
       "    <tr>\n",
       "      <th>-1007001694607905623</th>\n",
       "      <td>[-5065077552540450930, -793729620925729327]</td>\n",
       "      <td>[-6623581327558800021, 1469580151036142903, 72...</td>\n",
       "    </tr>\n",
       "    <tr>\n",
       "      <th>-1032019229384696495</th>\n",
       "      <td>[-1006791494035379303, -1039912738963181810, -...</td>\n",
       "      <td>[-1415040208471067980, -2555801390963402198, -...</td>\n",
       "    </tr>\n",
       "    <tr>\n",
       "      <th>-108842214936804958</th>\n",
       "      <td>[-1196068832249300490, -133139342397538859, -1...</td>\n",
       "      <td>[-2780168264183400543, -3060116862184714437, -...</td>\n",
       "    </tr>\n",
       "    <tr>\n",
       "      <th>-1130272294246983140</th>\n",
       "      <td>[-1150591229250318592, -1196068832249300490, -...</td>\n",
       "      <td>[-1606980109000976010, -1663441888197894674, -...</td>\n",
       "    </tr>\n",
       "    <tr>\n",
       "      <th>-1160159014793528221</th>\n",
       "      <td>[-133139342397538859, -387651900461462767, 377...</td>\n",
       "      <td>[-3462051751080362224]</td>\n",
       "    </tr>\n",
       "    <tr>\n",
       "      <th>-123314413156450014</th>\n",
       "      <td>[-1596335233529956315, -6133746337603876146, -...</td>\n",
       "      <td>[-14569272361926584, -3058031327323357308, -59...</td>\n",
       "    </tr>\n",
       "    <tr>\n",
       "      <th>-1251984896177895077</th>\n",
       "      <td>[-1596335233529956315, -2358756719610361882, -...</td>\n",
       "      <td>[-1452340812018195881, -14569272361926584, -41...</td>\n",
       "    </tr>\n",
       "    <tr>\n",
       "      <th>-1257176162426022931</th>\n",
       "      <td>[-1022885988494278200, -2479936301516183562, -...</td>\n",
       "      <td>[-1129449063360470561, -1181242543195516037, -...</td>\n",
       "    </tr>\n",
       "    <tr>\n",
       "      <th>-1272364595235252747</th>\n",
       "      <td>[-1297580205670251233, -133139342397538859, -6...</td>\n",
       "      <td>[-3302834510061927448, -6728844082024523434]</td>\n",
       "    </tr>\n",
       "    <tr>\n",
       "      <th>-1292787032977259947</th>\n",
       "      <td>[-133139342397538859, -3700095596785790870, -4...</td>\n",
       "      <td>[-1425776303341065806, -4029704725707465084, -...</td>\n",
       "    </tr>\n",
       "  </tbody>\n",
       "</table>\n",
       "</div>"
      ],
      "text/plain": [
       "                                                             true_train  \\\n",
       "personId                                                                  \n",
       "-1007001694607905623        [-5065077552540450930, -793729620925729327]   \n",
       "-1032019229384696495  [-1006791494035379303, -1039912738963181810, -...   \n",
       "-108842214936804958   [-1196068832249300490, -133139342397538859, -1...   \n",
       "-1130272294246983140  [-1150591229250318592, -1196068832249300490, -...   \n",
       "-1160159014793528221  [-133139342397538859, -387651900461462767, 377...   \n",
       "-123314413156450014   [-1596335233529956315, -6133746337603876146, -...   \n",
       "-1251984896177895077  [-1596335233529956315, -2358756719610361882, -...   \n",
       "-1257176162426022931  [-1022885988494278200, -2479936301516183562, -...   \n",
       "-1272364595235252747  [-1297580205670251233, -133139342397538859, -6...   \n",
       "-1292787032977259947  [-133139342397538859, -3700095596785790870, -4...   \n",
       "\n",
       "                                                              true_test  \n",
       "personId                                                                 \n",
       "-1007001694607905623  [-6623581327558800021, 1469580151036142903, 72...  \n",
       "-1032019229384696495  [-1415040208471067980, -2555801390963402198, -...  \n",
       "-108842214936804958   [-2780168264183400543, -3060116862184714437, -...  \n",
       "-1130272294246983140  [-1606980109000976010, -1663441888197894674, -...  \n",
       "-1160159014793528221                             [-3462051751080362224]  \n",
       "-123314413156450014   [-14569272361926584, -3058031327323357308, -59...  \n",
       "-1251984896177895077  [-1452340812018195881, -14569272361926584, -41...  \n",
       "-1257176162426022931  [-1129449063360470561, -1181242543195516037, -...  \n",
       "-1272364595235252747       [-3302834510061927448, -6728844082024523434]  \n",
       "-1292787032977259947  [-1425776303341065806, -4029704725707465084, -...  "
      ]
     },
     "execution_count": 14,
     "metadata": {},
     "output_type": "execute_result"
    }
   ],
   "source": [
    "interactions = (\n",
    "    interactions_train_df\n",
    "    .groupby('personId')['contentId'].agg(lambda x: list(x))\n",
    "    .reset_index()\n",
    "    .rename(columns={'contentId': 'true_train'})\n",
    "    .set_index('personId')\n",
    ")\n",
    "\n",
    "interactions['true_test'] = (\n",
    "    interactions_test_df\n",
    "    .groupby('personId')['contentId'].agg(lambda x: list(x))\n",
    ")\n",
    "\n",
    "# заполнение пропусков пустыми списками\n",
    "interactions.loc[pd.isnull(interactions.true_test), 'true_test'] = [\n",
    "    list() for x in range(len(interactions.loc[pd.isnull(interactions.true_test), 'true_test']))]\n",
    "\n",
    "interactions.head(10)"
   ]
  },
  {
   "cell_type": "markdown",
   "metadata": {
    "_cell_guid": "2fac2a15-cc5c-4f31-8818-8065b0d2dc16",
    "_uuid": "59dd2131949c4d7e801114bffc11fb439c930b4c"
   },
   "source": [
    "## Часть 1: Baseline (модель по популярности)"
   ]
  },
  {
   "cell_type": "markdown",
   "metadata": {},
   "source": [
    "Самой простой моделью рекомендаций (при этом достаточно сильной!) является модель, которая рекомендует наиболее популярные предметы. \n",
    "\n",
    "Предлагается реализовать её. Давайте считать, что рекомендуем мы по 10 материалов (такое ограничение на размер блока на сайте).\n",
    "\n",
    "Посчитайте популярность каждой статьи, как сумму всех \"оценок\" взаимодействий с ней. Отсортируйте материалы по их популярности."
   ]
  },
  {
   "cell_type": "code",
   "execution_count": 15,
   "metadata": {
    "collapsed": true
   },
   "outputs": [],
   "source": [
    "popular_content = (\n",
    "    interactions_full_df\n",
    "    .groupby('contentId')\n",
    "    .eventStrength.agg('sum')\n",
    "    .reset_index()\n",
    "    .rename(columns={'eventStrength': 'totlaEventStrength'})\n",
    "    .sort_values('totlaEventStrength', ascending=False)\n",
    "    .reset_index()\n",
    "    )"
   ]
  },
  {
   "cell_type": "code",
   "execution_count": 16,
   "metadata": {},
   "outputs": [
    {
     "data": {
      "text/html": [
       "<div>\n",
       "<style scoped>\n",
       "    .dataframe tbody tr th:only-of-type {\n",
       "        vertical-align: middle;\n",
       "    }\n",
       "\n",
       "    .dataframe tbody tr th {\n",
       "        vertical-align: top;\n",
       "    }\n",
       "\n",
       "    .dataframe thead th {\n",
       "        text-align: right;\n",
       "    }\n",
       "</style>\n",
       "<table border=\"1\" class=\"dataframe\">\n",
       "  <thead>\n",
       "    <tr style=\"text-align: right;\">\n",
       "      <th></th>\n",
       "      <th>index</th>\n",
       "      <th>contentId</th>\n",
       "      <th>totlaEventStrength</th>\n",
       "    </tr>\n",
       "  </thead>\n",
       "  <tbody>\n",
       "    <tr>\n",
       "      <th>0</th>\n",
       "      <td>518</td>\n",
       "      <td>-4029704725707465084</td>\n",
       "      <td>307.733799</td>\n",
       "    </tr>\n",
       "    <tr>\n",
       "      <th>1</th>\n",
       "      <td>1017</td>\n",
       "      <td>-6783772548752091658</td>\n",
       "      <td>233.762157</td>\n",
       "    </tr>\n",
       "    <tr>\n",
       "      <th>2</th>\n",
       "      <td>57</td>\n",
       "      <td>-133139342397538859</td>\n",
       "      <td>228.024567</td>\n",
       "    </tr>\n",
       "    <tr>\n",
       "      <th>3</th>\n",
       "      <td>1265</td>\n",
       "      <td>-8208801367848627943</td>\n",
       "      <td>197.107608</td>\n",
       "    </tr>\n",
       "    <tr>\n",
       "      <th>4</th>\n",
       "      <td>1029</td>\n",
       "      <td>-6843047699859121724</td>\n",
       "      <td>193.825208</td>\n",
       "    </tr>\n",
       "  </tbody>\n",
       "</table>\n",
       "</div>"
      ],
      "text/plain": [
       "   index             contentId  totlaEventStrength\n",
       "0    518  -4029704725707465084          307.733799\n",
       "1   1017  -6783772548752091658          233.762157\n",
       "2     57   -133139342397538859          228.024567\n",
       "3   1265  -8208801367848627943          197.107608\n",
       "4   1029  -6843047699859121724          193.825208"
      ]
     },
     "execution_count": 16,
     "metadata": {},
     "output_type": "execute_result"
    }
   ],
   "source": [
    "popular_content.head()"
   ]
  },
  {
   "cell_type": "markdown",
   "metadata": {},
   "source": [
    "Теперь необходимо сделать предсказания для каждого пользователя. Не забывайте, что надо рекомендовать то, что пользователь ещё не читал (для этого нужно проверить, что материал не встречался в true_train)."
   ]
  },
  {
   "cell_type": "code",
   "execution_count": 17,
   "metadata": {},
   "outputs": [
    {
     "data": {
      "text/html": [
       "<div>\n",
       "<style scoped>\n",
       "    .dataframe tbody tr th:only-of-type {\n",
       "        vertical-align: middle;\n",
       "    }\n",
       "\n",
       "    .dataframe tbody tr th {\n",
       "        vertical-align: top;\n",
       "    }\n",
       "\n",
       "    .dataframe thead th {\n",
       "        text-align: right;\n",
       "    }\n",
       "</style>\n",
       "<table border=\"1\" class=\"dataframe\">\n",
       "  <thead>\n",
       "    <tr style=\"text-align: right;\">\n",
       "      <th></th>\n",
       "      <th>true_train</th>\n",
       "      <th>true_test</th>\n",
       "    </tr>\n",
       "    <tr>\n",
       "      <th>personId</th>\n",
       "      <th></th>\n",
       "      <th></th>\n",
       "    </tr>\n",
       "  </thead>\n",
       "  <tbody>\n",
       "    <tr>\n",
       "      <th>-1007001694607905623</th>\n",
       "      <td>[-5065077552540450930, -793729620925729327]</td>\n",
       "      <td>[-6623581327558800021, 1469580151036142903, 72...</td>\n",
       "    </tr>\n",
       "    <tr>\n",
       "      <th>-1032019229384696495</th>\n",
       "      <td>[-1006791494035379303, -1039912738963181810, -...</td>\n",
       "      <td>[-1415040208471067980, -2555801390963402198, -...</td>\n",
       "    </tr>\n",
       "    <tr>\n",
       "      <th>-108842214936804958</th>\n",
       "      <td>[-1196068832249300490, -133139342397538859, -1...</td>\n",
       "      <td>[-2780168264183400543, -3060116862184714437, -...</td>\n",
       "    </tr>\n",
       "    <tr>\n",
       "      <th>-1130272294246983140</th>\n",
       "      <td>[-1150591229250318592, -1196068832249300490, -...</td>\n",
       "      <td>[-1606980109000976010, -1663441888197894674, -...</td>\n",
       "    </tr>\n",
       "    <tr>\n",
       "      <th>-1160159014793528221</th>\n",
       "      <td>[-133139342397538859, -387651900461462767, 377...</td>\n",
       "      <td>[-3462051751080362224]</td>\n",
       "    </tr>\n",
       "  </tbody>\n",
       "</table>\n",
       "</div>"
      ],
      "text/plain": [
       "                                                             true_train  \\\n",
       "personId                                                                  \n",
       "-1007001694607905623        [-5065077552540450930, -793729620925729327]   \n",
       "-1032019229384696495  [-1006791494035379303, -1039912738963181810, -...   \n",
       "-108842214936804958   [-1196068832249300490, -133139342397538859, -1...   \n",
       "-1130272294246983140  [-1150591229250318592, -1196068832249300490, -...   \n",
       "-1160159014793528221  [-133139342397538859, -387651900461462767, 377...   \n",
       "\n",
       "                                                              true_test  \n",
       "personId                                                                 \n",
       "-1007001694607905623  [-6623581327558800021, 1469580151036142903, 72...  \n",
       "-1032019229384696495  [-1415040208471067980, -2555801390963402198, -...  \n",
       "-108842214936804958   [-2780168264183400543, -3060116862184714437, -...  \n",
       "-1130272294246983140  [-1606980109000976010, -1663441888197894674, -...  \n",
       "-1160159014793528221                             [-3462051751080362224]  "
      ]
     },
     "execution_count": 17,
     "metadata": {},
     "output_type": "execute_result"
    }
   ],
   "source": [
    "interactions.head()"
   ]
  },
  {
   "cell_type": "code",
   "execution_count": 18,
   "metadata": {
    "collapsed": true
   },
   "outputs": [],
   "source": [
    "def get_top10(articles_lst):\n",
    "    top_k = 10\n",
    "    result = []\n",
    "    for i in popular_content.iterrows():\n",
    "        article = i[1][1]\n",
    "        if article not in articles_lst:\n",
    "            result.append(article)\n",
    "        if len(result) == 10:\n",
    "            return result"
   ]
  },
  {
   "cell_type": "code",
   "execution_count": 19,
   "metadata": {
    "collapsed": true
   },
   "outputs": [],
   "source": [
    "interactions['prediction_popular'] = interactions['true_train'].apply(lambda i: get_top10(i))"
   ]
  },
  {
   "cell_type": "code",
   "execution_count": 20,
   "metadata": {},
   "outputs": [
    {
     "data": {
      "text/html": [
       "<div>\n",
       "<style scoped>\n",
       "    .dataframe tbody tr th:only-of-type {\n",
       "        vertical-align: middle;\n",
       "    }\n",
       "\n",
       "    .dataframe tbody tr th {\n",
       "        vertical-align: top;\n",
       "    }\n",
       "\n",
       "    .dataframe thead th {\n",
       "        text-align: right;\n",
       "    }\n",
       "</style>\n",
       "<table border=\"1\" class=\"dataframe\">\n",
       "  <thead>\n",
       "    <tr style=\"text-align: right;\">\n",
       "      <th></th>\n",
       "      <th>true_train</th>\n",
       "      <th>true_test</th>\n",
       "      <th>prediction_popular</th>\n",
       "    </tr>\n",
       "    <tr>\n",
       "      <th>personId</th>\n",
       "      <th></th>\n",
       "      <th></th>\n",
       "      <th></th>\n",
       "    </tr>\n",
       "  </thead>\n",
       "  <tbody>\n",
       "    <tr>\n",
       "      <th>-1007001694607905623</th>\n",
       "      <td>[-5065077552540450930, -793729620925729327]</td>\n",
       "      <td>[-6623581327558800021, 1469580151036142903, 72...</td>\n",
       "      <td>[-4029704725707465084, -6783772548752091658, -...</td>\n",
       "    </tr>\n",
       "    <tr>\n",
       "      <th>-1032019229384696495</th>\n",
       "      <td>[-1006791494035379303, -1039912738963181810, -...</td>\n",
       "      <td>[-1415040208471067980, -2555801390963402198, -...</td>\n",
       "      <td>[-4029704725707465084, -6783772548752091658, -...</td>\n",
       "    </tr>\n",
       "    <tr>\n",
       "      <th>-108842214936804958</th>\n",
       "      <td>[-1196068832249300490, -133139342397538859, -1...</td>\n",
       "      <td>[-2780168264183400543, -3060116862184714437, -...</td>\n",
       "      <td>[-4029704725707465084, -6783772548752091658, -...</td>\n",
       "    </tr>\n",
       "    <tr>\n",
       "      <th>-1130272294246983140</th>\n",
       "      <td>[-1150591229250318592, -1196068832249300490, -...</td>\n",
       "      <td>[-1606980109000976010, -1663441888197894674, -...</td>\n",
       "      <td>[-4029704725707465084, -133139342397538859, -8...</td>\n",
       "    </tr>\n",
       "    <tr>\n",
       "      <th>-1160159014793528221</th>\n",
       "      <td>[-133139342397538859, -387651900461462767, 377...</td>\n",
       "      <td>[-3462051751080362224]</td>\n",
       "      <td>[-4029704725707465084, -6783772548752091658, -...</td>\n",
       "    </tr>\n",
       "  </tbody>\n",
       "</table>\n",
       "</div>"
      ],
      "text/plain": [
       "                                                             true_train  \\\n",
       "personId                                                                  \n",
       "-1007001694607905623        [-5065077552540450930, -793729620925729327]   \n",
       "-1032019229384696495  [-1006791494035379303, -1039912738963181810, -...   \n",
       "-108842214936804958   [-1196068832249300490, -133139342397538859, -1...   \n",
       "-1130272294246983140  [-1150591229250318592, -1196068832249300490, -...   \n",
       "-1160159014793528221  [-133139342397538859, -387651900461462767, 377...   \n",
       "\n",
       "                                                              true_test  \\\n",
       "personId                                                                  \n",
       "-1007001694607905623  [-6623581327558800021, 1469580151036142903, 72...   \n",
       "-1032019229384696495  [-1415040208471067980, -2555801390963402198, -...   \n",
       "-108842214936804958   [-2780168264183400543, -3060116862184714437, -...   \n",
       "-1130272294246983140  [-1606980109000976010, -1663441888197894674, -...   \n",
       "-1160159014793528221                             [-3462051751080362224]   \n",
       "\n",
       "                                                     prediction_popular  \n",
       "personId                                                                 \n",
       "-1007001694607905623  [-4029704725707465084, -6783772548752091658, -...  \n",
       "-1032019229384696495  [-4029704725707465084, -6783772548752091658, -...  \n",
       "-108842214936804958   [-4029704725707465084, -6783772548752091658, -...  \n",
       "-1130272294246983140  [-4029704725707465084, -133139342397538859, -8...  \n",
       "-1160159014793528221  [-4029704725707465084, -6783772548752091658, -...  "
      ]
     },
     "execution_count": 20,
     "metadata": {},
     "output_type": "execute_result"
    }
   ],
   "source": [
    "interactions.head()"
   ]
  },
  {
   "cell_type": "markdown",
   "metadata": {},
   "source": [
    "Настало время оценить качество. Посчитайте precision@10 для каждого пользователя (доля угаданных рекомендаций). Усредните по всем пользователям. Везде далее будем считать эту же метрику."
   ]
  },
  {
   "cell_type": "code",
   "execution_count": 21,
   "metadata": {
    "collapsed": true
   },
   "outputs": [],
   "source": [
    "# Pandas core series\n",
    "def count_precision_at_10(y_test, y_pred):\n",
    "    '''\n",
    "        https://en.wikipedia.org/wiki/Evaluation_measures_(information_retrieval)\n",
    "        Precision is the fraction of the documents retrieved that are relevant \n",
    "        to the user's information need.\n",
    "    '''\n",
    "    precisions = 0\n",
    "    for retrieved, relevant in list(zip(y_test, y_pred)):\n",
    "        try:\n",
    "            p = len(set(relevant).intersection(set(retrieved))) / len(set(retrieved))\n",
    "        except ZeroDivisionError:\n",
    "            p = 0\n",
    "        precisions += p\n",
    "    return precisions/len(y_pred)"
   ]
  },
  {
   "cell_type": "code",
   "execution_count": 22,
   "metadata": {},
   "outputs": [
    {
     "data": {
      "text/plain": [
       "0.0719355849504088"
      ]
     },
     "execution_count": 22,
     "metadata": {},
     "output_type": "execute_result"
    }
   ],
   "source": [
    "y_test = interactions.true_test\n",
    "y_pred = interactions.prediction_popular\n",
    "count_precision_at_10(y_test, y_pred)"
   ]
  },
  {
   "cell_type": "markdown",
   "metadata": {},
   "source": [
    "## Часть 2. Коллаборативная фильтрация."
   ]
  },
  {
   "cell_type": "markdown",
   "metadata": {},
   "source": [
    "Перейдём к более сложному механизму рекомендаций, а именно коллаборативной фильтрации. Суть коллаборативной фильтрации в том, что учитывается схожесть пользователей и товаров между собой, а не факторы, которые их описывают. \n",
    "\n",
    "__Предлагается на выбор реализовать один из двух подходов__: memory-based или модель со скрытыми переменные.\n",
    "\n",
    "Для начала для удобства составим матрицу \"оценок\" пользователей. Нули будут обозначать отсутствие взаимодействия."
   ]
  },
  {
   "cell_type": "code",
   "execution_count": 23,
   "metadata": {
    "collapsed": true
   },
   "outputs": [],
   "source": [
    "ratings = pd.pivot_table(\n",
    "    interactions_train_df,\n",
    "    values='eventStrength',\n",
    "    index='personId',\n",
    "    columns='contentId').fillna(0)"
   ]
  },
  {
   "cell_type": "code",
   "execution_count": 24,
   "metadata": {},
   "outputs": [
    {
     "data": {
      "text/html": [
       "<div>\n",
       "<style scoped>\n",
       "    .dataframe tbody tr th:only-of-type {\n",
       "        vertical-align: middle;\n",
       "    }\n",
       "\n",
       "    .dataframe tbody tr th {\n",
       "        vertical-align: top;\n",
       "    }\n",
       "\n",
       "    .dataframe thead th {\n",
       "        text-align: right;\n",
       "    }\n",
       "</style>\n",
       "<table border=\"1\" class=\"dataframe\">\n",
       "  <thead>\n",
       "    <tr style=\"text-align: right;\">\n",
       "      <th>contentId</th>\n",
       "      <th>-1006791494035379303</th>\n",
       "      <th>-1021685224930603833</th>\n",
       "      <th>-1022885988494278200</th>\n",
       "      <th>-1024046541613287684</th>\n",
       "      <th>-1033806831489252007</th>\n",
       "      <th>-1038011342017850</th>\n",
       "      <th>-1039912738963181810</th>\n",
       "      <th>-1046621686880462790</th>\n",
       "      <th>-1051830303851697653</th>\n",
       "      <th>-1055630159212837930</th>\n",
       "      <th>...</th>\n",
       "      <th>9217155070834564627</th>\n",
       "      <th>921770761777842242</th>\n",
       "      <th>9220445660318725468</th>\n",
       "      <th>9222265156747237864</th>\n",
       "      <th>943818026930898372</th>\n",
       "      <th>957332268361319692</th>\n",
       "      <th>966067567430037498</th>\n",
       "      <th>972258375127367383</th>\n",
       "      <th>980458131533897249</th>\n",
       "      <th>98528655405030624</th>\n",
       "    </tr>\n",
       "    <tr>\n",
       "      <th>personId</th>\n",
       "      <th></th>\n",
       "      <th></th>\n",
       "      <th></th>\n",
       "      <th></th>\n",
       "      <th></th>\n",
       "      <th></th>\n",
       "      <th></th>\n",
       "      <th></th>\n",
       "      <th></th>\n",
       "      <th></th>\n",
       "      <th></th>\n",
       "      <th></th>\n",
       "      <th></th>\n",
       "      <th></th>\n",
       "      <th></th>\n",
       "      <th></th>\n",
       "      <th></th>\n",
       "      <th></th>\n",
       "      <th></th>\n",
       "      <th></th>\n",
       "      <th></th>\n",
       "    </tr>\n",
       "  </thead>\n",
       "  <tbody>\n",
       "    <tr>\n",
       "      <th>-1007001694607905623</th>\n",
       "      <td>0.0</td>\n",
       "      <td>0.0</td>\n",
       "      <td>0.0</td>\n",
       "      <td>0.0</td>\n",
       "      <td>0.0</td>\n",
       "      <td>0.0</td>\n",
       "      <td>0.0</td>\n",
       "      <td>0.0</td>\n",
       "      <td>0.0</td>\n",
       "      <td>0.0</td>\n",
       "      <td>...</td>\n",
       "      <td>0.0</td>\n",
       "      <td>0.0</td>\n",
       "      <td>0.0</td>\n",
       "      <td>0.0</td>\n",
       "      <td>0.000000</td>\n",
       "      <td>0.0</td>\n",
       "      <td>0.0</td>\n",
       "      <td>0.0</td>\n",
       "      <td>0.0</td>\n",
       "      <td>0.0</td>\n",
       "    </tr>\n",
       "    <tr>\n",
       "      <th>-1032019229384696495</th>\n",
       "      <td>1.0</td>\n",
       "      <td>0.0</td>\n",
       "      <td>0.0</td>\n",
       "      <td>0.0</td>\n",
       "      <td>0.0</td>\n",
       "      <td>0.0</td>\n",
       "      <td>1.0</td>\n",
       "      <td>0.0</td>\n",
       "      <td>0.0</td>\n",
       "      <td>0.0</td>\n",
       "      <td>...</td>\n",
       "      <td>3.0</td>\n",
       "      <td>0.0</td>\n",
       "      <td>0.0</td>\n",
       "      <td>0.0</td>\n",
       "      <td>2.321928</td>\n",
       "      <td>0.0</td>\n",
       "      <td>0.0</td>\n",
       "      <td>0.0</td>\n",
       "      <td>0.0</td>\n",
       "      <td>0.0</td>\n",
       "    </tr>\n",
       "    <tr>\n",
       "      <th>-108842214936804958</th>\n",
       "      <td>0.0</td>\n",
       "      <td>0.0</td>\n",
       "      <td>0.0</td>\n",
       "      <td>0.0</td>\n",
       "      <td>0.0</td>\n",
       "      <td>0.0</td>\n",
       "      <td>0.0</td>\n",
       "      <td>0.0</td>\n",
       "      <td>0.0</td>\n",
       "      <td>0.0</td>\n",
       "      <td>...</td>\n",
       "      <td>0.0</td>\n",
       "      <td>0.0</td>\n",
       "      <td>0.0</td>\n",
       "      <td>0.0</td>\n",
       "      <td>0.000000</td>\n",
       "      <td>0.0</td>\n",
       "      <td>2.0</td>\n",
       "      <td>0.0</td>\n",
       "      <td>0.0</td>\n",
       "      <td>0.0</td>\n",
       "    </tr>\n",
       "    <tr>\n",
       "      <th>-1130272294246983140</th>\n",
       "      <td>0.0</td>\n",
       "      <td>0.0</td>\n",
       "      <td>0.0</td>\n",
       "      <td>0.0</td>\n",
       "      <td>0.0</td>\n",
       "      <td>0.0</td>\n",
       "      <td>0.0</td>\n",
       "      <td>0.0</td>\n",
       "      <td>0.0</td>\n",
       "      <td>0.0</td>\n",
       "      <td>...</td>\n",
       "      <td>0.0</td>\n",
       "      <td>0.0</td>\n",
       "      <td>0.0</td>\n",
       "      <td>0.0</td>\n",
       "      <td>1.000000</td>\n",
       "      <td>0.0</td>\n",
       "      <td>0.0</td>\n",
       "      <td>0.0</td>\n",
       "      <td>0.0</td>\n",
       "      <td>0.0</td>\n",
       "    </tr>\n",
       "    <tr>\n",
       "      <th>-1160159014793528221</th>\n",
       "      <td>0.0</td>\n",
       "      <td>0.0</td>\n",
       "      <td>0.0</td>\n",
       "      <td>0.0</td>\n",
       "      <td>0.0</td>\n",
       "      <td>0.0</td>\n",
       "      <td>0.0</td>\n",
       "      <td>0.0</td>\n",
       "      <td>0.0</td>\n",
       "      <td>0.0</td>\n",
       "      <td>...</td>\n",
       "      <td>0.0</td>\n",
       "      <td>0.0</td>\n",
       "      <td>0.0</td>\n",
       "      <td>0.0</td>\n",
       "      <td>0.000000</td>\n",
       "      <td>0.0</td>\n",
       "      <td>0.0</td>\n",
       "      <td>0.0</td>\n",
       "      <td>0.0</td>\n",
       "      <td>0.0</td>\n",
       "    </tr>\n",
       "  </tbody>\n",
       "</table>\n",
       "<p>5 rows × 2366 columns</p>\n",
       "</div>"
      ],
      "text/plain": [
       "contentId             -1006791494035379303  -1021685224930603833  \\\n",
       "personId                                                           \n",
       "-1007001694607905623                   0.0                   0.0   \n",
       "-1032019229384696495                   1.0                   0.0   \n",
       "-108842214936804958                    0.0                   0.0   \n",
       "-1130272294246983140                   0.0                   0.0   \n",
       "-1160159014793528221                   0.0                   0.0   \n",
       "\n",
       "contentId             -1022885988494278200  -1024046541613287684  \\\n",
       "personId                                                           \n",
       "-1007001694607905623                   0.0                   0.0   \n",
       "-1032019229384696495                   0.0                   0.0   \n",
       "-108842214936804958                    0.0                   0.0   \n",
       "-1130272294246983140                   0.0                   0.0   \n",
       "-1160159014793528221                   0.0                   0.0   \n",
       "\n",
       "contentId             -1033806831489252007  -1038011342017850  \\\n",
       "personId                                                        \n",
       "-1007001694607905623                   0.0                0.0   \n",
       "-1032019229384696495                   0.0                0.0   \n",
       "-108842214936804958                    0.0                0.0   \n",
       "-1130272294246983140                   0.0                0.0   \n",
       "-1160159014793528221                   0.0                0.0   \n",
       "\n",
       "contentId             -1039912738963181810  -1046621686880462790  \\\n",
       "personId                                                           \n",
       "-1007001694607905623                   0.0                   0.0   \n",
       "-1032019229384696495                   1.0                   0.0   \n",
       "-108842214936804958                    0.0                   0.0   \n",
       "-1130272294246983140                   0.0                   0.0   \n",
       "-1160159014793528221                   0.0                   0.0   \n",
       "\n",
       "contentId             -1051830303851697653  -1055630159212837930  \\\n",
       "personId                                                           \n",
       "-1007001694607905623                   0.0                   0.0   \n",
       "-1032019229384696495                   0.0                   0.0   \n",
       "-108842214936804958                    0.0                   0.0   \n",
       "-1130272294246983140                   0.0                   0.0   \n",
       "-1160159014793528221                   0.0                   0.0   \n",
       "\n",
       "contentId                   ...          9217155070834564627  \\\n",
       "personId                    ...                                \n",
       "-1007001694607905623        ...                          0.0   \n",
       "-1032019229384696495        ...                          3.0   \n",
       "-108842214936804958         ...                          0.0   \n",
       "-1130272294246983140        ...                          0.0   \n",
       "-1160159014793528221        ...                          0.0   \n",
       "\n",
       "contentId             921770761777842242  9220445660318725468  \\\n",
       "personId                                                        \n",
       "-1007001694607905623                 0.0                  0.0   \n",
       "-1032019229384696495                 0.0                  0.0   \n",
       "-108842214936804958                  0.0                  0.0   \n",
       "-1130272294246983140                 0.0                  0.0   \n",
       "-1160159014793528221                 0.0                  0.0   \n",
       "\n",
       "contentId             9222265156747237864  943818026930898372  \\\n",
       "personId                                                        \n",
       "-1007001694607905623                  0.0            0.000000   \n",
       "-1032019229384696495                  0.0            2.321928   \n",
       "-108842214936804958                   0.0            0.000000   \n",
       "-1130272294246983140                  0.0            1.000000   \n",
       "-1160159014793528221                  0.0            0.000000   \n",
       "\n",
       "contentId             957332268361319692  966067567430037498  \\\n",
       "personId                                                       \n",
       "-1007001694607905623                 0.0                 0.0   \n",
       "-1032019229384696495                 0.0                 0.0   \n",
       "-108842214936804958                  0.0                 2.0   \n",
       "-1130272294246983140                 0.0                 0.0   \n",
       "-1160159014793528221                 0.0                 0.0   \n",
       "\n",
       "contentId             972258375127367383  980458131533897249  \\\n",
       "personId                                                       \n",
       "-1007001694607905623                 0.0                 0.0   \n",
       "-1032019229384696495                 0.0                 0.0   \n",
       "-108842214936804958                  0.0                 0.0   \n",
       "-1130272294246983140                 0.0                 0.0   \n",
       "-1160159014793528221                 0.0                 0.0   \n",
       "\n",
       "contentId             98528655405030624  \n",
       "personId                                 \n",
       "-1007001694607905623                0.0  \n",
       "-1032019229384696495                0.0  \n",
       "-108842214936804958                 0.0  \n",
       "-1130272294246983140                0.0  \n",
       "-1160159014793528221                0.0  \n",
       "\n",
       "[5 rows x 2366 columns]"
      ]
     },
     "execution_count": 24,
     "metadata": {},
     "output_type": "execute_result"
    }
   ],
   "source": [
    "ratings.head()"
   ]
  },
  {
   "cell_type": "markdown",
   "metadata": {},
   "source": [
    "### Memory-based"
   ]
  },
  {
   "cell_type": "markdown",
   "metadata": {},
   "source": [
    "Посчитайте схожести пользователей с помощью корреляции Пирсона. Для каждой пары учитываем только ненулевые значения.\n",
    "\n",
    "Для скорости работы лучше переходить от pandas к numpy."
   ]
  },
  {
   "cell_type": "code",
   "execution_count": 25,
   "metadata": {},
   "outputs": [
    {
     "data": {
      "text/plain": [
       "1112"
      ]
     },
     "execution_count": 25,
     "metadata": {},
     "output_type": "execute_result"
    }
   ],
   "source": [
    "len(ratings)"
   ]
  },
  {
   "cell_type": "code",
   "execution_count": 26,
   "metadata": {},
   "outputs": [
    {
     "data": {
      "text/plain": [
       "2366"
      ]
     },
     "execution_count": 26,
     "metadata": {},
     "output_type": "execute_result"
    }
   ],
   "source": [
    "len(ratings.columns)"
   ]
  },
  {
   "cell_type": "code",
   "execution_count": 27,
   "metadata": {},
   "outputs": [
    {
     "name": "stderr",
     "output_type": "stream",
     "text": [
      "/anaconda3/lib/python3.6/site-packages/ipykernel_launcher.py:1: FutureWarning: Method .as_matrix will be removed in a future version. Use .values instead.\n",
      "  \"\"\"Entry point for launching an IPython kernel.\n"
     ]
    }
   ],
   "source": [
    "ratings_m = ratings.as_matrix()"
   ]
  },
  {
   "cell_type": "code",
   "execution_count": 59,
   "metadata": {},
   "outputs": [
    {
     "data": {
      "application/vnd.jupyter.widget-view+json": {
       "model_id": "b1351e6c60ff49eeb97baa349282475d",
       "version_major": 2,
       "version_minor": 0
      },
      "text/plain": [
       "A Jupyter Widget"
      ]
     },
     "metadata": {},
     "output_type": "display_data"
    },
    {
     "name": "stderr",
     "output_type": "stream",
     "text": [
      "/anaconda3/lib/python3.6/site-packages/ipykernel_launcher.py:21: RuntimeWarning: invalid value encountered in double_scalars\n"
     ]
    },
    {
     "name": "stdout",
     "output_type": "stream",
     "text": [
      "\n"
     ]
    }
   ],
   "source": [
    "similarity_users = np.zeros((len(ratings_m), len(ratings_m)))\n",
    "\n",
    "for i in tqdm_notebook(range(len(ratings_m)-1)):\n",
    "    for j in range(i+1, len(ratings_m)):\n",
    "        # nonzero elements of two users\n",
    "        mask_uv = (ratings_m[i] != 0) & (ratings_m[j] != 0)\n",
    "        mask_u = ratings_m[i] != 0\n",
    "        mask_v = ratings_m[j] != 0\n",
    "        \n",
    "        # continue if no intersection\n",
    "        if np.sum(mask_uv) == 0:\n",
    "            continue\n",
    "            \n",
    "        # get nonzero elements\n",
    "        ratings_u = ratings_m[i, mask_uv]\n",
    "        ratings_v = ratings_m[j, mask_uv]\n",
    "        mean_u = ratings_m[i, mask_u].mean()\n",
    "        mean_v = ratings_m[j, mask_v].mean()\n",
    "        \n",
    "        # normalization\n",
    "        dist = ( np.sum((ratings_u - mean_u) * (ratings_v - mean_v)) ) / ( np.sqrt(np.sum((ratings_u - mean_u)**2)) *  np.sqrt(np.sum((ratings_v - mean_v)**2)) )\n",
    "                                                                          \n",
    "        # for nonzero std\n",
    "        if len(np.unique(ratings_v)) < 2 or len(np.unique(ratings_u)) < 2:\n",
    "            continue\n",
    "            \n",
    "        similarity_users[i,j] = dist\n",
    "        similarity_users[j,i] = dist"
   ]
  },
  {
   "cell_type": "markdown",
   "metadata": {},
   "source": [
    "Теперь у нас есть матрицы схожести пользователей. Их можно использовать для рекомендаций.\n",
    "\n",
    "Для каждого пользователя:\n",
    "\n",
    "1. Найдём пользователей с похожестью больше $\\alpha$ на нашего пользователя.\n",
    "2. Посчитаем для каждой статьи долю пользователей (среди выделенных на первом шаге), которые взаимодействовали со статьёй.\n",
    "3. Порекомендуем статьи с наибольшими долями со второго шага (среди тех, которые пользователь ещё не видел).\n",
    "\n",
    "В нашем примере данных не очень много, поэтому возьмём $\\alpha = 0$.\n",
    "\n",
    "После того, как будут сделаны предсказания (новый столбец в interactions), посчитайте качество по той же метрике."
   ]
  },
  {
   "cell_type": "code",
   "execution_count": 57,
   "metadata": {},
   "outputs": [
    {
     "data": {
      "text/plain": [
       "(1112, 2366)"
      ]
     },
     "execution_count": 57,
     "metadata": {},
     "output_type": "execute_result"
    }
   ],
   "source": [
    "# Отзывы клиентов о заметках\n",
    "ratings_m.shape"
   ]
  },
  {
   "cell_type": "code",
   "execution_count": 47,
   "metadata": {},
   "outputs": [
    {
     "data": {
      "text/plain": [
       "(1112, 1112)"
      ]
     },
     "execution_count": 47,
     "metadata": {},
     "output_type": "execute_result"
    }
   ],
   "source": [
    "# Степень похожести пользователя на других пользователей\n",
    "# Матрица по пользователям: каждый с каждыйм. Полный граф.\n",
    "similarity_users.shape"
   ]
  },
  {
   "cell_type": "code",
   "execution_count": 52,
   "metadata": {
    "collapsed": true
   },
   "outputs": [],
   "source": [
    "def get_similar_users(i):\n",
    "    # similar users U(u0) = {v ∈ U|wu0v > α}\n",
    "    mask = similarity_users[i] > 0\n",
    "    return mask    "
   ]
  },
  {
   "cell_type": "code",
   "execution_count": 144,
   "metadata": {},
   "outputs": [
    {
     "data": {
      "application/vnd.jupyter.widget-view+json": {
       "model_id": "b64ec6020dd5447e9e8116c1e187727e",
       "version_major": 2,
       "version_minor": 0
      },
      "text/plain": [
       "A Jupyter Widget"
      ]
     },
     "metadata": {},
     "output_type": "display_data"
    },
    {
     "name": "stdout",
     "output_type": "stream",
     "text": [
      "\n"
     ]
    }
   ],
   "source": [
    "recomendations = np.zeros(ratings_m.shape)\n",
    "recomendations.shape\n",
    "\n",
    "for i in tqdm_notebook(range(ratings_m.shape[0])): # Users\n",
    "    for j in range(ratings_m.shape[1]): #Articles\n",
    "        mask = get_similar_users(i)\n",
    "        vals = ratings_m[mask, j]\n",
    "        if len(vals) == 0:\n",
    "            continue\n",
    "        p = sum(vals)/len(vals)\n",
    "        recomendations[i][j] = p"
   ]
  },
  {
   "cell_type": "code",
   "execution_count": 159,
   "metadata": {},
   "outputs": [],
   "source": [
    "articles = ratings.columns"
   ]
  },
  {
   "cell_type": "code",
   "execution_count": 216,
   "metadata": {},
   "outputs": [],
   "source": [
    "ind = np.argsort(recomendations, axis=1)[:,-10:]"
   ]
  },
  {
   "cell_type": "code",
   "execution_count": 222,
   "metadata": {},
   "outputs": [],
   "source": [
    "top_10_articles = articles[ind]"
   ]
  },
  {
   "cell_type": "code",
   "execution_count": 226,
   "metadata": {},
   "outputs": [
    {
     "data": {
      "text/plain": [
       "(1112, 10)"
      ]
     },
     "execution_count": 226,
     "metadata": {},
     "output_type": "execute_result"
    }
   ],
   "source": [
    "top_10_articles.shape"
   ]
  },
  {
   "cell_type": "code",
   "execution_count": null,
   "metadata": {
    "collapsed": true
   },
   "outputs": [],
   "source": [
    "interactions.reset_index(inplace=True)"
   ]
  },
  {
   "cell_type": "code",
   "execution_count": 252,
   "metadata": {},
   "outputs": [],
   "source": [
    "interactions['prediction_user_based'] = pd.Series(list(top_10_articles))"
   ]
  },
  {
   "cell_type": "code",
   "execution_count": 253,
   "metadata": {},
   "outputs": [
    {
     "data": {
      "text/html": [
       "<div>\n",
       "<style scoped>\n",
       "    .dataframe tbody tr th:only-of-type {\n",
       "        vertical-align: middle;\n",
       "    }\n",
       "\n",
       "    .dataframe tbody tr th {\n",
       "        vertical-align: top;\n",
       "    }\n",
       "\n",
       "    .dataframe thead th {\n",
       "        text-align: right;\n",
       "    }\n",
       "</style>\n",
       "<table border=\"1\" class=\"dataframe\">\n",
       "  <thead>\n",
       "    <tr style=\"text-align: right;\">\n",
       "      <th></th>\n",
       "      <th>personId</th>\n",
       "      <th>true_train</th>\n",
       "      <th>true_test</th>\n",
       "      <th>prediction_popular</th>\n",
       "      <th>prediction_user_based</th>\n",
       "    </tr>\n",
       "  </thead>\n",
       "  <tbody>\n",
       "    <tr>\n",
       "      <th>0</th>\n",
       "      <td>-1007001694607905623</td>\n",
       "      <td>[-5065077552540450930, -793729620925729327]</td>\n",
       "      <td>[-6623581327558800021, 1469580151036142903, 72...</td>\n",
       "      <td>[-4029704725707465084, -6783772548752091658, -...</td>\n",
       "      <td>[-6651333707067617642, -6654470039478316910, -...</td>\n",
       "    </tr>\n",
       "    <tr>\n",
       "      <th>1</th>\n",
       "      <td>-1032019229384696495</td>\n",
       "      <td>[-1006791494035379303, -1039912738963181810, -...</td>\n",
       "      <td>[-1415040208471067980, -2555801390963402198, -...</td>\n",
       "      <td>[-4029704725707465084, -6783772548752091658, -...</td>\n",
       "      <td>[-5148591903395022444, -1633984990770981161, 9...</td>\n",
       "    </tr>\n",
       "    <tr>\n",
       "      <th>2</th>\n",
       "      <td>-108842214936804958</td>\n",
       "      <td>[-1196068832249300490, -133139342397538859, -1...</td>\n",
       "      <td>[-2780168264183400543, -3060116862184714437, -...</td>\n",
       "      <td>[-4029704725707465084, -6783772548752091658, -...</td>\n",
       "      <td>[3367026768872537336, -5002383425685129595, -8...</td>\n",
       "    </tr>\n",
       "    <tr>\n",
       "      <th>3</th>\n",
       "      <td>-1130272294246983140</td>\n",
       "      <td>[-1150591229250318592, -1196068832249300490, -...</td>\n",
       "      <td>[-1606980109000976010, -1663441888197894674, -...</td>\n",
       "      <td>[-4029704725707465084, -133139342397538859, -8...</td>\n",
       "      <td>[-8518096793350810174, -7681408188643141872, -...</td>\n",
       "    </tr>\n",
       "    <tr>\n",
       "      <th>4</th>\n",
       "      <td>-1160159014793528221</td>\n",
       "      <td>[-133139342397538859, -387651900461462767, 377...</td>\n",
       "      <td>[-3462051751080362224]</td>\n",
       "      <td>[-4029704725707465084, -6783772548752091658, -...</td>\n",
       "      <td>[-861913102049789637, 1356221992133852808, 578...</td>\n",
       "    </tr>\n",
       "    <tr>\n",
       "      <th>5</th>\n",
       "      <td>-123314413156450014</td>\n",
       "      <td>[-1596335233529956315, -6133746337603876146, -...</td>\n",
       "      <td>[-14569272361926584, -3058031327323357308, -59...</td>\n",
       "      <td>[-4029704725707465084, -6783772548752091658, -...</td>\n",
       "      <td>[-6651333707067617642, -6654470039478316910, -...</td>\n",
       "    </tr>\n",
       "    <tr>\n",
       "      <th>6</th>\n",
       "      <td>-1251984896177895077</td>\n",
       "      <td>[-1596335233529956315, -2358756719610361882, -...</td>\n",
       "      <td>[-1452340812018195881, -14569272361926584, -41...</td>\n",
       "      <td>[-4029704725707465084, -6783772548752091658, -...</td>\n",
       "      <td>[7534917347133949300, -3716447017462787559, -5...</td>\n",
       "    </tr>\n",
       "    <tr>\n",
       "      <th>7</th>\n",
       "      <td>-1257176162426022931</td>\n",
       "      <td>[-1022885988494278200, -2479936301516183562, -...</td>\n",
       "      <td>[-1129449063360470561, -1181242543195516037, -...</td>\n",
       "      <td>[-4029704725707465084, -6783772548752091658, -...</td>\n",
       "      <td>[8657408509986329668, 8224860111193157980, -12...</td>\n",
       "    </tr>\n",
       "    <tr>\n",
       "      <th>8</th>\n",
       "      <td>-1272364595235252747</td>\n",
       "      <td>[-1297580205670251233, -133139342397538859, -6...</td>\n",
       "      <td>[-3302834510061927448, -6728844082024523434]</td>\n",
       "      <td>[-4029704725707465084, -6783772548752091658, -...</td>\n",
       "      <td>[-377975173223377441, -1038011342017850, 22803...</td>\n",
       "    </tr>\n",
       "    <tr>\n",
       "      <th>9</th>\n",
       "      <td>-1292787032977259947</td>\n",
       "      <td>[-133139342397538859, -3700095596785790870, -4...</td>\n",
       "      <td>[-1425776303341065806, -4029704725707465084, -...</td>\n",
       "      <td>[-4029704725707465084, -6783772548752091658, -...</td>\n",
       "      <td>[8890720798209849691, -2358756719610361882, -6...</td>\n",
       "    </tr>\n",
       "    <tr>\n",
       "      <th>10</th>\n",
       "      <td>-1339908024252273488</td>\n",
       "      <td>[6817244649248188271, 7494490104520466117]</td>\n",
       "      <td>[-6444494220871855741, -6872546942144599345, 3...</td>\n",
       "      <td>[-4029704725707465084, -6783772548752091658, -...</td>\n",
       "      <td>[-6651333707067617642, -6654470039478316910, -...</td>\n",
       "    </tr>\n",
       "    <tr>\n",
       "      <th>11</th>\n",
       "      <td>-1352064057049251194</td>\n",
       "      <td>[-133139342397538859, -170687954910264210, -18...</td>\n",
       "      <td>[-1101361754763388054, -1259410223376598430, -...</td>\n",
       "      <td>[-4029704725707465084, -6843047699859121724, 8...</td>\n",
       "      <td>[-2358756719610361882, 3367026768872537336, 82...</td>\n",
       "    </tr>\n",
       "    <tr>\n",
       "      <th>12</th>\n",
       "      <td>-1352542225971050638</td>\n",
       "      <td>[-133139342397538859, -1730766821655383888, -2...</td>\n",
       "      <td>[-4029704725707465084, -4333957157636611418, -...</td>\n",
       "      <td>[-4029704725707465084, -6783772548752091658, -...</td>\n",
       "      <td>[4084131344684656470, 2687654465640040976, -51...</td>\n",
       "    </tr>\n",
       "    <tr>\n",
       "      <th>13</th>\n",
       "      <td>-1367575386492755119</td>\n",
       "      <td>[-1536771179525677307, -1755875383603052680, -...</td>\n",
       "      <td>[-3307413259092352650, -3850803681204406658, -...</td>\n",
       "      <td>[-4029704725707465084, -6783772548752091658, -...</td>\n",
       "      <td>[2259988589066296676, -3716447017462787559, -1...</td>\n",
       "    </tr>\n",
       "    <tr>\n",
       "      <th>14</th>\n",
       "      <td>-1372859690779491423</td>\n",
       "      <td>[-1297580205670251233, -2194994678739982146, -...</td>\n",
       "      <td>[-3130182799308303924, -3687965339291665275, -...</td>\n",
       "      <td>[-4029704725707465084, -6783772548752091658, -...</td>\n",
       "      <td>[7818691400791322406, -8243488279185272615, 65...</td>\n",
       "    </tr>\n",
       "    <tr>\n",
       "      <th>15</th>\n",
       "      <td>-1380636509010496168</td>\n",
       "      <td>[-1573329182923097618, -205193648629294862, -2...</td>\n",
       "      <td>[-2402288292108892893, -3040610224044779845, -...</td>\n",
       "      <td>[-4029704725707465084, -6783772548752091658, -...</td>\n",
       "      <td>[-3716447017462787559, -5148591903395022444, 5...</td>\n",
       "    </tr>\n",
       "    <tr>\n",
       "      <th>16</th>\n",
       "      <td>-1387464358334758758</td>\n",
       "      <td>[-1006791494035379303, -1051830303851697653, -...</td>\n",
       "      <td>[-14569272361926584, -3061741807736367554, -34...</td>\n",
       "      <td>[-4029704725707465084, -133139342397538859, -8...</td>\n",
       "      <td>[3149164017776669829, 7507067965574797372, 889...</td>\n",
       "    </tr>\n",
       "    <tr>\n",
       "      <th>17</th>\n",
       "      <td>-1393866732742189886</td>\n",
       "      <td>[-133139342397538859, -145625979744144572, -15...</td>\n",
       "      <td>[-1072987232233605661, -1443900796086927361, -...</td>\n",
       "      <td>[-4029704725707465084, -6783772548752091658, -...</td>\n",
       "      <td>[3495098006178009360, -6156751702010469220, -1...</td>\n",
       "    </tr>\n",
       "    <tr>\n",
       "      <th>18</th>\n",
       "      <td>-1402490765047599382</td>\n",
       "      <td>[-1297580205670251233, -4027027091658759481, -...</td>\n",
       "      <td>[-1663441888197894674, -6654470039478316910, -...</td>\n",
       "      <td>[-4029704725707465084, -6783772548752091658, -...</td>\n",
       "      <td>[-4027027091658759481, -6076367233589223323, 1...</td>\n",
       "    </tr>\n",
       "    <tr>\n",
       "      <th>19</th>\n",
       "      <td>-1410112619805614798</td>\n",
       "      <td>[-1492574794514500033, -2447632164766022033, -...</td>\n",
       "      <td>[-6728844082024523434, 2106559900295325351, 54...</td>\n",
       "      <td>[-4029704725707465084, -6783772548752091658, -...</td>\n",
       "      <td>[2372438485070148864, 7507067965574797372, -23...</td>\n",
       "    </tr>\n",
       "    <tr>\n",
       "      <th>20</th>\n",
       "      <td>-1443636648652872475</td>\n",
       "      <td>[-1051830303851697653, -1055630159212837930, -...</td>\n",
       "      <td>[-1072987232233605661, -1173087925894083974, -...</td>\n",
       "      <td>[-4029704725707465084, -6783772548752091658, -...</td>\n",
       "      <td>[2581138407738454418, 7507067965574797372, -37...</td>\n",
       "    </tr>\n",
       "    <tr>\n",
       "      <th>21</th>\n",
       "      <td>-1454518985966405190</td>\n",
       "      <td>[-1297580205670251233, -3469502952547705884, -...</td>\n",
       "      <td>[]</td>\n",
       "      <td>[-4029704725707465084, -6783772548752091658, -...</td>\n",
       "      <td>[-5628897645967553681, 3998743085432844199, 41...</td>\n",
       "    </tr>\n",
       "    <tr>\n",
       "      <th>22</th>\n",
       "      <td>-1479311724257856983</td>\n",
       "      <td>[-1060990524105135617, -1151034582628982912, -...</td>\n",
       "      <td>[-1452340812018195881, -3040610224044779845, -...</td>\n",
       "      <td>[-4029704725707465084, -6783772548752091658, -...</td>\n",
       "      <td>[-8518096793350810174, -133139342397538859, -3...</td>\n",
       "    </tr>\n",
       "    <tr>\n",
       "      <th>23</th>\n",
       "      <td>-1489196353998999052</td>\n",
       "      <td>[-2306089797938257253, -2828628091730682303, -...</td>\n",
       "      <td>[-6728844082024523434, 5854206600849997966]</td>\n",
       "      <td>[-4029704725707465084, -6783772548752091658, -...</td>\n",
       "      <td>[4084131344684656470, 8890720798209849691, -28...</td>\n",
       "    </tr>\n",
       "    <tr>\n",
       "      <th>24</th>\n",
       "      <td>-1496589699638750920</td>\n",
       "      <td>[-1038011342017850, -1297580205670251233, -225...</td>\n",
       "      <td>[-3201623914150480647, -4029704725707465084, -...</td>\n",
       "      <td>[-4029704725707465084, -133139342397538859, -8...</td>\n",
       "      <td>[1738052593226421681, -4509487968959834430, -8...</td>\n",
       "    </tr>\n",
       "    <tr>\n",
       "      <th>25</th>\n",
       "      <td>-1547632488317277075</td>\n",
       "      <td>[-2318171567839609160, -3234984575507976056, -...</td>\n",
       "      <td>[9045808098977760576]</td>\n",
       "      <td>[-4029704725707465084, -6783772548752091658, -...</td>\n",
       "      <td>[1356221992133852808, -3716447017462787559, 58...</td>\n",
       "    </tr>\n",
       "    <tr>\n",
       "      <th>26</th>\n",
       "      <td>-1561982036714087726</td>\n",
       "      <td>[-1297580205670251233, -6814865160063205794, 7...</td>\n",
       "      <td>[-5488842573681626972, 5658521282502533116]</td>\n",
       "      <td>[-4029704725707465084, -6783772548752091658, -...</td>\n",
       "      <td>[-2271000159302779222, 2633209697262372913, -5...</td>\n",
       "    </tr>\n",
       "    <tr>\n",
       "      <th>27</th>\n",
       "      <td>-1578287561410088674</td>\n",
       "      <td>[-1033806831489252007, -1111518890369033396, -...</td>\n",
       "      <td>[-1572252285162838958, -1787737696395220629, -...</td>\n",
       "      <td>[-4029704725707465084, -6783772548752091658, -...</td>\n",
       "      <td>[-2358756719610361882, -6843047699859121724, 1...</td>\n",
       "    </tr>\n",
       "    <tr>\n",
       "      <th>28</th>\n",
       "      <td>-1602833675167376798</td>\n",
       "      <td>[-1088742830039453732, -1101832997669013246, -...</td>\n",
       "      <td>[-1663441888197894674, -2123288010168989418, -...</td>\n",
       "      <td>[-4029704725707465084, -6783772548752091658, -...</td>\n",
       "      <td>[-5002383425685129595, 8657408509986329668, 75...</td>\n",
       "    </tr>\n",
       "    <tr>\n",
       "      <th>29</th>\n",
       "      <td>-1616903969205976623</td>\n",
       "      <td>[-1383778823073811714, -1443900796086927361, -...</td>\n",
       "      <td>[-1425776303341065806, -1606909838151129701, -...</td>\n",
       "      <td>[-4029704725707465084, -6783772548752091658, -...</td>\n",
       "      <td>[1356221992133852808, 8890720798209849691, 314...</td>\n",
       "    </tr>\n",
       "    <tr>\n",
       "      <th>...</th>\n",
       "      <td>...</td>\n",
       "      <td>...</td>\n",
       "      <td>...</td>\n",
       "      <td>...</td>\n",
       "      <td>...</td>\n",
       "    </tr>\n",
       "    <tr>\n",
       "      <th>1082</th>\n",
       "      <td>8982783231149017560</td>\n",
       "      <td>[-324861070284719256, -3780822597455574960, 21...</td>\n",
       "      <td>[]</td>\n",
       "      <td>[-4029704725707465084, -6783772548752091658, -...</td>\n",
       "      <td>[-2440247087447106971, 2415534163825594672, 34...</td>\n",
       "    </tr>\n",
       "    <tr>\n",
       "      <th>1083</th>\n",
       "      <td>899165159624701221</td>\n",
       "      <td>[-6603351162010419903, 880612740433495828]</td>\n",
       "      <td>[-3348652277274905234, -4024233104105796278, -...</td>\n",
       "      <td>[-4029704725707465084, -6783772548752091658, -...</td>\n",
       "      <td>[4419562057180692966, 1854874463930846880, -32...</td>\n",
       "    </tr>\n",
       "    <tr>\n",
       "      <th>1084</th>\n",
       "      <td>8992729171160464416</td>\n",
       "      <td>[-1297580205670251233, -1839591250599587429, -...</td>\n",
       "      <td>[-1259410223376598430, -6590819806697898649, -...</td>\n",
       "      <td>[-4029704725707465084, -6783772548752091658, -...</td>\n",
       "      <td>[3170775058142440102, 1881534532776527237, 530...</td>\n",
       "    </tr>\n",
       "    <tr>\n",
       "      <th>1085</th>\n",
       "      <td>9013651444868609421</td>\n",
       "      <td>[-1492574794514500033, -3605608255586388018, -...</td>\n",
       "      <td>[-3058031327323357308, -8657415528200615063]</td>\n",
       "      <td>[-4029704725707465084, -6783772548752091658, -...</td>\n",
       "      <td>[1356221992133852808, 2581138407738454418, -61...</td>\n",
       "    </tr>\n",
       "    <tr>\n",
       "      <th>1086</th>\n",
       "      <td>9033898219489253274</td>\n",
       "      <td>[-5488842573681626972, 1768976290984301641, 19...</td>\n",
       "      <td>[-4029704725707465084]</td>\n",
       "      <td>[-4029704725707465084, -6783772548752091658, -...</td>\n",
       "      <td>[-6734931185433789466, 2581138407738454418, 38...</td>\n",
       "    </tr>\n",
       "    <tr>\n",
       "      <th>1087</th>\n",
       "      <td>9037410398700100618</td>\n",
       "      <td>[-2828628091730682303, -3037091822980174821, -...</td>\n",
       "      <td>[-615862350872519037]</td>\n",
       "      <td>[-4029704725707465084, -6783772548752091658, -...</td>\n",
       "      <td>[-6651333707067617642, -6654470039478316910, -...</td>\n",
       "    </tr>\n",
       "    <tr>\n",
       "      <th>1088</th>\n",
       "      <td>9038446466275805109</td>\n",
       "      <td>[-5014627593450767720, 3268064929368559554, 33...</td>\n",
       "      <td>[-3058031327323357308, -6642751159620064055, 5...</td>\n",
       "      <td>[-4029704725707465084, -6783772548752091658, -...</td>\n",
       "      <td>[-7463305179076477879, -730957269757756529, 66...</td>\n",
       "    </tr>\n",
       "    <tr>\n",
       "      <th>1089</th>\n",
       "      <td>9050204922960952289</td>\n",
       "      <td>[-6136272094613269629, 2819427195737975069, 31...</td>\n",
       "      <td>[-7525512143002603676, -8717945432162716060, 6...</td>\n",
       "      <td>[-4029704725707465084, -6783772548752091658, -...</td>\n",
       "      <td>[-6651333707067617642, -6654470039478316910, -...</td>\n",
       "    </tr>\n",
       "    <tr>\n",
       "      <th>1090</th>\n",
       "      <td>907221355688076938</td>\n",
       "      <td>[-1453783314552286835, -170687954910264210, -2...</td>\n",
       "      <td>[-1633984990770981161, 2727743992157210358, 60...</td>\n",
       "      <td>[-4029704725707465084, -6783772548752091658, -...</td>\n",
       "      <td>[943818026930898372, -6783772548752091658, -90...</td>\n",
       "    </tr>\n",
       "    <tr>\n",
       "      <th>1091</th>\n",
       "      <td>908938729693125261</td>\n",
       "      <td>[-133139342397538859, -1453783314552286835, -1...</td>\n",
       "      <td>[-2069509552243850466, -6654470039478316910, -...</td>\n",
       "      <td>[-4029704725707465084, -6783772548752091658, -...</td>\n",
       "      <td>[-3716447017462787559, -8518096793350810174, 8...</td>\n",
       "    </tr>\n",
       "    <tr>\n",
       "      <th>1092</th>\n",
       "      <td>9090527742744334314</td>\n",
       "      <td>[-1801367878403179328, -3170783292462058942, -...</td>\n",
       "      <td>[-1259410223376598430, 7088167897470452815]</td>\n",
       "      <td>[-4029704725707465084, -6783772548752091658, -...</td>\n",
       "      <td>[-8208801367848627943, 8890720798209849691, 18...</td>\n",
       "    </tr>\n",
       "    <tr>\n",
       "      <th>1093</th>\n",
       "      <td>9091970136990402395</td>\n",
       "      <td>[-1630229587164086350, -4463029741564307314, -...</td>\n",
       "      <td>[1561244083438776495]</td>\n",
       "      <td>[-4029704725707465084, -6783772548752091658, -...</td>\n",
       "      <td>[3818189513627822856, -5778988730475305016, -5...</td>\n",
       "    </tr>\n",
       "    <tr>\n",
       "      <th>1094</th>\n",
       "      <td>909651159261292691</td>\n",
       "      <td>[-1033806831489252007, -158184760257182670, -2...</td>\n",
       "      <td>[-4029704725707465084, -4582216289807398227, 3...</td>\n",
       "      <td>[-4029704725707465084, -6783772548752091658, -...</td>\n",
       "      <td>[-401664538366009049, 8224860111193157980, 330...</td>\n",
       "    </tr>\n",
       "    <tr>\n",
       "      <th>1095</th>\n",
       "      <td>9102085903669288476</td>\n",
       "      <td>[-21036008762564671, -5912792039759735631, 292...</td>\n",
       "      <td>[4785499183287168509]</td>\n",
       "      <td>[-4029704725707465084, -6783772548752091658, -...</td>\n",
       "      <td>[-8518096793350810174, 4139191914110236238, -5...</td>\n",
       "    </tr>\n",
       "    <tr>\n",
       "      <th>1096</th>\n",
       "      <td>9105269044962898535</td>\n",
       "      <td>[-1633984990770981161, -3468529816757552062, -...</td>\n",
       "      <td>[-2708021095252721995, 1796618361228441836, 22...</td>\n",
       "      <td>[-4029704725707465084, -6783772548752091658, -...</td>\n",
       "      <td>[5206308811707978799, -8208801367848627943, 20...</td>\n",
       "    </tr>\n",
       "    <tr>\n",
       "      <th>1097</th>\n",
       "      <td>9109075639526981934</td>\n",
       "      <td>[-2584174137395076448, -271938775771328391, -3...</td>\n",
       "      <td>[-1425776303341065806, -1452340812018195881, -...</td>\n",
       "      <td>[-4029704725707465084, -6783772548752091658, -...</td>\n",
       "      <td>[-1633984990770981161, 1356221992133852808, 23...</td>\n",
       "    </tr>\n",
       "    <tr>\n",
       "      <th>1098</th>\n",
       "      <td>9135582630122950040</td>\n",
       "      <td>[-1418355038507506357, -1911407455198985777, -...</td>\n",
       "      <td>[]</td>\n",
       "      <td>[-4029704725707465084, -6783772548752091658, -...</td>\n",
       "      <td>[3075564241645350154, -7342604649736473979, -6...</td>\n",
       "    </tr>\n",
       "    <tr>\n",
       "      <th>1099</th>\n",
       "      <td>9137372837662939523</td>\n",
       "      <td>[-1630229587164086350, -5170198873410718233, -...</td>\n",
       "      <td>[-5283011611531067471, 1348739322889189648, 66...</td>\n",
       "      <td>[-4029704725707465084, -6783772548752091658, -...</td>\n",
       "      <td>[3075564241645350154, 7395435905985567130, 889...</td>\n",
       "    </tr>\n",
       "    <tr>\n",
       "      <th>1100</th>\n",
       "      <td>9148269800512008413</td>\n",
       "      <td>[-1022885988494278200, -1038011342017850, -129...</td>\n",
       "      <td>[-2314360211211303885, -5386512752101672374, -...</td>\n",
       "      <td>[-4029704725707465084, -6783772548752091658, -...</td>\n",
       "      <td>[3367026768872537336, -6156751702010469220, 25...</td>\n",
       "    </tr>\n",
       "    <tr>\n",
       "      <th>1101</th>\n",
       "      <td>915429212131112741</td>\n",
       "      <td>[-133139342397538859, -1480913447590268358, -5...</td>\n",
       "      <td>[]</td>\n",
       "      <td>[-4029704725707465084, -6783772548752091658, -...</td>\n",
       "      <td>[-4509487968959834430, 880612740433495828, -12...</td>\n",
       "    </tr>\n",
       "    <tr>\n",
       "      <th>1102</th>\n",
       "      <td>9165571805999894845</td>\n",
       "      <td>[-1564468014116140117, -2430889785264760757, -...</td>\n",
       "      <td>[]</td>\n",
       "      <td>[-4029704725707465084, -6783772548752091658, -...</td>\n",
       "      <td>[-9192549002213406534, 7612428320594238723, 22...</td>\n",
       "    </tr>\n",
       "    <tr>\n",
       "      <th>1103</th>\n",
       "      <td>9187866633451383747</td>\n",
       "      <td>[-1753606726398516179, -2252459228396350242, -...</td>\n",
       "      <td>[-4925213312961842798, -532999578436827210, -9...</td>\n",
       "      <td>[-4029704725707465084, -6783772548752091658, -...</td>\n",
       "      <td>[2727743992157210358, -8813724423497152538, 54...</td>\n",
       "    </tr>\n",
       "    <tr>\n",
       "      <th>1104</th>\n",
       "      <td>9191849144618614467</td>\n",
       "      <td>[-2358756719610361882, -4133169317019898816, -...</td>\n",
       "      <td>[-4029704725707465084, -5605799891597699962]</td>\n",
       "      <td>[-4029704725707465084, -6783772548752091658, -...</td>\n",
       "      <td>[7534917347133949300, 2555983212310147009, -51...</td>\n",
       "    </tr>\n",
       "    <tr>\n",
       "      <th>1105</th>\n",
       "      <td>9199170757466086545</td>\n",
       "      <td>[-2504825704002833401, -2899726011463496555, -...</td>\n",
       "      <td>[-4029704725707465084]</td>\n",
       "      <td>[-4029704725707465084, -6783772548752091658, -...</td>\n",
       "      <td>[-8208801367848627943, 6044362651232258738, 52...</td>\n",
       "    </tr>\n",
       "    <tr>\n",
       "      <th>1106</th>\n",
       "      <td>9210530975708218054</td>\n",
       "      <td>[-1573329182923097618, -3678789633202302491, -...</td>\n",
       "      <td>[-14569272361926584, -1572252285162838958, -18...</td>\n",
       "      <td>[-4029704725707465084, -6783772548752091658, -...</td>\n",
       "      <td>[6437568358552101410, -2358756719610361882, -5...</td>\n",
       "    </tr>\n",
       "    <tr>\n",
       "      <th>1107</th>\n",
       "      <td>953707509720613429</td>\n",
       "      <td>[-1068603220639552685, -2358756719610361882, -...</td>\n",
       "      <td>[-2402288292108892893, -5813211845057621660, -...</td>\n",
       "      <td>[-4029704725707465084, -133139342397538859, -8...</td>\n",
       "      <td>[-5148591903395022444, 8749720044741011597, -6...</td>\n",
       "    </tr>\n",
       "    <tr>\n",
       "      <th>1108</th>\n",
       "      <td>983095443598229476</td>\n",
       "      <td>[-133139342397538859, -8742648016180281673]</td>\n",
       "      <td>[-14569272361926584, -1572252285162838958, -18...</td>\n",
       "      <td>[-4029704725707465084, -6783772548752091658, -...</td>\n",
       "      <td>[-5848514031542611523, 8224860111193157980, 69...</td>\n",
       "    </tr>\n",
       "    <tr>\n",
       "      <th>1109</th>\n",
       "      <td>989049974880576288</td>\n",
       "      <td>[-133139342397538859, -2038869595290705317, -2...</td>\n",
       "      <td>[-6289909056857931861, -7047448754687279385, -...</td>\n",
       "      <td>[-4029704725707465084, -6783772548752091658, -...</td>\n",
       "      <td>[-9019233957195913605, -8208801367848627943, -...</td>\n",
       "    </tr>\n",
       "    <tr>\n",
       "      <th>1110</th>\n",
       "      <td>997469202936578234</td>\n",
       "      <td>[-2358756719610361882, -4336877432539963613, -...</td>\n",
       "      <td>[-4029704725707465084, -5920475612630001479, -...</td>\n",
       "      <td>[-4029704725707465084, -6783772548752091658, -...</td>\n",
       "      <td>[8657408509986329668, -5879360586463363298, 13...</td>\n",
       "    </tr>\n",
       "    <tr>\n",
       "      <th>1111</th>\n",
       "      <td>998688566268269815</td>\n",
       "      <td>[-1255189867397298842, -401664538366009049, 68...</td>\n",
       "      <td>[3456674717452933449, 7174452660053929140]</td>\n",
       "      <td>[-4029704725707465084, -6783772548752091658, -...</td>\n",
       "      <td>[-6651333707067617642, -6654470039478316910, -...</td>\n",
       "    </tr>\n",
       "  </tbody>\n",
       "</table>\n",
       "<p>1112 rows × 5 columns</p>\n",
       "</div>"
      ],
      "text/plain": [
       "                  personId                                         true_train  \\\n",
       "0     -1007001694607905623        [-5065077552540450930, -793729620925729327]   \n",
       "1     -1032019229384696495  [-1006791494035379303, -1039912738963181810, -...   \n",
       "2      -108842214936804958  [-1196068832249300490, -133139342397538859, -1...   \n",
       "3     -1130272294246983140  [-1150591229250318592, -1196068832249300490, -...   \n",
       "4     -1160159014793528221  [-133139342397538859, -387651900461462767, 377...   \n",
       "5      -123314413156450014  [-1596335233529956315, -6133746337603876146, -...   \n",
       "6     -1251984896177895077  [-1596335233529956315, -2358756719610361882, -...   \n",
       "7     -1257176162426022931  [-1022885988494278200, -2479936301516183562, -...   \n",
       "8     -1272364595235252747  [-1297580205670251233, -133139342397538859, -6...   \n",
       "9     -1292787032977259947  [-133139342397538859, -3700095596785790870, -4...   \n",
       "10    -1339908024252273488         [6817244649248188271, 7494490104520466117]   \n",
       "11    -1352064057049251194  [-133139342397538859, -170687954910264210, -18...   \n",
       "12    -1352542225971050638  [-133139342397538859, -1730766821655383888, -2...   \n",
       "13    -1367575386492755119  [-1536771179525677307, -1755875383603052680, -...   \n",
       "14    -1372859690779491423  [-1297580205670251233, -2194994678739982146, -...   \n",
       "15    -1380636509010496168  [-1573329182923097618, -205193648629294862, -2...   \n",
       "16    -1387464358334758758  [-1006791494035379303, -1051830303851697653, -...   \n",
       "17    -1393866732742189886  [-133139342397538859, -145625979744144572, -15...   \n",
       "18    -1402490765047599382  [-1297580205670251233, -4027027091658759481, -...   \n",
       "19    -1410112619805614798  [-1492574794514500033, -2447632164766022033, -...   \n",
       "20    -1443636648652872475  [-1051830303851697653, -1055630159212837930, -...   \n",
       "21    -1454518985966405190  [-1297580205670251233, -3469502952547705884, -...   \n",
       "22    -1479311724257856983  [-1060990524105135617, -1151034582628982912, -...   \n",
       "23    -1489196353998999052  [-2306089797938257253, -2828628091730682303, -...   \n",
       "24    -1496589699638750920  [-1038011342017850, -1297580205670251233, -225...   \n",
       "25    -1547632488317277075  [-2318171567839609160, -3234984575507976056, -...   \n",
       "26    -1561982036714087726  [-1297580205670251233, -6814865160063205794, 7...   \n",
       "27    -1578287561410088674  [-1033806831489252007, -1111518890369033396, -...   \n",
       "28    -1602833675167376798  [-1088742830039453732, -1101832997669013246, -...   \n",
       "29    -1616903969205976623  [-1383778823073811714, -1443900796086927361, -...   \n",
       "...                    ...                                                ...   \n",
       "1082   8982783231149017560  [-324861070284719256, -3780822597455574960, 21...   \n",
       "1083    899165159624701221         [-6603351162010419903, 880612740433495828]   \n",
       "1084   8992729171160464416  [-1297580205670251233, -1839591250599587429, -...   \n",
       "1085   9013651444868609421  [-1492574794514500033, -3605608255586388018, -...   \n",
       "1086   9033898219489253274  [-5488842573681626972, 1768976290984301641, 19...   \n",
       "1087   9037410398700100618  [-2828628091730682303, -3037091822980174821, -...   \n",
       "1088   9038446466275805109  [-5014627593450767720, 3268064929368559554, 33...   \n",
       "1089   9050204922960952289  [-6136272094613269629, 2819427195737975069, 31...   \n",
       "1090    907221355688076938  [-1453783314552286835, -170687954910264210, -2...   \n",
       "1091    908938729693125261  [-133139342397538859, -1453783314552286835, -1...   \n",
       "1092   9090527742744334314  [-1801367878403179328, -3170783292462058942, -...   \n",
       "1093   9091970136990402395  [-1630229587164086350, -4463029741564307314, -...   \n",
       "1094    909651159261292691  [-1033806831489252007, -158184760257182670, -2...   \n",
       "1095   9102085903669288476  [-21036008762564671, -5912792039759735631, 292...   \n",
       "1096   9105269044962898535  [-1633984990770981161, -3468529816757552062, -...   \n",
       "1097   9109075639526981934  [-2584174137395076448, -271938775771328391, -3...   \n",
       "1098   9135582630122950040  [-1418355038507506357, -1911407455198985777, -...   \n",
       "1099   9137372837662939523  [-1630229587164086350, -5170198873410718233, -...   \n",
       "1100   9148269800512008413  [-1022885988494278200, -1038011342017850, -129...   \n",
       "1101    915429212131112741  [-133139342397538859, -1480913447590268358, -5...   \n",
       "1102   9165571805999894845  [-1564468014116140117, -2430889785264760757, -...   \n",
       "1103   9187866633451383747  [-1753606726398516179, -2252459228396350242, -...   \n",
       "1104   9191849144618614467  [-2358756719610361882, -4133169317019898816, -...   \n",
       "1105   9199170757466086545  [-2504825704002833401, -2899726011463496555, -...   \n",
       "1106   9210530975708218054  [-1573329182923097618, -3678789633202302491, -...   \n",
       "1107    953707509720613429  [-1068603220639552685, -2358756719610361882, -...   \n",
       "1108    983095443598229476        [-133139342397538859, -8742648016180281673]   \n",
       "1109    989049974880576288  [-133139342397538859, -2038869595290705317, -2...   \n",
       "1110    997469202936578234  [-2358756719610361882, -4336877432539963613, -...   \n",
       "1111    998688566268269815  [-1255189867397298842, -401664538366009049, 68...   \n",
       "\n",
       "                                              true_test  \\\n",
       "0     [-6623581327558800021, 1469580151036142903, 72...   \n",
       "1     [-1415040208471067980, -2555801390963402198, -...   \n",
       "2     [-2780168264183400543, -3060116862184714437, -...   \n",
       "3     [-1606980109000976010, -1663441888197894674, -...   \n",
       "4                                [-3462051751080362224]   \n",
       "5     [-14569272361926584, -3058031327323357308, -59...   \n",
       "6     [-1452340812018195881, -14569272361926584, -41...   \n",
       "7     [-1129449063360470561, -1181242543195516037, -...   \n",
       "8          [-3302834510061927448, -6728844082024523434]   \n",
       "9     [-1425776303341065806, -4029704725707465084, -...   \n",
       "10    [-6444494220871855741, -6872546942144599345, 3...   \n",
       "11    [-1101361754763388054, -1259410223376598430, -...   \n",
       "12    [-4029704725707465084, -4333957157636611418, -...   \n",
       "13    [-3307413259092352650, -3850803681204406658, -...   \n",
       "14    [-3130182799308303924, -3687965339291665275, -...   \n",
       "15    [-2402288292108892893, -3040610224044779845, -...   \n",
       "16    [-14569272361926584, -3061741807736367554, -34...   \n",
       "17    [-1072987232233605661, -1443900796086927361, -...   \n",
       "18    [-1663441888197894674, -6654470039478316910, -...   \n",
       "19    [-6728844082024523434, 2106559900295325351, 54...   \n",
       "20    [-1072987232233605661, -1173087925894083974, -...   \n",
       "21                                                   []   \n",
       "22    [-1452340812018195881, -3040610224044779845, -...   \n",
       "23          [-6728844082024523434, 5854206600849997966]   \n",
       "24    [-3201623914150480647, -4029704725707465084, -...   \n",
       "25                                [9045808098977760576]   \n",
       "26          [-5488842573681626972, 5658521282502533116]   \n",
       "27    [-1572252285162838958, -1787737696395220629, -...   \n",
       "28    [-1663441888197894674, -2123288010168989418, -...   \n",
       "29    [-1425776303341065806, -1606909838151129701, -...   \n",
       "...                                                 ...   \n",
       "1082                                                 []   \n",
       "1083  [-3348652277274905234, -4024233104105796278, -...   \n",
       "1084  [-1259410223376598430, -6590819806697898649, -...   \n",
       "1085       [-3058031327323357308, -8657415528200615063]   \n",
       "1086                             [-4029704725707465084]   \n",
       "1087                              [-615862350872519037]   \n",
       "1088  [-3058031327323357308, -6642751159620064055, 5...   \n",
       "1089  [-7525512143002603676, -8717945432162716060, 6...   \n",
       "1090  [-1633984990770981161, 2727743992157210358, 60...   \n",
       "1091  [-2069509552243850466, -6654470039478316910, -...   \n",
       "1092        [-1259410223376598430, 7088167897470452815]   \n",
       "1093                              [1561244083438776495]   \n",
       "1094  [-4029704725707465084, -4582216289807398227, 3...   \n",
       "1095                              [4785499183287168509]   \n",
       "1096  [-2708021095252721995, 1796618361228441836, 22...   \n",
       "1097  [-1425776303341065806, -1452340812018195881, -...   \n",
       "1098                                                 []   \n",
       "1099  [-5283011611531067471, 1348739322889189648, 66...   \n",
       "1100  [-2314360211211303885, -5386512752101672374, -...   \n",
       "1101                                                 []   \n",
       "1102                                                 []   \n",
       "1103  [-4925213312961842798, -532999578436827210, -9...   \n",
       "1104       [-4029704725707465084, -5605799891597699962]   \n",
       "1105                             [-4029704725707465084]   \n",
       "1106  [-14569272361926584, -1572252285162838958, -18...   \n",
       "1107  [-2402288292108892893, -5813211845057621660, -...   \n",
       "1108  [-14569272361926584, -1572252285162838958, -18...   \n",
       "1109  [-6289909056857931861, -7047448754687279385, -...   \n",
       "1110  [-4029704725707465084, -5920475612630001479, -...   \n",
       "1111         [3456674717452933449, 7174452660053929140]   \n",
       "\n",
       "                                     prediction_popular  \\\n",
       "0     [-4029704725707465084, -6783772548752091658, -...   \n",
       "1     [-4029704725707465084, -6783772548752091658, -...   \n",
       "2     [-4029704725707465084, -6783772548752091658, -...   \n",
       "3     [-4029704725707465084, -133139342397538859, -8...   \n",
       "4     [-4029704725707465084, -6783772548752091658, -...   \n",
       "5     [-4029704725707465084, -6783772548752091658, -...   \n",
       "6     [-4029704725707465084, -6783772548752091658, -...   \n",
       "7     [-4029704725707465084, -6783772548752091658, -...   \n",
       "8     [-4029704725707465084, -6783772548752091658, -...   \n",
       "9     [-4029704725707465084, -6783772548752091658, -...   \n",
       "10    [-4029704725707465084, -6783772548752091658, -...   \n",
       "11    [-4029704725707465084, -6843047699859121724, 8...   \n",
       "12    [-4029704725707465084, -6783772548752091658, -...   \n",
       "13    [-4029704725707465084, -6783772548752091658, -...   \n",
       "14    [-4029704725707465084, -6783772548752091658, -...   \n",
       "15    [-4029704725707465084, -6783772548752091658, -...   \n",
       "16    [-4029704725707465084, -133139342397538859, -8...   \n",
       "17    [-4029704725707465084, -6783772548752091658, -...   \n",
       "18    [-4029704725707465084, -6783772548752091658, -...   \n",
       "19    [-4029704725707465084, -6783772548752091658, -...   \n",
       "20    [-4029704725707465084, -6783772548752091658, -...   \n",
       "21    [-4029704725707465084, -6783772548752091658, -...   \n",
       "22    [-4029704725707465084, -6783772548752091658, -...   \n",
       "23    [-4029704725707465084, -6783772548752091658, -...   \n",
       "24    [-4029704725707465084, -133139342397538859, -8...   \n",
       "25    [-4029704725707465084, -6783772548752091658, -...   \n",
       "26    [-4029704725707465084, -6783772548752091658, -...   \n",
       "27    [-4029704725707465084, -6783772548752091658, -...   \n",
       "28    [-4029704725707465084, -6783772548752091658, -...   \n",
       "29    [-4029704725707465084, -6783772548752091658, -...   \n",
       "...                                                 ...   \n",
       "1082  [-4029704725707465084, -6783772548752091658, -...   \n",
       "1083  [-4029704725707465084, -6783772548752091658, -...   \n",
       "1084  [-4029704725707465084, -6783772548752091658, -...   \n",
       "1085  [-4029704725707465084, -6783772548752091658, -...   \n",
       "1086  [-4029704725707465084, -6783772548752091658, -...   \n",
       "1087  [-4029704725707465084, -6783772548752091658, -...   \n",
       "1088  [-4029704725707465084, -6783772548752091658, -...   \n",
       "1089  [-4029704725707465084, -6783772548752091658, -...   \n",
       "1090  [-4029704725707465084, -6783772548752091658, -...   \n",
       "1091  [-4029704725707465084, -6783772548752091658, -...   \n",
       "1092  [-4029704725707465084, -6783772548752091658, -...   \n",
       "1093  [-4029704725707465084, -6783772548752091658, -...   \n",
       "1094  [-4029704725707465084, -6783772548752091658, -...   \n",
       "1095  [-4029704725707465084, -6783772548752091658, -...   \n",
       "1096  [-4029704725707465084, -6783772548752091658, -...   \n",
       "1097  [-4029704725707465084, -6783772548752091658, -...   \n",
       "1098  [-4029704725707465084, -6783772548752091658, -...   \n",
       "1099  [-4029704725707465084, -6783772548752091658, -...   \n",
       "1100  [-4029704725707465084, -6783772548752091658, -...   \n",
       "1101  [-4029704725707465084, -6783772548752091658, -...   \n",
       "1102  [-4029704725707465084, -6783772548752091658, -...   \n",
       "1103  [-4029704725707465084, -6783772548752091658, -...   \n",
       "1104  [-4029704725707465084, -6783772548752091658, -...   \n",
       "1105  [-4029704725707465084, -6783772548752091658, -...   \n",
       "1106  [-4029704725707465084, -6783772548752091658, -...   \n",
       "1107  [-4029704725707465084, -133139342397538859, -8...   \n",
       "1108  [-4029704725707465084, -6783772548752091658, -...   \n",
       "1109  [-4029704725707465084, -6783772548752091658, -...   \n",
       "1110  [-4029704725707465084, -6783772548752091658, -...   \n",
       "1111  [-4029704725707465084, -6783772548752091658, -...   \n",
       "\n",
       "                                  prediction_user_based  \n",
       "0     [-6651333707067617642, -6654470039478316910, -...  \n",
       "1     [-5148591903395022444, -1633984990770981161, 9...  \n",
       "2     [3367026768872537336, -5002383425685129595, -8...  \n",
       "3     [-8518096793350810174, -7681408188643141872, -...  \n",
       "4     [-861913102049789637, 1356221992133852808, 578...  \n",
       "5     [-6651333707067617642, -6654470039478316910, -...  \n",
       "6     [7534917347133949300, -3716447017462787559, -5...  \n",
       "7     [8657408509986329668, 8224860111193157980, -12...  \n",
       "8     [-377975173223377441, -1038011342017850, 22803...  \n",
       "9     [8890720798209849691, -2358756719610361882, -6...  \n",
       "10    [-6651333707067617642, -6654470039478316910, -...  \n",
       "11    [-2358756719610361882, 3367026768872537336, 82...  \n",
       "12    [4084131344684656470, 2687654465640040976, -51...  \n",
       "13    [2259988589066296676, -3716447017462787559, -1...  \n",
       "14    [7818691400791322406, -8243488279185272615, 65...  \n",
       "15    [-3716447017462787559, -5148591903395022444, 5...  \n",
       "16    [3149164017776669829, 7507067965574797372, 889...  \n",
       "17    [3495098006178009360, -6156751702010469220, -1...  \n",
       "18    [-4027027091658759481, -6076367233589223323, 1...  \n",
       "19    [2372438485070148864, 7507067965574797372, -23...  \n",
       "20    [2581138407738454418, 7507067965574797372, -37...  \n",
       "21    [-5628897645967553681, 3998743085432844199, 41...  \n",
       "22    [-8518096793350810174, -133139342397538859, -3...  \n",
       "23    [4084131344684656470, 8890720798209849691, -28...  \n",
       "24    [1738052593226421681, -4509487968959834430, -8...  \n",
       "25    [1356221992133852808, -3716447017462787559, 58...  \n",
       "26    [-2271000159302779222, 2633209697262372913, -5...  \n",
       "27    [-2358756719610361882, -6843047699859121724, 1...  \n",
       "28    [-5002383425685129595, 8657408509986329668, 75...  \n",
       "29    [1356221992133852808, 8890720798209849691, 314...  \n",
       "...                                                 ...  \n",
       "1082  [-2440247087447106971, 2415534163825594672, 34...  \n",
       "1083  [4419562057180692966, 1854874463930846880, -32...  \n",
       "1084  [3170775058142440102, 1881534532776527237, 530...  \n",
       "1085  [1356221992133852808, 2581138407738454418, -61...  \n",
       "1086  [-6734931185433789466, 2581138407738454418, 38...  \n",
       "1087  [-6651333707067617642, -6654470039478316910, -...  \n",
       "1088  [-7463305179076477879, -730957269757756529, 66...  \n",
       "1089  [-6651333707067617642, -6654470039478316910, -...  \n",
       "1090  [943818026930898372, -6783772548752091658, -90...  \n",
       "1091  [-3716447017462787559, -8518096793350810174, 8...  \n",
       "1092  [-8208801367848627943, 8890720798209849691, 18...  \n",
       "1093  [3818189513627822856, -5778988730475305016, -5...  \n",
       "1094  [-401664538366009049, 8224860111193157980, 330...  \n",
       "1095  [-8518096793350810174, 4139191914110236238, -5...  \n",
       "1096  [5206308811707978799, -8208801367848627943, 20...  \n",
       "1097  [-1633984990770981161, 1356221992133852808, 23...  \n",
       "1098  [3075564241645350154, -7342604649736473979, -6...  \n",
       "1099  [3075564241645350154, 7395435905985567130, 889...  \n",
       "1100  [3367026768872537336, -6156751702010469220, 25...  \n",
       "1101  [-4509487968959834430, 880612740433495828, -12...  \n",
       "1102  [-9192549002213406534, 7612428320594238723, 22...  \n",
       "1103  [2727743992157210358, -8813724423497152538, 54...  \n",
       "1104  [7534917347133949300, 2555983212310147009, -51...  \n",
       "1105  [-8208801367848627943, 6044362651232258738, 52...  \n",
       "1106  [6437568358552101410, -2358756719610361882, -5...  \n",
       "1107  [-5148591903395022444, 8749720044741011597, -6...  \n",
       "1108  [-5848514031542611523, 8224860111193157980, 69...  \n",
       "1109  [-9019233957195913605, -8208801367848627943, -...  \n",
       "1110  [8657408509986329668, -5879360586463363298, 13...  \n",
       "1111  [-6651333707067617642, -6654470039478316910, -...  \n",
       "\n",
       "[1112 rows x 5 columns]"
      ]
     },
     "execution_count": 253,
     "metadata": {},
     "output_type": "execute_result"
    }
   ],
   "source": [
    "interactions"
   ]
  },
  {
   "cell_type": "code",
   "execution_count": 255,
   "metadata": {
    "collapsed": true
   },
   "outputs": [],
   "source": [
    "# Pandas core series\n",
    "def count_precision_at_10(y_test, y_pred):\n",
    "    '''\n",
    "        https://en.wikipedia.org/wiki/Evaluation_measures_(information_retrieval)\n",
    "        Precision is the fraction of the documents retrieved that are relevant \n",
    "        to the user's information need.\n",
    "    '''\n",
    "    precisions = 0\n",
    "    for retrieved, relevant in list(zip(y_test, y_pred)):\n",
    "        try:\n",
    "            p = len(set(relevant).intersection(set(retrieved))) / len(set(retrieved))\n",
    "        except ZeroDivisionError:\n",
    "            p = 0\n",
    "        precisions += p\n",
    "    return precisions/len(y_pred)"
   ]
  },
  {
   "cell_type": "code",
   "execution_count": 256,
   "metadata": {},
   "outputs": [
    {
     "data": {
      "text/plain": [
       "0.0025089018560754887"
      ]
     },
     "execution_count": 256,
     "metadata": {},
     "output_type": "execute_result"
    }
   ],
   "source": [
    "y_test = interactions.true_test\n",
    "y_pred = interactions.prediction_user_based\n",
    "count_precision_at_10(y_test, y_pred)"
   ]
  },
  {
   "cell_type": "markdown",
   "metadata": {},
   "source": [
    "Качетсво не поднялось, но я не убрал из interactions.prediction_user_based дубли с трейном"
   ]
  },
  {
   "cell_type": "code",
   "execution_count": null,
   "metadata": {
    "collapsed": true
   },
   "outputs": [],
   "source": []
  },
  {
   "cell_type": "markdown",
   "metadata": {},
   "source": [
    "### Модель со скрытыми переменными"
   ]
  },
  {
   "cell_type": "markdown",
   "metadata": {},
   "source": [
    "Реализуем подход с разложением матрицы оценок. Для этого сделайте сингулярное разложение (svd в scipy.linalg), на выходе вы получите три матрицы."
   ]
  },
  {
   "cell_type": "code",
   "execution_count": null,
   "metadata": {
    "collapsed": true
   },
   "outputs": [],
   "source": [
    "# your code"
   ]
  },
  {
   "cell_type": "markdown",
   "metadata": {},
   "source": [
    "Значения у матрицы с сингулярными числами отсортированы по убыванию. Допустим мы хотим оставить только первые 100 компонент (и получить скрытые представления размерности 100). Для этого необходимо оставить 100 столбцов в матрице U, оставить из sigma только первые 100 значений (и сделать из них диагональную матрицу) и 100 столбцов в матрице V. Перемножьте преобразованные матрицы ($\\hat{U}, \\hat{sigma}, \\hat{V^T}$), чтобы получить восстановленную матрицу оценок."
   ]
  },
  {
   "cell_type": "code",
   "execution_count": null,
   "metadata": {
    "collapsed": true
   },
   "outputs": [],
   "source": [
    "# your code"
   ]
  },
  {
   "cell_type": "markdown",
   "metadata": {},
   "source": [
    "Посчитайте качество аппроксимации матрицы по норме Фробениуса (среднеквадратичную ошибку между всеми элементами соответствующими элементами двух матриц). Сравните его с простым бейзлайном с константным значением, равным среднему значению исходной матрицы. У аппроксимации ошибка должна получиться ниже."
   ]
  },
  {
   "cell_type": "code",
   "execution_count": null,
   "metadata": {
    "collapsed": true
   },
   "outputs": [],
   "source": [
    "# your code"
   ]
  },
  {
   "cell_type": "markdown",
   "metadata": {},
   "source": [
    "Теперь можно делать предсказания по матрице. Сделайте их (не забывайте про то, что уже было просмотрено пользователем), оцените качество. Для этого необходимо для каждого пользователя найти предметы с наибольшими оценками в восстановленной матрице."
   ]
  },
  {
   "cell_type": "code",
   "execution_count": null,
   "metadata": {
    "collapsed": true
   },
   "outputs": [],
   "source": [
    "# your code"
   ]
  },
  {
   "cell_type": "markdown",
   "metadata": {},
   "source": [
    "До этих пор мы не проводили никаких преобразований с матрицей оценок. Отцентрируйте все ненулевые (!) значения по каждому пользователю. Сделайте предсказания, посчитайте качество."
   ]
  },
  {
   "cell_type": "code",
   "execution_count": null,
   "metadata": {
    "collapsed": true
   },
   "outputs": [],
   "source": [
    "# your code"
   ]
  },
  {
   "cell_type": "markdown",
   "metadata": {},
   "source": [
    "### Факторизационные машины (опционально)"
   ]
  },
  {
   "cell_type": "markdown",
   "metadata": {},
   "source": [
    "Попробуем факторизационные машины из библиотеки pyFM (так как можно работать прямо из питона). https://github.com/coreylynch/pyFM"
   ]
  },
  {
   "cell_type": "code",
   "execution_count": null,
   "metadata": {
    "collapsed": true
   },
   "outputs": [],
   "source": [
    "from pyfm import pylibfm\n",
    "from sklearn.feature_extraction import DictVectorizer"
   ]
  },
  {
   "cell_type": "markdown",
   "metadata": {},
   "source": [
    "Перейдём к обобщению матричных разложений — факторизационным машинам, которые работают могут работать с контентной информацией. Вспомним, какие данные у нас изначально были:"
   ]
  },
  {
   "cell_type": "markdown",
   "metadata": {},
   "source": [
    "В факторизационную машину можно загрузить \"айдишники\" пользователей и статей (то есть сделать аналог коллаборативной фильтрации) и одновременно различные признаки.\n",
    "\n",
    "Удобно обрабатывать категориальные переменные (id и другие) можно с помощью DictVectorizer. Например, процесс может выглядить вот так:"
   ]
  },
  {
   "cell_type": "code",
   "execution_count": null,
   "metadata": {
    "collapsed": true
   },
   "outputs": [],
   "source": [
    "# train = [\n",
    "#     {\"user\": \"1\", \"item\": \"5\", \"age\": 19},\n",
    "#     {\"user\": \"2\", \"item\": \"43\", \"age\": 33},\n",
    "#     {\"user\": \"3\", \"item\": \"20\", \"age\": 55},\n",
    "#     {\"user\": \"4\", \"item\": \"10\", \"age\": 20},\n",
    "# ]\n",
    "# v = DictVectorizer()\n",
    "# X = v.fit_transform(train)\n",
    "# y = np.repeat(1.0, X.shape[0])\n",
    "# fm = pylibfm.FM()\n",
    "# fm.fit(X,y)\n",
    "# fm.predict(v.transform({\"user\": \"1\", \"item\": \"10\", \"age\": 24}))"
   ]
  },
  {
   "cell_type": "markdown",
   "metadata": {},
   "source": [
    "Сгенерируйте таблицу с признаками в таком виде, где будут id пользователя, статьи и автора статьи и несколько признаков, которые вы сможете придумать. В качестве целевой переменной возьмите \"силу\" взаимодействия пользователя с каждой статьёй (помним, что у нас там все примеры по сути положительные). Запустите обучение модели на несколько итераций и сделайте предсказания. Какое качество удаётся достич? "
   ]
  },
  {
   "cell_type": "code",
   "execution_count": null,
   "metadata": {
    "collapsed": true
   },
   "outputs": [],
   "source": [
    "train_data = []\n",
    "test_data = []\n",
    "\n",
    "for i in tqdm_notebook(range(len(interactions_train_df))):\n",
    "    features = {}\n",
    "    features['personId'] = str(interactions_test_df.iloc[i].personId)\n",
    "    features['contentId'] = str(interactions_test_df.iloc[i].contentId)\n",
    "    \n",
    "    # ... \n",
    "    \n",
    "    train_data.append(features)\n",
    "    \n",
    "# and test set too"
   ]
  },
  {
   "cell_type": "markdown",
   "metadata": {},
   "source": [
    "Векторизуем, получим разреженные матрицы."
   ]
  },
  {
   "cell_type": "code",
   "execution_count": null,
   "metadata": {
    "collapsed": true
   },
   "outputs": [],
   "source": [
    "dv = DictVectorizer()\n",
    "\n",
    "train_features = dv.fit_transform(train_data)\n",
    "test_features = dv.transform(test_data)"
   ]
  },
  {
   "cell_type": "code",
   "execution_count": null,
   "metadata": {
    "collapsed": true
   },
   "outputs": [],
   "source": [
    "train_features"
   ]
  },
  {
   "cell_type": "code",
   "execution_count": null,
   "metadata": {
    "collapsed": true
   },
   "outputs": [],
   "source": [
    "fm = pylibfm.FM(num_factors=10, num_iter=30, task='regression')\n",
    "fm.fit(train_features, y_train)"
   ]
  },
  {
   "cell_type": "code",
   "execution_count": null,
   "metadata": {
    "collapsed": true
   },
   "outputs": [],
   "source": [
    "# your code"
   ]
  },
  {
   "cell_type": "markdown",
   "metadata": {},
   "source": [
    "Попробуйте добавить случайные негативные примеры из статей, с которыми пользователь не взаимодействовал. Какое качество удалось достичь?"
   ]
  },
  {
   "cell_type": "code",
   "execution_count": null,
   "metadata": {
    "collapsed": true
   },
   "outputs": [],
   "source": [
    "# your code"
   ]
  },
  {
   "cell_type": "markdown",
   "metadata": {},
   "source": [
    "## Часть 3. Контентные  модели"
   ]
  },
  {
   "cell_type": "markdown",
   "metadata": {},
   "source": [
    "В этой части реализуем альтернативных подход к рекомендательным системам — контентные модели."
   ]
  },
  {
   "cell_type": "markdown",
   "metadata": {},
   "source": [
    "Теперь мы будем оперировать не матрицей с оценками, а классической для машинного обучения матрицей объекты-признаки. Каждый объект будет характеризовать пару user-item и содержать признаки, описывающие как пользователя, так и товар. Кроме этого признаки могут описывать и саму пару целиком.\n",
    "\n",
    "Матрица со всеми взаимодействиями уже получена нами на этапа разбиения выборки на 2 части. "
   ]
  },
  {
   "cell_type": "markdown",
   "metadata": {},
   "source": [
    "Придумаем и добавим признаков о пользователях и статьях. Сначала добавим информацию о статьях в данные о взаимодействиях."
   ]
  },
  {
   "cell_type": "code",
   "execution_count": null,
   "metadata": {
    "collapsed": true
   },
   "outputs": [],
   "source": [
    "interactions_train_df = interactions_train_df.merge(articles_df, how='left', on='contentId')\n",
    "interactions_test_df = interactions_test_df.merge(articles_df, how='left', on='contentId')"
   ]
  },
  {
   "cell_type": "code",
   "execution_count": null,
   "metadata": {
    "collapsed": true
   },
   "outputs": [],
   "source": [
    "# first feature index\n",
    "features_start = len(interactions_train_df.columns)"
   ]
  },
  {
   "cell_type": "markdown",
   "metadata": {},
   "source": [
    "После обучения модели нам придётся делать предсказания на тестовой выборке для всех возможных пар статья-пользователь. Подготовим такую матрицу, чтобы параллельно посчитать признаки для неё."
   ]
  },
  {
   "cell_type": "code",
   "execution_count": null,
   "metadata": {
    "collapsed": true
   },
   "outputs": [],
   "source": [
    "test_personId = np.repeat(interactions.index, len(articles_df)) \n",
    "test_contentId = list(articles_df.contentId) * len(interactions)\n",
    "\n",
    "test = pd.DataFrame(\n",
    "    np.array([test_personId, test_contentId]).T,\n",
    "    columns=['personId', 'contentId'])\n",
    "test = test.merge(articles_df, how='left', on='contentId')\n",
    "\n",
    "test.head()"
   ]
  },
  {
   "cell_type": "markdown",
   "metadata": {},
   "source": [
    "Добавьте признаки-индикаторы возможных значений contentType."
   ]
  },
  {
   "cell_type": "code",
   "execution_count": null,
   "metadata": {
    "collapsed": true
   },
   "outputs": [],
   "source": [
    "articles_df.contentType.unique()"
   ]
  },
  {
   "cell_type": "code",
   "execution_count": null,
   "metadata": {
    "collapsed": true
   },
   "outputs": [],
   "source": [
    "interactions_train_df['is_HTML'] = interactions_train_df.contentType == 'HTML'\n",
    "# your code"
   ]
  },
  {
   "cell_type": "markdown",
   "metadata": {},
   "source": [
    "Добавьте признаки \"длина названия\" и \"длина текста\"."
   ]
  },
  {
   "cell_type": "code",
   "execution_count": null,
   "metadata": {
    "collapsed": true
   },
   "outputs": [],
   "source": [
    "# your code"
   ]
  },
  {
   "cell_type": "markdown",
   "metadata": {},
   "source": [
    "Добавьте признаки-индикаторы языка."
   ]
  },
  {
   "cell_type": "code",
   "execution_count": null,
   "metadata": {
    "collapsed": true
   },
   "outputs": [],
   "source": [
    "# your code"
   ]
  },
  {
   "cell_type": "markdown",
   "metadata": {},
   "source": [
    "Обучим на полученных признаках градиентный бустинг."
   ]
  },
  {
   "cell_type": "code",
   "execution_count": null,
   "metadata": {
    "collapsed": true
   },
   "outputs": [],
   "source": [
    "import lightgbm \n",
    "\n",
    "regressor = lightgbm.LGBMRegressor()\n",
    "regressor.fit(interactions_train_df[interactions_train_df.columns[features_start:]],\n",
    "              interactions_train_df.eventStrength)"
   ]
  },
  {
   "cell_type": "markdown",
   "metadata": {},
   "source": [
    "Сделайте предсказания на тестовой выборке, сформируйте из них рекомендации. Оцените их качество."
   ]
  },
  {
   "cell_type": "code",
   "execution_count": null,
   "metadata": {
    "collapsed": true
   },
   "outputs": [],
   "source": [
    "# your code"
   ]
  },
  {
   "cell_type": "markdown",
   "metadata": {},
   "source": [
    "Категориальные переменные с большим количеством значений можно закодировать с помощью mean-target кодирования. Закодируйте так id статьи и пользователя. Обучите новую модель и оцените качество."
   ]
  },
  {
   "cell_type": "code",
   "execution_count": null,
   "metadata": {
    "collapsed": true
   },
   "outputs": [],
   "source": [
    "# your code"
   ]
  },
  {
   "cell_type": "markdown",
   "metadata": {},
   "source": [
    "Добавим негативных примеров в выборку — для каждого пользователя выберем случайные статьи, которые он не читал и отметим их нулём. Попробуйте добавить негативных примеров в обучающую выборку."
   ]
  },
  {
   "cell_type": "code",
   "execution_count": null,
   "metadata": {
    "collapsed": true
   },
   "outputs": [],
   "source": [
    "# your code"
   ]
  }
 ],
 "metadata": {
  "kernelspec": {
   "display_name": "Python 3",
   "language": "python",
   "name": "python3"
  },
  "language_info": {
   "codemirror_mode": {
    "name": "ipython",
    "version": 3
   },
   "file_extension": ".py",
   "mimetype": "text/x-python",
   "name": "python",
   "nbconvert_exporter": "python",
   "pygments_lexer": "ipython3",
   "version": "3.6.3"
  }
 },
 "nbformat": 4,
 "nbformat_minor": 1
}
