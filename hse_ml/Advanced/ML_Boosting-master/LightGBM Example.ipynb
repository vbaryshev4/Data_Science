{
 "cells": [
  {
   "cell_type": "code",
   "execution_count": 1,
   "metadata": {},
   "outputs": [
    {
     "name": "stderr",
     "output_type": "stream",
     "text": [
      "/anaconda3/lib/python3.6/importlib/_bootstrap.py:219: RuntimeWarning: numpy.dtype size changed, may indicate binary incompatibility. Expected 96, got 88\n",
      "  return f(*args, **kwds)\n"
     ]
    },
    {
     "name": "stdout",
     "output_type": "stream",
     "text": [
      "Starting training...\n",
      "[1]\tvalid_0's l1: 6.55382\n",
      "Training until validation scores don't improve for 5 rounds.\n",
      "[2]\tvalid_0's l1: 6.30303\n",
      "[3]\tvalid_0's l1: 6.09183\n",
      "[4]\tvalid_0's l1: 5.89075\n",
      "[5]\tvalid_0's l1: 5.67574\n",
      "[6]\tvalid_0's l1: 5.47115\n",
      "[7]\tvalid_0's l1: 5.30476\n",
      "[8]\tvalid_0's l1: 5.12275\n",
      "[9]\tvalid_0's l1: 4.95154\n",
      "[10]\tvalid_0's l1: 4.81269\n",
      "[11]\tvalid_0's l1: 4.64065\n",
      "[12]\tvalid_0's l1: 4.50641\n",
      "[13]\tvalid_0's l1: 4.34918\n",
      "[14]\tvalid_0's l1: 4.20543\n",
      "[15]\tvalid_0's l1: 4.09954\n",
      "[16]\tvalid_0's l1: 3.99217\n",
      "[17]\tvalid_0's l1: 3.89986\n",
      "[18]\tvalid_0's l1: 3.80253\n",
      "[19]\tvalid_0's l1: 3.70917\n",
      "[20]\tvalid_0's l1: 3.61276\n",
      "Did not meet early stopping. Best iteration is:\n",
      "[20]\tvalid_0's l1: 3.61276\n",
      "Starting predicting...\n",
      "The rmse of prediction is: 5.279422488260959\n",
      "Feature importances: [35, 0, 6, 0, 20, 70, 21, 31, 3, 7, 15, 4, 83]\n",
      "Starting training with custom eval function...\n",
      "[1]\tvalid_0's l2: 76.8091\tvalid_0's RMSLE: 0.396023\n",
      "Training until validation scores don't improve for 5 rounds.\n",
      "[2]\tvalid_0's l2: 71.6093\tvalid_0's RMSLE: 0.383499\n",
      "[3]\tvalid_0's l2: 67.1637\tvalid_0's RMSLE: 0.372451\n",
      "[4]\tvalid_0's l2: 63.1553\tvalid_0's RMSLE: 0.362114\n",
      "[5]\tvalid_0's l2: 59.0653\tvalid_0's RMSLE: 0.350928\n",
      "[6]\tvalid_0's l2: 55.3694\tvalid_0's RMSLE: 0.340359\n",
      "[7]\tvalid_0's l2: 52.4166\tvalid_0's RMSLE: 0.331651\n",
      "[8]\tvalid_0's l2: 49.3051\tvalid_0's RMSLE: 0.321884\n",
      "[9]\tvalid_0's l2: 46.4813\tvalid_0's RMSLE: 0.312622\n",
      "[10]\tvalid_0's l2: 44.2773\tvalid_0's RMSLE: 0.305311\n",
      "[11]\tvalid_0's l2: 41.6289\tvalid_0's RMSLE: 0.29651\n",
      "[12]\tvalid_0's l2: 39.752\tvalid_0's RMSLE: 0.289608\n",
      "[13]\tvalid_0's l2: 37.6033\tvalid_0's RMSLE: 0.281826\n",
      "[14]\tvalid_0's l2: 35.7119\tvalid_0's RMSLE: 0.274573\n",
      "[15]\tvalid_0's l2: 34.3234\tvalid_0's RMSLE: 0.268668\n",
      "[16]\tvalid_0's l2: 32.7375\tvalid_0's RMSLE: 0.262232\n",
      "[17]\tvalid_0's l2: 31.5398\tvalid_0's RMSLE: 0.25684\n",
      "[18]\tvalid_0's l2: 30.2453\tvalid_0's RMSLE: 0.251039\n",
      "[19]\tvalid_0's l2: 29.0399\tvalid_0's RMSLE: 0.245299\n",
      "[20]\tvalid_0's l2: 27.8723\tvalid_0's RMSLE: 0.239753\n",
      "Did not meet early stopping. Best iteration is:\n",
      "[20]\tvalid_0's l2: 27.8723\tvalid_0's RMSLE: 0.239753\n",
      "Starting predicting...\n",
      "The rmsle of prediction is: 0.2397533193319913\n",
      "Best parameters found by grid search are: {'learning_rate': 0.1, 'n_estimators': 40}\n"
     ]
    }
   ],
   "source": [
    "import numpy as np\n",
    "import pandas as pd\n",
    "import lightgbm as lgb\n",
    "\n",
    "from sklearn.metrics import mean_squared_error\n",
    "from sklearn.model_selection import GridSearchCV\n",
    "\n",
    "from sklearn.datasets import load_boston\n",
    "data = load_boston()\n",
    "X_full = data.data\n",
    "y_full = data.target\n",
    "\n",
    "from sklearn.model_selection import train_test_split\n",
    "X_train, X_test, y_train, y_test = train_test_split(X_full, y_full, test_size=100, \n",
    "                                        random_state=241)\n",
    "\n",
    "print('Starting training...')\n",
    "# train\n",
    "gbm = lgb.LGBMRegressor(num_leaves=31,\n",
    "                        learning_rate=0.05,\n",
    "                        n_estimators=20)\n",
    "gbm.fit(X_train, y_train,\n",
    "        eval_set=[(X_test, y_test)],\n",
    "        eval_metric='l1',\n",
    "        early_stopping_rounds=5)\n",
    "\n",
    "print('Starting predicting...')\n",
    "# predict\n",
    "y_pred = gbm.predict(X_test, num_iteration=gbm.best_iteration_)\n",
    "# eval\n",
    "print('The rmse of prediction is:', mean_squared_error(y_test, y_pred) ** 0.5)\n",
    "\n",
    "# feature importances\n",
    "print('Feature importances:', list(gbm.feature_importances_))\n",
    "\n",
    "\n",
    "# self-defined eval metric\n",
    "# f(y_true: array, y_pred: array) -> name: string, eval_result: float, is_higher_better: bool\n",
    "# Root Mean Squared Logarithmic Error (RMSLE)\n",
    "def rmsle(y_true, y_pred):\n",
    "    return 'RMSLE', np.sqrt(np.mean(np.power(np.log1p(y_pred) - np.log1p(y_true), 2))), False\n",
    "\n",
    "\n",
    "print('Starting training with custom eval function...')\n",
    "# train\n",
    "gbm.fit(X_train, y_train,\n",
    "        eval_set=[(X_test, y_test)],\n",
    "        eval_metric=rmsle,\n",
    "        early_stopping_rounds=5)\n",
    "\n",
    "print('Starting predicting...')\n",
    "# predict\n",
    "y_pred = gbm.predict(X_test, num_iteration=gbm.best_iteration_)\n",
    "# eval\n",
    "print('The rmsle of prediction is:', rmsle(y_test, y_pred)[1])\n",
    "\n",
    "# other scikit-learn modules\n",
    "estimator = lgb.LGBMRegressor(num_leaves=31)\n",
    "\n",
    "param_grid = {\n",
    "    'learning_rate': [0.01, 0.1, 1],\n",
    "    'n_estimators': [20, 40]\n",
    "}\n",
    "\n",
    "gbm = GridSearchCV(estimator, param_grid, cv=3)\n",
    "gbm.fit(X_train, y_train)\n",
    "\n",
    "print('Best parameters found by grid search are:', gbm.best_params_)"
   ]
  },
  {
   "cell_type": "code",
   "execution_count": 2,
   "metadata": {
    "collapsed": true
   },
   "outputs": [],
   "source": [
    "pred = gbm.predict(X_test)"
   ]
  },
  {
   "cell_type": "code",
   "execution_count": 3,
   "metadata": {},
   "outputs": [
    {
     "data": {
      "text/plain": [
       "12.655273826759585"
      ]
     },
     "execution_count": 3,
     "metadata": {},
     "output_type": "execute_result"
    }
   ],
   "source": [
    "from sklearn.metrics import mean_squared_error\n",
    "mean_squared_error(y_test, pred)"
   ]
  },
  {
   "cell_type": "code",
   "execution_count": null,
   "metadata": {
    "collapsed": true
   },
   "outputs": [],
   "source": []
  }
 ],
 "metadata": {
  "kernelspec": {
   "display_name": "Python 3",
   "language": "python",
   "name": "python3"
  },
  "language_info": {
   "codemirror_mode": {
    "name": "ipython",
    "version": 3
   },
   "file_extension": ".py",
   "mimetype": "text/x-python",
   "name": "python",
   "nbconvert_exporter": "python",
   "pygments_lexer": "ipython3",
   "version": "3.6.3"
  }
 },
 "nbformat": 4,
 "nbformat_minor": 2
}
