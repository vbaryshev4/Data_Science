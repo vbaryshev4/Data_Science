{
 "cells": [
  {
   "cell_type": "code",
   "execution_count": 2,
   "metadata": {
    "collapsed": true
   },
   "outputs": [],
   "source": [
    "from PIL import Image\n",
    "import tensorflow as tf\n",
    "import numpy as np\n",
    "import os"
   ]
  },
  {
   "cell_type": "markdown",
   "metadata": {},
   "source": [
    "Загрузил датасэт\n",
    "'https://github.com/OlafenwaMoses/IdenProf/releases/download/v1.0/idenprof-jpg.zip'\n",
    "Учился и валедировался на полицейских и докторах\n",
    "\n",
    "В разметке:\n",
    "1 = doctor, 0 = 'police'"
   ]
  },
  {
   "cell_type": "code",
   "execution_count": 3,
   "metadata": {
    "collapsed": true
   },
   "outputs": [],
   "source": [
    "train_path = '/Users/vbaryshev/Documents/Computer_Science/Data_Science/hse_ml/Advanced/NN_DL/04-cnn-architectures/idenprof/train/'\n",
    "test_path = '/Users/vbaryshev/Documents/Computer_Science/Data_Science/hse_ml/Advanced/NN_DL/04-cnn-architectures/idenprof/test/'"
   ]
  },
  {
   "cell_type": "code",
   "execution_count": 4,
   "metadata": {
    "collapsed": true
   },
   "outputs": [],
   "source": [
    "def get_data(path):\n",
    "    X = []\n",
    "    y = []\n",
    "    for p in ['doctor', 'police']:\n",
    "        for i in os.listdir(train_path + p):\n",
    "            if i.endswith('jpg'):\n",
    "                img = Image.open(train_path + p + '/' + i)\n",
    "                X.append(np.array(img))\n",
    "            else:\n",
    "                continue\n",
    "            if p == 'doctor':\n",
    "                y.append([1]) # 'doctor'\n",
    "            else:\n",
    "                y.append([0]) # 'police'\n",
    "    return np.array(X), np.array(y)"
   ]
  },
  {
   "cell_type": "code",
   "execution_count": 5,
   "metadata": {
    "collapsed": true
   },
   "outputs": [],
   "source": [
    "x_train, y_train = get_data(train_path)\n",
    "x_test, y_test = get_data(test_path)"
   ]
  },
  {
   "cell_type": "code",
   "execution_count": 6,
   "metadata": {},
   "outputs": [
    {
     "data": {
      "text/plain": [
       "(224, 224, 3)"
      ]
     },
     "execution_count": 6,
     "metadata": {},
     "output_type": "execute_result"
    }
   ],
   "source": [
    "x_train[0].shape"
   ]
  },
  {
   "cell_type": "code",
   "execution_count": 9,
   "metadata": {},
   "outputs": [
    {
     "name": "stdout",
     "output_type": "stream",
     "text": [
      "Epoch 1/10\n",
      "1800/1800 [==============================] - 3s 2ms/sample - loss: 0.4651 - acc: 0.7822\n",
      "Epoch 2/10\n",
      "1800/1800 [==============================] - 3s 2ms/sample - loss: 0.2419 - acc: 0.9056\n",
      "Epoch 3/10\n",
      "1800/1800 [==============================] - 3s 2ms/sample - loss: 0.2414 - acc: 0.9050\n",
      "Epoch 4/10\n",
      "1800/1800 [==============================] - 3s 2ms/sample - loss: 0.2656 - acc: 0.8961\n",
      "Epoch 5/10\n",
      "1800/1800 [==============================] - 3s 2ms/sample - loss: 0.2620 - acc: 0.8989\n",
      "Epoch 6/10\n",
      "1800/1800 [==============================] - 4s 2ms/sample - loss: 0.1842 - acc: 0.9294\n",
      "Epoch 7/10\n",
      "1800/1800 [==============================] - 3s 2ms/sample - loss: 0.1631 - acc: 0.9367\n",
      "Epoch 8/10\n",
      "1800/1800 [==============================] - 3s 2ms/sample - loss: 0.1660 - acc: 0.9294\n",
      "Epoch 9/10\n",
      "1800/1800 [==============================] - 3s 2ms/sample - loss: 0.1878 - acc: 0.9272\n",
      "Epoch 10/10\n",
      "1800/1800 [==============================] - 3s 2ms/sample - loss: 0.1295 - acc: 0.9517\n",
      "1800/1800 [==============================] - 2s 986us/sample - loss: 0.0925 - acc: 0.9672\n"
     ]
    },
    {
     "data": {
      "text/plain": [
       "[0.09251788575202227, 0.9672222]"
      ]
     },
     "execution_count": 9,
     "metadata": {},
     "output_type": "execute_result"
    }
   ],
   "source": [
    "model = tf.keras.models.Sequential([\n",
    "  tf.keras.layers.Conv2D(22, 3, strides=(4, 4), input_shape=(224, 224, 3), activation='relu'),\n",
    "  tf.keras.layers.MaxPool2D(pool_size=(4, 4)),\n",
    "  tf.keras.layers.Dropout(0.1),\n",
    "  tf.keras.layers.Conv2D(46, 3, activation='sigmoid'),\n",
    "  tf.keras.layers.Flatten(),\n",
    "  tf.keras.layers.Dense(4, activation=tf.nn.softmax)\n",
    "])\n",
    "model.compile(optimizer='adam',  \n",
    "              loss='sparse_categorical_crossentropy',\n",
    "              metrics=['accuracy'])\n",
    "\n",
    "model.fit(x_train, y_train, epochs=10)\n",
    "model.evaluate(x_test, y_test)"
   ]
  },
  {
   "cell_type": "code",
   "execution_count": null,
   "metadata": {
    "collapsed": true
   },
   "outputs": [],
   "source": []
  }
 ],
 "metadata": {
  "kernelspec": {
   "display_name": "Python 3",
   "language": "python",
   "name": "python3"
  },
  "language_info": {
   "codemirror_mode": {
    "name": "ipython",
    "version": 3
   },
   "file_extension": ".py",
   "mimetype": "text/x-python",
   "name": "python",
   "nbconvert_exporter": "python",
   "pygments_lexer": "ipython3",
   "version": "3.6.3"
  }
 },
 "nbformat": 4,
 "nbformat_minor": 2
}
