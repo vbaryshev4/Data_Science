{
 "cells": [
  {
   "cell_type": "markdown",
   "metadata": {},
   "source": [
    "# ДПО"
   ]
  },
  {
   "cell_type": "markdown",
   "metadata": {},
   "source": [
    "## Домашнее задание NN_L1\n",
    "\n",
    "Задания 1-10 - обязательные <br>\n",
    "Задание 11 - опциональное <br>\n",
    "Выполнять задания необходимо без использования numpy (только TensorFlow / PyTorch) "
   ]
  },
  {
   "cell_type": "markdown",
   "metadata": {},
   "source": [
    "### 1) Импортируйте tensorflow"
   ]
  },
  {
   "cell_type": "code",
   "execution_count": 1,
   "metadata": {},
   "outputs": [
    {
     "name": "stderr",
     "output_type": "stream",
     "text": [
      "/anaconda3/lib/python3.6/importlib/_bootstrap.py:219: RuntimeWarning: numpy.dtype size changed, may indicate binary incompatibility. Expected 96, got 88\n",
      "  return f(*args, **kwds)\n",
      "/anaconda3/lib/python3.6/site-packages/h5py/__init__.py:34: FutureWarning: Conversion of the second argument of issubdtype from `float` to `np.floating` is deprecated. In future, it will be treated as `np.float64 == np.dtype(float).type`.\n",
      "  from ._conv import register_converters as _register_converters\n",
      "/anaconda3/lib/python3.6/importlib/_bootstrap.py:219: RuntimeWarning: numpy.dtype size changed, may indicate binary incompatibility. Expected 96, got 88\n",
      "  return f(*args, **kwds)\n"
     ]
    }
   ],
   "source": [
    "import tensorflow as tf"
   ]
  },
  {
   "cell_type": "markdown",
   "metadata": {},
   "source": [
    "### 2) Определите два Placeholder-a A(передайте 4) и B(передайте 3) и две переменных a(инициализируйте - 2-кой) и b(инициализируйте - 1) и в рамках tf-сессии сложите их"
   ]
  },
  {
   "cell_type": "code",
   "execution_count": 2,
   "metadata": {
    "collapsed": true
   },
   "outputs": [],
   "source": [
    "tf.reset_default_graph()"
   ]
  },
  {
   "cell_type": "code",
   "execution_count": 3,
   "metadata": {
    "collapsed": true
   },
   "outputs": [],
   "source": [
    "def run_model(x):\n",
    "    with tf.Session() as sess:\n",
    "        print(sess.run(x))"
   ]
  },
  {
   "cell_type": "code",
   "execution_count": 4,
   "metadata": {
    "collapsed": true
   },
   "outputs": [],
   "source": [
    "A = tf.placeholder(dtype=tf.float16,shape=[1])\n",
    "B = tf.placeholder(dtype=tf.float16,shape=[1])"
   ]
  },
  {
   "cell_type": "code",
   "execution_count": 5,
   "metadata": {},
   "outputs": [
    {
     "name": "stdout",
     "output_type": "stream",
     "text": [
      "3.0\n"
     ]
    }
   ],
   "source": [
    "y = A + B\n",
    "with tf.Session() as sess:\n",
    "    a = [2,]\n",
    "    b = [1,]\n",
    "    result = sess.run(y, feed_dict={A: a, B: b})\n",
    "    print(result[0])"
   ]
  },
  {
   "cell_type": "markdown",
   "metadata": {},
   "source": [
    "### 3) Создайте 1D Tensor от 0 до 10 с шагом 2 - [0, 2, 4, 6, 8]"
   ]
  },
  {
   "cell_type": "code",
   "execution_count": 6,
   "metadata": {
    "collapsed": true
   },
   "outputs": [],
   "source": [
    "a = tf.constant((0, 2, 4, 6, 8), shape=[1, 5])"
   ]
  },
  {
   "cell_type": "code",
   "execution_count": 7,
   "metadata": {},
   "outputs": [
    {
     "data": {
      "text/plain": [
       "(tensorflow.python.framework.ops.Tensor,\n",
       " TensorShape([Dimension(1), Dimension(5)]))"
      ]
     },
     "execution_count": 7,
     "metadata": {},
     "output_type": "execute_result"
    }
   ],
   "source": [
    "type(a), a.shape"
   ]
  },
  {
   "cell_type": "code",
   "execution_count": 8,
   "metadata": {
    "collapsed": true
   },
   "outputs": [],
   "source": [
    "def print_run(x):\n",
    "    with tf.Session() as sess:\n",
    "        print(sess.run(x[0]))"
   ]
  },
  {
   "cell_type": "code",
   "execution_count": 9,
   "metadata": {},
   "outputs": [
    {
     "name": "stdout",
     "output_type": "stream",
     "text": [
      "[0 2 4 6 8]\n"
     ]
    }
   ],
   "source": [
    "print_run(a)"
   ]
  },
  {
   "cell_type": "markdown",
   "metadata": {},
   "source": [
    "### 4) Отфильтруйте каждое второе значение вектора созданного на предыдущего шаге"
   ]
  },
  {
   "cell_type": "code",
   "execution_count": 10,
   "metadata": {
    "collapsed": true
   },
   "outputs": [],
   "source": [
    "def print_run(x):\n",
    "    with tf.Session() as sess:\n",
    "        print(sess.run(x[0][::2]))"
   ]
  },
  {
   "cell_type": "code",
   "execution_count": 11,
   "metadata": {},
   "outputs": [
    {
     "name": "stdout",
     "output_type": "stream",
     "text": [
      "[0 4 8]\n"
     ]
    }
   ],
   "source": [
    "print_run(a)"
   ]
  },
  {
   "cell_type": "markdown",
   "metadata": {},
   "source": [
    "### 5) Создайте матрицу 3х3, где значения будут \n",
    "[0, 1, 2],<br>\n",
    "       [3, 4, 5],<br>\n",
    "       [6, 7, 8]<br>"
   ]
  },
  {
   "cell_type": "code",
   "execution_count": 12,
   "metadata": {
    "collapsed": true
   },
   "outputs": [],
   "source": [
    "m = tf.constant([i for i in range(9)], shape=[3, 3])"
   ]
  },
  {
   "cell_type": "code",
   "execution_count": 13,
   "metadata": {
    "collapsed": true
   },
   "outputs": [],
   "source": [
    "def print_run(x):\n",
    "    with tf.Session() as sess:\n",
    "        print(sess.run(x))"
   ]
  },
  {
   "cell_type": "code",
   "execution_count": 14,
   "metadata": {},
   "outputs": [
    {
     "name": "stdout",
     "output_type": "stream",
     "text": [
      "[[0 1 2]\n",
      " [3 4 5]\n",
      " [6 7 8]]\n"
     ]
    }
   ],
   "source": [
    "print_run(m)"
   ]
  },
  {
   "cell_type": "markdown",
   "metadata": {},
   "source": [
    "### 6) Посчитайте среднее значение, сумму, а также максимум вектора a = [1,2,3,4,5,6,7,8,9]"
   ]
  },
  {
   "cell_type": "code",
   "execution_count": 15,
   "metadata": {
    "collapsed": true
   },
   "outputs": [],
   "source": [
    "def count_vals(vector, message='Vector:'):\n",
    "    with tf.Session() as sess:\n",
    "        print(message,'\\n', sess.run(vector), '\\n')"
   ]
  },
  {
   "cell_type": "code",
   "execution_count": 16,
   "metadata": {
    "collapsed": true
   },
   "outputs": [],
   "source": [
    "a = tf.constant([1,2,3,4,5,6,7,8,9], shape=[1, 9])"
   ]
  },
  {
   "cell_type": "code",
   "execution_count": 17,
   "metadata": {},
   "outputs": [
    {
     "name": "stdout",
     "output_type": "stream",
     "text": [
      "Vector: \n",
      " [[1 2 3 4 5 6 7 8 9]] \n",
      "\n",
      "Mean: \n",
      " 5 \n",
      "\n",
      "Sum: \n",
      " 45 \n",
      "\n",
      "Maximum: \n",
      " 9 \n",
      "\n"
     ]
    }
   ],
   "source": [
    "count_vals(a)\n",
    "count_vals(tf.reduce_mean(a), 'Mean:')\n",
    "count_vals(tf.reduce_sum(a), 'Sum:')\n",
    "count_vals(tf.reduce_max(a), 'Maximum:')"
   ]
  },
  {
   "cell_type": "markdown",
   "metadata": {},
   "source": [
    "### 7) Создайте матрицу 10х10, где все значения распределены равномерно"
   ]
  },
  {
   "cell_type": "code",
   "execution_count": 18,
   "metadata": {
    "collapsed": true
   },
   "outputs": [],
   "source": [
    "m = tf.random_normal(shape = [10,10], mean=0.0, stddev=1.0, dtype=tf.float32, seed=None)"
   ]
  },
  {
   "cell_type": "code",
   "execution_count": 19,
   "metadata": {},
   "outputs": [
    {
     "name": "stdout",
     "output_type": "stream",
     "text": [
      "Noraml_distr_rand_matrix: \n",
      " [[ 0.5536536  -0.68601555 -0.33274543  0.41006592 -1.3627223   0.00940467\n",
      "  -0.23610571 -0.5506573  -1.1647497   0.47175175]\n",
      " [-0.8671885   0.6913383  -1.9825137   0.53196067 -0.7688289   0.10017394\n",
      "  -1.1220013   0.3201704   1.0575415  -0.17207895]\n",
      " [ 0.9024722   0.8399923   0.06002698  0.18250939  1.3778485   0.4585406\n",
      "   0.19797593 -0.37476918  0.66825694  0.3861043 ]\n",
      " [-0.03894127 -0.6022741   0.9584768   0.8454399  -0.759735    1.0105304\n",
      "  -1.2722307   0.21096192 -0.43001387  2.2198956 ]\n",
      " [ 0.7433753   0.77099705  0.24258552 -2.2024353  -1.5956255  -1.3528985\n",
      "  -0.15054537 -0.03776455  2.6037545  -0.2385672 ]\n",
      " [ 1.2299005   1.0744421  -0.6546588   0.6681518  -0.56165075  0.4022728\n",
      "  -0.5434603   0.27197006 -0.9820175   1.5487027 ]\n",
      " [-1.3074765  -0.8806627  -0.18091047  0.30097237  0.9116619  -0.773027\n",
      "  -0.9533568  -1.9243873   0.10888494  1.2800947 ]\n",
      " [ 0.39818206 -1.283718   -0.10500459 -0.6121134  -0.2781483   0.11781725\n",
      "   0.48893583 -0.21713226 -1.1777163   0.5397507 ]\n",
      " [ 0.32891434 -0.29112574  1.4863546   0.0651196  -1.54609    -1.2399467\n",
      "  -0.10088692  1.5305772  -1.0981473  -0.26221737]\n",
      " [-1.4917592   0.42413902 -1.0284353  -0.52804375 -0.04520381  1.8164465\n",
      "   2.2681851  -1.1171699   0.00793927 -0.16660295]] \n",
      "\n"
     ]
    }
   ],
   "source": [
    "count_vals(m, 'Noraml_distr_rand_matrix:')"
   ]
  },
  {
   "cell_type": "markdown",
   "metadata": {},
   "source": [
    "### 8) Создайте матрицу 5х5 где все значения -1, а на главной диагонали +1 "
   ]
  },
  {
   "cell_type": "code",
   "execution_count": 20,
   "metadata": {},
   "outputs": [
    {
     "name": "stdout",
     "output_type": "stream",
     "text": [
      "Diag_matrix: \n",
      " [[-1  0  0  0  0]\n",
      " [ 0 -1  0  0  0]\n",
      " [ 0  0 -1  0  0]\n",
      " [ 0  0  0 -1  0]\n",
      " [ 0  0  0  0 -1]] \n",
      "\n"
     ]
    }
   ],
   "source": [
    "m = tf.diag([-1]*5)\n",
    "count_vals(m, 'Diag_matrix:')"
   ]
  },
  {
   "cell_type": "markdown",
   "metadata": {},
   "source": [
    "### 9) Разбейте вектор a = [1,2,3,4,5,6,7,8] на два"
   ]
  },
  {
   "cell_type": "code",
   "execution_count": 21,
   "metadata": {},
   "outputs": [
    {
     "name": "stdout",
     "output_type": "stream",
     "text": [
      "Splitted vector: \n",
      " [array([1, 2, 3, 4], dtype=int32), array([5, 6, 7, 8], dtype=int32)] \n",
      "\n"
     ]
    }
   ],
   "source": [
    "v = tf.constant([1,2,3,4,5,6,7,8], shape=[1, 8])\n",
    "count_vals(tf.split(v[0],2), 'Splitted vector:')"
   ]
  },
  {
   "cell_type": "markdown",
   "metadata": {},
   "source": [
    "### 10) Даны точки x и y, восстановите зависимость:"
   ]
  },
  {
   "cell_type": "code",
   "execution_count": 35,
   "metadata": {
    "collapsed": true
   },
   "outputs": [],
   "source": [
    "import numpy as np\n",
    "from matplotlib.pylab import plt\n",
    "%matplotlib inline\n",
    "tf.reset_default_graph()\n",
    "# x = np.linspace(-10,10,100)\n",
    "# y = (x**2)+(3.2*x)+2.4+np.random.normal(scale=6,size=100)\n",
    "x = tf.random_uniform((100,1),-10,10)\n",
    "y = (x**2)+(3.0*x)+2.4+tf.random_normal((100,1),-10,10)"
   ]
  },
  {
   "cell_type": "code",
   "execution_count": 36,
   "metadata": {},
   "outputs": [
    {
     "data": {
      "image/png": "[encoded data removed]",
      "text/plain": [
       "<matplotlib.figure.Figure at 0x11a584390>"
      ]
     },
     "metadata": {},
     "output_type": "display_data"
    }
   ],
   "source": [
    "with tf.Session() as sess:\n",
    "    x_numpy,y_numpy = sess.run([x,y])\n",
    "    plt.scatter(x_numpy,y_numpy)"
   ]
  },
  {
   "cell_type": "code",
   "execution_count": 37,
   "metadata": {},
   "outputs": [],
   "source": [
    "a = tf.get_variable(name=\"weight_1\", shape=[1]) \n",
    "b = tf.get_variable(name=\"weight_2\", shape=[1])\n",
    "c = tf.get_variable(name=\"bias\", shape=[1])"
   ]
  },
  {
   "cell_type": "code",
   "execution_count": 38,
   "metadata": {},
   "outputs": [
    {
     "ename": "ValueError",
     "evalue": "slice index 1 of dimension 0 out of bounds. for 'strided_slice_1' (op: 'StridedSlice') with input shapes: [1], [1], [1], [1] and with computed input tensors: input[1] = <1>, input[2] = <2>, input[3] = <1>.",
     "output_type": "error",
     "traceback": [
      "\u001b[0;31m---------------------------------------------------------------------------\u001b[0m",
      "\u001b[0;31mInvalidArgumentError\u001b[0m                      Traceback (most recent call last)",
      "\u001b[0;32m/anaconda3/lib/python3.6/site-packages/tensorflow/python/framework/common_shapes.py\u001b[0m in \u001b[0;36m_call_cpp_shape_fn_impl\u001b[0;34m(op, input_tensors_needed, input_tensors_as_shapes_needed, require_shape_fn)\u001b[0m\n\u001b[1;32m    685\u001b[0m           \u001b[0mgraph_def_version\u001b[0m\u001b[0;34m,\u001b[0m \u001b[0mnode_def_str\u001b[0m\u001b[0;34m,\u001b[0m \u001b[0minput_shapes\u001b[0m\u001b[0;34m,\u001b[0m \u001b[0minput_tensors\u001b[0m\u001b[0;34m,\u001b[0m\u001b[0;34m\u001b[0m\u001b[0m\n\u001b[0;32m--> 686\u001b[0;31m           input_tensors_as_shapes, status)\n\u001b[0m\u001b[1;32m    687\u001b[0m   \u001b[0;32mexcept\u001b[0m \u001b[0merrors\u001b[0m\u001b[0;34m.\u001b[0m\u001b[0mInvalidArgumentError\u001b[0m \u001b[0;32mas\u001b[0m \u001b[0merr\u001b[0m\u001b[0;34m:\u001b[0m\u001b[0;34m\u001b[0m\u001b[0m\n",
      "\u001b[0;32m/anaconda3/lib/python3.6/site-packages/tensorflow/python/framework/errors_impl.py\u001b[0m in \u001b[0;36m__exit__\u001b[0;34m(self, type_arg, value_arg, traceback_arg)\u001b[0m\n\u001b[1;32m    472\u001b[0m             \u001b[0mcompat\u001b[0m\u001b[0;34m.\u001b[0m\u001b[0mas_text\u001b[0m\u001b[0;34m(\u001b[0m\u001b[0mc_api\u001b[0m\u001b[0;34m.\u001b[0m\u001b[0mTF_Message\u001b[0m\u001b[0;34m(\u001b[0m\u001b[0mself\u001b[0m\u001b[0;34m.\u001b[0m\u001b[0mstatus\u001b[0m\u001b[0;34m.\u001b[0m\u001b[0mstatus\u001b[0m\u001b[0;34m)\u001b[0m\u001b[0;34m)\u001b[0m\u001b[0;34m,\u001b[0m\u001b[0;34m\u001b[0m\u001b[0m\n\u001b[0;32m--> 473\u001b[0;31m             c_api.TF_GetCode(self.status.status))\n\u001b[0m\u001b[1;32m    474\u001b[0m     \u001b[0;31m# Delete the underlying status object from memory otherwise it stays alive\u001b[0m\u001b[0;34m\u001b[0m\u001b[0;34m\u001b[0m\u001b[0m\n",
      "\u001b[0;31mInvalidArgumentError\u001b[0m: slice index 1 of dimension 0 out of bounds. for 'strided_slice_1' (op: 'StridedSlice') with input shapes: [1], [1], [1], [1] and with computed input tensors: input[1] = <1>, input[2] = <2>, input[3] = <1>.",
      "\nDuring handling of the above exception, another exception occurred:\n",
      "\u001b[0;31mValueError\u001b[0m                                Traceback (most recent call last)",
      "\u001b[0;32m<ipython-input-38-8a1109bb48f0>\u001b[0m in \u001b[0;36m<module>\u001b[0;34m()\u001b[0m\n\u001b[0;32m----> 1\u001b[0;31m \u001b[0my_\u001b[0m \u001b[0;34m=\u001b[0m \u001b[0ma\u001b[0m\u001b[0;34m[\u001b[0m\u001b[0;36m0\u001b[0m\u001b[0;34m]\u001b[0m\u001b[0;34m*\u001b[0m\u001b[0;34m(\u001b[0m\u001b[0mx\u001b[0m\u001b[0;34m**\u001b[0m\u001b[0;36m2\u001b[0m\u001b[0;34m)\u001b[0m \u001b[0;34m+\u001b[0m \u001b[0mx\u001b[0m\u001b[0;34m*\u001b[0m\u001b[0ma\u001b[0m\u001b[0;34m[\u001b[0m\u001b[0;36m1\u001b[0m\u001b[0;34m]\u001b[0m \u001b[0;34m+\u001b[0m \u001b[0mc\u001b[0m\u001b[0;34m\u001b[0m\u001b[0m\n\u001b[0m",
      "\u001b[0;32m/anaconda3/lib/python3.6/site-packages/tensorflow/python/ops/array_ops.py\u001b[0m in \u001b[0;36m_SliceHelperVar\u001b[0;34m(var, slice_spec)\u001b[0m\n\u001b[1;32m    778\u001b[0m   \"\"\"\n\u001b[1;32m    779\u001b[0m \u001b[0;34m\u001b[0m\u001b[0m\n\u001b[0;32m--> 780\u001b[0;31m   \u001b[0;32mreturn\u001b[0m \u001b[0m_SliceHelper\u001b[0m\u001b[0;34m(\u001b[0m\u001b[0mvar\u001b[0m\u001b[0;34m.\u001b[0m\u001b[0m_AsTensor\u001b[0m\u001b[0;34m(\u001b[0m\u001b[0;34m)\u001b[0m\u001b[0;34m,\u001b[0m \u001b[0mslice_spec\u001b[0m\u001b[0;34m,\u001b[0m \u001b[0mvar\u001b[0m\u001b[0;34m)\u001b[0m\u001b[0;34m\u001b[0m\u001b[0m\n\u001b[0m\u001b[1;32m    781\u001b[0m \u001b[0;34m\u001b[0m\u001b[0m\n\u001b[1;32m    782\u001b[0m \u001b[0;34m\u001b[0m\u001b[0m\n",
      "\u001b[0;32m/anaconda3/lib/python3.6/site-packages/tensorflow/python/ops/array_ops.py\u001b[0m in \u001b[0;36m_SliceHelper\u001b[0;34m(tensor, slice_spec, var)\u001b[0m\n\u001b[1;32m    536\u001b[0m         \u001b[0mellipsis_mask\u001b[0m\u001b[0;34m=\u001b[0m\u001b[0mellipsis_mask\u001b[0m\u001b[0;34m,\u001b[0m\u001b[0;34m\u001b[0m\u001b[0m\n\u001b[1;32m    537\u001b[0m         \u001b[0mvar\u001b[0m\u001b[0;34m=\u001b[0m\u001b[0mvar\u001b[0m\u001b[0;34m,\u001b[0m\u001b[0;34m\u001b[0m\u001b[0m\n\u001b[0;32m--> 538\u001b[0;31m         name=name)\n\u001b[0m\u001b[1;32m    539\u001b[0m \u001b[0;34m\u001b[0m\u001b[0m\n\u001b[1;32m    540\u001b[0m \u001b[0;34m\u001b[0m\u001b[0m\n",
      "\u001b[0;32m/anaconda3/lib/python3.6/site-packages/tensorflow/python/ops/array_ops.py\u001b[0m in \u001b[0;36mstrided_slice\u001b[0;34m(input_, begin, end, strides, begin_mask, end_mask, ellipsis_mask, new_axis_mask, shrink_axis_mask, var, name)\u001b[0m\n\u001b[1;32m    704\u001b[0m       \u001b[0mellipsis_mask\u001b[0m\u001b[0;34m=\u001b[0m\u001b[0mellipsis_mask\u001b[0m\u001b[0;34m,\u001b[0m\u001b[0;34m\u001b[0m\u001b[0m\n\u001b[1;32m    705\u001b[0m       \u001b[0mnew_axis_mask\u001b[0m\u001b[0;34m=\u001b[0m\u001b[0mnew_axis_mask\u001b[0m\u001b[0;34m,\u001b[0m\u001b[0;34m\u001b[0m\u001b[0m\n\u001b[0;32m--> 706\u001b[0;31m       shrink_axis_mask=shrink_axis_mask)\n\u001b[0m\u001b[1;32m    707\u001b[0m \u001b[0;34m\u001b[0m\u001b[0m\n\u001b[1;32m    708\u001b[0m   \u001b[0mparent_name\u001b[0m \u001b[0;34m=\u001b[0m \u001b[0mname\u001b[0m\u001b[0;34m\u001b[0m\u001b[0m\n",
      "\u001b[0;32m/anaconda3/lib/python3.6/site-packages/tensorflow/python/ops/gen_array_ops.py\u001b[0m in \u001b[0;36mstrided_slice\u001b[0;34m(input, begin, end, strides, begin_mask, end_mask, ellipsis_mask, new_axis_mask, shrink_axis_mask, name)\u001b[0m\n\u001b[1;32m   5428\u001b[0m         \u001b[0mbegin_mask\u001b[0m\u001b[0;34m=\u001b[0m\u001b[0mbegin_mask\u001b[0m\u001b[0;34m,\u001b[0m \u001b[0mend_mask\u001b[0m\u001b[0;34m=\u001b[0m\u001b[0mend_mask\u001b[0m\u001b[0;34m,\u001b[0m \u001b[0mellipsis_mask\u001b[0m\u001b[0;34m=\u001b[0m\u001b[0mellipsis_mask\u001b[0m\u001b[0;34m,\u001b[0m\u001b[0;34m\u001b[0m\u001b[0m\n\u001b[1;32m   5429\u001b[0m         \u001b[0mnew_axis_mask\u001b[0m\u001b[0;34m=\u001b[0m\u001b[0mnew_axis_mask\u001b[0m\u001b[0;34m,\u001b[0m \u001b[0mshrink_axis_mask\u001b[0m\u001b[0;34m=\u001b[0m\u001b[0mshrink_axis_mask\u001b[0m\u001b[0;34m,\u001b[0m\u001b[0;34m\u001b[0m\u001b[0m\n\u001b[0;32m-> 5430\u001b[0;31m         name=name)\n\u001b[0m\u001b[1;32m   5431\u001b[0m     \u001b[0m_result\u001b[0m \u001b[0;34m=\u001b[0m \u001b[0m_op\u001b[0m\u001b[0;34m.\u001b[0m\u001b[0moutputs\u001b[0m\u001b[0;34m[\u001b[0m\u001b[0;34m:\u001b[0m\u001b[0;34m]\u001b[0m\u001b[0;34m\u001b[0m\u001b[0m\n\u001b[1;32m   5432\u001b[0m     \u001b[0m_inputs_flat\u001b[0m \u001b[0;34m=\u001b[0m \u001b[0m_op\u001b[0m\u001b[0;34m.\u001b[0m\u001b[0minputs\u001b[0m\u001b[0;34m\u001b[0m\u001b[0m\n",
      "\u001b[0;32m/anaconda3/lib/python3.6/site-packages/tensorflow/python/framework/op_def_library.py\u001b[0m in \u001b[0;36m_apply_op_helper\u001b[0;34m(self, op_type_name, name, **keywords)\u001b[0m\n\u001b[1;32m    785\u001b[0m         op = g.create_op(op_type_name, inputs, output_types, name=scope,\n\u001b[1;32m    786\u001b[0m                          \u001b[0minput_types\u001b[0m\u001b[0;34m=\u001b[0m\u001b[0minput_types\u001b[0m\u001b[0;34m,\u001b[0m \u001b[0mattrs\u001b[0m\u001b[0;34m=\u001b[0m\u001b[0mattr_protos\u001b[0m\u001b[0;34m,\u001b[0m\u001b[0;34m\u001b[0m\u001b[0m\n\u001b[0;32m--> 787\u001b[0;31m                          op_def=op_def)\n\u001b[0m\u001b[1;32m    788\u001b[0m       \u001b[0;32mreturn\u001b[0m \u001b[0moutput_structure\u001b[0m\u001b[0;34m,\u001b[0m \u001b[0mop_def\u001b[0m\u001b[0;34m.\u001b[0m\u001b[0mis_stateful\u001b[0m\u001b[0;34m,\u001b[0m \u001b[0mop\u001b[0m\u001b[0;34m\u001b[0m\u001b[0m\n\u001b[1;32m    789\u001b[0m \u001b[0;34m\u001b[0m\u001b[0m\n",
      "\u001b[0;32m/anaconda3/lib/python3.6/site-packages/tensorflow/python/framework/ops.py\u001b[0m in \u001b[0;36mcreate_op\u001b[0;34m(self, op_type, inputs, dtypes, input_types, name, attrs, op_def, compute_shapes, compute_device)\u001b[0m\n\u001b[1;32m   2956\u001b[0m         op_def=op_def)\n\u001b[1;32m   2957\u001b[0m     \u001b[0;32mif\u001b[0m \u001b[0mcompute_shapes\u001b[0m\u001b[0;34m:\u001b[0m\u001b[0;34m\u001b[0m\u001b[0m\n\u001b[0;32m-> 2958\u001b[0;31m       \u001b[0mset_shapes_for_outputs\u001b[0m\u001b[0;34m(\u001b[0m\u001b[0mret\u001b[0m\u001b[0;34m)\u001b[0m\u001b[0;34m\u001b[0m\u001b[0m\n\u001b[0m\u001b[1;32m   2959\u001b[0m     \u001b[0mself\u001b[0m\u001b[0;34m.\u001b[0m\u001b[0m_add_op\u001b[0m\u001b[0;34m(\u001b[0m\u001b[0mret\u001b[0m\u001b[0;34m)\u001b[0m\u001b[0;34m\u001b[0m\u001b[0m\n\u001b[1;32m   2960\u001b[0m     \u001b[0mself\u001b[0m\u001b[0;34m.\u001b[0m\u001b[0m_record_op_seen_by_control_dependencies\u001b[0m\u001b[0;34m(\u001b[0m\u001b[0mret\u001b[0m\u001b[0;34m)\u001b[0m\u001b[0;34m\u001b[0m\u001b[0m\n",
      "\u001b[0;32m/anaconda3/lib/python3.6/site-packages/tensorflow/python/framework/ops.py\u001b[0m in \u001b[0;36mset_shapes_for_outputs\u001b[0;34m(op)\u001b[0m\n\u001b[1;32m   2207\u001b[0m       \u001b[0mshape_func\u001b[0m \u001b[0;34m=\u001b[0m \u001b[0m_call_cpp_shape_fn_and_require_op\u001b[0m\u001b[0;34m\u001b[0m\u001b[0m\n\u001b[1;32m   2208\u001b[0m \u001b[0;34m\u001b[0m\u001b[0m\n\u001b[0;32m-> 2209\u001b[0;31m   \u001b[0mshapes\u001b[0m \u001b[0;34m=\u001b[0m \u001b[0mshape_func\u001b[0m\u001b[0;34m(\u001b[0m\u001b[0mop\u001b[0m\u001b[0;34m)\u001b[0m\u001b[0;34m\u001b[0m\u001b[0m\n\u001b[0m\u001b[1;32m   2210\u001b[0m   \u001b[0;32mif\u001b[0m \u001b[0mshapes\u001b[0m \u001b[0;32mis\u001b[0m \u001b[0;32mNone\u001b[0m\u001b[0;34m:\u001b[0m\u001b[0;34m\u001b[0m\u001b[0m\n\u001b[1;32m   2211\u001b[0m     raise RuntimeError(\n",
      "\u001b[0;32m/anaconda3/lib/python3.6/site-packages/tensorflow/python/framework/ops.py\u001b[0m in \u001b[0;36mcall_with_requiring\u001b[0;34m(op)\u001b[0m\n\u001b[1;32m   2157\u001b[0m \u001b[0;34m\u001b[0m\u001b[0m\n\u001b[1;32m   2158\u001b[0m   \u001b[0;32mdef\u001b[0m \u001b[0mcall_with_requiring\u001b[0m\u001b[0;34m(\u001b[0m\u001b[0mop\u001b[0m\u001b[0;34m)\u001b[0m\u001b[0;34m:\u001b[0m\u001b[0;34m\u001b[0m\u001b[0m\n\u001b[0;32m-> 2159\u001b[0;31m     \u001b[0;32mreturn\u001b[0m \u001b[0mcall_cpp_shape_fn\u001b[0m\u001b[0;34m(\u001b[0m\u001b[0mop\u001b[0m\u001b[0;34m,\u001b[0m \u001b[0mrequire_shape_fn\u001b[0m\u001b[0;34m=\u001b[0m\u001b[0;32mTrue\u001b[0m\u001b[0;34m)\u001b[0m\u001b[0;34m\u001b[0m\u001b[0m\n\u001b[0m\u001b[1;32m   2160\u001b[0m \u001b[0;34m\u001b[0m\u001b[0m\n\u001b[1;32m   2161\u001b[0m   \u001b[0m_call_cpp_shape_fn_and_require_op\u001b[0m \u001b[0;34m=\u001b[0m \u001b[0mcall_with_requiring\u001b[0m\u001b[0;34m\u001b[0m\u001b[0m\n",
      "\u001b[0;32m/anaconda3/lib/python3.6/site-packages/tensorflow/python/framework/common_shapes.py\u001b[0m in \u001b[0;36mcall_cpp_shape_fn\u001b[0;34m(op, require_shape_fn)\u001b[0m\n\u001b[1;32m    625\u001b[0m     res = _call_cpp_shape_fn_impl(op, input_tensors_needed,\n\u001b[1;32m    626\u001b[0m                                   \u001b[0minput_tensors_as_shapes_needed\u001b[0m\u001b[0;34m,\u001b[0m\u001b[0;34m\u001b[0m\u001b[0m\n\u001b[0;32m--> 627\u001b[0;31m                                   require_shape_fn)\n\u001b[0m\u001b[1;32m    628\u001b[0m     \u001b[0;32mif\u001b[0m \u001b[0;32mnot\u001b[0m \u001b[0misinstance\u001b[0m\u001b[0;34m(\u001b[0m\u001b[0mres\u001b[0m\u001b[0;34m,\u001b[0m \u001b[0mdict\u001b[0m\u001b[0;34m)\u001b[0m\u001b[0;34m:\u001b[0m\u001b[0;34m\u001b[0m\u001b[0m\n\u001b[1;32m    629\u001b[0m       \u001b[0;31m# Handles the case where _call_cpp_shape_fn_impl calls unknown_shape(op).\u001b[0m\u001b[0;34m\u001b[0m\u001b[0;34m\u001b[0m\u001b[0m\n",
      "\u001b[0;32m/anaconda3/lib/python3.6/site-packages/tensorflow/python/framework/common_shapes.py\u001b[0m in \u001b[0;36m_call_cpp_shape_fn_impl\u001b[0;34m(op, input_tensors_needed, input_tensors_as_shapes_needed, require_shape_fn)\u001b[0m\n\u001b[1;32m    689\u001b[0m       \u001b[0mmissing_shape_fn\u001b[0m \u001b[0;34m=\u001b[0m \u001b[0;32mTrue\u001b[0m\u001b[0;34m\u001b[0m\u001b[0m\n\u001b[1;32m    690\u001b[0m     \u001b[0;32melse\u001b[0m\u001b[0;34m:\u001b[0m\u001b[0;34m\u001b[0m\u001b[0m\n\u001b[0;32m--> 691\u001b[0;31m       \u001b[0;32mraise\u001b[0m \u001b[0mValueError\u001b[0m\u001b[0;34m(\u001b[0m\u001b[0merr\u001b[0m\u001b[0;34m.\u001b[0m\u001b[0mmessage\u001b[0m\u001b[0;34m)\u001b[0m\u001b[0;34m\u001b[0m\u001b[0m\n\u001b[0m\u001b[1;32m    692\u001b[0m \u001b[0;34m\u001b[0m\u001b[0m\n\u001b[1;32m    693\u001b[0m   \u001b[0;32mif\u001b[0m \u001b[0mmissing_shape_fn\u001b[0m\u001b[0;34m:\u001b[0m\u001b[0;34m\u001b[0m\u001b[0m\n",
      "\u001b[0;31mValueError\u001b[0m: slice index 1 of dimension 0 out of bounds. for 'strided_slice_1' (op: 'StridedSlice') with input shapes: [1], [1], [1], [1] and with computed input tensors: input[1] = <1>, input[2] = <2>, input[3] = <1>."
     ]
    }
   ],
   "source": [
    "y_ = a[0]*(x**2) + x*a[1] + c"
   ]
  },
  {
   "cell_type": "code",
   "execution_count": 26,
   "metadata": {
    "collapsed": true
   },
   "outputs": [],
   "source": [
    "loss = tf.losses.mean_squared_error(y,y_)"
   ]
  },
  {
   "cell_type": "code",
   "execution_count": 27,
   "metadata": {
    "collapsed": true
   },
   "outputs": [],
   "source": [
    "optimizer = tf.train.GradientDescentOptimizer(learning_rate=0.00001).minimize(loss)"
   ]
  },
  {
   "cell_type": "code",
   "execution_count": 28,
   "metadata": {},
   "outputs": [
    {
     "name": "stdout",
     "output_type": "stream",
     "text": [
      "4592.0435\n",
      "1255.189\n",
      "654.5172\n",
      "442.54895\n",
      "519.1946\n",
      "570.51196\n",
      "539.23334\n",
      "577.4142\n",
      "536.0581\n",
      "524.24927\n",
      "393.9026\n",
      "472.79773\n",
      "408.2274\n",
      "457.36188\n",
      "441.1118\n",
      "452.48517\n",
      "381.2779\n",
      "309.83444\n",
      "386.48257\n",
      "396.46405\n",
      "393.50702\n",
      "413.22742\n",
      "342.07278\n",
      "342.74594\n",
      "337.0047\n",
      "314.20474\n",
      "278.4359\n",
      "355.7013\n",
      "294.4678\n",
      "285.0885\n",
      "316.09882\n",
      "265.53122\n",
      "281.72385\n",
      "300.22482\n",
      "289.074\n",
      "232.73373\n",
      "264.88574\n",
      "278.3153\n",
      "223.40714\n",
      "288.3684\n",
      "363.8082\n",
      "264.5877\n",
      "200.75713\n",
      "242.11928\n",
      "236.09973\n",
      "228.0523\n",
      "214.34618\n",
      "243.27063\n",
      "252.88733\n",
      "218.16533\n",
      "219.8907\n",
      "179.861\n",
      "196.81615\n",
      "166.05461\n",
      "231.74654\n",
      "202.98967\n",
      "187.7046\n",
      "204.13171\n",
      "228.03404\n",
      "178.77739\n",
      "240.71548\n",
      "173.60396\n",
      "222.77762\n",
      "201.92577\n",
      "176.5092\n",
      "163.84584\n",
      "206.46138\n",
      "144.57819\n",
      "140.86656\n",
      "178.3023\n",
      "186.41339\n",
      "144.86182\n",
      "187.64641\n",
      "168.47699\n",
      "185.3127\n",
      "156.01427\n",
      "159.60213\n",
      "188.7457\n",
      "167.35626\n",
      "165.57799\n",
      "181.26122\n",
      "162.89902\n",
      "159.48247\n",
      "138.69559\n",
      "148.31802\n",
      "130.92418\n",
      "142.26959\n",
      "135.285\n",
      "176.99806\n",
      "138.11812\n",
      "130.54694\n",
      "112.80593\n",
      "151.56339\n",
      "125.04894\n",
      "142.47375\n",
      "141.76607\n",
      "119.6855\n",
      "148.8771\n",
      "135.68425\n",
      "143.50294\n",
      "154.8842\n",
      "133.29445\n",
      "97.96579\n",
      "112.61619\n",
      "131.7918\n",
      "144.6446\n",
      "105.39153\n",
      "125.81535\n",
      "157.86107\n",
      "144.90038\n",
      "107.11493\n",
      "123.67721\n",
      "128.4161\n",
      "133.8686\n",
      "121.395775\n",
      "112.20586\n",
      "137.84169\n",
      "122.985306\n",
      "136.22337\n",
      "156.76268\n",
      "159.74461\n",
      "104.32211\n",
      "137.29631\n",
      "124.81117\n",
      "151.99797\n",
      "139.33022\n",
      "126.596855\n",
      "105.089874\n",
      "99.77894\n",
      "139.22261\n",
      "128.51749\n",
      "137.30139\n",
      "105.01814\n",
      "90.36029\n",
      "110.43837\n",
      "115.02253\n",
      "119.99197\n",
      "144.2768\n",
      "141.47809\n",
      "134.46309\n",
      "118.430244\n",
      "99.16773\n",
      "165.89546\n",
      "137.18355\n",
      "118.95493\n",
      "120.36819\n",
      "128.28622\n",
      "130.77156\n",
      "117.76312\n",
      "163.48149\n",
      "115.098526\n",
      "103.59061\n",
      "107.86339\n",
      "128.12071\n",
      "141.71738\n",
      "143.3173\n",
      "116.87625\n",
      "156.07086\n",
      "144.64748\n",
      "135.95088\n",
      "112.63584\n",
      "133.35556\n",
      "131.00923\n",
      "115.55116\n",
      "128.89142\n",
      "118.9226\n",
      "120.176544\n",
      "113.06159\n",
      "99.87515\n",
      "109.28707\n",
      "102.261345\n",
      "115.239685\n",
      "139.84213\n",
      "122.73127\n",
      "120.212395\n",
      "122.23891\n",
      "143.50201\n",
      "128.94681\n",
      "109.07779\n",
      "110.54931\n",
      "128.49516\n",
      "148.46536\n",
      "94.76221\n",
      "174.76958\n",
      "106.383575\n",
      "128.52347\n",
      "134.33858\n",
      "127.79734\n",
      "114.29446\n",
      "87.758224\n",
      "103.09407\n",
      "102.59501\n",
      "134.06593\n",
      "103.081894\n",
      "131.14325\n",
      "114.286415\n",
      "122.58297\n",
      "145.55415\n",
      "122.760216\n",
      "103.780975\n",
      "111.84145\n",
      "134.01083\n",
      "99.77511\n",
      "110.63671\n",
      "102.90614\n",
      "133.58511\n",
      "127.11674\n",
      "99.394104\n",
      "102.47018\n",
      "143.25136\n",
      "100.806816\n",
      "121.936554\n",
      "108.96204\n",
      "123.43066\n",
      "123.5229\n",
      "101.89778\n",
      "101.76074\n",
      "121.283424\n",
      "108.228386\n",
      "105.29417\n",
      "87.81427\n",
      "111.78403\n",
      "112.46238\n",
      "126.845695\n",
      "110.93502\n",
      "103.42075\n",
      "125.199745\n",
      "95.49627\n",
      "128.2809\n",
      "130.06764\n",
      "124.20457\n",
      "103.40997\n",
      "108.6976\n",
      "118.33765\n",
      "111.54643\n",
      "82.25506\n",
      "100.342224\n",
      "107.94824\n",
      "148.98105\n",
      "108.4615\n",
      "126.15865\n",
      "121.67968\n",
      "118.75756\n",
      "130.77094\n",
      "147.15796\n",
      "126.40873\n",
      "86.86303\n",
      "95.150856\n",
      "125.73911\n",
      "148.67162\n",
      "130.54662\n",
      "150.79123\n",
      "131.22874\n",
      "104.1286\n",
      "134.033\n",
      "111.58793\n",
      "118.33123\n",
      "96.116394\n",
      "128.83185\n",
      "114.07586\n",
      "131.92792\n",
      "141.72725\n",
      "131.26596\n",
      "111.969086\n",
      "116.10305\n",
      "126.46178\n",
      "122.29257\n",
      "123.37353\n",
      "121.09062\n",
      "117.77905\n",
      "117.910965\n",
      "119.87723\n",
      "147.83087\n",
      "87.79554\n",
      "142.32846\n",
      "105.59294\n",
      "97.841095\n",
      "138.03078\n",
      "134.34276\n",
      "112.535576\n",
      "105.96576\n",
      "107.88272\n",
      "117.92232\n",
      "120.751915\n",
      "139.0916\n",
      "137.37172\n",
      "125.32766\n",
      "105.43303\n",
      "141.57602\n",
      "118.7449\n",
      "117.16323\n",
      "98.15878\n",
      "116.57489\n",
      "106.70493\n",
      "128.12613\n",
      "120.95996\n",
      "136.23137\n",
      "138.41129\n",
      "115.636086\n",
      "98.749245\n",
      "128.84944\n",
      "140.4753\n",
      "96.623215\n",
      "140.92972\n",
      "143.46666\n",
      "136.93002\n",
      "129.69559\n",
      "110.88853\n",
      "99.44252\n",
      "103.58994\n",
      "138.38184\n",
      "121.74252\n",
      "99.285126\n",
      "101.417015\n",
      "140.37895\n",
      "94.78453\n",
      "123.51371\n",
      "157.15938\n",
      "110.84439\n",
      "110.87782\n",
      "121.971214\n",
      "136.30722\n",
      "110.2179\n",
      "146.7856\n",
      "124.88035\n",
      "114.072464\n",
      "109.76167\n",
      "114.921875\n",
      "115.38571\n",
      "147.70586\n",
      "116.16404\n",
      "128.25351\n",
      "124.595505\n",
      "120.33162\n",
      "101.17236\n",
      "133.18077\n",
      "130.45966\n",
      "111.41513\n",
      "126.437454\n",
      "113.23677\n",
      "146.98122\n",
      "140.20462\n",
      "129.34341\n",
      "120.13168\n",
      "141.93819\n",
      "108.950066\n",
      "118.687706\n",
      "123.10414\n",
      "111.43481\n",
      "165.65819\n",
      "92.112816\n",
      "138.67783\n",
      "125.97548\n",
      "114.72478\n",
      "122.01086\n",
      "121.36607\n",
      "112.62328\n",
      "147.0186\n",
      "127.009315\n",
      "99.90969\n",
      "137.01404\n",
      "107.38061\n",
      "90.22067\n",
      "119.94949\n",
      "101.350006\n",
      "122.60913\n",
      "128.46379\n",
      "131.89317\n",
      "136.05568\n",
      "132.99516\n",
      "125.05371\n",
      "117.023544\n",
      "110.35073\n",
      "122.2116\n",
      "125.4542\n",
      "143.0194\n",
      "112.7923\n",
      "114.55274\n",
      "134.31735\n",
      "93.33461\n",
      "105.34648\n",
      "108.038826\n",
      "96.16759\n",
      "106.41995\n",
      "113.157715\n",
      "111.61181\n",
      "115.611885\n",
      "117.23637\n",
      "113.90095\n",
      "96.38166\n",
      "85.37553\n",
      "116.56658\n",
      "92.680984\n",
      "147.31436\n",
      "112.18991\n",
      "152.33629\n",
      "113.86513\n",
      "113.75287\n",
      "107.92543\n",
      "118.52031\n"
     ]
    }
   ],
   "source": [
    "with tf.Session() as sess:\n",
    "    sess.run(tf.variables_initializer([a,c]))\n",
    "    for epoch in range(10000):\n",
    "        sess.run(optimizer)\n",
    "        if epoch % 25 == 0:\n",
    "            print(sess.run(loss))\n",
    "    y_preds,x_preds = sess.run([y_,x])"
   ]
  },
  {
   "cell_type": "code",
   "execution_count": 29,
   "metadata": {},
   "outputs": [
    {
     "data": {
      "text/plain": [
       "numpy.ndarray"
      ]
     },
     "execution_count": 29,
     "metadata": {},
     "output_type": "execute_result"
    }
   ],
   "source": [
    "type(x_preds)"
   ]
  },
  {
   "cell_type": "code",
   "execution_count": 30,
   "metadata": {},
   "outputs": [
    {
     "data": {
      "text/plain": [
       "<matplotlib.collections.PathCollection at 0x11a626710>"
      ]
     },
     "execution_count": 30,
     "metadata": {},
     "output_type": "execute_result"
    },
    {
     "data": {
      "image/png": "[encoded data removed]",
      "text/plain": [
       "<matplotlib.figure.Figure at 0x1179bffd0>"
      ]
     },
     "metadata": {},
     "output_type": "display_data"
    }
   ],
   "source": [
    "plt.scatter(x_numpy, y_numpy)\n",
    "plt.scatter(x_preds,y_preds, color='r')"
   ]
  },
  {
   "cell_type": "markdown",
   "metadata": {},
   "source": [
    "### 11) Реализуйте класс TF_LinearRegression c методами как в sklearn.linear_model.LinearRegression (задание с *)"
   ]
  },
  {
   "cell_type": "code",
   "execution_count": null,
   "metadata": {
    "collapsed": true
   },
   "outputs": [],
   "source": [
    "# ...code"
   ]
  },
  {
   "cell_type": "code",
   "execution_count": null,
   "metadata": {
    "collapsed": true
   },
   "outputs": [],
   "source": [
    "# Оставьте свой комментарий по задачам (сложнее, проще, что понравилось, что нет) "
   ]
  }
 ],
 "metadata": {
  "kernelspec": {
   "display_name": "Python 3",
   "language": "python",
   "name": "python3"
  },
  "language_info": {
   "codemirror_mode": {
    "name": "ipython",
    "version": 3
   },
   "file_extension": ".py",
   "mimetype": "text/x-python",
   "name": "python",
   "nbconvert_exporter": "python",
   "pygments_lexer": "ipython3",
   "version": "3.6.3"
  }
 },
 "nbformat": 4,
 "nbformat_minor": 2
}
