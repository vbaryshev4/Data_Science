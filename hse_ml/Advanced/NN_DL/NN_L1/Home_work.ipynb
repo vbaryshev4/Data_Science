{
 "cells": [
  {
   "cell_type": "markdown",
   "metadata": {},
   "source": [
    "# ДПО"
   ]
  },
  {
   "cell_type": "markdown",
   "metadata": {},
   "source": [
    "## Домашнее задание NN_L1\n",
    "\n",
    "Задания 1-10 - обязательные <br>\n",
    "Задание 11 - опциональное <br>\n",
    "Выполнять задания необходимо без использования numpy (только TensorFlow / PyTorch) "
   ]
  },
  {
   "cell_type": "markdown",
   "metadata": {},
   "source": [
    "### 1) Импортируйте tensorflow"
   ]
  },
  {
   "cell_type": "code",
   "execution_count": 1,
   "metadata": {},
   "outputs": [
    {
     "name": "stderr",
     "output_type": "stream",
     "text": [
      "/anaconda3/lib/python3.6/importlib/_bootstrap.py:219: RuntimeWarning: numpy.dtype size changed, may indicate binary incompatibility. Expected 96, got 88\n",
      "  return f(*args, **kwds)\n",
      "/anaconda3/lib/python3.6/site-packages/h5py/__init__.py:34: FutureWarning: Conversion of the second argument of issubdtype from `float` to `np.floating` is deprecated. In future, it will be treated as `np.float64 == np.dtype(float).type`.\n",
      "  from ._conv import register_converters as _register_converters\n",
      "/anaconda3/lib/python3.6/importlib/_bootstrap.py:219: RuntimeWarning: numpy.dtype size changed, may indicate binary incompatibility. Expected 96, got 88\n",
      "  return f(*args, **kwds)\n"
     ]
    }
   ],
   "source": [
    "import tensorflow as tf"
   ]
  },
  {
   "cell_type": "markdown",
   "metadata": {},
   "source": [
    "### 2) Определите два Placeholder-a A(передайте 4) и B(передайте 3) и две переменных a(инициализируйте - 2-кой) и b(инициализируйте - 1) и в рамках tf-сессии сложите их"
   ]
  },
  {
   "cell_type": "code",
   "execution_count": 335,
   "metadata": {
    "collapsed": true
   },
   "outputs": [],
   "source": [
    "tf.reset_default_graph()"
   ]
  },
  {
   "cell_type": "code",
   "execution_count": 17,
   "metadata": {
    "collapsed": true
   },
   "outputs": [],
   "source": [
    "def run_model(x):\n",
    "    with tf.Session() as sess:\n",
    "        print(sess.run(x))"
   ]
  },
  {
   "cell_type": "code",
   "execution_count": 48,
   "metadata": {
    "collapsed": true
   },
   "outputs": [],
   "source": [
    "A = tf.placeholder(dtype=tf.float16,shape=[1])\n",
    "B = tf.placeholder(dtype=tf.float16,shape=[1])"
   ]
  },
  {
   "cell_type": "code",
   "execution_count": 50,
   "metadata": {},
   "outputs": [
    {
     "name": "stdout",
     "output_type": "stream",
     "text": [
      "3.0\n"
     ]
    }
   ],
   "source": [
    "y = A + B\n",
    "with tf.Session() as sess:\n",
    "    a = [2,]\n",
    "    b = [1,]\n",
    "    result = sess.run(y, feed_dict={A: a, B: b})\n",
    "    print(result[0])"
   ]
  },
  {
   "cell_type": "markdown",
   "metadata": {},
   "source": [
    "### 3) Создайте 1D Tensor от 0 до 10 с шагом 2 - [0, 2, 4, 6, 8]"
   ]
  },
  {
   "cell_type": "code",
   "execution_count": 76,
   "metadata": {
    "collapsed": true
   },
   "outputs": [],
   "source": [
    "a = tf.constant((0, 2, 4, 6, 8), shape=[1, 5])"
   ]
  },
  {
   "cell_type": "code",
   "execution_count": 77,
   "metadata": {},
   "outputs": [
    {
     "data": {
      "text/plain": [
       "(tensorflow.python.framework.ops.Tensor,\n",
       " TensorShape([Dimension(1), Dimension(5)]))"
      ]
     },
     "execution_count": 77,
     "metadata": {},
     "output_type": "execute_result"
    }
   ],
   "source": [
    "type(a), a.shape"
   ]
  },
  {
   "cell_type": "code",
   "execution_count": 89,
   "metadata": {},
   "outputs": [],
   "source": [
    "def print_run(x):\n",
    "    with tf.Session() as sess:\n",
    "        print(sess.run(x[0]))"
   ]
  },
  {
   "cell_type": "code",
   "execution_count": 90,
   "metadata": {},
   "outputs": [
    {
     "name": "stdout",
     "output_type": "stream",
     "text": [
      "[0 2 4 6 8]\n"
     ]
    }
   ],
   "source": [
    "print_run(a)"
   ]
  },
  {
   "cell_type": "markdown",
   "metadata": {},
   "source": [
    "### 4) Отфильтруйте каждое второе значение вектора созданного на предыдущего шаге"
   ]
  },
  {
   "cell_type": "code",
   "execution_count": 92,
   "metadata": {},
   "outputs": [],
   "source": [
    "def print_run(x):\n",
    "    with tf.Session() as sess:\n",
    "        print(sess.run(x[0][::2]))"
   ]
  },
  {
   "cell_type": "code",
   "execution_count": 93,
   "metadata": {},
   "outputs": [
    {
     "name": "stdout",
     "output_type": "stream",
     "text": [
      "[0 4 8]\n"
     ]
    }
   ],
   "source": [
    "print_run(a)"
   ]
  },
  {
   "cell_type": "markdown",
   "metadata": {},
   "source": [
    "### 5) Создайте матрицу 3х3, где значения будут \n",
    "[0, 1, 2],<br>\n",
    "       [3, 4, 5],<br>\n",
    "       [6, 7, 8]<br>"
   ]
  },
  {
   "cell_type": "code",
   "execution_count": 101,
   "metadata": {
    "collapsed": true
   },
   "outputs": [],
   "source": [
    "m = tf.constant([i for i in range(9)], shape=[3, 3])"
   ]
  },
  {
   "cell_type": "code",
   "execution_count": 102,
   "metadata": {
    "collapsed": true
   },
   "outputs": [],
   "source": [
    "def print_run(x):\n",
    "    with tf.Session() as sess:\n",
    "        print(sess.run(x))"
   ]
  },
  {
   "cell_type": "code",
   "execution_count": 103,
   "metadata": {},
   "outputs": [
    {
     "name": "stdout",
     "output_type": "stream",
     "text": [
      "[[0 1 2]\n",
      " [3 4 5]\n",
      " [6 7 8]]\n"
     ]
    }
   ],
   "source": [
    "print_run(m)"
   ]
  },
  {
   "cell_type": "markdown",
   "metadata": {},
   "source": [
    "### 6) Посчитайте среднее значение, сумму, а также максимум вектора a = [1,2,3,4,5,6,7,8,9]"
   ]
  },
  {
   "cell_type": "code",
   "execution_count": 147,
   "metadata": {
    "collapsed": true
   },
   "outputs": [],
   "source": [
    "def count_vals(vector, message='Vector:'):\n",
    "    with tf.Session() as sess:\n",
    "        print(message,'\\n', sess.run(vector), '\\n')"
   ]
  },
  {
   "cell_type": "code",
   "execution_count": 148,
   "metadata": {
    "collapsed": true
   },
   "outputs": [],
   "source": [
    "a = tf.constant([1,2,3,4,5,6,7,8,9], shape=[1, 9])"
   ]
  },
  {
   "cell_type": "code",
   "execution_count": 149,
   "metadata": {},
   "outputs": [
    {
     "name": "stdout",
     "output_type": "stream",
     "text": [
      "Vector: \n",
      " [[1 2 3 4 5 6 7 8 9]] \n",
      "\n",
      "Mean: \n",
      " 5 \n",
      "\n",
      "Sum: \n",
      " 45 \n",
      "\n",
      "Maximum: \n",
      " 9 \n",
      "\n"
     ]
    }
   ],
   "source": [
    "count_vals(a)\n",
    "count_vals(tf.reduce_mean(a), 'Mean:')\n",
    "count_vals(tf.reduce_sum(a), 'Sum:')\n",
    "count_vals(tf.reduce_max(a), 'Maximum:')"
   ]
  },
  {
   "cell_type": "markdown",
   "metadata": {},
   "source": [
    "### 7) Создайте матрицу 10х10, где все значения распределены равномерно"
   ]
  },
  {
   "cell_type": "code",
   "execution_count": 152,
   "metadata": {},
   "outputs": [],
   "source": [
    "m = tf.random_normal(shape = [10,10], mean=0.0, stddev=1.0, dtype=tf.float32, seed=None)"
   ]
  },
  {
   "cell_type": "code",
   "execution_count": 153,
   "metadata": {},
   "outputs": [
    {
     "name": "stdout",
     "output_type": "stream",
     "text": [
      "Noraml_distr_rand_matrix: \n",
      " [[-0.75311667  0.35390016  0.9599763   1.5722965   2.2184355   0.9419567\n",
      "  -0.69232434  0.5194988   1.7415531  -0.15168214]\n",
      " [ 0.23462142  0.7411451   0.59256     0.22325878  0.25469813  1.0432146\n",
      "   0.55791396  1.0054392   1.9928275   1.46524   ]\n",
      " [-2.2778594  -0.05172784  0.51473826  0.55037665 -0.6898127   0.9548841\n",
      "   1.8602239   1.0504367   0.83398736 -0.14405298]\n",
      " [-1.7791005   0.03196217 -1.128873    0.68095946 -0.16577849  0.28828153\n",
      "  -0.23578936 -0.6563586   0.45085543 -1.508003  ]\n",
      " [ 0.63211495 -1.0383408   0.58421576 -0.522931   -0.42005944 -0.04630405\n",
      "  -0.02812331  1.3931669   0.09805435 -0.5277601 ]\n",
      " [-0.66873163  0.018332    0.19701986 -1.7398458  -0.28919625 -0.12024654\n",
      "  -1.2857536   0.6839542  -0.69962186 -0.9960101 ]\n",
      " [-0.9774199   0.34910414  0.13819672  1.1744109   0.77933055 -0.16341023\n",
      "  -0.07930451 -0.3904337  -0.09769513 -1.1566561 ]\n",
      " [-0.5218765   0.09295876 -1.412361   -1.044558   -2.5947943  -0.32069898\n",
      "   0.59105057 -0.08879958 -0.5227045   2.0116026 ]\n",
      " [ 1.4615052  -2.012194   -0.10668246  2.0046206  -1.5852208   1.5948981\n",
      "   0.15451734  0.4769108   0.38239765 -0.5105212 ]\n",
      " [-1.5483159  -1.2093027  -0.4392299   0.58680546  1.1490735   1.947488\n",
      "  -0.72033125  0.08277696  0.22355154  0.49012983]] \n",
      "\n"
     ]
    }
   ],
   "source": [
    "count_vals(m, 'Noraml_distr_rand_matrix:')"
   ]
  },
  {
   "cell_type": "markdown",
   "metadata": {},
   "source": [
    "### 8) Создайте матрицу 5х5 где все значения -1, а на главной диагонали +1 "
   ]
  },
  {
   "cell_type": "code",
   "execution_count": 158,
   "metadata": {},
   "outputs": [
    {
     "name": "stdout",
     "output_type": "stream",
     "text": [
      "Diag_matrix: \n",
      " [[-1  0  0  0  0]\n",
      " [ 0 -1  0  0  0]\n",
      " [ 0  0 -1  0  0]\n",
      " [ 0  0  0 -1  0]\n",
      " [ 0  0  0  0 -1]] \n",
      "\n"
     ]
    }
   ],
   "source": [
    "m = tf.diag([-1]*5)\n",
    "count_vals(m, 'Diag_matrix:')"
   ]
  },
  {
   "cell_type": "markdown",
   "metadata": {},
   "source": [
    "### 9) Разбейте вектор a = [1,2,3,4,5,6,7,8] на два"
   ]
  },
  {
   "cell_type": "code",
   "execution_count": 378,
   "metadata": {},
   "outputs": [
    {
     "name": "stdout",
     "output_type": "stream",
     "text": [
      "Splitted vector: \n",
      " [array([1, 2, 3, 4], dtype=int32), array([5, 6, 7, 8], dtype=int32)] \n",
      "\n"
     ]
    }
   ],
   "source": [
    "v = tf.constant([1,2,3,4,5,6,7,8], shape=[1, 8])\n",
    "count_vals(tf.split(v[0],2), 'Splitted vector:')"
   ]
  },
  {
   "cell_type": "markdown",
   "metadata": {},
   "source": [
    "### 10) Даны точки x и y, восстановите зависимость:"
   ]
  },
  {
   "cell_type": "code",
   "execution_count": 619,
   "metadata": {},
   "outputs": [],
   "source": [
    "import numpy as np\n",
    "from matplotlib.pylab import plt\n",
    "%matplotlib inline\n",
    "tf.reset_default_graph()\n",
    "# x = np.linspace(-10,10,100)\n",
    "# y = (x**2)+(3.2*x)+2.4+np.random.normal(scale=6,size=100)\n",
    "x = tf.random_uniform((100,1),-10,10)\n",
    "y = (x**2)+(3.0*x)+2.4+tf.random_normal((100,1),-10,10)"
   ]
  },
  {
   "cell_type": "code",
   "execution_count": 620,
   "metadata": {},
   "outputs": [
    {
     "data": {
      "image/png": "[encoded data removed]",
      "text/plain": [
       "<matplotlib.figure.Figure at 0x1272217f0>"
      ]
     },
     "metadata": {},
     "output_type": "display_data"
    }
   ],
   "source": [
    "with tf.Session() as sess:\n",
    "    x_numpy,y_numpy = sess.run([x,y])\n",
    "    plt.scatter(x_numpy,y_numpy)"
   ]
  },
  {
   "cell_type": "code",
   "execution_count": 621,
   "metadata": {},
   "outputs": [],
   "source": [
    "a = tf.get_variable(name=\"weight\", shape=[1]) \n",
    "b = tf.get_variable(name=\"bias_1\", shape=[1])"
   ]
  },
  {
   "cell_type": "code",
   "execution_count": 642,
   "metadata": {},
   "outputs": [],
   "source": [
    "# y_ = (x**2) + x*a + b\n",
    "y_ = a*x + b"
   ]
  },
  {
   "cell_type": "code",
   "execution_count": 659,
   "metadata": {},
   "outputs": [
    {
     "data": {
      "text/plain": [
       "['Reduction',\n",
       " '__builtins__',\n",
       " '__cached__',\n",
       " '__doc__',\n",
       " '__file__',\n",
       " '__loader__',\n",
       " '__name__',\n",
       " '__package__',\n",
       " '__spec__',\n",
       " '_allowed_symbols',\n",
       " 'absolute_difference',\n",
       " 'add_loss',\n",
       " 'compute_weighted_loss',\n",
       " 'cosine_distance',\n",
       " 'get_losses',\n",
       " 'get_regularization_loss',\n",
       " 'get_regularization_losses',\n",
       " 'get_total_loss',\n",
       " 'hinge_loss',\n",
       " 'huber_loss',\n",
       " 'log_loss',\n",
       " 'mean_pairwise_squared_error',\n",
       " 'mean_squared_error',\n",
       " 'sigmoid_cross_entropy',\n",
       " 'softmax_cross_entropy',\n",
       " 'sparse_softmax_cross_entropy']"
      ]
     },
     "execution_count": 659,
     "metadata": {},
     "output_type": "execute_result"
    }
   ],
   "source": [
    "dir(tf.losses)"
   ]
  },
  {
   "cell_type": "code",
   "execution_count": 665,
   "metadata": {},
   "outputs": [],
   "source": [
    "loss = tf.losses.absolute_difference(y,y_)"
   ]
  },
  {
   "cell_type": "code",
   "execution_count": 666,
   "metadata": {},
   "outputs": [],
   "source": [
    "optimizer = tf.train.GradientDescentOptimizer(learning_rate=0.1).minimize(loss)"
   ]
  },
  {
   "cell_type": "code",
   "execution_count": 667,
   "metadata": {},
   "outputs": [
    {
     "name": "stdout",
     "output_type": "stream",
     "text": [
      "33.019733\n",
      "35.34165\n",
      "26.40968\n",
      "27.027552\n"
     ]
    }
   ],
   "source": [
    "with tf.Session() as sess:\n",
    "    sess.run(tf.variables_initializer([a,b]))\n",
    "    for epoch in range(100):\n",
    "        sess.run(optimizer)\n",
    "        if epoch % 25 == 0:\n",
    "            print(sess.run(loss))\n",
    "    y_preds,x_preds = sess.run([y_,x])"
   ]
  },
  {
   "cell_type": "code",
   "execution_count": 668,
   "metadata": {},
   "outputs": [
    {
     "data": {
      "text/plain": [
       "[<matplotlib.lines.Line2D at 0x122b2db00>]"
      ]
     },
     "execution_count": 668,
     "metadata": {},
     "output_type": "execute_result"
    },
    {
     "data": {
      "image/png": "[encoded data removed]",
      "text/plain": [
       "<matplotlib.figure.Figure at 0x12471f5c0>"
      ]
     },
     "metadata": {},
     "output_type": "display_data"
    }
   ],
   "source": [
    "plt.scatter(x_numpy, y_numpy)\n",
    "plt.plot(x_preds,y_preds, 'r')"
   ]
  },
  {
   "cell_type": "markdown",
   "metadata": {},
   "source": [
    "### 11) Реализуйте класс TF_LinearRegression c методами как в sklearn.linear_model.LinearRegression (задание с *)"
   ]
  },
  {
   "cell_type": "code",
   "execution_count": 563,
   "metadata": {
    "collapsed": true
   },
   "outputs": [],
   "source": [
    "# ...code"
   ]
  },
  {
   "cell_type": "code",
   "execution_count": null,
   "metadata": {
    "collapsed": true
   },
   "outputs": [],
   "source": [
    "# Оставьте свой комментарий по задачам (сложнее, проще, что понравилось, что нет) "
   ]
  }
 ],
 "metadata": {
  "kernelspec": {
   "display_name": "Python 3",
   "language": "python",
   "name": "python3"
  },
  "language_info": {
   "codemirror_mode": {
    "name": "ipython",
    "version": 3
   },
   "file_extension": ".py",
   "mimetype": "text/x-python",
   "name": "python",
   "nbconvert_exporter": "python",
   "pygments_lexer": "ipython3",
   "version": "3.6.3"
  }
 },
 "nbformat": 4,
 "nbformat_minor": 2
}
