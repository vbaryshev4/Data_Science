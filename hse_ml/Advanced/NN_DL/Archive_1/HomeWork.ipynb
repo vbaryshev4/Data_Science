{
 "cells": [
  {
   "cell_type": "markdown",
   "metadata": {},
   "source": [
    "## Обучите модель на базе любого модуля из https://github.com/scikit-learn/scikit-learn/tree/master/sklearn предсказывать последовательность слов(кода)"
   ]
  },
  {
   "cell_type": "markdown",
   "metadata": {},
   "source": [
    "#### Буду использовать KMeans  в cluster и TSNE в manifold"
   ]
  },
  {
   "cell_type": "code",
   "execution_count": 1,
   "metadata": {},
   "outputs": [
    {
     "name": "stderr",
     "output_type": "stream",
     "text": [
      "Using TensorFlow backend.\n"
     ]
    }
   ],
   "source": [
    "from keras.preprocessing.sequence import pad_sequences\n",
    "from keras.layers import Embedding, LSTM, Dense,Input\n",
    "from keras.preprocessing.text import Tokenizer\n",
    "from keras.callbacks import EarlyStopping\n",
    "from keras.models import Sequential,Model\n",
    "import keras.utils as ku \n",
    "import numpy as np"
   ]
  },
  {
   "cell_type": "code",
   "execution_count": 2,
   "metadata": {
    "collapsed": true
   },
   "outputs": [],
   "source": [
    "data = \"\"\"У лукоморья дуб зелёный;\n",
    "Златая цепь на дубе том:\n",
    "И днём и ночью кот учёный\n",
    "Всё ходит по цепи кругом;\n",
    "Идёт направо - песнь заводит,\n",
    "Налево - сказку говорит.\n",
    "Там чудеса: там леший бродит,\n",
    "Русалка на ветвях сидит;\n",
    "Там на неведомых дорожках\n",
    "Следы невиданных зверей;\n",
    "Избушка там на курьих ножках\n",
    "Стоит без окон, без дверей;\n",
    "Там лес и дол видений полны;\n",
    "Там о заре прихлынут волны\n",
    "На брег песчаный и пустой,\n",
    "И тридцать витязей прекрасных\n",
    "Чредой из вод выходят ясных,\n",
    "И с ними дядька их морской;\n",
    "Там королевич мимоходом\n",
    "Пленяет грозного царя;\n",
    "Там в облаках перед народом\n",
    "Через леса, через моря\n",
    "Колдун несёт богатыря;\n",
    "В темнице там царевна тужит,\n",
    "А бурый волк ей верно служит;\n",
    "Там ступа с Бабою Ягой\n",
    "Идёт, бредёт сама собой,\n",
    "Там царь Кащей над златом чахнет;\n",
    "Там русский дух... там Русью пахнет!\n",
    "И там я был, и мёд я пил;\n",
    "У моря видел дуб зелёный;\n",
    "Под ним сидел, и кот учёный\n",
    "Свои мне сказки говорил.\"\"\""
   ]
  },
  {
   "cell_type": "code",
   "execution_count": 3,
   "metadata": {
    "collapsed": true
   },
   "outputs": [],
   "source": [
    "tokenizer = Tokenizer()"
   ]
  },
  {
   "cell_type": "code",
   "execution_count": 4,
   "metadata": {
    "collapsed": true
   },
   "outputs": [],
   "source": [
    "def dataset_preparation(data):\n",
    "\tcorpus = data.lower().split(\"\\n\")\n",
    "  \n",
    "\ttokenizer.fit_on_texts(corpus)\n",
    "\ttotal_words = len(tokenizer.word_index) + 1\n",
    "\n",
    "\tinput_sequences = []\n",
    "\tfor line in corpus:\n",
    "\t\ttoken_list = tokenizer.texts_to_sequences([line])[0]\n",
    "\t\tfor i in range(1, len(token_list)):\n",
    "\t\t\tn_gram_sequence = token_list[:i+1]\n",
    "\t\t\tinput_sequences.append(n_gram_sequence)\n",
    "\n",
    "\tmax_sequence_len = max([len(x) for x in input_sequences])\n",
    "\tinput_sequences = np.array(pad_sequences(input_sequences, maxlen=max_sequence_len, padding='pre'))\n",
    "\n",
    "\tpredictors, label = input_sequences[:,:-1],input_sequences[:,-1]\n",
    "\tlabel = ku.to_categorical(label, num_classes=total_words)\n",
    "\n",
    "\treturn predictors, label, max_sequence_len, total_words"
   ]
  },
  {
   "cell_type": "code",
   "execution_count": 5,
   "metadata": {
    "collapsed": true
   },
   "outputs": [],
   "source": [
    "def create_model(predictors, label, max_sequence_len, total_words):\n",
    "\t\n",
    "\tmodel = Sequential()\n",
    "\tmodel.add(Embedding(total_words, 10, input_length=max_sequence_len-1))\n",
    "\tmodel.add(LSTM(150, return_sequences = True))\n",
    "\tmodel.add(LSTM(100))\n",
    "\tmodel.add(Dense(total_words, activation='softmax'))\n",
    "\n",
    "\tmodel.compile(loss='categorical_crossentropy', optimizer='adam', metrics=['accuracy'])\n",
    "\tearlystop = EarlyStopping(monitor='val_loss', min_delta=0, patience=5, verbose=0, mode='auto')\n",
    "\tmodel.fit(predictors, label, epochs=100, verbose=1, callbacks=[earlystop])\n",
    "\treturn model "
   ]
  },
  {
   "cell_type": "code",
   "execution_count": 6,
   "metadata": {
    "collapsed": true
   },
   "outputs": [],
   "source": [
    "def generate_text(seed_text, next_words, max_sequence_len):\n",
    "\tfor _ in range(next_words):\n",
    "\t\ttoken_list = tokenizer.texts_to_sequences([seed_text])[0]\n",
    "\t\ttoken_list = pad_sequences([token_list], maxlen=max_sequence_len-1, padding='pre')\n",
    "\t\tpredicted = model.predict_classes(token_list, verbose=0)\n",
    "\t\t\n",
    "\t\toutput_word = \"\"\n",
    "\t\tfor word, index in tokenizer.word_index.items():\n",
    "\t\t\tif index == predicted:\n",
    "\t\t\t\toutput_word = word\n",
    "\t\t\t\tbreak\n",
    "\t\tseed_text += \" \" + output_word\n",
    "\treturn seed_text"
   ]
  },
  {
   "cell_type": "code",
   "execution_count": 7,
   "metadata": {
    "collapsed": true
   },
   "outputs": [],
   "source": [
    "predictors, label, max_sequence_len, total_words = dataset_preparation(data)"
   ]
  },
  {
   "cell_type": "code",
   "execution_count": 8,
   "metadata": {},
   "outputs": [
    {
     "name": "stdout",
     "output_type": "stream",
     "text": [
      "WARNING:tensorflow:From /anaconda3/lib/python3.6/site-packages/tensorflow/python/framework/op_def_library.py:263: colocate_with (from tensorflow.python.framework.ops) is deprecated and will be removed in a future version.\n",
      "Instructions for updating:\n",
      "Colocations handled automatically by placer.\n",
      "WARNING:tensorflow:From /anaconda3/lib/python3.6/site-packages/keras/backend/tensorflow_backend.py:1247: calling reduce_sum_v1 (from tensorflow.python.ops.math_ops) with keep_dims is deprecated and will be removed in a future version.\n",
      "Instructions for updating:\n",
      "keep_dims is deprecated, use keepdims instead\n",
      "WARNING:tensorflow:From /anaconda3/lib/python3.6/site-packages/tensorflow/python/ops/math_ops.py:3066: to_int32 (from tensorflow.python.ops.math_ops) is deprecated and will be removed in a future version.\n",
      "Instructions for updating:\n",
      "Use tf.cast instead.\n",
      "Epoch 1/100\n",
      "124/124 [==============================] - 1s 10ms/step - loss: 4.7970 - acc: 0.0081\n",
      "Epoch 2/100\n",
      "124/124 [==============================] - 0s 625us/step - loss: 4.7923 - acc: 0.0403\n",
      "Epoch 3/100\n",
      "124/124 [==============================] - 0s 701us/step - loss: 4.7876 - acc: 0.0403\n",
      "Epoch 4/100\n",
      " 32/124 [======>.......................] - ETA: 0s - loss: 4.7852 - acc: 0.0000e+00"
     ]
    },
    {
     "name": "stderr",
     "output_type": "stream",
     "text": [
      "/anaconda3/lib/python3.6/site-packages/keras/callbacks.py:494: RuntimeWarning: Early stopping conditioned on metric `val_loss` which is not available. Available metrics are: loss,acc\n",
      "  (self.monitor, ','.join(list(logs.keys()))), RuntimeWarning\n"
     ]
    },
    {
     "name": "stdout",
     "output_type": "stream",
     "text": [
      "124/124 [==============================] - 0s 837us/step - loss: 4.7806 - acc: 0.0242\n",
      "Epoch 5/100\n",
      "124/124 [==============================] - 0s 929us/step - loss: 4.7680 - acc: 0.0323\n",
      "Epoch 6/100\n",
      "124/124 [==============================] - 0s 694us/step - loss: 4.7363 - acc: 0.0242\n",
      "Epoch 7/100\n",
      "124/124 [==============================] - 0s 630us/step - loss: 4.6830 - acc: 0.0403\n",
      "Epoch 8/100\n",
      "124/124 [==============================] - 0s 849us/step - loss: 4.6673 - acc: 0.0403\n",
      "Epoch 9/100\n",
      "124/124 [==============================] - 0s 810us/step - loss: 4.6408 - acc: 0.0403\n",
      "Epoch 10/100\n",
      "124/124 [==============================] - 0s 734us/step - loss: 4.6140 - acc: 0.0242\n",
      "Epoch 11/100\n",
      "124/124 [==============================] - 0s 956us/step - loss: 4.6108 - acc: 0.0242\n",
      "Epoch 12/100\n",
      "124/124 [==============================] - 0s 876us/step - loss: 4.6005 - acc: 0.0484\n",
      "Epoch 13/100\n",
      "124/124 [==============================] - 0s 674us/step - loss: 4.5884 - acc: 0.0403\n",
      "Epoch 14/100\n",
      "124/124 [==============================] - 0s 654us/step - loss: 4.5814 - acc: 0.0403\n",
      "Epoch 15/100\n",
      "124/124 [==============================] - 0s 685us/step - loss: 4.5764 - acc: 0.0403\n",
      "Epoch 16/100\n",
      "124/124 [==============================] - 0s 630us/step - loss: 4.5692 - acc: 0.0403\n",
      "Epoch 17/100\n",
      "124/124 [==============================] - 0s 657us/step - loss: 4.5638 - acc: 0.0403\n",
      "Epoch 18/100\n",
      "124/124 [==============================] - 0s 621us/step - loss: 4.5573 - acc: 0.0403\n",
      "Epoch 19/100\n",
      "124/124 [==============================] - 0s 649us/step - loss: 4.5490 - acc: 0.0403\n",
      "Epoch 20/100\n",
      "124/124 [==============================] - 0s 646us/step - loss: 4.5450 - acc: 0.0403\n",
      "Epoch 21/100\n",
      "124/124 [==============================] - 0s 707us/step - loss: 4.5374 - acc: 0.0403\n",
      "Epoch 22/100\n",
      "124/124 [==============================] - 0s 645us/step - loss: 4.5287 - acc: 0.0323\n",
      "Epoch 23/100\n",
      "124/124 [==============================] - 0s 666us/step - loss: 4.5198 - acc: 0.0484\n",
      "Epoch 24/100\n",
      "124/124 [==============================] - 0s 649us/step - loss: 4.5185 - acc: 0.0484\n",
      "Epoch 25/100\n",
      "124/124 [==============================] - 0s 756us/step - loss: 4.4934 - acc: 0.0403\n",
      "Epoch 26/100\n",
      "124/124 [==============================] - 0s 663us/step - loss: 4.4794 - acc: 0.0565\n",
      "Epoch 27/100\n",
      "124/124 [==============================] - 0s 794us/step - loss: 4.4545 - acc: 0.0323\n",
      "Epoch 28/100\n",
      "124/124 [==============================] - 0s 915us/step - loss: 4.4234 - acc: 0.0403\n",
      "Epoch 29/100\n",
      "124/124 [==============================] - 0s 716us/step - loss: 4.3861 - acc: 0.0403\n",
      "Epoch 30/100\n",
      "124/124 [==============================] - 0s 624us/step - loss: 4.3459 - acc: 0.0323\n",
      "Epoch 31/100\n",
      "124/124 [==============================] - 0s 607us/step - loss: 4.3433 - acc: 0.0403\n",
      "Epoch 32/100\n",
      "124/124 [==============================] - 0s 613us/step - loss: 4.2602 - acc: 0.0484\n",
      "Epoch 33/100\n",
      "124/124 [==============================] - 0s 670us/step - loss: 4.2281 - acc: 0.0484\n",
      "Epoch 34/100\n",
      "124/124 [==============================] - 0s 611us/step - loss: 4.1677 - acc: 0.0403\n",
      "Epoch 35/100\n",
      "124/124 [==============================] - 0s 611us/step - loss: 4.1216 - acc: 0.0806\n",
      "Epoch 36/100\n",
      "124/124 [==============================] - 0s 717us/step - loss: 4.0602 - acc: 0.0887\n",
      "Epoch 37/100\n",
      "124/124 [==============================] - 0s 713us/step - loss: 4.0284 - acc: 0.0565\n",
      "Epoch 38/100\n",
      "124/124 [==============================] - 0s 899us/step - loss: 3.9833 - acc: 0.0484\n",
      "Epoch 39/100\n",
      "124/124 [==============================] - 0s 728us/step - loss: 3.9431 - acc: 0.0968\n",
      "Epoch 40/100\n",
      "124/124 [==============================] - 0s 701us/step - loss: 3.8882 - acc: 0.1048\n",
      "Epoch 41/100\n",
      "124/124 [==============================] - 0s 640us/step - loss: 3.8459 - acc: 0.0887\n",
      "Epoch 42/100\n",
      "124/124 [==============================] - 0s 630us/step - loss: 3.7933 - acc: 0.1210\n",
      "Epoch 43/100\n",
      "124/124 [==============================] - 0s 616us/step - loss: 3.7547 - acc: 0.1048\n",
      "Epoch 44/100\n",
      "124/124 [==============================] - 0s 639us/step - loss: 3.7274 - acc: 0.0887\n",
      "Epoch 45/100\n",
      "124/124 [==============================] - 0s 645us/step - loss: 3.7345 - acc: 0.1048\n",
      "Epoch 46/100\n",
      "124/124 [==============================] - 0s 625us/step - loss: 3.7021 - acc: 0.1210\n",
      "Epoch 47/100\n",
      "124/124 [==============================] - 0s 628us/step - loss: 3.6621 - acc: 0.1129\n",
      "Epoch 48/100\n",
      "124/124 [==============================] - 0s 681us/step - loss: 3.6067 - acc: 0.1210\n",
      "Epoch 49/100\n",
      "124/124 [==============================] - 0s 642us/step - loss: 3.5771 - acc: 0.1290\n",
      "Epoch 50/100\n",
      "124/124 [==============================] - 0s 646us/step - loss: 3.5481 - acc: 0.1129\n",
      "Epoch 51/100\n",
      "124/124 [==============================] - 0s 613us/step - loss: 3.5370 - acc: 0.0887\n",
      "Epoch 52/100\n",
      "124/124 [==============================] - 0s 651us/step - loss: 3.4939 - acc: 0.1129\n",
      "Epoch 53/100\n",
      "124/124 [==============================] - 0s 644us/step - loss: 3.4613 - acc: 0.1290\n",
      "Epoch 54/100\n",
      "124/124 [==============================] - 0s 627us/step - loss: 3.4493 - acc: 0.1452\n",
      "Epoch 55/100\n",
      "124/124 [==============================] - 0s 627us/step - loss: 3.4238 - acc: 0.1290\n",
      "Epoch 56/100\n",
      "124/124 [==============================] - 0s 620us/step - loss: 3.4159 - acc: 0.1290\n",
      "Epoch 57/100\n",
      "124/124 [==============================] - 0s 615us/step - loss: 3.4125 - acc: 0.1452\n",
      "Epoch 58/100\n",
      "124/124 [==============================] - 0s 629us/step - loss: 3.3570 - acc: 0.1452\n",
      "Epoch 59/100\n",
      "124/124 [==============================] - 0s 633us/step - loss: 3.3399 - acc: 0.1452\n",
      "Epoch 60/100\n",
      "124/124 [==============================] - 0s 635us/step - loss: 3.3374 - acc: 0.1371\n",
      "Epoch 61/100\n",
      "124/124 [==============================] - 0s 658us/step - loss: 3.3049 - acc: 0.1532\n",
      "Epoch 62/100\n",
      "124/124 [==============================] - 0s 614us/step - loss: 3.2745 - acc: 0.1774\n",
      "Epoch 63/100\n",
      "124/124 [==============================] - 0s 632us/step - loss: 3.2607 - acc: 0.1774\n",
      "Epoch 64/100\n",
      "124/124 [==============================] - 0s 657us/step - loss: 3.2352 - acc: 0.1613\n",
      "Epoch 65/100\n",
      "124/124 [==============================] - 0s 661us/step - loss: 3.2200 - acc: 0.1694\n",
      "Epoch 66/100\n",
      "124/124 [==============================] - 0s 654us/step - loss: 3.1935 - acc: 0.1935\n",
      "Epoch 67/100\n",
      "124/124 [==============================] - 0s 643us/step - loss: 3.1916 - acc: 0.1855\n",
      "Epoch 68/100\n",
      "124/124 [==============================] - 0s 663us/step - loss: 3.1769 - acc: 0.1855\n",
      "Epoch 69/100\n",
      "124/124 [==============================] - 0s 632us/step - loss: 3.1466 - acc: 0.1935\n",
      "Epoch 70/100\n",
      "124/124 [==============================] - 0s 655us/step - loss: 3.1307 - acc: 0.1774\n",
      "Epoch 71/100\n",
      "124/124 [==============================] - 0s 650us/step - loss: 3.1312 - acc: 0.1694\n",
      "Epoch 72/100\n",
      "124/124 [==============================] - 0s 838us/step - loss: 3.1445 - acc: 0.1532\n",
      "Epoch 73/100\n",
      "124/124 [==============================] - 0s 934us/step - loss: 3.1158 - acc: 0.1694\n",
      "Epoch 74/100\n",
      "124/124 [==============================] - 0s 695us/step - loss: 3.1065 - acc: 0.1935\n",
      "Epoch 75/100\n",
      "124/124 [==============================] - 0s 756us/step - loss: 3.0859 - acc: 0.2016\n",
      "Epoch 76/100\n",
      "124/124 [==============================] - 0s 877us/step - loss: 3.0444 - acc: 0.2258\n",
      "Epoch 77/100\n",
      "124/124 [==============================] - 0s 717us/step - loss: 3.0199 - acc: 0.2258\n",
      "Epoch 78/100\n",
      "124/124 [==============================] - 0s 677us/step - loss: 2.9976 - acc: 0.2419\n",
      "Epoch 79/100\n",
      "124/124 [==============================] - 0s 639us/step - loss: 2.9880 - acc: 0.2177\n",
      "Epoch 80/100\n",
      "124/124 [==============================] - 0s 737us/step - loss: 2.9585 - acc: 0.2419\n",
      "Epoch 81/100\n",
      "124/124 [==============================] - 0s 864us/step - loss: 2.9504 - acc: 0.2177\n",
      "Epoch 82/100\n",
      "124/124 [==============================] - 0s 721us/step - loss: 2.9433 - acc: 0.2258\n",
      "Epoch 83/100\n",
      "124/124 [==============================] - 0s 706us/step - loss: 2.9128 - acc: 0.2661\n",
      "Epoch 84/100\n",
      "124/124 [==============================] - 0s 802us/step - loss: 2.9020 - acc: 0.2500\n",
      "Epoch 85/100\n",
      "124/124 [==============================] - 0s 842us/step - loss: 2.8988 - acc: 0.2742\n",
      "Epoch 86/100\n",
      "124/124 [==============================] - 0s 717us/step - loss: 2.8767 - acc: 0.2581\n"
     ]
    },
    {
     "name": "stdout",
     "output_type": "stream",
     "text": [
      "Epoch 87/100\n",
      "124/124 [==============================] - 0s 703us/step - loss: 2.8737 - acc: 0.2581\n",
      "Epoch 88/100\n",
      "124/124 [==============================] - 0s 635us/step - loss: 2.8551 - acc: 0.2742\n",
      "Epoch 89/100\n",
      "124/124 [==============================] - 0s 599us/step - loss: 2.8325 - acc: 0.2661\n",
      "Epoch 90/100\n",
      "124/124 [==============================] - 0s 611us/step - loss: 2.8174 - acc: 0.2903\n",
      "Epoch 91/100\n",
      "124/124 [==============================] - 0s 608us/step - loss: 2.8012 - acc: 0.2984\n",
      "Epoch 92/100\n",
      "124/124 [==============================] - 0s 589us/step - loss: 2.7994 - acc: 0.2903\n",
      "Epoch 93/100\n",
      "124/124 [==============================] - 0s 584us/step - loss: 2.7875 - acc: 0.2903\n",
      "Epoch 94/100\n",
      "124/124 [==============================] - 0s 589us/step - loss: 2.8041 - acc: 0.2984\n",
      "Epoch 95/100\n",
      "124/124 [==============================] - 0s 639us/step - loss: 2.8146 - acc: 0.2823\n",
      "Epoch 96/100\n",
      "124/124 [==============================] - 0s 595us/step - loss: 2.7638 - acc: 0.2903\n",
      "Epoch 97/100\n",
      "124/124 [==============================] - 0s 600us/step - loss: 2.7438 - acc: 0.2581\n",
      "Epoch 98/100\n",
      "124/124 [==============================] - 0s 605us/step - loss: 2.7157 - acc: 0.3065\n",
      "Epoch 99/100\n",
      "124/124 [==============================] - 0s 610us/step - loss: 2.7106 - acc: 0.3226\n",
      "Epoch 100/100\n",
      "124/124 [==============================] - 0s 591us/step - loss: 2.7064 - acc: 0.3145\n"
     ]
    }
   ],
   "source": [
    "model = create_model(predictors, label, max_sequence_len, total_words)"
   ]
  },
  {
   "cell_type": "code",
   "execution_count": 9,
   "metadata": {},
   "outputs": [
    {
     "name": "stdout",
     "output_type": "stream",
     "text": [
      "Златая цепь на и кот\n"
     ]
    }
   ],
   "source": [
    "print(generate_text(\"Златая цепь\", 3, max_sequence_len))"
   ]
  },
  {
   "cell_type": "code",
   "execution_count": 10,
   "metadata": {
    "collapsed": true
   },
   "outputs": [],
   "source": [
    "embl = model.layers[0]"
   ]
  },
  {
   "cell_type": "code",
   "execution_count": 11,
   "metadata": {},
   "outputs": [],
   "source": [
    "X_ = embl.get_weights()[0]"
   ]
  },
  {
   "cell_type": "code",
   "execution_count": 12,
   "metadata": {},
   "outputs": [],
   "source": [
    "from sklearn.cluster import KMeans\n",
    "import numpy as np\n",
    "from matplotlib.pylab import plt\n",
    "kmeans = KMeans(n_clusters=4, random_state=400).fit(X_)"
   ]
  },
  {
   "cell_type": "code",
   "execution_count": 13,
   "metadata": {},
   "outputs": [],
   "source": [
    "import numpy as np\n",
    "from sklearn.manifold import TSNE\n",
    "X_embedded = TSNE(n_components=2).fit_transform(X_)"
   ]
  },
  {
   "cell_type": "code",
   "execution_count": 14,
   "metadata": {
    "collapsed": true
   },
   "outputs": [],
   "source": [
    "viz_words=['дуб','дух','дядька','златом','златая','цепь','волк']"
   ]
  },
  {
   "cell_type": "code",
   "execution_count": 15,
   "metadata": {},
   "outputs": [
    {
     "data": {
      "image/png": "[encoded data removed]",
      "text/plain": [
       "<matplotlib.figure.Figure at 0x12a20a8d0>"
      ]
     },
     "metadata": {},
     "output_type": "display_data"
    }
   ],
   "source": [
    "plt.figure(figsize=(10, 10))\n",
    "plt.scatter(X_embedded[:,0], X_embedded[:,1], c=kmeans.labels_, alpha=0.4)\n",
    "for word in viz_words:\n",
    "    ind = tokenizer.word_index[word]\n",
    "    plt.text(X_embedded[ind,0], X_embedded[ind,1], word, color='red', size=10)\n",
    "plt.show()"
   ]
  }
 ],
 "metadata": {
  "kernelspec": {
   "display_name": "Python 3",
   "language": "python",
   "name": "python3"
  },
  "language_info": {
   "codemirror_mode": {
    "name": "ipython",
    "version": 3
   },
   "file_extension": ".py",
   "mimetype": "text/x-python",
   "name": "python",
   "nbconvert_exporter": "python",
   "pygments_lexer": "ipython3",
   "version": "3.6.3"
  }
 },
 "nbformat": 4,
 "nbformat_minor": 2
}
