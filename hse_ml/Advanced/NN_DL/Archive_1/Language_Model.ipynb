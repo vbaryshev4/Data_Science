{
 "cells": [
  {
   "cell_type": "code",
   "execution_count": 1,
   "metadata": {
    "colab": {},
    "colab_type": "code",
    "id": "8nFbWUZPUHkc"
   },
   "outputs": [
    {
     "name": "stderr",
     "output_type": "stream",
     "text": [
      "Using TensorFlow backend.\n"
     ]
    }
   ],
   "source": [
    "from keras.preprocessing.sequence import pad_sequences\n",
    "from keras.layers import Embedding, LSTM, Dense,Input\n",
    "from keras.preprocessing.text import Tokenizer\n",
    "from keras.callbacks import EarlyStopping\n",
    "from keras.models import Sequential,Model\n",
    "import keras.utils as ku \n",
    "import numpy as np"
   ]
  },
  {
   "cell_type": "code",
   "execution_count": 2,
   "metadata": {
    "colab": {},
    "colab_type": "code",
    "collapsed": true,
    "id": "Cp5BtSccVzqd"
   },
   "outputs": [],
   "source": [
    "data = \"\"\"У лукоморья дуб зелёный;\n",
    "Златая цепь на дубе том:\n",
    "И днём и ночью кот учёный\n",
    "Всё ходит по цепи кругом;\n",
    "Идёт направо - песнь заводит,\n",
    "Налево - сказку говорит.\n",
    "Там чудеса: там леший бродит,\n",
    "Русалка на ветвях сидит;\n",
    "Там на неведомых дорожках\n",
    "Следы невиданных зверей;\n",
    "Избушка там на курьих ножках\n",
    "Стоит без окон, без дверей;\n",
    "Там лес и дол видений полны;\n",
    "Там о заре прихлынут волны\n",
    "На брег песчаный и пустой,\n",
    "И тридцать витязей прекрасных\n",
    "Чредой из вод выходят ясных,\n",
    "И с ними дядька их морской;\n",
    "Там королевич мимоходом\n",
    "Пленяет грозного царя;\n",
    "Там в облаках перед народом\n",
    "Через леса, через моря\n",
    "Колдун несёт богатыря;\n",
    "В темнице там царевна тужит,\n",
    "А бурый волк ей верно служит;\n",
    "Там ступа с Бабою Ягой\n",
    "Идёт, бредёт сама собой,\n",
    "Там царь Кащей над златом чахнет;\n",
    "Там русский дух... там Русью пахнет!\n",
    "И там я был, и мёд я пил;\n",
    "У моря видел дуб зелёный;\n",
    "Под ним сидел, и кот учёный\n",
    "Свои мне сказки говорил.\"\"\""
   ]
  },
  {
   "cell_type": "code",
   "execution_count": 3,
   "metadata": {
    "colab": {},
    "colab_type": "code",
    "collapsed": true,
    "id": "YNwSIAUW5l0u"
   },
   "outputs": [],
   "source": [
    "tokenizer = Tokenizer()"
   ]
  },
  {
   "cell_type": "code",
   "execution_count": 4,
   "metadata": {
    "colab": {},
    "colab_type": "code",
    "collapsed": true,
    "id": "yhbMLr9MYCkB"
   },
   "outputs": [],
   "source": [
    "def dataset_preparation(data):\n",
    "\tcorpus = data.lower().split(\"\\n\")\n",
    "  \n",
    "\ttokenizer.fit_on_texts(corpus)\n",
    "\ttotal_words = len(tokenizer.word_index) + 1\n",
    "\n",
    "\tinput_sequences = []\n",
    "\tfor line in corpus:\n",
    "\t\ttoken_list = tokenizer.texts_to_sequences([line])[0]\n",
    "\t\tfor i in range(1, len(token_list)):\n",
    "\t\t\tn_gram_sequence = token_list[:i+1]\n",
    "\t\t\tinput_sequences.append(n_gram_sequence)\n",
    "\n",
    "\tmax_sequence_len = max([len(x) for x in input_sequences])\n",
    "\tinput_sequences = np.array(pad_sequences(input_sequences, maxlen=max_sequence_len, padding='pre'))\n",
    "\n",
    "\tpredictors, label = input_sequences[:,:-1],input_sequences[:,-1]\n",
    "\tlabel = ku.to_categorical(label, num_classes=total_words)\n",
    "\n",
    "\treturn predictors, label, max_sequence_len, total_words"
   ]
  },
  {
   "cell_type": "code",
   "execution_count": 5,
   "metadata": {
    "colab": {},
    "colab_type": "code",
    "collapsed": true,
    "id": "Ue6GAWOjYWX4"
   },
   "outputs": [],
   "source": [
    "def create_model(predictors, label, max_sequence_len, total_words):\n",
    "\t\n",
    "\tmodel = Sequential()\n",
    "\tmodel.add(Embedding(total_words, 10, input_length=max_sequence_len-1))\n",
    "\tmodel.add(LSTM(150, return_sequences = True))\n",
    "\tmodel.add(LSTM(100))\n",
    "\tmodel.add(Dense(total_words, activation='softmax'))\n",
    "\n",
    "\tmodel.compile(loss='categorical_crossentropy', optimizer='adam', metrics=['accuracy'])\n",
    "\tearlystop = EarlyStopping(monitor='val_loss', min_delta=0, patience=5, verbose=0, mode='auto')\n",
    "\tmodel.fit(predictors, label, epochs=100, verbose=1, callbacks=[earlystop])\n",
    "\treturn model "
   ]
  },
  {
   "cell_type": "code",
   "execution_count": 6,
   "metadata": {
    "colab": {},
    "colab_type": "code",
    "collapsed": true,
    "id": "F7j3mPbHYYLm"
   },
   "outputs": [],
   "source": [
    "def generate_text(seed_text, next_words, max_sequence_len):\n",
    "\tfor _ in range(next_words):\n",
    "\t\ttoken_list = tokenizer.texts_to_sequences([seed_text])[0]\n",
    "\t\ttoken_list = pad_sequences([token_list], maxlen=max_sequence_len-1, padding='pre')\n",
    "\t\tpredicted = model.predict_classes(token_list, verbose=0)\n",
    "\t\t\n",
    "\t\toutput_word = \"\"\n",
    "\t\tfor word, index in tokenizer.word_index.items():\n",
    "\t\t\tif index == predicted:\n",
    "\t\t\t\toutput_word = word\n",
    "\t\t\t\tbreak\n",
    "\t\tseed_text += \" \" + output_word\n",
    "\treturn seed_text"
   ]
  },
  {
   "cell_type": "code",
   "execution_count": 7,
   "metadata": {
    "collapsed": true
   },
   "outputs": [],
   "source": [
    "predictors, label, max_sequence_len, total_words = dataset_preparation(data)"
   ]
  },
  {
   "cell_type": "code",
   "execution_count": 15,
   "metadata": {
    "colab": {
     "base_uri": "https://localhost:8080/",
     "height": 3734
    },
    "colab_type": "code",
    "id": "NbPnTgUgYb_H",
    "outputId": "3f05b63d-93b3-46a7-dedd-4e83f61953fa"
   },
   "outputs": [
    {
     "name": "stdout",
     "output_type": "stream",
     "text": [
      "WARNING:tensorflow:From /anaconda3/lib/python3.6/site-packages/tensorflow/python/framework/op_def_library.py:263: colocate_with (from tensorflow.python.framework.ops) is deprecated and will be removed in a future version.\n",
      "Instructions for updating:\n",
      "Colocations handled automatically by placer.\n",
      "WARNING:tensorflow:From /anaconda3/lib/python3.6/site-packages/keras/backend/tensorflow_backend.py:1247: calling reduce_sum_v1 (from tensorflow.python.ops.math_ops) with keep_dims is deprecated and will be removed in a future version.\n",
      "Instructions for updating:\n",
      "keep_dims is deprecated, use keepdims instead\n",
      "WARNING:tensorflow:From /anaconda3/lib/python3.6/site-packages/tensorflow/python/ops/math_ops.py:3066: to_int32 (from tensorflow.python.ops.math_ops) is deprecated and will be removed in a future version.\n",
      "Instructions for updating:\n",
      "Use tf.cast instead.\n",
      "Epoch 1/100\n",
      "124/124 [==============================] - 2s 13ms/step - loss: 4.7972 - acc: 0.0000e+00\n",
      "Epoch 2/100\n",
      "124/124 [==============================] - 0s 907us/step - loss: 4.7931 - acc: 0.0403\n",
      "Epoch 3/100\n",
      " 32/124 [======>.......................] - ETA: 0s - loss: 4.7936 - acc: 0.0000e+00"
     ]
    },
    {
     "name": "stderr",
     "output_type": "stream",
     "text": [
      "/anaconda3/lib/python3.6/site-packages/keras/callbacks.py:494: RuntimeWarning: Early stopping conditioned on metric `val_loss` which is not available. Available metrics are: loss,acc\n",
      "  (self.monitor, ','.join(list(logs.keys()))), RuntimeWarning\n"
     ]
    },
    {
     "name": "stdout",
     "output_type": "stream",
     "text": [
      "124/124 [==============================] - 0s 993us/step - loss: 4.7896 - acc: 0.0323\n",
      "Epoch 4/100\n",
      "124/124 [==============================] - 0s 893us/step - loss: 4.7841 - acc: 0.0403\n",
      "Epoch 5/100\n",
      "124/124 [==============================] - 0s 677us/step - loss: 4.7747 - acc: 0.0403\n",
      "Epoch 6/100\n",
      "124/124 [==============================] - 0s 793us/step - loss: 4.7516 - acc: 0.0403\n",
      "Epoch 7/100\n",
      "124/124 [==============================] - 0s 861us/step - loss: 4.7132 - acc: 0.0323\n",
      "Epoch 8/100\n",
      "124/124 [==============================] - 0s 843us/step - loss: 4.6579 - acc: 0.0403\n",
      "Epoch 9/100\n",
      "124/124 [==============================] - 0s 850us/step - loss: 4.6410 - acc: 0.0403\n",
      "Epoch 10/100\n",
      "124/124 [==============================] - 0s 729us/step - loss: 4.6188 - acc: 0.0403\n",
      "Epoch 11/100\n",
      "124/124 [==============================] - 0s 905us/step - loss: 4.6055 - acc: 0.0403\n",
      "Epoch 12/100\n",
      "124/124 [==============================] - 0s 798us/step - loss: 4.5967 - acc: 0.0323\n",
      "Epoch 13/100\n",
      "124/124 [==============================] - 0s 810us/step - loss: 4.5872 - acc: 0.0484\n",
      "Epoch 14/100\n",
      "124/124 [==============================] - 0s 834us/step - loss: 4.5821 - acc: 0.0403\n",
      "Epoch 15/100\n",
      "124/124 [==============================] - 0s 871us/step - loss: 4.5749 - acc: 0.0403\n",
      "Epoch 16/100\n",
      "124/124 [==============================] - 0s 814us/step - loss: 4.5669 - acc: 0.0403\n",
      "Epoch 17/100\n",
      "124/124 [==============================] - 0s 838us/step - loss: 4.5627 - acc: 0.0403\n",
      "Epoch 18/100\n",
      "124/124 [==============================] - 0s 680us/step - loss: 4.5580 - acc: 0.0484\n",
      "Epoch 19/100\n",
      "124/124 [==============================] - 0s 923us/step - loss: 4.5553 - acc: 0.0484\n",
      "Epoch 20/100\n",
      "124/124 [==============================] - 0s 890us/step - loss: 4.5395 - acc: 0.0484\n",
      "Epoch 21/100\n",
      "124/124 [==============================] - 0s 799us/step - loss: 4.5332 - acc: 0.0484\n",
      "Epoch 22/100\n",
      "124/124 [==============================] - 0s 696us/step - loss: 4.5234 - acc: 0.0484\n",
      "Epoch 23/100\n",
      "124/124 [==============================] - 0s 674us/step - loss: 4.5018 - acc: 0.0565\n",
      "Epoch 24/100\n",
      "124/124 [==============================] - 0s 839us/step - loss: 4.4784 - acc: 0.0484\n",
      "Epoch 25/100\n",
      "124/124 [==============================] - 0s 819us/step - loss: 4.4540 - acc: 0.0565\n",
      "Epoch 26/100\n",
      "124/124 [==============================] - 0s 792us/step - loss: 4.4157 - acc: 0.0645 0s - loss: 4.4278 - acc: 0.052\n",
      "Epoch 27/100\n",
      "124/124 [==============================] - 0s 663us/step - loss: 4.3656 - acc: 0.0484\n",
      "Epoch 28/100\n",
      "124/124 [==============================] - 0s 848us/step - loss: 4.3086 - acc: 0.0645\n",
      "Epoch 29/100\n",
      "124/124 [==============================] - 0s 872us/step - loss: 4.2863 - acc: 0.0645\n",
      "Epoch 30/100\n",
      "124/124 [==============================] - 0s 799us/step - loss: 4.2445 - acc: 0.0645\n",
      "Epoch 31/100\n",
      "124/124 [==============================] - 0s 694us/step - loss: 4.2009 - acc: 0.0565\n",
      "Epoch 32/100\n",
      "124/124 [==============================] - 0s 663us/step - loss: 4.1231 - acc: 0.0565\n",
      "Epoch 33/100\n",
      "124/124 [==============================] - 0s 734us/step - loss: 4.0876 - acc: 0.0645\n",
      "Epoch 34/100\n",
      "124/124 [==============================] - ETA: 0s - loss: 4.0620 - acc: 0.0521    - 0s 851us/step - loss: 4.0289 - acc: 0.0645\n",
      "Epoch 35/100\n",
      "124/124 [==============================] - 0s 849us/step - loss: 4.0101 - acc: 0.0806\n",
      "Epoch 36/100\n",
      "124/124 [==============================] - 0s 682us/step - loss: 3.9790 - acc: 0.0806\n",
      "Epoch 37/100\n",
      "124/124 [==============================] - 0s 807us/step - loss: 3.9466 - acc: 0.0726\n",
      "Epoch 38/100\n",
      "124/124 [==============================] - 0s 829us/step - loss: 3.8685 - acc: 0.0887\n",
      "Epoch 39/100\n",
      "124/124 [==============================] - 0s 990us/step - loss: 3.8294 - acc: 0.0887\n",
      "Epoch 40/100\n",
      "124/124 [==============================] - 0s 755us/step - loss: 3.8003 - acc: 0.0887\n",
      "Epoch 41/100\n",
      "124/124 [==============================] - 0s 796us/step - loss: 3.7687 - acc: 0.0968\n",
      "Epoch 42/100\n",
      "124/124 [==============================] - 0s 706us/step - loss: 3.7439 - acc: 0.1048\n",
      "Epoch 43/100\n",
      "124/124 [==============================] - 0s 824us/step - loss: 3.7000 - acc: 0.1048\n",
      "Epoch 44/100\n",
      "124/124 [==============================] - 0s 708us/step - loss: 3.6669 - acc: 0.1129\n",
      "Epoch 45/100\n",
      "124/124 [==============================] - 0s 647us/step - loss: 3.6481 - acc: 0.0968\n",
      "Epoch 46/100\n",
      "124/124 [==============================] - 0s 716us/step - loss: 3.6302 - acc: 0.0968\n",
      "Epoch 47/100\n",
      "124/124 [==============================] - 0s 681us/step - loss: 3.5818 - acc: 0.1048\n",
      "Epoch 48/100\n",
      "124/124 [==============================] - 0s 681us/step - loss: 3.5720 - acc: 0.1048\n",
      "Epoch 49/100\n",
      "124/124 [==============================] - 0s 674us/step - loss: 3.5377 - acc: 0.1129\n",
      "Epoch 50/100\n",
      "124/124 [==============================] - 0s 668us/step - loss: 3.5247 - acc: 0.1452\n",
      "Epoch 51/100\n",
      "124/124 [==============================] - 0s 667us/step - loss: 3.5029 - acc: 0.1290\n",
      "Epoch 52/100\n",
      "124/124 [==============================] - 0s 650us/step - loss: 3.4810 - acc: 0.0968\n",
      "Epoch 53/100\n",
      "124/124 [==============================] - 0s 718us/step - loss: 3.4500 - acc: 0.1129\n",
      "Epoch 54/100\n",
      "124/124 [==============================] - 0s 674us/step - loss: 3.4197 - acc: 0.1371\n",
      "Epoch 55/100\n",
      "124/124 [==============================] - 0s 696us/step - loss: 3.3918 - acc: 0.1613\n",
      "Epoch 56/100\n",
      "124/124 [==============================] - 0s 667us/step - loss: 3.3675 - acc: 0.1613\n",
      "Epoch 57/100\n",
      "124/124 [==============================] - 0s 676us/step - loss: 3.3549 - acc: 0.1532\n",
      "Epoch 58/100\n",
      "124/124 [==============================] - 0s 644us/step - loss: 3.3279 - acc: 0.1935\n",
      "Epoch 59/100\n",
      "124/124 [==============================] - 0s 656us/step - loss: 3.3042 - acc: 0.1694\n",
      "Epoch 60/100\n",
      "124/124 [==============================] - 0s 674us/step - loss: 3.2824 - acc: 0.1774\n",
      "Epoch 61/100\n",
      "124/124 [==============================] - 0s 663us/step - loss: 3.2577 - acc: 0.1613\n",
      "Epoch 62/100\n",
      "124/124 [==============================] - 0s 657us/step - loss: 3.2188 - acc: 0.2016\n",
      "Epoch 63/100\n",
      "124/124 [==============================] - 0s 683us/step - loss: 3.1981 - acc: 0.2097\n",
      "Epoch 64/100\n",
      "124/124 [==============================] - 0s 671us/step - loss: 3.1762 - acc: 0.1935\n",
      "Epoch 65/100\n",
      "124/124 [==============================] - 0s 652us/step - loss: 3.1429 - acc: 0.2016\n",
      "Epoch 66/100\n",
      "124/124 [==============================] - 0s 688us/step - loss: 3.1194 - acc: 0.2177\n",
      "Epoch 67/100\n",
      "124/124 [==============================] - 0s 712us/step - loss: 3.1014 - acc: 0.2258\n",
      "Epoch 68/100\n",
      "124/124 [==============================] - 0s 782us/step - loss: 3.0772 - acc: 0.2258\n",
      "Epoch 69/100\n",
      "124/124 [==============================] - 0s 794us/step - loss: 3.0541 - acc: 0.2339\n",
      "Epoch 70/100\n",
      "124/124 [==============================] - 0s 732us/step - loss: 3.0387 - acc: 0.2339\n",
      "Epoch 71/100\n",
      "124/124 [==============================] - 0s 704us/step - loss: 3.0192 - acc: 0.2500\n",
      "Epoch 72/100\n",
      "124/124 [==============================] - 0s 806us/step - loss: 3.0158 - acc: 0.2661\n",
      "Epoch 73/100\n",
      "124/124 [==============================] - 0s 865us/step - loss: 2.9825 - acc: 0.2339\n",
      "Epoch 74/100\n",
      "124/124 [==============================] - 0s 890us/step - loss: 2.9656 - acc: 0.2339\n",
      "Epoch 75/100\n",
      "124/124 [==============================] - 0s 736us/step - loss: 2.9355 - acc: 0.2903\n",
      "Epoch 76/100\n",
      "124/124 [==============================] - 0s 863us/step - loss: 2.9349 - acc: 0.2500\n",
      "Epoch 77/100\n",
      "124/124 [==============================] - 0s 707us/step - loss: 2.8755 - acc: 0.2984\n",
      "Epoch 78/100\n",
      "124/124 [==============================] - 0s 743us/step - loss: 2.8513 - acc: 0.3065\n",
      "Epoch 79/100\n",
      "124/124 [==============================] - 0s 842us/step - loss: 2.8383 - acc: 0.3226\n",
      "Epoch 80/100\n",
      "124/124 [==============================] - 0s 719us/step - loss: 2.8060 - acc: 0.3145\n",
      "Epoch 81/100\n",
      "124/124 [==============================] - 0s 813us/step - loss: 2.7989 - acc: 0.2984\n",
      "Epoch 82/100\n",
      "124/124 [==============================] - 0s 822us/step - loss: 2.7871 - acc: 0.3306\n",
      "Epoch 83/100\n",
      "124/124 [==============================] - 0s 718us/step - loss: 2.7483 - acc: 0.3226\n",
      "Epoch 84/100\n",
      "124/124 [==============================] - 0s 863us/step - loss: 2.7409 - acc: 0.3387\n",
      "Epoch 85/100\n"
     ]
    },
    {
     "name": "stdout",
     "output_type": "stream",
     "text": [
      "124/124 [==============================] - 0s 733us/step - loss: 2.7421 - acc: 0.3468\n",
      "Epoch 86/100\n",
      "124/124 [==============================] - 0s 766us/step - loss: 2.7026 - acc: 0.3710\n",
      "Epoch 87/100\n",
      "124/124 [==============================] - 0s 688us/step - loss: 2.6942 - acc: 0.3306\n",
      "Epoch 88/100\n",
      "124/124 [==============================] - 0s 870us/step - loss: 2.6663 - acc: 0.3952\n",
      "Epoch 89/100\n",
      "124/124 [==============================] - 0s 677us/step - loss: 2.6549 - acc: 0.3468\n",
      "Epoch 90/100\n",
      "124/124 [==============================] - 0s 685us/step - loss: 2.6333 - acc: 0.3952\n",
      "Epoch 91/100\n",
      "124/124 [==============================] - 0s 688us/step - loss: 2.6278 - acc: 0.3548\n",
      "Epoch 92/100\n",
      "124/124 [==============================] - 0s 621us/step - loss: 2.6015 - acc: 0.3710\n",
      "Epoch 93/100\n",
      "124/124 [==============================] - 0s 617us/step - loss: 2.5715 - acc: 0.3548\n",
      "Epoch 94/100\n",
      "124/124 [==============================] - 0s 619us/step - loss: 2.5637 - acc: 0.4113\n",
      "Epoch 95/100\n",
      "124/124 [==============================] - 0s 877us/step - loss: 2.5525 - acc: 0.3710\n",
      "Epoch 96/100\n",
      "124/124 [==============================] - 0s 884us/step - loss: 2.5562 - acc: 0.3710\n",
      "Epoch 97/100\n",
      "124/124 [==============================] - 0s 657us/step - loss: 2.5533 - acc: 0.3226\n",
      "Epoch 98/100\n",
      "124/124 [==============================] - 0s 718us/step - loss: 2.5290 - acc: 0.3387\n",
      "Epoch 99/100\n",
      "124/124 [==============================] - 0s 697us/step - loss: 2.5243 - acc: 0.3629\n",
      "Epoch 100/100\n",
      "124/124 [==============================] - 0s 765us/step - loss: 2.5209 - acc: 0.3387\n"
     ]
    }
   ],
   "source": [
    "model = create_model(predictors, label, max_sequence_len, total_words)"
   ]
  },
  {
   "cell_type": "code",
   "execution_count": 16,
   "metadata": {
    "colab": {
     "base_uri": "https://localhost:8080/",
     "height": 34
    },
    "colab_type": "code",
    "id": "zH-zOLTZYeB-",
    "outputId": "52d94130-5e85-4cb6-fb46-cdd41ed9b3d6"
   },
   "outputs": [
    {
     "name": "stdout",
     "output_type": "stream",
     "text": [
      "Избушка там на курьих ножках\n"
     ]
    }
   ],
   "source": [
    "print(generate_text(\"Избушка там\", 3, max_sequence_len))"
   ]
  },
  {
   "cell_type": "code",
   "execution_count": 17,
   "metadata": {
    "colab": {
     "base_uri": "https://localhost:8080/",
     "height": 34
    },
    "colab_type": "code",
    "id": "xwe-9lvtYpa1",
    "outputId": "9bb9da67-4e50-4c9d-b340-0e89b1b482a7"
   },
   "outputs": [
    {
     "name": "stdout",
     "output_type": "stream",
     "text": [
      "У лукоморья зелёный зелёный\n"
     ]
    }
   ],
   "source": [
    "print(generate_text(\"У лукоморья\", 2, max_sequence_len))"
   ]
  },
  {
   "cell_type": "code",
   "execution_count": 18,
   "metadata": {
    "colab": {
     "base_uri": "https://localhost:8080/",
     "height": 34
    },
    "colab_type": "code",
    "id": "SmCBE6r4Y4eN",
    "outputId": "adf8b166-6f66-4e7c-94cc-14f44a43b9cc"
   },
   "outputs": [
    {
     "name": "stdout",
     "output_type": "stream",
     "text": [
      "Златая цепь на дубе том\n"
     ]
    }
   ],
   "source": [
    "print(generate_text(\"Златая цепь\", 3, max_sequence_len))"
   ]
  },
  {
   "cell_type": "code",
   "execution_count": 19,
   "metadata": {
    "colab": {},
    "colab_type": "code",
    "collapsed": true,
    "id": "IGyaP6XcY-DJ"
   },
   "outputs": [],
   "source": [
    "embl = model.layers[0]"
   ]
  },
  {
   "cell_type": "code",
   "execution_count": 24,
   "metadata": {},
   "outputs": [
    {
     "data": {
      "text/plain": [
       "keras.layers.embeddings.Embedding"
      ]
     },
     "execution_count": 24,
     "metadata": {},
     "output_type": "execute_result"
    }
   ],
   "source": [
    "type(embl)"
   ]
  },
  {
   "cell_type": "code",
   "execution_count": 20,
   "metadata": {
    "colab": {},
    "colab_type": "code",
    "collapsed": true,
    "id": "dS6_NG4FIHA5"
   },
   "outputs": [],
   "source": [
    "from sklearn.decomposition import PCA\n",
    "from matplotlib.pylab import plt"
   ]
  },
  {
   "cell_type": "code",
   "execution_count": 21,
   "metadata": {
    "colab": {},
    "colab_type": "code",
    "collapsed": true,
    "id": "Lt1QNJskHWPE"
   },
   "outputs": [],
   "source": [
    "vl = PCA(n_components=2).fit_transform(embl.get_weights()[0])"
   ]
  },
  {
   "cell_type": "code",
   "execution_count": 22,
   "metadata": {
    "colab": {},
    "colab_type": "code",
    "collapsed": true,
    "id": "ptJT8bQLJBRX"
   },
   "outputs": [],
   "source": [
    "viz_words=['дуб','дух','дядька','златом','златая','цепь','волк']"
   ]
  },
  {
   "cell_type": "code",
   "execution_count": 23,
   "metadata": {
    "colab": {
     "base_uri": "https://localhost:8080/",
     "height": 703
    },
    "colab_type": "code",
    "id": "T6M_Uh-bHdLz",
    "outputId": "330d9c1e-e2c5-44f8-b7f6-971fdb9f3dd6"
   },
   "outputs": [
    {
     "data": {
      "image/png": "[encoded data removed]",
      "text/plain": [
       "<matplotlib.figure.Figure at 0x127fa65f8>"
      ]
     },
     "metadata": {},
     "output_type": "display_data"
    }
   ],
   "source": [
    "plt.figure(figsize=(16,12))\n",
    "plt.scatter(vl[:,0],vl[:,1],alpha=0.4)\n",
    "for word in viz_words:\n",
    "  ind = tokenizer.word_index[word]\n",
    "  plt.text(vl[ind,0],vl[ind,1],word,color='red',size=16)\n",
    "plt.show()"
   ]
  },
  {
   "cell_type": "code",
   "execution_count": 0,
   "metadata": {
    "colab": {},
    "colab_type": "code",
    "collapsed": true,
    "id": "o88WtPHG6wjw"
   },
   "outputs": [],
   "source": []
  }
 ],
 "metadata": {
  "colab": {
   "collapsed_sections": [],
   "name": "Language Model.ipynb",
   "provenance": [],
   "version": "0.3.2"
  },
  "kernelspec": {
   "display_name": "Python 3",
   "language": "python",
   "name": "python3"
  },
  "language_info": {
   "codemirror_mode": {
    "name": "ipython",
    "version": 3
   },
   "file_extension": ".py",
   "mimetype": "text/x-python",
   "name": "python",
   "nbconvert_exporter": "python",
   "pygments_lexer": "ipython3",
   "version": "3.6.3"
  }
 },
 "nbformat": 4,
 "nbformat_minor": 1
}
