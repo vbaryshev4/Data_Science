{
 "cells": [
  {
   "cell_type": "code",
   "execution_count": 1,
   "metadata": {
    "colab": {},
    "colab_type": "code",
    "id": "8nFbWUZPUHkc"
   },
   "outputs": [
    {
     "name": "stderr",
     "output_type": "stream",
     "text": [
      "Using TensorFlow backend.\n"
     ]
    }
   ],
   "source": [
    "from keras.preprocessing.sequence import pad_sequences\n",
    "from keras.layers import Embedding, LSTM, Dense,Input\n",
    "from keras.preprocessing.text import Tokenizer\n",
    "from keras.callbacks import EarlyStopping\n",
    "from keras.models import Sequential,Model\n",
    "import keras.utils as ku \n",
    "import numpy as np"
   ]
  },
  {
   "cell_type": "code",
   "execution_count": 2,
   "metadata": {
    "colab": {},
    "colab_type": "code",
    "collapsed": true,
    "id": "Cp5BtSccVzqd"
   },
   "outputs": [],
   "source": [
    "data = \"\"\"У лукоморья дуб зелёный;\n",
    "Златая цепь на дубе том:\n",
    "И днём и ночью кот учёный\n",
    "Всё ходит по цепи кругом;\n",
    "Идёт направо - песнь заводит,\n",
    "Налево - сказку говорит.\n",
    "Там чудеса: там леший бродит,\n",
    "Русалка на ветвях сидит;\n",
    "Там на неведомых дорожках\n",
    "Следы невиданных зверей;\n",
    "Избушка там на курьих ножках\n",
    "Стоит без окон, без дверей;\n",
    "Там лес и дол видений полны;\n",
    "Там о заре прихлынут волны\n",
    "На брег песчаный и пустой,\n",
    "И тридцать витязей прекрасных\n",
    "Чредой из вод выходят ясных,\n",
    "И с ними дядька их морской;\n",
    "Там королевич мимоходом\n",
    "Пленяет грозного царя;\n",
    "Там в облаках перед народом\n",
    "Через леса, через моря\n",
    "Колдун несёт богатыря;\n",
    "В темнице там царевна тужит,\n",
    "А бурый волк ей верно служит;\n",
    "Там ступа с Бабою Ягой\n",
    "Идёт, бредёт сама собой,\n",
    "Там царь Кащей над златом чахнет;\n",
    "Там русский дух... там Русью пахнет!\n",
    "И там я был, и мёд я пил;\n",
    "У моря видел дуб зелёный;\n",
    "Под ним сидел, и кот учёный\n",
    "Свои мне сказки говорил.\"\"\""
   ]
  },
  {
   "cell_type": "code",
   "execution_count": 3,
   "metadata": {
    "colab": {},
    "colab_type": "code",
    "collapsed": true,
    "id": "YNwSIAUW5l0u"
   },
   "outputs": [],
   "source": [
    "tokenizer = Tokenizer()"
   ]
  },
  {
   "cell_type": "code",
   "execution_count": 4,
   "metadata": {
    "colab": {},
    "colab_type": "code",
    "collapsed": true,
    "id": "yhbMLr9MYCkB"
   },
   "outputs": [],
   "source": [
    "def dataset_preparation(data):\n",
    "\tcorpus = data.lower().split(\"\\n\")\n",
    "  \n",
    "\ttokenizer.fit_on_texts(corpus)\n",
    "\ttotal_words = len(tokenizer.word_index) + 1\n",
    "\n",
    "\tinput_sequences = []\n",
    "\tfor line in corpus:\n",
    "\t\ttoken_list = tokenizer.texts_to_sequences([line])[0]\n",
    "\t\tfor i in range(1, len(token_list)):\n",
    "\t\t\tn_gram_sequence = token_list[:i+1]\n",
    "\t\t\tinput_sequences.append(n_gram_sequence)\n",
    "\n",
    "\tmax_sequence_len = max([len(x) for x in input_sequences])\n",
    "\tinput_sequences = np.array(pad_sequences(input_sequences, maxlen=max_sequence_len, padding='pre'))\n",
    "\n",
    "\tpredictors, label = input_sequences[:,:-1],input_sequences[:,-1]\n",
    "\tlabel = ku.to_categorical(label, num_classes=total_words)\n",
    "\n",
    "\treturn predictors, label, max_sequence_len, total_words"
   ]
  },
  {
   "cell_type": "code",
   "execution_count": 5,
   "metadata": {
    "colab": {},
    "colab_type": "code",
    "collapsed": true,
    "id": "Ue6GAWOjYWX4"
   },
   "outputs": [],
   "source": [
    "def create_model(predictors, label, max_sequence_len, total_words):\n",
    "\t\n",
    "\tmodel = Sequential()\n",
    "\tmodel.add(Embedding(total_words, 10, input_length=max_sequence_len-1))\n",
    "\tmodel.add(LSTM(150, return_sequences = True))\n",
    "\tmodel.add(LSTM(100))\n",
    "\tmodel.add(Dense(total_words, activation='softmax'))\n",
    "\n",
    "\tmodel.compile(loss='categorical_crossentropy', optimizer='adam', metrics=['accuracy'])\n",
    "\tearlystop = EarlyStopping(monitor='val_loss', min_delta=0, patience=5, verbose=0, mode='auto')\n",
    "\tmodel.fit(predictors, label, epochs=100, verbose=1, callbacks=[earlystop])\n",
    "\treturn model "
   ]
  },
  {
   "cell_type": "code",
   "execution_count": 6,
   "metadata": {
    "colab": {},
    "colab_type": "code",
    "collapsed": true,
    "id": "F7j3mPbHYYLm"
   },
   "outputs": [],
   "source": [
    "def generate_text(seed_text, next_words, max_sequence_len):\n",
    "\tfor _ in range(next_words):\n",
    "\t\ttoken_list = tokenizer.texts_to_sequences([seed_text])[0]\n",
    "\t\ttoken_list = pad_sequences([token_list], maxlen=max_sequence_len-1, padding='pre')\n",
    "\t\tpredicted = model.predict_classes(token_list, verbose=0)\n",
    "\t\t\n",
    "\t\toutput_word = \"\"\n",
    "\t\tfor word, index in tokenizer.word_index.items():\n",
    "\t\t\tif index == predicted:\n",
    "\t\t\t\toutput_word = word\n",
    "\t\t\t\tbreak\n",
    "\t\tseed_text += \" \" + output_word\n",
    "\treturn seed_text"
   ]
  },
  {
   "cell_type": "code",
   "execution_count": 7,
   "metadata": {
    "colab": {
     "base_uri": "https://localhost:8080/",
     "height": 3734
    },
    "colab_type": "code",
    "id": "NbPnTgUgYb_H",
    "outputId": "3f05b63d-93b3-46a7-dedd-4e83f61953fa"
   },
   "outputs": [
    {
     "name": "stdout",
     "output_type": "stream",
     "text": [
      "WARNING:tensorflow:From /anaconda3/lib/python3.6/site-packages/tensorflow/python/framework/op_def_library.py:263: colocate_with (from tensorflow.python.framework.ops) is deprecated and will be removed in a future version.\n",
      "Instructions for updating:\n",
      "Colocations handled automatically by placer.\n",
      "WARNING:tensorflow:From /anaconda3/lib/python3.6/site-packages/keras/backend/tensorflow_backend.py:1247: calling reduce_sum_v1 (from tensorflow.python.ops.math_ops) with keep_dims is deprecated and will be removed in a future version.\n",
      "Instructions for updating:\n",
      "keep_dims is deprecated, use keepdims instead\n",
      "WARNING:tensorflow:From /anaconda3/lib/python3.6/site-packages/tensorflow/python/ops/math_ops.py:3066: to_int32 (from tensorflow.python.ops.math_ops) is deprecated and will be removed in a future version.\n",
      "Instructions for updating:\n",
      "Use tf.cast instead.\n",
      "Epoch 1/100\n",
      "124/124 [==============================] - 2s 12ms/step - loss: 4.7965 - acc: 0.0161\n",
      "Epoch 2/100\n",
      "124/124 [==============================] - 0s 980us/step - loss: 4.7920 - acc: 0.0403\n",
      "Epoch 3/100\n",
      " 32/124 [======>.......................] - ETA: 0s - loss: 4.7893 - acc: 0.0312"
     ]
    },
    {
     "name": "stderr",
     "output_type": "stream",
     "text": [
      "/anaconda3/lib/python3.6/site-packages/keras/callbacks.py:494: RuntimeWarning: Early stopping conditioned on metric `val_loss` which is not available. Available metrics are: loss,acc\n",
      "  (self.monitor, ','.join(list(logs.keys()))), RuntimeWarning\n"
     ]
    },
    {
     "name": "stdout",
     "output_type": "stream",
     "text": [
      "124/124 [==============================] - 0s 1ms/step - loss: 4.7875 - acc: 0.0403\n",
      "Epoch 4/100\n",
      "124/124 [==============================] - 0s 1ms/step - loss: 4.7795 - acc: 0.0403\n",
      "Epoch 5/100\n",
      "124/124 [==============================] - 0s 1ms/step - loss: 4.7632 - acc: 0.0403\n",
      "Epoch 6/100\n",
      "124/124 [==============================] - 0s 971us/step - loss: 4.7323 - acc: 0.0403\n",
      "Epoch 7/100\n",
      "124/124 [==============================] - 0s 846us/step - loss: 4.6792 - acc: 0.0403\n",
      "Epoch 8/100\n",
      "124/124 [==============================] - 0s 895us/step - loss: 4.6519 - acc: 0.0403\n",
      "Epoch 9/100\n",
      "124/124 [==============================] - 0s 704us/step - loss: 4.6364 - acc: 0.0403\n",
      "Epoch 10/100\n",
      "124/124 [==============================] - 0s 803us/step - loss: 4.6121 - acc: 0.0403\n",
      "Epoch 11/100\n",
      "124/124 [==============================] - 0s 884us/step - loss: 4.6054 - acc: 0.0323\n",
      "Epoch 12/100\n",
      "124/124 [==============================] - 0s 888us/step - loss: 4.5967 - acc: 0.0403\n",
      "Epoch 13/100\n",
      "124/124 [==============================] - 0s 859us/step - loss: 4.5874 - acc: 0.0403\n",
      "Epoch 14/100\n",
      "124/124 [==============================] - 0s 1ms/step - loss: 4.5832 - acc: 0.0242\n",
      "Epoch 15/100\n",
      "124/124 [==============================] - 0s 925us/step - loss: 4.5783 - acc: 0.0484\n",
      "Epoch 16/100\n",
      "124/124 [==============================] - 0s 1ms/step - loss: 4.5717 - acc: 0.0484\n",
      "Epoch 17/100\n",
      "124/124 [==============================] - 0s 1ms/step - loss: 4.5683 - acc: 0.0242\n",
      "Epoch 18/100\n",
      "124/124 [==============================] - 0s 935us/step - loss: 4.5615 - acc: 0.0403\n",
      "Epoch 19/100\n",
      "124/124 [==============================] - 0s 1ms/step - loss: 4.5576 - acc: 0.0323\n",
      "Epoch 20/100\n",
      "124/124 [==============================] - 0s 994us/step - loss: 4.5529 - acc: 0.0484\n",
      "Epoch 21/100\n",
      "124/124 [==============================] - 0s 1ms/step - loss: 4.5464 - acc: 0.0484\n",
      "Epoch 22/100\n",
      "124/124 [==============================] - 0s 1ms/step - loss: 4.5385 - acc: 0.0403\n",
      "Epoch 23/100\n",
      "124/124 [==============================] - 0s 958us/step - loss: 4.5293 - acc: 0.0484\n",
      "Epoch 24/100\n",
      "124/124 [==============================] - 0s 916us/step - loss: 4.5161 - acc: 0.0484\n",
      "Epoch 25/100\n",
      "124/124 [==============================] - 0s 933us/step - loss: 4.4972 - acc: 0.0565\n",
      "Epoch 26/100\n",
      "124/124 [==============================] - 0s 925us/step - loss: 4.4825 - acc: 0.0726\n",
      "Epoch 27/100\n",
      "124/124 [==============================] - 0s 889us/step - loss: 4.4425 - acc: 0.0726\n",
      "Epoch 28/100\n",
      "124/124 [==============================] - 0s 1ms/step - loss: 4.4016 - acc: 0.0484\n",
      "Epoch 29/100\n",
      "124/124 [==============================] - 0s 743us/step - loss: 4.3660 - acc: 0.0565\n",
      "Epoch 30/100\n",
      "124/124 [==============================] - 0s 629us/step - loss: 4.3199 - acc: 0.0565\n",
      "Epoch 31/100\n",
      "124/124 [==============================] - 0s 639us/step - loss: 4.2557 - acc: 0.0806\n",
      "Epoch 32/100\n",
      "124/124 [==============================] - 0s 645us/step - loss: 4.2114 - acc: 0.0645\n",
      "Epoch 33/100\n",
      "124/124 [==============================] - 0s 653us/step - loss: 4.1567 - acc: 0.0806\n",
      "Epoch 34/100\n",
      "124/124 [==============================] - 0s 637us/step - loss: 4.1421 - acc: 0.0968\n",
      "Epoch 35/100\n",
      "124/124 [==============================] - 0s 628us/step - loss: 4.1191 - acc: 0.0645\n",
      "Epoch 36/100\n",
      "124/124 [==============================] - 0s 644us/step - loss: 4.0607 - acc: 0.0645\n",
      "Epoch 37/100\n",
      "124/124 [==============================] - 0s 647us/step - loss: 4.0243 - acc: 0.0806\n",
      "Epoch 38/100\n",
      "124/124 [==============================] - 0s 658us/step - loss: 3.9774 - acc: 0.1048\n",
      "Epoch 39/100\n",
      "124/124 [==============================] - 0s 625us/step - loss: 3.9352 - acc: 0.0806\n",
      "Epoch 40/100\n",
      "124/124 [==============================] - 0s 708us/step - loss: 3.9031 - acc: 0.0887\n",
      "Epoch 41/100\n",
      "124/124 [==============================] - 0s 1ms/step - loss: 3.8633 - acc: 0.1048\n",
      "Epoch 42/100\n",
      "124/124 [==============================] - 0s 1ms/step - loss: 3.8372 - acc: 0.0806\n",
      "Epoch 43/100\n",
      "124/124 [==============================] - 0s 760us/step - loss: 3.7768 - acc: 0.1048\n",
      "Epoch 44/100\n",
      "124/124 [==============================] - 0s 712us/step - loss: 3.7586 - acc: 0.1048\n",
      "Epoch 45/100\n",
      "124/124 [==============================] - 0s 817us/step - loss: 3.7484 - acc: 0.0887\n",
      "Epoch 46/100\n",
      "124/124 [==============================] - 0s 874us/step - loss: 3.7175 - acc: 0.1129\n",
      "Epoch 47/100\n",
      "124/124 [==============================] - 0s 987us/step - loss: 3.7167 - acc: 0.0968\n",
      "Epoch 48/100\n",
      "124/124 [==============================] - 0s 892us/step - loss: 3.6511 - acc: 0.0968\n",
      "Epoch 49/100\n",
      "124/124 [==============================] - 0s 1ms/step - loss: 3.6202 - acc: 0.1048\n",
      "Epoch 50/100\n",
      "124/124 [==============================] - 0s 831us/step - loss: 3.5981 - acc: 0.0968\n",
      "Epoch 51/100\n",
      "124/124 [==============================] - 0s 738us/step - loss: 3.5548 - acc: 0.1048\n",
      "Epoch 52/100\n",
      "124/124 [==============================] - 0s 711us/step - loss: 3.5397 - acc: 0.1129\n",
      "Epoch 53/100\n",
      "124/124 [==============================] - 0s 935us/step - loss: 3.5176 - acc: 0.1210\n",
      "Epoch 54/100\n",
      "124/124 [==============================] - 0s 1ms/step - loss: 3.4862 - acc: 0.1129\n",
      "Epoch 55/100\n",
      "124/124 [==============================] - 0s 1ms/step - loss: 3.4563 - acc: 0.1129\n",
      "Epoch 56/100\n",
      "124/124 [==============================] - 0s 974us/step - loss: 3.4376 - acc: 0.1371\n",
      "Epoch 57/100\n",
      "124/124 [==============================] - 0s 1ms/step - loss: 3.4030 - acc: 0.1371\n",
      "Epoch 58/100\n",
      "124/124 [==============================] - 0s 1ms/step - loss: 3.3609 - acc: 0.1532\n",
      "Epoch 59/100\n",
      "124/124 [==============================] - 0s 845us/step - loss: 3.3192 - acc: 0.1613\n",
      "Epoch 60/100\n",
      "124/124 [==============================] - 0s 730us/step - loss: 3.2893 - acc: 0.1855\n",
      "Epoch 61/100\n",
      "124/124 [==============================] - 0s 708us/step - loss: 3.2690 - acc: 0.1613\n",
      "Epoch 62/100\n",
      "124/124 [==============================] - 0s 778us/step - loss: 3.2266 - acc: 0.1935\n",
      "Epoch 63/100\n",
      "124/124 [==============================] - 0s 888us/step - loss: 3.1920 - acc: 0.1855\n",
      "Epoch 64/100\n",
      "124/124 [==============================] - 0s 766us/step - loss: 3.1597 - acc: 0.2097\n",
      "Epoch 65/100\n",
      "124/124 [==============================] - 0s 917us/step - loss: 3.1401 - acc: 0.2177\n",
      "Epoch 66/100\n",
      "124/124 [==============================] - 0s 1ms/step - loss: 3.1071 - acc: 0.2258\n",
      "Epoch 67/100\n",
      "124/124 [==============================] - 0s 1ms/step - loss: 3.0599 - acc: 0.2500\n",
      "Epoch 68/100\n",
      "124/124 [==============================] - 0s 1ms/step - loss: 3.0314 - acc: 0.2500\n",
      "Epoch 69/100\n",
      "124/124 [==============================] - 0s 917us/step - loss: 3.0044 - acc: 0.2661\n",
      "Epoch 70/100\n",
      "124/124 [==============================] - 0s 969us/step - loss: 2.9683 - acc: 0.2661\n",
      "Epoch 71/100\n",
      "124/124 [==============================] - 0s 1ms/step - loss: 2.9382 - acc: 0.2903\n",
      "Epoch 72/100\n",
      "124/124 [==============================] - 0s 951us/step - loss: 2.9140 - acc: 0.2500\n",
      "Epoch 73/100\n",
      "124/124 [==============================] - 0s 994us/step - loss: 2.8706 - acc: 0.3065\n",
      "Epoch 74/100\n",
      "124/124 [==============================] - 0s 916us/step - loss: 2.8436 - acc: 0.3226\n",
      "Epoch 75/100\n",
      "124/124 [==============================] - 0s 996us/step - loss: 2.8019 - acc: 0.3468\n",
      "Epoch 76/100\n",
      "124/124 [==============================] - 0s 997us/step - loss: 2.7830 - acc: 0.3468\n",
      "Epoch 77/100\n",
      "124/124 [==============================] - 0s 895us/step - loss: 2.7857 - acc: 0.3629\n",
      "Epoch 78/100\n",
      "124/124 [==============================] - 0s 840us/step - loss: 2.7551 - acc: 0.3548\n",
      "Epoch 79/100\n",
      "124/124 [==============================] - 0s 833us/step - loss: 2.6960 - acc: 0.3710\n",
      "Epoch 80/100\n",
      "124/124 [==============================] - 0s 939us/step - loss: 2.6719 - acc: 0.3871\n",
      "Epoch 81/100\n",
      "124/124 [==============================] - 0s 1ms/step - loss: 2.6426 - acc: 0.3710\n",
      "Epoch 82/100\n",
      "124/124 [==============================] - 0s 926us/step - loss: 2.6496 - acc: 0.4032\n",
      "Epoch 83/100\n",
      "124/124 [==============================] - 0s 958us/step - loss: 2.6352 - acc: 0.3790\n",
      "Epoch 84/100\n",
      "124/124 [==============================] - 0s 1ms/step - loss: 2.6119 - acc: 0.3790\n",
      "Epoch 85/100\n",
      "124/124 [==============================] - 0s 744us/step - loss: 2.6161 - acc: 0.3710\n",
      "Epoch 86/100\n"
     ]
    },
    {
     "name": "stdout",
     "output_type": "stream",
     "text": [
      "124/124 [==============================] - 0s 712us/step - loss: 2.5818 - acc: 0.4032\n",
      "Epoch 87/100\n",
      "124/124 [==============================] - 0s 801us/step - loss: 2.5518 - acc: 0.4032\n",
      "Epoch 88/100\n",
      "124/124 [==============================] - 0s 701us/step - loss: 2.5344 - acc: 0.3952\n",
      "Epoch 89/100\n",
      "124/124 [==============================] - 0s 689us/step - loss: 2.5021 - acc: 0.4355\n",
      "Epoch 90/100\n",
      "124/124 [==============================] - 0s 741us/step - loss: 2.4692 - acc: 0.4274\n",
      "Epoch 91/100\n",
      "124/124 [==============================] - 0s 928us/step - loss: 2.4385 - acc: 0.4194\n",
      "Epoch 92/100\n",
      "124/124 [==============================] - 0s 936us/step - loss: 2.3968 - acc: 0.4435\n",
      "Epoch 93/100\n",
      "124/124 [==============================] - 0s 760us/step - loss: 2.3664 - acc: 0.4677\n",
      "Epoch 94/100\n",
      "124/124 [==============================] - 0s 840us/step - loss: 2.3394 - acc: 0.4516\n",
      "Epoch 95/100\n",
      "124/124 [==============================] - 0s 761us/step - loss: 2.3319 - acc: 0.4597\n",
      "Epoch 96/100\n",
      "124/124 [==============================] - 0s 884us/step - loss: 2.3264 - acc: 0.4677\n",
      "Epoch 97/100\n",
      "124/124 [==============================] - 0s 854us/step - loss: 2.3015 - acc: 0.4516\n",
      "Epoch 98/100\n",
      "124/124 [==============================] - 0s 862us/step - loss: 2.2745 - acc: 0.4758\n",
      "Epoch 99/100\n",
      "124/124 [==============================] - 0s 782us/step - loss: 2.2780 - acc: 0.4677\n",
      "Epoch 100/100\n",
      "124/124 [==============================] - 0s 830us/step - loss: 2.2483 - acc: 0.4677\n"
     ]
    }
   ],
   "source": [
    "predictors, label, max_sequence_len, total_words = dataset_preparation(data)\n",
    "model = create_model(predictors, label, max_sequence_len, total_words)"
   ]
  },
  {
   "cell_type": "code",
   "execution_count": 8,
   "metadata": {
    "colab": {
     "base_uri": "https://localhost:8080/",
     "height": 34
    },
    "colab_type": "code",
    "id": "zH-zOLTZYeB-",
    "outputId": "52d94130-5e85-4cb6-fb46-cdd41ed9b3d6"
   },
   "outputs": [
    {
     "name": "stdout",
     "output_type": "stream",
     "text": [
      "Избушка там там и дол\n"
     ]
    }
   ],
   "source": [
    "print(generate_text(\"Избушка там\", 3, max_sequence_len))"
   ]
  },
  {
   "cell_type": "code",
   "execution_count": 9,
   "metadata": {
    "colab": {
     "base_uri": "https://localhost:8080/",
     "height": 34
    },
    "colab_type": "code",
    "id": "xwe-9lvtYpa1",
    "outputId": "9bb9da67-4e50-4c9d-b340-0e89b1b482a7"
   },
   "outputs": [
    {
     "name": "stdout",
     "output_type": "stream",
     "text": [
      "У лукоморья дуб зелёный\n"
     ]
    }
   ],
   "source": [
    "print(generate_text(\"У лукоморья\", 2, max_sequence_len))"
   ]
  },
  {
   "cell_type": "code",
   "execution_count": 10,
   "metadata": {
    "colab": {
     "base_uri": "https://localhost:8080/",
     "height": 34
    },
    "colab_type": "code",
    "id": "SmCBE6r4Y4eN",
    "outputId": "adf8b166-6f66-4e7c-94cc-14f44a43b9cc"
   },
   "outputs": [
    {
     "name": "stdout",
     "output_type": "stream",
     "text": [
      "Златая цепь на сидит том\n"
     ]
    }
   ],
   "source": [
    "print(generate_text(\"Златая цепь\", 3, max_sequence_len))"
   ]
  },
  {
   "cell_type": "code",
   "execution_count": 11,
   "metadata": {
    "colab": {},
    "colab_type": "code",
    "collapsed": true,
    "id": "IGyaP6XcY-DJ"
   },
   "outputs": [],
   "source": [
    "embl = model.layers[0]"
   ]
  },
  {
   "cell_type": "code",
   "execution_count": 12,
   "metadata": {
    "colab": {},
    "colab_type": "code",
    "collapsed": true,
    "id": "dS6_NG4FIHA5"
   },
   "outputs": [],
   "source": [
    "from sklearn.decomposition import PCA\n",
    "from matplotlib.pylab import plt"
   ]
  },
  {
   "cell_type": "code",
   "execution_count": 13,
   "metadata": {
    "colab": {},
    "colab_type": "code",
    "collapsed": true,
    "id": "Lt1QNJskHWPE"
   },
   "outputs": [],
   "source": [
    "vl = PCA(n_components=2).fit_transform(embl.get_weights()[0])"
   ]
  },
  {
   "cell_type": "code",
   "execution_count": 14,
   "metadata": {
    "colab": {},
    "colab_type": "code",
    "collapsed": true,
    "id": "ptJT8bQLJBRX"
   },
   "outputs": [],
   "source": [
    "viz_words=['дуб','дух','дядька','златом','златая','цепь','волк']"
   ]
  },
  {
   "cell_type": "code",
   "execution_count": 16,
   "metadata": {
    "colab": {
     "base_uri": "https://localhost:8080/",
     "height": 703
    },
    "colab_type": "code",
    "id": "T6M_Uh-bHdLz",
    "outputId": "330d9c1e-e2c5-44f8-b7f6-971fdb9f3dd6"
   },
   "outputs": [
    {
     "data": {
      "image/png": "[encoded data removed]",
      "text/plain": [
       "<matplotlib.figure.Figure at 0x12f0ff198>"
      ]
     },
     "metadata": {},
     "output_type": "display_data"
    },
    {
     "data": {
      "image/png": "[encoded data removed]",
      "text/plain": [
       "<matplotlib.figure.Figure at 0x12f1898d0>"
      ]
     },
     "metadata": {},
     "output_type": "display_data"
    }
   ],
   "source": [
    "plt.figure(figsize=(16,12))\n",
    "plt.scatter(vl[:,0],vl[:,1],alpha=0.4)\n",
    "for word in viz_words:\n",
    "  ind = tokenizer.word_index[word]\n",
    "  plt.text(vl[ind,0],vl[ind,1],word,color='red',size=16)\n",
    "plt.show()"
   ]
  },
  {
   "cell_type": "code",
   "execution_count": 0,
   "metadata": {
    "colab": {},
    "colab_type": "code",
    "collapsed": true,
    "id": "o88WtPHG6wjw"
   },
   "outputs": [],
   "source": []
  }
 ],
 "metadata": {
  "colab": {
   "collapsed_sections": [],
   "name": "Language Model.ipynb",
   "provenance": [],
   "version": "0.3.2"
  },
  "kernelspec": {
   "display_name": "Python 3",
   "language": "python",
   "name": "python3"
  },
  "language_info": {
   "codemirror_mode": {
    "name": "ipython",
    "version": 3
   },
   "file_extension": ".py",
   "mimetype": "text/x-python",
   "name": "python",
   "nbconvert_exporter": "python",
   "pygments_lexer": "ipython3",
   "version": "3.6.3"
  }
 },
 "nbformat": 4,
 "nbformat_minor": 1
}
