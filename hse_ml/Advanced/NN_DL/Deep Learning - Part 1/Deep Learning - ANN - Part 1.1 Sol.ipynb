{
 "cells": [
  {
   "cell_type": "markdown",
   "metadata": {},
   "source": [
    "# Глава 1. Полносвязные нейронные сети"
   ]
  },
  {
   "cell_type": "markdown",
   "metadata": {},
   "source": [
    "Для понимания того, как устроена простая полносвязная нейронная сеть мы разработаем пример подобной сети на чистом numpy."
   ]
  },
  {
   "cell_type": "markdown",
   "metadata": {},
   "source": [
    "## 1. Нейронная сеть состоит из следующих элементов:\n",
    "* Слой входных параметров **x**\n",
    "* Несколько скрытых слоев (hidden layers)\n",
    "* Выход сети **y**\n",
    "* Набор весов (weights) **W** и векторов сдвига (biases) **b** для каждого скрытого слоя\n",
    "* Функция активации каждого скрытого слоя $\\sigma$\n",
    "\n",
    "Далее показана архитектура двуслойной нейронной сети (обычно слой входных параметров не считают, только слои, где осуществляются вычисления)"
   ]
  },
  {
   "cell_type": "markdown",
   "metadata": {},
   "source": [
    "![title](img/ann.png)"
   ]
  },
  {
   "cell_type": "markdown",
   "metadata": {},
   "source": [
    "Реализуем на Python собственную многослойную нейронную сеть:"
   ]
  },
  {
   "cell_type": "code",
   "execution_count": null,
   "metadata": {},
   "outputs": [],
   "source": [
    "сlass NeuralNetwork: \n",
    "    def __init__(self, x, y):\n",
    "        self.input      = x\n",
    "        self.weights1   = np.random.rand(self.input.shape[1],4) \n",
    "        self.weights2   = np.random.rand(4,1)                 \n",
    "        self.y          = y\n",
    "        self.output     = np.zeros(self.y.shape)"
   ]
  },
  {
   "cell_type": "markdown",
   "metadata": {},
   "source": [
    "## 2. Обучение нейронной сети"
   ]
  },
  {
   "cell_type": "markdown",
   "metadata": {},
   "source": [
    "Выход двуслойной нейронной сети:"
   ]
  },
  {
   "cell_type": "markdown",
   "metadata": {},
   "source": [
    "![title](img/ann1.png)"
   ]
  },
  {
   "cell_type": "markdown",
   "metadata": {},
   "source": [
    "* В приведенном выше уравнении весовые коэффициенты W и смещения b являются единственными переменными, \n",
    "которые влияют на результат y^.\n",
    "\n",
    "* Естественно, правильные значения весов и смещений определяют точность модели. Процесс точной настройки весов и смещений из входных данных - называется **обучение нейронной сети**.\n",
    "\n",
    "* Каждая итерация учебного процесса состоит из следующих шагов:\n",
    "\n",
    "* Расчет прогнозируемого выхода называется прямое распространение (feedforward)\n",
    "\n",
    "* Обновление весов и сдвигов называется обратным распространением (backpropagation)\n",
    "\n",
    "Последовательный график ниже иллюстрирует процесс."
   ]
  },
  {
   "cell_type": "markdown",
   "metadata": {},
   "source": [
    "![title](img/ann2.png)"
   ]
  },
  {
   "cell_type": "markdown",
   "metadata": {},
   "source": [
    "## 2.1 Прямое распространение "
   ]
  },
  {
   "cell_type": "markdown",
   "metadata": {},
   "source": [
    "Как следует из предыдущего графика, прямое распространение (feedforward) - это просто простое последоватлеьность вычислительных операций нейронной сети. Для базовой двухслойной нейронной сети результат шага прямого рапсространения:"
   ]
  },
  {
   "cell_type": "markdown",
   "metadata": {},
   "source": [
    "![title](img/ann1.png)"
   ]
  },
  {
   "cell_type": "markdown",
   "metadata": {},
   "source": [
    "Давайте добавим функцию прямого вычисления в класс"
   ]
  },
  {
   "cell_type": "code",
   "execution_count": null,
   "metadata": {},
   "outputs": [],
   "source": [
    "сlass NeuralNetwork: \n",
    "    def __init__(self, x, y):\n",
    "        self.input      = x\n",
    "        self.weights1   = np.random.rand(self.input.shape[1],4) \n",
    "        self.weights2   = np.random.rand(4,1)                 \n",
    "        self.y          = y\n",
    "        self.output     = np.zeros(self.y.shape)\n",
    "\n",
    "    def feedforward(self):\n",
    "        self.layer1 = sigmoid(np.dot(self.input, self.weights1))\n",
    "        self.output = sigmoid(np.dot(self.layer1, self.weights2))\n",
    "    return self.output"
   ]
  },
  {
   "cell_type": "markdown",
   "metadata": {},
   "source": [
    "## 2.2 Функция потерь "
   ]
  },
  {
   "cell_type": "markdown",
   "metadata": {},
   "source": [
    "Нам нужно уметь оценивать результат / прогноз нейронной сети. Для этого реализуем функцию потерь \n",
    "нейронной сети, которую будем стараться минимизировать"
   ]
  },
  {
   "cell_type": "markdown",
   "metadata": {},
   "source": [
    "Существует много доступных функций потерь. Выбор конкретной функции потерь зависит от задачи.\n",
    "В этом руководстве мы будем использовать наиболее часто используемую функцию потерь - среднеквадратичную ошибку"
   ]
  },
  {
   "cell_type": "markdown",
   "metadata": {},
   "source": [
    "![title](img/ann3.png)"
   ]
  },
  {
   "cell_type": "markdown",
   "metadata": {},
   "source": [
    "**Среднеквадратичная ошибка (MSE)** - это просто сумма разностей между каждым прогнозируемым значением и фактическим значением. Разница возводится в квадрат, поэтому мы тем самым измеряем абсолютное значение разницы.\n",
    "\n",
    "Наша цель при обучении нейронной сети - найти лучший набор весов **W** и сдвигов **b**, которые минимизируют выбранную функцию потерь."
   ]
  },
  {
   "cell_type": "code",
   "execution_count": null,
   "metadata": {},
   "outputs": [],
   "source": [
    "def loss(y,y_out):\n",
    "    return np.mean(np.square(y-y_out))"
   ]
  },
  {
   "cell_type": "markdown",
   "metadata": {},
   "source": [
    "## 2.3. Обратное распространение ошибки"
   ]
  },
  {
   "cell_type": "markdown",
   "metadata": {},
   "source": [
    "Теперь, когда мы можем измерить ошибку нашего прогноза (потери), нам нужно найти способ распространить ошибку назад по сети и обновить наши веса **W** и свдиги **b**.\n",
    "\n",
    "Нам необходимо знать производную (изменение) функции потерь по весовым коэффициентам и смещениям, чтобы с ее помощью которой можно скорректировать весовые коэффициенты и смещения.\n",
    "\n",
    "Напомним, что производная функции - это просто скорость роста функции (тангенс угла наклона касательной к графику функции)."
   ]
  },
  {
   "cell_type": "markdown",
   "metadata": {},
   "source": [
    "![title](img/ann4.png)"
   ]
  },
  {
   "cell_type": "markdown",
   "metadata": {},
   "source": [
    "Если у нас есть производная, мы можем просто обновить веса и смещения, двигаясь в направлении антиградиента функции потерь.\n",
    "\n",
    "Однако, мы не можем напрямую рассчитать производную функции потерь по весам и смещениям, потому что уравнение функции потерь не содержит весов и смещений. Поэтому нам нужно воспользоваться правилом дифференцирования сложной функции (**chain rule**)."
   ]
  },
  {
   "cell_type": "markdown",
   "metadata": {},
   "source": [
    "![title](img/ann5.png)"
   ]
  },
  {
   "cell_type": "markdown",
   "metadata": {},
   "source": [
    "Давайте добавим функцию обратного распространения ошибки в нашу нейронную сеть"
   ]
  },
  {
   "cell_type": "code",
   "execution_count": null,
   "metadata": {},
   "outputs": [],
   "source": [
    "def backprop(self):\n",
    "        # application of the chain rule to find derivative of the loss function with respect to weights2 and weights1\n",
    "        d_weights2 = np.dot(self.layer1.T, (2*(self.y - self.output) * sigmoid_derivative(self.output)))\n",
    "        d_weights1 = np.dot(self.input.T,  (np.dot(2*(self.y - self.output) * sigmoid_derivative(self.output), self.weights2.T) * sigmoid_derivative(self.layer1)))\n",
    "\n",
    "        # update the weights with the derivative (slope) of the loss function\n",
    "        self.weights1 += d_weights1\n",
    "        self.weights2 += d_weights2"
   ]
  },
  {
   "cell_type": "code",
   "execution_count": null,
   "metadata": {},
   "outputs": [],
   "source": [
    "def train(self, X, y): \n",
    "        self.output = self.feedforward() \n",
    "        self.backprop()"
   ]
  },
  {
   "cell_type": "markdown",
   "metadata": {},
   "source": [
    "## 3. Применение нейронной сети"
   ]
  },
  {
   "cell_type": "markdown",
   "metadata": {},
   "source": [
    "Собираем все вместе. Теперь, когда у нас есть полный код Python для выполнения прямого вычисления и обратного распространения, давайте применим нашу нейронную сеть на примере"
   ]
  },
  {
   "cell_type": "markdown",
   "metadata": {},
   "source": [
    "### Задание 1. Собрать код нейронной сети"
   ]
  },
  {
   "cell_type": "markdown",
   "metadata": {},
   "source": [
    "Наша нейронная сеть должна изучить идеальный набор весов для представления функции **Y(X)**.\n",
    "Сможете найти закономерность внимательным всматриванием?\n",
    "\n",
    "Давайте обучим нейронную сеть для 1500-2000 итераций и посмотрим на результат."
   ]
  },
  {
   "cell_type": "markdown",
   "metadata": {},
   "source": [
    "![title](img/ann6.png)"
   ]
  },
  {
   "cell_type": "markdown",
   "metadata": {},
   "source": [
    "### Задание 2. \n",
    "* Добавить learning rate \n",
    "* Визуализировать функцию потерь с числом итераций обучения\n",
    "* Визуализироват функцию потерь при разном числе нейронов в первом скрытом слое"
   ]
  },
  {
   "cell_type": "markdown",
   "metadata": {},
   "source": [
    "## 4. Решение"
   ]
  },
  {
   "cell_type": "code",
   "execution_count": 5,
   "metadata": {},
   "outputs": [],
   "source": [
    "import numpy as np\n",
    "from IPython.display import display, Math, Latex\n",
    "# Imports import numpy as np \n",
    "# Each row is a training example, each column is a feature [X1, X2, X3] \n",
    "X=np.array(([0,0,1],[0,1,1],[1,0,1],[1,1,1]), dtype=float)\n",
    "y=np.array(([0],[1],[1],[0]), dtype=float) \n",
    "\n",
    "# Define useful functions \n",
    "# Activation function \n",
    "def sigmoid(t): return 1/(1+np.exp(-t)) \n",
    "# Derivative of sigmoid \n",
    "def sigmoid_derivative(p): return p * (1 - p)"
   ]
  },
  {
   "cell_type": "code",
   "execution_count": 34,
   "metadata": {},
   "outputs": [],
   "source": [
    "class NeuralNetwork: \n",
    "    \n",
    "    def __init__(self, x,y): \n",
    "        self.input = x \n",
    "        self.weights1= np.random.rand(self.input.shape[1],4) # considering we have 4 nodes in the hidden layer \n",
    "        self.weights2 = np.random.rand(4,1)\n",
    "        self.y = y \n",
    "        self.output = np.zeros(y.shape) \n",
    "        \n",
    "    def feedforward(self): \n",
    "        self.layer1 = sigmoid(np.dot(self.input, self.weights1)) \n",
    "        self.layer2 = sigmoid(np.dot(self.layer1, self.weights2)) \n",
    "        return self.layer2 \n",
    "        \n",
    "    def backprop(self): \n",
    "        d_weights2 = np.dot(self.layer1.T, 2*(self.y -self.output)*sigmoid_derivative(self.output)) \n",
    "        d_weights1 = np.dot(self.input.T, np.dot(2*(self.y -self.output)*sigmoid_derivative(self.output), \n",
    "                                                 self.weights2.T)*sigmoid_derivative(self.layer1)) \n",
    "        self.weights1 += d_weights1 \n",
    "        self.weights2 += d_weights2 \n",
    "            \n",
    "    def train(self, X, y): \n",
    "        self.output = self.feedforward() \n",
    "        self.backprop()"
   ]
  },
  {
   "cell_type": "code",
   "execution_count": 8,
   "metadata": {},
   "outputs": [],
   "source": [
    "def print_result(i,X,y,y_out):\n",
    "    print (\"for iteration: \" + str(i) + \"\\n\") \n",
    "    print (\"Input : \\n\" + str(X)) \n",
    "    print (\"Actual Output: \\n\" + str(y)) \n",
    "    print (\"Predicted Output: \\n\" + str(y_out)) \n",
    "    print (\"Loss: \\n\" + str(loss(y,y_out))) \n",
    "    print (\"\\n\")"
   ]
  },
  {
   "cell_type": "code",
   "execution_count": 11,
   "metadata": {},
   "outputs": [
    {
     "name": "stdout",
     "output_type": "stream",
     "text": [
      "for iteration # 0\n",
      "\n",
      "Input : \n",
      "[[0. 0. 1.]\n",
      " [0. 1. 1.]\n",
      " [1. 0. 1.]\n",
      " [1. 1. 1.]]\n",
      "Actual Output: \n",
      "[[0.]\n",
      " [1.]\n",
      " [1.]\n",
      " [0.]]\n",
      "Predicted Output: \n",
      "[[0.81893282]\n",
      " [0.86204539]\n",
      " [0.85706349]\n",
      " [0.88682399]]\n",
      "Loss: \n",
      "0.37414251814197125\n",
      "\n",
      "\n",
      "for iteration # 100\n",
      "\n",
      "Input : \n",
      "[[0. 0. 1.]\n",
      " [0. 1. 1.]\n",
      " [1. 0. 1.]\n",
      " [1. 1. 1.]]\n",
      "Actual Output: \n",
      "[[0.]\n",
      " [1.]\n",
      " [1.]\n",
      " [0.]]\n",
      "Predicted Output: \n",
      "[[0.3638077 ]\n",
      " [0.58658134]\n",
      " [0.53035871]\n",
      " [0.5638825 ]]\n",
      "Loss: \n",
      "0.2104493611514342\n",
      "\n",
      "\n",
      "for iteration # 200\n",
      "\n",
      "Input : \n",
      "[[0. 0. 1.]\n",
      " [0. 1. 1.]\n",
      " [1. 0. 1.]\n",
      " [1. 1. 1.]]\n",
      "Actual Output: \n",
      "[[0.]\n",
      " [1.]\n",
      " [1.]\n",
      " [0.]]\n",
      "Predicted Output: \n",
      "[[0.13309306]\n",
      " [0.78267147]\n",
      " [0.763325  ]\n",
      " [0.28283141]]\n",
      "Loss: \n",
      "0.050238528369912994\n",
      "\n",
      "\n",
      "for iteration # 300\n",
      "\n",
      "Input : \n",
      "[[0. 0. 1.]\n",
      " [0. 1. 1.]\n",
      " [1. 0. 1.]\n",
      " [1. 1. 1.]]\n",
      "Actual Output: \n",
      "[[0.]\n",
      " [1.]\n",
      " [1.]\n",
      " [0.]]\n",
      "Predicted Output: \n",
      "[[0.06825755]\n",
      " [0.90542781]\n",
      " [0.88686311]\n",
      " [0.12166557]]\n",
      "Loss: \n",
      "0.010301364927355356\n",
      "\n",
      "\n",
      "for iteration # 400\n",
      "\n",
      "Input : \n",
      "[[0. 0. 1.]\n",
      " [0. 1. 1.]\n",
      " [1. 0. 1.]\n",
      " [1. 1. 1.]]\n",
      "Actual Output: \n",
      "[[0.]\n",
      " [1.]\n",
      " [1.]\n",
      " [0.]]\n",
      "Predicted Output: \n",
      "[[0.04826518]\n",
      " [0.9387217 ]\n",
      " [0.92269191]\n",
      " [0.07977986]]\n",
      "Loss: \n",
      "0.004606480861343112\n",
      "\n",
      "\n",
      "for iteration # 500\n",
      "\n",
      "Input : \n",
      "[[0. 0. 1.]\n",
      " [0. 1. 1.]\n",
      " [1. 0. 1.]\n",
      " [1. 1. 1.]]\n",
      "Actual Output: \n",
      "[[0.]\n",
      " [1.]\n",
      " [1.]\n",
      " [0.]]\n",
      "Predicted Output: \n",
      "[[0.03888361]\n",
      " [0.95340601]\n",
      " [0.93924063]\n",
      " [0.06123311]]\n",
      "Loss: \n",
      "0.0027810326015283403\n",
      "\n",
      "\n",
      "for iteration # 600\n",
      "\n",
      "Input : \n",
      "[[0. 0. 1.]\n",
      " [0. 1. 1.]\n",
      " [1. 0. 1.]\n",
      " [1. 1. 1.]]\n",
      "Actual Output: \n",
      "[[0.]\n",
      " [1.]\n",
      " [1.]\n",
      " [0.]]\n",
      "Predicted Output: \n",
      "[[0.03332567]\n",
      " [0.96175572]\n",
      " [0.94889552]\n",
      " [0.05065762]]\n",
      "Loss: \n",
      "0.0019377718852013341\n",
      "\n",
      "\n",
      "for iteration # 700\n",
      "\n",
      "Input : \n",
      "[[0. 0. 1.]\n",
      " [0. 1. 1.]\n",
      " [1. 0. 1.]\n",
      " [1. 1. 1.]]\n",
      "Actual Output: \n",
      "[[0.]\n",
      " [1.]\n",
      " [1.]\n",
      " [0.]]\n",
      "Predicted Output: \n",
      "[[0.02958717]\n",
      " [0.9671992 ]\n",
      " [0.95530444]\n",
      " [0.04374488]]\n",
      "Loss: \n",
      "0.0014656500531723192\n",
      "\n",
      "\n",
      "for iteration # 800\n",
      "\n",
      "Input : \n",
      "[[0. 0. 1.]\n",
      " [0. 1. 1.]\n",
      " [1. 0. 1.]\n",
      " [1. 1. 1.]]\n",
      "Actual Output: \n",
      "[[0.]\n",
      " [1.]\n",
      " [1.]\n",
      " [0.]]\n",
      "Predicted Output: \n",
      "[[0.02686698]\n",
      " [0.97105978]\n",
      " [0.95991525]\n",
      " [0.03882898]]\n",
      "Loss: \n",
      "0.0011684619943012208\n",
      "\n",
      "\n",
      "for iteration # 900\n",
      "\n",
      "Input : \n",
      "[[0. 0. 1.]\n",
      " [0. 1. 1.]\n",
      " [1. 0. 1.]\n",
      " [1. 1. 1.]]\n",
      "Actual Output: \n",
      "[[0.]\n",
      " [1.]\n",
      " [1.]\n",
      " [0.]]\n",
      "Predicted Output: \n",
      "[[0.02477979]\n",
      " [0.97395785]\n",
      " [0.96341874]\n",
      " [0.03512845]]\n",
      "Loss: \n",
      "0.0009661071355608825\n",
      "\n",
      "\n",
      "for iteration # 1000\n",
      "\n",
      "Input : \n",
      "[[0. 0. 1.]\n",
      " [0. 1. 1.]\n",
      " [1. 0. 1.]\n",
      " [1. 1. 1.]]\n",
      "Actual Output: \n",
      "[[0.]\n",
      " [1.]\n",
      " [1.]\n",
      " [0.]]\n",
      "Predicted Output: \n",
      "[[0.02311592]\n",
      " [0.97622413]\n",
      " [0.96618779]\n",
      " [0.03222657]]\n",
      "Loss: \n",
      "0.0008203637669813923\n",
      "\n",
      "\n",
      "for iteration # 1100\n",
      "\n",
      "Input : \n",
      "[[0. 0. 1.]\n",
      " [0. 1. 1.]\n",
      " [1. 0. 1.]\n",
      " [1. 1. 1.]]\n",
      "Actual Output: \n",
      "[[0.]\n",
      " [1.]\n",
      " [1.]\n",
      " [0.]]\n",
      "Predicted Output: \n",
      "[[0.02175083]\n",
      " [0.97805176]\n",
      " [0.96844231]\n",
      " [0.02987991]]\n",
      "Loss: \n",
      "0.000710880161440766\n",
      "\n",
      "\n",
      "for iteration # 1200\n",
      "\n",
      "Input : \n",
      "[[0. 0. 1.]\n",
      " [0. 1. 1.]\n",
      " [1. 0. 1.]\n",
      " [1. 1. 1.]]\n",
      "Actual Output: \n",
      "[[0.]\n",
      " [1.]\n",
      " [1.]\n",
      " [0.]]\n",
      "Predicted Output: \n",
      "[[0.02060551]\n",
      " [0.97956143]\n",
      " [0.9703209 ]\n",
      " [0.02793624]]\n",
      "Loss: \n",
      "0.0006259013201073992\n",
      "\n",
      "\n",
      "for iteration # 1300\n",
      "\n",
      "Input : \n",
      "[[0. 0. 1.]\n",
      " [0. 1. 1.]\n",
      " [1. 0. 1.]\n",
      " [1. 1. 1.]]\n",
      "Actual Output: \n",
      "[[0.]\n",
      " [1.]\n",
      " [1.]\n",
      " [0.]]\n",
      "Predicted Output: \n",
      "[[0.0196272 ]\n",
      " [0.98083268]\n",
      " [0.97191552]\n",
      " [0.02629524]]\n",
      "Loss: \n",
      "0.000558197653183785\n",
      "\n",
      "\n",
      "for iteration # 1400\n",
      "\n",
      "Input : \n",
      "[[0. 0. 1.]\n",
      " [0. 1. 1.]\n",
      " [1. 0. 1.]\n",
      " [1. 1. 1.]]\n",
      "Actual Output: \n",
      "[[0.]\n",
      " [1.]\n",
      " [1.]\n",
      " [0.]]\n",
      "Predicted Output: \n",
      "[[0.0187792 ]\n",
      " [0.98192015]\n",
      " [0.9732898 ]\n",
      " [0.02488787]]\n",
      "Loss: \n",
      "0.0005030950831952274\n",
      "\n",
      "\n",
      "for iteration # 1500\n",
      "\n",
      "Input : \n",
      "[[0. 0. 1.]\n",
      " [0. 1. 1.]\n",
      " [1. 0. 1.]\n",
      " [1. 1. 1.]]\n",
      "Actual Output: \n",
      "[[0.]\n",
      " [1.]\n",
      " [1.]\n",
      " [0.]]\n",
      "Predicted Output: \n",
      "[[0.01803514]\n",
      " [0.98286272]\n",
      " [0.97448924]\n",
      " [0.02366503]]\n",
      "Loss: \n",
      "0.00045744625260194774\n",
      "\n",
      "\n",
      "for iteration # 1600\n",
      "\n",
      "Input : \n",
      "[[0. 0. 1.]\n",
      " [0. 1. 1.]\n",
      " [1. 0. 1.]\n",
      " [1. 1. 1.]]\n",
      "Actual Output: \n",
      "[[0.]\n",
      " [1.]\n",
      " [1.]\n",
      " [0.]]\n",
      "Predicted Output: \n",
      "[[0.01737548]\n",
      " [0.98368883]\n",
      " [0.97554733]\n",
      " [0.02259074]]\n",
      "Loss: \n",
      "0.00041905903260732716\n",
      "\n",
      "\n",
      "for iteration # 1700\n",
      "\n",
      "Input : \n",
      "[[0. 0. 1.]\n",
      " [0. 1. 1.]\n",
      " [1. 0. 1.]\n",
      " [1. 1. 1.]]\n",
      "Actual Output: \n",
      "[[0.]\n",
      " [1.]\n",
      " [1.]\n",
      " [0.]]\n",
      "Predicted Output: \n",
      "[[0.01678549]\n",
      " [0.98441981]\n",
      " [0.97648931]\n",
      " [0.02163799]]\n",
      "Loss: \n",
      "0.0003863624769681815\n",
      "\n",
      "\n",
      "for iteration # 1800\n",
      "\n",
      "Input : \n",
      "[[0. 0. 1.]\n",
      " [0. 1. 1.]\n",
      " [1. 0. 1.]\n",
      " [1. 1. 1.]]\n",
      "Actual Output: \n",
      "[[0.]\n",
      " [1.]\n",
      " [1.]\n",
      " [0.]]\n",
      "Predicted Output: \n",
      "[[0.01625373]\n",
      " [0.98507198]\n",
      " [0.97733459]\n",
      " [0.02078609]]\n",
      "Loss: \n",
      "0.00035820303563036625\n",
      "\n",
      "\n",
      "for iteration # 1900\n",
      "\n",
      "Input : \n",
      "[[0. 0. 1.]\n",
      " [0. 1. 1.]\n",
      " [1. 0. 1.]\n",
      " [1. 1. 1.]]\n",
      "Actual Output: \n",
      "[[0.]\n",
      " [1.]\n",
      " [1.]\n",
      " [0.]]\n",
      "Predicted Output: \n",
      "[[0.01577127]\n",
      " [0.98565805]\n",
      " [0.97809837]\n",
      " [0.02001891]]\n",
      "Loss: \n",
      "0.00033371562108755123\n",
      "\n",
      "\n"
     ]
    }
   ],
   "source": [
    "num_epoch=2000\n",
    "\n",
    "ANN = NeuralNetwork(X,y)\n",
    "    \n",
    "for i in range(num_epoch): \n",
    "    \n",
    "    if i % 100 == 0:\n",
    "        y_out = ANN.feedforward()\n",
    "        print_result(i,X,y,y_out)\n",
    "        \n",
    "    ANN.train(X, y)"
   ]
  },
  {
   "cell_type": "code",
   "execution_count": null,
   "metadata": {},
   "outputs": [],
   "source": []
  }
 ],
 "metadata": {
  "kernelspec": {
   "display_name": "Python 3",
   "language": "python",
   "name": "python3"
  },
  "language_info": {
   "codemirror_mode": {
    "name": "ipython",
    "version": 3
   },
   "file_extension": ".py",
   "mimetype": "text/x-python",
   "name": "python",
   "nbconvert_exporter": "python",
   "pygments_lexer": "ipython3",
   "version": "3.6.8"
  }
 },
 "nbformat": 4,
 "nbformat_minor": 2
}
