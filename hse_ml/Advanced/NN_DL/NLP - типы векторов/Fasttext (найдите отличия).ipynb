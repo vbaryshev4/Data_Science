{
 "cells": [
  {
   "cell_type": "code",
   "execution_count": 0,
   "metadata": {
    "colab": {},
    "colab_type": "code",
    "collapsed": true,
    "id": "b8P5Supj85eK"
   },
   "outputs": [],
   "source": [
    "# http://study.mokoron.com/\n",
    "# https://elibrary.ru/item.asp?id=20399632"
   ]
  },
  {
   "cell_type": "code",
   "execution_count": 0,
   "metadata": {
    "colab": {
     "base_uri": "https://localhost:8080/",
     "height": 921
    },
    "colab_type": "code",
    "id": "vXujw9uL8_W9",
    "outputId": "6e2d7d7c-3273-4205-c926-29a6778b6d62"
   },
   "outputs": [
    {
     "name": "stdout",
     "output_type": "stream",
     "text": [
      "--2019-04-26 17:37:47--  https://www.dropbox.com/s/fnpq3z4bcnoktiv/positive.csv?dl=0\n",
      "Resolving www.dropbox.com (www.dropbox.com)... 162.125.80.1, 2620:100:6030:1::a27d:5001\n",
      "Connecting to www.dropbox.com (www.dropbox.com)|162.125.80.1|:443... connected.\n",
      "HTTP request sent, awaiting response... 301 Moved Permanently\n",
      "Location: /s/raw/fnpq3z4bcnoktiv/positive.csv [following]\n",
      "--2019-04-26 17:37:48--  https://www.dropbox.com/s/raw/fnpq3z4bcnoktiv/positive.csv\n",
      "Reusing existing connection to www.dropbox.com:443.\n",
      "HTTP request sent, awaiting response... 302 Found\n",
      "Location: https://uc78d5cde0e20ce7938997201bdd.dl.dropboxusercontent.com/cd/0/inline/Afx8d7wGvYs-loSXCtP4DCOgNFIgK5GXzaKSl_ySzZ50yGMtZhRpzlCiLtqUu_cv8Nmui2v9VQ-TBjZGiev6YvRUa6K1PoeUUVoQ_v8JHnj9cgl_0SjZsufNa0W1YTd5XLs/file# [following]\n",
      "--2019-04-26 17:37:48--  https://uc78d5cde0e20ce7938997201bdd.dl.dropboxusercontent.com/cd/0/inline/Afx8d7wGvYs-loSXCtP4DCOgNFIgK5GXzaKSl_ySzZ50yGMtZhRpzlCiLtqUu_cv8Nmui2v9VQ-TBjZGiev6YvRUa6K1PoeUUVoQ_v8JHnj9cgl_0SjZsufNa0W1YTd5XLs/file\n",
      "Resolving uc78d5cde0e20ce7938997201bdd.dl.dropboxusercontent.com (uc78d5cde0e20ce7938997201bdd.dl.dropboxusercontent.com)... 162.125.80.6, 2620:100:6030:6::a27d:5006\n",
      "Connecting to uc78d5cde0e20ce7938997201bdd.dl.dropboxusercontent.com (uc78d5cde0e20ce7938997201bdd.dl.dropboxusercontent.com)|162.125.80.6|:443... connected.\n",
      "HTTP request sent, awaiting response... 200 OK\n",
      "Length: 26233379 (25M) [text/plain]\n",
      "Saving to: ‘positive.csv?dl=0’\n",
      "\n",
      "positive.csv?dl=0   100%[===================>]  25.02M  30.9MB/s    in 0.8s    \n",
      "\n",
      "2019-04-26 17:37:49 (30.9 MB/s) - ‘positive.csv?dl=0’ saved [26233379/26233379]\n",
      "\n",
      "--2019-04-26 17:37:49--  http://positive.csv/\n",
      "Resolving positive.csv (positive.csv)... failed: Name or service not known.\n",
      "wget: unable to resolve host address ‘positive.csv’\n",
      "FINISHED --2019-04-26 17:37:49--\n",
      "Total wall clock time: 1.7s\n",
      "Downloaded: 1 files, 25M in 0.8s (30.9 MB/s)\n",
      "--2019-04-26 17:37:50--  https://www.dropbox.com/s/r6u59ljhhjdg6j0/negative.csv?dl=0\n",
      "Resolving www.dropbox.com (www.dropbox.com)... 162.125.80.1, 2620:100:6030:1::a27d:5001\n",
      "Connecting to www.dropbox.com (www.dropbox.com)|162.125.80.1|:443... connected.\n",
      "HTTP request sent, awaiting response... 301 Moved Permanently\n",
      "Location: /s/raw/r6u59ljhhjdg6j0/negative.csv [following]\n",
      "--2019-04-26 17:37:51--  https://www.dropbox.com/s/raw/r6u59ljhhjdg6j0/negative.csv\n",
      "Reusing existing connection to www.dropbox.com:443.\n",
      "HTTP request sent, awaiting response... 302 Found\n",
      "Location: https://uc8737605469a2d2282e5f0be11f.dl.dropboxusercontent.com/cd/0/inline/AfzpYfM93Pn3g5NAptOJM5RTMM-Z1LSAMVbv0-k_ZVIFC4Cj6HEiDXpQwNttxFKDTZOLM00NoMaUIftwI3Zat3V6qam3-kGzPjzzt5yEsTne4CcxdkCkKOL9e1fRX-_nRic/file# [following]\n",
      "--2019-04-26 17:37:51--  https://uc8737605469a2d2282e5f0be11f.dl.dropboxusercontent.com/cd/0/inline/AfzpYfM93Pn3g5NAptOJM5RTMM-Z1LSAMVbv0-k_ZVIFC4Cj6HEiDXpQwNttxFKDTZOLM00NoMaUIftwI3Zat3V6qam3-kGzPjzzt5yEsTne4CcxdkCkKOL9e1fRX-_nRic/file\n",
      "Resolving uc8737605469a2d2282e5f0be11f.dl.dropboxusercontent.com (uc8737605469a2d2282e5f0be11f.dl.dropboxusercontent.com)... 162.125.80.6, 2620:100:6030:6::a27d:5006\n",
      "Connecting to uc8737605469a2d2282e5f0be11f.dl.dropboxusercontent.com (uc8737605469a2d2282e5f0be11f.dl.dropboxusercontent.com)|162.125.80.6|:443... connected.\n",
      "HTTP request sent, awaiting response... 200 OK\n",
      "Length: 24450101 (23M) [text/plain]\n",
      "Saving to: ‘negative.csv?dl=0’\n",
      "\n",
      "negative.csv?dl=0   100%[===================>]  23.32M  32.7MB/s    in 0.7s    \n",
      "\n",
      "2019-04-26 17:37:52 (32.7 MB/s) - ‘negative.csv?dl=0’ saved [24450101/24450101]\n",
      "\n",
      "--2019-04-26 17:37:52--  http://negative.csv/\n",
      "Resolving negative.csv (negative.csv)... failed: Name or service not known.\n",
      "wget: unable to resolve host address ‘negative.csv’\n",
      "FINISHED --2019-04-26 17:37:52--\n",
      "Total wall clock time: 1.5s\n",
      "Downloaded: 1 files, 23M in 0.7s (32.7 MB/s)\n"
     ]
    }
   ],
   "source": [
    "!wget 'https://www.dropbox.com/s/fnpq3z4bcnoktiv/positive.csv?dl=0' positive.csv\n",
    "!wget 'https://www.dropbox.com/s/r6u59ljhhjdg6j0/negative.csv?dl=0' negative.csv"
   ]
  },
  {
   "cell_type": "code",
   "execution_count": 1,
   "metadata": {
    "colab": {},
    "colab_type": "code",
    "collapsed": true,
    "id": "6wlM1YPkF83Q"
   },
   "outputs": [],
   "source": [
    "import pandas as pd"
   ]
  },
  {
   "cell_type": "code",
   "execution_count": 2,
   "metadata": {
    "colab": {},
    "colab_type": "code",
    "collapsed": true,
    "id": "kBjWD44vFmXD"
   },
   "outputs": [],
   "source": [
    "positive = pd.read_csv('positive.csv?dl=0',header=None,encoding='utf-8',delimiter=';')"
   ]
  },
  {
   "cell_type": "code",
   "execution_count": 3,
   "metadata": {
    "colab": {},
    "colab_type": "code",
    "collapsed": true,
    "id": "-Nlh71mYGffg"
   },
   "outputs": [],
   "source": [
    "negative = pd.read_csv('negative.csv?dl=0',header=None,encoding='utf-8',delimiter=';')"
   ]
  },
  {
   "cell_type": "code",
   "execution_count": 4,
   "metadata": {
    "colab": {
     "base_uri": "https://localhost:8080/",
     "height": 34
    },
    "colab_type": "code",
    "id": "xWwL_3GXGp_3",
    "outputId": "115dcc03-a8b2-4368-d9ac-da71cd6fc2f5"
   },
   "outputs": [
    {
     "data": {
      "text/plain": [
       "((114911, 12), (111923, 12))"
      ]
     },
     "execution_count": 4,
     "metadata": {},
     "output_type": "execute_result"
    }
   ],
   "source": [
    "positive.shape,negative.shape"
   ]
  },
  {
   "cell_type": "code",
   "execution_count": 5,
   "metadata": {
    "colab": {},
    "colab_type": "code",
    "collapsed": true,
    "id": "-andPdElHbiD"
   },
   "outputs": [],
   "source": [
    "positive=positive[[positive.columns[3]]]\n",
    "negative=negative[[negative.columns[3]]]"
   ]
  },
  {
   "cell_type": "code",
   "execution_count": 6,
   "metadata": {
    "colab": {},
    "colab_type": "code",
    "collapsed": true,
    "id": "9uaR8rWsG6gL"
   },
   "outputs": [],
   "source": [
    "positive['target']=1\n",
    "negative['target']=0"
   ]
  },
  {
   "cell_type": "code",
   "execution_count": 7,
   "metadata": {
    "colab": {},
    "colab_type": "code",
    "collapsed": true,
    "id": "pm-tnaf4HCJ2"
   },
   "outputs": [],
   "source": [
    "positive.columns=['text','target']\n",
    "negative.columns=['text','target']"
   ]
  },
  {
   "cell_type": "code",
   "execution_count": 8,
   "metadata": {
    "colab": {
     "base_uri": "https://localhost:8080/",
     "height": 204
    },
    "colab_type": "code",
    "id": "evE48wEQHEZc",
    "outputId": "945f5837-b0ba-4418-e57a-e1b7a41a8b33"
   },
   "outputs": [
    {
     "data": {
      "text/html": [
       "<div>\n",
       "<style scoped>\n",
       "    .dataframe tbody tr th:only-of-type {\n",
       "        vertical-align: middle;\n",
       "    }\n",
       "\n",
       "    .dataframe tbody tr th {\n",
       "        vertical-align: top;\n",
       "    }\n",
       "\n",
       "    .dataframe thead th {\n",
       "        text-align: right;\n",
       "    }\n",
       "</style>\n",
       "<table border=\"1\" class=\"dataframe\">\n",
       "  <thead>\n",
       "    <tr style=\"text-align: right;\">\n",
       "      <th></th>\n",
       "      <th>text</th>\n",
       "      <th>target</th>\n",
       "    </tr>\n",
       "  </thead>\n",
       "  <tbody>\n",
       "    <tr>\n",
       "      <th>0</th>\n",
       "      <td>@first_timee хоть я и школота, но поверь, у на...</td>\n",
       "      <td>1</td>\n",
       "    </tr>\n",
       "    <tr>\n",
       "      <th>1</th>\n",
       "      <td>Да, все-таки он немного похож на него. Но мой ...</td>\n",
       "      <td>1</td>\n",
       "    </tr>\n",
       "    <tr>\n",
       "      <th>2</th>\n",
       "      <td>RT @KatiaCheh: Ну ты идиотка) я испугалась за ...</td>\n",
       "      <td>1</td>\n",
       "    </tr>\n",
       "    <tr>\n",
       "      <th>3</th>\n",
       "      <td>RT @digger2912: \"Кто то в углу сидит и погибае...</td>\n",
       "      <td>1</td>\n",
       "    </tr>\n",
       "    <tr>\n",
       "      <th>4</th>\n",
       "      <td>@irina_dyshkant Вот что значит страшилка :D\\nН...</td>\n",
       "      <td>1</td>\n",
       "    </tr>\n",
       "  </tbody>\n",
       "</table>\n",
       "</div>"
      ],
      "text/plain": [
       "                                                text  target\n",
       "0  @first_timee хоть я и школота, но поверь, у на...       1\n",
       "1  Да, все-таки он немного похож на него. Но мой ...       1\n",
       "2  RT @KatiaCheh: Ну ты идиотка) я испугалась за ...       1\n",
       "3  RT @digger2912: \"Кто то в углу сидит и погибае...       1\n",
       "4  @irina_dyshkant Вот что значит страшилка :D\\nН...       1"
      ]
     },
     "execution_count": 8,
     "metadata": {},
     "output_type": "execute_result"
    }
   ],
   "source": [
    "positive.head()"
   ]
  },
  {
   "cell_type": "code",
   "execution_count": 9,
   "metadata": {
    "colab": {},
    "colab_type": "code",
    "collapsed": true,
    "id": "Cfm5kOKgHXSW"
   },
   "outputs": [],
   "source": [
    "full_set = pd.concat([positive,negative])"
   ]
  },
  {
   "cell_type": "code",
   "execution_count": 10,
   "metadata": {
    "colab": {},
    "colab_type": "code",
    "id": "mh5zId7IH_pm"
   },
   "outputs": [
    {
     "name": "stderr",
     "output_type": "stream",
     "text": [
      "/anaconda3/lib/python3.6/site-packages/sklearn/ensemble/weight_boosting.py:29: DeprecationWarning: numpy.core.umath_tests is an internal NumPy module and should not be imported. It will be removed in a future NumPy release.\n",
      "  from numpy.core.umath_tests import inner1d\n"
     ]
    }
   ],
   "source": [
    "from sklearn.model_selection import train_test_split\n",
    "from sklearn.feature_extraction.text import TfidfVectorizer\n",
    "from sklearn.metrics import accuracy_score\n",
    "from sklearn.pipeline import make_pipeline\n",
    "from sklearn.naive_bayes import MultinomialNB\n",
    "from sklearn.linear_model import SGDClassifier\n",
    "from sklearn.linear_model import LogisticRegression\n",
    "from sklearn.ensemble import VotingClassifier"
   ]
  },
  {
   "cell_type": "code",
   "execution_count": 11,
   "metadata": {
    "colab": {},
    "colab_type": "code",
    "collapsed": true,
    "id": "Lv5pxDQ6IAkj"
   },
   "outputs": [],
   "source": [
    "x_train,x_test,y_train,y_test = train_test_split(full_set['text'],full_set.target.values,test_size=0.2,shuffle=True,random_state=2121)"
   ]
  },
  {
   "cell_type": "code",
   "execution_count": 12,
   "metadata": {
    "colab": {},
    "colab_type": "code",
    "collapsed": true,
    "id": "V_dJbZkEIbIV"
   },
   "outputs": [],
   "source": [
    "clf = make_pipeline(TfidfVectorizer(ngram_range=(1,2)),MultinomialNB())\n",
    "clf.fit(x_train,y_train)\n",
    "preds = clf.predict(x_test)"
   ]
  },
  {
   "cell_type": "code",
   "execution_count": 13,
   "metadata": {
    "colab": {
     "base_uri": "https://localhost:8080/",
     "height": 34
    },
    "colab_type": "code",
    "id": "Y7HZJLUXIcXj",
    "outputId": "476271e2-896d-408f-ee5a-e3da5fb97d36"
   },
   "outputs": [
    {
     "data": {
      "text/plain": [
       "0.7739546366301496"
      ]
     },
     "execution_count": 13,
     "metadata": {},
     "output_type": "execute_result"
    }
   ],
   "source": [
    "accuracy_score(y_test,preds)"
   ]
  },
  {
   "cell_type": "markdown",
   "metadata": {},
   "source": [
    "## Теперь опробуем на этих же данных простейшую сеть с предобученными ембедингами"
   ]
  },
  {
   "cell_type": "code",
   "execution_count": 14,
   "metadata": {
    "colab": {
     "base_uri": "https://localhost:8080/",
     "height": 34
    },
    "colab_type": "code",
    "id": "tUzCNKajNGgD",
    "outputId": "c25994d2-a2a8-4f6c-b69c-f76e62f97cb9"
   },
   "outputs": [
    {
     "name": "stderr",
     "output_type": "stream",
     "text": [
      "Using TensorFlow backend.\n"
     ]
    }
   ],
   "source": [
    "import numpy as np\n",
    "from keras.models import Sequential\n",
    "from keras.layers import Embedding\n",
    "from tqdm import tqdm_notebook"
   ]
  },
  {
   "cell_type": "code",
   "execution_count": 15,
   "metadata": {
    "colab": {
     "base_uri": "https://localhost:8080/",
     "height": 232
    },
    "colab_type": "code",
    "id": "5GO0Cd4SOfKW",
    "outputId": "ce3df56f-19ab-449a-849d-e286984387d8"
   },
   "outputs": [
    {
     "data": {
      "application/vnd.jupyter.widget-view+json": {
       "model_id": "c32f68843b1e4b64ba02bbdd815f2171",
       "version_major": 2,
       "version_minor": 0
      },
      "text/plain": [
       "A Jupyter Widget"
      ]
     },
     "metadata": {},
     "output_type": "display_data"
    },
    {
     "name": "stdout",
     "output_type": "stream",
     "text": [
      "\n"
     ]
    }
   ],
   "source": [
    "f = open('ft_native_300_ru_twitter_nltk_word_tokenize.vec')\n",
    "embedding_values = {}\n",
    "for line in tqdm_notebook(f):\n",
    "    value = line.replace('\\n','').split(' ')\n",
    "    word = value[0]\n",
    "    coef = np.array(value[1:-1],dtype = 'float32')\n",
    "    embedding_values[word]=coef"
   ]
  },
  {
   "cell_type": "code",
   "execution_count": 16,
   "metadata": {
    "colab": {},
    "colab_type": "code",
    "id": "-RgicMRoPClk"
   },
   "outputs": [
    {
     "name": "stdout",
     "output_type": "stream",
     "text": [
      "Found 291376 unique tokens.\n"
     ]
    }
   ],
   "source": [
    "from keras.preprocessing.text import Tokenizer\n",
    "from keras.preprocessing.sequence import pad_sequences\n",
    "\n",
    "tokenizer = Tokenizer(num_words=100000)\n",
    "tokenizer.fit_on_texts(full_set['text'])\n",
    "sequences_train = tokenizer.texts_to_sequences(x_train)\n",
    "sequences_test = tokenizer.texts_to_sequences(x_test)\n",
    "\n",
    "word_index = tokenizer.word_index\n",
    "print('Found %s unique tokens.' % len(word_index))"
   ]
  },
  {
   "cell_type": "code",
   "execution_count": 17,
   "metadata": {
    "colab": {},
    "colab_type": "code",
    "id": "Y0ynvmUVIKPY"
   },
   "outputs": [
    {
     "data": {
      "application/vnd.jupyter.widget-view+json": {
       "model_id": "f930733924514473919730fba8c9ce7d",
       "version_major": 2,
       "version_minor": 0
      },
      "text/plain": [
       "A Jupyter Widget"
      ]
     },
     "metadata": {},
     "output_type": "display_data"
    },
    {
     "name": "stdout",
     "output_type": "stream",
     "text": [
      "\n"
     ]
    }
   ],
   "source": [
    "lower=True\n",
    "embedding_matrix = np.zeros((len(word_index)+1, 100),dtype=np.float32)\n",
    "for word, i in tqdm_notebook(word_index.items()):\n",
    "    if lower:\n",
    "        word = word.lower()\n",
    "    try:\n",
    "        embedding_vector = embedding_values[word]\n",
    "    except:\n",
    "        embedding_vector = embedding_values[\"unknown\"]\n",
    "    if embedding_vector is not None:\n",
    "        embedding_matrix[i] = embedding_vector"
   ]
  },
  {
   "cell_type": "code",
   "execution_count": 18,
   "metadata": {
    "colab": {
     "base_uri": "https://localhost:8080/",
     "height": 1174
    },
    "colab_type": "code",
    "id": "tN6om-FHTPmu",
    "outputId": "380d5a09-3bc0-4c0f-a4ff-a72e9007f1e7"
   },
   "outputs": [
    {
     "name": "stdout",
     "output_type": "stream",
     "text": [
      "Build model...\n",
      "WARNING:tensorflow:From /anaconda3/lib/python3.6/site-packages/tensorflow/python/framework/op_def_library.py:263: colocate_with (from tensorflow.python.framework.ops) is deprecated and will be removed in a future version.\n",
      "Instructions for updating:\n",
      "Colocations handled automatically by placer.\n",
      "WARNING:tensorflow:From /anaconda3/lib/python3.6/site-packages/keras/backend/tensorflow_backend.py:3019: calling dropout (from tensorflow.python.ops.nn_ops) with keep_prob is deprecated and will be removed in a future version.\n",
      "Instructions for updating:\n",
      "Please use `rate` instead of `keep_prob`. Rate should be set to `rate = 1 - keep_prob`.\n",
      "WARNING:tensorflow:From /anaconda3/lib/python3.6/site-packages/keras/backend/tensorflow_backend.py:1247: calling reduce_sum_v1 (from tensorflow.python.ops.math_ops) with keep_dims is deprecated and will be removed in a future version.\n",
      "Instructions for updating:\n",
      "keep_dims is deprecated, use keepdims instead\n",
      "Train...\n",
      "WARNING:tensorflow:From /anaconda3/lib/python3.6/site-packages/tensorflow/python/ops/math_ops.py:3066: to_int32 (from tensorflow.python.ops.math_ops) is deprecated and will be removed in a future version.\n",
      "Instructions for updating:\n",
      "Use tf.cast instead.\n",
      "Train on 181467 samples, validate on 45367 samples\n",
      "Epoch 1/25\n",
      "181467/181467 [==============================] - 68s 375us/step - loss: 0.5561 - acc: 0.7070 - val_loss: 0.5145 - val_acc: 0.7379\n",
      "Epoch 2/25\n",
      "181467/181467 [==============================] - 57s 316us/step - loss: 0.5098 - acc: 0.7403 - val_loss: 0.4798 - val_acc: 0.7615\n",
      "Epoch 3/25\n",
      "181467/181467 [==============================] - 64s 352us/step - loss: 0.4922 - acc: 0.7533 - val_loss: 0.4714 - val_acc: 0.7674\n",
      "Epoch 4/25\n",
      "181467/181467 [==============================] - 75s 412us/step - loss: 0.4826 - acc: 0.7594 - val_loss: 0.4632 - val_acc: 0.7733\n",
      "Epoch 5/25\n",
      "181467/181467 [==============================] - 59s 326us/step - loss: 0.4736 - acc: 0.7656 - val_loss: 0.4583 - val_acc: 0.7756\n",
      "Epoch 6/25\n",
      "181467/181467 [==============================] - 58s 321us/step - loss: 0.4677 - acc: 0.7695 - val_loss: 0.4534 - val_acc: 0.7789\n",
      "Epoch 7/25\n",
      "181467/181467 [==============================] - 58s 318us/step - loss: 0.4639 - acc: 0.7712 - val_loss: 0.4540 - val_acc: 0.7778\n",
      "Epoch 8/25\n",
      "181467/181467 [==============================] - 64s 355us/step - loss: 0.4596 - acc: 0.7745 - val_loss: 0.4624 - val_acc: 0.7731\n",
      "Epoch 9/25\n",
      "181467/181467 [==============================] - 56s 306us/step - loss: 0.4559 - acc: 0.7771 - val_loss: 0.4471 - val_acc: 0.7820\n",
      "Epoch 10/25\n",
      "181467/181467 [==============================] - 59s 326us/step - loss: 0.4529 - acc: 0.7782 - val_loss: 0.4472 - val_acc: 0.7824\n",
      "Epoch 11/25\n",
      "181467/181467 [==============================] - 56s 309us/step - loss: 0.4509 - acc: 0.7798 - val_loss: 0.4432 - val_acc: 0.7856\n",
      "Epoch 12/25\n",
      "181467/181467 [==============================] - 55s 302us/step - loss: 0.4474 - acc: 0.7828 - val_loss: 0.4460 - val_acc: 0.7826\n",
      "Epoch 13/25\n",
      "181467/181467 [==============================] - 55s 301us/step - loss: 0.4448 - acc: 0.7845 - val_loss: 0.4400 - val_acc: 0.7874\n",
      "Epoch 14/25\n",
      "181467/181467 [==============================] - 58s 321us/step - loss: 0.4426 - acc: 0.7869 - val_loss: 0.4381 - val_acc: 0.7896\n",
      "Epoch 15/25\n",
      "181467/181467 [==============================] - 58s 322us/step - loss: 0.4417 - acc: 0.7865 - val_loss: 0.4408 - val_acc: 0.7878\n",
      "Epoch 16/25\n",
      "181467/181467 [==============================] - 59s 326us/step - loss: 0.4399 - acc: 0.7876 - val_loss: 0.4376 - val_acc: 0.7897\n",
      "Epoch 17/25\n",
      "181467/181467 [==============================] - 61s 339us/step - loss: 0.4384 - acc: 0.7885 - val_loss: 0.4416 - val_acc: 0.7865\n",
      "Epoch 18/25\n",
      "181467/181467 [==============================] - 61s 336us/step - loss: 0.4354 - acc: 0.7909 - val_loss: 0.4420 - val_acc: 0.7862\n",
      "Epoch 19/25\n",
      "181467/181467 [==============================] - 61s 336us/step - loss: 0.4345 - acc: 0.7910 - val_loss: 0.4357 - val_acc: 0.7894\n",
      "Epoch 20/25\n",
      "181467/181467 [==============================] - 62s 340us/step - loss: 0.4342 - acc: 0.7909 - val_loss: 0.4360 - val_acc: 0.7897\n",
      "Epoch 21/25\n",
      "181467/181467 [==============================] - 63s 348us/step - loss: 0.4321 - acc: 0.7922 - val_loss: 0.4400 - val_acc: 0.7879\n",
      "Epoch 22/25\n",
      "181467/181467 [==============================] - 59s 325us/step - loss: 0.4301 - acc: 0.7933 - val_loss: 0.4344 - val_acc: 0.7901\n",
      "Epoch 23/25\n",
      "181467/181467 [==============================] - 56s 310us/step - loss: 0.4304 - acc: 0.7936 - val_loss: 0.4333 - val_acc: 0.7917\n",
      "Epoch 24/25\n",
      "181467/181467 [==============================] - 56s 311us/step - loss: 0.4289 - acc: 0.7943 - val_loss: 0.4336 - val_acc: 0.7917\n",
      "Epoch 25/25\n",
      "181467/181467 [==============================] - 58s 319us/step - loss: 0.4283 - acc: 0.7953 - val_loss: 0.4382 - val_acc: 0.7887\n",
      "45367/45367 [==============================] - 5s 120us/step\n",
      "Test score: 0.4382285836049494\n",
      "Test accuracy: 0.7887010382350459\n"
     ]
    }
   ],
   "source": [
    "from __future__ import print_function\n",
    "import numpy as np\n",
    "np.random.seed(1337) \n",
    "\n",
    "from keras.preprocessing import sequence\n",
    "from keras.utils import np_utils\n",
    "from keras.models import Sequential\n",
    "from keras.layers import Dense, Dropout, Activation, Embedding, SpatialDropout1D\n",
    "from keras.layers import LSTM, SimpleRNN, GRU, Bidirectional\n",
    "from keras.regularizers import l2\n",
    "from keras.constraints import maxnorm\n",
    "from keras.optimizers import RMSprop\n",
    "from keras.datasets import imdb\n",
    "\n",
    "max_features = 20000\n",
    "maxlen = 40  \n",
    "batch_size = 256 \n",
    "\n",
    "print('Build model...')\n",
    "model = Sequential()\n",
    "model.add(Embedding(\n",
    "    len(word_index)+1,\n",
    "    100,\n",
    "    weights=[embedding_matrix],\n",
    "    input_length=maxlen,\n",
    "    trainable=False\n",
    "))\n",
    "model.add(SpatialDropout1D(0.2))\n",
    "model.add(Bidirectional(GRU(32)))\n",
    "model.add(Dense(1))\n",
    "model.add(Activation('sigmoid'))\n",
    "\n",
    "\n",
    "model.compile(loss='binary_crossentropy',\n",
    "              optimizer=RMSprop(lr=1e-3,clipnorm=3,clipvalue=3),\n",
    "              metrics=['accuracy'])\n",
    "\n",
    "X_train = sequence.pad_sequences(sequences_train, maxlen=maxlen)\n",
    "X_test = sequence.pad_sequences(sequences_test, maxlen=maxlen)\n",
    "\n",
    "print('Train...')\n",
    "model.fit(X_train, y_train, batch_size=batch_size, epochs=25,\n",
    "          validation_data=(X_test, y_test))\n",
    "score, acc = model.evaluate(X_test, y_test,\n",
    "                            batch_size=batch_size)\n",
    "print('Test score:', score)\n",
    "print('Test accuracy:', acc)"
   ]
  },
  {
   "cell_type": "code",
   "execution_count": 0,
   "metadata": {
    "colab": {},
    "colab_type": "code",
    "collapsed": true,
    "id": "gpGXnS8mUz7l"
   },
   "outputs": [],
   "source": [
    "# Классический вариант для кэгла\n",
    "# x = L.SpatialDropout1D(0.2)(x)\n",
    "# x = L.Bidirectional(L.CuDNNLSTM(64, return_sequences=True))(x)\n",
    "\n",
    "# avg_pool1 = L.GlobalAveragePooling1D()(x)\n",
    "# max_pool1 = L.GlobalMaxPooling1D()(x)\n",
    "\n",
    "# x = L.concatenate([att,avg_pool1, max_pool1])\n",
    "\n",
    "# preds = L.Dense(1, activation='sigmoid')(x)"
   ]
  },
  {
   "cell_type": "code",
   "execution_count": null,
   "metadata": {
    "collapsed": true
   },
   "outputs": [],
   "source": []
  }
 ],
 "metadata": {
  "accelerator": "GPU",
  "colab": {
   "collapsed_sections": [],
   "name": "Твиты.ipynb",
   "provenance": [],
   "version": "0.3.2"
  },
  "kernelspec": {
   "display_name": "Python 3",
   "language": "python",
   "name": "python3"
  },
  "language_info": {
   "codemirror_mode": {
    "name": "ipython",
    "version": 3
   },
   "file_extension": ".py",
   "mimetype": "text/x-python",
   "name": "python",
   "nbconvert_exporter": "python",
   "pygments_lexer": "ipython3",
   "version": "3.6.3"
  }
 },
 "nbformat": 4,
 "nbformat_minor": 1
}
