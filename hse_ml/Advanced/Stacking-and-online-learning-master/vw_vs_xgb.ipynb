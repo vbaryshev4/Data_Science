{
 "cells": [
  {
   "cell_type": "markdown",
   "metadata": {
    "colab_type": "text",
    "id": "2x_U57KKQOzx"
   },
   "source": [
    "# Vowpal Wabbit\n",
    "\n",
    "Поработаем с той же задачей и с теми же данными, на которых мы настраивали параметры xgboost.\n",
    "\n",
    "Посмотрим, справятся ли линейные алгоритмы, реализованные в vowpal wabbit, с этой задачей."
   ]
  },
  {
   "cell_type": "code",
   "execution_count": 1,
   "metadata": {
    "colab": {
     "base_uri": "https://localhost:8080/",
     "height": 731
    },
    "colab_type": "code",
    "id": "J7Lp9oHaQVTx",
    "outputId": "95208967-fb97-4c9f-9b71-2a98f9b7074d"
   },
   "outputs": [
    {
     "name": "stdout",
     "output_type": "stream",
     "text": [
      "--2019-01-24 16:44:39--  https://www.dropbox.com/s/eg9wt98ak9n91w2/train_medium.csv?dl=0\n",
      "Распознаётся www.dropbox.com (www.dropbox.com)… 162.125.70.1\n",
      "Подключение к www.dropbox.com (www.dropbox.com)|162.125.70.1|:443... соединение установлено.\n",
      "HTTP-запрос отправлен. Ожидание ответа… 301 Moved Permanently\n",
      "Адрес: /s/raw/eg9wt98ak9n91w2/train_medium.csv [переход]\n",
      "--2019-01-24 16:44:40--  https://www.dropbox.com/s/raw/eg9wt98ak9n91w2/train_medium.csv\n",
      "Повторное использование соединения с www.dropbox.com:443.\n",
      "HTTP-запрос отправлен. Ожидание ответа… 302 Found\n",
      "Адрес: https://uc2699d77833755c3f649584f97a.dl.dropboxusercontent.com/cd/0/inline/AaDwUUx3M9zUjTpudD1WN4nMU_NtMBz9A5czhDQIg0StTLfJ57f1AL51aMNDgQjI0VHX2ts-hJY1GSdxWbqK92ZU41UnfnhvVWf0t11J1oyfVg/file# [переход]\n",
      "--2019-01-24 16:44:41--  https://uc2699d77833755c3f649584f97a.dl.dropboxusercontent.com/cd/0/inline/AaDwUUx3M9zUjTpudD1WN4nMU_NtMBz9A5czhDQIg0StTLfJ57f1AL51aMNDgQjI0VHX2ts-hJY1GSdxWbqK92ZU41UnfnhvVWf0t11J1oyfVg/file\n",
      "Распознаётся uc2699d77833755c3f649584f97a.dl.dropboxusercontent.com (uc2699d77833755c3f649584f97a.dl.dropboxusercontent.com)… 162.125.70.6\n",
      "Подключение к uc2699d77833755c3f649584f97a.dl.dropboxusercontent.com (uc2699d77833755c3f649584f97a.dl.dropboxusercontent.com)|162.125.70.6|:443... соединение установлено.\n",
      "HTTP-запрос отправлен. Ожидание ответа… 200 OK\n",
      "Длина: 8133459 (7,8M) [text/plain]\n",
      "Сохранение в: «train_medium.csv?dl=0»\n",
      "\n",
      "train_medium.csv?dl 100%[===================>]   7,76M   752KB/s    за 11s     \n",
      "\n",
      "2019-01-24 16:44:54 (724 KB/s) - «train_medium.csv?dl=0» сохранён [8133459/8133459]\n",
      "\n",
      "--2019-01-24 16:44:54--  https://www.dropbox.com/s/mji0jvu5wo34p2w/test_medium.csv?dl=0\n",
      "Распознаётся www.dropbox.com (www.dropbox.com)… 162.125.70.1\n",
      "Подключение к www.dropbox.com (www.dropbox.com)|162.125.70.1|:443... соединение установлено.\n",
      "HTTP-запрос отправлен. Ожидание ответа… 301 Moved Permanently\n",
      "Адрес: /s/raw/mji0jvu5wo34p2w/test_medium.csv [переход]\n",
      "--2019-01-24 16:44:58--  https://www.dropbox.com/s/raw/mji0jvu5wo34p2w/test_medium.csv\n",
      "Повторное использование соединения с www.dropbox.com:443.\n",
      "HTTP-запрос отправлен. Ожидание ответа… 302 Found\n",
      "Адрес: https://uc0454323ab3fd19b175d7449fdc.dl.dropboxusercontent.com/cd/0/inline/AaDIqnejisXk5Bq9vBJSiUo1ZR2_ArOkFHe0FnHBIB0XrombKa-z3FVuKWz2diSOhz6SjFZAL-zVj7T2bPZIOviTa1GVVCvDMxWJp7rhP1px1A/file# [переход]\n",
      "--2019-01-24 16:44:58--  https://uc0454323ab3fd19b175d7449fdc.dl.dropboxusercontent.com/cd/0/inline/AaDIqnejisXk5Bq9vBJSiUo1ZR2_ArOkFHe0FnHBIB0XrombKa-z3FVuKWz2diSOhz6SjFZAL-zVj7T2bPZIOviTa1GVVCvDMxWJp7rhP1px1A/file\n",
      "Распознаётся uc0454323ab3fd19b175d7449fdc.dl.dropboxusercontent.com (uc0454323ab3fd19b175d7449fdc.dl.dropboxusercontent.com)… 162.125.70.6\n",
      "Подключение к uc0454323ab3fd19b175d7449fdc.dl.dropboxusercontent.com (uc0454323ab3fd19b175d7449fdc.dl.dropboxusercontent.com)|162.125.70.6|:443... соединение установлено.\n",
      "HTTP-запрос отправлен. Ожидание ответа… 200 OK\n",
      "Длина: 2711665 (2,6M) [text/plain]\n",
      "Сохранение в: «test_medium.csv?dl=0»\n",
      "\n",
      "test_medium.csv?dl= 100%[===================>]   2,59M   570KB/s    за 4,6s    \n",
      "\n",
      "2019-01-24 16:45:06 (570 KB/s) - «test_medium.csv?dl=0» сохранён [2711665/2711665]\n",
      "\n"
     ]
    }
   ],
   "source": [
    "!wget https://www.dropbox.com/s/eg9wt98ak9n91w2/train_medium.csv?dl=0\n",
    "!wget https://www.dropbox.com/s/mji0jvu5wo34p2w/test_medium.csv?dl=0\n"
   ]
  },
  {
   "cell_type": "code",
   "execution_count": 3,
   "metadata": {
    "colab": {
     "base_uri": "https://localhost:8080/",
     "height": 104
    },
    "colab_type": "code",
    "id": "l_KXRvwGQye5",
    "outputId": "a0e04f85-ba81-47bd-fafd-3cbb84a81f75"
   },
   "outputs": [
    {
     "name": "stdout",
     "output_type": "stream",
     "text": [
      "\u001b[31mBlending.pdf\u001b[m\u001b[m           test.vw                \u001b[31mtrain_medium.csv\u001b[m\u001b[m\r\n",
      "\u001b[31mBlendingStacking.ipynb\u001b[m\u001b[m \u001b[31mtest_medium.csv\u001b[m\u001b[m        train_medium.csv?dl=0\r\n",
      "\u001b[31mGD.pdf\u001b[m\u001b[m                 test_medium.csv?dl=0   \u001b[31mvw_tutorial.ipynb\u001b[m\u001b[m\r\n",
      "\u001b[31mREADME.md\u001b[m\u001b[m              train-sample.csv?dl=0  \u001b[31mvw_tutorial.pdf\u001b[m\u001b[m\r\n",
      "model.vw               train.vw               \u001b[31mvw_vs_xgb.ipynb\u001b[m\u001b[m\r\n",
      "pred.txt               train.vw.cache\r\n"
     ]
    }
   ],
   "source": [
    "!ls"
   ]
  },
  {
   "cell_type": "code",
   "execution_count": 4,
   "metadata": {
    "colab": {},
    "colab_type": "code",
    "id": "GbxqpO_rQOz0"
   },
   "outputs": [
    {
     "name": "stderr",
     "output_type": "stream",
     "text": [
      "/anaconda3/lib/python3.6/importlib/_bootstrap.py:219: RuntimeWarning: numpy.dtype size changed, may indicate binary incompatibility. Expected 96, got 88\n",
      "  return f(*args, **kwds)\n"
     ]
    }
   ],
   "source": [
    "import pandas as pd\n",
    "\n",
    "X_train = pd.read_csv('train_medium.csv?dl=0')\n",
    "X_test = pd.read_csv('test_medium.csv?dl=0')"
   ]
  },
  {
   "cell_type": "markdown",
   "metadata": {
    "colab_type": "text",
    "id": "3mKVFx0wQOz6"
   },
   "source": [
    "Измените функцию save_to_vw из предыдущего ноутбука (см.ниже) так, чтобы она записывала файлы train_medium и test_medium в нужном формате. Не забудьте, что столбец 'Disbursed' является целевым, поэтому а) он определяет значение переменной target, b) его не нужно записывать в файл-матрицу с признаками."
   ]
  },
  {
   "cell_type": "code",
   "execution_count": 7,
   "metadata": {},
   "outputs": [
    {
     "data": {
      "text/html": [
       "<div>\n",
       "<style scoped>\n",
       "    .dataframe tbody tr th:only-of-type {\n",
       "        vertical-align: middle;\n",
       "    }\n",
       "\n",
       "    .dataframe tbody tr th {\n",
       "        vertical-align: top;\n",
       "    }\n",
       "\n",
       "    .dataframe thead th {\n",
       "        text-align: right;\n",
       "    }\n",
       "</style>\n",
       "<table border=\"1\" class=\"dataframe\">\n",
       "  <thead>\n",
       "    <tr style=\"text-align: right;\">\n",
       "      <th></th>\n",
       "      <th>Unnamed: 0</th>\n",
       "      <th>Existing_EMI</th>\n",
       "      <th>Loan_Amount_Applied</th>\n",
       "      <th>Loan_Tenure_Applied</th>\n",
       "      <th>Monthly_Income</th>\n",
       "      <th>Var4</th>\n",
       "      <th>Var5</th>\n",
       "      <th>Age</th>\n",
       "      <th>EMI_Loan_Submitted_Missing</th>\n",
       "      <th>Interest_Rate_Missing</th>\n",
       "      <th>...</th>\n",
       "      <th>Var2_3</th>\n",
       "      <th>Var2_4</th>\n",
       "      <th>Var2_5</th>\n",
       "      <th>Var2_6</th>\n",
       "      <th>Mobile_Verified_0</th>\n",
       "      <th>Mobile_Verified_1</th>\n",
       "      <th>Source_0</th>\n",
       "      <th>Source_1</th>\n",
       "      <th>Source_2</th>\n",
       "      <th>Disbursed</th>\n",
       "    </tr>\n",
       "  </thead>\n",
       "  <tbody>\n",
       "    <tr>\n",
       "      <th>0</th>\n",
       "      <td>27487</td>\n",
       "      <td>0.0</td>\n",
       "      <td>300000.0</td>\n",
       "      <td>5.0</td>\n",
       "      <td>22000</td>\n",
       "      <td>2</td>\n",
       "      <td>3</td>\n",
       "      <td>28</td>\n",
       "      <td>1</td>\n",
       "      <td>1</td>\n",
       "      <td>...</td>\n",
       "      <td>0</td>\n",
       "      <td>0</td>\n",
       "      <td>0</td>\n",
       "      <td>0</td>\n",
       "      <td>0</td>\n",
       "      <td>1</td>\n",
       "      <td>0</td>\n",
       "      <td>0</td>\n",
       "      <td>1</td>\n",
       "      <td>0.0</td>\n",
       "    </tr>\n",
       "    <tr>\n",
       "      <th>1</th>\n",
       "      <td>56689</td>\n",
       "      <td>0.0</td>\n",
       "      <td>50000.0</td>\n",
       "      <td>1.0</td>\n",
       "      <td>20000</td>\n",
       "      <td>3</td>\n",
       "      <td>1</td>\n",
       "      <td>34</td>\n",
       "      <td>1</td>\n",
       "      <td>1</td>\n",
       "      <td>...</td>\n",
       "      <td>0</td>\n",
       "      <td>0</td>\n",
       "      <td>0</td>\n",
       "      <td>1</td>\n",
       "      <td>0</td>\n",
       "      <td>1</td>\n",
       "      <td>1</td>\n",
       "      <td>0</td>\n",
       "      <td>0</td>\n",
       "      <td>0.0</td>\n",
       "    </tr>\n",
       "    <tr>\n",
       "      <th>2</th>\n",
       "      <td>47624</td>\n",
       "      <td>0.0</td>\n",
       "      <td>0.0</td>\n",
       "      <td>0.0</td>\n",
       "      <td>5000</td>\n",
       "      <td>7</td>\n",
       "      <td>0</td>\n",
       "      <td>22</td>\n",
       "      <td>1</td>\n",
       "      <td>1</td>\n",
       "      <td>...</td>\n",
       "      <td>1</td>\n",
       "      <td>0</td>\n",
       "      <td>0</td>\n",
       "      <td>0</td>\n",
       "      <td>1</td>\n",
       "      <td>0</td>\n",
       "      <td>1</td>\n",
       "      <td>0</td>\n",
       "      <td>0</td>\n",
       "      <td>0.0</td>\n",
       "    </tr>\n",
       "    <tr>\n",
       "      <th>3</th>\n",
       "      <td>38700</td>\n",
       "      <td>11500.0</td>\n",
       "      <td>500000.0</td>\n",
       "      <td>4.0</td>\n",
       "      <td>200000</td>\n",
       "      <td>5</td>\n",
       "      <td>10</td>\n",
       "      <td>41</td>\n",
       "      <td>0</td>\n",
       "      <td>0</td>\n",
       "      <td>...</td>\n",
       "      <td>0</td>\n",
       "      <td>0</td>\n",
       "      <td>0</td>\n",
       "      <td>0</td>\n",
       "      <td>0</td>\n",
       "      <td>1</td>\n",
       "      <td>1</td>\n",
       "      <td>0</td>\n",
       "      <td>0</td>\n",
       "      <td>0.0</td>\n",
       "    </tr>\n",
       "    <tr>\n",
       "      <th>4</th>\n",
       "      <td>12905</td>\n",
       "      <td>8000.0</td>\n",
       "      <td>200000.0</td>\n",
       "      <td>4.0</td>\n",
       "      <td>20500</td>\n",
       "      <td>3</td>\n",
       "      <td>1</td>\n",
       "      <td>26</td>\n",
       "      <td>1</td>\n",
       "      <td>1</td>\n",
       "      <td>...</td>\n",
       "      <td>0</td>\n",
       "      <td>0</td>\n",
       "      <td>0</td>\n",
       "      <td>0</td>\n",
       "      <td>1</td>\n",
       "      <td>0</td>\n",
       "      <td>0</td>\n",
       "      <td>1</td>\n",
       "      <td>0</td>\n",
       "      <td>0.0</td>\n",
       "    </tr>\n",
       "  </tbody>\n",
       "</table>\n",
       "<p>5 rows × 51 columns</p>\n",
       "</div>"
      ],
      "text/plain": [
       "   Unnamed: 0  Existing_EMI  Loan_Amount_Applied  Loan_Tenure_Applied  \\\n",
       "0       27487           0.0             300000.0                  5.0   \n",
       "1       56689           0.0              50000.0                  1.0   \n",
       "2       47624           0.0                  0.0                  0.0   \n",
       "3       38700       11500.0             500000.0                  4.0   \n",
       "4       12905        8000.0             200000.0                  4.0   \n",
       "\n",
       "   Monthly_Income  Var4  Var5  Age  EMI_Loan_Submitted_Missing  \\\n",
       "0           22000     2     3   28                           1   \n",
       "1           20000     3     1   34                           1   \n",
       "2            5000     7     0   22                           1   \n",
       "3          200000     5    10   41                           0   \n",
       "4           20500     3     1   26                           1   \n",
       "\n",
       "   Interest_Rate_Missing    ...      Var2_3  Var2_4  Var2_5  Var2_6  \\\n",
       "0                      1    ...           0       0       0       0   \n",
       "1                      1    ...           0       0       0       1   \n",
       "2                      1    ...           1       0       0       0   \n",
       "3                      0    ...           0       0       0       0   \n",
       "4                      1    ...           0       0       0       0   \n",
       "\n",
       "   Mobile_Verified_0  Mobile_Verified_1  Source_0  Source_1  Source_2  \\\n",
       "0                  0                  1         0         0         1   \n",
       "1                  0                  1         1         0         0   \n",
       "2                  1                  0         1         0         0   \n",
       "3                  0                  1         1         0         0   \n",
       "4                  1                  0         0         1         0   \n",
       "\n",
       "   Disbursed  \n",
       "0        0.0  \n",
       "1        0.0  \n",
       "2        0.0  \n",
       "3        0.0  \n",
       "4        0.0  \n",
       "\n",
       "[5 rows x 51 columns]"
      ]
     },
     "execution_count": 7,
     "metadata": {},
     "output_type": "execute_result"
    }
   ],
   "source": [
    "X_test.head()"
   ]
  },
  {
   "cell_type": "code",
   "execution_count": 185,
   "metadata": {},
   "outputs": [],
   "source": [
    "columns = X_train.columns\n",
    "columns = list(columns)\n",
    "columns.remove('Unnamed: 0')\n",
    "columns.insert(0, 'Unnamed')"
   ]
  },
  {
   "cell_type": "code",
   "execution_count": 186,
   "metadata": {
    "collapsed": true
   },
   "outputs": [],
   "source": [
    "def trasform_to_string(tpl):\n",
    "    result = str(tpl)[1:-1]\n",
    "    result = result.replace(\"'\", \"\")\n",
    "    result = result.replace(\", \", \":\")\n",
    "    return result"
   ]
  },
  {
   "cell_type": "code",
   "execution_count": 203,
   "metadata": {
    "colab": {},
    "colab_type": "code",
    "id": "oR5d3jhwQOz8"
   },
   "outputs": [],
   "source": [
    "def save_to_vw(data, fname):\n",
    "    with open(fname, 'w') as fout:\n",
    "        for row in data.iterrows():\n",
    "            values = list(row[1])\n",
    "            r = list(zip(columns, values))\n",
    "            target = r.pop()[1]\n",
    "            r = [trasform_to_string(i) for i in r]\n",
    "            r = \" \".join(r)\n",
    "            fout.write('{0} | {1}| \\n'.format(target, r))"
   ]
  },
  {
   "cell_type": "code",
   "execution_count": 204,
   "metadata": {
    "colab": {},
    "colab_type": "code",
    "id": "v_MVFXeDQO0B"
   },
   "outputs": [],
   "source": [
    "save_to_vw(X_train, 'train_medium_vw.vw')\n",
    "save_to_vw(X_test, 'test_medium_vw.vw')"
   ]
  },
  {
   "cell_type": "markdown",
   "metadata": {
    "colab_type": "text",
    "id": "p8p_gqHyQO0E"
   },
   "source": [
    "Скопируйте полученные файлы в папку share и обучите vowpal wabbit. Например, предсказания классов можно сохранять в файл с именем preds.txt, а предсказания вероятностей - в файл probs.txt.\n",
    "\n",
    "Поэкспериментируйте с параметрами vowpal wabbit и постарайтесь добиться наилучшего качества на тесте.\n",
    "\n",
    "Постарайтесь, насколько это возможно, приблизить ROC-AUC к значению, полученному после оптимизации xgboost."
   ]
  },
  {
   "cell_type": "code",
   "execution_count": 205,
   "metadata": {},
   "outputs": [
    {
     "name": "stdout",
     "output_type": "stream",
     "text": [
      "\u001b[31mBlending.pdf\u001b[m\u001b[m           \u001b[31mtest_medium.csv\u001b[m\u001b[m        train_medium.csv?dl=0\r\n",
      "\u001b[31mBlendingStacking.ipynb\u001b[m\u001b[m test_medium.csv?dl=0   train_medium_vw.vw\r\n",
      "\u001b[31mGD.pdf\u001b[m\u001b[m                 test_medium_vw.vw      \u001b[31mvw_tutorial.ipynb\u001b[m\u001b[m\r\n",
      "\u001b[31mREADME.md\u001b[m\u001b[m              train-sample.csv?dl=0  \u001b[31mvw_tutorial.pdf\u001b[m\u001b[m\r\n",
      "pred.txt               \u001b[31mtrain_medium.csv\u001b[m\u001b[m       \u001b[31mvw_vs_xgb.ipynb\u001b[m\u001b[m\r\n"
     ]
    }
   ],
   "source": [
    "!ls"
   ]
  },
  {
   "cell_type": "code",
   "execution_count": 206,
   "metadata": {
    "colab": {
     "base_uri": "https://localhost:8080/",
     "height": 52
    },
    "colab_type": "code",
    "id": "nqhMCt-fSmYl",
    "outputId": "291bbc2c-5758-46ce-f8bd-58fc68860736"
   },
   "outputs": [
    {
     "name": "stdout",
     "output_type": "stream",
     "text": [
      "1.0 | Unnamed:7881.0 Existing_EMI:0.0 Loan_Amount_Applied:100000.0 Loan_Tenure_Applied:3.0 Monthly_Income:29000.0 Var4:4.0 Var5:11.0 Age:29.0 EMI_Loan_Submitted_Missing:0.0 Interest_Rate_Missing:0.0 Loan_Amount_Submitted_Missing:0.0 Loan_Tenure_Submitted_Missing:0.0 Processing_Fee_Missing:0.0 Device_Type_0:0.0 Device_Type_1:1.0 Filled_Form_0:1.0 Filled_Form_1:0.0 Gender_0:0.0 Gender_1:1.0 Var1_0:0.0 Var1_1:0.0 Var1_2:0.0 Var1_3:0.0 Var1_4:0.0 Var1_5:0.0 Var1_6:0.0 Var1_7:0.0 Var1_8:0.0 Var1_9:0.0 Var1_10:0.0 Var1_11:1.0 Var1_12:0.0 Var1_13:0.0 Var1_14:0.0 Var1_15:0.0 Var1_16:0.0 Var1_17:0.0 Var1_18:0.0 Var2_0:0.0 Var2_1:1.0 Var2_2:0.0 Var2_3:0.0 Var2_4:0.0 Var2_5:0.0 Var2_6:0.0 Mobile_Verified_0:0.0 Mobile_Verified_1:1.0 Source_0:0.0 Source_1:1.0 Source_2:0.0| \r\n",
      "0.0 | Unnamed:189.0 Existing_EMI:21000.0 Loan_Amount_Applied:450000.0 Loan_Tenure_Applied:5.0 Monthly_Income:48000.0 Var4:1.0 Var5:0.0 Age:27.0 EMI_Loan_Submitted_Missing:1.0 Interest_Rate_Missing:1.0 Loan_Amount_Submitted_Missing:1.0 Loan_Tenure_Submitted_Missing:1.0 Processing_Fee_Missing:1.0 Device_Type_0:0.0 Device_Type_1:1.0 Filled_Form_0:1.0 Filled_Form_1:0.0 Gender_0:1.0 Gender_1:0.0 Var1_0:0.0 Var1_1:0.0 Var1_2:0.0 Var1_3:0.0 Var1_4:0.0 Var1_5:0.0 Var1_6:0.0 Var1_7:0.0 Var1_8:0.0 Var1_9:0.0 Var1_10:0.0 Var1_11:0.0 Var1_12:0.0 Var1_13:1.0 Var1_14:0.0 Var1_15:0.0 Var1_16:0.0 Var1_17:0.0 Var1_18:0.0 Var2_0:0.0 Var2_1:1.0 Var2_2:0.0 Var2_3:0.0 Var2_4:0.0 Var2_5:0.0 Var2_6:0.0 Mobile_Verified_0:1.0 Mobile_Verified_1:0.0 Source_0:0.0 Source_1:1.0 Source_2:0.0| \r\n"
     ]
    }
   ],
   "source": [
    "!head -n 2 train_medium_vw.vw"
   ]
  },
  {
   "cell_type": "code",
   "execution_count": 207,
   "metadata": {
    "colab": {
     "base_uri": "https://localhost:8080/",
     "height": 728
    },
    "colab_type": "code",
    "id": "ujOVfiQYS4v5",
    "outputId": "f133c57a-148d-485c-8210-f22ab47cfe06"
   },
   "outputs": [
    {
     "name": "stdout",
     "output_type": "stream",
     "text": [
      "final_regressor = model.vw\n",
      "Num weight bits = 18\n",
      "learning rate = 0.5\n",
      "initial_t = 0\n",
      "power_t = 0.5\n",
      "decay_learning_rate = 1\n",
      "creating cache_file = train_medium_vw.vw.cache\n",
      "Reading datafile = train_medium_vw.vw\n",
      "num sources = 1\n",
      "average  since         example        example  current  current  current\n",
      "loss     last          counter         weight    label  predict features\n",
      "1.000000 1.000000            1            1.0   1.0000   0.0000       15\n",
      "0.820184 0.640367            2            2.0   0.0000   0.8002       20\n",
      "0.570409 0.320634            4            4.0   0.0000   0.0000       18\n",
      "0.285204 0.000000            8            8.0   0.0000   0.0000       19\n",
      "0.217465 0.149725           16           16.0   0.0000   0.0413       16\n",
      "0.108809 0.000152           32           32.0   0.0000   0.0000       15\n",
      "0.054915 0.001021           64           64.0   0.0000   0.0000       20\n",
      "0.027685 0.000455          128          128.0   0.0000   0.0000       19\n",
      "0.013848 0.000012          256          256.0   0.0000   0.0000       18\n",
      "0.013988 0.014128          512          512.0   0.0000   0.0000       17\n",
      "0.013926 0.013865         1024         1024.0   0.0000   0.0000       16\n",
      "0.017849 0.021773         2048         2048.0   0.0000   0.0679       20\n",
      "0.015680 0.013510         4096         4096.0   0.0000   0.1074       15\n",
      "0.012875 0.010069         8192         8192.0   0.0000   0.0000       17\n",
      "0.014293 0.015711        16384        16384.0   0.0000   0.0000       18\n",
      "0.014298 0.014303        32768        32768.0   0.0000   0.0000       20\n",
      "0.015774 0.015774        65536        65536.0   0.0000   0.0410       16 h\n",
      "0.016021 0.016268       131072       131072.0   0.0000   0.0205       18 h\n",
      "0.015824 0.015628       262144       262144.0   0.0000   0.0000       18 h\n",
      "0.015649 0.015474       524288       524288.0   0.0000   0.0315       20 h\n",
      "\n",
      "finished run\n",
      "number of examples per pass = 58739\n",
      "passes used = 10\n",
      "weighted example sum = 587390.000000\n",
      "weighted label sum = 8440.000000\n",
      "average loss = 0.015555 h\n",
      "best constant = 0.014369\n",
      "best constant's loss = 0.014162\n",
      "total feature number = 10038680\n"
     ]
    }
   ],
   "source": [
    "#your code here\n",
    "!vw -d train_medium_vw.vw --passes 10 -c -f model.vw"
   ]
  },
  {
   "cell_type": "code",
   "execution_count": 209,
   "metadata": {},
   "outputs": [
    {
     "name": "stdout",
     "output_type": "stream",
     "text": [
      "only testing\n",
      "predictions = preds.txt\n",
      "Num weight bits = 18\n",
      "learning rate = 0.5\n",
      "initial_t = 0\n",
      "power_t = 0.5\n",
      "using no cache\n",
      "Reading datafile = test_medium_vw.vw\n",
      "num sources = 1\n",
      "average  since         example        example  current  current  current\n",
      "loss     last          counter         weight    label  predict features\n",
      "0.001864 0.001864            1            1.0   0.0000   0.0432       18\n",
      "0.000997 0.000130            2            2.0   0.0000   0.0114       18\n",
      "0.001139 0.001280            4            4.0   0.0000   0.0506       16\n",
      "0.002138 0.003138            8            8.0   0.0000   0.0610       20\n",
      "0.002347 0.002556           16           16.0   0.0000   0.0711       16\n",
      "0.002225 0.002103           32           32.0   0.0000   0.0444       20\n",
      "0.016246 0.030267           64           64.0   1.0000   0.0675       16\n",
      "0.030753 0.045260          128          128.0   0.0000   0.0664       18\n",
      "0.020058 0.009363          256          256.0   0.0000   0.0001       13\n",
      "0.019982 0.019907          512          512.0   0.0000   0.0218       16\n",
      "0.016472 0.012961         1024         1024.0   0.0000   0.0000       16\n",
      "0.015667 0.014862         2048         2048.0   0.0000   0.0021       13\n",
      "0.016735 0.017804         4096         4096.0   0.0000   0.0462       18\n",
      "0.015946 0.015157         8192         8192.0   0.0000   0.0741       20\n",
      "0.016518 0.017089        16384        16384.0   1.0000   0.0240       13\n",
      "\n",
      "finished run\n",
      "number of examples = 21755\n",
      "weighted example sum = 21755.000000\n",
      "weighted label sum = 324.000000\n",
      "average loss = 0.015945\n",
      "best constant = 0.014893\n",
      "best constant's loss = 0.014671\n",
      "total feature number = 371484\n"
     ]
    }
   ],
   "source": [
    "!vw -d test_medium_vw.vw -i model.vw -t -p preds.txt"
   ]
  },
  {
   "cell_type": "code",
   "execution_count": null,
   "metadata": {
    "colab": {
     "base_uri": "https://localhost:8080/",
     "height": 35
    },
    "colab_type": "code",
    "collapsed": true,
    "id": "8VfjxCROQO0G",
    "outputId": "f8c463af-5339-48f2-c55f-50443df4e61c"
   },
   "outputs": [],
   "source": [
    "from sklearn import metrics\n",
    "\n",
    "probs = []\n",
    "f=open('probs.txt','r')\n",
    "lines = f.readlines()\n",
    "for line in lines:\n",
    "    probs.append(float(line))\n",
    "    \n",
    "print('ROC-AUC:', metrics.roc_auc_score(X_test['Disbursed'], probs))"
   ]
  },
  {
   "cell_type": "code",
   "execution_count": 211,
   "metadata": {
    "colab": {
     "base_uri": "https://localhost:8080/",
     "height": 236
    },
    "colab_type": "code",
    "id": "h_Yk3D93QO0J",
    "outputId": "8574ba12-ef25-4ea4-91b0-502f1c8236f8"
   },
   "outputs": [
    {
     "name": "stdout",
     "output_type": "stream",
     "text": [
      "accuracy: 0.01489312801654792\n"
     ]
    }
   ],
   "source": [
    "from sklearn import metrics\n",
    "res = []\n",
    "f=open('preds.txt','r')\n",
    "lines = f.readlines()\n",
    "for line in lines:\n",
    "    if float(line) < 0:\n",
    "        res.append(0)\n",
    "    else:\n",
    "        res.append(1)\n",
    "    \n",
    "print('accuracy:', metrics.accuracy_score(X_test['Disbursed'].values, res))"
   ]
  },
  {
   "cell_type": "code",
   "execution_count": 213,
   "metadata": {},
   "outputs": [
    {
     "name": "stdout",
     "output_type": "stream",
     "text": [
      "Final prediction: 0.985106871983452\n"
     ]
    },
    {
     "name": "stderr",
     "output_type": "stream",
     "text": [
      "/anaconda3/lib/python3.6/site-packages/sklearn/preprocessing/label.py:151: DeprecationWarning: The truth value of an empty array is ambiguous. Returning False, but in future this will result in an error. Use `array.size > 0` to check that an array is not empty.\n",
      "  if diff:\n"
     ]
    }
   ],
   "source": [
    "import xgboost as xgb\n",
    "train_data = pd.read_csv(\"train_medium.csv\")\n",
    "test_data = pd.read_csv(\"test_medium.csv\")\n",
    "y_train = train_data['Disbursed']\n",
    "y_test = test_data['Disbursed']\n",
    "X_train = train_data.drop(columns=['Disbursed'])\n",
    "X_test = test_data.drop(columns=['Disbursed'])\n",
    "alg = xgb.XGBClassifier(objective='binary:logistic', n_estimators=100, max_depth=4)\n",
    "xgb_m = alg.fit(X_train, y_train)\n",
    "xgb_pred = xgb_m.predict(X_test)\n",
    "print('Final prediction:', metrics.accuracy_score(xgb_pred, y_test))"
   ]
  }
 ],
 "metadata": {
  "colab": {
   "name": "vw_vs_xgb.ipynb",
   "provenance": [],
   "version": "0.3.2"
  },
  "kernelspec": {
   "display_name": "Python 3",
   "language": "python",
   "name": "python3"
  },
  "language_info": {
   "codemirror_mode": {
    "name": "ipython",
    "version": 3
   },
   "file_extension": ".py",
   "mimetype": "text/x-python",
   "name": "python",
   "nbconvert_exporter": "python",
   "pygments_lexer": "ipython3",
   "version": "3.6.3"
  }
 },
 "nbformat": 4,
 "nbformat_minor": 1
}
