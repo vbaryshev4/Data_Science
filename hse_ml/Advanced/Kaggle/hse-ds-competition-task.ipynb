{
 "cells": [
  {
   "cell_type": "markdown",
   "metadata": {},
   "source": [
    "# ДПО ВШЭ\n",
    "\n",
    "## Современный анализ данных, глубокое обучение и приложения\n",
    "\n",
    "## Задание на тему: \"Соревнования по анализу данных\""
   ]
  },
  {
   "cell_type": "markdown",
   "metadata": {},
   "source": [
    "В этом задании мы будем решать соревнование по определению лояльности пользователей сети [Kaggle Elo Merchant Category Recommendation](https://www.kaggle.com/c/elo-merchant-category-recommendation).\n",
    "\n",
    "Сначала мы будем действовать самостоятельно (загрузим данные, посмотрим на них, прикинем, что можно сделать, подготовим простое решение и сравним его с локальной валидацией). Далее перейдём к особенностям решения соревнований на платформе (изучение публичных решений и форума).\n",
    "\n",
    "Для начала необходимо загрузить все данные и расположить их рядом с этим ноутбуком."
   ]
  },
  {
   "cell_type": "code",
   "execution_count": 3,
   "metadata": {},
   "outputs": [
    {
     "name": "stdout",
     "output_type": "stream",
     "text": [
      "Populating the interactive namespace from numpy and matplotlib\n"
     ]
    }
   ],
   "source": [
    "%pylab inline\n",
    "import numpy as np\n",
    "import pandas as pd\n",
    "import datetime\n",
    "import gc\n",
    "import matplotlib.pyplot as plt\n",
    "import seaborn as sns\n",
    "import lightgbm as lgb\n",
    "from sklearn.model_selection import StratifiedKFold\n",
    "from sklearn.metrics import mean_squared_error\n",
    "import warnings\n",
    "warnings.filterwarnings('ignore')\n",
    "np.random.seed(4590)\n",
    "\n",
    "# Displaying pd Dataframe options\n",
    "pd.set_option('display.max_columns', 500)\n",
    "pd.set_option('display.width', 1000)\n",
    "pd.set_option('display.max_colwidth', 1000)"
   ]
  },
  {
   "cell_type": "markdown",
   "metadata": {},
   "source": [
    "## Часть 1. Своё решение"
   ]
  },
  {
   "cell_type": "markdown",
   "metadata": {},
   "source": [
    "### Загрузка данных"
   ]
  },
  {
   "cell_type": "code",
   "execution_count": 4,
   "metadata": {
    "collapsed": true
   },
   "outputs": [],
   "source": [
    "data_dir = 'elo-merchant-category-recommendation/'"
   ]
  },
  {
   "cell_type": "code",
   "execution_count": 5,
   "metadata": {},
   "outputs": [],
   "source": [
    "df_train = pd.read_csv(data_dir + '/train.csv')\n",
    "df_test = pd.read_csv(data_dir + '/test.csv')\n",
    "df_hist_trans = pd.read_csv(data_dir + '/historical_transactions.csv')\n",
    "df_new_merchant_trans = pd.read_csv(data_dir + '/new_merchant_transactions.csv')"
   ]
  },
  {
   "cell_type": "markdown",
   "metadata": {},
   "source": [
    "**Ответьте на вопросы:** (по 1-2 предложениям на вопрос)\n",
    "\n",
    "1. Какая информация доступна нам?\n",
    "1. Чем характеризуется лояльность покупателя? (по собственному опыту)\n",
    "1. Какие признаки в первую очередь можно было бы построить на текущих данных?\n",
    "1. Какая метрика у данной задачи?\n",
    "\n",
    "**Ответы:**\n",
    "1. Нам доступны:\n",
    "    файлы train.csv и test.csv. Они содержат card_ids, которые мы будем использовать для обучения и прогнозирования.\n",
    "\n",
    "    Файлы исторические_транзакции.csv и new_merchant_transactions.csv содержат информацию о транзакциях каждой карты.\n",
    "\n",
    "    history_transactions.csv содержит транзакции на срок до 3 месяцев для каждой карты в любом из предоставленных merchant_ids.\n",
    "\n",
    "    new_merchant_transactions.csv содержит транзакции у новых продавцов (merchant_ids, которые этот конкретный card_id еще не посещал) в течение двух месяцев.\n",
    "\n",
    "    В merchants.csv содержится сводная информация для каждого merchant_id, представленного в наборе данных.\n",
    "\n",
    "1. Частотой покупок и продолжительностью привязанности к сервису\n",
    "1. Для каждолго покупателя можно сделать расчет на сонове истории его покупок: сумму всех покупок. Срденяя по покупкам.\n",
    "1. Root Mean Squared Error (RMSE)\n",
    "\n"
   ]
  },
  {
   "cell_type": "markdown",
   "metadata": {},
   "source": [
    "### Первичная аналитика"
   ]
  },
  {
   "cell_type": "markdown",
   "metadata": {},
   "source": [
    "**Ответьте на следующие вопросы.** Для ответа вам необходимо произвести некоторую аналитику. К каждому ответу нужно оставить поясняющую ваш ответ иллюстрацию или краткое рассуждение.\n",
    "\n",
    "1. Посмотрите распределение целевой переменной. Есть ли что-то интересное? Как это согласуется с метрикой в задаче?\n",
    "1. Сравните обучающую и тестовую выборки. Как, во-вашему, разбиты данные на обучение и тест? Какую валидацию можно было бы использовать?\n",
    "\n",
    "**Ответы:** ..."
   ]
  },
  {
   "cell_type": "code",
   "execution_count": 6,
   "metadata": {},
   "outputs": [
    {
     "data": {
      "text/plain": [
       "<matplotlib.axes._subplots.AxesSubplot at 0x11fca24a8>"
      ]
     },
     "execution_count": 6,
     "metadata": {},
     "output_type": "execute_result"
    },
    {
     "data": {
      "image/png": "[encoded data removed]",
      "text/plain": [
       "<matplotlib.figure.Figure at 0x11b4ca278>"
      ]
     },
     "metadata": {},
     "output_type": "display_data"
    }
   ],
   "source": [
    "# Распределение целевой переменной - нормальное\n",
    "# Есть выброс.\n",
    "# RMSE – квадратичная функция. Следовательно чем больше мы ошибаемся, тем существенно больше штраф. \n",
    "# В отличае от MAE(линейной функции). Где ошибка пропорциональна штрафу.\n",
    "# Вот это вот выброс слева на графике может испаганить нам всю картину.\n",
    "# На то он и выброс.\n",
    "df_train.target.hist(bins = 100)"
   ]
  },
  {
   "cell_type": "code",
   "execution_count": 7,
   "metadata": {},
   "outputs": [],
   "source": [
    "train_dates = df_train['first_active_month'].astype('str').unique()"
   ]
  },
  {
   "cell_type": "code",
   "execution_count": 12,
   "metadata": {
    "collapsed": true
   },
   "outputs": [],
   "source": [
    "test_dates = df_test['first_active_month'].astype('str').unique()"
   ]
  },
  {
   "cell_type": "code",
   "execution_count": 13,
   "metadata": {},
   "outputs": [],
   "source": [
    "test_dates = test_dates[test_dates != 'nan']"
   ]
  },
  {
   "cell_type": "code",
   "execution_count": 14,
   "metadata": {},
   "outputs": [
    {
     "data": {
      "text/plain": [
       "['2011-11', '2018-02']"
      ]
     },
     "execution_count": 14,
     "metadata": {},
     "output_type": "execute_result"
    }
   ],
   "source": [
    "[train_dates.min(), train_dates.max()]"
   ]
  },
  {
   "cell_type": "code",
   "execution_count": 15,
   "metadata": {},
   "outputs": [
    {
     "data": {
      "text/plain": [
       "['2011-11', '2018-01']"
      ]
     },
     "execution_count": 15,
     "metadata": {},
     "output_type": "execute_result"
    }
   ],
   "source": [
    "[test_dates.min(), test_dates.max()]"
   ]
  },
  {
   "cell_type": "code",
   "execution_count": null,
   "metadata": {
    "collapsed": true
   },
   "outputs": [],
   "source": [
    "# На первый взгляд данные теста и трейна схожи.\n",
    "# Отличие по датам. Трейн захватывает промежуток по датам больше на месяц."
   ]
  },
  {
   "cell_type": "code",
   "execution_count": null,
   "metadata": {
    "collapsed": true
   },
   "outputs": [],
   "source": [
    "# Кажется что для обучения нужно испольщовать метрику RMSE \n",
    "# Сначала я думал, что для валидации нужно использовать подход \n",
    "# описанный на занятии:\n",
    "# Учу на половине, а, тестирую на остальном\n",
    "# Потом в трейн добавляю 1 фолд, из теста его убираю\n",
    "# и так далее. Но это сложно. Я такое не делал. Не знаю получится ли...\n",
    "\n",
    "# Но так как дата здесь выполняет роль признака и здесь нет никакой историчности\n",
    "# Можно, кажется, исопльзовать обычную валидацию"
   ]
  },
  {
   "cell_type": "markdown",
   "metadata": {},
   "source": [
    "### Бейзлайн-решение"
   ]
  },
  {
   "cell_type": "markdown",
   "metadata": {},
   "source": [
    "Готовить бейзлайн решение будем вместе с валидацией. Возьмём несколько исходных признаков (не забудьте про их типы!) и добавим несколько самых простых на основе других таблиц. Не забудем про даты и признаки на их основе. \n",
    "\n",
    "**Подготовьте около 10 признаков для обучающей и тестовой выборки**."
   ]
  },
  {
   "cell_type": "code",
   "execution_count": 16,
   "metadata": {
    "collapsed": true
   },
   "outputs": [],
   "source": [
    "for df in [df_hist_trans,df_new_merchant_trans]:\n",
    "    df['category_2'].fillna(1.0,inplace=True)\n",
    "    df['category_3'].fillna('A',inplace=True)\n",
    "    df['merchant_id'].fillna('M_ID_00a6ca8a8a',inplace=True)"
   ]
  },
  {
   "cell_type": "code",
   "execution_count": 17,
   "metadata": {
    "collapsed": true
   },
   "outputs": [],
   "source": [
    "def get_new_columns(name,aggs):\n",
    "    return [name + '_' + k + '_' + agg for k in aggs.keys() for agg in aggs[k]]"
   ]
  },
  {
   "cell_type": "code",
   "execution_count": 18,
   "metadata": {
    "collapsed": true
   },
   "outputs": [],
   "source": [
    "for df in [df_hist_trans,df_new_merchant_trans]:\n",
    "    df['purchase_date'] = pd.to_datetime(df['purchase_date'])\n",
    "    df['year'] = df['purchase_date'].dt.year\n",
    "    df['weekofyear'] = df['purchase_date'].dt.weekofyear\n",
    "    df['month'] = df['purchase_date'].dt.month\n",
    "    df['dayofweek'] = df['purchase_date'].dt.dayofweek\n",
    "    df['weekend'] = (df.purchase_date.dt.weekday >=5).astype(int)\n",
    "    df['hour'] = df['purchase_date'].dt.hour\n",
    "    df['authorized_flag'] = df['authorized_flag'].map({'Y':1, 'N':0})\n",
    "    df['category_1'] = df['category_1'].map({'Y':1, 'N':0}) \n",
    "    #https://www.kaggle.com/c/elo-merchant-category-recommendation/discussion/73244\n",
    "    df['month_diff'] = ((datetime.datetime.today() - df['purchase_date']).dt.days)//30\n",
    "    df['month_diff'] += df['month_lag']"
   ]
  },
  {
   "cell_type": "code",
   "execution_count": 19,
   "metadata": {},
   "outputs": [
    {
     "data": {
      "text/plain": [
       "50"
      ]
     },
     "execution_count": 19,
     "metadata": {},
     "output_type": "execute_result"
    }
   ],
   "source": [
    "aggs = {}\n",
    "for col in ['month','hour','weekofyear','dayofweek','year','subsector_id','merchant_id','merchant_category_id']:\n",
    "    aggs[col] = ['nunique']\n",
    "\n",
    "aggs['purchase_amount'] = ['sum','max','min','mean','var']\n",
    "aggs['installments'] = ['sum','max','min','mean','var']\n",
    "aggs['purchase_date'] = ['max','min']\n",
    "aggs['month_lag'] = ['max','min','mean','var']\n",
    "aggs['month_diff'] = ['mean']\n",
    "aggs['authorized_flag'] = ['sum', 'mean']\n",
    "aggs['weekend'] = ['sum', 'mean']\n",
    "aggs['category_1'] = ['sum', 'mean']\n",
    "aggs['card_id'] = ['size']\n",
    "\n",
    "for col in ['category_2','category_3']:\n",
    "    df_hist_trans[col+'_mean'] = df_hist_trans.groupby([col])['purchase_amount'].transform('mean')\n",
    "    aggs[col+'_mean'] = ['mean']    \n",
    "\n",
    "new_columns = get_new_columns('hist',aggs)\n",
    "df_hist_trans_group = df_hist_trans.groupby('card_id').agg(aggs)\n",
    "df_hist_trans_group.columns = new_columns\n",
    "df_hist_trans_group.reset_index(drop=False,inplace=True)\n",
    "df_hist_trans_group['hist_purchase_date_diff'] = (df_hist_trans_group['hist_purchase_date_max'] - df_hist_trans_group['hist_purchase_date_min']).dt.days\n",
    "df_hist_trans_group['hist_purchase_date_average'] = df_hist_trans_group['hist_purchase_date_diff']/df_hist_trans_group['hist_card_id_size']\n",
    "df_hist_trans_group['hist_purchase_date_uptonow'] = (datetime.datetime.today() - df_hist_trans_group['hist_purchase_date_max']).dt.days\n",
    "df_train = df_train.merge(df_hist_trans_group,on='card_id',how='left')\n",
    "df_test = df_test.merge(df_hist_trans_group,on='card_id',how='left')\n",
    "del df_hist_trans_group;gc.collect()"
   ]
  },
  {
   "cell_type": "code",
   "execution_count": 20,
   "metadata": {},
   "outputs": [
    {
     "data": {
      "text/plain": [
       "28"
      ]
     },
     "execution_count": 20,
     "metadata": {},
     "output_type": "execute_result"
    }
   ],
   "source": [
    "aggs = {}\n",
    "for col in ['month','hour','weekofyear','dayofweek','year','subsector_id','merchant_id','merchant_category_id']:\n",
    "    aggs[col] = ['nunique']\n",
    "aggs['purchase_amount'] = ['sum','max','min','mean','var']\n",
    "aggs['installments'] = ['sum','max','min','mean','var']\n",
    "aggs['purchase_date'] = ['max','min']\n",
    "aggs['month_lag'] = ['max','min','mean','var']\n",
    "aggs['month_diff'] = ['mean']\n",
    "aggs['weekend'] = ['sum', 'mean']\n",
    "aggs['category_1'] = ['sum', 'mean']\n",
    "aggs['card_id'] = ['size']\n",
    "\n",
    "for col in ['category_2','category_3']:\n",
    "    df_new_merchant_trans[col+'_mean'] = df_new_merchant_trans.groupby([col])['purchase_amount'].transform('mean')\n",
    "    aggs[col+'_mean'] = ['mean']\n",
    "    \n",
    "new_columns = get_new_columns('new_hist',aggs)\n",
    "df_hist_trans_group = df_new_merchant_trans.groupby('card_id').agg(aggs)\n",
    "df_hist_trans_group.columns = new_columns\n",
    "df_hist_trans_group.reset_index(drop=False,inplace=True)\n",
    "df_hist_trans_group['new_hist_purchase_date_diff'] = (df_hist_trans_group['new_hist_purchase_date_max'] - df_hist_trans_group['new_hist_purchase_date_min']).dt.days\n",
    "df_hist_trans_group['new_hist_purchase_date_average'] = df_hist_trans_group['new_hist_purchase_date_diff']/df_hist_trans_group['new_hist_card_id_size']\n",
    "df_hist_trans_group['new_hist_purchase_date_uptonow'] = (datetime.datetime.today() - df_hist_trans_group['new_hist_purchase_date_max']).dt.days\n",
    "df_train = df_train.merge(df_hist_trans_group,on='card_id',how='left')\n",
    "df_test = df_test.merge(df_hist_trans_group,on='card_id',how='left')\n",
    "del df_hist_trans_group;gc.collect()"
   ]
  },
  {
   "cell_type": "code",
   "execution_count": 21,
   "metadata": {},
   "outputs": [
    {
     "data": {
      "text/html": [
       "<div>\n",
       "<style scoped>\n",
       "    .dataframe tbody tr th:only-of-type {\n",
       "        vertical-align: middle;\n",
       "    }\n",
       "\n",
       "    .dataframe tbody tr th {\n",
       "        vertical-align: top;\n",
       "    }\n",
       "\n",
       "    .dataframe thead th {\n",
       "        text-align: right;\n",
       "    }\n",
       "</style>\n",
       "<table border=\"1\" class=\"dataframe\">\n",
       "  <thead>\n",
       "    <tr style=\"text-align: right;\">\n",
       "      <th></th>\n",
       "      <th>first_active_month</th>\n",
       "      <th>card_id</th>\n",
       "      <th>feature_1</th>\n",
       "      <th>feature_2</th>\n",
       "      <th>feature_3</th>\n",
       "      <th>target</th>\n",
       "      <th>hist_month_nunique</th>\n",
       "      <th>hist_hour_nunique</th>\n",
       "      <th>hist_weekofyear_nunique</th>\n",
       "      <th>hist_dayofweek_nunique</th>\n",
       "      <th>hist_year_nunique</th>\n",
       "      <th>hist_subsector_id_nunique</th>\n",
       "      <th>hist_merchant_id_nunique</th>\n",
       "      <th>hist_merchant_category_id_nunique</th>\n",
       "      <th>hist_purchase_amount_sum</th>\n",
       "      <th>hist_purchase_amount_max</th>\n",
       "      <th>hist_purchase_amount_min</th>\n",
       "      <th>hist_purchase_amount_mean</th>\n",
       "      <th>hist_purchase_amount_var</th>\n",
       "      <th>hist_installments_sum</th>\n",
       "      <th>hist_installments_max</th>\n",
       "      <th>hist_installments_min</th>\n",
       "      <th>hist_installments_mean</th>\n",
       "      <th>hist_installments_var</th>\n",
       "      <th>hist_purchase_date_max</th>\n",
       "      <th>hist_purchase_date_min</th>\n",
       "      <th>hist_month_lag_max</th>\n",
       "      <th>hist_month_lag_min</th>\n",
       "      <th>hist_month_lag_mean</th>\n",
       "      <th>hist_month_lag_var</th>\n",
       "      <th>hist_month_diff_mean</th>\n",
       "      <th>hist_authorized_flag_sum</th>\n",
       "      <th>hist_authorized_flag_mean</th>\n",
       "      <th>hist_weekend_sum</th>\n",
       "      <th>hist_weekend_mean</th>\n",
       "      <th>hist_category_1_sum</th>\n",
       "      <th>hist_category_1_mean</th>\n",
       "      <th>hist_card_id_size</th>\n",
       "      <th>hist_category_2_mean_mean</th>\n",
       "      <th>hist_category_3_mean_mean</th>\n",
       "      <th>hist_purchase_date_diff</th>\n",
       "      <th>hist_purchase_date_average</th>\n",
       "      <th>hist_purchase_date_uptonow</th>\n",
       "      <th>new_hist_month_nunique</th>\n",
       "      <th>new_hist_hour_nunique</th>\n",
       "      <th>new_hist_weekofyear_nunique</th>\n",
       "      <th>new_hist_dayofweek_nunique</th>\n",
       "      <th>new_hist_year_nunique</th>\n",
       "      <th>new_hist_subsector_id_nunique</th>\n",
       "      <th>new_hist_merchant_id_nunique</th>\n",
       "      <th>new_hist_merchant_category_id_nunique</th>\n",
       "      <th>new_hist_purchase_amount_sum</th>\n",
       "      <th>new_hist_purchase_amount_max</th>\n",
       "      <th>new_hist_purchase_amount_min</th>\n",
       "      <th>new_hist_purchase_amount_mean</th>\n",
       "      <th>new_hist_purchase_amount_var</th>\n",
       "      <th>new_hist_installments_sum</th>\n",
       "      <th>new_hist_installments_max</th>\n",
       "      <th>new_hist_installments_min</th>\n",
       "      <th>new_hist_installments_mean</th>\n",
       "      <th>new_hist_installments_var</th>\n",
       "      <th>new_hist_purchase_date_max</th>\n",
       "      <th>new_hist_purchase_date_min</th>\n",
       "      <th>new_hist_month_lag_max</th>\n",
       "      <th>new_hist_month_lag_min</th>\n",
       "      <th>new_hist_month_lag_mean</th>\n",
       "      <th>new_hist_month_lag_var</th>\n",
       "      <th>new_hist_month_diff_mean</th>\n",
       "      <th>new_hist_weekend_sum</th>\n",
       "      <th>new_hist_weekend_mean</th>\n",
       "      <th>new_hist_category_1_sum</th>\n",
       "      <th>new_hist_category_1_mean</th>\n",
       "      <th>new_hist_card_id_size</th>\n",
       "      <th>new_hist_category_2_mean_mean</th>\n",
       "      <th>new_hist_category_3_mean_mean</th>\n",
       "      <th>new_hist_purchase_date_diff</th>\n",
       "      <th>new_hist_purchase_date_average</th>\n",
       "      <th>new_hist_purchase_date_uptonow</th>\n",
       "    </tr>\n",
       "  </thead>\n",
       "  <tbody>\n",
       "    <tr>\n",
       "      <th>0</th>\n",
       "      <td>2017-06</td>\n",
       "      <td>C_ID_92a2005557</td>\n",
       "      <td>5</td>\n",
       "      <td>2</td>\n",
       "      <td>1</td>\n",
       "      <td>-0.820283</td>\n",
       "      <td>9</td>\n",
       "      <td>23</td>\n",
       "      <td>35</td>\n",
       "      <td>7</td>\n",
       "      <td>2</td>\n",
       "      <td>21</td>\n",
       "      <td>94</td>\n",
       "      <td>41</td>\n",
       "      <td>-165.968739</td>\n",
       "      <td>2.258395</td>\n",
       "      <td>-0.739395</td>\n",
       "      <td>-0.638341</td>\n",
       "      <td>0.045003</td>\n",
       "      <td>4</td>\n",
       "      <td>1</td>\n",
       "      <td>0</td>\n",
       "      <td>0.015385</td>\n",
       "      <td>0.015206</td>\n",
       "      <td>2018-02-25 09:31:15</td>\n",
       "      <td>2017-06-27 14:18:08</td>\n",
       "      <td>0</td>\n",
       "      <td>-8</td>\n",
       "      <td>-3.911538</td>\n",
       "      <td>5.748901</td>\n",
       "      <td>11.542308</td>\n",
       "      <td>247</td>\n",
       "      <td>0.950000</td>\n",
       "      <td>90</td>\n",
       "      <td>0.346154</td>\n",
       "      <td>0</td>\n",
       "      <td>0.000000</td>\n",
       "      <td>260</td>\n",
       "      <td>0.072502</td>\n",
       "      <td>0.346719</td>\n",
       "      <td>242</td>\n",
       "      <td>0.930769</td>\n",
       "      <td>348</td>\n",
       "      <td>2.0</td>\n",
       "      <td>8.0</td>\n",
       "      <td>7.0</td>\n",
       "      <td>7.0</td>\n",
       "      <td>1.0</td>\n",
       "      <td>10.0</td>\n",
       "      <td>23.0</td>\n",
       "      <td>14.0</td>\n",
       "      <td>-13.244202</td>\n",
       "      <td>-0.296112</td>\n",
       "      <td>-0.724368</td>\n",
       "      <td>-0.575835</td>\n",
       "      <td>0.018445</td>\n",
       "      <td>0.0</td>\n",
       "      <td>0.0</td>\n",
       "      <td>0.0</td>\n",
       "      <td>0.000000</td>\n",
       "      <td>0.000000</td>\n",
       "      <td>2018-04-29 11:23:05</td>\n",
       "      <td>2018-03-05 14:04:36</td>\n",
       "      <td>2.0</td>\n",
       "      <td>1.0</td>\n",
       "      <td>1.478261</td>\n",
       "      <td>0.260870</td>\n",
       "      <td>11.521739</td>\n",
       "      <td>6.0</td>\n",
       "      <td>0.260870</td>\n",
       "      <td>0.0</td>\n",
       "      <td>0.000000</td>\n",
       "      <td>23.0</td>\n",
       "      <td>-0.550160</td>\n",
       "      <td>-0.592993</td>\n",
       "      <td>54.0</td>\n",
       "      <td>2.347826</td>\n",
       "      <td>285.0</td>\n",
       "    </tr>\n",
       "    <tr>\n",
       "      <th>1</th>\n",
       "      <td>2017-01</td>\n",
       "      <td>C_ID_3d0044924f</td>\n",
       "      <td>4</td>\n",
       "      <td>1</td>\n",
       "      <td>0</td>\n",
       "      <td>0.392913</td>\n",
       "      <td>12</td>\n",
       "      <td>24</td>\n",
       "      <td>50</td>\n",
       "      <td>7</td>\n",
       "      <td>2</td>\n",
       "      <td>24</td>\n",
       "      <td>142</td>\n",
       "      <td>57</td>\n",
       "      <td>-210.006336</td>\n",
       "      <td>4.630299</td>\n",
       "      <td>-0.742400</td>\n",
       "      <td>-0.600018</td>\n",
       "      <td>0.148200</td>\n",
       "      <td>543</td>\n",
       "      <td>10</td>\n",
       "      <td>-1</td>\n",
       "      <td>1.551429</td>\n",
       "      <td>2.282448</td>\n",
       "      <td>2018-01-31 22:31:09</td>\n",
       "      <td>2017-01-06 16:29:42</td>\n",
       "      <td>0</td>\n",
       "      <td>-12</td>\n",
       "      <td>-5.031429</td>\n",
       "      <td>14.477519</td>\n",
       "      <td>12.462857</td>\n",
       "      <td>339</td>\n",
       "      <td>0.968571</td>\n",
       "      <td>132</td>\n",
       "      <td>0.377143</td>\n",
       "      <td>31</td>\n",
       "      <td>0.088571</td>\n",
       "      <td>350</td>\n",
       "      <td>0.074568</td>\n",
       "      <td>-0.295163</td>\n",
       "      <td>390</td>\n",
       "      <td>1.114286</td>\n",
       "      <td>372</td>\n",
       "      <td>2.0</td>\n",
       "      <td>5.0</td>\n",
       "      <td>4.0</td>\n",
       "      <td>4.0</td>\n",
       "      <td>1.0</td>\n",
       "      <td>4.0</td>\n",
       "      <td>6.0</td>\n",
       "      <td>5.0</td>\n",
       "      <td>-4.355735</td>\n",
       "      <td>-0.701858</td>\n",
       "      <td>-0.739410</td>\n",
       "      <td>-0.725956</td>\n",
       "      <td>0.000205</td>\n",
       "      <td>6.0</td>\n",
       "      <td>1.0</td>\n",
       "      <td>1.0</td>\n",
       "      <td>1.000000</td>\n",
       "      <td>0.000000</td>\n",
       "      <td>2018-03-30 06:48:26</td>\n",
       "      <td>2018-02-01 17:07:54</td>\n",
       "      <td>2.0</td>\n",
       "      <td>1.0</td>\n",
       "      <td>1.500000</td>\n",
       "      <td>0.300000</td>\n",
       "      <td>12.500000</td>\n",
       "      <td>0.0</td>\n",
       "      <td>0.000000</td>\n",
       "      <td>0.0</td>\n",
       "      <td>0.000000</td>\n",
       "      <td>6.0</td>\n",
       "      <td>-0.550160</td>\n",
       "      <td>-0.606486</td>\n",
       "      <td>56.0</td>\n",
       "      <td>9.333333</td>\n",
       "      <td>315.0</td>\n",
       "    </tr>\n",
       "    <tr>\n",
       "      <th>2</th>\n",
       "      <td>2016-08</td>\n",
       "      <td>C_ID_d639edf6cd</td>\n",
       "      <td>2</td>\n",
       "      <td>2</td>\n",
       "      <td>0</td>\n",
       "      <td>0.688056</td>\n",
       "      <td>10</td>\n",
       "      <td>14</td>\n",
       "      <td>22</td>\n",
       "      <td>7</td>\n",
       "      <td>2</td>\n",
       "      <td>7</td>\n",
       "      <td>13</td>\n",
       "      <td>8</td>\n",
       "      <td>-29.167391</td>\n",
       "      <td>-0.145847</td>\n",
       "      <td>-0.730138</td>\n",
       "      <td>-0.678311</td>\n",
       "      <td>0.007635</td>\n",
       "      <td>0</td>\n",
       "      <td>0</td>\n",
       "      <td>0</td>\n",
       "      <td>0.000000</td>\n",
       "      <td>0.000000</td>\n",
       "      <td>2018-02-27 19:08:25</td>\n",
       "      <td>2017-01-11 08:21:22</td>\n",
       "      <td>0</td>\n",
       "      <td>-13</td>\n",
       "      <td>-8.604651</td>\n",
       "      <td>14.768549</td>\n",
       "      <td>11.325581</td>\n",
       "      <td>41</td>\n",
       "      <td>0.953488</td>\n",
       "      <td>11</td>\n",
       "      <td>0.255814</td>\n",
       "      <td>0</td>\n",
       "      <td>0.000000</td>\n",
       "      <td>43</td>\n",
       "      <td>-0.087803</td>\n",
       "      <td>0.358458</td>\n",
       "      <td>412</td>\n",
       "      <td>9.581395</td>\n",
       "      <td>345</td>\n",
       "      <td>1.0</td>\n",
       "      <td>1.0</td>\n",
       "      <td>1.0</td>\n",
       "      <td>1.0</td>\n",
       "      <td>1.0</td>\n",
       "      <td>1.0</td>\n",
       "      <td>1.0</td>\n",
       "      <td>1.0</td>\n",
       "      <td>-0.700326</td>\n",
       "      <td>-0.700326</td>\n",
       "      <td>-0.700326</td>\n",
       "      <td>-0.700326</td>\n",
       "      <td>NaN</td>\n",
       "      <td>0.0</td>\n",
       "      <td>0.0</td>\n",
       "      <td>0.0</td>\n",
       "      <td>0.000000</td>\n",
       "      <td>NaN</td>\n",
       "      <td>2018-04-28 17:43:11</td>\n",
       "      <td>2018-04-28 17:43:11</td>\n",
       "      <td>2.0</td>\n",
       "      <td>2.0</td>\n",
       "      <td>2.000000</td>\n",
       "      <td>NaN</td>\n",
       "      <td>11.000000</td>\n",
       "      <td>1.0</td>\n",
       "      <td>1.000000</td>\n",
       "      <td>0.0</td>\n",
       "      <td>0.000000</td>\n",
       "      <td>1.0</td>\n",
       "      <td>-0.549015</td>\n",
       "      <td>-0.592993</td>\n",
       "      <td>0.0</td>\n",
       "      <td>0.000000</td>\n",
       "      <td>285.0</td>\n",
       "    </tr>\n",
       "    <tr>\n",
       "      <th>3</th>\n",
       "      <td>2017-09</td>\n",
       "      <td>C_ID_186d6a6901</td>\n",
       "      <td>4</td>\n",
       "      <td>3</td>\n",
       "      <td>0</td>\n",
       "      <td>0.142495</td>\n",
       "      <td>6</td>\n",
       "      <td>16</td>\n",
       "      <td>20</td>\n",
       "      <td>7</td>\n",
       "      <td>2</td>\n",
       "      <td>13</td>\n",
       "      <td>50</td>\n",
       "      <td>25</td>\n",
       "      <td>-49.491364</td>\n",
       "      <td>1.445596</td>\n",
       "      <td>-0.740897</td>\n",
       "      <td>-0.642745</td>\n",
       "      <td>0.068447</td>\n",
       "      <td>84</td>\n",
       "      <td>3</td>\n",
       "      <td>-1</td>\n",
       "      <td>1.090909</td>\n",
       "      <td>0.346890</td>\n",
       "      <td>2018-02-28 11:44:40</td>\n",
       "      <td>2017-09-26 16:22:21</td>\n",
       "      <td>0</td>\n",
       "      <td>-5</td>\n",
       "      <td>-2.831169</td>\n",
       "      <td>3.247437</td>\n",
       "      <td>11.415584</td>\n",
       "      <td>77</td>\n",
       "      <td>1.000000</td>\n",
       "      <td>11</td>\n",
       "      <td>0.142857</td>\n",
       "      <td>12</td>\n",
       "      <td>0.155844</td>\n",
       "      <td>77</td>\n",
       "      <td>-0.086166</td>\n",
       "      <td>-0.338321</td>\n",
       "      <td>154</td>\n",
       "      <td>2.000000</td>\n",
       "      <td>345</td>\n",
       "      <td>2.0</td>\n",
       "      <td>5.0</td>\n",
       "      <td>5.0</td>\n",
       "      <td>4.0</td>\n",
       "      <td>1.0</td>\n",
       "      <td>5.0</td>\n",
       "      <td>7.0</td>\n",
       "      <td>6.0</td>\n",
       "      <td>-4.654372</td>\n",
       "      <td>-0.566740</td>\n",
       "      <td>-0.734135</td>\n",
       "      <td>-0.664910</td>\n",
       "      <td>0.004340</td>\n",
       "      <td>5.0</td>\n",
       "      <td>1.0</td>\n",
       "      <td>-1.0</td>\n",
       "      <td>0.714286</td>\n",
       "      <td>0.571429</td>\n",
       "      <td>2018-04-18 11:00:11</td>\n",
       "      <td>2018-03-07 11:55:06</td>\n",
       "      <td>2.0</td>\n",
       "      <td>1.0</td>\n",
       "      <td>1.714286</td>\n",
       "      <td>0.238095</td>\n",
       "      <td>11.571429</td>\n",
       "      <td>3.0</td>\n",
       "      <td>0.428571</td>\n",
       "      <td>1.0</td>\n",
       "      <td>0.142857</td>\n",
       "      <td>7.0</td>\n",
       "      <td>-0.556518</td>\n",
       "      <td>-0.604559</td>\n",
       "      <td>41.0</td>\n",
       "      <td>5.857143</td>\n",
       "      <td>296.0</td>\n",
       "    </tr>\n",
       "    <tr>\n",
       "      <th>4</th>\n",
       "      <td>2017-11</td>\n",
       "      <td>C_ID_cdbd2c0db2</td>\n",
       "      <td>1</td>\n",
       "      <td>3</td>\n",
       "      <td>0</td>\n",
       "      <td>-0.159749</td>\n",
       "      <td>4</td>\n",
       "      <td>22</td>\n",
       "      <td>17</td>\n",
       "      <td>7</td>\n",
       "      <td>2</td>\n",
       "      <td>17</td>\n",
       "      <td>66</td>\n",
       "      <td>26</td>\n",
       "      <td>-48.687656</td>\n",
       "      <td>7.193041</td>\n",
       "      <td>-0.746156</td>\n",
       "      <td>-0.366073</td>\n",
       "      <td>1.828160</td>\n",
       "      <td>182</td>\n",
       "      <td>12</td>\n",
       "      <td>1</td>\n",
       "      <td>1.368421</td>\n",
       "      <td>3.598086</td>\n",
       "      <td>2018-02-28 20:40:41</td>\n",
       "      <td>2017-11-12 00:00:00</td>\n",
       "      <td>0</td>\n",
       "      <td>-3</td>\n",
       "      <td>-1.285714</td>\n",
       "      <td>1.054113</td>\n",
       "      <td>11.451128</td>\n",
       "      <td>128</td>\n",
       "      <td>0.962406</td>\n",
       "      <td>42</td>\n",
       "      <td>0.315789</td>\n",
       "      <td>15</td>\n",
       "      <td>0.112782</td>\n",
       "      <td>133</td>\n",
       "      <td>-0.114647</td>\n",
       "      <td>-0.377684</td>\n",
       "      <td>108</td>\n",
       "      <td>0.812030</td>\n",
       "      <td>344</td>\n",
       "      <td>2.0</td>\n",
       "      <td>14.0</td>\n",
       "      <td>8.0</td>\n",
       "      <td>7.0</td>\n",
       "      <td>1.0</td>\n",
       "      <td>10.0</td>\n",
       "      <td>36.0</td>\n",
       "      <td>17.0</td>\n",
       "      <td>-19.926237</td>\n",
       "      <td>0.450886</td>\n",
       "      <td>-0.739395</td>\n",
       "      <td>-0.553507</td>\n",
       "      <td>0.050096</td>\n",
       "      <td>35.0</td>\n",
       "      <td>2.0</td>\n",
       "      <td>-1.0</td>\n",
       "      <td>0.972222</td>\n",
       "      <td>0.142063</td>\n",
       "      <td>2018-04-28 18:50:25</td>\n",
       "      <td>2018-03-02 11:55:43</td>\n",
       "      <td>2.0</td>\n",
       "      <td>1.0</td>\n",
       "      <td>1.555556</td>\n",
       "      <td>0.253968</td>\n",
       "      <td>11.555556</td>\n",
       "      <td>12.0</td>\n",
       "      <td>0.333333</td>\n",
       "      <td>2.0</td>\n",
       "      <td>0.055556</td>\n",
       "      <td>36.0</td>\n",
       "      <td>-0.555446</td>\n",
       "      <td>-0.588217</td>\n",
       "      <td>57.0</td>\n",
       "      <td>1.583333</td>\n",
       "      <td>285.0</td>\n",
       "    </tr>\n",
       "  </tbody>\n",
       "</table>\n",
       "</div>"
      ],
      "text/plain": [
       "  first_active_month          card_id  feature_1  feature_2  feature_3    target  hist_month_nunique  hist_hour_nunique  hist_weekofyear_nunique  hist_dayofweek_nunique  hist_year_nunique  hist_subsector_id_nunique  hist_merchant_id_nunique  hist_merchant_category_id_nunique  hist_purchase_amount_sum  hist_purchase_amount_max  hist_purchase_amount_min  hist_purchase_amount_mean  hist_purchase_amount_var  hist_installments_sum  hist_installments_max  hist_installments_min  hist_installments_mean  hist_installments_var hist_purchase_date_max hist_purchase_date_min  hist_month_lag_max  hist_month_lag_min  hist_month_lag_mean  hist_month_lag_var  hist_month_diff_mean  hist_authorized_flag_sum  hist_authorized_flag_mean  hist_weekend_sum  hist_weekend_mean  hist_category_1_sum  hist_category_1_mean  hist_card_id_size  hist_category_2_mean_mean  hist_category_3_mean_mean  hist_purchase_date_diff  hist_purchase_date_average  hist_purchase_date_uptonow  new_hist_month_nunique  \\\n",
       "0            2017-06  C_ID_92a2005557          5          2          1 -0.820283                   9                 23                       35                       7                  2                         21                        94                                 41               -165.968739                  2.258395                 -0.739395                  -0.638341                  0.045003                      4                      1                      0                0.015385               0.015206    2018-02-25 09:31:15    2017-06-27 14:18:08                   0                  -8            -3.911538            5.748901             11.542308                       247                   0.950000                90           0.346154                    0              0.000000                260                   0.072502                   0.346719                      242                    0.930769                         348                     2.0   \n",
       "1            2017-01  C_ID_3d0044924f          4          1          0  0.392913                  12                 24                       50                       7                  2                         24                       142                                 57               -210.006336                  4.630299                 -0.742400                  -0.600018                  0.148200                    543                     10                     -1                1.551429               2.282448    2018-01-31 22:31:09    2017-01-06 16:29:42                   0                 -12            -5.031429           14.477519             12.462857                       339                   0.968571               132           0.377143                   31              0.088571                350                   0.074568                  -0.295163                      390                    1.114286                         372                     2.0   \n",
       "2            2016-08  C_ID_d639edf6cd          2          2          0  0.688056                  10                 14                       22                       7                  2                          7                        13                                  8                -29.167391                 -0.145847                 -0.730138                  -0.678311                  0.007635                      0                      0                      0                0.000000               0.000000    2018-02-27 19:08:25    2017-01-11 08:21:22                   0                 -13            -8.604651           14.768549             11.325581                        41                   0.953488                11           0.255814                    0              0.000000                 43                  -0.087803                   0.358458                      412                    9.581395                         345                     1.0   \n",
       "3            2017-09  C_ID_186d6a6901          4          3          0  0.142495                   6                 16                       20                       7                  2                         13                        50                                 25                -49.491364                  1.445596                 -0.740897                  -0.642745                  0.068447                     84                      3                     -1                1.090909               0.346890    2018-02-28 11:44:40    2017-09-26 16:22:21                   0                  -5            -2.831169            3.247437             11.415584                        77                   1.000000                11           0.142857                   12              0.155844                 77                  -0.086166                  -0.338321                      154                    2.000000                         345                     2.0   \n",
       "4            2017-11  C_ID_cdbd2c0db2          1          3          0 -0.159749                   4                 22                       17                       7                  2                         17                        66                                 26                -48.687656                  7.193041                 -0.746156                  -0.366073                  1.828160                    182                     12                      1                1.368421               3.598086    2018-02-28 20:40:41    2017-11-12 00:00:00                   0                  -3            -1.285714            1.054113             11.451128                       128                   0.962406                42           0.315789                   15              0.112782                133                  -0.114647                  -0.377684                      108                    0.812030                         344                     2.0   \n",
       "\n",
       "   new_hist_hour_nunique  new_hist_weekofyear_nunique  new_hist_dayofweek_nunique  new_hist_year_nunique  new_hist_subsector_id_nunique  new_hist_merchant_id_nunique  new_hist_merchant_category_id_nunique  new_hist_purchase_amount_sum  new_hist_purchase_amount_max  new_hist_purchase_amount_min  new_hist_purchase_amount_mean  new_hist_purchase_amount_var  new_hist_installments_sum  new_hist_installments_max  new_hist_installments_min  new_hist_installments_mean  new_hist_installments_var new_hist_purchase_date_max new_hist_purchase_date_min  new_hist_month_lag_max  new_hist_month_lag_min  new_hist_month_lag_mean  new_hist_month_lag_var  new_hist_month_diff_mean  new_hist_weekend_sum  new_hist_weekend_mean  new_hist_category_1_sum  new_hist_category_1_mean  new_hist_card_id_size  new_hist_category_2_mean_mean  new_hist_category_3_mean_mean  new_hist_purchase_date_diff  new_hist_purchase_date_average  new_hist_purchase_date_uptonow  \n",
       "0                    8.0                          7.0                         7.0                    1.0                           10.0                          23.0                                   14.0                    -13.244202                     -0.296112                     -0.724368                      -0.575835                      0.018445                        0.0                        0.0                        0.0                    0.000000                   0.000000        2018-04-29 11:23:05        2018-03-05 14:04:36                     2.0                     1.0                 1.478261                0.260870                 11.521739                   6.0               0.260870                      0.0                  0.000000                   23.0                      -0.550160                      -0.592993                         54.0                        2.347826                           285.0  \n",
       "1                    5.0                          4.0                         4.0                    1.0                            4.0                           6.0                                    5.0                     -4.355735                     -0.701858                     -0.739410                      -0.725956                      0.000205                        6.0                        1.0                        1.0                    1.000000                   0.000000        2018-03-30 06:48:26        2018-02-01 17:07:54                     2.0                     1.0                 1.500000                0.300000                 12.500000                   0.0               0.000000                      0.0                  0.000000                    6.0                      -0.550160                      -0.606486                         56.0                        9.333333                           315.0  \n",
       "2                    1.0                          1.0                         1.0                    1.0                            1.0                           1.0                                    1.0                     -0.700326                     -0.700326                     -0.700326                      -0.700326                           NaN                        0.0                        0.0                        0.0                    0.000000                        NaN        2018-04-28 17:43:11        2018-04-28 17:43:11                     2.0                     2.0                 2.000000                     NaN                 11.000000                   1.0               1.000000                      0.0                  0.000000                    1.0                      -0.549015                      -0.592993                          0.0                        0.000000                           285.0  \n",
       "3                    5.0                          5.0                         4.0                    1.0                            5.0                           7.0                                    6.0                     -4.654372                     -0.566740                     -0.734135                      -0.664910                      0.004340                        5.0                        1.0                       -1.0                    0.714286                   0.571429        2018-04-18 11:00:11        2018-03-07 11:55:06                     2.0                     1.0                 1.714286                0.238095                 11.571429                   3.0               0.428571                      1.0                  0.142857                    7.0                      -0.556518                      -0.604559                         41.0                        5.857143                           296.0  \n",
       "4                   14.0                          8.0                         7.0                    1.0                           10.0                          36.0                                   17.0                    -19.926237                      0.450886                     -0.739395                      -0.553507                      0.050096                       35.0                        2.0                       -1.0                    0.972222                   0.142063        2018-04-28 18:50:25        2018-03-02 11:55:43                     2.0                     1.0                 1.555556                0.253968                 11.555556                  12.0               0.333333                      2.0                  0.055556                   36.0                      -0.555446                      -0.588217                         57.0                        1.583333                           285.0  "
      ]
     },
     "execution_count": 21,
     "metadata": {},
     "output_type": "execute_result"
    }
   ],
   "source": [
    "del df_hist_trans;gc.collect()\n",
    "del df_new_merchant_trans;gc.collect()\n",
    "df_train.head(5)"
   ]
  },
  {
   "cell_type": "code",
   "execution_count": 22,
   "metadata": {},
   "outputs": [
    {
     "data": {
      "text/plain": [
       "0    199710\n",
       "1      2207\n",
       "Name: outliers, dtype: int64"
      ]
     },
     "execution_count": 22,
     "metadata": {},
     "output_type": "execute_result"
    }
   ],
   "source": [
    "# Тот самый выброс из трейна\n",
    "df_train['outliers'] = 0\n",
    "df_train.loc[df_train['target'] < -30, 'outliers'] = 1\n",
    "df_train['outliers'].value_counts()"
   ]
  },
  {
   "cell_type": "code",
   "execution_count": 23,
   "metadata": {
    "collapsed": true
   },
   "outputs": [],
   "source": [
    "for df in [df_train,df_test]:\n",
    "    df['first_active_month'] = pd.to_datetime(df['first_active_month'])\n",
    "    df['dayofweek'] = df['first_active_month'].dt.dayofweek\n",
    "    df['weekofyear'] = df['first_active_month'].dt.weekofyear\n",
    "    df['month'] = df['first_active_month'].dt.month\n",
    "    df['elapsed_time'] = (datetime.datetime.today() - df['first_active_month']).dt.days\n",
    "    df['hist_first_buy'] = (df['hist_purchase_date_min'] - df['first_active_month']).dt.days\n",
    "    df['new_hist_first_buy'] = (df['new_hist_purchase_date_min'] - df['first_active_month']).dt.days\n",
    "    for f in ['hist_purchase_date_max','hist_purchase_date_min','new_hist_purchase_date_max',\\\n",
    "                     'new_hist_purchase_date_min']:\n",
    "        df[f] = df[f].astype(np.int64) * 1e-9\n",
    "    df['card_id_total'] = df['new_hist_card_id_size']+df['hist_card_id_size']\n",
    "    df['purchase_amount_total'] = df['new_hist_purchase_amount_sum']+df['hist_purchase_amount_sum']\n",
    "\n",
    "for f in ['feature_1','feature_2','feature_3']:\n",
    "    order_label = df_train.groupby([f])['outliers'].mean()\n",
    "    df_train[f] = df_train[f].map(order_label)\n",
    "    df_test[f] = df_test[f].map(order_label)"
   ]
  },
  {
   "cell_type": "code",
   "execution_count": 24,
   "metadata": {
    "collapsed": true
   },
   "outputs": [],
   "source": [
    "df_train_columns = [c for c in df_train.columns if c not in ['card_id', 'first_active_month','target','outliers']]\n",
    "target = df_train['target']\n",
    "del df_train['target']"
   ]
  },
  {
   "cell_type": "markdown",
   "metadata": {},
   "source": [
    "**Попробуйте обучить модель и оценить качество локально** (возьмите тот тип валидации, который считаете нужным). Если ваш тип валидации подразумевает случайность, зафиксируйте параметры случайности.\n",
    "\n",
    "Попробуйте и градиентный бустинг(lGBM), и гребневую регрессию(Ridge regression) из удобных вам библиотек."
   ]
  },
  {
   "cell_type": "code",
   "execution_count": 25,
   "metadata": {},
   "outputs": [
    {
     "name": "stdout",
     "output_type": "stream",
     "text": [
      "fold 0\n",
      "Training until validation scores don't improve for 100 rounds.\n",
      "[100]\ttraining's rmse: 3.66626\tvalid_1's rmse: 3.72132\n",
      "[200]\ttraining's rmse: 3.59047\tvalid_1's rmse: 3.68837\n",
      "[300]\ttraining's rmse: 3.54496\tvalid_1's rmse: 3.6746\n",
      "[400]\ttraining's rmse: 3.50975\tvalid_1's rmse: 3.66775\n",
      "[500]\ttraining's rmse: 3.48037\tvalid_1's rmse: 3.66293\n",
      "[600]\ttraining's rmse: 3.45547\tvalid_1's rmse: 3.66009\n",
      "[700]\ttraining's rmse: 3.43323\tvalid_1's rmse: 3.65756\n",
      "[800]\ttraining's rmse: 3.41286\tvalid_1's rmse: 3.65623\n",
      "[900]\ttraining's rmse: 3.39451\tvalid_1's rmse: 3.65524\n",
      "[1000]\ttraining's rmse: 3.37665\tvalid_1's rmse: 3.65427\n",
      "[1100]\ttraining's rmse: 3.36101\tvalid_1's rmse: 3.6538\n",
      "[1200]\ttraining's rmse: 3.34518\tvalid_1's rmse: 3.65313\n",
      "[1300]\ttraining's rmse: 3.32964\tvalid_1's rmse: 3.65295\n",
      "[1400]\ttraining's rmse: 3.31464\tvalid_1's rmse: 3.65267\n",
      "[1500]\ttraining's rmse: 3.29967\tvalid_1's rmse: 3.65288\n",
      "Early stopping, best iteration is:\n",
      "[1491]\ttraining's rmse: 3.30087\tvalid_1's rmse: 3.65262\n",
      "fold 1\n",
      "Training until validation scores don't improve for 100 rounds.\n",
      "[100]\ttraining's rmse: 3.66821\tvalid_1's rmse: 3.71425\n",
      "[200]\ttraining's rmse: 3.59149\tvalid_1's rmse: 3.68343\n",
      "[300]\ttraining's rmse: 3.54429\tvalid_1's rmse: 3.67285\n",
      "[400]\ttraining's rmse: 3.50673\tvalid_1's rmse: 3.665\n",
      "[500]\ttraining's rmse: 3.47761\tvalid_1's rmse: 3.66012\n",
      "[600]\ttraining's rmse: 3.45148\tvalid_1's rmse: 3.65718\n",
      "[700]\ttraining's rmse: 3.4285\tvalid_1's rmse: 3.65548\n",
      "[800]\ttraining's rmse: 3.40759\tvalid_1's rmse: 3.65422\n",
      "[900]\ttraining's rmse: 3.38868\tvalid_1's rmse: 3.65325\n",
      "[1000]\ttraining's rmse: 3.37075\tvalid_1's rmse: 3.65245\n",
      "[1100]\ttraining's rmse: 3.35435\tvalid_1's rmse: 3.65145\n",
      "[1200]\ttraining's rmse: 3.33775\tvalid_1's rmse: 3.65123\n",
      "[1300]\ttraining's rmse: 3.3226\tvalid_1's rmse: 3.65082\n",
      "[1400]\ttraining's rmse: 3.30668\tvalid_1's rmse: 3.65066\n",
      "[1500]\ttraining's rmse: 3.2912\tvalid_1's rmse: 3.65098\n",
      "Early stopping, best iteration is:\n",
      "[1409]\ttraining's rmse: 3.30525\tvalid_1's rmse: 3.65057\n",
      "fold 2\n",
      "Training until validation scores don't improve for 100 rounds.\n",
      "[100]\ttraining's rmse: 3.66613\tvalid_1's rmse: 3.72222\n",
      "[200]\ttraining's rmse: 3.58775\tvalid_1's rmse: 3.69028\n",
      "[300]\ttraining's rmse: 3.54075\tvalid_1's rmse: 3.67714\n",
      "[400]\ttraining's rmse: 3.50489\tvalid_1's rmse: 3.66876\n",
      "[500]\ttraining's rmse: 3.47598\tvalid_1's rmse: 3.66376\n",
      "[600]\ttraining's rmse: 3.45134\tvalid_1's rmse: 3.66055\n",
      "[700]\ttraining's rmse: 3.42875\tvalid_1's rmse: 3.65862\n",
      "[800]\ttraining's rmse: 3.40873\tvalid_1's rmse: 3.65742\n",
      "[900]\ttraining's rmse: 3.38981\tvalid_1's rmse: 3.65582\n",
      "[1000]\ttraining's rmse: 3.37144\tvalid_1's rmse: 3.65529\n",
      "[1100]\ttraining's rmse: 3.35446\tvalid_1's rmse: 3.65472\n",
      "[1200]\ttraining's rmse: 3.33901\tvalid_1's rmse: 3.65376\n",
      "[1300]\ttraining's rmse: 3.32386\tvalid_1's rmse: 3.65327\n",
      "[1400]\ttraining's rmse: 3.30899\tvalid_1's rmse: 3.65337\n",
      "Early stopping, best iteration is:\n",
      "[1338]\ttraining's rmse: 3.31766\tvalid_1's rmse: 3.65309\n",
      "fold 3\n",
      "Training until validation scores don't improve for 100 rounds.\n",
      "[100]\ttraining's rmse: 3.66518\tvalid_1's rmse: 3.72159\n",
      "[200]\ttraining's rmse: 3.58751\tvalid_1's rmse: 3.69221\n",
      "[300]\ttraining's rmse: 3.53908\tvalid_1's rmse: 3.67847\n",
      "[400]\ttraining's rmse: 3.50415\tvalid_1's rmse: 3.67051\n",
      "[500]\ttraining's rmse: 3.47393\tvalid_1's rmse: 3.66582\n",
      "[600]\ttraining's rmse: 3.44875\tvalid_1's rmse: 3.66213\n",
      "[700]\ttraining's rmse: 3.42671\tvalid_1's rmse: 3.65922\n",
      "[800]\ttraining's rmse: 3.40691\tvalid_1's rmse: 3.65787\n",
      "[900]\ttraining's rmse: 3.38781\tvalid_1's rmse: 3.65684\n",
      "[1000]\ttraining's rmse: 3.37042\tvalid_1's rmse: 3.6563\n",
      "[1100]\ttraining's rmse: 3.35293\tvalid_1's rmse: 3.65593\n",
      "[1200]\ttraining's rmse: 3.33777\tvalid_1's rmse: 3.65541\n",
      "[1300]\ttraining's rmse: 3.32276\tvalid_1's rmse: 3.65501\n",
      "Early stopping, best iteration is:\n",
      "[1293]\ttraining's rmse: 3.32393\tvalid_1's rmse: 3.65488\n",
      "fold 4\n",
      "Training until validation scores don't improve for 100 rounds.\n",
      "[100]\ttraining's rmse: 3.66719\tvalid_1's rmse: 3.70701\n",
      "[200]\ttraining's rmse: 3.58836\tvalid_1's rmse: 3.67763\n",
      "[300]\ttraining's rmse: 3.53914\tvalid_1's rmse: 3.66799\n",
      "[400]\ttraining's rmse: 3.50285\tvalid_1's rmse: 3.66187\n",
      "[500]\ttraining's rmse: 3.47328\tvalid_1's rmse: 3.65827\n",
      "[600]\ttraining's rmse: 3.44776\tvalid_1's rmse: 3.65631\n",
      "[700]\ttraining's rmse: 3.42451\tvalid_1's rmse: 3.65547\n",
      "[800]\ttraining's rmse: 3.40303\tvalid_1's rmse: 3.654\n",
      "[900]\ttraining's rmse: 3.38374\tvalid_1's rmse: 3.65336\n",
      "[1000]\ttraining's rmse: 3.3663\tvalid_1's rmse: 3.65289\n",
      "[1100]\ttraining's rmse: 3.34905\tvalid_1's rmse: 3.65264\n",
      "Early stopping, best iteration is:\n",
      "[1097]\ttraining's rmse: 3.34971\tvalid_1's rmse: 3.65255\n"
     ]
    },
    {
     "data": {
      "text/plain": [
       "3.6527423290913683"
      ]
     },
     "execution_count": 25,
     "metadata": {},
     "output_type": "execute_result"
    }
   ],
   "source": [
    "param = {'num_leaves': 31,\n",
    "         'min_data_in_leaf': 30, \n",
    "         'objective':'regression',\n",
    "         'max_depth': -1,\n",
    "         'learning_rate': 0.01,\n",
    "         \"min_child_samples\": 20,\n",
    "         \"boosting\": \"gbdt\",\n",
    "         \"feature_fraction\": 0.9,\n",
    "         \"bagging_freq\": 1,\n",
    "         \"bagging_fraction\": 0.9 ,\n",
    "         \"bagging_seed\": 11,\n",
    "         \"metric\": 'rmse',\n",
    "         \"lambda_l1\": 0.1,\n",
    "         \"verbosity\": -1,\n",
    "         \"nthread\": 4,\n",
    "         \"random_state\": 4590}\n",
    "folds = StratifiedKFold(n_splits=5, shuffle=True, random_state=4590)\n",
    "oof = np.zeros(len(df_train))\n",
    "predictions = np.zeros(len(df_test))\n",
    "feature_importance_df = pd.DataFrame()\n",
    "\n",
    "for fold_, (trn_idx, val_idx) in enumerate(folds.split(df_train,df_train['outliers'].values)):\n",
    "    print(\"fold {}\".format(fold_))\n",
    "    trn_data = lgb.Dataset(df_train.iloc[trn_idx][df_train_columns], label=target.iloc[trn_idx])#, categorical_feature=categorical_feats)\n",
    "    val_data = lgb.Dataset(df_train.iloc[val_idx][df_train_columns], label=target.iloc[val_idx])#, categorical_feature=categorical_feats)\n",
    "\n",
    "    num_round = 10000\n",
    "    clf = lgb.train(param, trn_data, num_round, valid_sets = [trn_data, val_data], verbose_eval=100, early_stopping_rounds = 100)\n",
    "    oof[val_idx] = clf.predict(df_train.iloc[val_idx][df_train_columns], num_iteration=clf.best_iteration)\n",
    "    \n",
    "    fold_importance_df = pd.DataFrame()\n",
    "    fold_importance_df[\"Feature\"] = df_train_columns\n",
    "    fold_importance_df[\"importance\"] = clf.feature_importance()\n",
    "    fold_importance_df[\"fold\"] = fold_ + 1\n",
    "    feature_importance_df = pd.concat([feature_importance_df, fold_importance_df], axis=0)\n",
    "    \n",
    "    predictions += clf.predict(df_test[df_train_columns], num_iteration=clf.best_iteration) / folds.n_splits\n",
    "\n",
    "np.sqrt(mean_squared_error(oof, target))"
   ]
  },
  {
   "cell_type": "code",
   "execution_count": 26,
   "metadata": {},
   "outputs": [
    {
     "data": {
      "image/png": "[encoded data removed]",
      "text/plain": [
       "<matplotlib.figure.Figure at 0x201332f98>"
      ]
     },
     "metadata": {},
     "output_type": "display_data"
    }
   ],
   "source": [
    "cols = (feature_importance_df[[\"Feature\", \"importance\"]]\n",
    "        .groupby(\"Feature\")\n",
    "        .mean()\n",
    "        .sort_values(by=\"importance\", ascending=False)[:1000].index)\n",
    "\n",
    "best_features = feature_importance_df.loc[feature_importance_df.Feature.isin(cols)]\n",
    "\n",
    "plt.figure(figsize=(14,25))\n",
    "sns.barplot(x=\"importance\",\n",
    "            y=\"Feature\",\n",
    "            data=best_features.sort_values(by=\"importance\",\n",
    "                                           ascending=False))\n",
    "plt.title('LightGBM Features (avg over folds)')\n",
    "plt.tight_layout()\n",
    "plt.savefig('lgbm_importances.png')"
   ]
  },
  {
   "cell_type": "markdown",
   "metadata": {},
   "source": [
    "Проверить, что модель выучивает \"что-то\" можно, сравнив её с самым простым и тупым решением — константным предсказанием. Для простоты можно не делать это честно через используемый способ валидации.\n",
    "\n",
    "**Ответьте:**\n",
    "1. Какая константа будет оптимальной для нашего функционала? (Если не помните, то найдите минимум функции потерь через дифференцирование функции).\n",
    "2. Как отличается качество у константного решения и двух обученных моделей?\n",
    "\n",
    "**Ответы:**\n",
    "1. C = (-0.5), RMSE = 3.8519592448737137\n",
    "1. Бэйзлайн решение = 3.6527423290913683. Не сильно лучше :-("
   ]
  },
  {
   "cell_type": "code",
   "execution_count": 47,
   "metadata": {},
   "outputs": [
    {
     "name": "stdout",
     "output_type": "stream",
     "text": [
      "-4.0 5.2756171137244365\n",
      "-3.5 4.947299488579618\n",
      "-3.0 4.649667571856953\n",
      "-2.5 4.388968538034434\n",
      "-2.0 4.172131484856884\n",
      "-1.5 4.006284741005324\n",
      "-1.0 3.8979422424004797\n",
      "-0.5 3.8519592448737137\n",
      "0.0 3.8705589161316296\n",
      "0.5 3.9528296981180513\n",
      "1.0 4.094935765235155\n",
      "1.5 4.290936403686264\n",
      "2.0 4.533847319833124\n",
      "2.5 4.816576358642723\n",
      "3.0 5.132547527077949\n",
      "3.5 5.476009534030412\n"
     ]
    }
   ],
   "source": [
    "for i in np.arange(-4.0, 4.0, 0.5):\n",
    "    constanta = numpy.array([i for x in range(len(df_train))])\n",
    "    get_rmse = np.sqrt(mean_squared_error(constanta, target))\n",
    "    print(i, get_rmse)"
   ]
  },
  {
   "cell_type": "markdown",
   "metadata": {},
   "source": [
    "Обучите лучшую из моделей на всей обучающей выборке, сделайте предсказание на тестовой. Сохраните ваши предсказания и отправьте их на платформу. Какое качество получилось на лидерборде? Как это соотносится с локальным качеством?\n",
    "\n",
    "**Ответы:**"
   ]
  },
  {
   "cell_type": "code",
   "execution_count": 48,
   "metadata": {
    "collapsed": true
   },
   "outputs": [],
   "source": [
    "sub_df = pd.DataFrame({\"card_id\":df_test[\"card_id\"].values})\n",
    "sub_df[\"target\"] = predictions\n",
    "sub_df.to_csv(\"submission.csv\", index=False)"
   ]
  },
  {
   "cell_type": "code",
   "execution_count": 49,
   "metadata": {},
   "outputs": [
    {
     "name": "stdout",
     "output_type": "stream",
     "text": [
      "\u001b[1m\u001b[36melo-merchant-category-recommendation\u001b[m\u001b[m lgbm_importances.png\r\n",
      "\u001b[31mhse-ds-competition-task.ipynb\u001b[m\u001b[m        submission.csv\r\n"
     ]
    }
   ],
   "source": [
    "!ls"
   ]
  },
  {
   "cell_type": "markdown",
   "metadata": {},
   "source": [
    "#### После сабмита на Кагле = 3.699 и локальная валидация = 3.652"
   ]
  },
  {
   "cell_type": "markdown",
   "metadata": {},
   "source": [
    "Попробуйте немного изменить параметры модели или добавить новых признаков. Оцените локальное качество и сравните его с лидербордом. Что у вас получилось?\n",
    "\n",
    "**Ответ:**"
   ]
  },
  {
   "cell_type": "code",
   "execution_count": null,
   "metadata": {
    "collapsed": true
   },
   "outputs": [],
   "source": [
    "# your code"
   ]
  },
  {
   "cell_type": "markdown",
   "metadata": {},
   "source": [
    "Возможно, вы замечали что-то интересное при изучении распределения целевой переменной. Как это могло отразиться на вашем решении? Что с этим можно сделать?\n",
    "\n",
    "**Ответы:**\n",
    "Да этот выброс отработал выше. Присвоил ему значение 1."
   ]
  },
  {
   "cell_type": "code",
   "execution_count": null,
   "metadata": {
    "collapsed": true
   },
   "outputs": [],
   "source": [
    "# your code"
   ]
  },
  {
   "cell_type": "markdown",
   "metadata": {},
   "source": [
    "Метрика этой задачи допускает проверку среднего значения на тестовой части выборки. Попробуйте вычислить среднее значение на публичной части тестовой выборки (через 2 сабмита). \n",
    "\n",
    "Для простоты можно проверить (через 3 сабмита), что, например, среднее значение на тесте больше или меньше среднего значения на обучающей выборке на некоторую небольшую величину (выбирается самостоятельно).\n",
    "\n",
    "Отличается ли значение от среднее значение на тестовой выборке от среднего значения на обучающей выборке?\n",
    "\n",
    "**Ответ:**"
   ]
  },
  {
   "cell_type": "code",
   "execution_count": null,
   "metadata": {
    "collapsed": true
   },
   "outputs": [],
   "source": [
    "# your code"
   ]
  },
  {
   "cell_type": "markdown",
   "metadata": {},
   "source": [
    "Если вы не кодировали категориальные признаки через mean-target кодирование ранее, то попробуйте сделать это сейчас. Для простоты не требуется воспроизводить схему с двойной кросс валидацией. Получилось ли улучшить качество?\n",
    "\n",
    "**Ответ:** Сделано и учтено в первом коммите. \n",
    "\n",
    "for f in ['feature1','feature2','feature_3']:\n",
    "orderlabel = dftrain.groupby([f])['outliers'].mean()\n",
    "dftrain[f] = dftrain[f].map(order_label)\n",
    "dftest[f] = dftest[f].map(order_label)"
   ]
  },
  {
   "cell_type": "code",
   "execution_count": null,
   "metadata": {
    "collapsed": true
   },
   "outputs": [],
   "source": []
  },
  {
   "cell_type": "markdown",
   "metadata": {},
   "source": [
    "## Часть 2. Работа с платформой "
   ]
  },
  {
   "cell_type": "markdown",
   "metadata": {},
   "source": [
    "Как только мы разобрались с задачей и попробовали что-то порешать (как это могло быть и в реальной задаче), попробуем воспользоваться преимуществом решения задач на платформе."
   ]
  },
  {
   "cell_type": "markdown",
   "metadata": {},
   "source": [
    "### Kernels"
   ]
  },
  {
   "cell_type": "markdown",
   "metadata": {},
   "source": [
    "Начнём с kernels (публичных решений).\n",
    "\n",
    "Перейдите на страницу с публичными решениями, отсортируйте их по количество голосов (most votes). Просмотрите один из первых kernel EDA (изучение данных).\n",
    "\n",
    "1. Какие интересные визуализации сделаны? (технически или идейно сложные)\n",
    "1. Какие зависимости в данных удалось найти автору?\n",
    "1. В каком из источников (таблиц) с информацией больше всего полезной информации?\n",
    "\n",
    "**Ответы:**\n",
    "\n",
    "1.  Есть монтср на Каггле – SRK из Индии. Я всегда смотрю его визуализации. https://www.kaggle.com/sudalairajkumar/simple-exploration-notebook-elo\n",
    "1.  показатель лояльности, похоже, увеличивается с «суммой исторической стоимости транзакции»\n",
    "1. istorical_transactions.csv Здесь есть: Количество исторических транзакций для карты, исторические транзакции для карт и распределение баллов лояльности на основе этого\n"
   ]
  },
  {
   "cell_type": "markdown",
   "metadata": {},
   "source": [
    "Теперь просмотрите несколько решений (не EDA).\n",
    "\n",
    "1. Какие методы (алгоритмы) и техники используют авторы?\n",
    "1. Каких результатов им удаётся достичь? (качество и примерное место на лидерборде)\n",
    "1. Что интересного в этих решениях можно увидеть? На чём они основаны? (работа с признаками / тюнинг моделей / техники ансамблирования или постпроцессинга)\n",
    "1. Что плохого в этих решениях вы увидели?\n",
    "\n",
    "**Ответы:**"
   ]
  },
  {
   "cell_type": "markdown",
   "metadata": {},
   "source": [
    "Теперь откройте лидерборд и отматывайте вниз до тех пор, пока в графе kernel не увидите название решениея. Это лучшее на данный момент публичное решение. Откройте его и просмотрите.\n",
    "\n",
    "На чём оно основано? Что интересного в нём есть?\n",
    "\n",
    "**Ответы:**"
   ]
  },
  {
   "cell_type": "markdown",
   "metadata": {},
   "source": [
    "Попробуйте сделать fork этого решения и изменить в нём что-либо (что по-вашему не так). Запустите решение прямо на kaggle.com. Какое качество у вас получилось?\n",
    "\n",
    "**Ответ:**\n",
    "\n",
    "__Сделайте ваш fork публичным и вставьте ссылку на него ниже:__\n",
    "\n",
    "__Не забудьте написать здесь свой никнейм и лучшее качество в лидерборде:__"
   ]
  },
  {
   "cell_type": "markdown",
   "metadata": {},
   "source": [
    "### Форум"
   ]
  },
  {
   "cell_type": "markdown",
   "metadata": {},
   "source": [
    "Откройте вкладку с форумом (discussions). Отсортируйте темы по количеству голосов (most votes). Просмотрите темы форума, просмотрите несколько интересных по названию тем подробнее. \n",
    "\n",
    "Что интересного вы нашли? Что обсуждают участники на форуме?\n",
    "\n",
    "**Ответы:**\n",
    "\n",
    "\n",
    "1. Обсуждают есть ли место временным рядам и генетическим алгоритмам https://www.kaggle.com/c/elo-merchant-category-recommendation/discussion/79712\n",
    "\n",
    "1. Фрустрируют что конкурс тяжелый и большинство бросает его, так как не могу проеодолеть порог в 3.60\n",
    "1. Деанонимизация данных из конкурса https://www.kaggle.com/raddar/towards-de-anonymizing-the-data-some-insights\n",
    "Суть примерно такая: процедура оптимизации, чтобы максимизировать количество целых чисел в преобразованном распределении\n",
    "Можно это использовать для того, чтобы улучшить модель"
   ]
  },
  {
   "cell_type": "code",
   "execution_count": null,
   "metadata": {
    "collapsed": true
   },
   "outputs": [],
   "source": []
  }
 ],
 "metadata": {
  "kernelspec": {
   "display_name": "Python 3",
   "language": "python",
   "name": "python3"
  },
  "language_info": {
   "codemirror_mode": {
    "name": "ipython",
    "version": 3
   },
   "file_extension": ".py",
   "mimetype": "text/x-python",
   "name": "python",
   "nbconvert_exporter": "python",
   "pygments_lexer": "ipython3",
   "version": "3.6.3"
  }
 },
 "nbformat": 4,
 "nbformat_minor": 2
}
