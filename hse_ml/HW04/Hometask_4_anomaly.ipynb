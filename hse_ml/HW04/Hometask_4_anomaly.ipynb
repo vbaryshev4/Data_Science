{
 "cells": [
  {
   "cell_type": "markdown",
   "metadata": {},
   "source": [
    "# Домашнее задание 4. Поиск аномалий\n",
    "**Дедлайн 23:59 07.12.2018**\n",
    "\n"
   ]
  },
  {
   "cell_type": "markdown",
   "metadata": {},
   "source": [
    "# Задача\n",
    "[Данные](http://odds.cs.stonybrook.edu/seismic-dataset/) представляют собой показания о сейсмических активностях вулканов. Задача имеет очень важное практическое значение. Ещё недавно эта задача требовала большой квалификации экспертов и была очень сложной. Однако сейчас, в эпоху машинного обучения, за вас учится компьютер. Однако вот незадача: за всю историю геонаблюдений наблюдалось всего несколько (170) землятрясений, в то время как нормальных геосостояний окрестностей наблюдалось очень много (~2500). Перед Вами стоит задача наиболее эффективного поиска аномалий"
   ]
  },
  {
   "cell_type": "markdown",
   "metadata": {},
   "source": [
    "# Условие\n",
    "В рамках данной задачи Вам предлагается попробовать следующее:\n",
    "1. Предложите метрику качества Вашей модели. Можно ли здесь использовать accuracy? Объясните свой выбор.\n",
    "2. Проверьте гипотезу компактности на этих данных. Какие методы машинного обучения тут могут хорошо работать?\n",
    "3. Обучите на данных любой классификатор. Хорошо ли он работает? Почему его качество может быть плохим в этой задаче?\n",
    "4. Обучите методы поиска аномалий из [занятия 6](../Seminars/Lesson_6.ipynb). Добейтесь наилучшего качества. Лучше ли оно, чем supervised-learning? Почему?\n",
    "5. Визуализируйте полученные наилучшей моделью предсказания. Хороша ли итоговая модель на этих данных?"
   ]
  },
  {
   "cell_type": "markdown",
   "metadata": {},
   "source": [
    "# Примечание\n",
    "1. Более подробное описание данных можно найти [тут](https://archive.ics.uci.edu/ml/datasets/seismic-bumps#)\n",
    "2. Если эти данные Вам не нравятся - можете взять любые другие данные с аномалиями (кроме тироида) [отсюда](http://odds.cs.stonybrook.edu)"
   ]
  },
  {
   "cell_type": "markdown",
   "metadata": {},
   "source": [
    "# Ссылки\n",
    "https://dyakonov.org/2017/04/19/поиск-аномалий-anomaly-detection/"
   ]
  },
  {
   "cell_type": "markdown",
   "metadata": {},
   "source": [
    "# Решение"
   ]
  },
  {
   "cell_type": "markdown",
   "metadata": {},
   "source": [
    "## 0. Загрузка и предобработка данных"
   ]
  },
  {
   "cell_type": "code",
   "execution_count": 65,
   "metadata": {},
   "outputs": [],
   "source": [
    "from scipy.io import arff\n",
    "data, meta = arff.loadarff('./data/seismic-bumps.arff')"
   ]
  },
  {
   "cell_type": "code",
   "execution_count": 66,
   "metadata": {},
   "outputs": [
    {
     "data": {
      "text/plain": [
       "array([(b'a', b'a', b'N', 15180.,  48., -72., -72., b'a', 0., 0., 0., 0., 0., 0., 0., 0.,    0.,    0., b'0'),\n",
       "       (b'a', b'a', b'N', 14720.,  33., -70., -79., b'a', 1., 0., 1., 0., 0., 0., 0., 0., 2000., 2000., b'0'),\n",
       "       (b'a', b'a', b'N',  8050.,  30., -81., -78., b'a', 0., 0., 0., 0., 0., 0., 0., 0.,    0.,    0., b'0'),\n",
       "       ...,\n",
       "       (b'b', b'a', b'W', 26960., 540., 101., 112., b'a', 0., 0., 0., 0., 0., 0., 0., 0.,    0.,    0., b'0'),\n",
       "       (b'a', b'a', b'W', 16130., 322.,   2.,   2., b'a', 0., 0., 0., 0., 0., 0., 0., 0.,    0.,    0., b'0'),\n",
       "       (b'a', b'a', b'W', 12750., 235., -10., -10., b'a', 0., 0., 0., 0., 0., 0., 0., 0.,    0.,    0., b'0')],\n",
       "      dtype=[('seismic', 'S1'), ('seismoacoustic', 'S1'), ('shift', 'S1'), ('genergy', '<f8'), ('gpuls', '<f8'), ('gdenergy', '<f8'), ('gdpuls', '<f8'), ('ghazard', 'S1'), ('nbumps', '<f8'), ('nbumps2', '<f8'), ('nbumps3', '<f8'), ('nbumps4', '<f8'), ('nbumps5', '<f8'), ('nbumps6', '<f8'), ('nbumps7', '<f8'), ('nbumps89', '<f8'), ('energy', '<f8'), ('maxenergy', '<f8'), ('class', 'S1')])"
      ]
     },
     "execution_count": 66,
     "metadata": {},
     "output_type": "execute_result"
    }
   ],
   "source": [
    "data"
   ]
  },
  {
   "cell_type": "code",
   "execution_count": 11,
   "metadata": {},
   "outputs": [
    {
     "data": {
      "text/plain": [
       "Dataset: seismic-bumps\n",
       "\tseismic's type is nominal, range is ('a', 'b', 'c', 'd')\n",
       "\tseismoacoustic's type is nominal, range is ('a', 'b', 'c', 'd')\n",
       "\tshift's type is nominal, range is ('W', 'N')\n",
       "\tgenergy's type is numeric\n",
       "\tgpuls's type is numeric\n",
       "\tgdenergy's type is numeric\n",
       "\tgdpuls's type is numeric\n",
       "\tghazard's type is nominal, range is ('a', 'b', 'c', 'd')\n",
       "\tnbumps's type is numeric\n",
       "\tnbumps2's type is numeric\n",
       "\tnbumps3's type is numeric\n",
       "\tnbumps4's type is numeric\n",
       "\tnbumps5's type is numeric\n",
       "\tnbumps6's type is numeric\n",
       "\tnbumps7's type is numeric\n",
       "\tnbumps89's type is numeric\n",
       "\tenergy's type is numeric\n",
       "\tmaxenergy's type is numeric\n",
       "\tclass's type is nominal, range is ('1', '0')"
      ]
     },
     "execution_count": 11,
     "metadata": {},
     "output_type": "execute_result"
    }
   ],
   "source": [
    "meta"
   ]
  },
  {
   "cell_type": "code",
   "execution_count": 67,
   "metadata": {},
   "outputs": [
    {
     "data": {
      "text/html": [
       "<div>\n",
       "<style scoped>\n",
       "    .dataframe tbody tr th:only-of-type {\n",
       "        vertical-align: middle;\n",
       "    }\n",
       "\n",
       "    .dataframe tbody tr th {\n",
       "        vertical-align: top;\n",
       "    }\n",
       "\n",
       "    .dataframe thead th {\n",
       "        text-align: right;\n",
       "    }\n",
       "</style>\n",
       "<table border=\"1\" class=\"dataframe\">\n",
       "  <thead>\n",
       "    <tr style=\"text-align: right;\">\n",
       "      <th></th>\n",
       "      <th>seismic</th>\n",
       "      <th>seismoacoustic</th>\n",
       "      <th>shift</th>\n",
       "      <th>genergy</th>\n",
       "      <th>gpuls</th>\n",
       "      <th>gdenergy</th>\n",
       "      <th>gdpuls</th>\n",
       "      <th>ghazard</th>\n",
       "      <th>nbumps</th>\n",
       "      <th>nbumps2</th>\n",
       "      <th>nbumps3</th>\n",
       "      <th>nbumps4</th>\n",
       "      <th>nbumps5</th>\n",
       "      <th>nbumps6</th>\n",
       "      <th>nbumps7</th>\n",
       "      <th>nbumps89</th>\n",
       "      <th>energy</th>\n",
       "      <th>maxenergy</th>\n",
       "      <th>class</th>\n",
       "    </tr>\n",
       "  </thead>\n",
       "  <tbody>\n",
       "    <tr>\n",
       "      <th>0</th>\n",
       "      <td>b'a'</td>\n",
       "      <td>b'a'</td>\n",
       "      <td>b'N'</td>\n",
       "      <td>15180.0</td>\n",
       "      <td>48.0</td>\n",
       "      <td>-72.0</td>\n",
       "      <td>-72.0</td>\n",
       "      <td>b'a'</td>\n",
       "      <td>0.0</td>\n",
       "      <td>0.0</td>\n",
       "      <td>0.0</td>\n",
       "      <td>0.0</td>\n",
       "      <td>0.0</td>\n",
       "      <td>0.0</td>\n",
       "      <td>0.0</td>\n",
       "      <td>0.0</td>\n",
       "      <td>0.0</td>\n",
       "      <td>0.0</td>\n",
       "      <td>b'0'</td>\n",
       "    </tr>\n",
       "    <tr>\n",
       "      <th>1</th>\n",
       "      <td>b'a'</td>\n",
       "      <td>b'a'</td>\n",
       "      <td>b'N'</td>\n",
       "      <td>14720.0</td>\n",
       "      <td>33.0</td>\n",
       "      <td>-70.0</td>\n",
       "      <td>-79.0</td>\n",
       "      <td>b'a'</td>\n",
       "      <td>1.0</td>\n",
       "      <td>0.0</td>\n",
       "      <td>1.0</td>\n",
       "      <td>0.0</td>\n",
       "      <td>0.0</td>\n",
       "      <td>0.0</td>\n",
       "      <td>0.0</td>\n",
       "      <td>0.0</td>\n",
       "      <td>2000.0</td>\n",
       "      <td>2000.0</td>\n",
       "      <td>b'0'</td>\n",
       "    </tr>\n",
       "    <tr>\n",
       "      <th>2</th>\n",
       "      <td>b'a'</td>\n",
       "      <td>b'a'</td>\n",
       "      <td>b'N'</td>\n",
       "      <td>8050.0</td>\n",
       "      <td>30.0</td>\n",
       "      <td>-81.0</td>\n",
       "      <td>-78.0</td>\n",
       "      <td>b'a'</td>\n",
       "      <td>0.0</td>\n",
       "      <td>0.0</td>\n",
       "      <td>0.0</td>\n",
       "      <td>0.0</td>\n",
       "      <td>0.0</td>\n",
       "      <td>0.0</td>\n",
       "      <td>0.0</td>\n",
       "      <td>0.0</td>\n",
       "      <td>0.0</td>\n",
       "      <td>0.0</td>\n",
       "      <td>b'0'</td>\n",
       "    </tr>\n",
       "    <tr>\n",
       "      <th>3</th>\n",
       "      <td>b'a'</td>\n",
       "      <td>b'a'</td>\n",
       "      <td>b'N'</td>\n",
       "      <td>28820.0</td>\n",
       "      <td>171.0</td>\n",
       "      <td>-23.0</td>\n",
       "      <td>40.0</td>\n",
       "      <td>b'a'</td>\n",
       "      <td>1.0</td>\n",
       "      <td>0.0</td>\n",
       "      <td>1.0</td>\n",
       "      <td>0.0</td>\n",
       "      <td>0.0</td>\n",
       "      <td>0.0</td>\n",
       "      <td>0.0</td>\n",
       "      <td>0.0</td>\n",
       "      <td>3000.0</td>\n",
       "      <td>3000.0</td>\n",
       "      <td>b'0'</td>\n",
       "    </tr>\n",
       "    <tr>\n",
       "      <th>4</th>\n",
       "      <td>b'a'</td>\n",
       "      <td>b'a'</td>\n",
       "      <td>b'N'</td>\n",
       "      <td>12640.0</td>\n",
       "      <td>57.0</td>\n",
       "      <td>-63.0</td>\n",
       "      <td>-52.0</td>\n",
       "      <td>b'a'</td>\n",
       "      <td>0.0</td>\n",
       "      <td>0.0</td>\n",
       "      <td>0.0</td>\n",
       "      <td>0.0</td>\n",
       "      <td>0.0</td>\n",
       "      <td>0.0</td>\n",
       "      <td>0.0</td>\n",
       "      <td>0.0</td>\n",
       "      <td>0.0</td>\n",
       "      <td>0.0</td>\n",
       "      <td>b'0'</td>\n",
       "    </tr>\n",
       "  </tbody>\n",
       "</table>\n",
       "</div>"
      ],
      "text/plain": [
       "  seismic seismoacoustic shift  genergy  gpuls  gdenergy  gdpuls ghazard  \\\n",
       "0    b'a'           b'a'  b'N'  15180.0   48.0     -72.0   -72.0    b'a'   \n",
       "1    b'a'           b'a'  b'N'  14720.0   33.0     -70.0   -79.0    b'a'   \n",
       "2    b'a'           b'a'  b'N'   8050.0   30.0     -81.0   -78.0    b'a'   \n",
       "3    b'a'           b'a'  b'N'  28820.0  171.0     -23.0    40.0    b'a'   \n",
       "4    b'a'           b'a'  b'N'  12640.0   57.0     -63.0   -52.0    b'a'   \n",
       "\n",
       "   nbumps  nbumps2  nbumps3  nbumps4  nbumps5  nbumps6  nbumps7  nbumps89  \\\n",
       "0     0.0      0.0      0.0      0.0      0.0      0.0      0.0       0.0   \n",
       "1     1.0      0.0      1.0      0.0      0.0      0.0      0.0       0.0   \n",
       "2     0.0      0.0      0.0      0.0      0.0      0.0      0.0       0.0   \n",
       "3     1.0      0.0      1.0      0.0      0.0      0.0      0.0       0.0   \n",
       "4     0.0      0.0      0.0      0.0      0.0      0.0      0.0       0.0   \n",
       "\n",
       "   energy  maxenergy class  \n",
       "0     0.0        0.0  b'0'  \n",
       "1  2000.0     2000.0  b'0'  \n",
       "2     0.0        0.0  b'0'  \n",
       "3  3000.0     3000.0  b'0'  \n",
       "4     0.0        0.0  b'0'  "
      ]
     },
     "execution_count": 67,
     "metadata": {},
     "output_type": "execute_result"
    }
   ],
   "source": [
    "import pandas as pd\n",
    "df = pd.DataFrame(data, columns=data.dtype.fields.keys())\n",
    "df.head()"
   ]
  },
  {
   "cell_type": "markdown",
   "metadata": {},
   "source": [
    "Данные сырые и явно требуют предобработки"
   ]
  },
  {
   "cell_type": "code",
   "execution_count": 68,
   "metadata": {
    "collapsed": true
   },
   "outputs": [],
   "source": [
    "df['class'] = df['class'].astype(int) # приведём целевую переменную к числовым значениям (1 - аномалия)"
   ]
  },
  {
   "cell_type": "markdown",
   "metadata": {},
   "source": [
    "Руководствуясь метаинформацией о признаках (переменная meta выше) и таблицей выше, определите и преобразуйте категориальные признаки"
   ]
  },
  {
   "cell_type": "code",
   "execution_count": 25,
   "metadata": {},
   "outputs": [
    {
     "data": {
      "text/plain": [
       "dtype('O')"
      ]
     },
     "execution_count": 25,
     "metadata": {},
     "output_type": "execute_result"
    }
   ],
   "source": [
    "df['seismic'].unique().dtype"
   ]
  },
  {
   "cell_type": "code",
   "execution_count": 29,
   "metadata": {},
   "outputs": [
    {
     "data": {
      "text/plain": [
       "dtype('float64')"
      ]
     },
     "execution_count": 29,
     "metadata": {},
     "output_type": "execute_result"
    }
   ],
   "source": [
    "df['gpuls'].unique().dtype"
   ]
  },
  {
   "cell_type": "code",
   "execution_count": 69,
   "metadata": {},
   "outputs": [],
   "source": [
    "categorical_features = [column for column in df.columns if df[column].unique().dtype == 'O']"
   ]
  },
  {
   "cell_type": "code",
   "execution_count": 70,
   "metadata": {},
   "outputs": [
    {
     "data": {
      "text/plain": [
       "['seismic', 'seismoacoustic', 'shift', 'ghazard']"
      ]
     },
     "execution_count": 70,
     "metadata": {},
     "output_type": "execute_result"
    }
   ],
   "source": [
    "categorical_features"
   ]
  },
  {
   "cell_type": "code",
   "execution_count": 71,
   "metadata": {},
   "outputs": [
    {
     "name": "stdout",
     "output_type": "stream",
     "text": [
      "[b'a' b'b']\n",
      "[b'a' b'b' b'c']\n",
      "[b'N' b'W']\n",
      "[b'a' b'b' b'c']\n"
     ]
    }
   ],
   "source": [
    "# Проверяю, что именно LabelEncoder нужен\n",
    "for c in df[categorical_features]:\n",
    "    print(df[c].unique())"
   ]
  },
  {
   "cell_type": "code",
   "execution_count": 72,
   "metadata": {
    "collapsed": true
   },
   "outputs": [],
   "source": [
    "# Разброс значений небольшой, поэтому, полагаю, можно оставить ЛЭ."
   ]
  },
  {
   "cell_type": "code",
   "execution_count": 73,
   "metadata": {
    "collapsed": true
   },
   "outputs": [],
   "source": [
    "from sklearn.preprocessing import LabelEncoder\n",
    "\n",
    "transformers = {}\n",
    "for feature_name in categorical_features:\n",
    "    transformers[feature_name] = LabelEncoder()\n",
    "    df[feature_name] = transformers[feature_name].fit_transform(df[feature_name])\n",
    "\n",
    "df_oh = pd.get_dummies(df, columns=categorical_features, drop_first=True)"
   ]
  },
  {
   "cell_type": "code",
   "execution_count": 74,
   "metadata": {},
   "outputs": [
    {
     "data": {
      "text/html": [
       "<div>\n",
       "<style scoped>\n",
       "    .dataframe tbody tr th:only-of-type {\n",
       "        vertical-align: middle;\n",
       "    }\n",
       "\n",
       "    .dataframe tbody tr th {\n",
       "        vertical-align: top;\n",
       "    }\n",
       "\n",
       "    .dataframe thead th {\n",
       "        text-align: right;\n",
       "    }\n",
       "</style>\n",
       "<table border=\"1\" class=\"dataframe\">\n",
       "  <thead>\n",
       "    <tr style=\"text-align: right;\">\n",
       "      <th></th>\n",
       "      <th>genergy</th>\n",
       "      <th>gpuls</th>\n",
       "      <th>gdenergy</th>\n",
       "      <th>gdpuls</th>\n",
       "      <th>nbumps</th>\n",
       "      <th>nbumps2</th>\n",
       "      <th>nbumps3</th>\n",
       "      <th>nbumps4</th>\n",
       "      <th>nbumps5</th>\n",
       "      <th>nbumps6</th>\n",
       "      <th>...</th>\n",
       "      <th>nbumps89</th>\n",
       "      <th>energy</th>\n",
       "      <th>maxenergy</th>\n",
       "      <th>class</th>\n",
       "      <th>seismic_1</th>\n",
       "      <th>seismoacoustic_1</th>\n",
       "      <th>seismoacoustic_2</th>\n",
       "      <th>shift_1</th>\n",
       "      <th>ghazard_1</th>\n",
       "      <th>ghazard_2</th>\n",
       "    </tr>\n",
       "  </thead>\n",
       "  <tbody>\n",
       "    <tr>\n",
       "      <th>0</th>\n",
       "      <td>15180.0</td>\n",
       "      <td>48.0</td>\n",
       "      <td>-72.0</td>\n",
       "      <td>-72.0</td>\n",
       "      <td>0.0</td>\n",
       "      <td>0.0</td>\n",
       "      <td>0.0</td>\n",
       "      <td>0.0</td>\n",
       "      <td>0.0</td>\n",
       "      <td>0.0</td>\n",
       "      <td>...</td>\n",
       "      <td>0.0</td>\n",
       "      <td>0.0</td>\n",
       "      <td>0.0</td>\n",
       "      <td>0</td>\n",
       "      <td>0</td>\n",
       "      <td>0</td>\n",
       "      <td>0</td>\n",
       "      <td>0</td>\n",
       "      <td>0</td>\n",
       "      <td>0</td>\n",
       "    </tr>\n",
       "    <tr>\n",
       "      <th>1</th>\n",
       "      <td>14720.0</td>\n",
       "      <td>33.0</td>\n",
       "      <td>-70.0</td>\n",
       "      <td>-79.0</td>\n",
       "      <td>1.0</td>\n",
       "      <td>0.0</td>\n",
       "      <td>1.0</td>\n",
       "      <td>0.0</td>\n",
       "      <td>0.0</td>\n",
       "      <td>0.0</td>\n",
       "      <td>...</td>\n",
       "      <td>0.0</td>\n",
       "      <td>2000.0</td>\n",
       "      <td>2000.0</td>\n",
       "      <td>0</td>\n",
       "      <td>0</td>\n",
       "      <td>0</td>\n",
       "      <td>0</td>\n",
       "      <td>0</td>\n",
       "      <td>0</td>\n",
       "      <td>0</td>\n",
       "    </tr>\n",
       "    <tr>\n",
       "      <th>2</th>\n",
       "      <td>8050.0</td>\n",
       "      <td>30.0</td>\n",
       "      <td>-81.0</td>\n",
       "      <td>-78.0</td>\n",
       "      <td>0.0</td>\n",
       "      <td>0.0</td>\n",
       "      <td>0.0</td>\n",
       "      <td>0.0</td>\n",
       "      <td>0.0</td>\n",
       "      <td>0.0</td>\n",
       "      <td>...</td>\n",
       "      <td>0.0</td>\n",
       "      <td>0.0</td>\n",
       "      <td>0.0</td>\n",
       "      <td>0</td>\n",
       "      <td>0</td>\n",
       "      <td>0</td>\n",
       "      <td>0</td>\n",
       "      <td>0</td>\n",
       "      <td>0</td>\n",
       "      <td>0</td>\n",
       "    </tr>\n",
       "    <tr>\n",
       "      <th>3</th>\n",
       "      <td>28820.0</td>\n",
       "      <td>171.0</td>\n",
       "      <td>-23.0</td>\n",
       "      <td>40.0</td>\n",
       "      <td>1.0</td>\n",
       "      <td>0.0</td>\n",
       "      <td>1.0</td>\n",
       "      <td>0.0</td>\n",
       "      <td>0.0</td>\n",
       "      <td>0.0</td>\n",
       "      <td>...</td>\n",
       "      <td>0.0</td>\n",
       "      <td>3000.0</td>\n",
       "      <td>3000.0</td>\n",
       "      <td>0</td>\n",
       "      <td>0</td>\n",
       "      <td>0</td>\n",
       "      <td>0</td>\n",
       "      <td>0</td>\n",
       "      <td>0</td>\n",
       "      <td>0</td>\n",
       "    </tr>\n",
       "    <tr>\n",
       "      <th>4</th>\n",
       "      <td>12640.0</td>\n",
       "      <td>57.0</td>\n",
       "      <td>-63.0</td>\n",
       "      <td>-52.0</td>\n",
       "      <td>0.0</td>\n",
       "      <td>0.0</td>\n",
       "      <td>0.0</td>\n",
       "      <td>0.0</td>\n",
       "      <td>0.0</td>\n",
       "      <td>0.0</td>\n",
       "      <td>...</td>\n",
       "      <td>0.0</td>\n",
       "      <td>0.0</td>\n",
       "      <td>0.0</td>\n",
       "      <td>0</td>\n",
       "      <td>0</td>\n",
       "      <td>0</td>\n",
       "      <td>0</td>\n",
       "      <td>0</td>\n",
       "      <td>0</td>\n",
       "      <td>0</td>\n",
       "    </tr>\n",
       "  </tbody>\n",
       "</table>\n",
       "<p>5 rows × 21 columns</p>\n",
       "</div>"
      ],
      "text/plain": [
       "   genergy  gpuls  gdenergy  gdpuls  nbumps  nbumps2  nbumps3  nbumps4  \\\n",
       "0  15180.0   48.0     -72.0   -72.0     0.0      0.0      0.0      0.0   \n",
       "1  14720.0   33.0     -70.0   -79.0     1.0      0.0      1.0      0.0   \n",
       "2   8050.0   30.0     -81.0   -78.0     0.0      0.0      0.0      0.0   \n",
       "3  28820.0  171.0     -23.0    40.0     1.0      0.0      1.0      0.0   \n",
       "4  12640.0   57.0     -63.0   -52.0     0.0      0.0      0.0      0.0   \n",
       "\n",
       "   nbumps5  nbumps6    ...      nbumps89  energy  maxenergy  class  seismic_1  \\\n",
       "0      0.0      0.0    ...           0.0     0.0        0.0      0          0   \n",
       "1      0.0      0.0    ...           0.0  2000.0     2000.0      0          0   \n",
       "2      0.0      0.0    ...           0.0     0.0        0.0      0          0   \n",
       "3      0.0      0.0    ...           0.0  3000.0     3000.0      0          0   \n",
       "4      0.0      0.0    ...           0.0     0.0        0.0      0          0   \n",
       "\n",
       "   seismoacoustic_1  seismoacoustic_2  shift_1  ghazard_1  ghazard_2  \n",
       "0                 0                 0        0          0          0  \n",
       "1                 0                 0        0          0          0  \n",
       "2                 0                 0        0          0          0  \n",
       "3                 0                 0        0          0          0  \n",
       "4                 0                 0        0          0          0  \n",
       "\n",
       "[5 rows x 21 columns]"
      ]
     },
     "execution_count": 74,
     "metadata": {},
     "output_type": "execute_result"
    }
   ],
   "source": [
    "df_oh.head()"
   ]
  },
  {
   "cell_type": "code",
   "execution_count": 75,
   "metadata": {
    "collapsed": true
   },
   "outputs": [],
   "source": [
    "# X, y = df.drop('class', 1), df['class']\n",
    "X, y = df_oh.drop('class', 1), df_oh['class']"
   ]
  },
  {
   "cell_type": "markdown",
   "metadata": {},
   "source": [
    "## 1.* Модельки"
   ]
  },
  {
   "cell_type": "code",
   "execution_count": 76,
   "metadata": {},
   "outputs": [
    {
     "name": "stderr",
     "output_type": "stream",
     "text": [
      "/anaconda3/lib/python3.6/site-packages/scipy/stats/stats.py:1713: FutureWarning: Using a non-tuple sequence for multidimensional indexing is deprecated; use `arr[tuple(seq)]` instead of `arr[seq]`. In the future this will be interpreted as an array index, `arr[np.array(seq)]`, which will result either in an error or a different result.\n",
      "  return np.add.reduce(sorted[indexer] * weights, axis=axis) / sumval\n"
     ]
    },
    {
     "data": {
      "text/plain": [
       "(0.08247422680412371, 0.0625)"
      ]
     },
     "execution_count": 76,
     "metadata": {},
     "output_type": "execute_result"
    }
   ],
   "source": [
    "from sklearn.ensemble import IsolationForest\n",
    "from sklearn.cross_validation import train_test_split\n",
    "X_train, X_test, y_train, y_test = train_test_split(X, y, train_size=0.8)\n",
    "model = IsolationForest(contamination=y_train.mean())\n",
    "model.fit(X_train)\n",
    "preds = model.predict(X_test)\n",
    "y_test[preds == 1].mean(), y_test[preds == -1].mean()"
   ]
  },
  {
   "cell_type": "code",
   "execution_count": 77,
   "metadata": {},
   "outputs": [
    {
     "name": "stderr",
     "output_type": "stream",
     "text": [
      "/anaconda3/lib/python3.6/site-packages/scipy/stats/stats.py:1713: FutureWarning: Using a non-tuple sequence for multidimensional indexing is deprecated; use `arr[tuple(seq)]` instead of `arr[seq]`. In the future this will be interpreted as an array index, `arr[np.array(seq)]`, which will result either in an error or a different result.\n",
      "  return np.add.reduce(sorted[indexer] * weights, axis=axis) / sumval\n"
     ]
    },
    {
     "data": {
      "text/plain": [
       "(0.06881720430107527, 0.19230769230769232)"
      ]
     },
     "execution_count": 77,
     "metadata": {},
     "output_type": "execute_result"
    }
   ],
   "source": [
    "from sklearn.neighbors import LocalOutlierFactor\n",
    "model = LocalOutlierFactor(n_neighbors=100)\n",
    "preds = model.fit_predict(X_test)\n",
    "y_test[preds == 1].mean(), y_test[preds == -1].mean()"
   ]
  },
  {
   "cell_type": "code",
   "execution_count": 78,
   "metadata": {},
   "outputs": [
    {
     "data": {
      "text/plain": [
       "(0.0784313725490196, 0.2857142857142857)"
      ]
     },
     "execution_count": 78,
     "metadata": {},
     "output_type": "execute_result"
    }
   ],
   "source": [
    "from sklearn.neighbors import KNeighborsClassifier\n",
    "clf = KNeighborsClassifier(n_neighbors=3)\n",
    "clf.fit(X_train, y_train)\n",
    "preds = clf.predict(X_test)\n",
    "y_test[preds == 0].mean(), y_test[preds == 1].mean()"
   ]
  },
  {
   "cell_type": "markdown",
   "metadata": {
    "collapsed": true
   },
   "source": [
    "# Предложите метрику качества Вашей модели. Можно ли здесь использовать accuracy? Объясните свой выбор."
   ]
  },
  {
   "cell_type": "markdown",
   "metadata": {},
   "source": [
    "Наша задача – определить факт землятресения. Хотя задача и называется поиском аномалии, но все-равно для меня это задача бинарной классификации. Соответсвенно сюда пойдут: \n",
    "1) accuracy is the proportion of true results (both true positives and true negatives) among the total number of cases examined.\n",
    "(TP+TN)/(TP+TN+FP+FN)\n",
    "\n",
    "2) precision is defined as the number of true positives over the number of true positives plus the number of false positives.\n",
    "TP/TP+FP\n",
    "Ошибка первого рода\n",
    "\n",
    "3) recall is defined as the number of true positives over the number of true positives plus the number of false negatives.\n",
    "TP/TP+FN\n",
    "Ошибка второго рода\n",
    "\n",
    "Нам важно учитывать аккуратность модели, но и отлавливать как мы ошибаемся во время положительных позитивов."
   ]
  },
  {
   "cell_type": "markdown",
   "metadata": {},
   "source": [
    "# Проверьте гипотезу компактности на этих данных. Какие методы машинного обучения тут могут хорошо работать?"
   ]
  },
  {
   "cell_type": "code",
   "execution_count": 116,
   "metadata": {},
   "outputs": [
    {
     "data": {
      "text/plain": [
       "((2584, 20), (2584,))"
      ]
     },
     "execution_count": 116,
     "metadata": {},
     "output_type": "execute_result"
    }
   ],
   "source": [
    "X.shape, y.shape"
   ]
  },
  {
   "cell_type": "code",
   "execution_count": 117,
   "metadata": {
    "collapsed": true
   },
   "outputs": [],
   "source": [
    "from sklearn.manifold import TSNE\n",
    "X_emb = TSNE(n_components=2).fit_transform(X)"
   ]
  },
  {
   "cell_type": "code",
   "execution_count": 118,
   "metadata": {},
   "outputs": [
    {
     "data": {
      "text/plain": [
       "(2584, 2)"
      ]
     },
     "execution_count": 118,
     "metadata": {},
     "output_type": "execute_result"
    }
   ],
   "source": [
    "X_emb.shape"
   ]
  },
  {
   "cell_type": "code",
   "execution_count": 126,
   "metadata": {},
   "outputs": [
    {
     "data": {
      "text/plain": [
       "(2584,)"
      ]
     },
     "execution_count": 126,
     "metadata": {},
     "output_type": "execute_result"
    }
   ],
   "source": [
    "y.shape"
   ]
  },
  {
   "cell_type": "code",
   "execution_count": 119,
   "metadata": {},
   "outputs": [
    {
     "data": {
      "text/plain": [
       "numpy.ndarray"
      ]
     },
     "execution_count": 119,
     "metadata": {},
     "output_type": "execute_result"
    }
   ],
   "source": [
    "type(X_emb)"
   ]
  },
  {
   "cell_type": "code",
   "execution_count": 120,
   "metadata": {},
   "outputs": [
    {
     "data": {
      "text/plain": [
       "numpy.ndarray"
      ]
     },
     "execution_count": 120,
     "metadata": {},
     "output_type": "execute_result"
    }
   ],
   "source": [
    "type(y.values)"
   ]
  },
  {
   "cell_type": "code",
   "execution_count": 121,
   "metadata": {
    "collapsed": true
   },
   "outputs": [],
   "source": [
    "y_with_col = pd.DataFrame(y)"
   ]
  },
  {
   "cell_type": "code",
   "execution_count": 122,
   "metadata": {},
   "outputs": [
    {
     "data": {
      "text/plain": [
       "((2584,), (2584, 1))"
      ]
     },
     "execution_count": 122,
     "metadata": {},
     "output_type": "execute_result"
    }
   ],
   "source": [
    "y.shape, y_with_col.shape"
   ]
  },
  {
   "cell_type": "code",
   "execution_count": 132,
   "metadata": {
    "collapsed": true
   },
   "outputs": [],
   "source": [
    "yy = y_with_col.values"
   ]
  },
  {
   "cell_type": "code",
   "execution_count": 124,
   "metadata": {},
   "outputs": [
    {
     "data": {
      "text/plain": [
       "((2584, 2), (2584, 1))"
      ]
     },
     "execution_count": 124,
     "metadata": {},
     "output_type": "execute_result"
    }
   ],
   "source": [
    "X_emb.shape, yy.shape"
   ]
  },
  {
   "cell_type": "code",
   "execution_count": 134,
   "metadata": {},
   "outputs": [
    {
     "data": {
      "text/plain": [
       "((2584, 2), (2584, 1), (2584, 1))"
      ]
     },
     "execution_count": 134,
     "metadata": {},
     "output_type": "execute_result"
    }
   ],
   "source": [
    "X_emb.shape, yy.shape, y_with_col.shape"
   ]
  },
  {
   "cell_type": "code",
   "execution_count": 133,
   "metadata": {},
   "outputs": [
    {
     "data": {
      "text/plain": [
       "(numpy.ndarray, numpy.ndarray, pandas.core.frame.DataFrame)"
      ]
     },
     "execution_count": 133,
     "metadata": {},
     "output_type": "execute_result"
    }
   ],
   "source": [
    "type(X_emb), type(yy), type(y_with_col)"
   ]
  },
  {
   "cell_type": "code",
   "execution_count": 137,
   "metadata": {},
   "outputs": [
    {
     "data": {
      "text/plain": [
       "array([0, 1])"
      ]
     },
     "execution_count": 137,
     "metadata": {},
     "output_type": "execute_result"
    }
   ],
   "source": [
    "np.unique(yy)"
   ]
  },
  {
   "cell_type": "code",
   "execution_count": 140,
   "metadata": {},
   "outputs": [
    {
     "data": {
      "text/plain": [
       "<matplotlib.legend.Legend at 0x113fdd780>"
      ]
     },
     "execution_count": 140,
     "metadata": {},
     "output_type": "execute_result"
    },
    {
     "data": {
      "image/png": "[encoded data removed]",
      "text/plain": [
       "<matplotlib.figure.Figure at 0x1198ab128>"
      ]
     },
     "metadata": {},
     "output_type": "display_data"
    }
   ],
   "source": [
    "import matplotlib.pyplot as plt\n",
    "import numpy as np\n",
    "%matplotlib inline\n",
    "plt.figure(figsize=(17,10))\n",
    "normals_idx = np.argwhere(yy == 0).squeeze() \n",
    "anomalies_idx = np.argwhere(yy == 1).squeeze() \n",
    "plt.scatter(X_emb[normals_idx, 0], X_emb[normals_idx, 1], label='No earthquake')\n",
    "plt.scatter(X_emb[anomalies_idx, 0], X_emb[anomalies_idx, 1], label='Anomalies (earthquake)')\n",
    "plt.legend()"
   ]
  },
  {
   "cell_type": "markdown",
   "metadata": {},
   "source": [
    "# Обучите на данных любой классификатор. Хорошо ли он работает? Почему его качество может быть плохим в этой задаче?"
   ]
  },
  {
   "cell_type": "markdown",
   "metadata": {},
   "source": [
    "Выбросов и отдельностоящих выраженных кластеров нет."
   ]
  },
  {
   "cell_type": "code",
   "execution_count": 142,
   "metadata": {},
   "outputs": [
    {
     "name": "stderr",
     "output_type": "stream",
     "text": [
      "/anaconda3/lib/python3.6/site-packages/scipy/stats/stats.py:1713: FutureWarning: Using a non-tuple sequence for multidimensional indexing is deprecated; use `arr[tuple(seq)]` instead of `arr[seq]`. In the future this will be interpreted as an array index, `arr[np.array(seq)]`, which will result either in an error or a different result.\n",
      "  return np.add.reduce(sorted[indexer] * weights, axis=axis) / sumval\n"
     ]
    },
    {
     "data": {
      "text/plain": [
       "0.8259187620889749"
      ]
     },
     "execution_count": 142,
     "metadata": {},
     "output_type": "execute_result"
    }
   ],
   "source": [
    "from sklearn.neighbors import LocalOutlierFactor\n",
    "from sklearn.metrics import accuracy_score\n",
    "\n",
    "clf = LocalOutlierFactor(n_neighbors=12)\n",
    "y_pred = clf.fit_predict(X_test) # возвращает предсказания {-1, 1}. -1 - аномалия\n",
    "y_pred = (1 - y_pred) / 2 # нормируем так, чтобы -1 перешла в 1, а +1 перешла в 0\n",
    "\n",
    "accuracy_score(y_pred, y_test)"
   ]
  },
  {
   "cell_type": "code",
   "execution_count": 162,
   "metadata": {},
   "outputs": [
    {
     "data": {
      "text/plain": [
       "0.4874274661508704"
      ]
     },
     "execution_count": 162,
     "metadata": {},
     "output_type": "execute_result"
    }
   ],
   "source": [
    "from sklearn.svm import OneClassSVM\n",
    "from sklearn.preprocessing import StandardScaler\n",
    "from sklearn.pipeline import Pipeline\n",
    "\n",
    "clf = Pipeline([('scaler', StandardScaler()), ('estimator', OneClassSVM(degree=1, ))])\n",
    "clf.fit(X_train.values[np.argwhere(y_train == 0)[:, 0]])\n",
    "y_pred = clf.predict(X_test)\n",
    "y_pred = (1 - y_pred) / 2\n",
    "\n",
    "accuracy_score(y_pred, y_test)"
   ]
  },
  {
   "cell_type": "markdown",
   "metadata": {},
   "source": [
    "Качетво запредельно низкой, так как нет отдельностоящих кластеров, которые можно было бы разделить разделяющей поверхностью."
   ]
  },
  {
   "cell_type": "markdown",
   "metadata": {},
   "source": [
    "# Обучите методы поиска аномалий из занятия 6. Добейтесь наилучшего качества. Лучше ли оно, чем supervised-learning? Почему?"
   ]
  },
  {
   "cell_type": "code",
   "execution_count": 164,
   "metadata": {},
   "outputs": [],
   "source": [
    "from sklearn.preprocessing import StandardScaler\n",
    "scaler = StandardScaler()\n",
    "scaler.fit(X_train.values[np.argwhere(y_train == 0)[:,0]]) # обучим scaler только на хороших данных\n",
    "X_transform = scaler.transform(X_test) # наши Z-value (это преобразование можно использовать для нормировки данных)"
   ]
  },
  {
   "cell_type": "code",
   "execution_count": 165,
   "metadata": {},
   "outputs": [
    {
     "data": {
      "text/plain": [
       "(517, 20)"
      ]
     },
     "execution_count": 165,
     "metadata": {},
     "output_type": "execute_result"
    }
   ],
   "source": [
    "X_transform.shape"
   ]
  },
  {
   "cell_type": "code",
   "execution_count": 166,
   "metadata": {},
   "outputs": [
    {
     "data": {
      "text/plain": [
       "(0.11290322580645161, 0.08123791102514506)"
      ]
     },
     "execution_count": 166,
     "metadata": {},
     "output_type": "execute_result"
    }
   ],
   "source": [
    "preds = (X_transform < -3).astype(np.uint8).sum(axis=1) + (X_transform > 3).astype(np.uint8).sum(axis=1) # массив булевых значений. True - если выброс, False\n",
    "y_test[preds > 0].mean(), y_test.mean()"
   ]
  },
  {
   "cell_type": "code",
   "execution_count": 167,
   "metadata": {},
   "outputs": [
    {
     "data": {
      "text/plain": [
       "9.523809523809524"
      ]
     },
     "execution_count": 167,
     "metadata": {},
     "output_type": "execute_result"
    }
   ],
   "source": [
    "y_test[preds > 1].sum() * 100. / y_test.sum()"
   ]
  },
  {
   "cell_type": "code",
   "execution_count": 168,
   "metadata": {},
   "outputs": [
    {
     "data": {
      "text/plain": [
       "0.08"
      ]
     },
     "execution_count": 168,
     "metadata": {},
     "output_type": "execute_result"
    }
   ],
   "source": [
    "y_test[preds > 1].mean()"
   ]
  },
  {
   "cell_type": "code",
   "execution_count": 194,
   "metadata": {},
   "outputs": [
    {
     "data": {
      "text/plain": [
       "0.9013539651837524"
      ]
     },
     "execution_count": 194,
     "metadata": {},
     "output_type": "execute_result"
    }
   ],
   "source": [
    "y_pred = (preds > 3).astype(np.uint8)\n",
    "\n",
    "from sklearn.metrics import accuracy_score\n",
    "accuracy_score(y_pred, y_test)"
   ]
  },
  {
   "cell_type": "markdown",
   "metadata": {},
   "source": [
    "Ответ: Работает лучше со значенями pred больше 3 \n",
    "Почему? Extreme value theory or extreme value analysis (EVA) is a branch of statistics dealing with the extreme deviations from the median of probability distributions. It seeks to assess, from a given ordered sample of a given random variable, the probability of events that are more extreme than any previously observed.\n",
    "\n",
    "Короче говоря, если обучится только об случаи, где не было землятрясений, то наложив все данные можно найти случаи, где присутсвует девиация распределений. Я так для себя понял."
   ]
  },
  {
   "cell_type": "markdown",
   "metadata": {},
   "source": [
    "# Визуализируйте полученные наилучшей моделью предсказания. Хороша ли итоговая модель на этих данных?"
   ]
  },
  {
   "cell_type": "code",
   "execution_count": 188,
   "metadata": {
    "collapsed": true
   },
   "outputs": [],
   "source": [
    "from sklearn.cross_validation import train_test_split\n",
    "X_emb_train, X_emb_test, X_train, X_test, y_train, y_test = train_test_split(X_emb, X, y, train_size=0.8)"
   ]
  },
  {
   "cell_type": "code",
   "execution_count": 195,
   "metadata": {},
   "outputs": [
    {
     "data": {
      "text/plain": [
       "<matplotlib.legend.Legend at 0x119cd6be0>"
      ]
     },
     "execution_count": 195,
     "metadata": {},
     "output_type": "execute_result"
    },
    {
     "data": {
      "image/png": "[encoded data removed]",
      "text/plain": [
       "<matplotlib.figure.Figure at 0x11a279dd8>"
      ]
     },
     "metadata": {},
     "output_type": "display_data"
    }
   ],
   "source": [
    "plt.figure(figsize=(17, 15))\n",
    "\n",
    "plt.subplot(121)\n",
    "plt.title('True labels')\n",
    "normals_idx = np.argwhere(y_test.values == 0).squeeze() # No earthquake\n",
    "anomalies_idx = np.argwhere(y_test.values == 1).squeeze() # Earthquake\n",
    "plt.scatter(X_emb_test[normals_idx, 0], X_emb_test[normals_idx, 1], label='No earthquake')\n",
    "plt.scatter(X_emb_test[anomalies_idx, 0], X_emb_test[anomalies_idx, 1], label='Earthquake')\n",
    "plt.legend()\n",
    "\n",
    "plt.subplot(122)\n",
    "plt.title('Predictions (Z-value)')\n",
    "normals_idx = np.argwhere(y_pred == 0).squeeze() # No earthquake\n",
    "anomalies_idx = np.argwhere(y_pred == 1).squeeze() # Earthquake\n",
    "plt.scatter(X_emb_test[normals_idx, 0], X_emb_test[normals_idx, 1], label='No earthquake')\n",
    "plt.scatter(X_emb_test[anomalies_idx, 0], X_emb_test[anomalies_idx, 1], label='Earthquake')\n",
    "plt.legend()"
   ]
  }
 ],
 "metadata": {
  "kernelspec": {
   "display_name": "Python 3",
   "language": "python",
   "name": "python3"
  },
  "language_info": {
   "codemirror_mode": {
    "name": "ipython",
    "version": 3
   },
   "file_extension": ".py",
   "mimetype": "text/x-python",
   "name": "python",
   "nbconvert_exporter": "python",
   "pygments_lexer": "ipython3",
   "version": "3.6.3"
  }
 },
 "nbformat": 4,
 "nbformat_minor": 2
}
