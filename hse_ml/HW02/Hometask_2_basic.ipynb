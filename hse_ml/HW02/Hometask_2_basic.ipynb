{
 "cells": [
  {
   "cell_type": "markdown",
   "metadata": {},
   "source": [
    "# Домашнее задание 2\n",
    "\n",
    "По данным https://www.openml.org/d/35 вам предстоит научиться предсказывать одно из 6 заболеваний"
   ]
  },
  {
   "cell_type": "markdown",
   "metadata": {},
   "source": [
    "# План\n",
    "1. Проанализируйте данные. Обработайте все пропуски, nan'ы и inf'ы\n",
    "2. Визуализируйте данные с помощью PCA и (или) t-SNE\n",
    "3. Обучите различные линейные модели (Logistic Regression, SVM). Подберите наилучшие параметры и добейтесь наилучшей доли правильных ответов на предсказаниях\n",
    "4. Визуализируйте предсказания модели, как на семинаре 2. Справляется ли этот класс классификаторов с данной задачей, или нужны другие методы (KNN?)"
   ]
  },
  {
   "cell_type": "code",
   "execution_count": null,
   "metadata": {},
   "outputs": [],
   "source": []
  }
 ],
 "metadata": {
  "kernelspec": {
   "display_name": "Python 3",
   "language": "python",
   "name": "python3"
  },
  "language_info": {
   "codemirror_mode": {
    "name": "ipython",
    "version": 3
   },
   "file_extension": ".py",
   "mimetype": "text/x-python",
   "name": "python",
   "nbconvert_exporter": "python",
   "pygments_lexer": "ipython3",
   "version": "3.6.6"
  }
 },
 "nbformat": 4,
 "nbformat_minor": 2
}
