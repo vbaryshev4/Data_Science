{
 "cells": [
  {
   "cell_type": "markdown",
   "metadata": {},
   "source": [
    "# Домашнее задание 2\n",
    "\n",
    "По данным https://www.openml.org/d/35 вам предстоит научиться предсказывать одно из 6 заболеваний"
   ]
  },
  {
   "cell_type": "markdown",
   "metadata": {},
   "source": [
    "# План\n",
    "1. Проанализируйте данные. Обработайте все пропуски, nan'ы и inf'ы\n",
    "2. Визуализируйте данные с помощью PCA и (или) t-SNE\n",
    "3. Обучите различные линейные модели (Logistic Regression, SVM). Подберите наилучшие параметры и добейтесь наилучшей доли правильных ответов на предсказаниях\n",
    "4. Визуализируйте предсказания модели, как на семинаре 2. Справляется ли этот класс классификаторов с данной задачей, или нужны другие методы (KNN?)"
   ]
  },
  {
   "cell_type": "code",
   "execution_count": 29,
   "metadata": {},
   "outputs": [],
   "source": [
    "import pandas as pd"
   ]
  },
  {
   "cell_type": "code",
   "execution_count": 44,
   "metadata": {},
   "outputs": [
    {
     "data": {
      "text/plain": [
       "(366, 35)"
      ]
     },
     "execution_count": 44,
     "metadata": {},
     "output_type": "execute_result"
    }
   ],
   "source": [
    "df = pd.read_csv('dataset_35_dermatology.csv')\n",
    "df.head()\n",
    "df.shape"
   ]
  },
  {
   "cell_type": "code",
   "execution_count": 31,
   "metadata": {},
   "outputs": [
    {
     "data": {
      "text/plain": [
       "{'Age': {'0',\n",
       "  '10',\n",
       "  '12',\n",
       "  '13',\n",
       "  '15',\n",
       "  '16',\n",
       "  '17',\n",
       "  '18',\n",
       "  '19',\n",
       "  '20',\n",
       "  '21',\n",
       "  '22',\n",
       "  '23',\n",
       "  '24',\n",
       "  '25',\n",
       "  '26',\n",
       "  '27',\n",
       "  '28',\n",
       "  '29',\n",
       "  '30',\n",
       "  '31',\n",
       "  '32',\n",
       "  '33',\n",
       "  '34',\n",
       "  '35',\n",
       "  '36',\n",
       "  '37',\n",
       "  '38',\n",
       "  '39',\n",
       "  '40',\n",
       "  '41',\n",
       "  '42',\n",
       "  '43',\n",
       "  '44',\n",
       "  '45',\n",
       "  '46',\n",
       "  '47',\n",
       "  '48',\n",
       "  '49',\n",
       "  '50',\n",
       "  '51',\n",
       "  '52',\n",
       "  '53',\n",
       "  '55',\n",
       "  '56',\n",
       "  '57',\n",
       "  '58',\n",
       "  '60',\n",
       "  '61',\n",
       "  '62',\n",
       "  '63',\n",
       "  '64',\n",
       "  '65',\n",
       "  '67',\n",
       "  '68',\n",
       "  '7',\n",
       "  '70',\n",
       "  '75',\n",
       "  '8',\n",
       "  '9',\n",
       "  '?'},\n",
       " 'PNL_infiltrate': {0, 1, 2, 3},\n",
       " 'acanthosis': {0, 1, 2, 3},\n",
       " 'band-like_infiltrate': {0, 1, 2, 3},\n",
       " 'class': {1, 2, 3, 4, 5, 6},\n",
       " 'clubbing_of_the_rete_ridges': {0, 1, 2, 3},\n",
       " 'definite_borders': {0, 1, 2, 3},\n",
       " 'disappearance_of_the_granular_layer': {0, 1, 2, 3},\n",
       " 'elongation_of_the_rete_ridges': {0, 1, 2, 3},\n",
       " 'eosinophils_in_the_infiltrate': {0, 1, 2},\n",
       " 'erythema': {0, 1, 2, 3},\n",
       " 'exocytosis': {0, 1, 2, 3},\n",
       " 'family_history': {0, 1},\n",
       " 'fibrosis_of_the_papillary_dermis': {0, 1, 2, 3},\n",
       " 'focal_hypergranulosis': {0, 1, 2, 3},\n",
       " 'follicular_horn_plug': {0, 1, 2, 3},\n",
       " 'follicular_papules': {0, 1, 2, 3},\n",
       " 'hyperkeratosis': {0, 1, 2, 3},\n",
       " 'inflammatory_monoluclear_inflitrate': {0, 1, 2, 3},\n",
       " 'itching': {0, 1, 2, 3},\n",
       " 'knee_and_elbow_involvement': {0, 1, 2, 3},\n",
       " 'koebner_phenomenon': {0, 1, 2, 3},\n",
       " 'melanin_incontinence': {0, 1, 2, 3},\n",
       " 'munro_microabcess': {0, 1, 2, 3},\n",
       " 'oral_mucosal_involvement': {0, 1, 2, 3},\n",
       " 'parakeratosis': {0, 1, 2, 3},\n",
       " 'perifollicular_parakeratosis': {0, 1, 2, 3},\n",
       " 'polygonal_papules': {0, 1, 2, 3},\n",
       " 'saw-tooth_appearance_of_retes': {0, 1, 2, 3},\n",
       " 'scaling': {0, 1, 2, 3},\n",
       " 'scalp_involvement': {0, 1, 2, 3},\n",
       " 'spongiform_pustule': {0, 1, 2, 3},\n",
       " 'spongiosis': {0, 1, 2, 3},\n",
       " 'thinning_of_the_suprapapillary_epidermis': {0, 1, 2, 3},\n",
       " 'vacuolisation_and_damage_of_basal_layer': {0, 1, 2, 3}}"
      ]
     },
     "execution_count": 31,
     "metadata": {},
     "output_type": "execute_result"
    }
   ],
   "source": [
    "# 1. Проанализируйте данные. Обработайте все пропуски, nan'ы и inf'ы\n",
    "{i: set(df[i]) for i in df}"
   ]
  },
  {
   "cell_type": "code",
   "execution_count": 32,
   "metadata": {},
   "outputs": [
    {
     "data": {
      "text/plain": [
       "40    17\n",
       "50    17\n",
       "27    16\n",
       "36    16\n",
       "22    15\n",
       "55    14\n",
       "35    14\n",
       "25    14\n",
       "30    13\n",
       "33    12\n",
       "52    11\n",
       "60    11\n",
       "42    10\n",
       "18     9\n",
       "20     8\n",
       "34     8\n",
       "?      8\n",
       "10     7\n",
       "62     7\n",
       "51     7\n",
       "45     7\n",
       "8      7\n",
       "19     6\n",
       "47     6\n",
       "32     6\n",
       "46     6\n",
       "48     5\n",
       "28     5\n",
       "56     5\n",
       "17     5\n",
       "      ..\n",
       "44     5\n",
       "70     4\n",
       "43     4\n",
       "41     4\n",
       "7      4\n",
       "23     3\n",
       "29     3\n",
       "26     3\n",
       "38     3\n",
       "12     3\n",
       "21     3\n",
       "39     2\n",
       "13     2\n",
       "57     2\n",
       "9      2\n",
       "61     2\n",
       "53     2\n",
       "31     2\n",
       "65     2\n",
       "37     2\n",
       "15     2\n",
       "24     2\n",
       "67     1\n",
       "64     1\n",
       "75     1\n",
       "58     1\n",
       "63     1\n",
       "0      1\n",
       "49     1\n",
       "68     1\n",
       "Name: Age, Length: 61, dtype: int64"
      ]
     },
     "execution_count": 32,
     "metadata": {},
     "output_type": "execute_result"
    }
   ],
   "source": [
    "df['Age'].value_counts()"
   ]
  },
  {
   "cell_type": "code",
   "execution_count": 33,
   "metadata": {
    "collapsed": true
   },
   "outputs": [],
   "source": [
    "# В приложенном csv пропусков и нанов не обнаружено. Есть только в поле AGE 8 значений \"?\".\n",
    "# Заменяю на медиану и приобразовываю в строку. Потом буду ванхотинкодить, так как это поле единственное object"
   ]
  },
  {
   "cell_type": "code",
   "execution_count": 34,
   "metadata": {},
   "outputs": [
    {
     "name": "stdout",
     "output_type": "stream",
     "text": [
      "<class 'pandas.core.frame.DataFrame'>\n",
      "RangeIndex: 366 entries, 0 to 365\n",
      "Data columns (total 35 columns):\n",
      "erythema                                    366 non-null int64\n",
      "scaling                                     366 non-null int64\n",
      "definite_borders                            366 non-null int64\n",
      "itching                                     366 non-null int64\n",
      "koebner_phenomenon                          366 non-null int64\n",
      "polygonal_papules                           366 non-null int64\n",
      "follicular_papules                          366 non-null int64\n",
      "oral_mucosal_involvement                    366 non-null int64\n",
      "knee_and_elbow_involvement                  366 non-null int64\n",
      "scalp_involvement                           366 non-null int64\n",
      "family_history                              366 non-null int64\n",
      "melanin_incontinence                        366 non-null int64\n",
      "eosinophils_in_the_infiltrate               366 non-null int64\n",
      "PNL_infiltrate                              366 non-null int64\n",
      "fibrosis_of_the_papillary_dermis            366 non-null int64\n",
      "exocytosis                                  366 non-null int64\n",
      "acanthosis                                  366 non-null int64\n",
      "hyperkeratosis                              366 non-null int64\n",
      "parakeratosis                               366 non-null int64\n",
      "clubbing_of_the_rete_ridges                 366 non-null int64\n",
      "elongation_of_the_rete_ridges               366 non-null int64\n",
      "thinning_of_the_suprapapillary_epidermis    366 non-null int64\n",
      "spongiform_pustule                          366 non-null int64\n",
      "munro_microabcess                           366 non-null int64\n",
      "focal_hypergranulosis                       366 non-null int64\n",
      "disappearance_of_the_granular_layer         366 non-null int64\n",
      "vacuolisation_and_damage_of_basal_layer     366 non-null int64\n",
      "spongiosis                                  366 non-null int64\n",
      "saw-tooth_appearance_of_retes               366 non-null int64\n",
      "follicular_horn_plug                        366 non-null int64\n",
      "perifollicular_parakeratosis                366 non-null int64\n",
      "inflammatory_monoluclear_inflitrate         366 non-null int64\n",
      "band-like_infiltrate                        366 non-null int64\n",
      "Age                                         366 non-null object\n",
      "class                                       366 non-null int64\n",
      "dtypes: int64(34), object(1)\n",
      "memory usage: 100.2+ KB\n"
     ]
    }
   ],
   "source": [
    "df.info()"
   ]
  },
  {
   "cell_type": "code",
   "execution_count": 57,
   "metadata": {},
   "outputs": [
    {
     "data": {
      "text/plain": [
       "36"
      ]
     },
     "execution_count": 57,
     "metadata": {},
     "output_type": "execute_result"
    }
   ],
   "source": [
    "df.replace(to_replace='?', value='NaN', inplace=True)\n",
    "vals = [int(i) for i in df['Age'] if i != 'NaN']\n",
    "df['Age'].value_counts()\n",
    "mean = sum(vals)/len(vals)\n",
    "mean = int(mean)\n",
    "mean"
   ]
  },
  {
   "cell_type": "code",
   "execution_count": 60,
   "metadata": {
    "collapsed": true
   },
   "outputs": [],
   "source": [
    "df.replace(to_replace='NaN', value=str(mean), inplace=True)"
   ]
  },
  {
   "cell_type": "code",
   "execution_count": 61,
   "metadata": {},
   "outputs": [
    {
     "data": {
      "text/plain": [
       "36    24\n",
       "40    17\n",
       "50    17\n",
       "27    16\n",
       "22    15\n",
       "55    14\n",
       "25    14\n",
       "35    14\n",
       "30    13\n",
       "33    12\n",
       "52    11\n",
       "60    11\n",
       "42    10\n",
       "18     9\n",
       "20     8\n",
       "34     8\n",
       "8      7\n",
       "62     7\n",
       "45     7\n",
       "51     7\n",
       "10     7\n",
       "19     6\n",
       "46     6\n",
       "47     6\n",
       "32     6\n",
       "56     5\n",
       "16     5\n",
       "48     5\n",
       "28     5\n",
       "17     5\n",
       "44     5\n",
       "7      4\n",
       "70     4\n",
       "43     4\n",
       "41     4\n",
       "29     3\n",
       "38     3\n",
       "23     3\n",
       "12     3\n",
       "26     3\n",
       "21     3\n",
       "31     2\n",
       "57     2\n",
       "9      2\n",
       "53     2\n",
       "13     2\n",
       "65     2\n",
       "37     2\n",
       "15     2\n",
       "24     2\n",
       "39     2\n",
       "61     2\n",
       "49     1\n",
       "58     1\n",
       "67     1\n",
       "0      1\n",
       "63     1\n",
       "64     1\n",
       "75     1\n",
       "68     1\n",
       "Name: Age, dtype: int64"
      ]
     },
     "execution_count": 61,
     "metadata": {},
     "output_type": "execute_result"
    }
   ],
   "source": [
    "df['Age'].value_counts()"
   ]
  },
  {
   "cell_type": "code",
   "execution_count": 64,
   "metadata": {},
   "outputs": [
    {
     "data": {
      "text/plain": [
       "{str}"
      ]
     },
     "execution_count": 64,
     "metadata": {},
     "output_type": "execute_result"
    }
   ],
   "source": [
    "set([type(i) for i in df['Age']])"
   ]
  },
  {
   "cell_type": "code",
   "execution_count": 71,
   "metadata": {
    "collapsed": true
   },
   "outputs": [],
   "source": [
    "df = df.astype({\"Age\": int})"
   ]
  },
  {
   "cell_type": "code",
   "execution_count": 72,
   "metadata": {},
   "outputs": [
    {
     "name": "stdout",
     "output_type": "stream",
     "text": [
      "<class 'pandas.core.frame.DataFrame'>\n",
      "RangeIndex: 366 entries, 0 to 365\n",
      "Data columns (total 35 columns):\n",
      "erythema                                    366 non-null int64\n",
      "scaling                                     366 non-null int64\n",
      "definite_borders                            366 non-null int64\n",
      "itching                                     366 non-null int64\n",
      "koebner_phenomenon                          366 non-null int64\n",
      "polygonal_papules                           366 non-null int64\n",
      "follicular_papules                          366 non-null int64\n",
      "oral_mucosal_involvement                    366 non-null int64\n",
      "knee_and_elbow_involvement                  366 non-null int64\n",
      "scalp_involvement                           366 non-null int64\n",
      "family_history                              366 non-null int64\n",
      "melanin_incontinence                        366 non-null int64\n",
      "eosinophils_in_the_infiltrate               366 non-null int64\n",
      "PNL_infiltrate                              366 non-null int64\n",
      "fibrosis_of_the_papillary_dermis            366 non-null int64\n",
      "exocytosis                                  366 non-null int64\n",
      "acanthosis                                  366 non-null int64\n",
      "hyperkeratosis                              366 non-null int64\n",
      "parakeratosis                               366 non-null int64\n",
      "clubbing_of_the_rete_ridges                 366 non-null int64\n",
      "elongation_of_the_rete_ridges               366 non-null int64\n",
      "thinning_of_the_suprapapillary_epidermis    366 non-null int64\n",
      "spongiform_pustule                          366 non-null int64\n",
      "munro_microabcess                           366 non-null int64\n",
      "focal_hypergranulosis                       366 non-null int64\n",
      "disappearance_of_the_granular_layer         366 non-null int64\n",
      "vacuolisation_and_damage_of_basal_layer     366 non-null int64\n",
      "spongiosis                                  366 non-null int64\n",
      "saw-tooth_appearance_of_retes               366 non-null int64\n",
      "follicular_horn_plug                        366 non-null int64\n",
      "perifollicular_parakeratosis                366 non-null int64\n",
      "inflammatory_monoluclear_inflitrate         366 non-null int64\n",
      "band-like_infiltrate                        366 non-null int64\n",
      "Age                                         366 non-null int64\n",
      "class                                       366 non-null int64\n",
      "dtypes: int64(35)\n",
      "memory usage: 100.2 KB\n"
     ]
    }
   ],
   "source": [
    "df.info()"
   ]
  },
  {
   "cell_type": "code",
   "execution_count": 109,
   "metadata": {},
   "outputs": [
    {
     "data": {
      "image/png": "[encoded data removed]",
      "text/plain": [
       "<matplotlib.figure.Figure at 0x11a444ac8>"
      ]
     },
     "metadata": {},
     "output_type": "display_data"
    }
   ],
   "source": [
    "# Визуализируйте данные с помощью PCA и (или) t-SNE\n",
    "from sklearn.decomposition import PCA\n",
    "import matplotlib.pyplot as plt\n",
    "X = df\n",
    "y = df['class']\n",
    "\n",
    "pca = PCA(n_components=6)\n",
    "X_centered = X - X.mean(axis=0)\n",
    "pca.fit(X_centered)\n",
    "X_pca = pca.transform(X_centered)\n",
    "\n",
    "plt.plot(X_pca[y == 1, 0], X_pca[y == 1, 1], 'bo')\n",
    "plt.plot(X_pca[y == 2, 0], X_pca[y == 2, 1], 'ko')\n",
    "plt.plot(X_pca[y == 3, 0], X_pca[y == 3, 1], 'go')\n",
    "plt.plot(X_pca[y == 4, 0], X_pca[y == 4, 1], 'yo')\n",
    "plt.plot(X_pca[y == 5, 0], X_pca[y == 5, 1], 'mo')\n",
    "plt.plot(X_pca[y == 6, 0], X_pca[y == 6, 1], 'ro')\n",
    "plt.show()"
   ]
  },
  {
   "cell_type": "code",
   "execution_count": 111,
   "metadata": {},
   "outputs": [
    {
     "name": "stderr",
     "output_type": "stream",
     "text": [
      "/anaconda3/lib/python3.6/site-packages/sklearn/model_selection/_split.py:2026: FutureWarning: From version 0.21, test_size will always complement train_size unless both are specified.\n",
      "  FutureWarning)\n"
     ]
    }
   ],
   "source": [
    "# Обучите различные линейные модели (Logistic Regression, SVM). \n",
    "# Подберите наилучшие параметры и добейтесь наилучшей доли правильных ответов на предсказаниях\n",
    "from sklearn.model_selection import train_test_split\n",
    "\n",
    "target_col = 'class'\n",
    "X, y = df.drop(target_col, 1), df[target_col]\n",
    "X_train, X_test, y_train, y_test = train_test_split(X, y, train_size=0.85)"
   ]
  },
  {
   "cell_type": "code",
   "execution_count": 126,
   "metadata": {},
   "outputs": [
    {
     "name": "stderr",
     "output_type": "stream",
     "text": [
      "/anaconda3/lib/python3.6/site-packages/sklearn/linear_model/sag.py:326: ConvergenceWarning: The max_iter was reached which means the coef_ did not converge\n",
      "  \"the coef_ did not converge\", ConvergenceWarning)\n"
     ]
    },
    {
     "data": {
      "text/plain": [
       "{'args': ['newton-cg', 0.0001, 1.0, 10], 'score': 0.9918032786885246}"
      ]
     },
     "execution_count": 126,
     "metadata": {},
     "output_type": "execute_result"
    }
   ],
   "source": [
    "from sklearn.linear_model import LogisticRegression\n",
    "import numpy as np\n",
    "solver = ['newton-cg', 'lbfgs', 'liblinear', 'sag', 'saga']\n",
    "tol = [0.0001, 0.0005, 0.001]  \n",
    "C = [1.0, 0.5, 0.1, 0.05, 0.01]\n",
    "random_state = [10, 50, 100, 1000]\n",
    "best_res = {'score': 0, 'args': [None]}\n",
    "\n",
    "for s in solver:\n",
    "    for t in tol:\n",
    "        for c in C:\n",
    "            for r in random_state:\n",
    "                clf = LogisticRegression(solver=s, tol=t, C=c, random_state=r).fit(X, y)\n",
    "                model_result = clf.score(X, y)\n",
    "                if model_result > best_res['score']:\n",
    "                    best_res['score'] = model_result\n",
    "                    best_res['args'] = [s, t, c, r]\n",
    "                \n",
    "best_res"
   ]
  },
  {
   "cell_type": "code",
   "execution_count": 127,
   "metadata": {
    "collapsed": true
   },
   "outputs": [],
   "source": [
    "# Меня смущает 'score': 0.9918032786885246. Похоже в данных есть какая-то утечка."
   ]
  },
  {
   "cell_type": "code",
   "execution_count": 130,
   "metadata": {},
   "outputs": [
    {
     "data": {
      "text/plain": [
       "0.9918032786885246"
      ]
     },
     "execution_count": 130,
     "metadata": {},
     "output_type": "execute_result"
    }
   ],
   "source": [
    "from sklearn.svm import SVC\n",
    "clf = SVC(gamma='auto')\n",
    "clf.fit(X, y)\n",
    "clf.score(X, y, sample_weight=None)"
   ]
  },
  {
   "cell_type": "code",
   "execution_count": null,
   "metadata": {
    "collapsed": true
   },
   "outputs": [],
   "source": []
  }
 ],
 "metadata": {
  "kernelspec": {
   "display_name": "Python 3",
   "language": "python",
   "name": "python3"
  },
  "language_info": {
   "codemirror_mode": {
    "name": "ipython",
    "version": 3
   },
   "file_extension": ".py",
   "mimetype": "text/x-python",
   "name": "python",
   "nbconvert_exporter": "python",
   "pygments_lexer": "ipython3",
   "version": "3.6.3"
  }
 },
 "nbformat": 4,
 "nbformat_minor": 2
}
