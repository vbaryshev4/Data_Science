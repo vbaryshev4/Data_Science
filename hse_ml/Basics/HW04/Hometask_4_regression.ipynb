{
 "cells": [
  {
   "cell_type": "markdown",
   "metadata": {},
   "source": [
    "# Домашнее задание 4. Регрессия\n",
    "**Дедлайн 23:59 07.12.2018**\n",
    "\n"
   ]
  },
  {
   "cell_type": "markdown",
   "metadata": {},
   "source": [
    "# Задача\n",
    "[Данные](https://www.kaggle.com/sohier/calcofi#bottle.csv) представляют собой различные показания океанической воды, взятые в разных местах. Задача состоит в исследовании того, насколько возможным является восстановление температуры воды по её химическим показателям\n",
    "\n",
    "**Целевая переменная** - *T_degC* (температура воды в Цельсиях)"
   ]
  },
  {
   "cell_type": "markdown",
   "metadata": {},
   "source": [
    "# Условие\n",
    "В рамках данной задачи Вам предлагается попробовать следующее:\n",
    "1. Предложите метрику качества Вашей модели. Нужны ли нам здесь ассиметричные метрики (аля quantile regression)? Объясните свой выбор.\n",
    "2. Попробуйте различные модели регрессии для данной задачи. Выберите и затюньте наилучшую.\n",
    "3. Какие из этих моделей требуют нормализации данных? \n",
    "4. Какое качество получилось? Можно ли говорить о какой-либо значимой зависимости температуры воды от её химических показателей?"
   ]
  },
  {
   "cell_type": "markdown",
   "metadata": {},
   "source": [
    "# Решение"
   ]
  },
  {
   "cell_type": "markdown",
   "metadata": {},
   "source": [
    "## 0. Загрузка и предобработка данных"
   ]
  },
  {
   "cell_type": "code",
   "execution_count": 6,
   "metadata": {},
   "outputs": [
    {
     "name": "stderr",
     "output_type": "stream",
     "text": [
      "/anaconda3/lib/python3.6/site-packages/IPython/core/interactiveshell.py:2698: DtypeWarning: Columns (47,73) have mixed types. Specify dtype option on import or set low_memory=False.\n",
      "  interactivity=interactivity, compiler=compiler, result=result)\n"
     ]
    }
   ],
   "source": [
    "import pandas as pd\n",
    "df = pd.read_csv('calcofi/bottle.csv')"
   ]
  },
  {
   "cell_type": "code",
   "execution_count": 7,
   "metadata": {},
   "outputs": [
    {
     "data": {
      "text/plain": [
       "Cst_Cnt                0.000000\n",
       "Btl_Cnt                0.000000\n",
       "Sta_ID                 0.000000\n",
       "Depth_ID               0.000000\n",
       "Depthm                 0.000000\n",
       "T_degC                 0.012676\n",
       "Salnty                 0.054753\n",
       "O2ml_L                 0.195016\n",
       "STheta                 0.060922\n",
       "O2Sat                  0.235400\n",
       "Oxy_µmol/Kg            0.235407\n",
       "BtlNum                 0.862791\n",
       "RecInd                 0.000000\n",
       "T_prec                 0.012676\n",
       "T_qual                 0.973259\n",
       "S_prec                 0.054753\n",
       "S_qual                 0.913381\n",
       "P_qual                 0.220969\n",
       "O_qual                 0.786468\n",
       "SThtaq                 0.923892\n",
       "O2Satq                 0.748172\n",
       "ChlorA                 0.739529\n",
       "Chlqua                 0.260963\n",
       "Phaeop                 0.739530\n",
       "Phaqua                 0.260958\n",
       "PO4uM                  0.522101\n",
       "PO4q                   0.477621\n",
       "SiO3uM                 0.590581\n",
       "SiO3qu                 0.409310\n",
       "NO2uM                  0.609677\n",
       "                         ...   \n",
       "MeanAs                 0.973811\n",
       "MeanAp                 0.976347\n",
       "MeanAq                 0.028240\n",
       "IncTim                 0.983307\n",
       "LightP                 0.978435\n",
       "R_Depth                0.000000\n",
       "R_TEMP                 0.012676\n",
       "R_POTEMP               0.053242\n",
       "R_SALINITY             0.054753\n",
       "R_SIGMA                0.061115\n",
       "R_SVA                  0.061017\n",
       "R_DYNHT                0.053947\n",
       "R_O2                   0.195016\n",
       "R_O2Sat                0.229418\n",
       "R_SIO3                 0.590572\n",
       "R_PO4                  0.522092\n",
       "R_NO3                  0.609868\n",
       "R_NO2                  0.609668\n",
       "R_NH4                  0.924864\n",
       "R_CHLA                 0.739524\n",
       "R_PHAEO                0.739525\n",
       "R_PRES                 0.000000\n",
       "R_SAMP                 0.858930\n",
       "DIC1                   0.997689\n",
       "DIC2                   0.999741\n",
       "TA1                    0.997590\n",
       "TA2                    0.999729\n",
       "pH2                    0.999988\n",
       "pH1                    0.999903\n",
       "DIC Quality Comment    0.999936\n",
       "Length: 74, dtype: float64"
      ]
     },
     "execution_count": 7,
     "metadata": {},
     "output_type": "execute_result"
    }
   ],
   "source": [
    "df.isna().sum()/df.shape[0] # доля пропущенных значений"
   ]
  },
  {
   "cell_type": "markdown",
   "metadata": {},
   "source": [
    "Данные очень сырые. Выкинем те объекты, которые содержат пропущенную целевую переменную"
   ]
  },
  {
   "cell_type": "code",
   "execution_count": 8,
   "metadata": {
    "collapsed": true
   },
   "outputs": [],
   "source": [
    "df = df[~df['T_degC'].isnull()]"
   ]
  },
  {
   "cell_type": "code",
   "execution_count": 9,
   "metadata": {},
   "outputs": [
    {
     "data": {
      "text/html": [
       "<div>\n",
       "<style scoped>\n",
       "    .dataframe tbody tr th:only-of-type {\n",
       "        vertical-align: middle;\n",
       "    }\n",
       "\n",
       "    .dataframe tbody tr th {\n",
       "        vertical-align: top;\n",
       "    }\n",
       "\n",
       "    .dataframe thead th {\n",
       "        text-align: right;\n",
       "    }\n",
       "</style>\n",
       "<table border=\"1\" class=\"dataframe\">\n",
       "  <thead>\n",
       "    <tr style=\"text-align: right;\">\n",
       "      <th></th>\n",
       "      <th>T_degC</th>\n",
       "      <th>Salnty</th>\n",
       "      <th>O2ml_L</th>\n",
       "      <th>STheta</th>\n",
       "      <th>O2Sat</th>\n",
       "      <th>Oxy_µmol/Kg</th>\n",
       "      <th>BtlNum</th>\n",
       "      <th>T_prec</th>\n",
       "      <th>T_qual</th>\n",
       "      <th>S_prec</th>\n",
       "      <th>...</th>\n",
       "      <th>R_NH4</th>\n",
       "      <th>R_CHLA</th>\n",
       "      <th>R_PHAEO</th>\n",
       "      <th>R_SAMP</th>\n",
       "      <th>DIC1</th>\n",
       "      <th>DIC2</th>\n",
       "      <th>TA1</th>\n",
       "      <th>TA2</th>\n",
       "      <th>pH2</th>\n",
       "      <th>pH1</th>\n",
       "    </tr>\n",
       "  </thead>\n",
       "  <tbody>\n",
       "    <tr>\n",
       "      <th>0</th>\n",
       "      <td>10.50</td>\n",
       "      <td>33.440</td>\n",
       "      <td>NaN</td>\n",
       "      <td>25.649</td>\n",
       "      <td>NaN</td>\n",
       "      <td>NaN</td>\n",
       "      <td>NaN</td>\n",
       "      <td>1.0</td>\n",
       "      <td>NaN</td>\n",
       "      <td>2.0</td>\n",
       "      <td>...</td>\n",
       "      <td>NaN</td>\n",
       "      <td>NaN</td>\n",
       "      <td>NaN</td>\n",
       "      <td>NaN</td>\n",
       "      <td>NaN</td>\n",
       "      <td>NaN</td>\n",
       "      <td>NaN</td>\n",
       "      <td>NaN</td>\n",
       "      <td>NaN</td>\n",
       "      <td>NaN</td>\n",
       "    </tr>\n",
       "    <tr>\n",
       "      <th>1</th>\n",
       "      <td>10.46</td>\n",
       "      <td>33.440</td>\n",
       "      <td>NaN</td>\n",
       "      <td>25.656</td>\n",
       "      <td>NaN</td>\n",
       "      <td>NaN</td>\n",
       "      <td>NaN</td>\n",
       "      <td>2.0</td>\n",
       "      <td>NaN</td>\n",
       "      <td>2.0</td>\n",
       "      <td>...</td>\n",
       "      <td>NaN</td>\n",
       "      <td>NaN</td>\n",
       "      <td>NaN</td>\n",
       "      <td>NaN</td>\n",
       "      <td>NaN</td>\n",
       "      <td>NaN</td>\n",
       "      <td>NaN</td>\n",
       "      <td>NaN</td>\n",
       "      <td>NaN</td>\n",
       "      <td>NaN</td>\n",
       "    </tr>\n",
       "    <tr>\n",
       "      <th>2</th>\n",
       "      <td>10.46</td>\n",
       "      <td>33.437</td>\n",
       "      <td>NaN</td>\n",
       "      <td>25.654</td>\n",
       "      <td>NaN</td>\n",
       "      <td>NaN</td>\n",
       "      <td>NaN</td>\n",
       "      <td>2.0</td>\n",
       "      <td>NaN</td>\n",
       "      <td>3.0</td>\n",
       "      <td>...</td>\n",
       "      <td>NaN</td>\n",
       "      <td>NaN</td>\n",
       "      <td>NaN</td>\n",
       "      <td>NaN</td>\n",
       "      <td>NaN</td>\n",
       "      <td>NaN</td>\n",
       "      <td>NaN</td>\n",
       "      <td>NaN</td>\n",
       "      <td>NaN</td>\n",
       "      <td>NaN</td>\n",
       "    </tr>\n",
       "    <tr>\n",
       "      <th>3</th>\n",
       "      <td>10.45</td>\n",
       "      <td>33.420</td>\n",
       "      <td>NaN</td>\n",
       "      <td>25.643</td>\n",
       "      <td>NaN</td>\n",
       "      <td>NaN</td>\n",
       "      <td>NaN</td>\n",
       "      <td>2.0</td>\n",
       "      <td>NaN</td>\n",
       "      <td>2.0</td>\n",
       "      <td>...</td>\n",
       "      <td>NaN</td>\n",
       "      <td>NaN</td>\n",
       "      <td>NaN</td>\n",
       "      <td>NaN</td>\n",
       "      <td>NaN</td>\n",
       "      <td>NaN</td>\n",
       "      <td>NaN</td>\n",
       "      <td>NaN</td>\n",
       "      <td>NaN</td>\n",
       "      <td>NaN</td>\n",
       "    </tr>\n",
       "    <tr>\n",
       "      <th>4</th>\n",
       "      <td>10.45</td>\n",
       "      <td>33.421</td>\n",
       "      <td>NaN</td>\n",
       "      <td>25.643</td>\n",
       "      <td>NaN</td>\n",
       "      <td>NaN</td>\n",
       "      <td>NaN</td>\n",
       "      <td>2.0</td>\n",
       "      <td>NaN</td>\n",
       "      <td>3.0</td>\n",
       "      <td>...</td>\n",
       "      <td>NaN</td>\n",
       "      <td>NaN</td>\n",
       "      <td>NaN</td>\n",
       "      <td>NaN</td>\n",
       "      <td>NaN</td>\n",
       "      <td>NaN</td>\n",
       "      <td>NaN</td>\n",
       "      <td>NaN</td>\n",
       "      <td>NaN</td>\n",
       "      <td>NaN</td>\n",
       "    </tr>\n",
       "  </tbody>\n",
       "</table>\n",
       "<p>5 rows × 65 columns</p>\n",
       "</div>"
      ],
      "text/plain": [
       "   T_degC  Salnty  O2ml_L  STheta  O2Sat  Oxy_µmol/Kg  BtlNum  T_prec  T_qual  \\\n",
       "0   10.50  33.440     NaN  25.649    NaN          NaN     NaN     1.0     NaN   \n",
       "1   10.46  33.440     NaN  25.656    NaN          NaN     NaN     2.0     NaN   \n",
       "2   10.46  33.437     NaN  25.654    NaN          NaN     NaN     2.0     NaN   \n",
       "3   10.45  33.420     NaN  25.643    NaN          NaN     NaN     2.0     NaN   \n",
       "4   10.45  33.421     NaN  25.643    NaN          NaN     NaN     2.0     NaN   \n",
       "\n",
       "   S_prec ...   R_NH4  R_CHLA  R_PHAEO  R_SAMP  DIC1  DIC2  TA1  TA2  pH2  pH1  \n",
       "0     2.0 ...     NaN     NaN      NaN     NaN   NaN   NaN  NaN  NaN  NaN  NaN  \n",
       "1     2.0 ...     NaN     NaN      NaN     NaN   NaN   NaN  NaN  NaN  NaN  NaN  \n",
       "2     3.0 ...     NaN     NaN      NaN     NaN   NaN   NaN  NaN  NaN  NaN  NaN  \n",
       "3     2.0 ...     NaN     NaN      NaN     NaN   NaN   NaN  NaN  NaN  NaN  NaN  \n",
       "4     3.0 ...     NaN     NaN      NaN     NaN   NaN   NaN  NaN  NaN  NaN  NaN  \n",
       "\n",
       "[5 rows x 65 columns]"
      ]
     },
     "execution_count": 9,
     "metadata": {},
     "output_type": "execute_result"
    }
   ],
   "source": [
    "import numpy as np\n",
    "df_num = df.select_dtypes(include=[np.float]) # оставим только числовые признаки\n",
    "df_num.head()"
   ]
  },
  {
   "cell_type": "code",
   "execution_count": 10,
   "metadata": {},
   "outputs": [
    {
     "name": "stderr",
     "output_type": "stream",
     "text": [
      "/anaconda3/lib/python3.6/site-packages/sklearn/cross_validation.py:41: DeprecationWarning: This module was deprecated in version 0.18 in favor of the model_selection module into which all the refactored classes and functions are moved. Also note that the interface of the new CV iterators are different from that of this module. This module will be removed in 0.20.\n",
      "  \"This module will be removed in 0.20.\", DeprecationWarning)\n"
     ]
    }
   ],
   "source": [
    "import numpy as np\n",
    "from sklearn.preprocessing import Imputer\n",
    "from sklearn.cross_validation import train_test_split\n",
    "\n",
    "X, y = df_num.drop('T_degC',  1), df_num['T_degC']\n",
    "cols = X.columns\n",
    "imp = Imputer(missing_values='NaN', strategy='mean', axis=0)\n",
    "imp.fit(X)\n",
    "X = pd.DataFrame(imp.transform(X), columns=cols)\n",
    "\n",
    "X_train, X_test, y_train, y_test = train_test_split(X, y, train_size=0.85)"
   ]
  },
  {
   "cell_type": "markdown",
   "metadata": {},
   "source": [
    "# Предложите метрику качества Вашей модели. Нужны ли нам здесь ассиметричные метрики (аля quantile regression)? Объясните свой выбор."
   ]
  },
  {
   "cell_type": "markdown",
   "metadata": {},
   "source": [
    "Впервые слышу про ассиметричные метрики. Что удалось найти про quantile regression – это тип регрессионного анализа, используемого в статистике и эконометрике. В то время как метод наименьших квадратов приводит к оценкам условного среднего переменной ответа при определенных значениях предикторных переменных, регрессия квантилей направлена на оценку либо условных медианных, либо других квантилей переменной ответа. По существу, квантильная регрессия является продолжением линейной регрессии, и мы ее используем, когда условия линейной регрессии неприменимы."
   ]
  },
  {
   "cell_type": "markdown",
   "metadata": {},
   "source": [
    "Мне бы с классикой разобраться: RMSE, MSE, MAE, MAPE. Их и буду использовать."
   ]
  },
  {
   "cell_type": "markdown",
   "metadata": {},
   "source": [
    "# Попробуйте различные модели регрессии для данной задачи. Выберите и затюньте наилучшую."
   ]
  },
  {
   "cell_type": "code",
   "execution_count": 11,
   "metadata": {},
   "outputs": [
    {
     "name": "stderr",
     "output_type": "stream",
     "text": [
      "  0%|          | 0/4 [00:00<?, ?it/s]/anaconda3/lib/python3.6/site-packages/sklearn/linear_model/base.py:509: RuntimeWarning: internal gelsd driver lwork query error, required iwork dimension not returned. This is likely the result of LAPACK bug 0038, fixed in LAPACK 3.2.2 (released July 21, 2010). Falling back to 'gelss' driver.\n",
      "  linalg.lstsq(X, y)\n",
      " 25%|██▌       | 1/4 [00:03<00:11,  3.95s/it]"
     ]
    },
    {
     "name": "stdout",
     "output_type": "stream",
     "text": [
      "<class 'sklearn.linear_model.base.LinearRegression'>\n",
      "0.00012552194036876739\n",
      "3.4029877596646766e-07\n",
      "2.9974716049549873e-09\n",
      "2.0307142822417745e-05\n",
      "\n",
      "\n"
     ]
    },
    {
     "name": "stderr",
     "output_type": "stream",
     "text": [
      "\r",
      " 50%|█████     | 2/4 [00:05<00:05,  2.50s/it]"
     ]
    },
    {
     "name": "stdout",
     "output_type": "stream",
     "text": [
      "<class 'sklearn.linear_model.ridge.Ridge'>\n",
      "0.0001257192915812253\n",
      "3.402130513758173e-07\n",
      "2.9971951085585946e-09\n",
      "2.0424693635057167e-05\n",
      "\n",
      "\n"
     ]
    },
    {
     "name": "stderr",
     "output_type": "stream",
     "text": [
      "\r",
      " 75%|███████▌  | 3/4 [00:18<00:06,  6.22s/it]"
     ]
    },
    {
     "name": "stdout",
     "output_type": "stream",
     "text": [
      "<class 'sklearn.linear_model.coordinate_descent.Lasso'>\n",
      "0.04262738222041654\n",
      "0.004747983572382502\n",
      "8.148189168191975e-05\n",
      "0.02567330464485451\n",
      "\n",
      "\n",
      "<class 'sklearn.tree.tree.DecisionTreeRegressor'>\n",
      "0.00014297040380778918\n",
      "6.589621531507673e-07\n",
      "5.669897604286865e-09\n"
     ]
    },
    {
     "name": "stderr",
     "output_type": "stream",
     "text": [
      "\r",
      "100%|██████████| 4/4 [00:37<00:00,  9.38s/it]"
     ]
    },
    {
     "name": "stdout",
     "output_type": "stream",
     "text": [
      "5.649717586209135e-06\n",
      "\n",
      "\n"
     ]
    },
    {
     "name": "stderr",
     "output_type": "stream",
     "text": [
      "\n"
     ]
    }
   ],
   "source": [
    "from tqdm import tqdm\n",
    "from sklearn import linear_model\n",
    "from sklearn import tree\n",
    "from sklearn.metrics import mean_absolute_error, mean_squared_error, mean_squared_log_error, median_absolute_error\n",
    "\n",
    "models = [\n",
    "    linear_model.LinearRegression(),\n",
    "    linear_model.Ridge(alpha = .5),\n",
    "    linear_model.Lasso(alpha = 0.1),\n",
    "    tree.DecisionTreeRegressor()\n",
    "]\n",
    "\n",
    "for m in tqdm(models):\n",
    "    m.fit(X_train, y_train)\n",
    "    print(m.__class__)\n",
    "    print(mean_absolute_error(m.predict(X_test), y_test))\n",
    "    print(mean_squared_error(m.predict(X_test), y_test))\n",
    "    print(mean_squared_log_error(m.predict(X_test), y_test))\n",
    "    print(median_absolute_error(m.predict(X_test), y_test))\n",
    "    print('\\n')\n"
   ]
  },
  {
   "cell_type": "markdown",
   "metadata": {},
   "source": [
    "Победил: class 'sklearn.linear_model.coordinate_descent.Lasso"
   ]
  },
  {
   "cell_type": "code",
   "execution_count": 31,
   "metadata": {},
   "outputs": [
    {
     "name": "stderr",
     "output_type": "stream",
     "text": [
      "/anaconda3/lib/python3.6/site-packages/sklearn/linear_model/coordinate_descent.py:491: ConvergenceWarning: Objective did not converge. You might want to increase the number of iterations. Fitting data with very small alpha may cause precision problems.\n",
      "  ConvergenceWarning)\n",
      "/anaconda3/lib/python3.6/site-packages/sklearn/linear_model/coordinate_descent.py:491: ConvergenceWarning: Objective did not converge. You might want to increase the number of iterations. Fitting data with very small alpha may cause precision problems.\n",
      "  ConvergenceWarning)\n",
      "/anaconda3/lib/python3.6/site-packages/sklearn/linear_model/coordinate_descent.py:491: ConvergenceWarning: Objective did not converge. You might want to increase the number of iterations. Fitting data with very small alpha may cause precision problems.\n",
      "  ConvergenceWarning)\n",
      "/anaconda3/lib/python3.6/site-packages/sklearn/linear_model/coordinate_descent.py:491: ConvergenceWarning: Objective did not converge. You might want to increase the number of iterations. Fitting data with very small alpha may cause precision problems.\n",
      "  ConvergenceWarning)\n",
      "/anaconda3/lib/python3.6/site-packages/sklearn/linear_model/coordinate_descent.py:491: ConvergenceWarning: Objective did not converge. You might want to increase the number of iterations. Fitting data with very small alpha may cause precision problems.\n",
      "  ConvergenceWarning)\n",
      "/anaconda3/lib/python3.6/site-packages/sklearn/linear_model/coordinate_descent.py:491: ConvergenceWarning: Objective did not converge. You might want to increase the number of iterations. Fitting data with very small alpha may cause precision problems.\n",
      "  ConvergenceWarning)\n"
     ]
    }
   ],
   "source": [
    "from sklearn.grid_search import GridSearchCV\n",
    "\n",
    "model = linear_model.Lasso()\n",
    "\n",
    "params_grid = {'alpha': [0.1, 0.4, 1.0],\n",
    "              'max_iter': [i for i in range(100,1300,300)]}\n",
    "gs = GridSearchCV(model, params_grid, scoring='neg_mean_absolute_error', verbose=0, n_jobs=-1)\n",
    "gs.fit(X_train, y_train)\n",
    "\n",
    "model = gs.best_estimator_"
   ]
  },
  {
   "cell_type": "code",
   "execution_count": 32,
   "metadata": {},
   "outputs": [
    {
     "data": {
      "text/plain": [
       "Lasso(alpha=0.1, copy_X=True, fit_intercept=True, max_iter=400,\n",
       "   normalize=False, positive=False, precompute=False, random_state=None,\n",
       "   selection='cyclic', tol=0.0001, warm_start=False)"
      ]
     },
     "execution_count": 32,
     "metadata": {},
     "output_type": "execute_result"
    }
   ],
   "source": [
    "model"
   ]
  },
  {
   "cell_type": "markdown",
   "metadata": {},
   "source": [
    "# Какие из этих моделей требуют нормализации данных?"
   ]
  },
  {
   "cell_type": "markdown",
   "metadata": {
    "collapsed": true
   },
   "source": [
    "Во всех линейных моделях (LinearRegression, Ridge, Lasso) признаки нужно стандартизовать (вычесть среднее и поделить на стандартное отклонение, чтобы среднее стало нулевым, а стандартное отклонение единицей). Потому что:\n",
    "Одно из наиболее важных допущений при работе с линейными моделями, параметры которых оцениваются методом наименьших квадратов, состоит в том, что остатки модели независимы (т.е. не коррелируют) и имеют нормальное распределение со средним значением 0 и некоторым фиксированным стандартным отклонением. Попробуем оценить качество до и после стандартизации.\n"
   ]
  },
  {
   "cell_type": "code",
   "execution_count": 33,
   "metadata": {},
   "outputs": [
    {
     "name": "stdout",
     "output_type": "stream",
     "text": [
      "0.00014297040380778918\n",
      "6.589621531507673e-07\n",
      "5.669897604286865e-09\n",
      "5.649717586209135e-06\n",
      "\n",
      "\n"
     ]
    }
   ],
   "source": [
    "model.fit(X_train, y_train)\n",
    "print(mean_absolute_error(m.predict(X_test), y_test))\n",
    "print(mean_squared_error(m.predict(X_test), y_test))\n",
    "print(mean_squared_log_error(m.predict(X_test), y_test))\n",
    "print(median_absolute_error(m.predict(X_test), y_test))\n",
    "print('\\n')"
   ]
  },
  {
   "cell_type": "code",
   "execution_count": 34,
   "metadata": {
    "collapsed": true
   },
   "outputs": [],
   "source": [
    "from sklearn.preprocessing import StandardScaler\n",
    "scaler = StandardScaler()\n",
    "scaler.fit(X_train)\n",
    "X_train = scaler.transform(X_train)\n",
    "scaler.fit(X_test)\n",
    "X_test = scaler.transform(X_test)"
   ]
  },
  {
   "cell_type": "code",
   "execution_count": 35,
   "metadata": {},
   "outputs": [
    {
     "name": "stdout",
     "output_type": "stream",
     "text": [
      "9.305891533247252\n",
      "103.75391129947108\n",
      "2.3355729712129665\n",
      "8.61\n",
      "\n",
      "\n"
     ]
    }
   ],
   "source": [
    "model.fit(X_train, y_train)\n",
    "print(mean_absolute_error(m.predict(X_test), y_test))\n",
    "print(mean_squared_error(m.predict(X_test), y_test))\n",
    "print(mean_squared_log_error(m.predict(X_test), y_test))\n",
    "print(median_absolute_error(m.predict(X_test), y_test))\n",
    "print('\\n')"
   ]
  },
  {
   "cell_type": "markdown",
   "metadata": {},
   "source": [
    "# Какое качество получилось? Можно ли говорить о какой-либо значимой зависимости температуры воды от её химических показателей?"
   ]
  },
  {
   "cell_type": "markdown",
   "metadata": {
    "collapsed": true
   },
   "source": [
    "Качество после стандартизации данных стало хуже.\n",
    "О зависимости температуры и химических показателях воды можно говорить."
   ]
  },
  {
   "cell_type": "code",
   "execution_count": null,
   "metadata": {
    "collapsed": true
   },
   "outputs": [],
   "source": []
  }
 ],
 "metadata": {
  "kernelspec": {
   "display_name": "Python 3",
   "language": "python",
   "name": "python3"
  },
  "language_info": {
   "codemirror_mode": {
    "name": "ipython",
    "version": 3
   },
   "file_extension": ".py",
   "mimetype": "text/x-python",
   "name": "python",
   "nbconvert_exporter": "python",
   "pygments_lexer": "ipython3",
   "version": "3.6.3"
  }
 },
 "nbformat": 4,
 "nbformat_minor": 2
}
