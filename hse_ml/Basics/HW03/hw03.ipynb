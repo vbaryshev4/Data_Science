{
 "cells": [
  {
   "cell_type": "code",
   "execution_count": 12,
   "metadata": {
    "collapsed": true
   },
   "outputs": [],
   "source": [
    "import io\n",
    "import requests\n",
    "import pandas as pd\n",
    "\n",
    "data = requests.get('https://raw.githubusercontent.com/gastonstat/CreditScoring/master/CreditScoring.csv')"
   ]
  },
  {
   "cell_type": "code",
   "execution_count": 14,
   "metadata": {
    "collapsed": true
   },
   "outputs": [],
   "source": [
    "df = pd.read_csv(io.StringIO(data.text)) "
   ]
  },
  {
   "cell_type": "code",
   "execution_count": 15,
   "metadata": {},
   "outputs": [
    {
     "data": {
      "text/html": [
       "<div>\n",
       "<style scoped>\n",
       "    .dataframe tbody tr th:only-of-type {\n",
       "        vertical-align: middle;\n",
       "    }\n",
       "\n",
       "    .dataframe tbody tr th {\n",
       "        vertical-align: top;\n",
       "    }\n",
       "\n",
       "    .dataframe thead th {\n",
       "        text-align: right;\n",
       "    }\n",
       "</style>\n",
       "<table border=\"1\" class=\"dataframe\">\n",
       "  <thead>\n",
       "    <tr style=\"text-align: right;\">\n",
       "      <th></th>\n",
       "      <th>Status</th>\n",
       "      <th>Seniority</th>\n",
       "      <th>Home</th>\n",
       "      <th>Time</th>\n",
       "      <th>Age</th>\n",
       "      <th>Marital</th>\n",
       "      <th>Records</th>\n",
       "      <th>Job</th>\n",
       "      <th>Expenses</th>\n",
       "      <th>Income</th>\n",
       "      <th>Assets</th>\n",
       "      <th>Debt</th>\n",
       "      <th>Amount</th>\n",
       "      <th>Price</th>\n",
       "    </tr>\n",
       "  </thead>\n",
       "  <tbody>\n",
       "    <tr>\n",
       "      <th>0</th>\n",
       "      <td>1</td>\n",
       "      <td>9</td>\n",
       "      <td>1</td>\n",
       "      <td>60</td>\n",
       "      <td>30</td>\n",
       "      <td>2</td>\n",
       "      <td>1</td>\n",
       "      <td>3</td>\n",
       "      <td>73</td>\n",
       "      <td>129</td>\n",
       "      <td>0</td>\n",
       "      <td>0</td>\n",
       "      <td>800</td>\n",
       "      <td>846</td>\n",
       "    </tr>\n",
       "    <tr>\n",
       "      <th>1</th>\n",
       "      <td>1</td>\n",
       "      <td>17</td>\n",
       "      <td>1</td>\n",
       "      <td>60</td>\n",
       "      <td>58</td>\n",
       "      <td>3</td>\n",
       "      <td>1</td>\n",
       "      <td>1</td>\n",
       "      <td>48</td>\n",
       "      <td>131</td>\n",
       "      <td>0</td>\n",
       "      <td>0</td>\n",
       "      <td>1000</td>\n",
       "      <td>1658</td>\n",
       "    </tr>\n",
       "    <tr>\n",
       "      <th>2</th>\n",
       "      <td>2</td>\n",
       "      <td>10</td>\n",
       "      <td>2</td>\n",
       "      <td>36</td>\n",
       "      <td>46</td>\n",
       "      <td>2</td>\n",
       "      <td>2</td>\n",
       "      <td>3</td>\n",
       "      <td>90</td>\n",
       "      <td>200</td>\n",
       "      <td>3000</td>\n",
       "      <td>0</td>\n",
       "      <td>2000</td>\n",
       "      <td>2985</td>\n",
       "    </tr>\n",
       "    <tr>\n",
       "      <th>3</th>\n",
       "      <td>1</td>\n",
       "      <td>0</td>\n",
       "      <td>1</td>\n",
       "      <td>60</td>\n",
       "      <td>24</td>\n",
       "      <td>1</td>\n",
       "      <td>1</td>\n",
       "      <td>1</td>\n",
       "      <td>63</td>\n",
       "      <td>182</td>\n",
       "      <td>2500</td>\n",
       "      <td>0</td>\n",
       "      <td>900</td>\n",
       "      <td>1325</td>\n",
       "    </tr>\n",
       "    <tr>\n",
       "      <th>4</th>\n",
       "      <td>1</td>\n",
       "      <td>0</td>\n",
       "      <td>1</td>\n",
       "      <td>36</td>\n",
       "      <td>26</td>\n",
       "      <td>1</td>\n",
       "      <td>1</td>\n",
       "      <td>1</td>\n",
       "      <td>46</td>\n",
       "      <td>107</td>\n",
       "      <td>0</td>\n",
       "      <td>0</td>\n",
       "      <td>310</td>\n",
       "      <td>910</td>\n",
       "    </tr>\n",
       "  </tbody>\n",
       "</table>\n",
       "</div>"
      ],
      "text/plain": [
       "   Status  Seniority  Home  Time  Age  Marital  Records  Job  Expenses  \\\n",
       "0       1          9     1    60   30        2        1    3        73   \n",
       "1       1         17     1    60   58        3        1    1        48   \n",
       "2       2         10     2    36   46        2        2    3        90   \n",
       "3       1          0     1    60   24        1        1    1        63   \n",
       "4       1          0     1    36   26        1        1    1        46   \n",
       "\n",
       "   Income  Assets  Debt  Amount  Price  \n",
       "0     129       0     0     800    846  \n",
       "1     131       0     0    1000   1658  \n",
       "2     200    3000     0    2000   2985  \n",
       "3     182    2500     0     900   1325  \n",
       "4     107       0     0     310    910  "
      ]
     },
     "execution_count": 15,
     "metadata": {},
     "output_type": "execute_result"
    }
   ],
   "source": [
    "df.head()"
   ]
  },
  {
   "cell_type": "code",
   "execution_count": 19,
   "metadata": {},
   "outputs": [
    {
     "data": {
      "text/plain": [
       "1    3200\n",
       "2    1254\n",
       "0       1\n",
       "Name: Status, dtype: int64"
      ]
     },
     "execution_count": 19,
     "metadata": {},
     "output_type": "execute_result"
    }
   ],
   "source": [
    "# Предсказывайте Status 1 (good) vs. Status 2 (bad)\n",
    "# 0 выпилить\n",
    "df.Status.value_counts()"
   ]
  },
  {
   "cell_type": "code",
   "execution_count": 20,
   "metadata": {
    "collapsed": true
   },
   "outputs": [],
   "source": [
    "df = df[df['Status'] > 0]"
   ]
  },
  {
   "cell_type": "code",
   "execution_count": 21,
   "metadata": {},
   "outputs": [
    {
     "data": {
      "text/plain": [
       "1    3200\n",
       "2    1254\n",
       "Name: Status, dtype: int64"
      ]
     },
     "execution_count": 21,
     "metadata": {},
     "output_type": "execute_result"
    }
   ],
   "source": [
    "df.Status.value_counts()"
   ]
  },
  {
   "cell_type": "code",
   "execution_count": 22,
   "metadata": {
    "collapsed": true
   },
   "outputs": [],
   "source": [
    "X, y = df.drop('Status', 1), df['Status']"
   ]
  },
  {
   "cell_type": "code",
   "execution_count": 25,
   "metadata": {
    "collapsed": true
   },
   "outputs": [],
   "source": [
    "y -= 1"
   ]
  },
  {
   "cell_type": "code",
   "execution_count": 26,
   "metadata": {},
   "outputs": [
    {
     "data": {
      "text/plain": [
       "0    3200\n",
       "1    1254\n",
       "Name: Status, dtype: int64"
      ]
     },
     "execution_count": 26,
     "metadata": {},
     "output_type": "execute_result"
    }
   ],
   "source": [
    "y.value_counts()"
   ]
  },
  {
   "cell_type": "code",
   "execution_count": 27,
   "metadata": {},
   "outputs": [
    {
     "name": "stderr",
     "output_type": "stream",
     "text": [
      "/anaconda3/lib/python3.6/site-packages/sklearn/model_selection/_split.py:2026: FutureWarning: From version 0.21, test_size will always complement train_size unless both are specified.\n",
      "  FutureWarning)\n"
     ]
    }
   ],
   "source": [
    "from sklearn.model_selection import train_test_split\n",
    "X_train, X_test, y_train, y_test = train_test_split(X, y, train_size=0.85)"
   ]
  },
  {
   "cell_type": "markdown",
   "metadata": {},
   "source": [
    "# Подберите наилучшие гиперпараметры для модели решающего дерева"
   ]
  },
  {
   "cell_type": "code",
   "execution_count": 28,
   "metadata": {},
   "outputs": [
    {
     "name": "stderr",
     "output_type": "stream",
     "text": [
      "/anaconda3/lib/python3.6/site-packages/sklearn/cross_validation.py:41: DeprecationWarning: This module was deprecated in version 0.18 in favor of the model_selection module into which all the refactored classes and functions are moved. Also note that the interface of the new CV iterators are different from that of this module. This module will be removed in 0.20.\n",
      "  \"This module will be removed in 0.20.\", DeprecationWarning)\n",
      "/anaconda3/lib/python3.6/site-packages/sklearn/grid_search.py:42: DeprecationWarning: This module was deprecated in version 0.18 in favor of the model_selection module into which all the refactored classes and functions are moved. This module will be removed in 0.20.\n",
      "  DeprecationWarning)\n"
     ]
    },
    {
     "name": "stdout",
     "output_type": "stream",
     "text": [
      "Fitting 3 folds for each of 1190 candidates, totalling 3570 fits\n"
     ]
    },
    {
     "name": "stderr",
     "output_type": "stream",
     "text": [
      "[Parallel(n_jobs=1)]: Done 3570 out of 3570 | elapsed:   21.6s finished\n"
     ]
    }
   ],
   "source": [
    "from sklearn import linear_model\n",
    "from sklearn import svm\n",
    "\n",
    "from sklearn.grid_search import GridSearchCV\n",
    "params_grid = {\n",
    "    'criterion': ['gini', 'entropy'],\n",
    "    'max_depth': list(range(5, 10)),\n",
    "    'max_features': [0.1, 0.2, 0.3, 0.5, 0.7, 0.9, 1.0],\n",
    "    'min_samples_leaf': list(range(3, 20))\n",
    "}\n",
    "gs = GridSearchCV(clf, params_grid, scoring='roc_auc', verbose=1)\n",
    "gs.fit(X_train, y_train)\n",
    "\n",
    "clf = gs.best_estimator_"
   ]
  },
  {
   "cell_type": "code",
   "execution_count": 29,
   "metadata": {},
   "outputs": [
    {
     "data": {
      "text/plain": [
       "DecisionTreeClassifier(class_weight=None, criterion='gini', max_depth=7,\n",
       "            max_features=0.7, max_leaf_nodes=None,\n",
       "            min_impurity_decrease=0.0, min_impurity_split=None,\n",
       "            min_samples_leaf=14, min_samples_split=2,\n",
       "            min_weight_fraction_leaf=0.0, presort=False, random_state=None,\n",
       "            splitter='best')"
      ]
     },
     "execution_count": 29,
     "metadata": {},
     "output_type": "execute_result"
    }
   ],
   "source": [
    "clf"
   ]
  },
  {
   "cell_type": "markdown",
   "metadata": {},
   "source": [
    "# Выберите наилучшую на Ваш взгляд метрику качества для этой задачи. Объясните свой выбор"
   ]
  },
  {
   "cell_type": "code",
   "execution_count": 30,
   "metadata": {},
   "outputs": [
    {
     "name": "stdout",
     "output_type": "stream",
     "text": [
      "Decision tree accuracy: 76.83%\n"
     ]
    }
   ],
   "source": [
    "'''Accuracy - Accuracy is the most intuitive performance measure \n",
    "and it is simply a ratio of correctly predicted observation to the total observations. \n",
    "One may think that, if we have high accuracy then our model is best. \n",
    "Yes, accuracy is a great measure but only when you have symmetric datasets \n",
    "where values of false positive and false negatives are almost same.\n",
    "\n",
    "Accuracy = TP+TN/TP+FP+FN+TN\n",
    "'''\n",
    "\n",
    "from sklearn.metrics import accuracy_score\n",
    "print('Decision tree accuracy: %.2f%%' % (100 * accuracy_score(clf.predict(X_test), y_test)))"
   ]
  },
  {
   "cell_type": "code",
   "execution_count": 34,
   "metadata": {},
   "outputs": [
    {
     "name": "stdout",
     "output_type": "stream",
     "text": [
      "Decision tree accuracy: 54.69%\n"
     ]
    }
   ],
   "source": [
    "'''\n",
    "Precision - Precision is the ratio of correctly predicted positive observations \n",
    "to the total predicted positive observations.  \n",
    "High precision relates to the low false positive rate. \n",
    "\n",
    "Precision = TP/TP+FP\n",
    "'''\n",
    "from sklearn.metrics import precision_score\n",
    "print('Decision tree accuracy: %.2f%%' % (100 * precision_score(clf.predict(X_test), y_test)))"
   ]
  },
  {
   "cell_type": "code",
   "execution_count": 35,
   "metadata": {},
   "outputs": [
    {
     "name": "stdout",
     "output_type": "stream",
     "text": [
      "Decision tree accuracy: 60.69%\n"
     ]
    }
   ],
   "source": [
    "'''\n",
    "Recall (Sensitivity) - Recall is the ratio of correctly predicted positive observations \n",
    "to the all observations in actual class - yes.  \n",
    "\n",
    "Recall = TP/TP+FN\n",
    "\n",
    "'''\n",
    "from sklearn.metrics import recall_score\n",
    "print('Decision tree accuracy: %.2f%%' % (100 * recall_score(clf.predict(X_test), y_test)))"
   ]
  },
  {
   "cell_type": "code",
   "execution_count": 39,
   "metadata": {},
   "outputs": [
    {
     "data": {
      "text/plain": [
       "array([[409,  68],\n",
       "       [ 87, 105]])"
      ]
     },
     "execution_count": 39,
     "metadata": {},
     "output_type": "execute_result"
    }
   ],
   "source": [
    "'''\n",
    "Let's start with the one popular tools to evaluate the performance of a model \n",
    "in tasks of classification or prediction:  The confusion matrix \n",
    "(in unsupervised learning it is typically called a matching matrix). \n",
    "Its focus is on the predictive capability of a model  rather than how fast \n",
    "the model takes to perform the classification, scalability, etc.\n",
    "\n",
    "The confusion matrix is represented by a matrix which each row represents \n",
    "the instances in a predicted class, while each column represents in an actual class. \n",
    "One of the advantages of using this performance evaluation tool is that \n",
    "the data mining analyzer can easily see if the model is confusing two classes \n",
    "(i.e. commonly  mislabeling one as another).\n",
    "'''\n",
    "\n",
    "\n",
    "from sklearn.metrics import confusion_matrix\n",
    "y_true = y_test\n",
    "y_pred = clf.predict(X_test)\n",
    "confusion_matrix(y_true, y_pred)"
   ]
  },
  {
   "cell_type": "code",
   "execution_count": 43,
   "metadata": {},
   "outputs": [
    {
     "name": "stdout",
     "output_type": "stream",
     "text": [
      "Confusion matrix, without normalization\n",
      "[[409  68]\n",
      " [ 87 105]]\n",
      "Normalized confusion matrix\n",
      "[[0.86 0.14]\n",
      " [0.45 0.55]]\n"
     ]
    },
    {
     "data": {
      "image/png": "[encoded data removed]",
      "text/plain": [
       "<matplotlib.figure.Figure at 0x115871dd8>"
      ]
     },
     "metadata": {},
     "output_type": "display_data"
    },
    {
     "data": {
      "image/png": "[encoded data removed]",
      "text/plain": [
       "<matplotlib.figure.Figure at 0x1158870f0>"
      ]
     },
     "metadata": {},
     "output_type": "display_data"
    }
   ],
   "source": [
    "import itertools\n",
    "import numpy as np\n",
    "import matplotlib.pyplot as plt\n",
    "\n",
    "class_names = [1, 0]\n",
    "\n",
    "def plot_confusion_matrix(cm, classes,\n",
    "                          normalize=False,\n",
    "                          title='Confusion matrix',\n",
    "                          cmap=plt.cm.Blues):\n",
    "    \"\"\"\n",
    "    This function prints and plots the confusion matrix.\n",
    "    Normalization can be applied by setting `normalize=True`.\n",
    "    \"\"\"\n",
    "    if normalize:\n",
    "        cm = cm.astype('float') / cm.sum(axis=1)[:, np.newaxis]\n",
    "        print(\"Normalized confusion matrix\")\n",
    "    else:\n",
    "        print('Confusion matrix, without normalization')\n",
    "\n",
    "    print(cm)\n",
    "\n",
    "    plt.imshow(cm, interpolation='nearest', cmap=cmap)\n",
    "    plt.title(title)\n",
    "    plt.colorbar()\n",
    "    tick_marks = np.arange(len(classes))\n",
    "    plt.xticks(tick_marks, classes, rotation=45)\n",
    "    plt.yticks(tick_marks, classes)\n",
    "\n",
    "    fmt = '.2f' if normalize else 'd'\n",
    "    thresh = cm.max() / 2.\n",
    "    for i, j in itertools.product(range(cm.shape[0]), range(cm.shape[1])):\n",
    "        plt.text(j, i, format(cm[i, j], fmt),\n",
    "                 horizontalalignment=\"center\",\n",
    "                 color=\"white\" if cm[i, j] > thresh else \"black\")\n",
    "\n",
    "    plt.ylabel('True label')\n",
    "    plt.xlabel('Predicted label')\n",
    "    plt.tight_layout()\n",
    "\n",
    "\n",
    "# Compute confusion matrix\n",
    "cnf_matrix = confusion_matrix(y_true, y_pred)\n",
    "np.set_printoptions(precision=2)\n",
    "\n",
    "# Plot non-normalized confusion matrix\n",
    "plt.figure()\n",
    "plot_confusion_matrix(cnf_matrix, classes=class_names,\n",
    "                      title='Confusion matrix, without normalization')\n",
    "\n",
    "# Plot normalized confusion matrix\n",
    "plt.figure()\n",
    "plot_confusion_matrix(cnf_matrix, classes=class_names, normalize=True,\n",
    "                      title='Normalized confusion matrix')\n",
    "\n",
    "plt.show()"
   ]
  },
  {
   "cell_type": "markdown",
   "metadata": {},
   "source": [
    "Поупражнялись с метриками качества оценки модели, теперь выберем лучшие показатели на разных метриках как гиперпараметр Гридсерча"
   ]
  },
  {
   "cell_type": "code",
   "execution_count": 64,
   "metadata": {},
   "outputs": [
    {
     "name": "stdout",
     "output_type": "stream",
     "text": [
      "Fitting 3 folds for each of 1190 candidates, totalling 3570 fits\n"
     ]
    },
    {
     "name": "stderr",
     "output_type": "stream",
     "text": [
      "[Parallel(n_jobs=1)]: Done 3570 out of 3570 | elapsed:   20.9s finished\n"
     ]
    },
    {
     "name": "stdout",
     "output_type": "stream",
     "text": [
      "SCORING: accuracy\n",
      "DecisionTreeClassifier(class_weight=None, criterion='gini', max_depth=6,\n",
      "            max_features=0.7, max_leaf_nodes=None,\n",
      "            min_impurity_decrease=0.0, min_impurity_split=None,\n",
      "            min_samples_leaf=16, min_samples_split=2,\n",
      "            min_weight_fraction_leaf=0.0, presort=False, random_state=None,\n",
      "            splitter='best')\n",
      "accuracy: 76.53%\n",
      "precision: 48.44%\n",
      "recall: 61.59%\n",
      "\n",
      "\n",
      "Fitting 3 folds for each of 1190 candidates, totalling 3570 fits\n"
     ]
    },
    {
     "name": "stderr",
     "output_type": "stream",
     "text": [
      "[Parallel(n_jobs=1)]: Done 3570 out of 3570 | elapsed:   21.9s finished\n"
     ]
    },
    {
     "name": "stdout",
     "output_type": "stream",
     "text": [
      "SCORING: f1\n",
      "DecisionTreeClassifier(class_weight=None, criterion='entropy', max_depth=5,\n",
      "            max_features=0.9, max_leaf_nodes=None,\n",
      "            min_impurity_decrease=0.0, min_impurity_split=None,\n",
      "            min_samples_leaf=17, min_samples_split=2,\n",
      "            min_weight_fraction_leaf=0.0, presort=False, random_state=None,\n",
      "            splitter='best')\n",
      "accuracy: 78.33%\n",
      "precision: 42.19%\n",
      "recall: 70.43%\n",
      "\n",
      "\n",
      "Fitting 3 folds for each of 1190 candidates, totalling 3570 fits\n"
     ]
    },
    {
     "name": "stderr",
     "output_type": "stream",
     "text": [
      "[Parallel(n_jobs=1)]: Done 3570 out of 3570 | elapsed:   23.3s finished\n"
     ]
    },
    {
     "name": "stdout",
     "output_type": "stream",
     "text": [
      "SCORING: neg_log_loss\n",
      "DecisionTreeClassifier(class_weight=None, criterion='gini', max_depth=5,\n",
      "            max_features=0.9, max_leaf_nodes=None,\n",
      "            min_impurity_decrease=0.0, min_impurity_split=None,\n",
      "            min_samples_leaf=19, min_samples_split=2,\n",
      "            min_weight_fraction_leaf=0.0, presort=False, random_state=None,\n",
      "            splitter='best')\n",
      "accuracy: 77.73%\n",
      "precision: 45.31%\n",
      "recall: 66.41%\n",
      "\n",
      "\n",
      "Fitting 3 folds for each of 1190 candidates, totalling 3570 fits\n"
     ]
    },
    {
     "name": "stderr",
     "output_type": "stream",
     "text": [
      "[Parallel(n_jobs=1)]: Done 3570 out of 3570 | elapsed:   24.8s finished\n"
     ]
    },
    {
     "name": "stdout",
     "output_type": "stream",
     "text": [
      "SCORING: precision\n",
      "DecisionTreeClassifier(class_weight=None, criterion='gini', max_depth=5,\n",
      "            max_features=0.9, max_leaf_nodes=None,\n",
      "            min_impurity_decrease=0.0, min_impurity_split=None,\n",
      "            min_samples_leaf=4, min_samples_split=2,\n",
      "            min_weight_fraction_leaf=0.0, presort=False, random_state=None,\n",
      "            splitter='best')\n",
      "accuracy: 79.82%\n",
      "precision: 45.31%\n",
      "recall: 74.36%\n",
      "\n",
      "\n",
      "Fitting 3 folds for each of 1190 candidates, totalling 3570 fits\n"
     ]
    },
    {
     "name": "stderr",
     "output_type": "stream",
     "text": [
      "[Parallel(n_jobs=1)]: Done 3570 out of 3570 | elapsed:   22.6s finished\n"
     ]
    },
    {
     "name": "stdout",
     "output_type": "stream",
     "text": [
      "SCORING: r2\n",
      "DecisionTreeClassifier(class_weight=None, criterion='entropy', max_depth=5,\n",
      "            max_features=0.7, max_leaf_nodes=None,\n",
      "            min_impurity_decrease=0.0, min_impurity_split=None,\n",
      "            min_samples_leaf=14, min_samples_split=2,\n",
      "            min_weight_fraction_leaf=0.0, presort=False, random_state=None,\n",
      "            splitter='best')\n",
      "accuracy: 78.48%\n",
      "precision: 49.48%\n",
      "recall: 66.90%\n",
      "\n",
      "\n",
      "Fitting 3 folds for each of 1190 candidates, totalling 3570 fits\n"
     ]
    },
    {
     "name": "stderr",
     "output_type": "stream",
     "text": [
      "[Parallel(n_jobs=1)]: Done 3570 out of 3570 | elapsed:   24.3s finished\n"
     ]
    },
    {
     "name": "stdout",
     "output_type": "stream",
     "text": [
      "SCORING: recall\n",
      "DecisionTreeClassifier(class_weight=None, criterion='gini', max_depth=7,\n",
      "            max_features=0.9, max_leaf_nodes=None,\n",
      "            min_impurity_decrease=0.0, min_impurity_split=None,\n",
      "            min_samples_leaf=19, min_samples_split=2,\n",
      "            min_weight_fraction_leaf=0.0, presort=False, random_state=None,\n",
      "            splitter='best')\n",
      "accuracy: 78.62%\n",
      "precision: 52.60%\n",
      "recall: 66.01%\n",
      "\n",
      "\n",
      "Fitting 3 folds for each of 1190 candidates, totalling 3570 fits\n"
     ]
    },
    {
     "name": "stderr",
     "output_type": "stream",
     "text": [
      "[Parallel(n_jobs=1)]: Done 3570 out of 3570 | elapsed:   23.6s finished\n"
     ]
    },
    {
     "name": "stdout",
     "output_type": "stream",
     "text": [
      "SCORING: roc_auc\n",
      "DecisionTreeClassifier(class_weight=None, criterion='entropy', max_depth=6,\n",
      "            max_features=0.5, max_leaf_nodes=None,\n",
      "            min_impurity_decrease=0.0, min_impurity_split=None,\n",
      "            min_samples_leaf=13, min_samples_split=2,\n",
      "            min_weight_fraction_leaf=0.0, presort=False, random_state=None,\n",
      "            splitter='best')\n",
      "accuracy: 77.88%\n",
      "precision: 44.27%\n",
      "recall: 67.46%\n",
      "\n",
      "\n",
      "Fitting 3 folds for each of 1190 candidates, totalling 3570 fits\n",
      "SCORING: v_measure_score\n",
      "DecisionTreeClassifier(class_weight=None, criterion='entropy', max_depth=7,\n",
      "            max_features=1.0, max_leaf_nodes=None,\n",
      "            min_impurity_decrease=0.0, min_impurity_split=None,\n",
      "            min_samples_leaf=18, min_samples_split=2,\n",
      "            min_weight_fraction_leaf=0.0, presort=False, random_state=None,\n",
      "            splitter='best')\n",
      "accuracy: 78.03%\n",
      "precision: 52.08%\n",
      "recall: 64.52%\n",
      "\n",
      "\n"
     ]
    },
    {
     "name": "stderr",
     "output_type": "stream",
     "text": [
      "[Parallel(n_jobs=1)]: Done 3570 out of 3570 | elapsed:   27.2s finished\n"
     ]
    }
   ],
   "source": [
    "from sklearn.tree import DecisionTreeClassifier\n",
    "from sklearn.grid_search import GridSearchCV\n",
    "\n",
    "clf = DecisionTreeClassifier()\n",
    "\n",
    "params_grid = {'criterion': ['gini', 'entropy'],\n",
    "               'max_depth': list(range(5, 10)),\n",
    "               'max_features': [0.1, 0.2, 0.3, 0.5, 0.7, 0.9, 1.0],\n",
    "               'min_samples_leaf': list(range(3, 20))\n",
    "              }\n",
    "scorings = ['accuracy', \n",
    "            'f1', \n",
    "            'neg_log_loss', \n",
    "            'precision', \n",
    "            'r2', \n",
    "            'recall',\n",
    "            'roc_auc', \n",
    "            'v_measure_score']\n",
    "\n",
    "for i in scorings:\n",
    "    gs = GridSearchCV(clf, params_grid, scoring=i, verbose=1)\n",
    "    gs.fit(X_train, y_train)\n",
    "    clf = gs.best_estimator_\n",
    "    print('SCORING:', i)\n",
    "    print(clf)\n",
    "    print('accuracy: %.2f%%' % (100 * accuracy_score(clf.predict(X_test), y_test)))\n",
    "    print('precision: %.2f%%' % (100 * precision_score(clf.predict(X_test), y_test)))\n",
    "    print('recall: %.2f%%' % (100 * recall_score(clf.predict(X_test), y_test)))\n",
    "    print('\\n')"
   ]
  },
  {
   "cell_type": "code",
   "execution_count": 65,
   "metadata": {},
   "outputs": [
    {
     "data": {
      "text/plain": [
       "'\\nОтвет:\\n\\nSCORING: precision\\naccuracy: 79.82%\\nprecision: 45.31%\\nrecall: 74.36%\\n'"
      ]
     },
     "execution_count": 65,
     "metadata": {},
     "output_type": "execute_result"
    }
   ],
   "source": [
    "'''\n",
    "Ответ:\n",
    "\n",
    "SCORING: precision\n",
    "accuracy: 79.82%\n",
    "precision: 45.31%\n",
    "recall: 74.36%\n",
    "'''"
   ]
  },
  {
   "cell_type": "markdown",
   "metadata": {},
   "source": [
    "# Оцените качество полученного алгоритма. (\\*) Оказалось ли оно лучше ранее изученных методов классификации для этой задачи? Если да, то почему?"
   ]
  },
  {
   "cell_type": "code",
   "execution_count": 56,
   "metadata": {},
   "outputs": [
    {
     "name": "stdout",
     "output_type": "stream",
     "text": [
      "Fitting 3 folds for each of 1190 candidates, totalling 3570 fits\n"
     ]
    },
    {
     "name": "stderr",
     "output_type": "stream",
     "text": [
      "[Parallel(n_jobs=1)]: Done 3570 out of 3570 | elapsed:   21.5s finished\n"
     ]
    },
    {
     "name": "stdout",
     "output_type": "stream",
     "text": [
      "DecisionTreeClassifier(class_weight=None, criterion='entropy', max_depth=6,\n",
      "            max_features=1.0, max_leaf_nodes=None,\n",
      "            min_impurity_decrease=0.0, min_impurity_split=None,\n",
      "            min_samples_leaf=19, min_samples_split=2,\n",
      "            min_weight_fraction_leaf=0.0, presort=False, random_state=None,\n",
      "            splitter='best')\n",
      "accuracy: 77.88%\n",
      "precision: 53.12%\n",
      "recall: 63.75%\n",
      "\n",
      "\n",
      "Fitting 3 folds for each of 45 candidates, totalling 135 fits\n"
     ]
    },
    {
     "name": "stderr",
     "output_type": "stream",
     "text": [
      "[Parallel(n_jobs=1)]: Done 135 out of 135 | elapsed:    2.2s finished\n"
     ]
    },
    {
     "name": "stdout",
     "output_type": "stream",
     "text": [
      "LogisticRegression(C=1.0, class_weight=None, dual=False, fit_intercept=True,\n",
      "          intercept_scaling=1, max_iter=8000, multi_class='ovr', n_jobs=1,\n",
      "          penalty='l2', random_state=None, solver='liblinear', tol=0.0001,\n",
      "          verbose=0, warm_start=False)\n",
      "accuracy: 71.15%\n",
      "precision: 0.52%\n",
      "recall: 33.33%\n",
      "\n",
      "\n",
      "Fitting 3 folds for each of 45 candidates, totalling 135 fits\n"
     ]
    },
    {
     "name": "stderr",
     "output_type": "stream",
     "text": [
      "[Parallel(n_jobs=1)]: Done 135 out of 135 | elapsed:  1.6min finished\n"
     ]
    },
    {
     "name": "stdout",
     "output_type": "stream",
     "text": [
      "LinearSVC(C=10.0, class_weight=None, dual=True, fit_intercept=True,\n",
      "     intercept_scaling=1, loss='squared_hinge', max_iter=5000,\n",
      "     multi_class='ovr', penalty='l2', random_state=None, tol=0.0001,\n",
      "     verbose=0)\n",
      "accuracy: 68.76%\n",
      "precision: 6.25%\n",
      "recall: 29.27%\n",
      "\n",
      "\n"
     ]
    }
   ],
   "source": [
    "from sklearn.tree import DecisionTreeClassifier\n",
    "from sklearn.linear_model import LogisticRegression\n",
    "from sklearn.svm import LinearSVC\n",
    "\n",
    "from sklearn.grid_search import GridSearchCV\n",
    "\n",
    "clfs = [DecisionTreeClassifier(), LogisticRegression(), LinearSVC()]\n",
    "\n",
    "params_grid = [\n",
    "                {\n",
    "                    'criterion': ['gini', 'entropy'],\n",
    "                    'max_depth': list(range(5, 10)),\n",
    "                    'max_features': [0.1, 0.2, 0.3, 0.5, 0.7, 0.9, 1.0],\n",
    "                    'min_samples_leaf': list(range(3, 20))\n",
    "                },\n",
    "                {\n",
    "                    'penalty': ['l2'], \n",
    "                    'C': [0.1, 0.5, 1.0, 5.0, 10.0],\n",
    "                    'max_iter': list(range(1000, 10000, 1000))\n",
    "                },\n",
    "                {\n",
    "                    'penalty': ['l2'], \n",
    "                    'C': [0.1, 0.5, 1.0, 5.0, 10.0],\n",
    "                    'max_iter': list(range(1000, 10000, 1000))\n",
    "                },\n",
    "]\n",
    "\n",
    "for i in range(len(clfs)):\n",
    "    gs = GridSearchCV(clfs[i], params_grid[i], scoring='roc_auc', verbose=1)\n",
    "    gs.fit(X_train, y_train)\n",
    "    clfs[i] = gs.best_estimator_\n",
    "    print(clfs[i])\n",
    "    print('accuracy: %.2f%%' % (100 * accuracy_score(clfs[i].predict(X_test), y_test)))\n",
    "    print('precision: %.2f%%' % (100 * precision_score(clfs[i].predict(X_test), y_test)))\n",
    "    print('recall: %.2f%%' % (100 * recall_score(clfs[i].predict(X_test), y_test)))\n",
    "    print('\\n')"
   ]
  },
  {
   "cell_type": "markdown",
   "metadata": {},
   "source": [
    "*Ответ*: Дерево отработало лучше на этом датасете. \n",
    "Так как линейные модели дают запредельно низкий precision. \n",
    "Очень много ложных позитивов: ложных отнесений к классу(очень часто относит к нерелевантному классу)\n",
    "Это понятно по recall-метрике: которая выше чем precision\n",
    "Возможно классы перемешаны и нет возможности провести четкую линию.\n",
    "Деревья же строят более точные разделяющие квадраты.\n",
    "Возможно для линейных моделей можно как-то трансформировать датасет для улучшения качества???"
   ]
  },
  {
   "cell_type": "markdown",
   "metadata": {},
   "source": [
    "# Посмотрите, как меняется качество на трейне и тесте по мере роста максимальной глубины дерева. Наблюдаете ли Вы переобучение? Что будет, если не ограничить дерево в своих размерах (max_depth=None)?"
   ]
  },
  {
   "cell_type": "code",
   "execution_count": 80,
   "metadata": {},
   "outputs": [
    {
     "name": "stdout",
     "output_type": "stream",
     "text": [
      "DEPTH: None\n",
      "accuracy: 71.60%\n",
      "precision: 48.96%\n",
      "recall: 50.54%\n",
      "\n",
      "\n",
      "DEPTH: 1\n",
      "accuracy: 72.65%\n",
      "precision: 34.90%\n",
      "recall: 53.60%\n",
      "\n",
      "\n",
      "DEPTH: 4\n",
      "accuracy: 77.28%\n",
      "precision: 44.79%\n",
      "recall: 65.15%\n",
      "\n",
      "\n",
      "DEPTH: 5\n",
      "accuracy: 78.18%\n",
      "precision: 40.62%\n",
      "recall: 70.91%\n",
      "\n",
      "\n",
      "DEPTH: 6\n",
      "accuracy: 78.03%\n",
      "precision: 48.96%\n",
      "recall: 65.73%\n",
      "\n",
      "\n",
      "DEPTH: 10\n",
      "accuracy: 74.14%\n",
      "precision: 42.19%\n",
      "recall: 56.64%\n",
      "\n",
      "\n",
      "DEPTH: 20\n",
      "accuracy: 72.20%\n",
      "precision: 51.56%\n",
      "recall: 51.56%\n",
      "\n",
      "\n",
      "DEPTH: 25\n",
      "accuracy: 72.05%\n",
      "precision: 48.96%\n",
      "recall: 51.37%\n",
      "\n",
      "\n",
      "DEPTH: 50\n",
      "accuracy: 72.05%\n",
      "precision: 50.00%\n",
      "recall: 51.34%\n",
      "\n",
      "\n",
      "DEPTH: 75\n",
      "accuracy: 72.50%\n",
      "precision: 51.04%\n",
      "recall: 52.13%\n",
      "\n",
      "\n",
      "DEPTH: 100\n",
      "accuracy: 73.69%\n",
      "precision: 51.04%\n",
      "recall: 54.44%\n",
      "\n",
      "\n"
     ]
    }
   ],
   "source": [
    "depth = [None, 1, 4, 5, 6, 10, 20, 25, 50, 75, 100]\n",
    "for i in depth:\n",
    "    clf = DecisionTreeClassifier(max_depth=i)\n",
    "    clf.fit(X_train, y_train)\n",
    "    print('DEPTH:', i)\n",
    "    print('accuracy: %.2f%%' % (100 * accuracy_score(clf.predict(X_test), y_test)))\n",
    "    print('precision: %.2f%%' % (100 * precision_score(clf.predict(X_test), y_test)))\n",
    "    print('recall: %.2f%%' % (100 * recall_score(clf.predict(X_test), y_test)))\n",
    "    print('\\n')"
   ]
  },
  {
   "cell_type": "markdown",
   "metadata": {},
   "source": [
    "# Уменьшиться ли переобучение, если увеличить параметры min_samples_split и/или min_samples_leaf (см. Примечание 2)? (*) Какие ещё гиперпараметры могут помочь в борьбе с переобучением?¶"
   ]
  },
  {
   "cell_type": "code",
   "execution_count": 83,
   "metadata": {},
   "outputs": [
    {
     "name": "stdout",
     "output_type": "stream",
     "text": [
      "PARAMS None 2 1\n",
      "accuracy: 72.05%\n",
      "precision: 50.00%\n",
      "recall: 51.34%\n",
      "\n",
      "\n",
      "PARAMS None 2 2\n",
      "accuracy: 72.35%\n",
      "precision: 46.88%\n",
      "recall: 52.02%\n",
      "\n",
      "\n",
      "PARAMS None 2 3\n",
      "accuracy: 74.29%\n",
      "precision: 52.60%\n",
      "recall: 55.49%\n",
      "\n",
      "\n",
      "PARAMS None 2 4\n",
      "accuracy: 74.14%\n",
      "precision: 47.40%\n",
      "recall: 55.83%\n",
      "\n",
      "\n",
      "PARAMS None 3 1\n",
      "accuracy: 72.94%\n",
      "precision: 50.52%\n",
      "recall: 53.01%\n",
      "\n",
      "\n",
      "PARAMS None 3 2\n",
      "accuracy: 72.35%\n",
      "precision: 47.40%\n",
      "recall: 52.00%\n",
      "\n",
      "\n",
      "PARAMS None 3 3\n",
      "accuracy: 72.94%\n",
      "precision: 52.08%\n",
      "recall: 52.91%\n",
      "\n",
      "\n",
      "PARAMS None 3 4\n",
      "accuracy: 74.74%\n",
      "precision: 48.44%\n",
      "recall: 57.06%\n",
      "\n",
      "\n",
      "PARAMS None 4 1\n",
      "accuracy: 72.94%\n",
      "precision: 50.52%\n",
      "recall: 53.01%\n",
      "\n",
      "\n",
      "PARAMS None 4 2\n",
      "accuracy: 73.09%\n",
      "precision: 48.96%\n",
      "recall: 53.41%\n",
      "\n",
      "\n",
      "PARAMS None 4 3\n",
      "accuracy: 74.29%\n",
      "precision: 54.69%\n",
      "recall: 55.26%\n",
      "\n",
      "\n",
      "PARAMS None 4 4\n",
      "accuracy: 75.19%\n",
      "precision: 51.04%\n",
      "recall: 57.65%\n",
      "\n",
      "\n",
      "PARAMS 1 2 1\n",
      "accuracy: 72.65%\n",
      "precision: 34.90%\n",
      "recall: 53.60%\n",
      "\n",
      "\n",
      "PARAMS 1 2 2\n",
      "accuracy: 72.65%\n",
      "precision: 34.90%\n",
      "recall: 53.60%\n",
      "\n",
      "\n",
      "PARAMS 1 2 3\n",
      "accuracy: 72.65%\n",
      "precision: 34.90%\n",
      "recall: 53.60%\n",
      "\n",
      "\n",
      "PARAMS 1 2 4\n",
      "accuracy: 72.65%\n",
      "precision: 34.90%\n",
      "recall: 53.60%\n",
      "\n",
      "\n",
      "PARAMS 1 3 1\n",
      "accuracy: 72.65%\n",
      "precision: 34.90%\n",
      "recall: 53.60%\n",
      "\n",
      "\n",
      "PARAMS 1 3 2\n",
      "accuracy: 72.65%\n",
      "precision: 34.90%\n",
      "recall: 53.60%\n",
      "\n",
      "\n",
      "PARAMS 1 3 3\n",
      "accuracy: 72.65%\n",
      "precision: 34.90%\n",
      "recall: 53.60%\n",
      "\n",
      "\n",
      "PARAMS 1 3 4\n",
      "accuracy: 72.65%\n",
      "precision: 34.90%\n",
      "recall: 53.60%\n",
      "\n",
      "\n",
      "PARAMS 1 4 1\n",
      "accuracy: 72.65%\n",
      "precision: 34.90%\n",
      "recall: 53.60%\n",
      "\n",
      "\n",
      "PARAMS 1 4 2\n",
      "accuracy: 72.65%\n",
      "precision: 34.90%\n",
      "recall: 53.60%\n",
      "\n",
      "\n",
      "PARAMS 1 4 3\n",
      "accuracy: 72.65%\n",
      "precision: 34.90%\n",
      "recall: 53.60%\n",
      "\n",
      "\n",
      "PARAMS 1 4 4\n",
      "accuracy: 72.65%\n",
      "precision: 34.90%\n",
      "recall: 53.60%\n",
      "\n",
      "\n",
      "PARAMS 4 2 1\n",
      "accuracy: 77.28%\n",
      "precision: 44.79%\n",
      "recall: 65.15%\n",
      "\n",
      "\n",
      "PARAMS 4 2 2\n",
      "accuracy: 77.28%\n",
      "precision: 44.79%\n",
      "recall: 65.15%\n",
      "\n",
      "\n",
      "PARAMS 4 2 3\n",
      "accuracy: 77.28%\n",
      "precision: 44.79%\n",
      "recall: 65.15%\n",
      "\n",
      "\n",
      "PARAMS 4 2 4\n",
      "accuracy: 77.28%\n",
      "precision: 44.79%\n",
      "recall: 65.15%\n",
      "\n",
      "\n",
      "PARAMS 4 3 1\n",
      "accuracy: 77.28%\n",
      "precision: 44.79%\n",
      "recall: 65.15%\n",
      "\n",
      "\n",
      "PARAMS 4 3 2\n",
      "accuracy: 77.28%\n",
      "precision: 44.79%\n",
      "recall: 65.15%\n",
      "\n",
      "\n",
      "PARAMS 4 3 3\n",
      "accuracy: 77.28%\n",
      "precision: 44.79%\n",
      "recall: 65.15%\n",
      "\n",
      "\n",
      "PARAMS 4 3 4\n",
      "accuracy: 77.28%\n",
      "precision: 44.79%\n",
      "recall: 65.15%\n",
      "\n",
      "\n",
      "PARAMS 4 4 1\n",
      "accuracy: 77.28%\n",
      "precision: 44.79%\n",
      "recall: 65.15%\n",
      "\n",
      "\n",
      "PARAMS 4 4 2\n",
      "accuracy: 77.28%\n",
      "precision: 44.79%\n",
      "recall: 65.15%\n",
      "\n",
      "\n",
      "PARAMS 4 4 3\n",
      "accuracy: 77.28%\n",
      "precision: 44.79%\n",
      "recall: 65.15%\n",
      "\n",
      "\n",
      "PARAMS 4 4 4\n",
      "accuracy: 77.28%\n",
      "precision: 44.79%\n",
      "recall: 65.15%\n",
      "\n",
      "\n",
      "PARAMS 5 2 1\n",
      "accuracy: 78.18%\n",
      "precision: 40.62%\n",
      "recall: 70.91%\n",
      "\n",
      "\n",
      "PARAMS 5 2 2\n",
      "accuracy: 78.18%\n",
      "precision: 40.62%\n",
      "recall: 70.91%\n",
      "\n",
      "\n",
      "PARAMS 5 2 3\n",
      "accuracy: 78.33%\n",
      "precision: 40.62%\n",
      "recall: 71.56%\n",
      "\n",
      "\n",
      "PARAMS 5 2 4\n",
      "accuracy: 78.18%\n",
      "precision: 41.15%\n",
      "recall: 70.54%\n",
      "\n",
      "\n",
      "PARAMS 5 3 1\n",
      "accuracy: 78.18%\n",
      "precision: 40.62%\n",
      "recall: 70.91%\n",
      "\n",
      "\n",
      "PARAMS 5 3 2\n",
      "accuracy: 78.18%\n",
      "precision: 40.62%\n",
      "recall: 70.91%\n",
      "\n",
      "\n",
      "PARAMS 5 3 3\n",
      "accuracy: 78.18%\n",
      "precision: 40.62%\n",
      "recall: 70.91%\n",
      "\n",
      "\n",
      "PARAMS 5 3 4\n",
      "accuracy: 78.18%\n",
      "precision: 41.15%\n",
      "recall: 70.54%\n",
      "\n",
      "\n",
      "PARAMS 5 4 1\n",
      "accuracy: 78.18%\n",
      "precision: 40.62%\n",
      "recall: 70.91%\n",
      "\n",
      "\n",
      "PARAMS 5 4 2\n",
      "accuracy: 78.18%\n",
      "precision: 40.62%\n",
      "recall: 70.91%\n",
      "\n",
      "\n",
      "PARAMS 5 4 3\n",
      "accuracy: 78.18%\n",
      "precision: 40.62%\n",
      "recall: 70.91%\n",
      "\n",
      "\n",
      "PARAMS 5 4 4\n",
      "accuracy: 78.48%\n",
      "precision: 41.15%\n",
      "recall: 71.82%\n",
      "\n",
      "\n",
      "PARAMS 6 2 1\n",
      "accuracy: 78.18%\n",
      "precision: 48.96%\n",
      "recall: 66.20%\n",
      "\n",
      "\n",
      "PARAMS 6 2 2\n",
      "accuracy: 78.18%\n",
      "precision: 48.96%\n",
      "recall: 66.20%\n",
      "\n",
      "\n",
      "PARAMS 6 2 3\n",
      "accuracy: 77.58%\n",
      "precision: 48.96%\n",
      "recall: 64.38%\n",
      "\n",
      "\n",
      "PARAMS 6 2 4\n",
      "accuracy: 77.43%\n",
      "precision: 46.35%\n",
      "recall: 64.96%\n",
      "\n",
      "\n",
      "PARAMS 6 3 1\n",
      "accuracy: 78.18%\n",
      "precision: 48.96%\n",
      "recall: 66.20%\n",
      "\n",
      "\n",
      "PARAMS 6 3 2\n",
      "accuracy: 78.18%\n",
      "precision: 48.96%\n",
      "recall: 66.20%\n",
      "\n",
      "\n",
      "PARAMS 6 3 3\n",
      "accuracy: 77.58%\n",
      "precision: 48.96%\n",
      "recall: 64.38%\n",
      "\n",
      "\n",
      "PARAMS 6 3 4\n",
      "accuracy: 77.43%\n",
      "precision: 46.35%\n",
      "recall: 64.96%\n",
      "\n",
      "\n",
      "PARAMS 6 4 1\n",
      "accuracy: 77.88%\n",
      "precision: 48.96%\n",
      "recall: 65.28%\n",
      "\n",
      "\n",
      "PARAMS 6 4 2\n",
      "accuracy: 78.18%\n",
      "precision: 48.96%\n",
      "recall: 66.20%\n",
      "\n",
      "\n",
      "PARAMS 6 4 3\n",
      "accuracy: 77.88%\n",
      "precision: 48.96%\n",
      "recall: 65.28%\n",
      "\n",
      "\n",
      "PARAMS 6 4 4\n",
      "accuracy: 77.73%\n",
      "precision: 46.35%\n",
      "recall: 65.93%\n",
      "\n",
      "\n",
      "PARAMS 10 2 1\n",
      "accuracy: 74.29%\n",
      "precision: 44.79%\n",
      "recall: 56.58%\n",
      "\n",
      "\n",
      "PARAMS 10 2 2\n",
      "accuracy: 75.04%\n",
      "precision: 49.48%\n",
      "recall: 57.58%\n",
      "\n",
      "\n",
      "PARAMS 10 2 3\n",
      "accuracy: 75.04%\n",
      "precision: 51.04%\n",
      "recall: 57.31%\n",
      "\n",
      "\n",
      "PARAMS 10 2 4\n",
      "accuracy: 74.59%\n",
      "precision: 44.79%\n",
      "recall: 57.33%\n",
      "\n",
      "\n",
      "PARAMS 10 3 1\n",
      "accuracy: 74.89%\n",
      "precision: 46.35%\n",
      "recall: 57.79%\n",
      "\n",
      "\n",
      "PARAMS 10 3 2\n",
      "accuracy: 74.44%\n",
      "precision: 46.35%\n",
      "recall: 56.69%\n",
      "\n",
      "\n",
      "PARAMS 10 3 3\n",
      "accuracy: 74.74%\n",
      "precision: 50.52%\n",
      "recall: 56.73%\n",
      "\n",
      "\n",
      "PARAMS 10 3 4\n",
      "accuracy: 74.29%\n",
      "precision: 45.31%\n",
      "recall: 56.49%\n",
      "\n",
      "\n",
      "PARAMS 10 4 1\n",
      "accuracy: 74.29%\n",
      "precision: 45.83%\n",
      "recall: 56.41%\n",
      "\n",
      "\n",
      "PARAMS 10 4 2\n",
      "accuracy: 74.74%\n",
      "precision: 46.35%\n",
      "recall: 57.42%\n",
      "\n",
      "\n",
      "PARAMS 10 4 3\n",
      "accuracy: 73.54%\n",
      "precision: 48.96%\n",
      "recall: 54.34%\n",
      "\n",
      "\n",
      "PARAMS 10 4 4\n",
      "accuracy: 75.19%\n",
      "precision: 46.88%\n",
      "recall: 58.44%\n",
      "\n",
      "\n"
     ]
    }
   ],
   "source": [
    "depth = [None, 1, 4, 5, 6, 10]\n",
    "min_samples_splits = list(range(2, 5))\n",
    "min_samples_leafs = list(range(1, 5))\n",
    "\n",
    "for i in depth:\n",
    "    for s in min_samples_splits:\n",
    "        for l in min_samples_leafs:\n",
    "            clf = DecisionTreeClassifier(max_depth=i, min_samples_split=s, min_samples_leaf=l)\n",
    "            clf.fit(X_train, y_train)\n",
    "            print('PARAMS', i, s, l)\n",
    "            print('accuracy: %.2f%%' % (100 * accuracy_score(clf.predict(X_test), y_test)))\n",
    "            print('precision: %.2f%%' % (100 * precision_score(clf.predict(X_test), y_test)))\n",
    "            print('recall: %.2f%%' % (100 * recall_score(clf.predict(X_test), y_test)))\n",
    "            print('\\n')"
   ]
  },
  {
   "cell_type": "code",
   "execution_count": null,
   "metadata": {
    "collapsed": true
   },
   "outputs": [],
   "source": []
  }
 ],
 "metadata": {
  "kernelspec": {
   "display_name": "Python 3",
   "language": "python",
   "name": "python3"
  },
  "language_info": {
   "codemirror_mode": {
    "name": "ipython",
    "version": 3
   },
   "file_extension": ".py",
   "mimetype": "text/x-python",
   "name": "python",
   "nbconvert_exporter": "python",
   "pygments_lexer": "ipython3",
   "version": "3.6.3"
  }
 },
 "nbformat": 4,
 "nbformat_minor": 1
}
