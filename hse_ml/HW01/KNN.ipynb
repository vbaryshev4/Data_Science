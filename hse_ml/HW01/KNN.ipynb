{
 "cells": [
  {
   "cell_type": "markdown",
   "metadata": {},
   "source": [
    "# Занятие 1 (10.11.2018). Введение в машинное обучение.  Метод ближайших соседей"
   ]
  },
  {
   "cell_type": "markdown",
   "metadata": {},
   "source": [
    "## Формулировка задачи"
   ]
  },
  {
   "cell_type": "markdown",
   "metadata": {},
   "source": [
    "**Дано**: y=f(x)\n",
    "\n",
    "**Задача**: найти f по набору точек"
   ]
  },
  {
   "cell_type": "markdown",
   "metadata": {},
   "source": [
    "## Примеры\n",
    "\n",
    "**Пример 1**:\n",
    "\n",
    "| X | Y |\n",
    "|---|:-:|\n",
    "| 1 | 2 |\n",
    "| 2 | 4 |\n",
    "| 3 | 6 |\n",
    "| 4 | ? |\n",
    "\n",
    "\n",
    "Набор точек {X,Y} называется *обучающей выборкой*. \n",
    "\n",
    "Результат обучения алгоритма - функция $f: Y\\approx f(X)$\n",
    "\n",
    "$Y$ - *целевая переменная*\n",
    "$f$ - *алгоритм*\n",
    "\n",
    "Реальный пример: предсказание роста Y по весу X\n",
    "\n",
    "**Пример 2**:\n",
    "\n",
    "Зачастую функция $f$ зависит от нескольких аргументов. Например, предсказание объёмов продаж магазина по набору его критериев\n",
    "\n",
    "![](http://eos.ibi.spb.ru/umk/15_2/5/pict/t1_1.gif)\n",
    "\n",
    "Такая таблица называется *матрицей объект-признак*. Каждая строка соответствует объекту $X$ (конкретной точке), каждый столбец - признаку (конкретному аргументу функции $f$, конкретной координате).\n",
    "\n",
    "**Пример 3**:\n",
    "\n",
    "Линейная регрессия. $y=ax+b$\n",
    "\n",
    "![](http://www.machinelearning.ru/wiki/images/8/89/Regression_Analysis_Linear.gif)\n",
    "\n",
    "**Пример 4**:\n",
    "\n",
    "Иногда функции $f$ более сложные и непредставимые в явном виде. Пример: финансы \n",
    "\n",
    "![](https://www.cse.unr.edu/~harryt/CS773C/Project/step1.png)\n",
    "\n",
    "**Пример 5**:\n",
    "\n",
    "Задача классификации. Y = {1,...,K}, где K-количество классов\n",
    "\n",
    "![](http://static1.tothenew.com/blog/wp-content/uploads/2016/06/image.png)"
   ]
  },
  {
   "cell_type": "markdown",
   "metadata": {},
   "source": [
    "## Типы задач машинного обучения\n",
    "\n",
    "\n",
    "| Дан Y на обучении          | Область значений Y |            Тип задачи            | Примеры                  |\n",
    "|----------------------------|--------------------|:--------------------------------:|--------------------------|\n",
    "| Да (обучение с учителем)   | Дискретная         |           Классификация          | KNN, Logistic Regression |\n",
    "| Да (обучение с учителем)   | Непрерывная        |             Регрессия            | KNN, Linear Regression   |\n",
    "| Нет (обучение без учителя) | Дискретная         | Кластеризация                    | KMeans                   |\n",
    "| Нет (обучение без учителя) | Непрерывная        | Экстремальное сжатие размерности | PCA(n=1)                 |"
   ]
  },
  {
   "cell_type": "markdown",
   "metadata": {},
   "source": [
    "## Задача классификации. Метод ближайших соседей (K nearest neighbours, KNN)\n",
    "**Дано:** Обучающая выборка $\\{X_{train},Y_{train}\\}$, $Y \\in\\{-1,+1\\}$ (бинарная классификация). Найти: $Y_{test}$ для $X_{test}$.\n",
    "\n",
    "**Идея:** делать предсказание на основе меток ближайших соседей\n",
    "\n",
    "![](https://p3.pstatp.com/large/1cc60004b0d2ce596887)\n",
    "\n",
    "\n",
    "**Формула:**\n",
    "$f(x, X_{train}) = sign(\\Sigma_{x_i\\in X_{train}}w(x_i,x)y_i))$\n",
    "\n",
    "* $w(x_i,x)$ - *важность объекта* $x_i$ при классификации нового объекта $x$\n",
    "* $y_i\\in\\{-1,+1\\}$ - *метка* класса для объекта $x_i$\n",
    "\n",
    "\n",
    "*Вопрос:* какую $w(x_i,x)$ взять?\n",
    "\n",
    "*Идея 1:* $w(x_i,x)\\sim\\rho(x_i,x)^{-1}$, где $\\rho(x_i,x)$ - расстояние между объектами $x_i$ и $x$\n",
    "\n",
    "*Идея 2:* $w(x_i,x)=K(\\rho(x_i,x))$, где $K(\\cdot)$ - ядро (потенциал)\n",
    "\n",
    "*Идея 3:* $w(x_i,x)=\\gamma_iK(\\rho(x_i,x))$, где $\\gamma_i$ - вес $x_i$ (заряд)\n",
    "\n",
    "\n",
    "<center>\n",
    "    <b>Важные параметры (SkLearn):</b> \n",
    "</center>\n",
    "\n",
    "| Параметр (SkLearn) | Параметр (лекция) | Описание                       |\n",
    "|--------------------|-------------------|--------------------------------|\n",
    "| n_neighbors       | K                 | Число соседей                  |\n",
    "| weights            | $\\gamma$          | \"заряды\", веса соседей         |\n",
    "| metric             | K + $\\rho$        | \"Потенциал\", ядро + расстояние |\n",
    "\n",
    "\n",
    "\n",
    "![](https://kevinzakka.github.io/assets/1nearestneigh.png)\n",
    "![](https://kevinzakka.github.io/assets/20nearestneigh.png)"
   ]
  },
  {
   "cell_type": "markdown",
   "metadata": {},
   "source": [
    "# Практика"
   ]
  },
  {
   "cell_type": "markdown",
   "metadata": {},
   "source": [
    "## 1.1. Загрузка данных\n",
    "Давайте загрузим данные Ириса Фишера\n",
    "![](https://kevinzakka.github.io/assets/flower.jpg)"
   ]
  },
  {
   "cell_type": "code",
   "execution_count": 1,
   "metadata": {},
   "outputs": [
    {
     "name": "stderr",
     "output_type": "stream",
     "text": [
      "/anaconda3/lib/python3.6/importlib/_bootstrap.py:219: RuntimeWarning: numpy.dtype size changed, may indicate binary incompatibility. Expected 96, got 88\n",
      "  return f(*args, **kwds)\n",
      "/anaconda3/lib/python3.6/importlib/_bootstrap.py:219: RuntimeWarning: numpy.dtype size changed, may indicate binary incompatibility. Expected 96, got 88\n",
      "  return f(*args, **kwds)\n",
      "/anaconda3/lib/python3.6/importlib/_bootstrap.py:219: RuntimeWarning: numpy.dtype size changed, may indicate binary incompatibility. Expected 96, got 88\n",
      "  return f(*args, **kwds)\n"
     ]
    }
   ],
   "source": [
    "# !pip install seaborn \n",
    "# если seaborn не импортируется, установите его этой командой (либо без \"!\" в командной строке, либо)\n",
    "import seaborn as sns # библиотека для визуализации\n",
    "df = sns.load_dataset(\"iris\") # в seaborn и sklearn iris dataset идёт из коробки"
   ]
  },
  {
   "cell_type": "markdown",
   "metadata": {},
   "source": [
    "## 1.2. Визуализация\n",
    "Seaborn - отличный инструмент визуализации с большой [галереей](http://seaborn.pydata.org/examples/index.html) примеров"
   ]
  },
  {
   "cell_type": "code",
   "execution_count": 2,
   "metadata": {},
   "outputs": [
    {
     "data": {
      "text/html": [
       "<div>\n",
       "<style>\n",
       "    .dataframe thead tr:only-child th {\n",
       "        text-align: right;\n",
       "    }\n",
       "\n",
       "    .dataframe thead th {\n",
       "        text-align: left;\n",
       "    }\n",
       "\n",
       "    .dataframe tbody tr th {\n",
       "        vertical-align: top;\n",
       "    }\n",
       "</style>\n",
       "<table border=\"1\" class=\"dataframe\">\n",
       "  <thead>\n",
       "    <tr style=\"text-align: right;\">\n",
       "      <th></th>\n",
       "      <th>sepal_length</th>\n",
       "      <th>sepal_width</th>\n",
       "      <th>petal_length</th>\n",
       "      <th>petal_width</th>\n",
       "      <th>species</th>\n",
       "    </tr>\n",
       "  </thead>\n",
       "  <tbody>\n",
       "    <tr>\n",
       "      <th>0</th>\n",
       "      <td>5.1</td>\n",
       "      <td>3.5</td>\n",
       "      <td>1.4</td>\n",
       "      <td>0.2</td>\n",
       "      <td>setosa</td>\n",
       "    </tr>\n",
       "    <tr>\n",
       "      <th>1</th>\n",
       "      <td>4.9</td>\n",
       "      <td>3.0</td>\n",
       "      <td>1.4</td>\n",
       "      <td>0.2</td>\n",
       "      <td>setosa</td>\n",
       "    </tr>\n",
       "    <tr>\n",
       "      <th>2</th>\n",
       "      <td>4.7</td>\n",
       "      <td>3.2</td>\n",
       "      <td>1.3</td>\n",
       "      <td>0.2</td>\n",
       "      <td>setosa</td>\n",
       "    </tr>\n",
       "    <tr>\n",
       "      <th>3</th>\n",
       "      <td>4.6</td>\n",
       "      <td>3.1</td>\n",
       "      <td>1.5</td>\n",
       "      <td>0.2</td>\n",
       "      <td>setosa</td>\n",
       "    </tr>\n",
       "    <tr>\n",
       "      <th>4</th>\n",
       "      <td>5.0</td>\n",
       "      <td>3.6</td>\n",
       "      <td>1.4</td>\n",
       "      <td>0.2</td>\n",
       "      <td>setosa</td>\n",
       "    </tr>\n",
       "  </tbody>\n",
       "</table>\n",
       "</div>"
      ],
      "text/plain": [
       "   sepal_length  sepal_width  petal_length  petal_width species\n",
       "0           5.1          3.5           1.4          0.2  setosa\n",
       "1           4.9          3.0           1.4          0.2  setosa\n",
       "2           4.7          3.2           1.3          0.2  setosa\n",
       "3           4.6          3.1           1.5          0.2  setosa\n",
       "4           5.0          3.6           1.4          0.2  setosa"
      ]
     },
     "execution_count": 2,
     "metadata": {},
     "output_type": "execute_result"
    }
   ],
   "source": [
    "# df.head(100) # первые 100 строк\n",
    "df.head() # выведем первые 5 строк таблицы"
   ]
  },
  {
   "cell_type": "code",
   "execution_count": 11,
   "metadata": {},
   "outputs": [
    {
     "data": {
      "text/plain": [
       "versicolor    50\n",
       "setosa        50\n",
       "virginica     50\n",
       "Name: species, dtype: int64"
      ]
     },
     "execution_count": 11,
     "metadata": {},
     "output_type": "execute_result"
    }
   ],
   "source": [
    "df['species'].value_counts()"
   ]
  },
  {
   "cell_type": "code",
   "execution_count": 12,
   "metadata": {},
   "outputs": [
    {
     "data": {
      "text/plain": [
       "<seaborn.axisgrid.PairGrid at 0x11b70c0f0>"
      ]
     },
     "execution_count": 12,
     "metadata": {},
     "output_type": "execute_result"
    },
    {
     "data": {
      "image/png": "[encoded data removed]",
      "text/plain": [
       "<matplotlib.figure.Figure at 0x11b7134e0>"
      ]
     },
     "metadata": {},
     "output_type": "display_data"
    }
   ],
   "source": [
    "%matplotlib inline \n",
    "# %matplotlib inline - директива jupyter, которая позволяет рисовать графики в jupyter notebook\n",
    "sns.pairplot(df, 'species') # диагональные элементы - гистограммы"
   ]
  },
  {
   "cell_type": "markdown",
   "metadata": {},
   "source": [
    "## 1.3. Обучение модели\n",
    "Давайте обучим модель и посмотрим на её качество. Запустите код несколько раз!"
   ]
  },
  {
   "cell_type": "code",
   "execution_count": 13,
   "metadata": {
    "collapsed": true
   },
   "outputs": [],
   "source": [
    "X = df.drop('species', 1) # возьмём в качестве объектов и признаков всё кроме колонки \"species\" (вид, разновидность цвета). \n",
    "# Метод .drop() выкидывает колонку \"species\". Если бы было .drop('species', 0), то выкинулась бы строка \"species\" \n",
    "y = df['species'] # в качестве целевой переменной возьмём вид цветка (\"species\")"
   ]
  },
  {
   "cell_type": "code",
   "execution_count": 14,
   "metadata": {},
   "outputs": [
    {
     "name": "stderr",
     "output_type": "stream",
     "text": [
      "/anaconda3/lib/python3.6/site-packages/sklearn/model_selection/_split.py:2026: FutureWarning: From version 0.21, test_size will always complement train_size unless both are specified.\n",
      "  FutureWarning)\n"
     ]
    }
   ],
   "source": [
    "from sklearn.neighbors import KNeighborsClassifier\n",
    "from sklearn.model_selection import train_test_split\n",
    "\n",
    "clf = KNeighborsClassifier() # инициализируем классификатор с начальными параметрами. Сейчас классификатор не обучен\n",
    "X_train, X_test, y_train, y_test = train_test_split(X, y, train_size=0.8) # разобьём выборку на обучающую и на тестовую (80% данных на обучение)\n",
    "clf.fit(X_train, y_train) # обучим классификатор, указав ему, какие объекты (X) какие метки классов (y) имеют. Иными словами, какое значение y соответствует каждому объекту из X\n",
    "y_pred = clf.predict(X_test) # получим предсказания обученного классификатора для тестовой выборки"
   ]
  },
  {
   "cell_type": "markdown",
   "metadata": {},
   "source": [
    "Посмотрим на предсказания"
   ]
  },
  {
   "cell_type": "code",
   "execution_count": 15,
   "metadata": {},
   "outputs": [
    {
     "name": "stdout",
     "output_type": "stream",
     "text": [
      "Real: setosa, Predicted: setosa\n",
      "Real: setosa, Predicted: setosa\n",
      "Real: virginica, Predicted: virginica\n",
      "Real: virginica, Predicted: virginica\n",
      "Real: versicolor, Predicted: versicolor\n",
      "Real: virginica, Predicted: virginica\n",
      "Real: setosa, Predicted: setosa\n",
      "Real: versicolor, Predicted: virginica\n",
      "Real: setosa, Predicted: setosa\n",
      "Real: setosa, Predicted: setosa\n",
      "Real: versicolor, Predicted: versicolor\n",
      "Real: setosa, Predicted: setosa\n",
      "Real: versicolor, Predicted: virginica\n",
      "Real: setosa, Predicted: setosa\n",
      "Real: virginica, Predicted: virginica\n",
      "Real: setosa, Predicted: setosa\n",
      "Real: versicolor, Predicted: versicolor\n",
      "Real: versicolor, Predicted: versicolor\n",
      "Real: versicolor, Predicted: versicolor\n",
      "Real: virginica, Predicted: virginica\n",
      "Real: versicolor, Predicted: versicolor\n",
      "Real: versicolor, Predicted: versicolor\n",
      "Real: virginica, Predicted: virginica\n",
      "Real: versicolor, Predicted: versicolor\n",
      "Real: versicolor, Predicted: versicolor\n",
      "Real: setosa, Predicted: setosa\n",
      "Real: virginica, Predicted: virginica\n",
      "Real: virginica, Predicted: virginica\n",
      "Real: setosa, Predicted: setosa\n",
      "Real: versicolor, Predicted: versicolor\n"
     ]
    }
   ],
   "source": [
    "print('\\n'.join(['Real: {}, Predicted: {}'.format(y_2, y_1) for y_1, y_2 in zip(y_pred, y_test)]))"
   ]
  },
  {
   "cell_type": "code",
   "execution_count": 16,
   "metadata": {},
   "outputs": [
    {
     "data": {
      "text/plain": [
       "0.9333333333333333"
      ]
     },
     "execution_count": 16,
     "metadata": {},
     "output_type": "execute_result"
    }
   ],
   "source": [
    "from sklearn.metrics import accuracy_score\n",
    "accuracy_score(y_test, y_pred) # доля правильных ответов"
   ]
  },
  {
   "cell_type": "markdown",
   "metadata": {},
   "source": [
    "Какой вывод можно сделать из результатов?"
   ]
  },
  {
   "cell_type": "markdown",
   "metadata": {},
   "source": [
    "## 1.4 Посмотрим, как меняется качество от числа соседей\n",
    "Попробуем поварьировать количество ближайших соседей"
   ]
  },
  {
   "cell_type": "code",
   "execution_count": 17,
   "metadata": {},
   "outputs": [
    {
     "name": "stderr",
     "output_type": "stream",
     "text": [
      "/anaconda3/lib/python3.6/site-packages/sklearn/cross_validation.py:41: DeprecationWarning: This module was deprecated in version 0.18 in favor of the model_selection module into which all the refactored classes and functions are moved. Also note that the interface of the new CV iterators are different from that of this module. This module will be removed in 0.20.\n",
      "  \"This module will be removed in 0.20.\", DeprecationWarning)\n"
     ]
    },
    {
     "data": {
      "text/plain": [
       "[<matplotlib.lines.Line2D at 0x11f1fd860>]"
      ]
     },
     "execution_count": 17,
     "metadata": {},
     "output_type": "execute_result"
    },
    {
     "data": {
      "image/png": "[encoded data removed]",
      "text/plain": [
       "<matplotlib.figure.Figure at 0x11efb4400>"
      ]
     },
     "metadata": {},
     "output_type": "display_data"
    }
   ],
   "source": [
    "from sklearn.cross_validation import cross_val_score\n",
    "\n",
    "neighbors = range(1,100,2) # \n",
    "\n",
    "# empty list that will hold cv scores\n",
    "accuracies = []\n",
    "\n",
    "for k in neighbors:\n",
    "    clf = KNeighborsClassifier(n_neighbors=k)# Обучите здесь классификатор для данного параметра и измерьте его качество на тестовой выборке\n",
    "    clf.fit(X_train, y_train)\n",
    "    y_pred = clf.predict(X_test)\n",
    "    acc = accuracy_score(y_test, y_pred) # доля правильных ответов\n",
    "    accuracies.append(acc)\n",
    "\n",
    "import matplotlib.pyplot as plt # подключение библиотеки для отрисовки графиков\n",
    "plt.figure(figsize=(17,10)) # сделаем график большим\n",
    "plt.title('Quality dependence') # зададим заголовок к графику\n",
    "plt.xlabel('n neighbors')\n",
    "plt.ylabel('Accuracy')\n",
    "plt.plot(neighbors, accuracies) # отрисуем график"
   ]
  },
  {
   "cell_type": "markdown",
   "metadata": {},
   "source": [
    "## Задание 1\n",
    "Среди заданного набора параметров для метода ближайших соседей найдите такие параметры, при которых качество алгоритма (accuracy) оказывается наилучшим"
   ]
  },
  {
   "cell_type": "code",
   "execution_count": 18,
   "metadata": {
    "collapsed": true
   },
   "outputs": [],
   "source": [
    "def square_distance(x):\n",
    "    return 1/x*2\n",
    "\n",
    "params_grid = {\n",
    "    'n_neighbors': range(1,100,2), # Перебираем от 1 до 100 с шагом 2\n",
    "    'weights': ['uniform', 'distance', square_distance], # с каким весом берём каждого соседа. uniform - с одинаковым, distance - обратно пропорционально расстоянию. Ещё можно передать свою функцию\n",
    "    'algorithm': ['auto'], # алгоритм поиска ближайших соседей. Влияет только на скорость обучения\n",
    "    'leaf_size': [30], # параметры некоторых алгоритмов поиска ближ соседей. Влияет только на скорость обучения\n",
    "    'metric': ['minkowski'], # метрика расстояния, используемая в алгоритме поиска ближайших соседей\n",
    "    'p': [2] # параметр метрики, используемой в методе ближайших соседей \n",
    "}        "
   ]
  },
  {
   "cell_type": "code",
   "execution_count": 21,
   "metadata": {},
   "outputs": [
    {
     "name": "stdout",
     "output_type": "stream",
     "text": [
      "Best accuracy: 0.966667\n",
      "[9, 'uniform', 'auto', 30, 'minkowski', 2]\n"
     ]
    },
    {
     "name": "stderr",
     "output_type": "stream",
     "text": [
      "/anaconda3/lib/python3.6/site-packages/ipykernel_launcher.py:2: RuntimeWarning: divide by zero encountered in true_divide\n",
      "  \n"
     ]
    }
   ],
   "source": [
    "best_params = []\n",
    "best_acc = 0\n",
    "\n",
    "# your code here\n",
    "for n in params_grid['n_neighbors']:\n",
    "    for w in params_grid['weights']:\n",
    "        # Обучите здесь классификатор для данного параметра и измерьте \n",
    "        # его качество на тестовой выборке\n",
    "        params = [\n",
    "            n, \n",
    "            w, \n",
    "            params_grid['algorithm'][0],\n",
    "            params_grid['leaf_size'][0], \n",
    "            params_grid['metric'][0],\n",
    "            params_grid['p'][0]\n",
    "            ]\n",
    "        clf = KNeighborsClassifier(\n",
    "            n_neighbors=n, \n",
    "            weights=w, \n",
    "            algorithm=params_grid['algorithm'][0],\n",
    "            leaf_size=params_grid['leaf_size'][0],\n",
    "            metric=params_grid['metric'][0],\n",
    "            p=params_grid['p'][0]\n",
    "            )\n",
    "        clf.fit(X_train, y_train)\n",
    "        y_pred = clf.predict(X_test)\n",
    "        acc = accuracy_score(y_test, y_pred) # доля правильных ответов\n",
    "        if best_acc < acc:\n",
    "            best_acc = acc\n",
    "            accuracies.append(acc)\n",
    "            best_params = params\n",
    "\n",
    "\n",
    "print('Best accuracy: %f' % best_acc)\n",
    "print(best_params)"
   ]
  },
  {
   "cell_type": "markdown",
   "metadata": {},
   "source": [
    "## Задание 2\n",
    "\n",
    "Предсказание выживших титаника. Загрузите файл и по выбранным вами числовым признакам постройте наилучшую модель ближайших соседей для предсказания колонки *Survived*"
   ]
  },
  {
   "cell_type": "code",
   "execution_count": 22,
   "metadata": {},
   "outputs": [
    {
     "data": {
      "text/html": [
       "<div>\n",
       "<style>\n",
       "    .dataframe thead tr:only-child th {\n",
       "        text-align: right;\n",
       "    }\n",
       "\n",
       "    .dataframe thead th {\n",
       "        text-align: left;\n",
       "    }\n",
       "\n",
       "    .dataframe tbody tr th {\n",
       "        vertical-align: top;\n",
       "    }\n",
       "</style>\n",
       "<table border=\"1\" class=\"dataframe\">\n",
       "  <thead>\n",
       "    <tr style=\"text-align: right;\">\n",
       "      <th></th>\n",
       "      <th>PassengerId</th>\n",
       "      <th>Survived</th>\n",
       "      <th>Pclass</th>\n",
       "      <th>Name</th>\n",
       "      <th>Sex</th>\n",
       "      <th>Age</th>\n",
       "      <th>SibSp</th>\n",
       "      <th>Parch</th>\n",
       "      <th>Ticket</th>\n",
       "      <th>Fare</th>\n",
       "      <th>Cabin</th>\n",
       "      <th>Embarked</th>\n",
       "    </tr>\n",
       "  </thead>\n",
       "  <tbody>\n",
       "    <tr>\n",
       "      <th>0</th>\n",
       "      <td>1</td>\n",
       "      <td>0</td>\n",
       "      <td>3</td>\n",
       "      <td>Braund, Mr. Owen Harris</td>\n",
       "      <td>male</td>\n",
       "      <td>22.0</td>\n",
       "      <td>1</td>\n",
       "      <td>0</td>\n",
       "      <td>A/5 21171</td>\n",
       "      <td>7.2500</td>\n",
       "      <td>NaN</td>\n",
       "      <td>S</td>\n",
       "    </tr>\n",
       "    <tr>\n",
       "      <th>1</th>\n",
       "      <td>2</td>\n",
       "      <td>1</td>\n",
       "      <td>1</td>\n",
       "      <td>Cumings, Mrs. John Bradley (Florence Briggs Th...</td>\n",
       "      <td>female</td>\n",
       "      <td>38.0</td>\n",
       "      <td>1</td>\n",
       "      <td>0</td>\n",
       "      <td>PC 17599</td>\n",
       "      <td>71.2833</td>\n",
       "      <td>C85</td>\n",
       "      <td>C</td>\n",
       "    </tr>\n",
       "    <tr>\n",
       "      <th>2</th>\n",
       "      <td>3</td>\n",
       "      <td>1</td>\n",
       "      <td>3</td>\n",
       "      <td>Heikkinen, Miss. Laina</td>\n",
       "      <td>female</td>\n",
       "      <td>26.0</td>\n",
       "      <td>0</td>\n",
       "      <td>0</td>\n",
       "      <td>STON/O2. 3101282</td>\n",
       "      <td>7.9250</td>\n",
       "      <td>NaN</td>\n",
       "      <td>S</td>\n",
       "    </tr>\n",
       "    <tr>\n",
       "      <th>3</th>\n",
       "      <td>4</td>\n",
       "      <td>1</td>\n",
       "      <td>1</td>\n",
       "      <td>Futrelle, Mrs. Jacques Heath (Lily May Peel)</td>\n",
       "      <td>female</td>\n",
       "      <td>35.0</td>\n",
       "      <td>1</td>\n",
       "      <td>0</td>\n",
       "      <td>113803</td>\n",
       "      <td>53.1000</td>\n",
       "      <td>C123</td>\n",
       "      <td>S</td>\n",
       "    </tr>\n",
       "    <tr>\n",
       "      <th>4</th>\n",
       "      <td>5</td>\n",
       "      <td>0</td>\n",
       "      <td>3</td>\n",
       "      <td>Allen, Mr. William Henry</td>\n",
       "      <td>male</td>\n",
       "      <td>35.0</td>\n",
       "      <td>0</td>\n",
       "      <td>0</td>\n",
       "      <td>373450</td>\n",
       "      <td>8.0500</td>\n",
       "      <td>NaN</td>\n",
       "      <td>S</td>\n",
       "    </tr>\n",
       "  </tbody>\n",
       "</table>\n",
       "</div>"
      ],
      "text/plain": [
       "   PassengerId  Survived  Pclass  \\\n",
       "0            1         0       3   \n",
       "1            2         1       1   \n",
       "2            3         1       3   \n",
       "3            4         1       1   \n",
       "4            5         0       3   \n",
       "\n",
       "                                                Name     Sex   Age  SibSp  \\\n",
       "0                            Braund, Mr. Owen Harris    male  22.0      1   \n",
       "1  Cumings, Mrs. John Bradley (Florence Briggs Th...  female  38.0      1   \n",
       "2                             Heikkinen, Miss. Laina  female  26.0      0   \n",
       "3       Futrelle, Mrs. Jacques Heath (Lily May Peel)  female  35.0      1   \n",
       "4                           Allen, Mr. William Henry    male  35.0      0   \n",
       "\n",
       "   Parch            Ticket     Fare Cabin Embarked  \n",
       "0      0         A/5 21171   7.2500   NaN        S  \n",
       "1      0          PC 17599  71.2833   C85        C  \n",
       "2      0  STON/O2. 3101282   7.9250   NaN        S  \n",
       "3      0            113803  53.1000  C123        S  \n",
       "4      0            373450   8.0500   NaN        S  "
      ]
     },
     "execution_count": 22,
     "metadata": {},
     "output_type": "execute_result"
    }
   ],
   "source": [
    "import pandas as pd # библиотека для чтения и работы с данными\n",
    "data = pd.read_csv('https://gist.githubusercontent.com/michhar/2dfd2de0d4f8727f873422c5d959fff5/raw/ff414a1bcfcba32481e4d4e8db578e55872a2ca1/titanic.csv', sep='\\t')\n",
    "data.head()"
   ]
  },
  {
   "cell_type": "code",
   "execution_count": 23,
   "metadata": {},
   "outputs": [
    {
     "name": "stdout",
     "output_type": "stream",
     "text": [
      "<class 'pandas.core.frame.DataFrame'>\n",
      "RangeIndex: 156 entries, 0 to 155\n",
      "Data columns (total 12 columns):\n",
      "PassengerId    156 non-null int64\n",
      "Survived       156 non-null int64\n",
      "Pclass         156 non-null int64\n",
      "Name           156 non-null object\n",
      "Sex            156 non-null object\n",
      "Age            126 non-null float64\n",
      "SibSp          156 non-null int64\n",
      "Parch          156 non-null int64\n",
      "Ticket         156 non-null object\n",
      "Fare           156 non-null float64\n",
      "Cabin          31 non-null object\n",
      "Embarked       155 non-null object\n",
      "dtypes: float64(2), int64(5), object(5)\n",
      "memory usage: 14.7+ KB\n"
     ]
    }
   ],
   "source": [
    "data.info()"
   ]
  },
  {
   "cell_type": "code",
   "execution_count": 26,
   "metadata": {},
   "outputs": [
    {
     "name": "stderr",
     "output_type": "stream",
     "text": [
      "/anaconda3/lib/python3.6/site-packages/sklearn/model_selection/_split.py:2026: FutureWarning: From version 0.21, test_size will always complement train_size unless both are specified.\n",
      "  FutureWarning)\n"
     ]
    }
   ],
   "source": [
    "features_list = ['PassengerId', 'Pclass', 'SibSp', 'Parch'] # дополните этот список другими, важными на ваш взгляд, числовыми признаками\n",
    "X, y = data[features_list], data['Survived']\n",
    "X_train, X_test, y_train, y_test = train_test_split(X, y, train_size=0.8)"
   ]
  },
  {
   "cell_type": "markdown",
   "metadata": {},
   "source": [
    "Добейтесь наилучшего качества (accuracy) на тестовой выборке"
   ]
  },
  {
   "cell_type": "code",
   "execution_count": 27,
   "metadata": {},
   "outputs": [
    {
     "name": "stdout",
     "output_type": "stream",
     "text": [
      "Best accuracy: 0.750000\n",
      "[11, 'uniform', 'auto', 30, 'minkowski', 2]\n"
     ]
    }
   ],
   "source": [
    "# your code here\n",
    "best_params = []\n",
    "best_acc = 0\n",
    "\n",
    "# your code here\n",
    "for n in params_grid['n_neighbors']:\n",
    "    for w in params_grid['weights']:\n",
    "        # Обучите здесь классификатор для данного параметра и измерьте \n",
    "        # его качество на тестовой выборке\n",
    "        params = [\n",
    "            n, \n",
    "            w, \n",
    "            params_grid['algorithm'][0],\n",
    "            params_grid['leaf_size'][0], \n",
    "            params_grid['metric'][0],\n",
    "            params_grid['p'][0]\n",
    "            ]\n",
    "        clf = KNeighborsClassifier(\n",
    "            n_neighbors=n, \n",
    "            weights=w, \n",
    "            algorithm=params_grid['algorithm'][0],\n",
    "            leaf_size=params_grid['leaf_size'][0],\n",
    "            metric=params_grid['metric'][0],\n",
    "            p=params_grid['p'][0]\n",
    "            )\n",
    "        clf.fit(X_train, y_train)\n",
    "        y_pred = clf.predict(X_test)\n",
    "        acc = accuracy_score(y_test, y_pred) # доля правильных ответов\n",
    "        if best_acc < acc:\n",
    "            best_acc = acc\n",
    "            accuracies.append(acc)\n",
    "            best_params = params\n",
    "\n",
    "\n",
    "print('Best accuracy: %f' % best_acc)\n",
    "print(best_params)"
   ]
  },
  {
   "cell_type": "markdown",
   "metadata": {},
   "source": [
    "# Полезные ссылки\n",
    "* [Пример](https://kevinzakka.github.io/2016/07/13/k-nearest-neighbor/) с Iris и KNN\n",
    "* (*) [Алгоритмы поиска ближайших соседей](https://www.youtube.com/watch?v=UUm4MOyVTnE)"
   ]
  },
  {
   "cell_type": "code",
   "execution_count": null,
   "metadata": {
    "collapsed": true
   },
   "outputs": [],
   "source": []
  }
 ],
 "metadata": {
  "kernelspec": {
   "display_name": "Python 3",
   "language": "python",
   "name": "python3"
  },
  "language_info": {
   "codemirror_mode": {
    "name": "ipython",
    "version": 3
   },
   "file_extension": ".py",
   "mimetype": "text/x-python",
   "name": "python",
   "nbconvert_exporter": "python",
   "pygments_lexer": "ipython3",
   "version": "3.6.3"
  }
 },
 "nbformat": 4,
 "nbformat_minor": 2
}
