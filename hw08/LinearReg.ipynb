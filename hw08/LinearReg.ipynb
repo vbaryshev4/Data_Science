{
 "cells": [
  {
   "cell_type": "code",
   "execution_count": 98,
   "metadata": {
    "collapsed": true
   },
   "outputs": [],
   "source": [
    "class LinearRegression:\n",
    "    \n",
    "    def __init__(self, epsilon=1e-4, max_iter=220, alpha=1e-2, momentum=1e-4):\n",
    "        # HyperParams\n",
    "        self.epsilon = epsilon\n",
    "        self.max_iter = max_iter\n",
    "        self.alpha = alpha\n",
    "        self.momentum = momentum\n",
    "        \n",
    "        # Weights\n",
    "        self.w = None\n",
    "        \n",
    "        \n",
    "    def __calc_gradient(self, X, y):\n",
    "        print(\"WEIGHTS\", self.w, type(self.w))\n",
    "        return  (2 * ((X.T).dot(X.dot(self.w) - y)))/len(self.w)\n",
    "    \n",
    "    \n",
    "    def fit(self, X_train, y_train):\n",
    "        w_shape = X_train.shape[1]\n",
    "        self.w = np.ones(w_shape)\n",
    "        w_current = np.zeros(w_shape)\n",
    "        gradient = np.zeros(w_shape)\n",
    "        for i in range(self.max_iter):\n",
    "            momentum = self.momentum * gradient\n",
    "            gradient = momentum + self.alpha * self.__calc_gradient(X_train, y_train)\n",
    "            print(gradient)\n",
    "            if np.linalg.norm(self.w - w_current) >= self.epsilon:\n",
    "                w_current = self.w.copy()\n",
    "                self.w = w_current - gradient\n",
    "            else:\n",
    "                break\n",
    "        return self\n",
    "    \n",
    "    \n",
    "    def predict(self, X_test):\n",
    "        return X_test.dot(self.w)"
   ]
  },
  {
   "cell_type": "code",
   "execution_count": 86,
   "metadata": {
    "collapsed": true
   },
   "outputs": [],
   "source": [
    "path = 'homework-practice-03-data.csv'"
   ]
  },
  {
   "cell_type": "code",
   "execution_count": 87,
   "metadata": {},
   "outputs": [
    {
     "name": "stderr",
     "output_type": "stream",
     "text": [
      "/anaconda3/lib/python3.6/importlib/_bootstrap.py:219: RuntimeWarning: numpy.dtype size changed, may indicate binary incompatibility. Expected 96, got 88\n",
      "  return f(*args, **kwds)\n"
     ]
    }
   ],
   "source": [
    "import pandas as pd"
   ]
  },
  {
   "cell_type": "code",
   "execution_count": 88,
   "metadata": {
    "collapsed": true
   },
   "outputs": [],
   "source": [
    "data = pd.read_csv(path)"
   ]
  },
  {
   "cell_type": "code",
   "execution_count": 89,
   "metadata": {},
   "outputs": [
    {
     "data": {
      "text/html": [
       "<div>\n",
       "<style scoped>\n",
       "    .dataframe tbody tr th:only-of-type {\n",
       "        vertical-align: middle;\n",
       "    }\n",
       "\n",
       "    .dataframe tbody tr th {\n",
       "        vertical-align: top;\n",
       "    }\n",
       "\n",
       "    .dataframe thead th {\n",
       "        text-align: right;\n",
       "    }\n",
       "</style>\n",
       "<table border=\"1\" class=\"dataframe\">\n",
       "  <thead>\n",
       "    <tr style=\"text-align: right;\">\n",
       "      <th></th>\n",
       "      <th>f0</th>\n",
       "      <th>f1</th>\n",
       "      <th>f2</th>\n",
       "      <th>f3</th>\n",
       "      <th>f4</th>\n",
       "      <th>f5</th>\n",
       "      <th>f6</th>\n",
       "    </tr>\n",
       "  </thead>\n",
       "  <tbody>\n",
       "    <tr>\n",
       "      <th>0</th>\n",
       "      <td>16.99</td>\n",
       "      <td>1.01</td>\n",
       "      <td>0.976270</td>\n",
       "      <td>-3.697815</td>\n",
       "      <td>0.623295</td>\n",
       "      <td>0.524760</td>\n",
       "      <td>7199.992000</td>\n",
       "    </tr>\n",
       "    <tr>\n",
       "      <th>1</th>\n",
       "      <td>10.34</td>\n",
       "      <td>1.66</td>\n",
       "      <td>4.303787</td>\n",
       "      <td>7.715073</td>\n",
       "      <td>0.886961</td>\n",
       "      <td>0.473862</td>\n",
       "      <td>2466.136700</td>\n",
       "    </tr>\n",
       "    <tr>\n",
       "      <th>2</th>\n",
       "      <td>21.01</td>\n",
       "      <td>3.50</td>\n",
       "      <td>2.055268</td>\n",
       "      <td>-6.464284</td>\n",
       "      <td>0.618826</td>\n",
       "      <td>1.657394</td>\n",
       "      <td>2969.369100</td>\n",
       "    </tr>\n",
       "    <tr>\n",
       "      <th>3</th>\n",
       "      <td>23.68</td>\n",
       "      <td>3.31</td>\n",
       "      <td>0.897664</td>\n",
       "      <td>1.335254</td>\n",
       "      <td>0.133461</td>\n",
       "      <td>1.234554</td>\n",
       "      <td>1040.665300</td>\n",
       "    </tr>\n",
       "    <tr>\n",
       "      <th>4</th>\n",
       "      <td>24.59</td>\n",
       "      <td>3.61</td>\n",
       "      <td>-1.526904</td>\n",
       "      <td>-0.196414</td>\n",
       "      <td>0.980580</td>\n",
       "      <td>3.086397</td>\n",
       "      <td>37.469975</td>\n",
       "    </tr>\n",
       "  </tbody>\n",
       "</table>\n",
       "</div>"
      ],
      "text/plain": [
       "      f0    f1        f2        f3        f4        f5           f6\n",
       "0  16.99  1.01  0.976270 -3.697815  0.623295  0.524760  7199.992000\n",
       "1  10.34  1.66  4.303787  7.715073  0.886961  0.473862  2466.136700\n",
       "2  21.01  3.50  2.055268 -6.464284  0.618826  1.657394  2969.369100\n",
       "3  23.68  3.31  0.897664  1.335254  0.133461  1.234554  1040.665300\n",
       "4  24.59  3.61 -1.526904 -0.196414  0.980580  3.086397    37.469975"
      ]
     },
     "execution_count": 89,
     "metadata": {},
     "output_type": "execute_result"
    }
   ],
   "source": [
    "data.head()"
   ]
  },
  {
   "cell_type": "code",
   "execution_count": 90,
   "metadata": {
    "collapsed": true
   },
   "outputs": [],
   "source": [
    "y = data['f1']\n",
    "X = data.drop(['f1'], axis=1)"
   ]
  },
  {
   "cell_type": "code",
   "execution_count": 99,
   "metadata": {},
   "outputs": [
    {
     "name": "stdout",
     "output_type": "stream",
     "text": [
      "None\n",
      "WEIGHTS [1. 1. 1. 1. 1. 1.] <class 'numpy.ndarray'>\n",
      "[ 1.36216164e+05 -2.15837532e+03  6.29449521e+03  2.82379862e+03\n",
      "  7.34118242e+03  5.99081541e+08]\n",
      "WEIGHTS [-1.36215164e+05  2.15937532e+03 -6.29349521e+03 -2.82279862e+03\n",
      " -7.34018242e+03 -5.99081540e+08] <class 'numpy.ndarray'>\n",
      "[-8.13992046e+13  1.30874412e+12 -3.76449407e+12 -1.68739054e+12\n",
      " -4.38865705e+12 -3.58821424e+17]\n",
      "WEIGHTS [ 8.13992045e+13 -1.30874412e+12  3.76449406e+12  1.68739054e+12\n",
      "  4.38865704e+12  3.58821423e+17] <class 'numpy.ndarray'>\n",
      "[ 4.87542620e+22 -7.83875645e+20  2.25475336e+21  1.01066688e+21\n",
      "  2.62859738e+21  2.14917011e+26]\n",
      "WEIGHTS [-4.87542619e+22  7.83875644e+20 -2.25475336e+21 -1.01066688e+21\n",
      " -2.62859737e+21 -2.14917010e+26] <class 'numpy.ndarray'>\n",
      "[-2.92014901e+31  4.69504325e+29 -1.35049030e+30 -6.05341518e+29\n",
      " -1.57440513e+30 -1.28725094e+35]\n",
      "WEIGHTS [ 2.92014900e+31 -4.69504324e+29  1.35049030e+30  6.05341517e+29\n",
      "  1.57440513e+30  1.28725094e+35] <class 'numpy.ndarray'>\n",
      "[ 1.74903073e+40 -2.81210818e+38  8.08879625e+38  3.62570853e+38\n",
      "  9.42993985e+38  7.71002247e+43]\n",
      "WEIGHTS [-1.74903072e+40  2.81210817e+38 -8.08879624e+38 -3.62570852e+38\n",
      " -9.42993984e+38 -7.71002245e+43] <class 'numpy.ndarray'>\n",
      "[-1.04758643e+49  1.68431940e+47 -4.84480523e+47 -2.17162741e+47\n",
      " -5.64808662e+47 -4.61793770e+52]\n",
      "WEIGHTS [ 1.04758643e+49 -1.68431939e+47  4.84480522e+47  2.17162740e+47\n",
      "  5.64808662e+47  4.61793769e+52] <class 'numpy.ndarray'>\n",
      "[ 6.27454577e+57 -1.00882742e+56  2.90180850e+56  1.30070180e+56\n",
      "  3.38293595e+56  2.76592561e+61]\n",
      "WEIGHTS [-6.27454576e+57  1.00882741e+56 -2.90180850e+56 -1.30070179e+56\n",
      " -3.38293594e+56 -2.76592561e+61] <class 'numpy.ndarray'>\n",
      "[-3.75815526e+66  6.04239764e+64 -1.73804563e+65 -7.79058672e+64\n",
      " -2.02621815e+65 -1.65665823e+70]\n",
      "WEIGHTS [ 3.75815525e+66 -6.04239763e+64  1.73804563e+65  7.79058671e+64\n",
      "  2.02621815e+65  1.65665823e+70] <class 'numpy.ndarray'>\n",
      "[ 2.25095672e+75 -3.61910954e+73  1.04100688e+74  4.66619187e+73\n",
      "  1.21360855e+74  9.92259689e+78]\n",
      "WEIGHTS [-2.25095671e+75  3.61910954e+73 -1.04100688e+74 -4.66619186e+73\n",
      " -1.21360855e+74 -9.92259687e+78] <class 'numpy.ndarray'>\n",
      "[-1.34821629e+84  2.16767493e+82 -6.23513738e+82 -2.79482757e+82\n",
      " -7.26893949e+82 -5.94316482e+87]\n",
      "WEIGHTS [ 1.34821629e+84 -2.16767493e+82  6.23513737e+82  2.79482757e+82\n",
      "  7.26893948e+82  5.94316481e+87] <class 'numpy.ndarray'>\n",
      "[ 8.07517600e+92 -1.29833445e+91  3.73455150e+91  1.67396913e+91\n",
      "  4.35374992e+91  3.55967379e+96]\n",
      "WEIGHTS [-8.07517599e+92  1.29833445e+91 -3.73455150e+91 -1.67396913e+91\n",
      " -4.35374992e+91 -3.55967378e+96] <class 'numpy.ndarray'>\n",
      "[-4.83664735e+101  7.77640744e+099 -2.23681919e+100 -1.00262810e+100\n",
      " -2.60768967e+100 -2.13207573e+105]\n",
      "WEIGHTS [ 4.83664734e+101 -7.77640743e+099  2.23681918e+100  1.00262810e+100\n",
      "  2.60768966e+100  2.13207573e+105] <class 'numpy.ndarray'>\n",
      "[ 2.89692231e+110 -4.65769915e+108  1.33974858e+109  6.00526667e+108\n",
      "  1.56188240e+109  1.27701222e+114]\n",
      "WEIGHTS [-2.89692231e+110  4.65769914e+108 -1.33974858e+109 -6.00526666e+108\n",
      " -1.56188240e+109 -1.27701222e+114] <class 'numpy.ndarray'>\n",
      "[-1.73511904e+119  2.78974083e+117 -8.02445844e+117 -3.59686985e+117\n",
      " -9.35493466e+117 -7.64869740e+122]\n",
      "WEIGHTS [ 1.73511904e+119 -2.78974083e+117  8.02445842e+117  3.59686985e+117\n",
      "  9.35493465e+117  7.64869738e+122] <class 'numpy.ndarray'>\n",
      "[ 1.03925399e+128 -1.67092242e+126  4.80626993e+126  2.15435441e+126\n",
      "  5.60316207e+126  4.58120689e+131]\n",
      "WEIGHTS [-1.03925399e+128  1.67092241e+126 -4.80626992e+126 -2.15435441e+126\n",
      " -5.60316206e+126 -4.58120689e+131] <class 'numpy.ndarray'>\n",
      "[-6.22463840e+136  1.00080326e+135 -2.87872768e+135 -1.29035609e+135\n",
      " -3.35602827e+135 -2.74392560e+140]\n",
      "WEIGHTS [ 6.22463839e+136 -1.00080326e+135  2.87872768e+135  1.29035609e+135\n",
      "  3.35602827e+135  2.74392560e+140] <class 'numpy.ndarray'>\n",
      "[ 3.72826311e+145 -5.99433676e+143  1.72422132e+144  7.72862085e+143\n",
      "  2.01010173e+144  1.64348127e+149]\n",
      "WEIGHTS [-3.72826311e+145  5.99433675e+143 -1.72422132e+144 -7.72862084e+143\n",
      " -2.01010173e+144 -1.64348126e+149] <class 'numpy.ndarray'>\n",
      "[-2.23305274e+154  3.59032336e+152 -1.03272677e+153 -4.62907725e+152\n",
      " -1.20395558e+153 -9.84367314e+157]\n",
      "WEIGHTS [ 2.23305274e+154 -3.59032335e+152  1.03272677e+153  4.62907725e+152\n",
      "  1.20395558e+153  9.84367312e+157] <class 'numpy.ndarray'>\n",
      "[ 1.33749266e+163 -2.15043337e+161  6.18554347e+161  2.77259768e+161\n",
      "  7.21112277e+161  5.89589323e+166]\n",
      "WEIGHTS [-1.33749266e+163  2.15043337e+161 -6.18554346e+161 -2.77259767e+161\n",
      " -7.21112276e+161 -5.89589322e+166] <class 'numpy.ndarray'>\n",
      "[-8.01094652e+171  1.28800757e+170 -3.70484710e+170 -1.66065448e+170\n",
      " -4.31912045e+170 -3.53136035e+175]\n",
      "WEIGHTS [ 8.01094651e+171 -1.28800757e+170  3.70484709e+170  1.66065448e+170\n",
      "  4.31912045e+170  3.53136035e+175] <class 'numpy.ndarray'>\n",
      "[ 4.79817694e+180 -7.71455435e+178  2.21902766e+179  9.94653253e+178\n",
      "  2.58694826e+179  2.11511733e+184]\n",
      "WEIGHTS [-4.79817693e+180  7.71455434e+178 -2.21902766e+179 -9.94653251e+178\n",
      " -2.58694825e+179 -2.11511732e+184] <class 'numpy.ndarray'>\n",
      "[-2.87388036e+189  4.62065208e+187 -1.32909230e+188 -5.95750113e+187\n",
      " -1.54945928e+188 -1.26685494e+193]\n",
      "WEIGHTS [ 2.87388036e+189 -4.62065208e+187  1.32909230e+188  5.95750112e+187\n",
      "  1.54945928e+188  1.26685494e+193] <class 'numpy.ndarray'>\n",
      "[ 1.72131800e+198 -2.76755140e+196  7.96063237e+196  3.56826056e+196\n",
      "  9.28052606e+196  7.58786011e+201]\n",
      "WEIGHTS [-1.72131800e+198  2.76755139e+196 -7.96063235e+196 -3.56826055e+196\n",
      " -9.28052604e+196 -7.58786009e+201] <class 'numpy.ndarray'>\n",
      "[-1.03098783e+207  1.65763200e+205 -4.76804114e+205 -2.13721880e+205\n",
      " -5.55859485e+205 -4.54476824e+210]\n",
      "WEIGHTS [ 1.03098783e+207 -1.65763200e+205  4.76804113e+205  2.13721880e+205\n",
      "  5.55859484e+205  4.54476824e+210] <class 'numpy.ndarray'>\n",
      "[ 6.17512799e+215 -9.92842931e+213  2.85583045e+214  1.28009267e+214\n",
      "  3.32933462e+214  2.72210058e+219]\n",
      "WEIGHTS [-6.17512798e+215  9.92842929e+213 -2.85583045e+214 -1.28009267e+214\n",
      " -3.32933462e+214 -2.72210057e+219] <class 'numpy.ndarray'>\n",
      "[-3.69860873e+224  5.94665816e+222 -1.71050696e+223 -7.66714786e+222\n",
      " -1.99411350e+223 -1.63040911e+228]\n",
      "WEIGHTS [ 3.69860872e+224 -5.94665815e+222  1.71050696e+223  7.66714784e+222\n",
      "  1.99411349e+223  1.63040911e+228] <class 'numpy.ndarray'>\n",
      "[ 2.21529117e+233 -3.56176613e+231  1.02451253e+232  4.59225784e+231\n",
      "  1.19437939e+232  9.76537714e+236]\n",
      "WEIGHTS [-2.21529117e+233  3.56176613e+231 -1.02451252e+232 -4.59225784e+231\n",
      " -1.19437938e+232 -9.76537712e+236] <class 'numpy.ndarray'>\n",
      "[-1.32685432e+242  2.13332895e+240 -6.13634402e+240 -2.75054460e+240\n",
      " -7.15376592e+240 -5.84899764e+245]\n",
      "WEIGHTS [ 1.32685432e+242 -2.13332894e+240  6.13634401e+240  2.75054459e+240\n",
      "  7.15376591e+240  5.84899764e+245] <class 'numpy.ndarray'>\n",
      "[ 7.94722792e+250 -1.27776284e+249  3.67537896e+249  1.64744573e+249\n",
      "  4.28476642e+249  3.50327212e+254]\n",
      "WEIGHTS [-7.94722791e+250  1.27776283e+249 -3.67537896e+249 -1.64744573e+249\n",
      " -4.28476641e+249 -3.50327211e+254] <class 'numpy.ndarray'>\n",
      "[-4.76001252e+259  7.65319323e+257 -2.20137764e+258 -9.86741839e+257\n",
      " -2.56637182e+258 -2.09829381e+263]\n",
      "WEIGHTS [ 4.76001251e+259 -7.65319322e+257  2.20137764e+258  9.86741838e+257\n",
      "  2.56637182e+258  2.09829380e+263] <class 'numpy.ndarray'>\n",
      "[ 2.85102169e+268 -4.58389969e+266  1.31852078e+267  5.91011552e+266\n",
      "  1.53713497e+267  1.25677845e+272]\n",
      "WEIGHTS [-2.85102168e+268  4.58389968e+266 -1.31852077e+267 -5.91011551e+266\n",
      " -1.53713497e+267 -1.25677845e+272] <class 'numpy.ndarray'>\n",
      "[-1.70762674e+277  2.74553846e+275 -7.89731396e+275 -3.53987882e+275\n",
      " -9.20670930e+275 -7.52750671e+280]\n",
      "WEIGHTS [ 1.70762674e+277 -2.74553845e+275  7.89731395e+275  3.53987882e+275\n",
      "  9.20670928e+275  7.52750670e+280] <class 'numpy.ndarray'>\n",
      "[ 1.02278741e+286 -1.64444729e+284  4.73011642e+284  2.12021949e+284\n",
      "  5.51438211e+284  4.50861942e+289]\n",
      "WEIGHTS [-1.02278741e+286  1.64444729e+284 -4.73011641e+284 -2.12021948e+284\n",
      " -5.51438210e+284 -4.50861941e+289] <class 'numpy.ndarray'>\n",
      "[-6.12601139e+294  9.84945916e+292 -2.83311534e+293 -1.26991089e+293\n",
      " -3.30285329e+293 -2.70044915e+298]\n",
      "WEIGHTS [ 6.12601138e+294 -9.84945914e+292  2.83311534e+293  1.26991089e+293\n",
      "  3.30285328e+293  2.70044915e+298] <class 'numpy.ndarray'>\n",
      "[ 3.66919021e+303 -5.89935879e+301  1.69690169e+302  7.60616381e+301\n",
      "  1.97825244e+302              inf]\n",
      "WEIGHTS [-3.66919020e+303  5.89935878e+301 -1.69690169e+302 -7.60616380e+301\n",
      " -1.97825243e+302             -inf] <class 'numpy.ndarray'>\n",
      "[-inf  nan  nan -inf -inf  nan]\n",
      "WEIGHTS [inf nan nan inf inf nan] <class 'numpy.ndarray'>\n",
      "[nan nan nan nan nan nan]\n"
     ]
    },
    {
     "name": "stderr",
     "output_type": "stream",
     "text": [
      "/anaconda3/lib/python3.6/site-packages/ipykernel_launcher.py:26: RuntimeWarning: invalid value encountered in add\n"
     ]
    },
    {
     "data": {
      "text/plain": [
       "array([inf, nan, nan, inf, inf, nan])"
      ]
     },
     "execution_count": 99,
     "metadata": {},
     "output_type": "execute_result"
    }
   ],
   "source": [
    "model = LinearRegression()\n",
    "print(model.w)\n",
    "fitted = model.fit(np.array(X), np.array(y))\n",
    "fitted.w\n",
    "# predictions = fitted.predict(X)"
   ]
  },
  {
   "cell_type": "code",
   "execution_count": 66,
   "metadata": {},
   "outputs": [
    {
     "name": "stdout",
     "output_type": "stream",
     "text": [
      "[3.09803632e+05 7.07335372e+05 8.33121891e+05 4.73732987e+03\n",
      " 3.93296260e+04 4.31701099e+05 4.94675489e+06 2.48451332e+05\n",
      " 7.57450683e+05 3.03402494e+07 1.28942517e+06 2.46550428e+07\n",
      " 9.25664009e+05]\n"
     ]
    }
   ],
   "source": [
    "X = boston['data']\n",
    "y = boston['target']\n",
    "w = np.ones(X.shape[1])\n",
    "def __calc_gradient(X, y):\n",
    "        return  (2 * ((X.T).dot(X.dot(w) - y)))/len(w)\n",
    "    \n",
    "print(__calc_gradient(X, y))"
   ]
  },
  {
   "cell_type": "code",
   "execution_count": null,
   "metadata": {
    "collapsed": true
   },
   "outputs": [],
   "source": [
    "test_calc = __calc_gradient() "
   ]
  },
  {
   "cell_type": "code",
   "execution_count": 28,
   "metadata": {
    "collapsed": true
   },
   "outputs": [],
   "source": [
    "import numpy as np"
   ]
  },
  {
   "cell_type": "code",
   "execution_count": 10,
   "metadata": {
    "collapsed": true
   },
   "outputs": [],
   "source": [
    "from sklearn.datasets import load_boston"
   ]
  },
  {
   "cell_type": "code",
   "execution_count": 16,
   "metadata": {},
   "outputs": [],
   "source": [
    "boston = load_boston()"
   ]
  },
  {
   "cell_type": "code",
   "execution_count": 24,
   "metadata": {
    "collapsed": true
   },
   "outputs": [],
   "source": [
    "X = boston['data']\n",
    "y = boston['target']\n",
    "columns = boston['feature_names']"
   ]
  },
  {
   "cell_type": "code",
   "execution_count": 23,
   "metadata": {},
   "outputs": [
    {
     "data": {
      "text/plain": [
       "dict_keys(['data', 'target', 'feature_names', 'DESCR'])"
      ]
     },
     "execution_count": 23,
     "metadata": {},
     "output_type": "execute_result"
    }
   ],
   "source": [
    "boston.keys()"
   ]
  },
  {
   "cell_type": "code",
   "execution_count": 20,
   "metadata": {},
   "outputs": [
    {
     "data": {
      "text/plain": [
       "numpy.ndarray"
      ]
     },
     "execution_count": 20,
     "metadata": {},
     "output_type": "execute_result"
    }
   ],
   "source": [
    "type(X)"
   ]
  },
  {
   "cell_type": "code",
   "execution_count": 21,
   "metadata": {},
   "outputs": [
    {
     "data": {
      "text/plain": [
       "(506, 13)"
      ]
     },
     "execution_count": 21,
     "metadata": {},
     "output_type": "execute_result"
    }
   ],
   "source": [
    "X.shape"
   ]
  },
  {
   "cell_type": "code",
   "execution_count": 22,
   "metadata": {},
   "outputs": [
    {
     "data": {
      "text/plain": [
       "(506,)"
      ]
     },
     "execution_count": 22,
     "metadata": {},
     "output_type": "execute_result"
    }
   ],
   "source": [
    "y.shape"
   ]
  },
  {
   "cell_type": "code",
   "execution_count": 79,
   "metadata": {},
   "outputs": [
    {
     "data": {
      "text/plain": [
       "array([24. , 21.6, 34.7, 33.4, 36.2, 28.7, 22.9, 27.1, 16.5, 18.9, 15. ,\n",
       "       18.9, 21.7, 20.4, 18.2, 19.9, 23.1, 17.5, 20.2, 18.2, 13.6, 19.6,\n",
       "       15.2, 14.5, 15.6, 13.9, 16.6, 14.8, 18.4, 21. , 12.7, 14.5, 13.2,\n",
       "       13.1, 13.5, 18.9, 20. , 21. , 24.7, 30.8, 34.9, 26.6, 25.3, 24.7,\n",
       "       21.2, 19.3, 20. , 16.6, 14.4, 19.4, 19.7, 20.5, 25. , 23.4, 18.9,\n",
       "       35.4, 24.7, 31.6, 23.3, 19.6, 18.7, 16. , 22.2, 25. , 33. , 23.5,\n",
       "       19.4, 22. , 17.4, 20.9, 24.2, 21.7, 22.8, 23.4, 24.1, 21.4, 20. ,\n",
       "       20.8, 21.2, 20.3, 28. , 23.9, 24.8, 22.9, 23.9, 26.6, 22.5, 22.2,\n",
       "       23.6, 28.7, 22.6, 22. , 22.9, 25. , 20.6, 28.4, 21.4, 38.7, 43.8,\n",
       "       33.2, 27.5, 26.5, 18.6, 19.3, 20.1, 19.5, 19.5, 20.4, 19.8, 19.4,\n",
       "       21.7, 22.8, 18.8, 18.7, 18.5, 18.3, 21.2, 19.2, 20.4, 19.3, 22. ,\n",
       "       20.3, 20.5, 17.3, 18.8, 21.4, 15.7, 16.2, 18. , 14.3, 19.2, 19.6,\n",
       "       23. , 18.4, 15.6, 18.1, 17.4, 17.1, 13.3, 17.8, 14. , 14.4, 13.4,\n",
       "       15.6, 11.8, 13.8, 15.6, 14.6, 17.8, 15.4, 21.5, 19.6, 15.3, 19.4,\n",
       "       17. , 15.6, 13.1, 41.3, 24.3, 23.3, 27. , 50. , 50. , 50. , 22.7,\n",
       "       25. , 50. , 23.8, 23.8, 22.3, 17.4, 19.1, 23.1, 23.6, 22.6, 29.4,\n",
       "       23.2, 24.6, 29.9, 37.2, 39.8, 36.2, 37.9, 32.5, 26.4, 29.6, 50. ,\n",
       "       32. , 29.8, 34.9, 37. , 30.5, 36.4, 31.1, 29.1, 50. , 33.3, 30.3,\n",
       "       34.6, 34.9, 32.9, 24.1, 42.3, 48.5, 50. , 22.6, 24.4, 22.5, 24.4,\n",
       "       20. , 21.7, 19.3, 22.4, 28.1, 23.7, 25. , 23.3, 28.7, 21.5, 23. ,\n",
       "       26.7, 21.7, 27.5, 30.1, 44.8, 50. , 37.6, 31.6, 46.7, 31.5, 24.3,\n",
       "       31.7, 41.7, 48.3, 29. , 24. , 25.1, 31.5, 23.7, 23.3, 22. , 20.1,\n",
       "       22.2, 23.7, 17.6, 18.5, 24.3, 20.5, 24.5, 26.2, 24.4, 24.8, 29.6,\n",
       "       42.8, 21.9, 20.9, 44. , 50. , 36. , 30.1, 33.8, 43.1, 48.8, 31. ,\n",
       "       36.5, 22.8, 30.7, 50. , 43.5, 20.7, 21.1, 25.2, 24.4, 35.2, 32.4,\n",
       "       32. , 33.2, 33.1, 29.1, 35.1, 45.4, 35.4, 46. , 50. , 32.2, 22. ,\n",
       "       20.1, 23.2, 22.3, 24.8, 28.5, 37.3, 27.9, 23.9, 21.7, 28.6, 27.1,\n",
       "       20.3, 22.5, 29. , 24.8, 22. , 26.4, 33.1, 36.1, 28.4, 33.4, 28.2,\n",
       "       22.8, 20.3, 16.1, 22.1, 19.4, 21.6, 23.8, 16.2, 17.8, 19.8, 23.1,\n",
       "       21. , 23.8, 23.1, 20.4, 18.5, 25. , 24.6, 23. , 22.2, 19.3, 22.6,\n",
       "       19.8, 17.1, 19.4, 22.2, 20.7, 21.1, 19.5, 18.5, 20.6, 19. , 18.7,\n",
       "       32.7, 16.5, 23.9, 31.2, 17.5, 17.2, 23.1, 24.5, 26.6, 22.9, 24.1,\n",
       "       18.6, 30.1, 18.2, 20.6, 17.8, 21.7, 22.7, 22.6, 25. , 19.9, 20.8,\n",
       "       16.8, 21.9, 27.5, 21.9, 23.1, 50. , 50. , 50. , 50. , 50. , 13.8,\n",
       "       13.8, 15. , 13.9, 13.3, 13.1, 10.2, 10.4, 10.9, 11.3, 12.3,  8.8,\n",
       "        7.2, 10.5,  7.4, 10.2, 11.5, 15.1, 23.2,  9.7, 13.8, 12.7, 13.1,\n",
       "       12.5,  8.5,  5. ,  6.3,  5.6,  7.2, 12.1,  8.3,  8.5,  5. , 11.9,\n",
       "       27.9, 17.2, 27.5, 15. , 17.2, 17.9, 16.3,  7. ,  7.2,  7.5, 10.4,\n",
       "        8.8,  8.4, 16.7, 14.2, 20.8, 13.4, 11.7,  8.3, 10.2, 10.9, 11. ,\n",
       "        9.5, 14.5, 14.1, 16.1, 14.3, 11.7, 13.4,  9.6,  8.7,  8.4, 12.8,\n",
       "       10.5, 17.1, 18.4, 15.4, 10.8, 11.8, 14.9, 12.6, 14.1, 13. , 13.4,\n",
       "       15.2, 16.1, 17.8, 14.9, 14.1, 12.7, 13.5, 14.9, 20. , 16.4, 17.7,\n",
       "       19.5, 20.2, 21.4, 19.9, 19. , 19.1, 19.1, 20.1, 19.9, 19.6, 23.2,\n",
       "       29.8, 13.8, 13.3, 16.7, 12. , 14.6, 21.4, 23. , 23.7, 25. , 21.8,\n",
       "       20.6, 21.2, 19.1, 20.6, 15.2,  7. ,  8.1, 13.6, 20.1, 21.8, 24.5,\n",
       "       23.1, 19.7, 18.3, 21.2, 17.5, 16.8, 22.4, 20.6, 23.9, 22. , 11.9])"
      ]
     },
     "execution_count": 79,
     "metadata": {},
     "output_type": "execute_result"
    }
   ],
   "source": [
    "y"
   ]
  },
  {
   "cell_type": "code",
   "execution_count": 25,
   "metadata": {},
   "outputs": [
    {
     "data": {
      "text/plain": [
       "array(['CRIM', 'ZN', 'INDUS', 'CHAS', 'NOX', 'RM', 'AGE', 'DIS', 'RAD',\n",
       "       'TAX', 'PTRATIO', 'B', 'LSTAT'], dtype='<U7')"
      ]
     },
     "execution_count": 25,
     "metadata": {},
     "output_type": "execute_result"
    }
   ],
   "source": [
    "columns"
   ]
  },
  {
   "cell_type": "code",
   "execution_count": 44,
   "metadata": {},
   "outputs": [],
   "source": [
    "model = LinearRegression()\n",
    "fitted = model.fit(X, y)\n",
    "predictions = fitted.predict(X)\n",
    "fitted.w"
   ]
  },
  {
   "cell_type": "code",
   "execution_count": 45,
   "metadata": {},
   "outputs": [
    {
     "data": {
      "text/plain": [
       "array([nan, nan, nan, nan, nan, nan, nan, nan, nan, nan, nan, nan, nan])"
      ]
     },
     "execution_count": 45,
     "metadata": {},
     "output_type": "execute_result"
    }
   ],
   "source": [
    "fitted.w"
   ]
  },
  {
   "cell_type": "code",
   "execution_count": null,
   "metadata": {
    "collapsed": true
   },
   "outputs": [],
   "source": []
  }
 ],
 "metadata": {
  "kernelspec": {
   "display_name": "Python 3",
   "language": "python",
   "name": "python3"
  },
  "language_info": {
   "codemirror_mode": {
    "name": "ipython",
    "version": 3
   },
   "file_extension": ".py",
   "mimetype": "text/x-python",
   "name": "python",
   "nbconvert_exporter": "python",
   "pygments_lexer": "ipython3",
   "version": "3.6.3"
  }
 },
 "nbformat": 4,
 "nbformat_minor": 2
}
