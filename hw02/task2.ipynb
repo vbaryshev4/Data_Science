{
 "cells": [
  {
   "cell_type": "markdown",
   "metadata": {},
   "source": [
    "## Линейная регрессия\n",
    "\n",
    "Будем рассматривать датасет для предсказания времени задержки отправления рейса в минутах (DepDelay).\n",
    "\n",
    "### Подготовка данных\n",
    "\n",
    "#### Пропуски"
   ]
  },
  {
   "cell_type": "code",
   "execution_count": 10,
   "metadata": {
    "scrolled": true
   },
   "outputs": [],
   "source": [
    "import pandas as pd\n",
    "import numpy as np\n",
    "pd.set_option('display.max_columns',100)\n",
    "%matplotlib inline\n",
    "\n",
    "fly = pd.read_csv('2008.csv')\n"
   ]
  },
  {
   "cell_type": "markdown",
   "metadata": {},
   "source": [
    "- Имеются ли пропущенные значения в целевой переменной?"
   ]
  },
  {
   "cell_type": "code",
   "execution_count": 11,
   "metadata": {},
   "outputs": [],
   "source": [
    "fly = fly[fly['DepDelay'].notnull()]"
   ]
  },
  {
   "cell_type": "code",
   "execution_count": 14,
   "metadata": {},
   "outputs": [],
   "source": [
    "fly = fly.drop(['Year','DepTime','ArrTime','AirTime','ArrDelay','ActualElapsedTime',\\\n",
    " 'TaxiIn','CancellationCode','TaxiOut',\\\n",
    "'Diverted','CarrierDelay','WeatherDelay','NASDelay',\\\n",
    " 'SecurityDelay','LateAircraftDelay'],axis=1)"
   ]
  },
  {
   "cell_type": "code",
   "execution_count": 17,
   "metadata": {
    "scrolled": true
   },
   "outputs": [
    {
     "data": {
      "text/plain": [
       "Month             0\n",
       "DayofMonth        0\n",
       "DayOfWeek         0\n",
       "CRSDepTime        0\n",
       "CRSArrTime        0\n",
       "UniqueCarrier     0\n",
       "FlightNum         0\n",
       "TailNum           0\n",
       "CRSElapsedTime    5\n",
       "DepDelay          0\n",
       "Origin            0\n",
       "Dest              0\n",
       "Distance          0\n",
       "Cancelled         0\n",
       "dtype: int64"
      ]
     },
     "execution_count": 17,
     "metadata": {},
     "output_type": "execute_result"
    }
   ],
   "source": [
    "fly.isnull().sum()"
   ]
  },
  {
   "cell_type": "code",
   "execution_count": 21,
   "metadata": {},
   "outputs": [],
   "source": [
    "CRSElapsedTime_median = fly['CRSElapsedTime'].median()\n",
    "fly['CRSElapsedTime'] = fly['CRSElapsedTime'].fillna(CRSElapsedTime_median)"
   ]
  },
  {
   "cell_type": "markdown",
   "metadata": {},
   "source": [
    "Некоторые из признаков, отличных от целевой переменной, могут оказывать чересчур значимое влияние на прогноз, поскольку по своему смыслу содержат большую долю информации о значении целевой переменной. Нужно исключить признаки, сильно коррелирующие с ответами."
   ]
  },
  {
   "cell_type": "code",
   "execution_count": 24,
   "metadata": {},
   "outputs": [
    {
     "data": {
      "text/html": [
       "<div>\n",
       "<style>\n",
       "    .dataframe thead tr:only-child th {\n",
       "        text-align: right;\n",
       "    }\n",
       "\n",
       "    .dataframe thead th {\n",
       "        text-align: left;\n",
       "    }\n",
       "\n",
       "    .dataframe tbody tr th {\n",
       "        vertical-align: top;\n",
       "    }\n",
       "</style>\n",
       "<table border=\"1\" class=\"dataframe\">\n",
       "  <thead>\n",
       "    <tr style=\"text-align: right;\">\n",
       "      <th></th>\n",
       "      <th>Month</th>\n",
       "      <th>DayofMonth</th>\n",
       "      <th>DayOfWeek</th>\n",
       "      <th>CRSDepTime</th>\n",
       "      <th>CRSArrTime</th>\n",
       "      <th>FlightNum</th>\n",
       "      <th>CRSElapsedTime</th>\n",
       "      <th>DepDelay</th>\n",
       "      <th>Distance</th>\n",
       "      <th>Cancelled</th>\n",
       "    </tr>\n",
       "  </thead>\n",
       "  <tbody>\n",
       "    <tr>\n",
       "      <th>Month</th>\n",
       "      <td>1.000000</td>\n",
       "      <td>-0.004535</td>\n",
       "      <td>-0.011494</td>\n",
       "      <td>-0.005726</td>\n",
       "      <td>0.002835</td>\n",
       "      <td>0.006140</td>\n",
       "      <td>-0.004354</td>\n",
       "      <td>-0.027598</td>\n",
       "      <td>-0.004735</td>\n",
       "      <td>0.019147</td>\n",
       "    </tr>\n",
       "    <tr>\n",
       "      <th>DayofMonth</th>\n",
       "      <td>-0.004535</td>\n",
       "      <td>1.000000</td>\n",
       "      <td>0.014203</td>\n",
       "      <td>0.002298</td>\n",
       "      <td>0.001204</td>\n",
       "      <td>0.008866</td>\n",
       "      <td>-0.005953</td>\n",
       "      <td>0.008002</td>\n",
       "      <td>-0.005968</td>\n",
       "      <td>-0.003119</td>\n",
       "    </tr>\n",
       "    <tr>\n",
       "      <th>DayOfWeek</th>\n",
       "      <td>-0.011494</td>\n",
       "      <td>0.014203</td>\n",
       "      <td>1.000000</td>\n",
       "      <td>0.004856</td>\n",
       "      <td>0.005702</td>\n",
       "      <td>-0.006192</td>\n",
       "      <td>0.015399</td>\n",
       "      <td>0.008023</td>\n",
       "      <td>0.016653</td>\n",
       "      <td>0.000500</td>\n",
       "    </tr>\n",
       "    <tr>\n",
       "      <th>CRSDepTime</th>\n",
       "      <td>-0.005726</td>\n",
       "      <td>0.002298</td>\n",
       "      <td>0.004856</td>\n",
       "      <td>1.000000</td>\n",
       "      <td>0.790440</td>\n",
       "      <td>-0.011723</td>\n",
       "      <td>-0.009141</td>\n",
       "      <td>0.137659</td>\n",
       "      <td>-0.008915</td>\n",
       "      <td>0.005369</td>\n",
       "    </tr>\n",
       "    <tr>\n",
       "      <th>CRSArrTime</th>\n",
       "      <td>0.002835</td>\n",
       "      <td>0.001204</td>\n",
       "      <td>0.005702</td>\n",
       "      <td>0.790440</td>\n",
       "      <td>1.000000</td>\n",
       "      <td>-0.030084</td>\n",
       "      <td>0.060703</td>\n",
       "      <td>0.133053</td>\n",
       "      <td>0.050173</td>\n",
       "      <td>-0.000360</td>\n",
       "    </tr>\n",
       "    <tr>\n",
       "      <th>FlightNum</th>\n",
       "      <td>0.006140</td>\n",
       "      <td>0.008866</td>\n",
       "      <td>-0.006192</td>\n",
       "      <td>-0.011723</td>\n",
       "      <td>-0.030084</td>\n",
       "      <td>1.000000</td>\n",
       "      <td>-0.328349</td>\n",
       "      <td>0.015708</td>\n",
       "      <td>-0.349606</td>\n",
       "      <td>0.016410</td>\n",
       "    </tr>\n",
       "    <tr>\n",
       "      <th>CRSElapsedTime</th>\n",
       "      <td>-0.004354</td>\n",
       "      <td>-0.005953</td>\n",
       "      <td>0.015399</td>\n",
       "      <td>-0.009141</td>\n",
       "      <td>0.060703</td>\n",
       "      <td>-0.328349</td>\n",
       "      <td>1.000000</td>\n",
       "      <td>0.033906</td>\n",
       "      <td>0.983401</td>\n",
       "      <td>-0.007167</td>\n",
       "    </tr>\n",
       "    <tr>\n",
       "      <th>DepDelay</th>\n",
       "      <td>-0.027598</td>\n",
       "      <td>0.008002</td>\n",
       "      <td>0.008023</td>\n",
       "      <td>0.137659</td>\n",
       "      <td>0.133053</td>\n",
       "      <td>0.015708</td>\n",
       "      <td>0.033906</td>\n",
       "      <td>1.000000</td>\n",
       "      <td>0.024383</td>\n",
       "      <td>-0.000808</td>\n",
       "    </tr>\n",
       "    <tr>\n",
       "      <th>Distance</th>\n",
       "      <td>-0.004735</td>\n",
       "      <td>-0.005968</td>\n",
       "      <td>0.016653</td>\n",
       "      <td>-0.008915</td>\n",
       "      <td>0.050173</td>\n",
       "      <td>-0.349606</td>\n",
       "      <td>0.983401</td>\n",
       "      <td>0.024383</td>\n",
       "      <td>1.000000</td>\n",
       "      <td>-0.007604</td>\n",
       "    </tr>\n",
       "    <tr>\n",
       "      <th>Cancelled</th>\n",
       "      <td>0.019147</td>\n",
       "      <td>-0.003119</td>\n",
       "      <td>0.000500</td>\n",
       "      <td>0.005369</td>\n",
       "      <td>-0.000360</td>\n",
       "      <td>0.016410</td>\n",
       "      <td>-0.007167</td>\n",
       "      <td>-0.000808</td>\n",
       "      <td>-0.007604</td>\n",
       "      <td>1.000000</td>\n",
       "    </tr>\n",
       "  </tbody>\n",
       "</table>\n",
       "</div>"
      ],
      "text/plain": [
       "                   Month  DayofMonth  DayOfWeek  CRSDepTime  CRSArrTime  \\\n",
       "Month           1.000000   -0.004535  -0.011494   -0.005726    0.002835   \n",
       "DayofMonth     -0.004535    1.000000   0.014203    0.002298    0.001204   \n",
       "DayOfWeek      -0.011494    0.014203   1.000000    0.004856    0.005702   \n",
       "CRSDepTime     -0.005726    0.002298   0.004856    1.000000    0.790440   \n",
       "CRSArrTime      0.002835    0.001204   0.005702    0.790440    1.000000   \n",
       "FlightNum       0.006140    0.008866  -0.006192   -0.011723   -0.030084   \n",
       "CRSElapsedTime -0.004354   -0.005953   0.015399   -0.009141    0.060703   \n",
       "DepDelay       -0.027598    0.008002   0.008023    0.137659    0.133053   \n",
       "Distance       -0.004735   -0.005968   0.016653   -0.008915    0.050173   \n",
       "Cancelled       0.019147   -0.003119   0.000500    0.005369   -0.000360   \n",
       "\n",
       "                FlightNum  CRSElapsedTime  DepDelay  Distance  Cancelled  \n",
       "Month            0.006140       -0.004354 -0.027598 -0.004735   0.019147  \n",
       "DayofMonth       0.008866       -0.005953  0.008002 -0.005968  -0.003119  \n",
       "DayOfWeek       -0.006192        0.015399  0.008023  0.016653   0.000500  \n",
       "CRSDepTime      -0.011723       -0.009141  0.137659 -0.008915   0.005369  \n",
       "CRSArrTime      -0.030084        0.060703  0.133053  0.050173  -0.000360  \n",
       "FlightNum        1.000000       -0.328349  0.015708 -0.349606   0.016410  \n",
       "CRSElapsedTime  -0.328349        1.000000  0.033906  0.983401  -0.007167  \n",
       "DepDelay         0.015708        0.033906  1.000000  0.024383  -0.000808  \n",
       "Distance        -0.349606        0.983401  0.024383  1.000000  -0.007604  \n",
       "Cancelled        0.016410       -0.007167 -0.000808 -0.007604   1.000000  "
      ]
     },
     "execution_count": 24,
     "metadata": {},
     "output_type": "execute_result"
    }
   ],
   "source": [
    "fly.corr() # pyplot, seaborn"
   ]
  },
  {
   "cell_type": "markdown",
   "metadata": {},
   "source": [
    "Приведем данные к виду, пригодному для обучения линейных моделей. Для этого вещественные признаки надо отмасштабировать, а категориальные — привести к числовому виду"
   ]
  },
  {
   "cell_type": "code",
   "execution_count": 25,
   "metadata": {
    "collapsed": true
   },
   "outputs": [],
   "source": [
    "def scaler(column):\n",
    "    mean = column.mean() # среднее\n",
    "    std = column.std()# standart deviation, стандартное отклонение, сигма\n",
    "    return (column - mean) / std\n",
    "    \n",
    "    \n",
    "    "
   ]
  },
  {
   "cell_type": "markdown",
   "metadata": {},
   "source": [
    "В первую очередь поймем, зачем необходимо применять масштабирование. Следующие ячейки с кодом построят гистограммы для 3 вещественных признаков выборки."
   ]
  },
  {
   "cell_type": "code",
   "execution_count": 29,
   "metadata": {
    "scrolled": true
   },
   "outputs": [
    {
     "data": {
      "text/plain": [
       "<matplotlib.axes._subplots.AxesSubplot at 0x114a65e10>"
      ]
     },
     "execution_count": 29,
     "metadata": {},
     "output_type": "execute_result"
    },
    {
     "data": {
      "image/png": "[encoded data removed]",
      "text/plain": [
       "<matplotlib.figure.Figure at 0x114a65550>"
      ]
     },
     "metadata": {},
     "output_type": "display_data"
    }
   ],
   "source": [
    "fly['CRSDepTime'].hist(bins=24) #(24 - per hour)"
   ]
  },
  {
   "cell_type": "code",
   "execution_count": 30,
   "metadata": {},
   "outputs": [
    {
     "data": {
      "text/plain": [
       "<matplotlib.axes._subplots.AxesSubplot at 0x114a650b8>"
      ]
     },
     "execution_count": 30,
     "metadata": {},
     "output_type": "execute_result"
    },
    {
     "data": {
      "image/png": "[encoded data removed]",
      "text/plain": [
       "<matplotlib.figure.Figure at 0x110e9eb38>"
      ]
     },
     "metadata": {},
     "output_type": "display_data"
    }
   ],
   "source": [
    "scaler(fly['CRSDepTime']).hist(bins=24)"
   ]
  },
  {
   "cell_type": "code",
   "execution_count": 31,
   "metadata": {},
   "outputs": [
    {
     "data": {
      "text/plain": [
       "<matplotlib.axes._subplots.AxesSubplot at 0x1118f7438>"
      ]
     },
     "execution_count": 31,
     "metadata": {},
     "output_type": "execute_result"
    },
    {
     "data": {
      "image/png": "[encoded data removed]",
      "text/plain": [
       "<matplotlib.figure.Figure at 0x111fcfe10>"
      ]
     },
     "metadata": {},
     "output_type": "display_data"
    }
   ],
   "source": [
    "fly['FlightNum'].hist(bins=40) "
   ]
  },
  {
   "cell_type": "markdown",
   "metadata": {},
   "source": [
    "Некоторые из признаков являются категориальными. Типичным подходом к работе с ними является бинарное, или [one-hot-кодирование](https://en.wikipedia.org/wiki/One-hot).\n"
   ]
  },
  {
   "cell_type": "code",
   "execution_count": 44,
   "metadata": {
    "collapsed": true
   },
   "outputs": [],
   "source": [
    "fly = fly[fly['Cancelled'] == 0]"
   ]
  },
  {
   "cell_type": "code",
   "execution_count": 74,
   "metadata": {
    "collapsed": true
   },
   "outputs": [],
   "source": [
    "features_to_drop = ['TailNum','DayofMonth','Cancelled','DepDelay']"
   ]
  },
  {
   "cell_type": "code",
   "execution_count": 85,
   "metadata": {
    "collapsed": true
   },
   "outputs": [],
   "source": [
    "categorical_features = ['DayOfWeek','UniqueCarrier','FlightNum','Origin','Dest']## one-hot-encoding"
   ]
  },
  {
   "cell_type": "code",
   "execution_count": 76,
   "metadata": {
    "collapsed": true
   },
   "outputs": [],
   "source": [
    "num_features = ['CRSDepTime','CRSArrTime','CRSElapsedTime','Distance']"
   ]
  },
  {
   "cell_type": "code",
   "execution_count": 77,
   "metadata": {},
   "outputs": [],
   "source": [
    "target = fly['DepDelay']"
   ]
  },
  {
   "cell_type": "code",
   "execution_count": 78,
   "metadata": {
    "collapsed": true
   },
   "outputs": [],
   "source": [
    "def one_hot(column, column_name):\n",
    "    df = pd.DataFrame()\n",
    "    unique_values = column.unique()\n",
    "    for value in unique_values:\n",
    "        df[column_name+'_'+str(value)] = (column == value).astype(int)\n",
    "    return df"
   ]
  },
  {
   "cell_type": "code",
   "execution_count": 88,
   "metadata": {
    "collapsed": true
   },
   "outputs": [],
   "source": [
    "from sklearn.preprocessing import OneHotEncoder\n",
    "from sklearn import preprocessing\n",
    "def create_df(X_,features_to_drop,categorical_features,num_features):\n",
    "    X = X_.copy()\n",
    "    for column in features_to_drop:\n",
    "        del X[column]\n",
    "        print(column)\n",
    "    for column in categorical_features:\n",
    "        le = preprocessing.LabelEncoder()\n",
    "        X[column] = le.fit_transform(X[column])\n",
    "    for column in num_features:\n",
    "        X[column] = scaler(X[column])\n",
    "        print(column)\n",
    "    print(1)\n",
    "    enc = OneHotEncoder(categorical_features=\\\n",
    "    [i for i, col in enumerate(X.columns) if col in categorical_features])\n",
    "    X = enc.fit_transform(X)\n",
    "    \n",
    "    return X"
   ]
  },
  {
   "cell_type": "code",
   "execution_count": 89,
   "metadata": {},
   "outputs": [
    {
     "name": "stdout",
     "output_type": "stream",
     "text": [
      "TailNum\n",
      "DayofMonth\n",
      "Cancelled\n",
      "DepDelay\n",
      "CRSDepTime\n",
      "CRSArrTime\n",
      "CRSElapsedTime\n",
      "Distance\n",
      "1\n"
     ]
    }
   ],
   "source": [
    "X = create_df(fly,features_to_drop,categorical_features,num_features)"
   ]
  },
  {
   "cell_type": "code",
   "execution_count": 92,
   "metadata": {},
   "outputs": [
    {
     "data": {
      "text/plain": [
       "<68589x7603 sparse matrix of type '<class 'numpy.float64'>'\n",
       "\twith 685890 stored elements in COOrdinate format>"
      ]
     },
     "execution_count": 92,
     "metadata": {},
     "output_type": "execute_result"
    }
   ],
   "source": [
    "X"
   ]
  },
  {
   "cell_type": "code",
   "execution_count": 93,
   "metadata": {
    "scrolled": true
   },
   "outputs": [
    {
     "data": {
      "text/plain": [
       "0        16.0\n",
       "1        16.0\n",
       "2        -2.0\n",
       "3        -3.0\n",
       "4        -5.0\n",
       "5        24.0\n",
       "6        -1.0\n",
       "7        -5.0\n",
       "8        -4.0\n",
       "9        -2.0\n",
       "10       42.0\n",
       "12       11.0\n",
       "13       -7.0\n",
       "14       18.0\n",
       "15       -9.0\n",
       "16       -3.0\n",
       "17        1.0\n",
       "18       20.0\n",
       "19       -1.0\n",
       "20       -7.0\n",
       "21       -3.0\n",
       "22       -3.0\n",
       "23       32.0\n",
       "24       -4.0\n",
       "25        1.0\n",
       "26       -8.0\n",
       "27       -1.0\n",
       "28        0.0\n",
       "29       -4.0\n",
       "30       -7.0\n",
       "         ... \n",
       "69970     2.0\n",
       "69971    11.0\n",
       "69972    10.0\n",
       "69973    -3.0\n",
       "69974    -1.0\n",
       "69975    30.0\n",
       "69976    -1.0\n",
       "69977     5.0\n",
       "69978    -5.0\n",
       "69979    -7.0\n",
       "69980    15.0\n",
       "69981    34.0\n",
       "69982    -9.0\n",
       "69983    -4.0\n",
       "69984   -10.0\n",
       "69985    -3.0\n",
       "69986    -4.0\n",
       "69987    -8.0\n",
       "69988    -1.0\n",
       "69989    -2.0\n",
       "69990    -3.0\n",
       "69991    -6.0\n",
       "69992    -7.0\n",
       "69993    10.0\n",
       "69994    -5.0\n",
       "69995   -11.0\n",
       "69996    24.0\n",
       "69997     0.0\n",
       "69998     6.0\n",
       "69999    -1.0\n",
       "Name: DepDelay, Length: 68589, dtype: float64"
      ]
     },
     "execution_count": 93,
     "metadata": {},
     "output_type": "execute_result"
    }
   ],
   "source": [
    "target"
   ]
  },
  {
   "cell_type": "code",
   "execution_count": null,
   "metadata": {
    "collapsed": true
   },
   "outputs": [],
   "source": []
  },
  {
   "cell_type": "markdown",
   "metadata": {},
   "source": [
    "Разделим выборку и вектор целевой переменной на обучение и контроль в отношении 70/30 (для этого можно использовать, например, функцию [train_test_split](http://scikit-learn.org/stable/modules/generated/sklearn.cross_validation.train_test_split.html)). "
   ]
  },
  {
   "cell_type": "code",
   "execution_count": null,
   "metadata": {
    "collapsed": true
   },
   "outputs": [],
   "source": [
    "X_train, X_test = X[X['Month'] < 11], X[X['Month'] >= 11]\n",
    "target = fly['DepDelay']"
   ]
  },
  {
   "cell_type": "markdown",
   "metadata": {},
   "source": [
    "### Scikit-learn\n",
    "\n",
    "<img src = \"https://pp.vk.me/c4534/u35727827/93547647/x_d31c4463.jpg\">\n",
    "Теперь, когда мы привели данные к пригодному виду, попробуем решить задачу при помощи метода наименьших квадратов. Напомним, что данный метод заключается в оптимизации функционала $MSE$:\n",
    "\n",
    "$$MSE(X, y) = \\frac{1}{l} \\sum_{i=1}^l (<w, x_i> - y_i)^2 \\to \\min_{w},$$\n",
    "\n",
    "где $\\{ (x_i, y_i ) \\}_{i=1}^l$ — обучающая выборка, состоящая из $l$ пар объект-ответ.\n",
    "\n",
    "Решение данной задачи уже реализовано в модуле sklearn в виде класса [LinearRegression](http://scikit-learn.org/stable/modules/generated/sklearn.linear_model.LinearRegression.html#sklearn.linear_model.LinearRegression).\n"
   ]
  },
  {
   "cell_type": "code",
   "execution_count": 96,
   "metadata": {},
   "outputs": [],
   "source": [
    "import sklearn\n",
    "from sklearn import linear_model#.LinearRegression"
   ]
  },
  {
   "cell_type": "code",
   "execution_count": 101,
   "metadata": {},
   "outputs": [],
   "source": [
    "model = linear_model.LinearRegression()"
   ]
  },
  {
   "cell_type": "code",
   "execution_count": 102,
   "metadata": {},
   "outputs": [
    {
     "data": {
      "text/plain": [
       "LinearRegression(copy_X=True, fit_intercept=True, n_jobs=1, normalize=False)"
      ]
     },
     "execution_count": 102,
     "metadata": {},
     "output_type": "execute_result"
    }
   ],
   "source": [
    "model.fit(X,target)"
   ]
  },
  {
   "cell_type": "code",
   "execution_count": 106,
   "metadata": {},
   "outputs": [
    {
     "data": {
      "text/plain": [
       "array([ -0.47163973,  -1.97487162,  -2.90232714, ...,   1.56169812,\n",
       "        14.05026361, -13.30759747])"
      ]
     },
     "execution_count": 106,
     "metadata": {},
     "output_type": "execute_result"
    }
   ],
   "source": [
    "model.coef_"
   ]
  },
  {
   "cell_type": "code",
   "execution_count": 107,
   "metadata": {},
   "outputs": [],
   "source": [
    "predicted = model.predict(X)"
   ]
  },
  {
   "cell_type": "code",
   "execution_count": 108,
   "metadata": {
    "collapsed": true
   },
   "outputs": [],
   "source": [
    "from sklearn.metrics import mean_squared_error"
   ]
  },
  {
   "cell_type": "code",
   "execution_count": 110,
   "metadata": {},
   "outputs": [
    {
     "data": {
      "text/plain": [
       "31.7529200135475"
      ]
     },
     "execution_count": 110,
     "metadata": {},
     "output_type": "execute_result"
    }
   ],
   "source": [
    "np.sqrt(mean_squared_error(target,predicted)) # "
   ]
  },
  {
   "cell_type": "code",
   "execution_count": null,
   "metadata": {
    "collapsed": true
   },
   "outputs": [],
   "source": []
  }
 ],
 "metadata": {
  "anaconda-cloud": {},
  "kernelspec": {
   "display_name": "Python 3",
   "language": "python",
   "name": "python3"
  },
  "language_info": {
   "codemirror_mode": {
    "name": "ipython",
    "version": 3
   },
   "file_extension": ".py",
   "mimetype": "text/x-python",
   "name": "python",
   "nbconvert_exporter": "python",
   "pygments_lexer": "ipython3",
   "version": "3.6.3"
  }
 },
 "nbformat": 4,
 "nbformat_minor": 1
}
