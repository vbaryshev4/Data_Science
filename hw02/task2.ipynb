{
 "cells": [
  {
   "cell_type": "markdown",
   "metadata": {},
   "source": [
    "## Линейная регрессия\n",
    "\n",
    "Будем рассматривать датасет для предсказания времени задержки отправления рейса в минутах (DepDelay).\n",
    "\n",
    "### Подготовка данных\n",
    "\n",
    "#### Пропуски"
   ]
  },
  {
   "cell_type": "code",
   "execution_count": 38,
   "metadata": {
    "collapsed": true,
    "scrolled": true
   },
   "outputs": [],
   "source": [
    "import pandas as pd\n",
    "import numpy as np\n",
    "import matplotlib.pyplot as plt\n",
    "pd.set_option('display.max_columns',100)\n",
    "%matplotlib inline\n",
    "\n",
    "fly = pd.read_csv('2008.csv')\n",
    "fly = fly.fillna('_NaN_')\n"
   ]
  },
  {
   "cell_type": "code",
   "execution_count": 6,
   "metadata": {},
   "outputs": [
    {
     "data": {
      "text/html": [
       "<div>\n",
       "<style>\n",
       "    .dataframe thead tr:only-child th {\n",
       "        text-align: right;\n",
       "    }\n",
       "\n",
       "    .dataframe thead th {\n",
       "        text-align: left;\n",
       "    }\n",
       "\n",
       "    .dataframe tbody tr th {\n",
       "        vertical-align: top;\n",
       "    }\n",
       "</style>\n",
       "<table border=\"1\" class=\"dataframe\">\n",
       "  <thead>\n",
       "    <tr style=\"text-align: right;\">\n",
       "      <th></th>\n",
       "      <th>Year</th>\n",
       "      <th>Month</th>\n",
       "      <th>DayofMonth</th>\n",
       "      <th>DayOfWeek</th>\n",
       "      <th>DepTime</th>\n",
       "      <th>CRSDepTime</th>\n",
       "      <th>ArrTime</th>\n",
       "      <th>CRSArrTime</th>\n",
       "      <th>UniqueCarrier</th>\n",
       "      <th>FlightNum</th>\n",
       "      <th>TailNum</th>\n",
       "      <th>ActualElapsedTime</th>\n",
       "      <th>CRSElapsedTime</th>\n",
       "      <th>AirTime</th>\n",
       "      <th>ArrDelay</th>\n",
       "      <th>DepDelay</th>\n",
       "      <th>Origin</th>\n",
       "      <th>Dest</th>\n",
       "      <th>Distance</th>\n",
       "      <th>TaxiIn</th>\n",
       "      <th>TaxiOut</th>\n",
       "      <th>Cancelled</th>\n",
       "      <th>CancellationCode</th>\n",
       "      <th>Diverted</th>\n",
       "      <th>CarrierDelay</th>\n",
       "      <th>WeatherDelay</th>\n",
       "      <th>NASDelay</th>\n",
       "      <th>SecurityDelay</th>\n",
       "      <th>LateAircraftDelay</th>\n",
       "    </tr>\n",
       "  </thead>\n",
       "  <tbody>\n",
       "    <tr>\n",
       "      <th>0</th>\n",
       "      <td>2008</td>\n",
       "      <td>6</td>\n",
       "      <td>18</td>\n",
       "      <td>3</td>\n",
       "      <td>2111</td>\n",
       "      <td>2055</td>\n",
       "      <td>2308</td>\n",
       "      <td>2300</td>\n",
       "      <td>WN</td>\n",
       "      <td>242</td>\n",
       "      <td>N699SW</td>\n",
       "      <td>57</td>\n",
       "      <td>65</td>\n",
       "      <td>46</td>\n",
       "      <td>8</td>\n",
       "      <td>16</td>\n",
       "      <td>MDW</td>\n",
       "      <td>CLE</td>\n",
       "      <td>307</td>\n",
       "      <td>3</td>\n",
       "      <td>8</td>\n",
       "      <td>0</td>\n",
       "      <td>_NaN_</td>\n",
       "      <td>0</td>\n",
       "      <td>_NaN_</td>\n",
       "      <td>_NaN_</td>\n",
       "      <td>_NaN_</td>\n",
       "      <td>_NaN_</td>\n",
       "      <td>_NaN_</td>\n",
       "    </tr>\n",
       "    <tr>\n",
       "      <th>1</th>\n",
       "      <td>2008</td>\n",
       "      <td>6</td>\n",
       "      <td>4</td>\n",
       "      <td>3</td>\n",
       "      <td>1426</td>\n",
       "      <td>1410</td>\n",
       "      <td>1730</td>\n",
       "      <td>1728</td>\n",
       "      <td>XE</td>\n",
       "      <td>2380</td>\n",
       "      <td>N15980</td>\n",
       "      <td>124</td>\n",
       "      <td>138</td>\n",
       "      <td>108</td>\n",
       "      <td>2</td>\n",
       "      <td>16</td>\n",
       "      <td>IAH</td>\n",
       "      <td>AVL</td>\n",
       "      <td>834</td>\n",
       "      <td>4</td>\n",
       "      <td>12</td>\n",
       "      <td>0</td>\n",
       "      <td>_NaN_</td>\n",
       "      <td>0</td>\n",
       "      <td>_NaN_</td>\n",
       "      <td>_NaN_</td>\n",
       "      <td>_NaN_</td>\n",
       "      <td>_NaN_</td>\n",
       "      <td>_NaN_</td>\n",
       "    </tr>\n",
       "    <tr>\n",
       "      <th>2</th>\n",
       "      <td>2008</td>\n",
       "      <td>8</td>\n",
       "      <td>3</td>\n",
       "      <td>7</td>\n",
       "      <td>1143</td>\n",
       "      <td>1145</td>\n",
       "      <td>1501</td>\n",
       "      <td>1520</td>\n",
       "      <td>WN</td>\n",
       "      <td>1769</td>\n",
       "      <td>N464WN</td>\n",
       "      <td>138</td>\n",
       "      <td>155</td>\n",
       "      <td>125</td>\n",
       "      <td>-19</td>\n",
       "      <td>-2</td>\n",
       "      <td>MDW</td>\n",
       "      <td>TPA</td>\n",
       "      <td>997</td>\n",
       "      <td>4</td>\n",
       "      <td>9</td>\n",
       "      <td>0</td>\n",
       "      <td>_NaN_</td>\n",
       "      <td>0</td>\n",
       "      <td>_NaN_</td>\n",
       "      <td>_NaN_</td>\n",
       "      <td>_NaN_</td>\n",
       "      <td>_NaN_</td>\n",
       "      <td>_NaN_</td>\n",
       "    </tr>\n",
       "    <tr>\n",
       "      <th>3</th>\n",
       "      <td>2008</td>\n",
       "      <td>1</td>\n",
       "      <td>23</td>\n",
       "      <td>3</td>\n",
       "      <td>1141</td>\n",
       "      <td>1144</td>\n",
       "      <td>1323</td>\n",
       "      <td>1335</td>\n",
       "      <td>OO</td>\n",
       "      <td>3802</td>\n",
       "      <td>N465SW</td>\n",
       "      <td>102</td>\n",
       "      <td>111</td>\n",
       "      <td>79</td>\n",
       "      <td>-12</td>\n",
       "      <td>-3</td>\n",
       "      <td>SLC</td>\n",
       "      <td>FCA</td>\n",
       "      <td>532</td>\n",
       "      <td>4</td>\n",
       "      <td>19</td>\n",
       "      <td>0</td>\n",
       "      <td>_NaN_</td>\n",
       "      <td>0</td>\n",
       "      <td>_NaN_</td>\n",
       "      <td>_NaN_</td>\n",
       "      <td>_NaN_</td>\n",
       "      <td>_NaN_</td>\n",
       "      <td>_NaN_</td>\n",
       "    </tr>\n",
       "    <tr>\n",
       "      <th>4</th>\n",
       "      <td>2008</td>\n",
       "      <td>5</td>\n",
       "      <td>4</td>\n",
       "      <td>7</td>\n",
       "      <td>815</td>\n",
       "      <td>820</td>\n",
       "      <td>1243</td>\n",
       "      <td>1300</td>\n",
       "      <td>WN</td>\n",
       "      <td>399</td>\n",
       "      <td>N489WN</td>\n",
       "      <td>148</td>\n",
       "      <td>160</td>\n",
       "      <td>136</td>\n",
       "      <td>-17</td>\n",
       "      <td>-5</td>\n",
       "      <td>LAS</td>\n",
       "      <td>AUS</td>\n",
       "      <td>1090</td>\n",
       "      <td>4</td>\n",
       "      <td>8</td>\n",
       "      <td>0</td>\n",
       "      <td>_NaN_</td>\n",
       "      <td>0</td>\n",
       "      <td>_NaN_</td>\n",
       "      <td>_NaN_</td>\n",
       "      <td>_NaN_</td>\n",
       "      <td>_NaN_</td>\n",
       "      <td>_NaN_</td>\n",
       "    </tr>\n",
       "  </tbody>\n",
       "</table>\n",
       "</div>"
      ],
      "text/plain": [
       "   Year  Month  DayofMonth  DayOfWeek DepTime  CRSDepTime ArrTime  CRSArrTime  \\\n",
       "0  2008      6          18          3    2111        2055    2308        2300   \n",
       "1  2008      6           4          3    1426        1410    1730        1728   \n",
       "2  2008      8           3          7    1143        1145    1501        1520   \n",
       "3  2008      1          23          3    1141        1144    1323        1335   \n",
       "4  2008      5           4          7     815         820    1243        1300   \n",
       "\n",
       "  UniqueCarrier  FlightNum TailNum ActualElapsedTime CRSElapsedTime AirTime  \\\n",
       "0            WN        242  N699SW                57             65      46   \n",
       "1            XE       2380  N15980               124            138     108   \n",
       "2            WN       1769  N464WN               138            155     125   \n",
       "3            OO       3802  N465SW               102            111      79   \n",
       "4            WN        399  N489WN               148            160     136   \n",
       "\n",
       "  ArrDelay DepDelay Origin Dest  Distance TaxiIn TaxiOut  Cancelled  \\\n",
       "0        8       16    MDW  CLE       307      3       8          0   \n",
       "1        2       16    IAH  AVL       834      4      12          0   \n",
       "2      -19       -2    MDW  TPA       997      4       9          0   \n",
       "3      -12       -3    SLC  FCA       532      4      19          0   \n",
       "4      -17       -5    LAS  AUS      1090      4       8          0   \n",
       "\n",
       "  CancellationCode  Diverted CarrierDelay WeatherDelay NASDelay SecurityDelay  \\\n",
       "0            _NaN_         0        _NaN_        _NaN_    _NaN_         _NaN_   \n",
       "1            _NaN_         0        _NaN_        _NaN_    _NaN_         _NaN_   \n",
       "2            _NaN_         0        _NaN_        _NaN_    _NaN_         _NaN_   \n",
       "3            _NaN_         0        _NaN_        _NaN_    _NaN_         _NaN_   \n",
       "4            _NaN_         0        _NaN_        _NaN_    _NaN_         _NaN_   \n",
       "\n",
       "  LateAircraftDelay  \n",
       "0             _NaN_  \n",
       "1             _NaN_  \n",
       "2             _NaN_  \n",
       "3             _NaN_  \n",
       "4             _NaN_  "
      ]
     },
     "execution_count": 6,
     "metadata": {},
     "output_type": "execute_result"
    }
   ],
   "source": [
    "fly.head()"
   ]
  },
  {
   "cell_type": "code",
   "execution_count": 27,
   "metadata": {
    "scrolled": false
   },
   "outputs": [
    {
     "data": {
      "text/html": [
       "<div>\n",
       "<style>\n",
       "    .dataframe thead tr:only-child th {\n",
       "        text-align: right;\n",
       "    }\n",
       "\n",
       "    .dataframe thead th {\n",
       "        text-align: left;\n",
       "    }\n",
       "\n",
       "    .dataframe tbody tr th {\n",
       "        vertical-align: top;\n",
       "    }\n",
       "</style>\n",
       "<table border=\"1\" class=\"dataframe\">\n",
       "  <thead>\n",
       "    <tr style=\"text-align: right;\">\n",
       "      <th></th>\n",
       "      <th>UniqueCarrier</th>\n",
       "      <th>FlightNum</th>\n",
       "    </tr>\n",
       "  </thead>\n",
       "  <tbody>\n",
       "    <tr>\n",
       "      <th>4326</th>\n",
       "      <td>WN</td>\n",
       "      <td>1</td>\n",
       "    </tr>\n",
       "    <tr>\n",
       "      <th>20554</th>\n",
       "      <td>AA</td>\n",
       "      <td>1</td>\n",
       "    </tr>\n",
       "    <tr>\n",
       "      <th>34267</th>\n",
       "      <td>US</td>\n",
       "      <td>1</td>\n",
       "    </tr>\n",
       "    <tr>\n",
       "      <th>40014</th>\n",
       "      <td>AA</td>\n",
       "      <td>1</td>\n",
       "    </tr>\n",
       "    <tr>\n",
       "      <th>46883</th>\n",
       "      <td>CO</td>\n",
       "      <td>1</td>\n",
       "    </tr>\n",
       "    <tr>\n",
       "      <th>21719</th>\n",
       "      <td>UA</td>\n",
       "      <td>1</td>\n",
       "    </tr>\n",
       "    <tr>\n",
       "      <th>47122</th>\n",
       "      <td>US</td>\n",
       "      <td>1</td>\n",
       "    </tr>\n",
       "    <tr>\n",
       "      <th>37334</th>\n",
       "      <td>US</td>\n",
       "      <td>1</td>\n",
       "    </tr>\n",
       "    <tr>\n",
       "      <th>22331</th>\n",
       "      <td>US</td>\n",
       "      <td>1</td>\n",
       "    </tr>\n",
       "    <tr>\n",
       "      <th>16374</th>\n",
       "      <td>B6</td>\n",
       "      <td>1</td>\n",
       "    </tr>\n",
       "  </tbody>\n",
       "</table>\n",
       "</div>"
      ],
      "text/plain": [
       "      UniqueCarrier  FlightNum\n",
       "4326             WN          1\n",
       "20554            AA          1\n",
       "34267            US          1\n",
       "40014            AA          1\n",
       "46883            CO          1\n",
       "21719            UA          1\n",
       "47122            US          1\n",
       "37334            US          1\n",
       "22331            US          1\n",
       "16374            B6          1"
      ]
     },
     "execution_count": 27,
     "metadata": {},
     "output_type": "execute_result"
    }
   ],
   "source": [
    "# Заметим, что номера рейсов и идентификатор перевозчика разнесены \n",
    "# в разные колонки. Чтобы соблюсти уникальность – объеденим значения.\n",
    "\n",
    "carriers_nums = fly[['UniqueCarrier', 'FlightNum']]\n",
    "carriers_nums.sort_values(by = 'FlightNum').head(10)"
   ]
  },
  {
   "cell_type": "code",
   "execution_count": 33,
   "metadata": {},
   "outputs": [],
   "source": [
    "# Создадим новое поле с объединенным номером\n",
    "carrier_and_num = fly['UniqueCarrier'] + fly['FlightNum'].astype(str)\n",
    "\n",
    "# Обагатим полученным столбцом исходные данные(записано в конец таблицы)\n",
    "fly['carrier_and_num'] = carrier_and_num"
   ]
  },
  {
   "cell_type": "markdown",
   "metadata": {},
   "source": [
    "- Имеются ли пропущенные значения?\n",
    "- Ответ: да, можно заменять средним или нулевым значением. Потом сравнить. "
   ]
  },
  {
   "cell_type": "code",
   "execution_count": 18,
   "metadata": {
    "scrolled": true
   },
   "outputs": [
    {
     "name": "stdout",
     "output_type": "stream",
     "text": [
      "Year\n",
      "2008    70000\n",
      "Name: Year, dtype: int64 \n",
      "\n",
      "Month\n",
      "1    6272\n",
      "7    6214\n",
      "5    6145\n",
      "Name: Month, dtype: int64 \n",
      "\n",
      "DayofMonth\n",
      "9     2393\n",
      "29    2385\n",
      "11    2368\n",
      "Name: DayofMonth, dtype: int64 \n",
      "\n",
      "DayOfWeek\n",
      "1    10472\n",
      "2    10329\n",
      "5    10275\n",
      "Name: DayOfWeek, dtype: int64 \n",
      "\n",
      "DepTime\n",
      "_NaN_    1399\n",
      "600.0     165\n",
      "700.0     159\n",
      "Name: DepTime, dtype: int64 \n",
      "\n",
      "CRSDepTime\n",
      "600    1282\n",
      "700     939\n",
      "800     624\n",
      "Name: CRSDepTime, dtype: int64 \n",
      "\n",
      "ArrTime\n",
      "_NaN_     1556\n",
      "1027.0     102\n",
      "1622.0      99\n",
      "Name: ArrTime, dtype: int64 \n",
      "\n",
      "CRSArrTime\n",
      "1255    259\n",
      "1630    258\n",
      "1020    243\n",
      "Name: CRSArrTime, dtype: int64 \n",
      "\n",
      "UniqueCarrier\n",
      "WN    12028\n",
      "AA     5940\n",
      "OO     5533\n",
      "Name: UniqueCarrier, dtype: int64 \n",
      "\n",
      "FlightNum\n",
      "152    59\n",
      "43     58\n",
      "179    56\n",
      "Name: FlightNum, dtype: int64 \n",
      "\n",
      "TailNum\n",
      "_NaN_     820\n",
      "N475HA     52\n",
      "N476HA     47\n",
      "Name: TailNum, dtype: int64 \n",
      "\n",
      "ActualElapsedTime\n",
      "_NaN_    1582\n",
      "80.0      656\n",
      "75.0      647\n",
      "Name: ActualElapsedTime, dtype: int64 \n",
      "\n",
      "CRSElapsedTime\n",
      "65.0    1837\n",
      "75.0    1834\n",
      "80.0    1759\n",
      "Name: CRSElapsedTime, dtype: int64 \n",
      "\n",
      "AirTime\n",
      "_NaN_    1582\n",
      "44.0      720\n",
      "50.0      712\n",
      "Name: AirTime, dtype: int64 \n",
      "\n",
      "ArrDelay\n",
      "-6.0    2165\n",
      "-5.0    2151\n",
      "-8.0    2134\n",
      "Name: ArrDelay, dtype: int64 \n",
      "\n",
      "DepDelay\n",
      "-5.0    5391\n",
      " 0.0    5197\n",
      "-3.0    4955\n",
      "Name: DepDelay, dtype: int64 \n",
      "\n",
      "Origin\n",
      "ATL    4134\n",
      "ORD    3550\n",
      "DFW    2793\n",
      "Name: Origin, dtype: int64 \n",
      "\n",
      "Dest\n",
      "ATL    4280\n",
      "ORD    3391\n",
      "DFW    2814\n",
      "Name: Dest, dtype: int64 \n",
      "\n",
      "Distance\n",
      "337    432\n",
      "109    345\n",
      "214    329\n",
      "Name: Distance, dtype: int64 \n",
      "\n",
      "TaxiIn\n",
      "4.0    11292\n",
      "5.0    11085\n",
      "6.0     8335\n",
      "Name: TaxiIn, dtype: int64 \n",
      "\n",
      "TaxiOut\n",
      "11.0    5072\n",
      "10.0    5042\n",
      "12.0    4936\n",
      "Name: TaxiOut, dtype: int64 \n",
      "\n",
      "Cancelled\n",
      "0    68589\n",
      "1     1411\n",
      "Name: Cancelled, dtype: int64 \n",
      "\n",
      "CancellationCode\n",
      "_NaN_    68589\n",
      "A          563\n",
      "B          549\n",
      "Name: CancellationCode, dtype: int64 \n",
      "\n",
      "Diverted\n",
      "0    69829\n",
      "1      171\n",
      "Name: Diverted, dtype: int64 \n",
      "\n",
      "CarrierDelay\n",
      "_NaN_    54747\n",
      "0.0       8383\n",
      "15.0       235\n",
      "Name: CarrierDelay, dtype: int64 \n",
      "\n",
      "WeatherDelay\n",
      "_NaN_    54747\n",
      "0.0      14285\n",
      "15.0        36\n",
      "Name: WeatherDelay, dtype: int64 \n",
      "\n",
      "NASDelay\n",
      "_NaN_    54747\n",
      "0.0       6120\n",
      "15.0       388\n",
      "Name: NASDelay, dtype: int64 \n",
      "\n",
      "SecurityDelay\n",
      "_NaN_    54747\n",
      "0.0      15194\n",
      "1.0          6\n",
      "Name: SecurityDelay, dtype: int64 \n",
      "\n",
      "LateAircraftDelay\n",
      "_NaN_    54747\n",
      "0.0       8225\n",
      "16.0       198\n",
      "Name: LateAircraftDelay, dtype: int64 \n",
      "\n"
     ]
    }
   ],
   "source": [
    "# Наиболее частые значения столбцов\n",
    "for column in fly.columns:\n",
    "    print(column)\n",
    "    print(fly[column].value_counts()[:3], '\\n')"
   ]
  },
  {
   "cell_type": "code",
   "execution_count": 34,
   "metadata": {
    "scrolled": true
   },
   "outputs": [
    {
     "name": "stdout",
     "output_type": "stream",
     "text": [
      "Year\n",
      "1 \n",
      "\n",
      "Month\n",
      "12 \n",
      "\n",
      "DayofMonth\n",
      "31 \n",
      "\n",
      "DayOfWeek\n",
      "7 \n",
      "\n",
      "DepTime\n",
      "1281 \n",
      "\n",
      "CRSDepTime\n",
      "1111 \n",
      "\n",
      "ArrTime\n",
      "1374 \n",
      "\n",
      "CRSArrTime\n",
      "1273 \n",
      "\n",
      "UniqueCarrier\n",
      "20 \n",
      "\n",
      "FlightNum\n",
      "6999 \n",
      "\n",
      "TailNum\n",
      "5121 \n",
      "\n",
      "ActualElapsedTime\n",
      "489 \n",
      "\n",
      "CRSElapsedTime\n",
      "447 \n",
      "\n",
      "AirTime\n",
      "472 \n",
      "\n",
      "ArrDelay\n",
      "427 \n",
      "\n",
      "DepDelay\n",
      "398 \n",
      "\n",
      "Origin\n",
      "297 \n",
      "\n",
      "Dest\n",
      "299 \n",
      "\n",
      "Distance\n",
      "1336 \n",
      "\n",
      "TaxiIn\n",
      "80 \n",
      "\n",
      "TaxiOut\n",
      "166 \n",
      "\n",
      "Cancelled\n",
      "2 \n",
      "\n",
      "CancellationCode\n",
      "4 \n",
      "\n",
      "Diverted\n",
      "2 \n",
      "\n",
      "CarrierDelay\n",
      "276 \n",
      "\n",
      "WeatherDelay\n",
      "178 \n",
      "\n",
      "NASDelay\n",
      "250 \n",
      "\n",
      "SecurityDelay\n",
      "30 \n",
      "\n",
      "LateAircraftDelay\n",
      "275 \n",
      "\n",
      "carrier_and_num\n",
      "21899 \n",
      "\n"
     ]
    }
   ],
   "source": [
    "# Количество уникальных значения в столбцах\n",
    "for column in fly.columns:\n",
    "    print(column)\n",
    "    print(fly[column].unique().shape[0], '\\n')"
   ]
  },
  {
   "cell_type": "code",
   "execution_count": 49,
   "metadata": {},
   "outputs": [
    {
     "data": {
      "text/plain": [
       "(array([10472., 10329., 10197., 10255., 10275.,  8607.,  9865.]),\n",
       " array([1.        , 1.85714286, 2.71428571, 3.57142857, 4.42857143,\n",
       "        5.28571429, 6.14285714, 7.        ]),\n",
       " <a list of 7 Patch objects>)"
      ]
     },
     "execution_count": 49,
     "metadata": {},
     "output_type": "execute_result"
    },
    {
     "data": {
      "image/png": "[encoded data removed]",
      "text/plain": [
       "<matplotlib.figure.Figure at 0x1136dbc18>"
      ]
     },
     "metadata": {},
     "output_type": "display_data"
    }
   ],
   "source": [
    "# Как распределены полдеты по дням недели\n",
    "plt.hist(fly['DayOfWeek'], bins=7)\n",
    "# Заметим, что что в субботу просадка по данным"
   ]
  },
  {
   "cell_type": "code",
   "execution_count": 101,
   "metadata": {},
   "outputs": [
    {
     "data": {
      "text/plain": [
       "0        (21, 11)\n",
       "1        (14, 26)\n",
       "2        (11, 43)\n",
       "3        (11, 41)\n",
       "4         (8, 15)\n",
       "5        (13, 49)\n",
       "6        (13, 59)\n",
       "7        (18, 15)\n",
       "8         (6, 26)\n",
       "9         (19, 5)\n",
       "10       (20, 42)\n",
       "11         (0, 0)\n",
       "12        (11, 1)\n",
       "13       (13, 48)\n",
       "14       (15, 28)\n",
       "15       (16, 51)\n",
       "16        (5, 57)\n",
       "17       (19, 51)\n",
       "18        (20, 5)\n",
       "19       (10, 44)\n",
       "20         (9, 6)\n",
       "21        (9, 42)\n",
       "22       (14, 42)\n",
       "23       (20, 32)\n",
       "24        (7, 41)\n",
       "25         (9, 1)\n",
       "26        (7, 52)\n",
       "27       (16, 39)\n",
       "28       (16, 45)\n",
       "29        (8, 11)\n",
       "           ...   \n",
       "69970     (9, 37)\n",
       "69971     (22, 1)\n",
       "69972     (8, 55)\n",
       "69973     (13, 3)\n",
       "69974    (12, 59)\n",
       "69975    (18, 40)\n",
       "69976    (20, 11)\n",
       "69977     (8, 40)\n",
       "69978     (7, 26)\n",
       "69979      (9, 8)\n",
       "69980    (11, 55)\n",
       "69981    (11, 22)\n",
       "69982    (13, 51)\n",
       "69983    (13, 51)\n",
       "69984      (6, 5)\n",
       "69985     (6, 15)\n",
       "69986     (19, 1)\n",
       "69987     (6, 51)\n",
       "69988    (13, 24)\n",
       "69989     (0, 28)\n",
       "69990    (16, 27)\n",
       "69991     (9, 14)\n",
       "69992     (7, 54)\n",
       "69993    (14, 10)\n",
       "69994     (9, 20)\n",
       "69995    (18, 29)\n",
       "69996    (11, 49)\n",
       "69997    (10, 12)\n",
       "69998     (19, 6)\n",
       "69999     (8, 59)\n",
       "Name: DepTime, Length: 70000, dtype: object"
      ]
     },
     "execution_count": 101,
     "metadata": {},
     "output_type": "execute_result"
    }
   ],
   "source": [
    "'''\n",
    "    NOT WORKING\n",
    "    TO DO: Vadmim\n",
    "'''\n",
    "def split_time(value):\n",
    "    if value == '_NaN_':\n",
    "        return 0, 0\n",
    "    value = str(int(value))\n",
    "    if len(value) < 4:\n",
    "        value = '0'*(4 - len(value)) + value\n",
    "    hh = value[:2]\n",
    "    mm = value[2:]\n",
    "    return int(hh), int(mm)\n",
    "fly['DepTime'].apply(lambda x: split_time(x))\n",
    "# fly['Hours'], fly['Minutes'] = new_time[0], new_time[1]\n",
    "# np.array(new_time).shape\n",
    "new_time"
   ]
  },
  {
   "cell_type": "code",
   "execution_count": 11,
   "metadata": {
    "collapsed": true
   },
   "outputs": [],
   "source": [
    "fly = fly[fly['DepDelay'].notnull()]"
   ]
  },
  {
   "cell_type": "code",
   "execution_count": 14,
   "metadata": {
    "collapsed": true
   },
   "outputs": [],
   "source": [
    "fly = fly.drop(['Year','DepTime','ArrTime','AirTime','ArrDelay','ActualElapsedTime',\\\n",
    " 'TaxiIn','CancellationCode','TaxiOut',\\\n",
    "'Diverted','CarrierDelay','WeatherDelay','NASDelay',\\\n",
    " 'SecurityDelay','LateAircraftDelay'],axis=1)"
   ]
  },
  {
   "cell_type": "code",
   "execution_count": 17,
   "metadata": {
    "scrolled": true
   },
   "outputs": [
    {
     "data": {
      "text/plain": [
       "Month             0\n",
       "DayofMonth        0\n",
       "DayOfWeek         0\n",
       "CRSDepTime        0\n",
       "CRSArrTime        0\n",
       "UniqueCarrier     0\n",
       "FlightNum         0\n",
       "TailNum           0\n",
       "CRSElapsedTime    5\n",
       "DepDelay          0\n",
       "Origin            0\n",
       "Dest              0\n",
       "Distance          0\n",
       "Cancelled         0\n",
       "dtype: int64"
      ]
     },
     "execution_count": 17,
     "metadata": {},
     "output_type": "execute_result"
    }
   ],
   "source": [
    "fly.isnull().sum()"
   ]
  },
  {
   "cell_type": "code",
   "execution_count": 21,
   "metadata": {
    "collapsed": true
   },
   "outputs": [],
   "source": [
    "CRSElapsedTime_median = fly['CRSElapsedTime'].median()\n",
    "fly['CRSElapsedTime'] = fly['CRSElapsedTime'].fillna(CRSElapsedTime_median)"
   ]
  },
  {
   "cell_type": "markdown",
   "metadata": {},
   "source": [
    "Некоторые из признаков, отличных от целевой переменной, могут оказывать чересчур значимое влияние на прогноз, поскольку по своему смыслу содержат большую долю информации о значении целевой переменной. Нужно исключить признаки, сильно коррелирующие с ответами."
   ]
  },
  {
   "cell_type": "code",
   "execution_count": 24,
   "metadata": {},
   "outputs": [
    {
     "data": {
      "text/html": [
       "<div>\n",
       "<style>\n",
       "    .dataframe thead tr:only-child th {\n",
       "        text-align: right;\n",
       "    }\n",
       "\n",
       "    .dataframe thead th {\n",
       "        text-align: left;\n",
       "    }\n",
       "\n",
       "    .dataframe tbody tr th {\n",
       "        vertical-align: top;\n",
       "    }\n",
       "</style>\n",
       "<table border=\"1\" class=\"dataframe\">\n",
       "  <thead>\n",
       "    <tr style=\"text-align: right;\">\n",
       "      <th></th>\n",
       "      <th>Month</th>\n",
       "      <th>DayofMonth</th>\n",
       "      <th>DayOfWeek</th>\n",
       "      <th>CRSDepTime</th>\n",
       "      <th>CRSArrTime</th>\n",
       "      <th>FlightNum</th>\n",
       "      <th>CRSElapsedTime</th>\n",
       "      <th>DepDelay</th>\n",
       "      <th>Distance</th>\n",
       "      <th>Cancelled</th>\n",
       "    </tr>\n",
       "  </thead>\n",
       "  <tbody>\n",
       "    <tr>\n",
       "      <th>Month</th>\n",
       "      <td>1.000000</td>\n",
       "      <td>-0.004535</td>\n",
       "      <td>-0.011494</td>\n",
       "      <td>-0.005726</td>\n",
       "      <td>0.002835</td>\n",
       "      <td>0.006140</td>\n",
       "      <td>-0.004354</td>\n",
       "      <td>-0.027598</td>\n",
       "      <td>-0.004735</td>\n",
       "      <td>0.019147</td>\n",
       "    </tr>\n",
       "    <tr>\n",
       "      <th>DayofMonth</th>\n",
       "      <td>-0.004535</td>\n",
       "      <td>1.000000</td>\n",
       "      <td>0.014203</td>\n",
       "      <td>0.002298</td>\n",
       "      <td>0.001204</td>\n",
       "      <td>0.008866</td>\n",
       "      <td>-0.005953</td>\n",
       "      <td>0.008002</td>\n",
       "      <td>-0.005968</td>\n",
       "      <td>-0.003119</td>\n",
       "    </tr>\n",
       "    <tr>\n",
       "      <th>DayOfWeek</th>\n",
       "      <td>-0.011494</td>\n",
       "      <td>0.014203</td>\n",
       "      <td>1.000000</td>\n",
       "      <td>0.004856</td>\n",
       "      <td>0.005702</td>\n",
       "      <td>-0.006192</td>\n",
       "      <td>0.015399</td>\n",
       "      <td>0.008023</td>\n",
       "      <td>0.016653</td>\n",
       "      <td>0.000500</td>\n",
       "    </tr>\n",
       "    <tr>\n",
       "      <th>CRSDepTime</th>\n",
       "      <td>-0.005726</td>\n",
       "      <td>0.002298</td>\n",
       "      <td>0.004856</td>\n",
       "      <td>1.000000</td>\n",
       "      <td>0.790440</td>\n",
       "      <td>-0.011723</td>\n",
       "      <td>-0.009141</td>\n",
       "      <td>0.137659</td>\n",
       "      <td>-0.008915</td>\n",
       "      <td>0.005369</td>\n",
       "    </tr>\n",
       "    <tr>\n",
       "      <th>CRSArrTime</th>\n",
       "      <td>0.002835</td>\n",
       "      <td>0.001204</td>\n",
       "      <td>0.005702</td>\n",
       "      <td>0.790440</td>\n",
       "      <td>1.000000</td>\n",
       "      <td>-0.030084</td>\n",
       "      <td>0.060703</td>\n",
       "      <td>0.133053</td>\n",
       "      <td>0.050173</td>\n",
       "      <td>-0.000360</td>\n",
       "    </tr>\n",
       "    <tr>\n",
       "      <th>FlightNum</th>\n",
       "      <td>0.006140</td>\n",
       "      <td>0.008866</td>\n",
       "      <td>-0.006192</td>\n",
       "      <td>-0.011723</td>\n",
       "      <td>-0.030084</td>\n",
       "      <td>1.000000</td>\n",
       "      <td>-0.328349</td>\n",
       "      <td>0.015708</td>\n",
       "      <td>-0.349606</td>\n",
       "      <td>0.016410</td>\n",
       "    </tr>\n",
       "    <tr>\n",
       "      <th>CRSElapsedTime</th>\n",
       "      <td>-0.004354</td>\n",
       "      <td>-0.005953</td>\n",
       "      <td>0.015399</td>\n",
       "      <td>-0.009141</td>\n",
       "      <td>0.060703</td>\n",
       "      <td>-0.328349</td>\n",
       "      <td>1.000000</td>\n",
       "      <td>0.033906</td>\n",
       "      <td>0.983401</td>\n",
       "      <td>-0.007167</td>\n",
       "    </tr>\n",
       "    <tr>\n",
       "      <th>DepDelay</th>\n",
       "      <td>-0.027598</td>\n",
       "      <td>0.008002</td>\n",
       "      <td>0.008023</td>\n",
       "      <td>0.137659</td>\n",
       "      <td>0.133053</td>\n",
       "      <td>0.015708</td>\n",
       "      <td>0.033906</td>\n",
       "      <td>1.000000</td>\n",
       "      <td>0.024383</td>\n",
       "      <td>-0.000808</td>\n",
       "    </tr>\n",
       "    <tr>\n",
       "      <th>Distance</th>\n",
       "      <td>-0.004735</td>\n",
       "      <td>-0.005968</td>\n",
       "      <td>0.016653</td>\n",
       "      <td>-0.008915</td>\n",
       "      <td>0.050173</td>\n",
       "      <td>-0.349606</td>\n",
       "      <td>0.983401</td>\n",
       "      <td>0.024383</td>\n",
       "      <td>1.000000</td>\n",
       "      <td>-0.007604</td>\n",
       "    </tr>\n",
       "    <tr>\n",
       "      <th>Cancelled</th>\n",
       "      <td>0.019147</td>\n",
       "      <td>-0.003119</td>\n",
       "      <td>0.000500</td>\n",
       "      <td>0.005369</td>\n",
       "      <td>-0.000360</td>\n",
       "      <td>0.016410</td>\n",
       "      <td>-0.007167</td>\n",
       "      <td>-0.000808</td>\n",
       "      <td>-0.007604</td>\n",
       "      <td>1.000000</td>\n",
       "    </tr>\n",
       "  </tbody>\n",
       "</table>\n",
       "</div>"
      ],
      "text/plain": [
       "                   Month  DayofMonth  DayOfWeek  CRSDepTime  CRSArrTime  \\\n",
       "Month           1.000000   -0.004535  -0.011494   -0.005726    0.002835   \n",
       "DayofMonth     -0.004535    1.000000   0.014203    0.002298    0.001204   \n",
       "DayOfWeek      -0.011494    0.014203   1.000000    0.004856    0.005702   \n",
       "CRSDepTime     -0.005726    0.002298   0.004856    1.000000    0.790440   \n",
       "CRSArrTime      0.002835    0.001204   0.005702    0.790440    1.000000   \n",
       "FlightNum       0.006140    0.008866  -0.006192   -0.011723   -0.030084   \n",
       "CRSElapsedTime -0.004354   -0.005953   0.015399   -0.009141    0.060703   \n",
       "DepDelay       -0.027598    0.008002   0.008023    0.137659    0.133053   \n",
       "Distance       -0.004735   -0.005968   0.016653   -0.008915    0.050173   \n",
       "Cancelled       0.019147   -0.003119   0.000500    0.005369   -0.000360   \n",
       "\n",
       "                FlightNum  CRSElapsedTime  DepDelay  Distance  Cancelled  \n",
       "Month            0.006140       -0.004354 -0.027598 -0.004735   0.019147  \n",
       "DayofMonth       0.008866       -0.005953  0.008002 -0.005968  -0.003119  \n",
       "DayOfWeek       -0.006192        0.015399  0.008023  0.016653   0.000500  \n",
       "CRSDepTime      -0.011723       -0.009141  0.137659 -0.008915   0.005369  \n",
       "CRSArrTime      -0.030084        0.060703  0.133053  0.050173  -0.000360  \n",
       "FlightNum        1.000000       -0.328349  0.015708 -0.349606   0.016410  \n",
       "CRSElapsedTime  -0.328349        1.000000  0.033906  0.983401  -0.007167  \n",
       "DepDelay         0.015708        0.033906  1.000000  0.024383  -0.000808  \n",
       "Distance        -0.349606        0.983401  0.024383  1.000000  -0.007604  \n",
       "Cancelled        0.016410       -0.007167 -0.000808 -0.007604   1.000000  "
      ]
     },
     "execution_count": 24,
     "metadata": {},
     "output_type": "execute_result"
    }
   ],
   "source": [
    "fly.corr() # pyplot, seaborn"
   ]
  },
  {
   "cell_type": "markdown",
   "metadata": {},
   "source": [
    "Приведем данные к виду, пригодному для обучения линейных моделей. Для этого вещественные признаки надо отмасштабировать, а категориальные — привести к числовому виду"
   ]
  },
  {
   "cell_type": "code",
   "execution_count": 25,
   "metadata": {
    "collapsed": true
   },
   "outputs": [],
   "source": [
    "def scaler(column):\n",
    "    mean = column.mean() # среднее\n",
    "    std = column.std()# standart deviation, стандартное отклонение, сигма\n",
    "    return (column - mean) / std\n",
    "    \n",
    "    \n",
    "    "
   ]
  },
  {
   "cell_type": "markdown",
   "metadata": {},
   "source": [
    "В первую очередь поймем, зачем необходимо применять масштабирование. Следующие ячейки с кодом построят гистограммы для 3 вещественных признаков выборки."
   ]
  },
  {
   "cell_type": "code",
   "execution_count": 29,
   "metadata": {
    "scrolled": true
   },
   "outputs": [
    {
     "data": {
      "text/plain": [
       "<matplotlib.axes._subplots.AxesSubplot at 0x114a65e10>"
      ]
     },
     "execution_count": 29,
     "metadata": {},
     "output_type": "execute_result"
    },
    {
     "data": {
      "image/png": "[encoded data removed]",
      "text/plain": [
       "<matplotlib.figure.Figure at 0x114a65550>"
      ]
     },
     "metadata": {},
     "output_type": "display_data"
    }
   ],
   "source": [
    "fly['CRSDepTime'].hist(bins=24) #(24 - per hour)"
   ]
  },
  {
   "cell_type": "code",
   "execution_count": 30,
   "metadata": {},
   "outputs": [
    {
     "data": {
      "text/plain": [
       "<matplotlib.axes._subplots.AxesSubplot at 0x114a650b8>"
      ]
     },
     "execution_count": 30,
     "metadata": {},
     "output_type": "execute_result"
    },
    {
     "data": {
      "image/png": "[encoded data removed]",
      "text/plain": [
       "<matplotlib.figure.Figure at 0x110e9eb38>"
      ]
     },
     "metadata": {},
     "output_type": "display_data"
    }
   ],
   "source": [
    "scaler(fly['CRSDepTime']).hist(bins=24)"
   ]
  },
  {
   "cell_type": "code",
   "execution_count": 31,
   "metadata": {},
   "outputs": [
    {
     "data": {
      "text/plain": [
       "<matplotlib.axes._subplots.AxesSubplot at 0x1118f7438>"
      ]
     },
     "execution_count": 31,
     "metadata": {},
     "output_type": "execute_result"
    },
    {
     "data": {
      "image/png": "[encoded data removed]",
      "text/plain": [
       "<matplotlib.figure.Figure at 0x111fcfe10>"
      ]
     },
     "metadata": {},
     "output_type": "display_data"
    }
   ],
   "source": [
    "fly['FlightNum'].hist(bins=40) "
   ]
  },
  {
   "cell_type": "markdown",
   "metadata": {},
   "source": [
    "Некоторые из признаков являются категориальными. Типичным подходом к работе с ними является бинарное, или [one-hot-кодирование](https://en.wikipedia.org/wiki/One-hot).\n"
   ]
  },
  {
   "cell_type": "code",
   "execution_count": 44,
   "metadata": {
    "collapsed": true
   },
   "outputs": [],
   "source": [
    "fly = fly[fly['Cancelled'] == 0]"
   ]
  },
  {
   "cell_type": "code",
   "execution_count": 74,
   "metadata": {
    "collapsed": true
   },
   "outputs": [],
   "source": [
    "features_to_drop = ['TailNum','DayofMonth','Cancelled','DepDelay']"
   ]
  },
  {
   "cell_type": "code",
   "execution_count": 85,
   "metadata": {
    "collapsed": true
   },
   "outputs": [],
   "source": [
    "categorical_features = ['DayOfWeek','UniqueCarrier','FlightNum','Origin','Dest']## one-hot-encoding"
   ]
  },
  {
   "cell_type": "code",
   "execution_count": 76,
   "metadata": {
    "collapsed": true
   },
   "outputs": [],
   "source": [
    "num_features = ['CRSDepTime','CRSArrTime','CRSElapsedTime','Distance']"
   ]
  },
  {
   "cell_type": "code",
   "execution_count": 77,
   "metadata": {
    "collapsed": true
   },
   "outputs": [],
   "source": [
    "target = fly['DepDelay']"
   ]
  },
  {
   "cell_type": "code",
   "execution_count": 78,
   "metadata": {
    "collapsed": true
   },
   "outputs": [],
   "source": [
    "def one_hot(column, column_name):\n",
    "    df = pd.DataFrame()\n",
    "    unique_values = column.unique()\n",
    "    for value in unique_values:\n",
    "        df[column_name+'_'+str(value)] = (column == value).astype(int)\n",
    "    return df"
   ]
  },
  {
   "cell_type": "code",
   "execution_count": 88,
   "metadata": {
    "collapsed": true
   },
   "outputs": [],
   "source": [
    "from sklearn.preprocessing import OneHotEncoder\n",
    "from sklearn import preprocessing\n",
    "def create_df(X_,features_to_drop,categorical_features,num_features):\n",
    "    X = X_.copy()\n",
    "    for column in features_to_drop:\n",
    "        del X[column]\n",
    "        print(column)\n",
    "    for column in categorical_features:\n",
    "        le = preprocessing.LabelEncoder()\n",
    "        X[column] = le.fit_transform(X[column])\n",
    "    for column in num_features:\n",
    "        X[column] = scaler(X[column])\n",
    "        print(column)\n",
    "    print(1)\n",
    "    enc = OneHotEncoder(categorical_features=\\\n",
    "    [i for i, col in enumerate(X.columns) if col in categorical_features])\n",
    "    X = enc.fit_transform(X)\n",
    "    \n",
    "    return X"
   ]
  },
  {
   "cell_type": "code",
   "execution_count": 89,
   "metadata": {},
   "outputs": [
    {
     "name": "stdout",
     "output_type": "stream",
     "text": [
      "TailNum\n",
      "DayofMonth\n",
      "Cancelled\n",
      "DepDelay\n",
      "CRSDepTime\n",
      "CRSArrTime\n",
      "CRSElapsedTime\n",
      "Distance\n",
      "1\n"
     ]
    }
   ],
   "source": [
    "X = create_df(fly,features_to_drop,categorical_features,num_features)"
   ]
  },
  {
   "cell_type": "code",
   "execution_count": 92,
   "metadata": {},
   "outputs": [
    {
     "data": {
      "text/plain": [
       "<68589x7603 sparse matrix of type '<class 'numpy.float64'>'\n",
       "\twith 685890 stored elements in COOrdinate format>"
      ]
     },
     "execution_count": 92,
     "metadata": {},
     "output_type": "execute_result"
    }
   ],
   "source": [
    "X"
   ]
  },
  {
   "cell_type": "code",
   "execution_count": 93,
   "metadata": {
    "scrolled": true
   },
   "outputs": [
    {
     "data": {
      "text/plain": [
       "0        16.0\n",
       "1        16.0\n",
       "2        -2.0\n",
       "3        -3.0\n",
       "4        -5.0\n",
       "5        24.0\n",
       "6        -1.0\n",
       "7        -5.0\n",
       "8        -4.0\n",
       "9        -2.0\n",
       "10       42.0\n",
       "12       11.0\n",
       "13       -7.0\n",
       "14       18.0\n",
       "15       -9.0\n",
       "16       -3.0\n",
       "17        1.0\n",
       "18       20.0\n",
       "19       -1.0\n",
       "20       -7.0\n",
       "21       -3.0\n",
       "22       -3.0\n",
       "23       32.0\n",
       "24       -4.0\n",
       "25        1.0\n",
       "26       -8.0\n",
       "27       -1.0\n",
       "28        0.0\n",
       "29       -4.0\n",
       "30       -7.0\n",
       "         ... \n",
       "69970     2.0\n",
       "69971    11.0\n",
       "69972    10.0\n",
       "69973    -3.0\n",
       "69974    -1.0\n",
       "69975    30.0\n",
       "69976    -1.0\n",
       "69977     5.0\n",
       "69978    -5.0\n",
       "69979    -7.0\n",
       "69980    15.0\n",
       "69981    34.0\n",
       "69982    -9.0\n",
       "69983    -4.0\n",
       "69984   -10.0\n",
       "69985    -3.0\n",
       "69986    -4.0\n",
       "69987    -8.0\n",
       "69988    -1.0\n",
       "69989    -2.0\n",
       "69990    -3.0\n",
       "69991    -6.0\n",
       "69992    -7.0\n",
       "69993    10.0\n",
       "69994    -5.0\n",
       "69995   -11.0\n",
       "69996    24.0\n",
       "69997     0.0\n",
       "69998     6.0\n",
       "69999    -1.0\n",
       "Name: DepDelay, Length: 68589, dtype: float64"
      ]
     },
     "execution_count": 93,
     "metadata": {},
     "output_type": "execute_result"
    }
   ],
   "source": [
    "target"
   ]
  },
  {
   "cell_type": "code",
   "execution_count": null,
   "metadata": {
    "collapsed": true
   },
   "outputs": [],
   "source": []
  },
  {
   "cell_type": "markdown",
   "metadata": {},
   "source": [
    "Разделим выборку и вектор целевой переменной на обучение и контроль в отношении 70/30 (для этого можно использовать, например, функцию [train_test_split](http://scikit-learn.org/stable/modules/generated/sklearn.cross_validation.train_test_split.html)). "
   ]
  },
  {
   "cell_type": "code",
   "execution_count": null,
   "metadata": {
    "collapsed": true
   },
   "outputs": [],
   "source": [
    "X_train, X_test = X[X['Month'] < 11], X[X['Month'] >= 11]\n",
    "target = fly['DepDelay']"
   ]
  },
  {
   "cell_type": "markdown",
   "metadata": {},
   "source": [
    "### Scikit-learn\n",
    "\n",
    "<img src = \"https://pp.vk.me/c4534/u35727827/93547647/x_d31c4463.jpg\">\n",
    "Теперь, когда мы привели данные к пригодному виду, попробуем решить задачу при помощи метода наименьших квадратов. Напомним, что данный метод заключается в оптимизации функционала $MSE$:\n",
    "\n",
    "$$MSE(X, y) = \\frac{1}{l} \\sum_{i=1}^l (<w, x_i> - y_i)^2 \\to \\min_{w},$$\n",
    "\n",
    "где $\\{ (x_i, y_i ) \\}_{i=1}^l$ — обучающая выборка, состоящая из $l$ пар объект-ответ.\n",
    "\n",
    "Решение данной задачи уже реализовано в модуле sklearn в виде класса [LinearRegression](http://scikit-learn.org/stable/modules/generated/sklearn.linear_model.LinearRegression.html#sklearn.linear_model.LinearRegression).\n"
   ]
  },
  {
   "cell_type": "code",
   "execution_count": 96,
   "metadata": {
    "collapsed": true
   },
   "outputs": [],
   "source": [
    "import sklearn\n",
    "from sklearn import linear_model#.LinearRegression"
   ]
  },
  {
   "cell_type": "code",
   "execution_count": 101,
   "metadata": {
    "collapsed": true
   },
   "outputs": [],
   "source": [
    "model = linear_model.LinearRegression()"
   ]
  },
  {
   "cell_type": "code",
   "execution_count": 102,
   "metadata": {},
   "outputs": [
    {
     "data": {
      "text/plain": [
       "LinearRegression(copy_X=True, fit_intercept=True, n_jobs=1, normalize=False)"
      ]
     },
     "execution_count": 102,
     "metadata": {},
     "output_type": "execute_result"
    }
   ],
   "source": [
    "model.fit(X,target)"
   ]
  },
  {
   "cell_type": "code",
   "execution_count": 106,
   "metadata": {},
   "outputs": [
    {
     "data": {
      "text/plain": [
       "array([ -0.47163973,  -1.97487162,  -2.90232714, ...,   1.56169812,\n",
       "        14.05026361, -13.30759747])"
      ]
     },
     "execution_count": 106,
     "metadata": {},
     "output_type": "execute_result"
    }
   ],
   "source": [
    "model.coef_"
   ]
  },
  {
   "cell_type": "code",
   "execution_count": 107,
   "metadata": {
    "collapsed": true
   },
   "outputs": [],
   "source": [
    "predicted = model.predict(X)"
   ]
  },
  {
   "cell_type": "code",
   "execution_count": 108,
   "metadata": {
    "collapsed": true
   },
   "outputs": [],
   "source": [
    "from sklearn.metrics import mean_squared_error"
   ]
  },
  {
   "cell_type": "code",
   "execution_count": 110,
   "metadata": {},
   "outputs": [
    {
     "data": {
      "text/plain": [
       "31.7529200135475"
      ]
     },
     "execution_count": 110,
     "metadata": {},
     "output_type": "execute_result"
    }
   ],
   "source": [
    "np.sqrt(mean_squared_error(target,predicted)) # "
   ]
  },
  {
   "cell_type": "code",
   "execution_count": null,
   "metadata": {
    "collapsed": true
   },
   "outputs": [],
   "source": []
  }
 ],
 "metadata": {
  "anaconda-cloud": {},
  "kernelspec": {
   "display_name": "Python 3",
   "language": "python",
   "name": "python3"
  },
  "language_info": {
   "codemirror_mode": {
    "name": "ipython",
    "version": 3
   },
   "file_extension": ".py",
   "mimetype": "text/x-python",
   "name": "python",
   "nbconvert_exporter": "python",
   "pygments_lexer": "ipython3",
   "version": "3.6.3"
  }
 },
 "nbformat": 4,
 "nbformat_minor": 1
}
